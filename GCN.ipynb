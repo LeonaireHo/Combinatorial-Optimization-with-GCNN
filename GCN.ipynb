{
 "cells": [
  {
   "cell_type": "code",
   "execution_count": 1,
   "metadata": {},
   "outputs": [],
   "source": [
    "import os\n",
    "import numpy as np\n",
    "from tqdm import tqdm\n",
    "import matplotlib.pyplot as plt\n",
    "\n",
    "import torch\n",
    "import torch.nn as nn\n",
    "import torch.nn.functional as F\n",
    "from torch.optim import Adam\n",
    "from torch.utils.data import DataLoader\n",
    "from torch.nn import init\n",
    "from tabulate import tabulate\n",
    "import csv\n",
    "from focal_Loss import *\n",
    "from utility import *\n",
    "from torch.utils.tensorboard import SummaryWriter  \n"
   ]
  },
  {
   "cell_type": "markdown",
   "metadata": {},
   "source": [
    "# Read dataset"
   ]
  },
  {
   "cell_type": "code",
   "execution_count": 2,
   "metadata": {},
   "outputs": [
    {
     "name": "stderr",
     "output_type": "stream",
     "text": [
      "100%|████████████████████████████████████████████████████████████████████████████████| 200/200 [00:07<00:00, 25.54it/s]\n"
     ]
    },
    {
     "name": "stdout",
     "output_type": "stream",
     "text": [
      "cuda\n"
     ]
    }
   ],
   "source": [
    "# data_name = \"SC1500\"\n",
    "data_name = \"CFL30\"\n",
    "\n",
    "data_path = \"DataSet\"+data_name+\"/\"\n",
    "split = [0.80,0.10,0.10]\n",
    "\n",
    "dataSet = load_data(data_path)\n",
    "\n",
    "data_train,data_validation,data_test = torch.utils.data.random_split(dataSet,[int(len(dataSet) * s) for s in split])\n",
    "# print(dataSet[0]['A'])\n",
    "# for l in dataSet[0]['A']:\n",
    "#     for i in l:\n",
    "#         print(int(i!=0),end = '\\t')\n",
    "#     print()\n",
    "\n",
    "# data_train_X,data_train_Y,data_validation_X,data_validation_Y,data_test_X,data_test_Y,A = load_data()\n",
    "# print(data_train_X.shape)\n",
    "# print(data_train_Y.shape)\n",
    "# print(A.shape)\n",
    "def setup_seed(seed):\n",
    "    torch.manual_seed(seed)\n",
    "    torch.cuda.manual_seed_all(seed)\n",
    "    np.random.seed(seed)\n",
    "    torch.backends.cudnn.deterministic = True\n",
    "\n",
    "device = torch.device(\"cuda\" if torch.cuda.is_available() else \"cpu\")\n",
    "os.environ[\"CUDA_VISIBLE_DEVICES\"] = \"0\"\n",
    "print(device)\n",
    "if device == torch.device(\"cuda\"):\n",
    "#     torch.cuda.empty_cache()\n",
    "    data_train_gpu = []\n",
    "    for i in range(len(data_train)):\n",
    "        inputs, labels = torch.from_numpy(data_train[i]['X']).float(),torch.from_numpy(data_train[i]['Y']).type(torch.FloatTensor).float()\n",
    "        A = torch.from_numpy(data_train[i]['A']).float()\n",
    "        inputs = inputs.to(device)\n",
    "        labels = labels.to(device)\n",
    "        A = A.to(device)\n",
    "        data_train_gpu.append([inputs,labels,A])\n",
    "    data_valide_gpu = []\n",
    "    for i in range(len(data_validation)):\n",
    "        inputs, labels = torch.from_numpy(data_validation[i]['X']).float(),torch.from_numpy(data_validation[i]['Y']).type(torch.FloatTensor).float()\n",
    "        A = torch.from_numpy(data_validation[i]['A']).float()\n",
    "        inputs = inputs.to(device)\n",
    "        labels = labels.to(device)\n",
    "        A = A.to(device)\n",
    "        data_valide_gpu.append([inputs,labels,A])\n",
    "        \n",
    "    data_test_gpu = []\n",
    "    for i in range(len(data_test)):\n",
    "        inputs, labels = torch.from_numpy(data_test[i]['X']).float(),torch.from_numpy(data_test[i]['Y']).type(torch.FloatTensor).float()\n",
    "        A = torch.from_numpy(data_test[i]['A']).float()\n",
    "        inputs = inputs.to(device)\n",
    "        labels = labels.to(device)\n",
    "        A = A.to(device)\n",
    "        data_test_gpu.append([inputs,labels,A])"
   ]
  },
  {
   "cell_type": "code",
   "execution_count": 3,
   "metadata": {},
   "outputs": [],
   "source": [
    "def valide(model,criterion,data_validation,with_diving = False,proportion = 0.7):\n",
    "        vloss = []\n",
    "        accuracy_value = []\n",
    "        accuracy_instance = []\n",
    "        \n",
    "        accuracy_one = []\n",
    "        accuracy_one_predict = []\n",
    "        nb_predict_one = []\n",
    "        nb_one = []\n",
    "        \n",
    "        accuracy_zero = []\n",
    "        accuracy_zero_predict = []\n",
    "        nb_zero = []\n",
    "        nb_predict_zero = []\n",
    "        \n",
    "        accuracy_fixe_one = []\n",
    "        accuracy_fixe_zero = []  \n",
    "        accuracy_fixe = []\n",
    "        \n",
    "        data_size = len(data_validation)\n",
    "        for i in range(data_size):\n",
    "            if device == torch.device(\"cuda\"):\n",
    "                inputs, labels = data_validation[i][0],data_validation[i][1]#torch.from_numpy(data_train[i]['X']).float(),torch.from_numpy(data_train[i]['Y']).type(torch.FloatTensor).float()\n",
    "                A =data_validation[i][2]# torch.from_numpy(data_train[i]['A']).float()\n",
    "            else:\n",
    "                inputs, labels =torch.from_numpy(data_train[i]['X']).float(),torch.from_numpy(data_train[i]['Y']).type(torch.FloatTensor).float()\n",
    "                A =torch.from_numpy(data_train[i]['A']).float()\n",
    "            \n",
    "            if with_diving:\n",
    "                x,y = model(inputs,A)\n",
    "                predictions = x[:len(labels)].squeeze(dim=-1)\n",
    "                pred_y = y[:len(labels)].squeeze(dim=-1)\n",
    "                loss =criterion([predictions,pred_y],labels)\n",
    "            else:\n",
    "                predictions = net(inputs,A)[:len(labels)].squeeze(dim=-1)\n",
    "                loss =criterion(predictions,labels)\n",
    "            \n",
    "            A = A.cpu()\n",
    "            labels = labels.cpu()\n",
    "\n",
    "            predictions = predictions.cpu()\n",
    "            nb_one_total = torch.sum(torch.where(labels == 1,1,0))\n",
    "            nb_zero_total = (len(labels) - nb_one_total)\n",
    "            aux= torch.Tensor([0.5])\n",
    "            y_hat = (predictions > aux).float() * 1\n",
    "            is_equal = torch.where(y_hat == labels,1,0)\n",
    "            vloss.append(loss.cpu().detach().numpy())\n",
    "            accuracy_value.append(is_equal.cpu().sum().detach().numpy()/\n",
    "                           len(labels))\n",
    "            accuracy_instance.append(int(accuracy_value[-1]==1))\n",
    "            #accuracy proportion\n",
    "            predictions_abs =  np.abs(0.5 - predictions.detach().numpy())\n",
    "            thresholds = abs(np.sort(-predictions_abs))[int(proportion * len(predictions.cpu().detach().numpy()))- 1]\n",
    "#             thresholds_low = np.sort(predictions_abs)[int(proportion_low * nb_zero_total]\n",
    "#             thresholds_up = abs(np.sort(-predictions_abs))[int(proportion_up * nb_one_total)]\n",
    "            \n",
    "            #accuracy for differents labels(0 or 1)\n",
    "            nb_one_fixe = 0\n",
    "            nb_zero_fixe = 0\n",
    "            nb_correct_one = 0\n",
    "            nb_correct_zero = 0\n",
    "            nb_correct_fixe_one = 0\n",
    "            nb_correct_fixe_zero = 0\n",
    "            nb_correct_fixe = 0\n",
    "            nb_fixe = 0 \n",
    "            for j,v in enumerate(is_equal):\n",
    "                if labels[j] == 1:\n",
    "                    nb_correct_one += v\n",
    "                else:\n",
    "                    nb_correct_zero += v\n",
    "\n",
    "                if predictions_abs[j] >= thresholds:             \n",
    "                    if labels[j]:\n",
    "                        nb_correct_fixe_one += v\n",
    "                    else:\n",
    "                        nb_correct_fixe_zero += v\n",
    "                        \n",
    "                    if y_hat[j]:\n",
    "                        nb_one_fixe += 1\n",
    "                    else:\n",
    "                        nb_zero_fixe += 1\n",
    "\n",
    "#                 if predictions_abs[j] <= thresholds_low:\n",
    "#                     if labels[j] == 0:\n",
    "#                         nb_correct_fixe_zero += v\n",
    "#                     nb_zero_to_fixe += 1\n",
    "#                 if predictions_abs[j] >= thresholds_up:\n",
    "#                     if labels[j] == 1:\n",
    "#                         nb_correct_fixe_one += v\n",
    "#                     nb_one_to_fixe += 1\n",
    "                    \n",
    "            nb_one_total = torch.sum(torch.where(labels == 1,1,0))\n",
    "            nb_one_predict = torch.sum(torch.where(y_hat == 1,1,0))\n",
    "            accuracy_one.append((nb_correct_one/nb_one_total))\n",
    "            accuracy_one_predict.append((nb_correct_one/nb_one_predict) if nb_one_predict > 0 else 0)\n",
    "            nb_predict_one.append(nb_one_predict)\n",
    "            nb_one.append(nb_one_total)\n",
    "            \n",
    "            nb_zero_predict = (len(labels) - nb_one_predict)\n",
    "            accuracy_zero.append((nb_correct_zero/nb_zero_total))\n",
    "            accuracy_zero_predict.append((nb_correct_zero/nb_zero_predict) if nb_zero_predict > 0 else 0)\n",
    "            nb_predict_zero.append(nb_zero_predict)\n",
    "            nb_zero.append(nb_zero_total)\n",
    "            \n",
    "#             print(inputs,A,nb_one_fixe,nb_zero_fixe)\n",
    "            accuracy_fixe.append((nb_correct_fixe_one+nb_correct_fixe_zero)/(nb_one_fixe+nb_zero_fixe)if (nb_one_fixe+nb_zero_fixe)>0 else 0)\n",
    "            accuracy_fixe_one.append(nb_correct_fixe_one/nb_one_fixe if nb_one_fixe>0 else 0)\n",
    "            accuracy_fixe_zero.append(nb_correct_fixe_zero/nb_zero_fixe if nb_zero_fixe>0 else 0)\n",
    "            \n",
    "        #     print(nb_correct_fixe.cpu(),nb_var_fixe)\n",
    "        #         print(labels,\"\\n\",predictions)\n",
    "        #         print(labels[0:10],y_hat[0:10])\n",
    "        msg = (\"Loss = %f,Accuracy_value = %f,Accuracy_instance = %f\\n\"\\\n",
    "              %(np.mean(vloss),np.mean(accuracy_value),np.sum(accuracy_instance)/len(accuracy_instance)))\n",
    "        msg +=(\"Label_One_Predict_One = %f,Predict_One_Label_One = %f,Nombre_Predict_One = %f,Nombre_One_Mean = %f\\n\"\\\n",
    "              %(np.mean(accuracy_one),np.mean(accuracy_one_predict),np.mean(nb_predict_one),np.mean(nb_one)))\n",
    "        msg +=(\"Label_Zero_Predict_Zero = %f,Label_Zero_Predict_Zero = %f,Nombre_Predict_Zero = %f,Nombre_Zero_Mean = %f\\n\"\\\n",
    "              %(np.mean(accuracy_zero),np.mean(accuracy_zero_predict),np.mean(nb_predict_zero),np.mean(nb_zero)))\n",
    "        msg +=(\"Accuracy_fixe_mean = %f,Accuracy_fixe_one = %f,Accuracy_fixe_zero = %f\\n\"\\\n",
    "              %(np.mean(accuracy_fixe),np.mean(accuracy_fixe_one),np.mean(accuracy_fixe_zero)))\n",
    "        print(msg)\n",
    "        return msg,np.mean(accuracy_value),np.sum(accuracy_instance)/len(accuracy_instance),np.mean(accuracy_fixe_one),np.mean(accuracy_fixe_zero),np.mean(accuracy_one_predict),np.mean(accuracy_zero_predict)"
   ]
  },
  {
   "cell_type": "markdown",
   "metadata": {},
   "source": [
    "# GCN"
   ]
  },
  {
   "cell_type": "code",
   "execution_count": 4,
   "metadata": {},
   "outputs": [],
   "source": [
    "class simpleMLP(nn.Module):\n",
    "    def __init__(self, input_size, out_size,activate = nn.ReLU()):\n",
    "        super(simpleMLP, self).__init__()\n",
    "        self.linear = nn.Linear(input_size, out_size)\n",
    "        self.activate = activate\n",
    "        \n",
    "    def forward(self, x):\n",
    "        x = self.linear(x)\n",
    "        x = self.activate(x)\n",
    "        return x\n",
    "    \n",
    "class GNN(nn.Module):\n",
    "    def __init__(self, input_size,hidden_size,nb_MLP,layerNorm = False):\n",
    "        super(GNN,self).__init__()\n",
    "        self.size_mlp = nb_MLP\n",
    "        self.mlp = nn.ModuleList(\n",
    "            [simpleMLP(input_size, hidden_size)]+[simpleMLP(hidden_size, hidden_size)]+[simpleMLP(hidden_size*2, hidden_size) for i in range(self.size_mlp - 2)]   \n",
    "        )\n",
    "        self.layerNorm = nn.ModuleList(\n",
    "            [nn.LayerNorm(hidden_size) for i in range(self.size_mlp)]\n",
    "        )\n",
    "    \n",
    "    def forward(self, x, A):\n",
    "        for i in range(self.size_mlp):\n",
    "            x = self.mlp[i](x)\n",
    "            y = A @ x\n",
    "            y = self.layerNorm[i](y)\n",
    "            if i != 0:\n",
    "                x = torch.cat([y,x],1)#sum plutot que con\n",
    "            else:\n",
    "                x = y\n",
    "        return x\n",
    "    \n",
    "class VariablePredictor(nn.Module):\n",
    "    def __init__(self, input_size,hidden_size,nb_MLP):\n",
    "        super(VariablePredictor,self).__init__()\n",
    "        self.GNN = GNN(input_size,hidden_size,nb_MLP)\n",
    "        self.outlayer_x = simpleMLP(hidden_size*2,1,nn.Sigmoid())    \n",
    "    \n",
    "    def forward(self,x,A):\n",
    "        x = self.GNN(x,A)\n",
    "        return self.outlayer(x)\n",
    "    \n",
    "class VariablePredictorDiving(nn.Module):\n",
    "    def __init__(self, input_size,hidden_size,nb_MLP):\n",
    "        super(VariablePredictorDiving,self).__init__()\n",
    "        self.GNN = GNN(input_size,hidden_size,nb_MLP)\n",
    "        self.outlayer_x = simpleMLP(hidden_size*2,1,nn.Sigmoid())    \n",
    "        self.outlayer_y = simpleMLP(hidden_size*2,1,nn.Sigmoid())    \n",
    "        \n",
    "    def forward(self,x,A):\n",
    "        x = self.GNN(x,A)\n",
    "        return self.outlayer_x(x),self.outlayer_y(x)\n",
    "     "
   ]
  },
  {
   "cell_type": "markdown",
   "metadata": {},
   "source": [
    "## Train\n"
   ]
  },
  {
   "cell_type": "code",
   "execution_count": 5,
   "metadata": {},
   "outputs": [],
   "source": [
    "def train(net,criterion,optm,data_valide,proportion,writer,\n",
    "              batch_size = 1,EPOCHS=500,do_valide = True,do_log = True,epochs_continue = 0,with_diving = False):\n",
    "    aux= torch.Tensor([0.5]).to(device)\n",
    "    for epoch in tqdm(range(epochs_continue,epochs_continue+EPOCHS)):\n",
    "        #validation\n",
    "        if do_valide and epoch % 50 == 0:\n",
    "            v = valide(net,criterion,data_valide,with_diving,proportion)\n",
    "            if do_log:\n",
    "                writer.add_scalar('Accuracy_fixe_one ', v[3], epoch)\n",
    "                writer.add_scalar('Accuracy_fixe_zero ', v[4], epoch)\n",
    "                writer.add_scalar('Accuracy_one ', v[5], epoch)\n",
    "                writer.add_scalar('Accuracy_zero ', v[6], epoch)\n",
    "        #train\n",
    "        data_size = len(data_train)\n",
    "        log = []\n",
    "        for i in range(data_size):\n",
    "            if device == torch.device(\"cuda\"):\n",
    "                train_inputs, train_labels = data_train_gpu[i][0],data_train_gpu[i][1]#torch.from_numpy(data_train[i]['X']).float(),torch.from_numpy(data_train[i]['Y']).type(torch.FloatTensor).float()\n",
    "                A =data_train_gpu[i][2]# torch.from_numpy(data_train[i]['A']).float()\n",
    "            else:\n",
    "                train_inputs, train_labels = torch.from_numpy(data_train[i]['X']).float(),torch.from_numpy(data_train[i]['Y']).type(torch.FloatTensor).float()\n",
    "                A = torch.from_numpy(data_train[i]['A']).float()    \n",
    "            \n",
    "            if with_diving:\n",
    "                x,y = net(train_inputs,A)\n",
    "                predictions = x[:len(train_labels)].squeeze(dim=-1)\n",
    "                pred_y = y[:len(train_labels)].squeeze(dim=-1)\n",
    "                loss =criterion([predictions,pred_y],train_labels)\n",
    "            else:\n",
    "                predictions = net(train_inputs,A)[:len(train_labels)].squeeze(dim=-1)\n",
    "                loss =criterion(predictions,train_labels)\n",
    "            \n",
    "            loss.backward()\n",
    "            if epoch % batch_size == 0:\n",
    "                optm.step()\n",
    "                optm.zero_grad()\n",
    "            if do_log:\n",
    "                writer.add_scalar('LearningRate',optm.param_groups[0]['lr'], epoch)\n",
    "            scheduler.step()\n",
    "            gradient_norm = 0\n",
    "            for p in net.parameters():\n",
    "                param_norm = p.grad.detach().data.norm(2)\n",
    "                gradient_norm += param_norm.item() ** 2\n",
    "            gradient_norm = gradient_norm ** 0.5\n",
    "            y_hat = (predictions > aux).float() * 1\n",
    "            is_equal = torch.where(y_hat == train_labels,1,0)\n",
    "            acc = is_equal.cpu().sum().detach().numpy()/len(train_labels)\n",
    "            log.append([loss.cpu().detach().numpy(),acc,gradient_norm])\n",
    "        \n",
    "        log = np.array(log).T\n",
    "        if do_log:\n",
    "            writer.add_scalar('Loss', np.mean(log[0]), epoch)\n",
    "            writer.add_scalar('Accuracy', np.mean(log[1]), epoch)\n",
    "            writer.add_scalar('Gradient_norm', np.mean(log[2]), epoch)\n"
   ]
  },
  {
   "cell_type": "code",
   "execution_count": 18,
   "metadata": {},
   "outputs": [],
   "source": [
    "import torch\n",
    "import torch.nn as nn\n",
    "import torch.nn.functional as F\n",
    "from torch.autograd import Variable\n",
    "class SelectiveLoss(nn.Module):  \n",
    "    def __init__(self, C=0.75,lam = 0.5):\n",
    "        super(SelectiveLoss, self).__init__() \n",
    "        self.C = C  \n",
    "        self.lam = lam\n",
    "            \n",
    "    def forward(self, predictions, labels):\n",
    "        pred_x,pred_y = predictions\n",
    "        bce = nn.BCELoss()\n",
    "        \n",
    "        frequency = self.lam * torch.square(self.C - torch.mean(pred_y))\n",
    "        loss = nn.BCELoss(weight=pred_y.detach(), reduction='sum')(pred_x, labels) / torch.sum(pred_y)  + frequency\n",
    "        return loss+bce(pred_x,labels)\n",
    "#         loss =  -torch.sum(torch.log(torch.where(labels > 0, torch.maximum(torch.minimum(pred_x,torch.tensor(1-10e-6)),torch.tensor(10e-6)), \\\n",
    "#                             torch.maximum(torch.minimum(1-pred_x,torch.tensor(1-10e-6)),torch.tensor(10e-6)))*pred_y))\\\n",
    "#                            /torch.sum(pred_y) + frequency"
   ]
  },
  {
   "cell_type": "code",
   "execution_count": 19,
   "metadata": {},
   "outputs": [
    {
     "name": "stderr",
     "output_type": "stream",
     "text": [
      "\r",
      "  0%|                                                                                         | 0/1000 [00:00<?, ?it/s]"
     ]
    },
    {
     "name": "stdout",
     "output_type": "stream",
     "text": [
      "Loss = 1.397938,Accuracy_value = 0.369409,Accuracy_instance = 0.000000\n",
      "Label_One_Predict_One = 0.872155,Predict_One_Label_One = 0.043419,Nombre_Predict_One = 735.550000,Nombre_One_Mean = 34.650000\n",
      "Label_Zero_Predict_Zero = 0.352744,Label_Zero_Predict_Zero = 0.988276,Nombre_Predict_Zero = 380.450000,Nombre_Zero_Mean = 1081.350000\n",
      "Accuracy_fixe_mean = 0.443369,Accuracy_fixe_one = 0.058521,Accuracy_fixe_zero = 0.989455\n",
      "\n"
     ]
    },
    {
     "name": "stderr",
     "output_type": "stream",
     "text": [
      "  5%|████                                                                            | 50/1000 [01:16<23:59,  1.51s/it]"
     ]
    },
    {
     "name": "stdout",
     "output_type": "stream",
     "text": [
      "Loss = 0.148474,Accuracy_value = 0.976792,Accuracy_instance = 0.000000\n",
      "Label_One_Predict_One = 0.453861,Predict_One_Label_One = 0.720313,Nombre_Predict_One = 22.000000,Nombre_One_Mean = 34.650000\n",
      "Label_Zero_Predict_Zero = 0.994053,Label_Zero_Predict_Zero = 0.982179,Nombre_Predict_Zero = 1094.000000,Nombre_Zero_Mean = 1081.350000\n",
      "Accuracy_fixe_mean = 0.994780,Accuracy_fixe_one = 0.000000,Accuracy_fixe_zero = 0.994780\n",
      "\n"
     ]
    },
    {
     "name": "stderr",
     "output_type": "stream",
     "text": [
      " 10%|███████▉                                                                       | 100/1000 [02:31<22:29,  1.50s/it]"
     ]
    },
    {
     "name": "stdout",
     "output_type": "stream",
     "text": [
      "Loss = 0.154443,Accuracy_value = 0.974892,Accuracy_instance = 0.000000\n",
      "Label_One_Predict_One = 0.514596,Predict_One_Label_One = 0.630413,Nombre_Predict_One = 28.300000,Nombre_One_Mean = 34.650000\n",
      "Label_Zero_Predict_Zero = 0.990050,Label_Zero_Predict_Zero = 0.984094,Nombre_Predict_Zero = 1087.700000,Nombre_Zero_Mean = 1081.350000\n",
      "Accuracy_fixe_mean = 0.994019,Accuracy_fixe_one = 0.050000,Accuracy_fixe_zero = 0.994086\n",
      "\n"
     ]
    },
    {
     "name": "stderr",
     "output_type": "stream",
     "text": [
      " 15%|███████████▊                                                                   | 150/1000 [03:47<21:12,  1.50s/it]"
     ]
    },
    {
     "name": "stdout",
     "output_type": "stream",
     "text": [
      "Loss = 0.165096,Accuracy_value = 0.974588,Accuracy_instance = 0.000000\n",
      "Label_One_Predict_One = 0.394512,Predict_One_Label_One = 0.684373,Nombre_Predict_One = 20.100000,Nombre_One_Mean = 34.650000\n",
      "Label_Zero_Predict_Zero = 0.993790,Label_Zero_Predict_Zero = 0.980220,Nombre_Predict_Zero = 1095.900000,Nombre_Zero_Mean = 1081.350000\n",
      "Accuracy_fixe_mean = 0.992339,Accuracy_fixe_one = 0.500000,Accuracy_fixe_zero = 0.992640\n",
      "\n"
     ]
    },
    {
     "name": "stderr",
     "output_type": "stream",
     "text": [
      " 20%|███████████████▊                                                               | 200/1000 [05:03<19:57,  1.50s/it]"
     ]
    },
    {
     "name": "stdout",
     "output_type": "stream",
     "text": [
      "Loss = 0.186473,Accuracy_value = 0.972204,Accuracy_instance = 0.000000\n",
      "Label_One_Predict_One = 0.439160,Predict_One_Label_One = 0.594629,Nombre_Predict_One = 25.800000,Nombre_One_Mean = 34.650000\n",
      "Label_Zero_Predict_Zero = 0.989824,Label_Zero_Predict_Zero = 0.981598,Nombre_Predict_Zero = 1090.200000,Nombre_Zero_Mean = 1081.350000\n",
      "Accuracy_fixe_mean = 0.991532,Accuracy_fixe_one = 0.684167,Accuracy_fixe_zero = 0.992136\n",
      "\n"
     ]
    },
    {
     "name": "stderr",
     "output_type": "stream",
     "text": [
      " 25%|███████████████████▊                                                           | 250/1000 [06:19<18:43,  1.50s/it]"
     ]
    },
    {
     "name": "stdout",
     "output_type": "stream",
     "text": [
      "Loss = 0.197890,Accuracy_value = 0.971093,Accuracy_instance = 0.000000\n",
      "Label_One_Predict_One = 0.422946,Predict_One_Label_One = 0.560628,Nombre_Predict_One = 25.900000,Nombre_One_Mean = 34.650000\n",
      "Label_Zero_Predict_Zero = 0.988986,Label_Zero_Predict_Zero = 0.981276,Nombre_Predict_Zero = 1090.100000,Nombre_Zero_Mean = 1081.350000\n",
      "Accuracy_fixe_mean = 0.991622,Accuracy_fixe_one = 0.625714,Accuracy_fixe_zero = 0.992711\n",
      "\n"
     ]
    },
    {
     "name": "stderr",
     "output_type": "stream",
     "text": [
      " 30%|███████████████████████▋                                                       | 300/1000 [07:36<17:32,  1.50s/it]"
     ]
    },
    {
     "name": "stdout",
     "output_type": "stream",
     "text": [
      "Loss = 0.218838,Accuracy_value = 0.970645,Accuracy_instance = 0.000000\n",
      "Label_One_Predict_One = 0.429071,Predict_One_Label_One = 0.553974,Nombre_Predict_One = 26.900000,Nombre_One_Mean = 34.650000\n",
      "Label_Zero_Predict_Zero = 0.988548,Label_Zero_Predict_Zero = 0.981245,Nombre_Predict_Zero = 1089.100000,Nombre_Zero_Mean = 1081.350000\n",
      "Accuracy_fixe_mean = 0.990345,Accuracy_fixe_one = 0.611905,Accuracy_fixe_zero = 0.991740\n",
      "\n"
     ]
    },
    {
     "name": "stderr",
     "output_type": "stream",
     "text": [
      " 35%|███████████████████████████▋                                                   | 350/1000 [09:02<19:36,  1.81s/it]"
     ]
    },
    {
     "name": "stdout",
     "output_type": "stream",
     "text": [
      "Loss = 0.265404,Accuracy_value = 0.969265,Accuracy_instance = 0.000000\n",
      "Label_One_Predict_One = 0.389211,Predict_One_Label_One = 0.536874,Nombre_Predict_One = 25.250000,Nombre_One_Mean = 34.650000\n",
      "Label_Zero_Predict_Zero = 0.988295,Label_Zero_Predict_Zero = 0.980105,Nombre_Predict_Zero = 1090.750000,Nombre_Zero_Mean = 1081.350000\n",
      "Accuracy_fixe_mean = 0.987231,Accuracy_fixe_one = 0.596497,Accuracy_fixe_zero = 0.990242\n",
      "\n"
     ]
    },
    {
     "name": "stderr",
     "output_type": "stream",
     "text": [
      " 40%|███████████████████████████████▌                                               | 400/1000 [10:31<17:44,  1.77s/it]"
     ]
    },
    {
     "name": "stdout",
     "output_type": "stream",
     "text": [
      "Loss = 0.324967,Accuracy_value = 0.967670,Accuracy_instance = 0.000000\n",
      "Label_One_Predict_One = 0.388226,Predict_One_Label_One = 0.503320,Nombre_Predict_One = 26.850000,Nombre_One_Mean = 34.650000\n",
      "Label_Zero_Predict_Zero = 0.986909,Label_Zero_Predict_Zero = 0.979810,Nombre_Predict_Zero = 1089.150000,Nombre_Zero_Mean = 1081.350000\n",
      "Accuracy_fixe_mean = 0.985820,Accuracy_fixe_one = 0.564105,Accuracy_fixe_zero = 0.989490\n",
      "\n"
     ]
    },
    {
     "name": "stderr",
     "output_type": "stream",
     "text": [
      " 45%|███████████████████████████████████▌                                           | 450/1000 [12:01<16:17,  1.78s/it]"
     ]
    },
    {
     "name": "stdout",
     "output_type": "stream",
     "text": [
      "Loss = 0.321033,Accuracy_value = 0.968799,Accuracy_instance = 0.000000\n",
      "Label_One_Predict_One = 0.414904,Predict_One_Label_One = 0.511062,Nombre_Predict_One = 27.950000,Nombre_One_Mean = 34.650000\n",
      "Label_Zero_Predict_Zero = 0.987009,Label_Zero_Predict_Zero = 0.980864,Nombre_Predict_Zero = 1088.050000,Nombre_Zero_Mean = 1081.350000\n",
      "Accuracy_fixe_mean = 0.985798,Accuracy_fixe_one = 0.589515,Accuracy_fixe_zero = 0.989917\n",
      "\n"
     ]
    },
    {
     "name": "stderr",
     "output_type": "stream",
     "text": [
      " 50%|███████████████████████████████████████▌                                       | 500/1000 [13:31<14:49,  1.78s/it]"
     ]
    },
    {
     "name": "stdout",
     "output_type": "stream",
     "text": [
      "Loss = 0.388183,Accuracy_value = 0.967634,Accuracy_instance = 0.000000\n",
      "Label_One_Predict_One = 0.449335,Predict_One_Label_One = 0.499398,Nombre_Predict_One = 31.350000,Nombre_One_Mean = 34.650000\n",
      "Label_Zero_Predict_Zero = 0.984706,Label_Zero_Predict_Zero = 0.981877,Nombre_Predict_Zero = 1084.650000,Nombre_Zero_Mean = 1081.350000\n",
      "Accuracy_fixe_mean = 0.984969,Accuracy_fixe_one = 0.637218,Accuracy_fixe_zero = 0.989912\n",
      "\n"
     ]
    },
    {
     "name": "stderr",
     "output_type": "stream",
     "text": [
      " 55%|███████████████████████████████████████████▍                                   | 550/1000 [15:01<13:24,  1.79s/it]"
     ]
    },
    {
     "name": "stdout",
     "output_type": "stream",
     "text": [
      "Loss = 0.458630,Accuracy_value = 0.968047,Accuracy_instance = 0.000000\n",
      "Label_One_Predict_One = 0.441039,Predict_One_Label_One = 0.500851,Nombre_Predict_One = 30.400000,Nombre_One_Mean = 34.650000\n",
      "Label_Zero_Predict_Zero = 0.985374,Label_Zero_Predict_Zero = 0.981656,Nombre_Predict_Zero = 1085.600000,Nombre_Zero_Mean = 1081.350000\n",
      "Accuracy_fixe_mean = 0.984386,Accuracy_fixe_one = 0.625060,Accuracy_fixe_zero = 0.989403\n",
      "\n"
     ]
    },
    {
     "name": "stderr",
     "output_type": "stream",
     "text": [
      " 60%|███████████████████████████████████████████████▍                               | 600/1000 [16:30<11:42,  1.76s/it]"
     ]
    },
    {
     "name": "stdout",
     "output_type": "stream",
     "text": [
      "Loss = 0.544771,Accuracy_value = 0.966398,Accuracy_instance = 0.000000\n",
      "Label_One_Predict_One = 0.412036,Predict_One_Label_One = 0.477832,Nombre_Predict_One = 30.000000,Nombre_One_Mean = 34.650000\n",
      "Label_Zero_Predict_Zero = 0.984685,Label_Zero_Predict_Zero = 0.980644,Nombre_Predict_Zero = 1086.000000,Nombre_Zero_Mean = 1081.350000\n",
      "Accuracy_fixe_mean = 0.983401,Accuracy_fixe_one = 0.614306,Accuracy_fixe_zero = 0.988429\n",
      "\n"
     ]
    },
    {
     "name": "stderr",
     "output_type": "stream",
     "text": [
      " 65%|███████████████████████████████████████████████████▎                           | 650/1000 [17:54<08:55,  1.53s/it]"
     ]
    },
    {
     "name": "stdout",
     "output_type": "stream",
     "text": [
      "Loss = 0.654234,Accuracy_value = 0.964677,Accuracy_instance = 0.000000\n",
      "Label_One_Predict_One = 0.437759,Predict_One_Label_One = 0.457344,Nombre_Predict_One = 33.550000,Nombre_One_Mean = 34.650000\n",
      "Label_Zero_Predict_Zero = 0.982165,Label_Zero_Predict_Zero = 0.981319,Nombre_Predict_Zero = 1082.450000,Nombre_Zero_Mean = 1081.350000\n",
      "Accuracy_fixe_mean = 0.982280,Accuracy_fixe_one = 0.583801,Accuracy_fixe_zero = 0.988213\n",
      "\n"
     ]
    },
    {
     "name": "stderr",
     "output_type": "stream",
     "text": [
      " 70%|███████████████████████████████████████████████████████▎                       | 700/1000 [19:22<08:54,  1.78s/it]"
     ]
    },
    {
     "name": "stdout",
     "output_type": "stream",
     "text": [
      "Loss = 0.703844,Accuracy_value = 0.963441,Accuracy_instance = 0.000000\n",
      "Label_One_Predict_One = 0.452103,Predict_One_Label_One = 0.439600,Nombre_Predict_One = 35.900000,Nombre_One_Mean = 34.650000\n",
      "Label_Zero_Predict_Zero = 0.980367,Label_Zero_Predict_Zero = 0.981798,Nombre_Predict_Zero = 1080.100000,Nombre_Zero_Mean = 1081.350000\n",
      "Accuracy_fixe_mean = 0.981586,Accuracy_fixe_one = 0.642361,Accuracy_fixe_zero = 0.987113\n",
      "\n"
     ]
    },
    {
     "name": "stderr",
     "output_type": "stream",
     "text": [
      " 75%|███████████████████████████████████████████████████████████▎                   | 750/1000 [20:52<07:35,  1.82s/it]"
     ]
    },
    {
     "name": "stdout",
     "output_type": "stream",
     "text": [
      "Loss = 0.798109,Accuracy_value = 0.965161,Accuracy_instance = 0.000000\n",
      "Label_One_Predict_One = 0.476569,Predict_One_Label_One = 0.460545,Nombre_Predict_One = 36.000000,Nombre_One_Mean = 34.650000\n",
      "Label_Zero_Predict_Zero = 0.981356,Label_Zero_Predict_Zero = 0.982608,Nombre_Predict_Zero = 1080.000000,Nombre_Zero_Mean = 1081.350000\n",
      "Accuracy_fixe_mean = 0.980936,Accuracy_fixe_one = 0.570515,Accuracy_fixe_zero = 0.987870\n",
      "\n"
     ]
    },
    {
     "name": "stderr",
     "output_type": "stream",
     "text": [
      " 80%|███████████████████████████████████████████████████████████████▏               | 800/1000 [22:22<05:58,  1.79s/it]"
     ]
    },
    {
     "name": "stdout",
     "output_type": "stream",
     "text": [
      "Loss = 0.917308,Accuracy_value = 0.963638,Accuracy_instance = 0.000000\n",
      "Label_One_Predict_One = 0.454594,Predict_One_Label_One = 0.436407,Nombre_Predict_One = 36.000000,Nombre_One_Mean = 34.650000\n",
      "Label_Zero_Predict_Zero = 0.980576,Label_Zero_Predict_Zero = 0.981807,Nombre_Predict_Zero = 1080.000000,Nombre_Zero_Mean = 1081.350000\n",
      "Accuracy_fixe_mean = 0.980914,Accuracy_fixe_one = 0.570299,Accuracy_fixe_zero = 0.988141\n",
      "\n"
     ]
    },
    {
     "name": "stderr",
     "output_type": "stream",
     "text": [
      " 85%|███████████████████████████████████████████████████████████████████▏           | 850/1000 [23:53<04:20,  1.74s/it]"
     ]
    },
    {
     "name": "stdout",
     "output_type": "stream",
     "text": [
      "Loss = 0.996341,Accuracy_value = 0.962276,Accuracy_instance = 0.000000\n",
      "Label_One_Predict_One = 0.455005,Predict_One_Label_One = 0.422571,Nombre_Predict_One = 37.350000,Nombre_One_Mean = 34.650000\n",
      "Label_Zero_Predict_Zero = 0.979050,Label_Zero_Predict_Zero = 0.981884,Nombre_Predict_Zero = 1078.650000,Nombre_Zero_Mean = 1081.350000\n",
      "Accuracy_fixe_mean = 0.980466,Accuracy_fixe_one = 0.563350,Accuracy_fixe_zero = 0.987979\n",
      "\n"
     ]
    },
    {
     "name": "stderr",
     "output_type": "stream",
     "text": [
      " 90%|███████████████████████████████████████████████████████████████████████        | 900/1000 [25:16<02:31,  1.52s/it]"
     ]
    },
    {
     "name": "stdout",
     "output_type": "stream",
     "text": [
      "Loss = 1.032582,Accuracy_value = 0.963513,Accuracy_instance = 0.000000\n",
      "Label_One_Predict_One = 0.448959,Predict_One_Label_One = 0.429851,Nombre_Predict_One = 35.750000,Nombre_One_Mean = 34.650000\n",
      "Label_Zero_Predict_Zero = 0.980594,Label_Zero_Predict_Zero = 0.981667,Nombre_Predict_Zero = 1080.250000,Nombre_Zero_Mean = 1081.350000\n",
      "Accuracy_fixe_mean = 0.981295,Accuracy_fixe_one = 0.567474,Accuracy_fixe_zero = 0.987956\n",
      "\n"
     ]
    },
    {
     "name": "stderr",
     "output_type": "stream",
     "text": [
      " 95%|███████████████████████████████████████████████████████████████████████████    | 950/1000 [26:36<01:18,  1.56s/it]"
     ]
    },
    {
     "name": "stdout",
     "output_type": "stream",
     "text": [
      "Loss = 1.034937,Accuracy_value = 0.963315,Accuracy_instance = 0.000000\n",
      "Label_One_Predict_One = 0.438835,Predict_One_Label_One = 0.426848,Nombre_Predict_One = 35.400000,Nombre_One_Mean = 34.650000\n",
      "Label_Zero_Predict_Zero = 0.980689,Label_Zero_Predict_Zero = 0.981379,Nombre_Predict_Zero = 1080.600000,Nombre_Zero_Mean = 1081.350000\n",
      "Accuracy_fixe_mean = 0.980780,Accuracy_fixe_one = 0.560454,Accuracy_fixe_zero = 0.987676\n",
      "\n"
     ]
    },
    {
     "name": "stderr",
     "output_type": "stream",
     "text": [
      "100%|██████████████████████████████████████████████████████████████████████████████| 1000/1000 [27:58<00:00,  1.68s/it]\n"
     ]
    },
    {
     "name": "stdout",
     "output_type": "stream",
     "text": [
      "Loss = 1.160565,Accuracy_value = 0.964355,Accuracy_instance = 0.000000\n",
      "Label_One_Predict_One = 0.397453,Predict_One_Label_One = 0.437010,Nombre_Predict_One = 32.150000,Nombre_One_Mean = 34.800000\n",
      "Label_Zero_Predict_Zero = 0.982641,Label_Zero_Predict_Zero = 0.980557,Nombre_Predict_Zero = 1107.100000,Nombre_Zero_Mean = 1104.450000\n",
      "Accuracy_fixe_mean = 0.980085,Accuracy_fixe_one = 0.541071,Accuracy_fixe_zero = 0.986674\n",
      "\n"
     ]
    }
   ],
   "source": [
    "nb_mlp = 6\n",
    "proportion = 0.8\n",
    "feature_size = 24\n",
    "H = 50\n",
    "info_valide = []\n",
    "gamma = 0.5\n",
    "alpha = 0.25\n",
    "batch_size = 1\n",
    "EPOCHS = 1000\n",
    "learning_rate = 0.001\n",
    "\n",
    "C = 0.75\n",
    "lam = 0.5\n",
    "for C in [0.75]:\n",
    "    for lam in [0.5]:\n",
    "#     criterion = nn.BCELoss()\n",
    "        criterion = SelectiveLoss(C,lam)\n",
    "    #     criterion = FocalLoss(gamma=gamma,alpha = alpha)\n",
    "        if criterion.__str__()==\"BCELoss()\":\n",
    "            train_name = data_name+\"_BCE_\"+\\\n",
    "                nb_mlp.__str__()+\"MLP_\"+H.__str__()+\"TailleH_\"+batch_size.__str__()+\"batch_size_\"+\"layernorm+cat\"\n",
    "        elif criterion.__str__()==\"FocalLoss()\":\n",
    "            train_name = data_name+\"_FL_\"+gamma.__str__()+\"Gamma_\"+alpha.__str__()+\"Alpha_\"+\\\n",
    "                nb_mlp.__str__()+\"MLP_\"+H.__str__()+\"TailleH_\"+batch_size.__str__()+\"batch_size_\"+\"layernorm+cat\"\n",
    "        elif criterion.__str__()==\"SelectiveLoss()\":\n",
    "            train_name = data_name+\"_SL_\"+C.__str__()+\"C_\"+lam.__str__()+\"Lambda_\"+\\\n",
    "                nb_mlp.__str__()+\"MLP_2\"\n",
    "        writer = SummaryWriter('./logs/'+data_name+\"/\"+train_name+\"/\")\n",
    "\n",
    "        net = VariablePredictorDiving(feature_size,H,nb_mlp)\n",
    "        net.to(device)\n",
    "        optm = Adam(net.parameters(), lr = learning_rate)\n",
    "\n",
    "        scheduler = torch.optim.lr_scheduler.ExponentialLR(optm, gamma=1-10e-6)\n",
    "        train(net,criterion,optm,data_valide_gpu,proportion,writer,batch_size = batch_size,EPOCHS=EPOCHS,\n",
    "                  do_valide = True,do_log = True,with_diving=True)\n",
    "\n",
    "        model_path = \"model/\"+train_name\n",
    "        torch.save(net.state_dict(),model_path)\n",
    "        msg=valide(net,criterion,data_test_gpu,with_diving = True,proportion = proportion)\n",
    "        info_valide.append(msg[1:])\n",
    "        with open('./logs/'+data_name+\"/\"+train_name+\"/valide_log.txt\", \"w\") as txtfile:\n",
    "            print(\"{}\".format(msg), file=txtfile)"
   ]
  },
  {
   "cell_type": "code",
   "execution_count": 22,
   "metadata": {},
   "outputs": [
    {
     "name": "stdout",
     "output_type": "stream",
     "text": [
      "Loss = 1.160565,Accuracy_value = 0.964355,Accuracy_instance = 0.000000\n",
      "Label_One_Predict_One = 0.397453,Predict_One_Label_One = 0.437010,Nombre_Predict_One = 32.150000,Nombre_One_Mean = 34.800000\n",
      "Label_Zero_Predict_Zero = 0.982641,Label_Zero_Predict_Zero = 0.980557,Nombre_Predict_Zero = 1107.100000,Nombre_Zero_Mean = 1104.450000\n",
      "Accuracy_fixe_mean = 0.980085,Accuracy_fixe_one = 0.541071,Accuracy_fixe_zero = 0.986674\n",
      "\n"
     ]
    },
    {
     "data": {
      "text/plain": [
       "('Loss = 1.160565,Accuracy_value = 0.964355,Accuracy_instance = 0.000000\\nLabel_One_Predict_One = 0.397453,Predict_One_Label_One = 0.437010,Nombre_Predict_One = 32.150000,Nombre_One_Mean = 34.800000\\nLabel_Zero_Predict_Zero = 0.982641,Label_Zero_Predict_Zero = 0.980557,Nombre_Predict_Zero = 1107.100000,Nombre_Zero_Mean = 1104.450000\\nAccuracy_fixe_mean = 0.980085,Accuracy_fixe_one = 0.541071,Accuracy_fixe_zero = 0.986674\\n',\n",
       " 0.9643548387096775,\n",
       " 0.0,\n",
       " 0.5410709,\n",
       " 0.98667383,\n",
       " 0.4370098,\n",
       " 0.98055744)"
      ]
     },
     "execution_count": 22,
     "metadata": {},
     "output_type": "execute_result"
    }
   ],
   "source": [
    "valide(net,criterion,data_test_gpu,True,proportion)"
   ]
  },
  {
   "cell_type": "code",
   "execution_count": 13,
   "metadata": {},
   "outputs": [
    {
     "name": "stderr",
     "output_type": "stream",
     "text": [
      "\r",
      "  0%|                                                                                         | 0/1000 [00:00<?, ?it/s]"
     ]
    },
    {
     "name": "stdout",
     "output_type": "stream",
     "text": [
      "Loss = 4.466147,Accuracy_value = 0.203065,Accuracy_instance = 0.000000\n",
      "Label_One_Predict_One = 0.925455,Predict_One_Label_One = 0.036308,Nombre_Predict_One = 921.200000,Nombre_One_Mean = 34.650000\n",
      "Label_Zero_Predict_Zero = 0.179032,Label_Zero_Predict_Zero = 0.986052,Nombre_Predict_Zero = 194.800000,Nombre_Zero_Mean = 1081.350000\n",
      "Accuracy_fixe_mean = 0.051680,Accuracy_fixe_one = 0.029164,Accuracy_fixe_zero = 0.965887\n",
      "\n"
     ]
    },
    {
     "name": "stderr",
     "output_type": "stream",
     "text": [
      "  5%|████                                                                            | 50/1000 [01:24<26:17,  1.66s/it]"
     ]
    },
    {
     "name": "stdout",
     "output_type": "stream",
     "text": [
      "Loss = 0.149230,Accuracy_value = 0.976416,Accuracy_instance = 0.000000\n",
      "Label_One_Predict_One = 0.418854,Predict_One_Label_One = 0.739114,Nombre_Predict_One = 19.900000,Nombre_One_Mean = 34.650000\n",
      "Label_Zero_Predict_Zero = 0.994924,Label_Zero_Predict_Zero = 0.980975,Nombre_Predict_Zero = 1096.100000,Nombre_Zero_Mean = 1081.350000\n",
      "Accuracy_fixe_mean = 0.994265,Accuracy_fixe_one = 0.000000,Accuracy_fixe_zero = 0.994265\n",
      "\n"
     ]
    },
    {
     "name": "stderr",
     "output_type": "stream",
     "text": [
      " 10%|███████▉                                                                       | 100/1000 [02:48<24:42,  1.65s/it]"
     ]
    },
    {
     "name": "stdout",
     "output_type": "stream",
     "text": [
      "Loss = 0.151874,Accuracy_value = 0.975753,Accuracy_instance = 0.000000\n",
      "Label_One_Predict_One = 0.498543,Predict_One_Label_One = 0.662722,Nombre_Predict_One = 26.150000,Nombre_One_Mean = 34.650000\n",
      "Label_Zero_Predict_Zero = 0.991512,Label_Zero_Predict_Zero = 0.983556,Nombre_Predict_Zero = 1089.850000,Nombre_Zero_Mean = 1081.350000\n",
      "Accuracy_fixe_mean = 0.994019,Accuracy_fixe_one = 0.100000,Accuracy_fixe_zero = 0.994018\n",
      "\n"
     ]
    },
    {
     "name": "stderr",
     "output_type": "stream",
     "text": [
      " 15%|███████████▊                                                                   | 150/1000 [04:11<23:22,  1.65s/it]"
     ]
    },
    {
     "name": "stdout",
     "output_type": "stream",
     "text": [
      "Loss = 0.160801,Accuracy_value = 0.974928,Accuracy_instance = 0.000000\n",
      "Label_One_Predict_One = 0.499809,Predict_One_Label_One = 0.642973,Nombre_Predict_One = 27.050000,Nombre_One_Mean = 34.650000\n",
      "Label_Zero_Predict_Zero = 0.990659,Label_Zero_Predict_Zero = 0.983541,Nombre_Predict_Zero = 1088.950000,Nombre_Zero_Mean = 1081.350000\n",
      "Accuracy_fixe_mean = 0.994153,Accuracy_fixe_one = 0.150000,Accuracy_fixe_zero = 0.994352\n",
      "\n"
     ]
    },
    {
     "name": "stderr",
     "output_type": "stream",
     "text": [
      " 20%|███████████████▊                                                               | 200/1000 [05:34<21:57,  1.65s/it]"
     ]
    },
    {
     "name": "stdout",
     "output_type": "stream",
     "text": [
      "Loss = 0.178476,Accuracy_value = 0.972419,Accuracy_instance = 0.000000\n",
      "Label_One_Predict_One = 0.383765,Predict_One_Label_One = 0.618611,Nombre_Predict_One = 21.500000,Nombre_One_Mean = 34.650000\n",
      "Label_Zero_Predict_Zero = 0.992065,Label_Zero_Predict_Zero = 0.979687,Nombre_Predict_Zero = 1094.500000,Nombre_Zero_Mean = 1081.350000\n",
      "Accuracy_fixe_mean = 0.991107,Accuracy_fixe_one = 0.483333,Accuracy_fixe_zero = 0.991806\n",
      "\n"
     ]
    },
    {
     "name": "stderr",
     "output_type": "stream",
     "text": [
      " 25%|███████████████████▊                                                           | 250/1000 [06:58<20:40,  1.65s/it]"
     ]
    },
    {
     "name": "stdout",
     "output_type": "stream",
     "text": [
      "Loss = 0.198158,Accuracy_value = 0.971541,Accuracy_instance = 0.000000\n",
      "Label_One_Predict_One = 0.433193,Predict_One_Label_One = 0.578071,Nombre_Predict_One = 26.000000,Nombre_One_Mean = 34.650000\n",
      "Label_Zero_Predict_Zero = 0.989397,Label_Zero_Predict_Zero = 0.981332,Nombre_Predict_Zero = 1090.000000,Nombre_Zero_Mean = 1081.350000\n",
      "Accuracy_fixe_mean = 0.990502,Accuracy_fixe_one = 0.352083,Accuracy_fixe_zero = 0.991643\n",
      "\n"
     ]
    },
    {
     "name": "stderr",
     "output_type": "stream",
     "text": [
      " 30%|███████████████████████▋                                                       | 300/1000 [08:21<19:24,  1.66s/it]"
     ]
    },
    {
     "name": "stdout",
     "output_type": "stream",
     "text": [
      "Loss = 0.201210,Accuracy_value = 0.972706,Accuracy_instance = 0.000000\n",
      "Label_One_Predict_One = 0.492864,Predict_One_Label_One = 0.592406,Nombre_Predict_One = 29.050000,Nombre_One_Mean = 34.650000\n",
      "Label_Zero_Predict_Zero = 0.988547,Label_Zero_Predict_Zero = 0.983321,Nombre_Predict_Zero = 1086.950000,Nombre_Zero_Mean = 1081.350000\n",
      "Accuracy_fixe_mean = 0.991532,Accuracy_fixe_one = 0.477706,Accuracy_fixe_zero = 0.992740\n",
      "\n"
     ]
    },
    {
     "name": "stderr",
     "output_type": "stream",
     "text": [
      " 35%|███████████████████████████▋                                                   | 350/1000 [09:45<17:55,  1.66s/it]"
     ]
    },
    {
     "name": "stdout",
     "output_type": "stream",
     "text": [
      "Loss = 0.241723,Accuracy_value = 0.970502,Accuracy_instance = 0.000000\n",
      "Label_One_Predict_One = 0.498826,Predict_One_Label_One = 0.547248,Nombre_Predict_One = 31.650000,Nombre_One_Mean = 34.650000\n",
      "Label_Zero_Predict_Zero = 0.986040,Label_Zero_Predict_Zero = 0.983503,Nombre_Predict_Zero = 1084.350000,Nombre_Zero_Mean = 1081.350000\n",
      "Accuracy_fixe_mean = 0.988911,Accuracy_fixe_one = 0.628155,Accuracy_fixe_zero = 0.990739\n",
      "\n"
     ]
    },
    {
     "name": "stderr",
     "output_type": "stream",
     "text": [
      " 40%|███████████████████████████████▌                                               | 400/1000 [11:08<16:28,  1.65s/it]"
     ]
    },
    {
     "name": "stdout",
     "output_type": "stream",
     "text": [
      "Loss = 0.263676,Accuracy_value = 0.970789,Accuracy_instance = 0.000000\n",
      "Label_One_Predict_One = 0.464846,Predict_One_Label_One = 0.560687,Nombre_Predict_One = 28.900000,Nombre_One_Mean = 34.650000\n",
      "Label_Zero_Predict_Zero = 0.987597,Label_Zero_Predict_Zero = 0.982295,Nombre_Predict_Zero = 1087.100000,Nombre_Zero_Mean = 1081.350000\n",
      "Accuracy_fixe_mean = 0.988620,Accuracy_fixe_one = 0.538393,Accuracy_fixe_zero = 0.991004\n",
      "\n"
     ]
    },
    {
     "name": "stderr",
     "output_type": "stream",
     "text": [
      " 45%|███████████████████████████████████▌                                           | 450/1000 [12:32<15:07,  1.65s/it]"
     ]
    },
    {
     "name": "stdout",
     "output_type": "stream",
     "text": [
      "Loss = 0.301994,Accuracy_value = 0.968728,Accuracy_instance = 0.000000\n",
      "Label_One_Predict_One = 0.424412,Predict_One_Label_One = 0.524006,Nombre_Predict_One = 28.350000,Nombre_One_Mean = 34.650000\n",
      "Label_Zero_Predict_Zero = 0.986801,Label_Zero_Predict_Zero = 0.980977,Nombre_Predict_Zero = 1087.650000,Nombre_Zero_Mean = 1081.350000\n",
      "Accuracy_fixe_mean = 0.987366,Accuracy_fixe_one = 0.561328,Accuracy_fixe_zero = 0.990118\n",
      "\n"
     ]
    },
    {
     "name": "stderr",
     "output_type": "stream",
     "text": [
      " 50%|███████████████████████████████████████▌                                       | 500/1000 [13:55<13:46,  1.65s/it]"
     ]
    },
    {
     "name": "stdout",
     "output_type": "stream",
     "text": [
      "Loss = 0.357194,Accuracy_value = 0.969391,Accuracy_instance = 0.000000\n",
      "Label_One_Predict_One = 0.425759,Predict_One_Label_One = 0.540042,Nombre_Predict_One = 27.550000,Nombre_One_Mean = 34.650000\n",
      "Label_Zero_Predict_Zero = 0.987464,Label_Zero_Predict_Zero = 0.981006,Nombre_Predict_Zero = 1088.450000,Nombre_Zero_Mean = 1081.350000\n",
      "Accuracy_fixe_mean = 0.987007,Accuracy_fixe_one = 0.593344,Accuracy_fixe_zero = 0.989490\n",
      "\n"
     ]
    },
    {
     "name": "stderr",
     "output_type": "stream",
     "text": [
      " 55%|███████████████████████████████████████████▍                                   | 550/1000 [15:19<12:23,  1.65s/it]"
     ]
    },
    {
     "name": "stdout",
     "output_type": "stream",
     "text": [
      "Loss = 0.359321,Accuracy_value = 0.968656,Accuracy_instance = 0.000000\n",
      "Label_One_Predict_One = 0.414241,Predict_One_Label_One = 0.526046,Nombre_Predict_One = 27.600000,Nombre_One_Mean = 34.650000\n",
      "Label_Zero_Predict_Zero = 0.987076,Label_Zero_Predict_Zero = 0.980631,Nombre_Predict_Zero = 1088.400000,Nombre_Zero_Mean = 1081.350000\n",
      "Accuracy_fixe_mean = 0.986604,Accuracy_fixe_one = 0.553829,Accuracy_fixe_zero = 0.989554\n",
      "\n"
     ]
    },
    {
     "name": "stderr",
     "output_type": "stream",
     "text": [
      " 60%|███████████████████████████████████████████████▍                               | 600/1000 [16:42<10:59,  1.65s/it]"
     ]
    },
    {
     "name": "stdout",
     "output_type": "stream",
     "text": [
      "Loss = 0.434215,Accuracy_value = 0.967043,Accuracy_instance = 0.000000\n",
      "Label_One_Predict_One = 0.399655,Predict_One_Label_One = 0.491666,Nombre_Predict_One = 28.450000,Nombre_One_Mean = 34.650000\n",
      "Label_Zero_Predict_Zero = 0.985969,Label_Zero_Predict_Zero = 0.980071,Nombre_Predict_Zero = 1087.550000,Nombre_Zero_Mean = 1081.350000\n",
      "Accuracy_fixe_mean = 0.984117,Accuracy_fixe_one = 0.530052,Accuracy_fixe_zero = 0.988126\n",
      "\n"
     ]
    },
    {
     "name": "stderr",
     "output_type": "stream",
     "text": [
      " 65%|███████████████████████████████████████████████████▎                           | 650/1000 [18:06<09:38,  1.65s/it]"
     ]
    },
    {
     "name": "stdout",
     "output_type": "stream",
     "text": [
      "Loss = 0.451328,Accuracy_value = 0.966523,Accuracy_instance = 0.000000\n",
      "Label_One_Predict_One = 0.440378,Predict_One_Label_One = 0.489010,Nombre_Predict_One = 31.800000,Nombre_One_Mean = 34.650000\n",
      "Label_Zero_Predict_Zero = 0.984002,Label_Zero_Predict_Zero = 0.981430,Nombre_Predict_Zero = 1084.200000,Nombre_Zero_Mean = 1081.350000\n",
      "Accuracy_fixe_mean = 0.984386,Accuracy_fixe_one = 0.561764,Accuracy_fixe_zero = 0.988311\n",
      "\n"
     ]
    },
    {
     "name": "stderr",
     "output_type": "stream",
     "text": [
      " 70%|███████████████████████████████████████████████████████▎                       | 700/1000 [19:31<08:15,  1.65s/it]"
     ]
    },
    {
     "name": "stdout",
     "output_type": "stream",
     "text": [
      "Loss = 0.506855,Accuracy_value = 0.965305,Accuracy_instance = 0.000000\n",
      "Label_One_Predict_One = 0.392507,Predict_One_Label_One = 0.467565,Nombre_Predict_One = 29.800000,Nombre_One_Mean = 34.650000\n",
      "Label_Zero_Predict_Zero = 0.984392,Label_Zero_Predict_Zero = 0.979823,Nombre_Predict_Zero = 1086.200000,Nombre_Zero_Mean = 1081.350000\n",
      "Accuracy_fixe_mean = 0.983893,Accuracy_fixe_one = 0.524452,Accuracy_fixe_zero = 0.988069\n",
      "\n"
     ]
    },
    {
     "name": "stderr",
     "output_type": "stream",
     "text": [
      " 75%|███████████████████████████████████████████████████████████▎                   | 750/1000 [20:52<06:39,  1.60s/it]"
     ]
    },
    {
     "name": "stdout",
     "output_type": "stream",
     "text": [
      "Loss = 0.581109,Accuracy_value = 0.963513,Accuracy_instance = 0.000000\n",
      "Label_One_Predict_One = 0.422899,Predict_One_Label_One = 0.444447,Nombre_Predict_One = 33.700000,Nombre_One_Mean = 34.650000\n",
      "Label_Zero_Predict_Zero = 0.981478,Label_Zero_Predict_Zero = 0.980790,Nombre_Predict_Zero = 1082.300000,Nombre_Zero_Mean = 1081.350000\n",
      "Accuracy_fixe_mean = 0.982280,Accuracy_fixe_one = 0.504443,Accuracy_fixe_zero = 0.987788\n",
      "\n"
     ]
    },
    {
     "name": "stderr",
     "output_type": "stream",
     "text": [
      " 80%|███████████████████████████████████████████████████████████████▏               | 800/1000 [22:14<05:22,  1.61s/it]"
     ]
    },
    {
     "name": "stdout",
     "output_type": "stream",
     "text": [
      "Loss = 0.604073,Accuracy_value = 0.963799,Accuracy_instance = 0.000000\n",
      "Label_One_Predict_One = 0.442101,Predict_One_Label_One = 0.447790,Nombre_Predict_One = 35.050000,Nombre_One_Mean = 34.650000\n",
      "Label_Zero_Predict_Zero = 0.981020,Label_Zero_Predict_Zero = 0.981529,Nombre_Predict_Zero = 1080.950000,Nombre_Zero_Mean = 1081.350000\n",
      "Accuracy_fixe_mean = 0.983109,Accuracy_fixe_one = 0.506103,Accuracy_fixe_zero = 0.988225\n",
      "\n"
     ]
    },
    {
     "name": "stderr",
     "output_type": "stream",
     "text": [
      " 85%|███████████████████████████████████████████████████████████████████▏           | 850/1000 [23:35<04:00,  1.60s/it]"
     ]
    },
    {
     "name": "stdout",
     "output_type": "stream",
     "text": [
      "Loss = 0.669998,Accuracy_value = 0.963513,Accuracy_instance = 0.000000\n",
      "Label_One_Predict_One = 0.435973,Predict_One_Label_One = 0.448224,Nombre_Predict_One = 34.850000,Nombre_One_Mean = 34.650000\n",
      "Label_Zero_Predict_Zero = 0.981001,Label_Zero_Predict_Zero = 0.981257,Nombre_Predict_Zero = 1081.150000,Nombre_Zero_Mean = 1081.350000\n",
      "Accuracy_fixe_mean = 0.982639,Accuracy_fixe_one = 0.529669,Accuracy_fixe_zero = 0.988343\n",
      "\n"
     ]
    },
    {
     "name": "stderr",
     "output_type": "stream",
     "text": [
      " 90%|███████████████████████████████████████████████████████████████████████        | 900/1000 [24:55<02:39,  1.60s/it]"
     ]
    },
    {
     "name": "stdout",
     "output_type": "stream",
     "text": [
      "Loss = 0.695699,Accuracy_value = 0.963746,Accuracy_instance = 0.000000\n",
      "Label_One_Predict_One = 0.448880,Predict_One_Label_One = 0.445403,Nombre_Predict_One = 35.650000,Nombre_One_Mean = 34.650000\n",
      "Label_Zero_Predict_Zero = 0.980839,Label_Zero_Predict_Zero = 0.981656,Nombre_Predict_Zero = 1080.350000,Nombre_Zero_Mean = 1081.350000\n",
      "Accuracy_fixe_mean = 0.982348,Accuracy_fixe_one = 0.503130,Accuracy_fixe_zero = 0.987763\n",
      "\n"
     ]
    },
    {
     "name": "stderr",
     "output_type": "stream",
     "text": [
      " 95%|███████████████████████████████████████████████████████████████████████████    | 950/1000 [26:16<01:20,  1.61s/it]"
     ]
    },
    {
     "name": "stdout",
     "output_type": "stream",
     "text": [
      "Loss = 0.725682,Accuracy_value = 0.964552,Accuracy_instance = 0.000000\n",
      "Label_One_Predict_One = 0.450311,Predict_One_Label_One = 0.453945,Nombre_Predict_One = 34.800000,Nombre_One_Mean = 34.650000\n",
      "Label_Zero_Predict_Zero = 0.981615,Label_Zero_Predict_Zero = 0.981730,Nombre_Predict_Zero = 1081.200000,Nombre_Zero_Mean = 1081.350000\n",
      "Accuracy_fixe_mean = 0.982753,Accuracy_fixe_one = 0.466385,Accuracy_fixe_zero = 0.987732\n",
      "\n"
     ]
    },
    {
     "name": "stderr",
     "output_type": "stream",
     "text": [
      "100%|██████████████████████████████████████████████████████████████████████████████| 1000/1000 [27:37<00:00,  1.66s/it]\n",
      "  0%|                                                                                         | 0/1000 [00:00<?, ?it/s]"
     ]
    },
    {
     "name": "stdout",
     "output_type": "stream",
     "text": [
      "Loss = 0.742299,Accuracy_value = 0.961004,Accuracy_instance = 0.000000\n",
      "Label_One_Predict_One = 0.402855,Predict_One_Label_One = 0.392379,Nombre_Predict_One = 35.950000,Nombre_One_Mean = 34.800000\n",
      "Label_Zero_Predict_Zero = 0.979021,Label_Zero_Predict_Zero = 0.980634,Nombre_Predict_Zero = 1103.300000,Nombre_Zero_Mean = 1104.450000\n",
      "Accuracy_fixe_mean = 0.983782,Accuracy_fixe_one = 0.559972,Accuracy_fixe_zero = 0.988209\n",
      "\n",
      "Loss = 2.322634,Accuracy_value = 0.819283,Accuracy_instance = 0.000000\n",
      "Label_One_Predict_One = 0.080343,Predict_One_Label_One = 0.016468,Nombre_Predict_One = 169.900000,Nombre_One_Mean = 34.650000\n",
      "Label_Zero_Predict_Zero = 0.843862,Label_Zero_Predict_Zero = 0.964910,Nombre_Predict_Zero = 946.100000,Nombre_Zero_Mean = 1081.350000\n",
      "Accuracy_fixe_mean = 0.902778,Accuracy_fixe_one = 0.030038,Accuracy_fixe_zero = 0.964852\n",
      "\n"
     ]
    },
    {
     "name": "stderr",
     "output_type": "stream",
     "text": [
      "  5%|████                                                                            | 50/1000 [01:21<25:25,  1.61s/it]"
     ]
    },
    {
     "name": "stdout",
     "output_type": "stream",
     "text": [
      "Loss = 0.149137,Accuracy_value = 0.976272,Accuracy_instance = 0.000000\n",
      "Label_One_Predict_One = 0.408971,Predict_One_Label_One = 0.734622,Nombre_Predict_One = 19.450000,Nombre_One_Mean = 34.650000\n",
      "Label_Zero_Predict_Zero = 0.995055,Label_Zero_Predict_Zero = 0.980712,Nombre_Predict_Zero = 1096.550000,Nombre_Zero_Mean = 1081.350000\n",
      "Accuracy_fixe_mean = 0.994579,Accuracy_fixe_one = 0.000000,Accuracy_fixe_zero = 0.994579\n",
      "\n"
     ]
    },
    {
     "name": "stderr",
     "output_type": "stream",
     "text": [
      " 10%|███████▉                                                                       | 100/1000 [02:42<24:08,  1.61s/it]"
     ]
    },
    {
     "name": "stdout",
     "output_type": "stream",
     "text": [
      "Loss = 0.153238,Accuracy_value = 0.976075,Accuracy_instance = 0.000000\n",
      "Label_One_Predict_One = 0.500016,Predict_One_Label_One = 0.673554,Nombre_Predict_One = 25.900000,Nombre_One_Mean = 34.650000\n",
      "Label_Zero_Predict_Zero = 0.991771,Label_Zero_Predict_Zero = 0.983634,Nombre_Predict_Zero = 1090.100000,Nombre_Zero_Mean = 1081.350000\n",
      "Accuracy_fixe_mean = 0.993907,Accuracy_fixe_one = 0.100000,Accuracy_fixe_zero = 0.994084\n",
      "\n"
     ]
    },
    {
     "name": "stderr",
     "output_type": "stream",
     "text": [
      " 15%|███████████▊                                                                   | 150/1000 [04:03<22:46,  1.61s/it]"
     ]
    },
    {
     "name": "stdout",
     "output_type": "stream",
     "text": [
      "Loss = 0.158986,Accuracy_value = 0.975806,Accuracy_instance = 0.000000\n",
      "Label_One_Predict_One = 0.501732,Predict_One_Label_One = 0.656620,Nombre_Predict_One = 26.400000,Nombre_One_Mean = 34.650000\n",
      "Label_Zero_Predict_Zero = 0.991383,Label_Zero_Predict_Zero = 0.983737,Nombre_Predict_Zero = 1089.600000,Nombre_Zero_Mean = 1081.350000\n",
      "Accuracy_fixe_mean = 0.993347,Accuracy_fixe_one = 0.233333,Accuracy_fixe_zero = 0.993656\n",
      "\n"
     ]
    },
    {
     "name": "stderr",
     "output_type": "stream",
     "text": [
      " 20%|███████████████▊                                                               | 200/1000 [05:24<21:29,  1.61s/it]"
     ]
    },
    {
     "name": "stdout",
     "output_type": "stream",
     "text": [
      "Loss = 0.175653,Accuracy_value = 0.973333,Accuracy_instance = 0.000000\n",
      "Label_One_Predict_One = 0.517740,Predict_One_Label_One = 0.597638,Nombre_Predict_One = 30.200000,Nombre_One_Mean = 34.650000\n",
      "Label_Zero_Predict_Zero = 0.988289,Label_Zero_Predict_Zero = 0.984216,Nombre_Predict_Zero = 1085.800000,Nombre_Zero_Mean = 1081.350000\n",
      "Accuracy_fixe_mean = 0.992764,Accuracy_fixe_one = 0.580000,Accuracy_fixe_zero = 0.993552\n",
      "\n"
     ]
    },
    {
     "name": "stderr",
     "output_type": "stream",
     "text": [
      " 25%|███████████████████▊                                                           | 250/1000 [06:46<20:08,  1.61s/it]"
     ]
    },
    {
     "name": "stdout",
     "output_type": "stream",
     "text": [
      "Loss = 0.216536,Accuracy_value = 0.969928,Accuracy_instance = 0.000000\n",
      "Label_One_Predict_One = 0.487519,Predict_One_Label_One = 0.538620,Nombre_Predict_One = 31.550000,Nombre_One_Mean = 34.650000\n",
      "Label_Zero_Predict_Zero = 0.985724,Label_Zero_Predict_Zero = 0.983221,Nombre_Predict_Zero = 1084.450000,Nombre_Zero_Mean = 1081.350000\n",
      "Accuracy_fixe_mean = 0.989807,Accuracy_fixe_one = 0.479167,Accuracy_fixe_zero = 0.991257\n",
      "\n"
     ]
    },
    {
     "name": "stderr",
     "output_type": "stream",
     "text": [
      " 30%|███████████████████████▋                                                       | 300/1000 [08:07<18:41,  1.60s/it]"
     ]
    },
    {
     "name": "stdout",
     "output_type": "stream",
     "text": [
      "Loss = 0.223859,Accuracy_value = 0.971810,Accuracy_instance = 0.000000\n",
      "Label_One_Predict_One = 0.475142,Predict_One_Label_One = 0.581998,Nombre_Predict_One = 28.650000,Nombre_One_Mean = 34.650000\n",
      "Label_Zero_Predict_Zero = 0.988248,Label_Zero_Predict_Zero = 0.982697,Nombre_Predict_Zero = 1087.350000,Nombre_Zero_Mean = 1081.350000\n",
      "Accuracy_fixe_mean = 0.989538,Accuracy_fixe_one = 0.512063,Accuracy_fixe_zero = 0.991138\n",
      "\n"
     ]
    },
    {
     "name": "stderr",
     "output_type": "stream",
     "text": [
      " 35%|███████████████████████████▋                                                   | 350/1000 [09:28<17:29,  1.61s/it]"
     ]
    },
    {
     "name": "stdout",
     "output_type": "stream",
     "text": [
      "Loss = 0.268106,Accuracy_value = 0.970143,Accuracy_instance = 0.000000\n",
      "Label_One_Predict_One = 0.469386,Predict_One_Label_One = 0.543603,Nombre_Predict_One = 30.050000,Nombre_One_Mean = 34.650000\n",
      "Label_Zero_Predict_Zero = 0.986690,Label_Zero_Predict_Zero = 0.982510,Nombre_Predict_Zero = 1085.950000,Nombre_Zero_Mean = 1081.350000\n",
      "Accuracy_fixe_mean = 0.987657,Accuracy_fixe_one = 0.528869,Accuracy_fixe_zero = 0.990444\n",
      "\n"
     ]
    },
    {
     "name": "stderr",
     "output_type": "stream",
     "text": [
      " 40%|███████████████████████████████▌                                               | 400/1000 [10:50<16:12,  1.62s/it]"
     ]
    },
    {
     "name": "stdout",
     "output_type": "stream",
     "text": [
      "Loss = 0.297720,Accuracy_value = 0.968369,Accuracy_instance = 0.000000\n",
      "Label_One_Predict_One = 0.448270,Predict_One_Label_One = 0.517361,Nombre_Predict_One = 30.300000,Nombre_One_Mean = 34.650000\n",
      "Label_Zero_Predict_Zero = 0.985441,Label_Zero_Predict_Zero = 0.981905,Nombre_Predict_Zero = 1085.700000,Nombre_Zero_Mean = 1081.350000\n",
      "Accuracy_fixe_mean = 0.986828,Accuracy_fixe_one = 0.625139,Accuracy_fixe_zero = 0.989720\n",
      "\n"
     ]
    },
    {
     "name": "stderr",
     "output_type": "stream",
     "text": [
      " 45%|███████████████████████████████████▌                                           | 450/1000 [12:11<14:43,  1.61s/it]"
     ]
    },
    {
     "name": "stdout",
     "output_type": "stream",
     "text": [
      "Loss = 0.343434,Accuracy_value = 0.968495,Accuracy_instance = 0.000000\n",
      "Label_One_Predict_One = 0.442143,Predict_One_Label_One = 0.527513,Nombre_Predict_One = 29.700000,Nombre_One_Mean = 34.650000\n",
      "Label_Zero_Predict_Zero = 0.985849,Label_Zero_Predict_Zero = 0.981638,Nombre_Predict_Zero = 1086.300000,Nombre_Zero_Mean = 1081.350000\n",
      "Accuracy_fixe_mean = 0.986223,Accuracy_fixe_one = 0.585754,Accuracy_fixe_zero = 0.989227\n",
      "\n"
     ]
    },
    {
     "name": "stderr",
     "output_type": "stream",
     "text": [
      " 50%|███████████████████████████████████████▌                                       | 500/1000 [13:32<13:18,  1.60s/it]"
     ]
    },
    {
     "name": "stdout",
     "output_type": "stream",
     "text": [
      "Loss = 0.381851,Accuracy_value = 0.967294,Accuracy_instance = 0.000000\n",
      "Label_One_Predict_One = 0.484013,Predict_One_Label_One = 0.499819,Nombre_Predict_One = 33.900000,Nombre_One_Mean = 34.650000\n",
      "Label_Zero_Predict_Zero = 0.983180,Label_Zero_Predict_Zero = 0.982993,Nombre_Predict_Zero = 1082.100000,Nombre_Zero_Mean = 1081.350000\n",
      "Accuracy_fixe_mean = 0.985193,Accuracy_fixe_one = 0.541753,Accuracy_fixe_zero = 0.989290\n",
      "\n"
     ]
    },
    {
     "name": "stderr",
     "output_type": "stream",
     "text": [
      " 55%|███████████████████████████████████████████▍                                   | 550/1000 [14:53<12:03,  1.61s/it]"
     ]
    },
    {
     "name": "stdout",
     "output_type": "stream",
     "text": [
      "Loss = 0.422088,Accuracy_value = 0.967473,Accuracy_instance = 0.000000\n",
      "Label_One_Predict_One = 0.503046,Predict_One_Label_One = 0.499946,Nombre_Predict_One = 35.100000,Nombre_One_Mean = 34.650000\n",
      "Label_Zero_Predict_Zero = 0.982680,Label_Zero_Predict_Zero = 0.983663,Nombre_Predict_Zero = 1080.900000,Nombre_Zero_Mean = 1081.350000\n",
      "Accuracy_fixe_mean = 0.985148,Accuracy_fixe_one = 0.580733,Accuracy_fixe_zero = 0.989366\n",
      "\n"
     ]
    },
    {
     "name": "stderr",
     "output_type": "stream",
     "text": [
      " 60%|███████████████████████████████████████████████▍                               | 600/1000 [16:17<10:49,  1.62s/it]"
     ]
    },
    {
     "name": "stdout",
     "output_type": "stream",
     "text": [
      "Loss = 0.490778,Accuracy_value = 0.965573,Accuracy_instance = 0.000000\n",
      "Label_One_Predict_One = 0.484750,Predict_One_Label_One = 0.468653,Nombre_Predict_One = 36.000000,Nombre_One_Mean = 34.650000\n",
      "Label_Zero_Predict_Zero = 0.981217,Label_Zero_Predict_Zero = 0.983148,Nombre_Predict_Zero = 1080.000000,Nombre_Zero_Mean = 1081.350000\n",
      "Accuracy_fixe_mean = 0.984297,Accuracy_fixe_one = 0.586725,Accuracy_fixe_zero = 0.988556\n",
      "\n"
     ]
    },
    {
     "name": "stderr",
     "output_type": "stream",
     "text": [
      " 65%|███████████████████████████████████████████████████▎                           | 650/1000 [17:38<09:22,  1.61s/it]"
     ]
    },
    {
     "name": "stdout",
     "output_type": "stream",
     "text": [
      "Loss = 0.546768,Accuracy_value = 0.963746,Accuracy_instance = 0.000000\n",
      "Label_One_Predict_One = 0.495773,Predict_One_Label_One = 0.454229,Nombre_Predict_One = 38.250000,Nombre_One_Mean = 34.650000\n",
      "Label_Zero_Predict_Zero = 0.979095,Label_Zero_Predict_Zero = 0.983327,Nombre_Predict_Zero = 1077.750000,Nombre_Zero_Mean = 1081.350000\n",
      "Accuracy_fixe_mean = 0.984252,Accuracy_fixe_one = 0.511222,Accuracy_fixe_zero = 0.989543\n",
      "\n"
     ]
    },
    {
     "name": "stderr",
     "output_type": "stream",
     "text": [
      " 70%|███████████████████████████████████████████████████████▎                       | 700/1000 [18:59<08:02,  1.61s/it]"
     ]
    },
    {
     "name": "stdout",
     "output_type": "stream",
     "text": [
      "Loss = 0.576880,Accuracy_value = 0.965394,Accuracy_instance = 0.000000\n",
      "Label_One_Predict_One = 0.477717,Predict_One_Label_One = 0.473648,Nombre_Predict_One = 35.450000,Nombre_One_Mean = 34.650000\n",
      "Label_Zero_Predict_Zero = 0.981569,Label_Zero_Predict_Zero = 0.982611,Nombre_Predict_Zero = 1080.550000,Nombre_Zero_Mean = 1081.350000\n",
      "Accuracy_fixe_mean = 0.984633,Accuracy_fixe_one = 0.547485,Accuracy_fixe_zero = 0.989349\n",
      "\n"
     ]
    },
    {
     "name": "stderr",
     "output_type": "stream",
     "text": [
      " 75%|███████████████████████████████████████████████████████████▎                   | 750/1000 [20:21<06:42,  1.61s/it]"
     ]
    },
    {
     "name": "stdout",
     "output_type": "stream",
     "text": [
      "Loss = 0.607406,Accuracy_value = 0.964444,Accuracy_instance = 0.000000\n",
      "Label_One_Predict_One = 0.469346,Predict_One_Label_One = 0.462437,Nombre_Predict_One = 35.800000,Nombre_One_Mean = 34.650000\n",
      "Label_Zero_Predict_Zero = 0.980787,Label_Zero_Predict_Zero = 0.982399,Nombre_Predict_Zero = 1080.200000,Nombre_Zero_Mean = 1081.350000\n",
      "Accuracy_fixe_mean = 0.983871,Accuracy_fixe_one = 0.542602,Accuracy_fixe_zero = 0.989136\n",
      "\n"
     ]
    },
    {
     "name": "stderr",
     "output_type": "stream",
     "text": [
      " 80%|███████████████████████████████████████████████████████████████▏               | 800/1000 [21:42<05:22,  1.61s/it]"
     ]
    },
    {
     "name": "stdout",
     "output_type": "stream",
     "text": [
      "Loss = 0.684194,Accuracy_value = 0.962760,Accuracy_instance = 0.000000\n",
      "Label_One_Predict_One = 0.434543,Predict_One_Label_One = 0.436832,Nombre_Predict_One = 35.200000,Nombre_One_Mean = 34.650000\n",
      "Label_Zero_Predict_Zero = 0.980269,Label_Zero_Predict_Zero = 0.981182,Nombre_Predict_Zero = 1080.800000,Nombre_Zero_Mean = 1081.350000\n",
      "Accuracy_fixe_mean = 0.984185,Accuracy_fixe_one = 0.542870,Accuracy_fixe_zero = 0.989059\n",
      "\n"
     ]
    },
    {
     "name": "stderr",
     "output_type": "stream",
     "text": [
      " 85%|███████████████████████████████████████████████████████████████████▏           | 850/1000 [23:03<04:01,  1.61s/it]"
     ]
    },
    {
     "name": "stdout",
     "output_type": "stream",
     "text": [
      "Loss = 0.757916,Accuracy_value = 0.961720,Accuracy_instance = 0.000000\n",
      "Label_One_Predict_One = 0.423189,Predict_One_Label_One = 0.414488,Nombre_Predict_One = 35.850000,Nombre_One_Mean = 34.650000\n",
      "Label_Zero_Predict_Zero = 0.979535,Label_Zero_Predict_Zero = 0.980856,Nombre_Predict_Zero = 1080.150000,Nombre_Zero_Mean = 1081.350000\n",
      "Accuracy_fixe_mean = 0.983311,Accuracy_fixe_one = 0.525312,Accuracy_fixe_zero = 0.988379\n",
      "\n"
     ]
    },
    {
     "name": "stderr",
     "output_type": "stream",
     "text": [
      " 90%|███████████████████████████████████████████████████████████████████████        | 900/1000 [24:24<02:44,  1.65s/it]"
     ]
    },
    {
     "name": "stdout",
     "output_type": "stream",
     "text": [
      "Loss = 0.826424,Accuracy_value = 0.961864,Accuracy_instance = 0.000000\n",
      "Label_One_Predict_One = 0.416046,Predict_One_Label_One = 0.412856,Nombre_Predict_One = 35.300000,Nombre_One_Mean = 34.650000\n",
      "Label_Zero_Predict_Zero = 0.979869,Label_Zero_Predict_Zero = 0.980683,Nombre_Predict_Zero = 1080.700000,Nombre_Zero_Mean = 1081.350000\n",
      "Accuracy_fixe_mean = 0.984030,Accuracy_fixe_one = 0.525145,Accuracy_fixe_zero = 0.988756\n",
      "\n"
     ]
    },
    {
     "name": "stderr",
     "output_type": "stream",
     "text": [
      " 95%|███████████████████████████████████████████████████████████████████████████    | 950/1000 [25:46<01:22,  1.65s/it]"
     ]
    },
    {
     "name": "stdout",
     "output_type": "stream",
     "text": [
      "Loss = 0.864111,Accuracy_value = 0.963029,Accuracy_instance = 0.000000\n",
      "Label_One_Predict_One = 0.434916,Predict_One_Label_One = 0.428966,Nombre_Predict_One = 35.500000,Nombre_One_Mean = 34.650000\n",
      "Label_Zero_Predict_Zero = 0.980429,Label_Zero_Predict_Zero = 0.981335,Nombre_Predict_Zero = 1080.500000,Nombre_Zero_Mean = 1081.350000\n",
      "Accuracy_fixe_mean = 0.983966,Accuracy_fixe_one = 0.535936,Accuracy_fixe_zero = 0.988532\n",
      "\n"
     ]
    },
    {
     "name": "stderr",
     "output_type": "stream",
     "text": [
      "100%|██████████████████████████████████████████████████████████████████████████████| 1000/1000 [27:07<00:00,  1.63s/it]\n",
      "  0%|                                                                                         | 0/1000 [00:00<?, ?it/s]"
     ]
    },
    {
     "name": "stdout",
     "output_type": "stream",
     "text": [
      "Loss = 0.876856,Accuracy_value = 0.961595,Accuracy_instance = 0.000000\n",
      "Label_One_Predict_One = 0.430328,Predict_One_Label_One = 0.401372,Nombre_Predict_One = 37.450000,Nombre_One_Mean = 34.800000\n",
      "Label_Zero_Predict_Zero = 0.978636,Label_Zero_Predict_Zero = 0.981611,Nombre_Predict_Zero = 1101.800000,Nombre_Zero_Mean = 1104.450000\n",
      "Accuracy_fixe_mean = 0.983536,Accuracy_fixe_one = 0.532333,Accuracy_fixe_zero = 0.988092\n",
      "\n",
      "Loss = 2.552254,Accuracy_value = 0.845090,Accuracy_instance = 0.000000\n",
      "Label_One_Predict_One = 0.236200,Predict_One_Label_One = 0.054400,Nombre_Predict_One = 151.800000,Nombre_One_Mean = 34.650000\n",
      "Label_Zero_Predict_Zero = 0.865392,Label_Zero_Predict_Zero = 0.971336,Nombre_Predict_Zero = 964.200000,Nombre_Zero_Mean = 1081.350000\n",
      "Accuracy_fixe_mean = 0.876680,Accuracy_fixe_one = 0.042010,Accuracy_fixe_zero = 0.981320\n",
      "\n"
     ]
    },
    {
     "name": "stderr",
     "output_type": "stream",
     "text": [
      "  5%|████                                                                            | 50/1000 [01:20<25:22,  1.60s/it]"
     ]
    },
    {
     "name": "stdout",
     "output_type": "stream",
     "text": [
      "Loss = 0.149223,Accuracy_value = 0.976846,Accuracy_instance = 0.000000\n",
      "Label_One_Predict_One = 0.449365,Predict_One_Label_One = 0.723334,Nombre_Predict_One = 21.600000,Nombre_One_Mean = 34.650000\n",
      "Label_Zero_Predict_Zero = 0.994313,Label_Zero_Predict_Zero = 0.981987,Nombre_Predict_Zero = 1094.400000,Nombre_Zero_Mean = 1081.350000\n",
      "Accuracy_fixe_mean = 0.994086,Accuracy_fixe_one = 0.000000,Accuracy_fixe_zero = 0.994086\n",
      "\n"
     ]
    },
    {
     "name": "stderr",
     "output_type": "stream",
     "text": [
      " 10%|███████▉                                                                       | 100/1000 [02:41<24:00,  1.60s/it]"
     ]
    },
    {
     "name": "stdout",
     "output_type": "stream",
     "text": [
      "Loss = 0.154544,Accuracy_value = 0.974928,Accuracy_instance = 0.000000\n",
      "Label_One_Predict_One = 0.528646,Predict_One_Label_One = 0.629804,Nombre_Predict_One = 29.100000,Nombre_One_Mean = 34.650000\n",
      "Label_Zero_Predict_Zero = 0.989696,Label_Zero_Predict_Zero = 0.984469,Nombre_Predict_Zero = 1086.900000,Nombre_Zero_Mean = 1081.350000\n",
      "Accuracy_fixe_mean = 0.995161,Accuracy_fixe_one = 0.050000,Accuracy_fixe_zero = 0.995161\n",
      "\n"
     ]
    },
    {
     "name": "stderr",
     "output_type": "stream",
     "text": [
      " 15%|███████████▊                                                                   | 150/1000 [04:02<22:44,  1.60s/it]"
     ]
    },
    {
     "name": "stdout",
     "output_type": "stream",
     "text": [
      "Loss = 0.167118,Accuracy_value = 0.973710,Accuracy_instance = 0.000000\n",
      "Label_One_Predict_One = 0.520154,Predict_One_Label_One = 0.605991,Nombre_Predict_One = 29.900000,Nombre_One_Mean = 34.650000\n",
      "Label_Zero_Predict_Zero = 0.988659,Label_Zero_Predict_Zero = 0.984231,Nombre_Predict_Zero = 1086.100000,Nombre_Zero_Mean = 1081.350000\n",
      "Accuracy_fixe_mean = 0.992787,Accuracy_fixe_one = 0.350000,Accuracy_fixe_zero = 0.993161\n",
      "\n"
     ]
    },
    {
     "name": "stderr",
     "output_type": "stream",
     "text": [
      " 20%|███████████████▊                                                               | 200/1000 [05:23<21:22,  1.60s/it]"
     ]
    },
    {
     "name": "stdout",
     "output_type": "stream",
     "text": [
      "Loss = 0.180264,Accuracy_value = 0.972330,Accuracy_instance = 0.000000\n",
      "Label_One_Predict_One = 0.459045,Predict_One_Label_One = 0.597495,Nombre_Predict_One = 26.900000,Nombre_One_Mean = 34.650000\n",
      "Label_Zero_Predict_Zero = 0.989397,Label_Zero_Predict_Zero = 0.982126,Nombre_Predict_Zero = 1089.100000,Nombre_Zero_Mean = 1081.350000\n",
      "Accuracy_fixe_mean = 0.992070,Accuracy_fixe_one = 0.391667,Accuracy_fixe_zero = 0.992709\n",
      "\n"
     ]
    },
    {
     "name": "stderr",
     "output_type": "stream",
     "text": [
      " 25%|███████████████████▊                                                           | 250/1000 [06:43<19:54,  1.59s/it]"
     ]
    },
    {
     "name": "stdout",
     "output_type": "stream",
     "text": [
      "Loss = 0.194594,Accuracy_value = 0.971541,Accuracy_instance = 0.000000\n",
      "Label_One_Predict_One = 0.451242,Predict_One_Label_One = 0.575948,Nombre_Predict_One = 27.500000,Nombre_One_Mean = 34.650000\n",
      "Label_Zero_Predict_Zero = 0.988981,Label_Zero_Predict_Zero = 0.981746,Nombre_Predict_Zero = 1088.500000,Nombre_Zero_Mean = 1081.350000\n",
      "Accuracy_fixe_mean = 0.990659,Accuracy_fixe_one = 0.479167,Accuracy_fixe_zero = 0.991465\n",
      "\n"
     ]
    },
    {
     "name": "stderr",
     "output_type": "stream",
     "text": [
      " 30%|███████████████████████▋                                                       | 300/1000 [08:04<18:35,  1.59s/it]"
     ]
    },
    {
     "name": "stdout",
     "output_type": "stream",
     "text": [
      "Loss = 0.222276,Accuracy_value = 0.970430,Accuracy_instance = 0.000000\n",
      "Label_One_Predict_One = 0.446067,Predict_One_Label_One = 0.554108,Nombre_Predict_One = 28.150000,Nombre_One_Mean = 34.650000\n",
      "Label_Zero_Predict_Zero = 0.987785,Label_Zero_Predict_Zero = 0.981750,Nombre_Predict_Zero = 1087.850000,Nombre_Zero_Mean = 1081.350000\n",
      "Accuracy_fixe_mean = 0.988351,Accuracy_fixe_one = 0.453809,Accuracy_fixe_zero = 0.990282\n",
      "\n"
     ]
    },
    {
     "name": "stderr",
     "output_type": "stream",
     "text": [
      " 35%|███████████████████████████▋                                                   | 350/1000 [09:25<17:16,  1.59s/it]"
     ]
    },
    {
     "name": "stdout",
     "output_type": "stream",
     "text": [
      "Loss = 0.246311,Accuracy_value = 0.969516,Accuracy_instance = 0.000000\n",
      "Label_One_Predict_One = 0.424746,Predict_One_Label_One = 0.538037,Nombre_Predict_One = 27.700000,Nombre_One_Mean = 34.650000\n",
      "Label_Zero_Predict_Zero = 0.987488,Label_Zero_Predict_Zero = 0.981121,Nombre_Predict_Zero = 1088.300000,Nombre_Zero_Mean = 1081.350000\n",
      "Accuracy_fixe_mean = 0.987948,Accuracy_fixe_one = 0.472202,Accuracy_fixe_zero = 0.990333\n",
      "\n"
     ]
    },
    {
     "name": "stderr",
     "output_type": "stream",
     "text": [
      " 40%|███████████████████████████████▌                                               | 400/1000 [10:45<15:55,  1.59s/it]"
     ]
    },
    {
     "name": "stdout",
     "output_type": "stream",
     "text": [
      "Loss = 0.269832,Accuracy_value = 0.970520,Accuracy_instance = 0.000000\n",
      "Label_One_Predict_One = 0.433401,Predict_One_Label_One = 0.553925,Nombre_Predict_One = 27.350000,Nombre_One_Mean = 34.650000\n",
      "Label_Zero_Predict_Zero = 0.988271,Label_Zero_Predict_Zero = 0.981384,Nombre_Predict_Zero = 1088.650000,Nombre_Zero_Mean = 1081.350000\n",
      "Accuracy_fixe_mean = 0.987119,Accuracy_fixe_one = 0.550218,Accuracy_fixe_zero = 0.989984\n",
      "\n"
     ]
    },
    {
     "name": "stderr",
     "output_type": "stream",
     "text": [
      " 45%|███████████████████████████████████▌                                           | 450/1000 [12:06<14:36,  1.59s/it]"
     ]
    },
    {
     "name": "stdout",
     "output_type": "stream",
     "text": [
      "Loss = 0.314022,Accuracy_value = 0.970394,Accuracy_instance = 0.000000\n",
      "Label_One_Predict_One = 0.411839,Predict_One_Label_One = 0.557905,Nombre_Predict_One = 25.750000,Nombre_One_Mean = 34.650000\n",
      "Label_Zero_Predict_Zero = 0.988801,Label_Zero_Predict_Zero = 0.980743,Nombre_Predict_Zero = 1090.250000,Nombre_Zero_Mean = 1081.350000\n",
      "Accuracy_fixe_mean = 0.986537,Accuracy_fixe_one = 0.583346,Accuracy_fixe_zero = 0.989871\n",
      "\n"
     ]
    },
    {
     "name": "stderr",
     "output_type": "stream",
     "text": [
      " 50%|███████████████████████████████████████▌                                       | 500/1000 [13:27<13:26,  1.61s/it]"
     ]
    },
    {
     "name": "stdout",
     "output_type": "stream",
     "text": [
      "Loss = 0.351746,Accuracy_value = 0.967778,Accuracy_instance = 0.000000\n",
      "Label_One_Predict_One = 0.431555,Predict_One_Label_One = 0.509241,Nombre_Predict_One = 29.550000,Nombre_One_Mean = 34.650000\n",
      "Label_Zero_Predict_Zero = 0.985626,Label_Zero_Predict_Zero = 0.981132,Nombre_Predict_Zero = 1086.450000,Nombre_Zero_Mean = 1081.350000\n",
      "Accuracy_fixe_mean = 0.984812,Accuracy_fixe_one = 0.561841,Accuracy_fixe_zero = 0.989047\n",
      "\n"
     ]
    },
    {
     "name": "stderr",
     "output_type": "stream",
     "text": [
      " 55%|███████████████████████████████████████████▍                                   | 550/1000 [14:48<11:59,  1.60s/it]"
     ]
    },
    {
     "name": "stdout",
     "output_type": "stream",
     "text": [
      "Loss = 0.349868,Accuracy_value = 0.969140,Accuracy_instance = 0.000000\n",
      "Label_One_Predict_One = 0.464928,Predict_One_Label_One = 0.527007,Nombre_Predict_One = 30.600000,Nombre_One_Mean = 34.650000\n",
      "Label_Zero_Predict_Zero = 0.985871,Label_Zero_Predict_Zero = 0.982281,Nombre_Predict_Zero = 1085.400000,Nombre_Zero_Mean = 1081.350000\n",
      "Accuracy_fixe_mean = 0.985103,Accuracy_fixe_one = 0.522829,Accuracy_fixe_zero = 0.989370\n",
      "\n"
     ]
    },
    {
     "name": "stderr",
     "output_type": "stream",
     "text": [
      " 60%|███████████████████████████████████████████████▍                               | 600/1000 [16:09<10:40,  1.60s/it]"
     ]
    },
    {
     "name": "stdout",
     "output_type": "stream",
     "text": [
      "Loss = 0.397549,Accuracy_value = 0.967401,Accuracy_instance = 0.000000\n",
      "Label_One_Predict_One = 0.439360,Predict_One_Label_One = 0.491222,Nombre_Predict_One = 31.000000,Nombre_One_Mean = 34.650000\n",
      "Label_Zero_Predict_Zero = 0.984839,Label_Zero_Predict_Zero = 0.981516,Nombre_Predict_Zero = 1085.000000,Nombre_Zero_Mean = 1081.350000\n",
      "Accuracy_fixe_mean = 0.984610,Accuracy_fixe_one = 0.559487,Accuracy_fixe_zero = 0.988444\n",
      "\n"
     ]
    },
    {
     "name": "stderr",
     "output_type": "stream",
     "text": [
      " 65%|███████████████████████████████████████████████████▎                           | 650/1000 [17:29<09:20,  1.60s/it]"
     ]
    },
    {
     "name": "stdout",
     "output_type": "stream",
     "text": [
      "Loss = 0.487395,Accuracy_value = 0.967581,Accuracy_instance = 0.000000\n",
      "Label_One_Predict_One = 0.445198,Predict_One_Label_One = 0.491222,Nombre_Predict_One = 31.200000,Nombre_One_Mean = 34.650000\n",
      "Label_Zero_Predict_Zero = 0.984839,Label_Zero_Predict_Zero = 0.981702,Nombre_Predict_Zero = 1084.800000,Nombre_Zero_Mean = 1081.350000\n",
      "Accuracy_fixe_mean = 0.984095,Accuracy_fixe_one = 0.565106,Accuracy_fixe_zero = 0.988449\n",
      "\n"
     ]
    },
    {
     "name": "stderr",
     "output_type": "stream",
     "text": [
      " 70%|███████████████████████████████████████████████████████▎                       | 700/1000 [18:50<08:00,  1.60s/it]"
     ]
    },
    {
     "name": "stdout",
     "output_type": "stream",
     "text": [
      "Loss = 0.533711,Accuracy_value = 0.965125,Accuracy_instance = 0.000000\n",
      "Label_One_Predict_One = 0.433884,Predict_One_Label_One = 0.454900,Nombre_Predict_One = 32.750000,Nombre_One_Mean = 34.650000\n",
      "Label_Zero_Predict_Zero = 0.982624,Label_Zero_Predict_Zero = 0.981337,Nombre_Predict_Zero = 1083.250000,Nombre_Zero_Mean = 1081.350000\n",
      "Accuracy_fixe_mean = 0.983647,Accuracy_fixe_one = 0.538346,Accuracy_fixe_zero = 0.988841\n",
      "\n"
     ]
    },
    {
     "name": "stderr",
     "output_type": "stream",
     "text": [
      " 75%|███████████████████████████████████████████████████████████▎                   | 750/1000 [20:10<06:37,  1.59s/it]"
     ]
    },
    {
     "name": "stdout",
     "output_type": "stream",
     "text": [
      "Loss = 0.574500,Accuracy_value = 0.965233,Accuracy_instance = 0.000000\n",
      "Label_One_Predict_One = 0.422372,Predict_One_Label_One = 0.454572,Nombre_Predict_One = 32.050000,Nombre_One_Mean = 34.650000\n",
      "Label_Zero_Predict_Zero = 0.983073,Label_Zero_Predict_Zero = 0.981021,Nombre_Predict_Zero = 1083.950000,Nombre_Zero_Mean = 1081.350000\n",
      "Accuracy_fixe_mean = 0.983714,Accuracy_fixe_one = 0.527931,Accuracy_fixe_zero = 0.988401\n",
      "\n"
     ]
    },
    {
     "name": "stderr",
     "output_type": "stream",
     "text": [
      " 80%|███████████████████████████████████████████████████████████████▏               | 800/1000 [21:33<05:22,  1.61s/it]"
     ]
    },
    {
     "name": "stdout",
     "output_type": "stream",
     "text": [
      "Loss = 0.616111,Accuracy_value = 0.964050,Accuracy_instance = 0.000000\n",
      "Label_One_Predict_One = 0.403375,Predict_One_Label_One = 0.444703,Nombre_Predict_One = 31.950000,Nombre_One_Mean = 34.650000\n",
      "Label_Zero_Predict_Zero = 0.982555,Label_Zero_Predict_Zero = 0.980311,Nombre_Predict_Zero = 1084.050000,Nombre_Zero_Mean = 1081.350000\n",
      "Accuracy_fixe_mean = 0.983468,Accuracy_fixe_one = 0.551401,Accuracy_fixe_zero = 0.988335\n",
      "\n"
     ]
    },
    {
     "name": "stderr",
     "output_type": "stream",
     "text": [
      " 85%|███████████████████████████████████████████████████████████████████▏           | 850/1000 [22:53<03:59,  1.60s/it]"
     ]
    },
    {
     "name": "stdout",
     "output_type": "stream",
     "text": [
      "Loss = 0.700720,Accuracy_value = 0.963029,Accuracy_instance = 0.000000\n",
      "Label_One_Predict_One = 0.410726,Predict_One_Label_One = 0.422364,Nombre_Predict_One = 33.800000,Nombre_One_Mean = 34.650000\n",
      "Label_Zero_Predict_Zero = 0.981244,Label_Zero_Predict_Zero = 0.980555,Nombre_Predict_Zero = 1082.200000,Nombre_Zero_Mean = 1081.350000\n",
      "Accuracy_fixe_mean = 0.981542,Accuracy_fixe_one = 0.536596,Accuracy_fixe_zero = 0.987446\n",
      "\n"
     ]
    },
    {
     "name": "stderr",
     "output_type": "stream",
     "text": [
      " 90%|███████████████████████████████████████████████████████████████████████        | 900/1000 [24:14<02:40,  1.60s/it]"
     ]
    },
    {
     "name": "stdout",
     "output_type": "stream",
     "text": [
      "Loss = 0.725707,Accuracy_value = 0.963333,Accuracy_instance = 0.000000\n",
      "Label_One_Predict_One = 0.423471,Predict_One_Label_One = 0.427352,Nombre_Predict_One = 34.300000,Nombre_One_Mean = 34.650000\n",
      "Label_Zero_Predict_Zero = 0.981169,Label_Zero_Predict_Zero = 0.980926,Nombre_Predict_Zero = 1081.700000,Nombre_Zero_Mean = 1081.350000\n",
      "Accuracy_fixe_mean = 0.982706,Accuracy_fixe_one = 0.531928,Accuracy_fixe_zero = 0.988406\n",
      "\n"
     ]
    },
    {
     "name": "stderr",
     "output_type": "stream",
     "text": [
      " 95%|███████████████████████████████████████████████████████████████████████████    | 950/1000 [25:34<01:20,  1.61s/it]"
     ]
    },
    {
     "name": "stdout",
     "output_type": "stream",
     "text": [
      "Loss = 0.753138,Accuracy_value = 0.963978,Accuracy_instance = 0.000000\n",
      "Label_One_Predict_One = 0.419388,Predict_One_Label_One = 0.436028,Nombre_Predict_One = 33.650000,Nombre_One_Mean = 34.650000\n",
      "Label_Zero_Predict_Zero = 0.981918,Label_Zero_Predict_Zero = 0.980875,Nombre_Predict_Zero = 1082.350000,Nombre_Zero_Mean = 1081.350000\n",
      "Accuracy_fixe_mean = 0.982056,Accuracy_fixe_one = 0.524394,Accuracy_fixe_zero = 0.987642\n",
      "\n"
     ]
    },
    {
     "name": "stderr",
     "output_type": "stream",
     "text": [
      "100%|██████████████████████████████████████████████████████████████████████████████| 1000/1000 [26:55<00:00,  1.62s/it]\n",
      "  0%|                                                                                         | 0/1000 [00:00<?, ?it/s]"
     ]
    },
    {
     "name": "stdout",
     "output_type": "stream",
     "text": [
      "Loss = 0.808608,Accuracy_value = 0.962294,Accuracy_instance = 0.000000\n",
      "Label_One_Predict_One = 0.409520,Predict_One_Label_One = 0.401945,Nombre_Predict_One = 35.500000,Nombre_One_Mean = 34.800000\n",
      "Label_Zero_Predict_Zero = 0.979993,Label_Zero_Predict_Zero = 0.981027,Nombre_Predict_Zero = 1103.750000,Nombre_Zero_Mean = 1104.450000\n",
      "Accuracy_fixe_mean = 0.980758,Accuracy_fixe_one = 0.514148,Accuracy_fixe_zero = 0.987296\n",
      "\n",
      "Loss = 3.883289,Accuracy_value = 0.707957,Accuracy_instance = 0.000000\n",
      "Label_One_Predict_One = 0.793291,Predict_One_Label_One = 0.082919,Nombre_Predict_One = 338.400000,Nombre_One_Mean = 34.650000\n",
      "Label_Zero_Predict_Zero = 0.704659,Label_Zero_Predict_Zero = 0.990726,Nombre_Predict_Zero = 777.600000,Nombre_Zero_Mean = 1081.350000\n",
      "Accuracy_fixe_mean = 0.758849,Accuracy_fixe_one = 0.105108,Accuracy_fixe_zero = 0.992690\n",
      "\n"
     ]
    },
    {
     "name": "stderr",
     "output_type": "stream",
     "text": [
      "  5%|████                                                                            | 50/1000 [01:21<25:27,  1.61s/it]"
     ]
    },
    {
     "name": "stdout",
     "output_type": "stream",
     "text": [
      "Loss = 0.149462,Accuracy_value = 0.976487,Accuracy_instance = 0.000000\n",
      "Label_One_Predict_One = 0.424902,Predict_One_Label_One = 0.726587,Nombre_Predict_One = 20.400000,Nombre_One_Mean = 34.650000\n",
      "Label_Zero_Predict_Zero = 0.994722,Label_Zero_Predict_Zero = 0.981246,Nombre_Predict_Zero = 1095.600000,Nombre_Zero_Mean = 1081.350000\n",
      "Accuracy_fixe_mean = 0.994355,Accuracy_fixe_one = 0.000000,Accuracy_fixe_zero = 0.994355\n",
      "\n"
     ]
    },
    {
     "name": "stderr",
     "output_type": "stream",
     "text": [
      " 10%|███████▉                                                                       | 100/1000 [02:42<23:56,  1.60s/it]"
     ]
    },
    {
     "name": "stdout",
     "output_type": "stream",
     "text": [
      "Loss = 0.154505,Accuracy_value = 0.976093,Accuracy_instance = 0.000000\n",
      "Label_One_Predict_One = 0.488126,Predict_One_Label_One = 0.683610,Nombre_Predict_One = 25.050000,Nombre_One_Mean = 34.650000\n",
      "Label_Zero_Predict_Zero = 0.992292,Label_Zero_Predict_Zero = 0.983156,Nombre_Predict_Zero = 1090.950000,Nombre_Zero_Mean = 1081.350000\n",
      "Accuracy_fixe_mean = 0.994243,Accuracy_fixe_one = 0.000000,Accuracy_fixe_zero = 0.994243\n",
      "\n"
     ]
    },
    {
     "name": "stderr",
     "output_type": "stream",
     "text": [
      " 15%|███████████▊                                                                   | 150/1000 [04:02<22:36,  1.60s/it]"
     ]
    },
    {
     "name": "stdout",
     "output_type": "stream",
     "text": [
      "Loss = 0.163804,Accuracy_value = 0.975753,Accuracy_instance = 0.000000\n",
      "Label_One_Predict_One = 0.461613,Predict_One_Label_One = 0.683668,Nombre_Predict_One = 23.550000,Nombre_One_Mean = 34.650000\n",
      "Label_Zero_Predict_Zero = 0.992962,Label_Zero_Predict_Zero = 0.982180,Nombre_Predict_Zero = 1092.450000,Nombre_Zero_Mean = 1081.350000\n",
      "Accuracy_fixe_mean = 0.992652,Accuracy_fixe_one = 0.250000,Accuracy_fixe_zero = 0.992960\n",
      "\n"
     ]
    },
    {
     "name": "stderr",
     "output_type": "stream",
     "text": [
      " 20%|███████████████▊                                                               | 200/1000 [05:23<21:16,  1.60s/it]"
     ]
    },
    {
     "name": "stdout",
     "output_type": "stream",
     "text": [
      "Loss = 0.166718,Accuracy_value = 0.973996,Accuracy_instance = 0.000000\n",
      "Label_One_Predict_One = 0.470726,Predict_One_Label_One = 0.629070,Nombre_Predict_One = 26.050000,Nombre_One_Mean = 34.650000\n",
      "Label_Zero_Predict_Zero = 0.990716,Label_Zero_Predict_Zero = 0.982549,Nombre_Predict_Zero = 1089.950000,Nombre_Zero_Mean = 1081.350000\n",
      "Accuracy_fixe_mean = 0.993145,Accuracy_fixe_one = 0.413333,Accuracy_fixe_zero = 0.993451\n",
      "\n"
     ]
    },
    {
     "name": "stderr",
     "output_type": "stream",
     "text": [
      " 25%|███████████████████▊                                                           | 250/1000 [06:43<20:03,  1.61s/it]"
     ]
    },
    {
     "name": "stdout",
     "output_type": "stream",
     "text": [
      "Loss = 0.182783,Accuracy_value = 0.972348,Accuracy_instance = 0.000000\n",
      "Label_One_Predict_One = 0.392070,Predict_One_Label_One = 0.601624,Nombre_Predict_One = 22.450000,Nombre_One_Mean = 34.650000\n",
      "Label_Zero_Predict_Zero = 0.991398,Label_Zero_Predict_Zero = 0.980245,Nombre_Predict_Zero = 1093.550000,Nombre_Zero_Mean = 1081.350000\n",
      "Accuracy_fixe_mean = 0.991622,Accuracy_fixe_one = 0.527500,Accuracy_fixe_zero = 0.992079\n",
      "\n"
     ]
    },
    {
     "name": "stderr",
     "output_type": "stream",
     "text": [
      " 30%|███████████████████████▋                                                       | 300/1000 [08:04<18:37,  1.60s/it]"
     ]
    },
    {
     "name": "stdout",
     "output_type": "stream",
     "text": [
      "Loss = 0.203154,Accuracy_value = 0.972222,Accuracy_instance = 0.000000\n",
      "Label_One_Predict_One = 0.454594,Predict_One_Label_One = 0.596853,Nombre_Predict_One = 26.700000,Nombre_One_Mean = 34.650000\n",
      "Label_Zero_Predict_Zero = 0.989453,Label_Zero_Predict_Zero = 0.981965,Nombre_Predict_Zero = 1089.300000,Nombre_Zero_Mean = 1081.350000\n",
      "Accuracy_fixe_mean = 0.990368,Accuracy_fixe_one = 0.556667,Accuracy_fixe_zero = 0.991507\n",
      "\n"
     ]
    },
    {
     "name": "stderr",
     "output_type": "stream",
     "text": [
      " 35%|███████████████████████████▋                                                   | 350/1000 [09:24<17:19,  1.60s/it]"
     ]
    },
    {
     "name": "stdout",
     "output_type": "stream",
     "text": [
      "Loss = 0.224988,Accuracy_value = 0.971541,Accuracy_instance = 0.000000\n",
      "Label_One_Predict_One = 0.453583,Predict_One_Label_One = 0.571562,Nombre_Predict_One = 27.500000,Nombre_One_Mean = 34.650000\n",
      "Label_Zero_Predict_Zero = 0.988618,Label_Zero_Predict_Zero = 0.982077,Nombre_Predict_Zero = 1088.500000,Nombre_Zero_Mean = 1081.350000\n",
      "Accuracy_fixe_mean = 0.990547,Accuracy_fixe_one = 0.581667,Accuracy_fixe_zero = 0.991574\n",
      "\n"
     ]
    },
    {
     "name": "stderr",
     "output_type": "stream",
     "text": [
      " 40%|███████████████████████████████▌                                               | 400/1000 [10:45<16:02,  1.60s/it]"
     ]
    },
    {
     "name": "stdout",
     "output_type": "stream",
     "text": [
      "Loss = 0.249943,Accuracy_value = 0.970197,Accuracy_instance = 0.000000\n",
      "Label_One_Predict_One = 0.485023,Predict_One_Label_One = 0.538148,Nombre_Predict_One = 30.850000,Nombre_One_Mean = 34.650000\n",
      "Label_Zero_Predict_Zero = 0.986316,Label_Zero_Predict_Zero = 0.982931,Nombre_Predict_Zero = 1085.150000,Nombre_Zero_Mean = 1081.350000\n",
      "Accuracy_fixe_mean = 0.988911,Accuracy_fixe_one = 0.661548,Accuracy_fixe_zero = 0.989946\n",
      "\n"
     ]
    },
    {
     "name": "stderr",
     "output_type": "stream",
     "text": [
      " 45%|███████████████████████████████████▌                                           | 450/1000 [12:06<14:38,  1.60s/it]"
     ]
    },
    {
     "name": "stdout",
     "output_type": "stream",
     "text": [
      "Loss = 0.271778,Accuracy_value = 0.967867,Accuracy_instance = 0.000000\n",
      "Label_One_Predict_One = 0.467173,Predict_One_Label_One = 0.504883,Nombre_Predict_One = 32.350000,Nombre_One_Mean = 34.650000\n",
      "Label_Zero_Predict_Zero = 0.984620,Label_Zero_Predict_Zero = 0.982202,Nombre_Predict_Zero = 1083.650000,Nombre_Zero_Mean = 1081.350000\n",
      "Accuracy_fixe_mean = 0.989628,Accuracy_fixe_one = 0.588512,Accuracy_fixe_zero = 0.991179\n",
      "\n"
     ]
    },
    {
     "name": "stderr",
     "output_type": "stream",
     "text": [
      " 50%|███████████████████████████████████████▌                                       | 500/1000 [13:26<13:22,  1.60s/it]"
     ]
    },
    {
     "name": "stdout",
     "output_type": "stream",
     "text": [
      "Loss = 0.333002,Accuracy_value = 0.967294,Accuracy_instance = 0.000000\n",
      "Label_One_Predict_One = 0.453205,Predict_One_Label_One = 0.504672,Nombre_Predict_One = 31.550000,Nombre_One_Mean = 34.650000\n",
      "Label_Zero_Predict_Zero = 0.984384,Label_Zero_Predict_Zero = 0.981825,Nombre_Predict_Zero = 1084.450000,Nombre_Zero_Mean = 1081.350000\n",
      "Accuracy_fixe_mean = 0.987612,Accuracy_fixe_one = 0.576825,Accuracy_fixe_zero = 0.990172\n",
      "\n"
     ]
    },
    {
     "name": "stderr",
     "output_type": "stream",
     "text": [
      " 55%|███████████████████████████████████████████▍                                   | 550/1000 [14:48<12:03,  1.61s/it]"
     ]
    },
    {
     "name": "stdout",
     "output_type": "stream",
     "text": [
      "Loss = 0.392940,Accuracy_value = 0.966541,Accuracy_instance = 0.000000\n",
      "Label_One_Predict_One = 0.441849,Predict_One_Label_One = 0.495170,Nombre_Predict_One = 31.650000,Nombre_One_Mean = 34.650000\n",
      "Label_Zero_Predict_Zero = 0.983959,Label_Zero_Predict_Zero = 0.981478,Nombre_Predict_Zero = 1084.350000,Nombre_Zero_Mean = 1081.350000\n",
      "Accuracy_fixe_mean = 0.987500,Accuracy_fixe_one = 0.649821,Accuracy_fixe_zero = 0.989758\n",
      "\n"
     ]
    },
    {
     "name": "stderr",
     "output_type": "stream",
     "text": [
      " 60%|███████████████████████████████████████████████▍                               | 600/1000 [16:09<10:43,  1.61s/it]"
     ]
    },
    {
     "name": "stdout",
     "output_type": "stream",
     "text": [
      "Loss = 0.469367,Accuracy_value = 0.965125,Accuracy_instance = 0.000000\n",
      "Label_One_Predict_One = 0.447610,Predict_One_Label_One = 0.459774,Nombre_Predict_One = 33.700000,Nombre_One_Mean = 34.650000\n",
      "Label_Zero_Predict_Zero = 0.982293,Label_Zero_Predict_Zero = 0.981655,Nombre_Predict_Zero = 1082.300000,Nombre_Zero_Mean = 1081.350000\n",
      "Accuracy_fixe_mean = 0.985417,Accuracy_fixe_one = 0.564850,Accuracy_fixe_zero = 0.988949\n",
      "\n"
     ]
    },
    {
     "name": "stderr",
     "output_type": "stream",
     "text": [
      " 65%|███████████████████████████████████████████████████▎                           | 650/1000 [17:30<09:24,  1.61s/it]"
     ]
    },
    {
     "name": "stdout",
     "output_type": "stream",
     "text": [
      "Loss = 0.511952,Accuracy_value = 0.964032,Accuracy_instance = 0.000000\n",
      "Label_One_Predict_One = 0.413308,Predict_One_Label_One = 0.433821,Nombre_Predict_One = 32.800000,Nombre_One_Mean = 34.650000\n",
      "Label_Zero_Predict_Zero = 0.982187,Label_Zero_Predict_Zero = 0.980664,Nombre_Predict_Zero = 1083.200000,Nombre_Zero_Mean = 1081.350000\n",
      "Accuracy_fixe_mean = 0.985193,Accuracy_fixe_one = 0.553723,Accuracy_fixe_zero = 0.988332\n",
      "\n"
     ]
    },
    {
     "name": "stderr",
     "output_type": "stream",
     "text": [
      " 70%|███████████████████████████████████████████████████████▎                       | 700/1000 [18:51<08:01,  1.60s/it]"
     ]
    },
    {
     "name": "stdout",
     "output_type": "stream",
     "text": [
      "Loss = 0.579487,Accuracy_value = 0.962419,Accuracy_instance = 0.000000\n",
      "Label_One_Predict_One = 0.431769,Predict_One_Label_One = 0.418443,Nombre_Predict_One = 35.500000,Nombre_One_Mean = 34.650000\n",
      "Label_Zero_Predict_Zero = 0.979956,Label_Zero_Predict_Zero = 0.981159,Nombre_Predict_Zero = 1080.500000,Nombre_Zero_Mean = 1081.350000\n",
      "Accuracy_fixe_mean = 0.984117,Accuracy_fixe_one = 0.526777,Accuracy_fixe_zero = 0.988135\n",
      "\n"
     ]
    },
    {
     "name": "stderr",
     "output_type": "stream",
     "text": [
      " 75%|███████████████████████████████████████████████████████████▎                   | 750/1000 [20:12<06:39,  1.60s/it]"
     ]
    },
    {
     "name": "stdout",
     "output_type": "stream",
     "text": [
      "Loss = 0.611968,Accuracy_value = 0.963244,Accuracy_instance = 0.000000\n",
      "Label_One_Predict_One = 0.442918,Predict_One_Label_One = 0.433757,Nombre_Predict_One = 35.400000,Nombre_One_Mean = 34.650000\n",
      "Label_Zero_Predict_Zero = 0.980533,Label_Zero_Predict_Zero = 0.981433,Nombre_Predict_Zero = 1080.600000,Nombre_Zero_Mean = 1081.350000\n",
      "Accuracy_fixe_mean = 0.984409,Accuracy_fixe_one = 0.553405,Accuracy_fixe_zero = 0.988313\n",
      "\n"
     ]
    },
    {
     "name": "stderr",
     "output_type": "stream",
     "text": [
      " 80%|███████████████████████████████████████████████████████████████▏               | 800/1000 [21:33<05:18,  1.59s/it]"
     ]
    },
    {
     "name": "stdout",
     "output_type": "stream",
     "text": [
      "Loss = 0.650006,Accuracy_value = 0.964032,Accuracy_instance = 0.000000\n",
      "Label_One_Predict_One = 0.429888,Predict_One_Label_One = 0.439430,Nombre_Predict_One = 33.850000,Nombre_One_Mean = 34.650000\n",
      "Label_Zero_Predict_Zero = 0.981799,Label_Zero_Predict_Zero = 0.981028,Nombre_Predict_Zero = 1082.150000,Nombre_Zero_Mean = 1081.350000\n",
      "Accuracy_fixe_mean = 0.984969,Accuracy_fixe_one = 0.520994,Accuracy_fixe_zero = 0.988859\n",
      "\n"
     ]
    },
    {
     "name": "stderr",
     "output_type": "stream",
     "text": [
      " 85%|███████████████████████████████████████████████████████████████████▏           | 850/1000 [22:53<03:58,  1.59s/it]"
     ]
    },
    {
     "name": "stdout",
     "output_type": "stream",
     "text": [
      "Loss = 0.707965,Accuracy_value = 0.963333,Accuracy_instance = 0.000000\n",
      "Label_One_Predict_One = 0.434545,Predict_One_Label_One = 0.436775,Nombre_Predict_One = 34.700000,Nombre_One_Mean = 34.650000\n",
      "Label_Zero_Predict_Zero = 0.980846,Label_Zero_Predict_Zero = 0.981221,Nombre_Predict_Zero = 1081.300000,Nombre_Zero_Mean = 1081.350000\n",
      "Accuracy_fixe_mean = 0.984703,Accuracy_fixe_one = 0.561344,Accuracy_fixe_zero = 0.988779\n",
      "\n"
     ]
    },
    {
     "name": "stderr",
     "output_type": "stream",
     "text": [
      " 90%|███████████████████████████████████████████████████████████████████████        | 900/1000 [24:13<02:38,  1.59s/it]"
     ]
    },
    {
     "name": "stdout",
     "output_type": "stream",
     "text": [
      "Loss = 0.745464,Accuracy_value = 0.961989,Accuracy_instance = 0.000000\n",
      "Label_One_Predict_One = 0.433604,Predict_One_Label_One = 0.414897,Nombre_Predict_One = 36.400000,Nombre_One_Mean = 34.650000\n",
      "Label_Zero_Predict_Zero = 0.979407,Label_Zero_Predict_Zero = 0.981251,Nombre_Predict_Zero = 1079.600000,Nombre_Zero_Mean = 1081.350000\n",
      "Accuracy_fixe_mean = 0.984679,Accuracy_fixe_one = 0.582490,Accuracy_fixe_zero = 0.988996\n",
      "\n"
     ]
    },
    {
     "name": "stderr",
     "output_type": "stream",
     "text": [
      " 95%|███████████████████████████████████████████████████████████████████████████    | 950/1000 [25:34<01:19,  1.60s/it]"
     ]
    },
    {
     "name": "stdout",
     "output_type": "stream",
     "text": [
      "Loss = 0.753194,Accuracy_value = 0.960842,Accuracy_instance = 0.000000\n",
      "Label_One_Predict_One = 0.428824,Predict_One_Label_One = 0.400900,Nombre_Predict_One = 37.200000,Nombre_One_Mean = 34.650000\n",
      "Label_Zero_Predict_Zero = 0.978480,Label_Zero_Predict_Zero = 0.980980,Nombre_Predict_Zero = 1078.800000,Nombre_Zero_Mean = 1081.350000\n",
      "Accuracy_fixe_mean = 0.984432,Accuracy_fixe_one = 0.584186,Accuracy_fixe_zero = 0.988723\n",
      "\n"
     ]
    },
    {
     "name": "stderr",
     "output_type": "stream",
     "text": [
      "100%|██████████████████████████████████████████████████████████████████████████████| 1000/1000 [26:55<00:00,  1.62s/it]\n",
      "  0%|                                                                                         | 0/1000 [00:00<?, ?it/s]"
     ]
    },
    {
     "name": "stdout",
     "output_type": "stream",
     "text": [
      "Loss = 0.818137,Accuracy_value = 0.962581,Accuracy_instance = 0.000000\n",
      "Label_One_Predict_One = 0.434872,Predict_One_Label_One = 0.411231,Nombre_Predict_One = 37.000000,Nombre_One_Mean = 34.800000\n",
      "Label_Zero_Predict_Zero = 0.979553,Label_Zero_Predict_Zero = 0.981757,Nombre_Predict_Zero = 1102.250000,Nombre_Zero_Mean = 1104.450000\n",
      "Accuracy_fixe_mean = 0.984680,Accuracy_fixe_one = 0.555107,Accuracy_fixe_zero = 0.988776\n",
      "\n",
      "Loss = 4.755724,Accuracy_value = 0.131075,Accuracy_instance = 0.000000\n",
      "Label_One_Predict_One = 0.929585,Predict_One_Label_One = 0.033400,Nombre_Predict_One = 1000.400000,Nombre_One_Mean = 34.650000\n",
      "Label_Zero_Predict_Zero = 0.104486,Label_Zero_Predict_Zero = 0.978471,Nombre_Predict_Zero = 115.600000,Nombre_Zero_Mean = 1081.350000\n",
      "Accuracy_fixe_mean = 0.114091,Accuracy_fixe_one = 0.039347,Accuracy_fixe_zero = 0.976647\n",
      "\n"
     ]
    },
    {
     "name": "stderr",
     "output_type": "stream",
     "text": [
      "  5%|████                                                                            | 50/1000 [01:21<25:32,  1.61s/it]"
     ]
    },
    {
     "name": "stdout",
     "output_type": "stream",
     "text": [
      "Loss = 0.150446,Accuracy_value = 0.974588,Accuracy_instance = 0.000000\n",
      "Label_One_Predict_One = 0.343784,Predict_One_Label_One = 0.718431,Nombre_Predict_One = 16.700000,Nombre_One_Mean = 34.650000\n",
      "Label_Zero_Predict_Zero = 0.995518,Label_Zero_Predict_Zero = 0.978598,Nombre_Predict_Zero = 1099.300000,Nombre_Zero_Mean = 1081.350000\n",
      "Accuracy_fixe_mean = 0.994108,Accuracy_fixe_one = 0.000000,Accuracy_fixe_zero = 0.994108\n",
      "\n"
     ]
    },
    {
     "name": "stderr",
     "output_type": "stream",
     "text": [
      " 10%|███████▉                                                                       | 100/1000 [02:42<24:13,  1.62s/it]"
     ]
    },
    {
     "name": "stdout",
     "output_type": "stream",
     "text": [
      "Loss = 0.149978,Accuracy_value = 0.975358,Accuracy_instance = 0.000000\n",
      "Label_One_Predict_One = 0.509001,Predict_One_Label_One = 0.650253,Nombre_Predict_One = 27.450000,Nombre_One_Mean = 34.650000\n",
      "Label_Zero_Predict_Zero = 0.990680,Label_Zero_Predict_Zero = 0.983959,Nombre_Predict_Zero = 1088.550000,Nombre_Zero_Mean = 1081.350000\n",
      "Accuracy_fixe_mean = 0.994804,Accuracy_fixe_one = 0.000000,Accuracy_fixe_zero = 0.994804\n",
      "\n"
     ]
    },
    {
     "name": "stderr",
     "output_type": "stream",
     "text": [
      " 15%|███████████▊                                                                   | 150/1000 [04:04<23:04,  1.63s/it]"
     ]
    },
    {
     "name": "stdout",
     "output_type": "stream",
     "text": [
      "Loss = 0.165781,Accuracy_value = 0.975108,Accuracy_instance = 0.000000\n",
      "Label_One_Predict_One = 0.506713,Predict_One_Label_One = 0.646361,Nombre_Predict_One = 27.500000,Nombre_One_Mean = 34.650000\n",
      "Label_Zero_Predict_Zero = 0.990664,Label_Zero_Predict_Zero = 0.983724,Nombre_Predict_Zero = 1088.500000,Nombre_Zero_Mean = 1081.350000\n",
      "Accuracy_fixe_mean = 0.993324,Accuracy_fixe_one = 0.441667,Accuracy_fixe_zero = 0.993563\n",
      "\n"
     ]
    },
    {
     "name": "stderr",
     "output_type": "stream",
     "text": [
      " 20%|███████████████▊                                                               | 200/1000 [05:26<21:29,  1.61s/it]"
     ]
    },
    {
     "name": "stdout",
     "output_type": "stream",
     "text": [
      "Loss = 0.191439,Accuracy_value = 0.970520,Accuracy_instance = 0.000000\n",
      "Label_One_Predict_One = 0.376914,Predict_One_Label_One = 0.571037,Nombre_Predict_One = 23.100000,Nombre_One_Mean = 34.650000\n",
      "Label_Zero_Predict_Zero = 0.990172,Label_Zero_Predict_Zero = 0.979565,Nombre_Predict_Zero = 1092.900000,Nombre_Zero_Mean = 1081.350000\n",
      "Accuracy_fixe_mean = 0.991443,Accuracy_fixe_one = 0.431667,Accuracy_fixe_zero = 0.992165\n",
      "\n"
     ]
    },
    {
     "name": "stderr",
     "output_type": "stream",
     "text": [
      " 25%|███████████████████▊                                                           | 250/1000 [06:47<20:02,  1.60s/it]"
     ]
    },
    {
     "name": "stdout",
     "output_type": "stream",
     "text": [
      "Loss = 0.214238,Accuracy_value = 0.969588,Accuracy_instance = 0.000000\n",
      "Label_One_Predict_One = 0.414407,Predict_One_Label_One = 0.545904,Nombre_Predict_One = 26.550000,Nombre_One_Mean = 34.650000\n",
      "Label_Zero_Predict_Zero = 0.987982,Label_Zero_Predict_Zero = 0.980713,Nombre_Predict_Zero = 1089.450000,Nombre_Zero_Mean = 1081.350000\n",
      "Accuracy_fixe_mean = 0.990614,Accuracy_fixe_one = 0.601190,Accuracy_fixe_zero = 0.991994\n",
      "\n"
     ]
    },
    {
     "name": "stderr",
     "output_type": "stream",
     "text": [
      " 30%|███████████████████████▋                                                       | 300/1000 [08:08<18:45,  1.61s/it]"
     ]
    },
    {
     "name": "stdout",
     "output_type": "stream",
     "text": [
      "Loss = 0.235222,Accuracy_value = 0.969247,Accuracy_instance = 0.000000\n",
      "Label_One_Predict_One = 0.390682,Predict_One_Label_One = 0.525398,Nombre_Predict_One = 25.550000,Nombre_One_Mean = 34.650000\n",
      "Label_Zero_Predict_Zero = 0.988225,Label_Zero_Predict_Zero = 0.980156,Nombre_Predict_Zero = 1090.450000,Nombre_Zero_Mean = 1081.350000\n",
      "Accuracy_fixe_mean = 0.988150,Accuracy_fixe_one = 0.484821,Accuracy_fixe_zero = 0.990407\n",
      "\n"
     ]
    },
    {
     "name": "stderr",
     "output_type": "stream",
     "text": [
      " 35%|███████████████████████████▋                                                   | 350/1000 [09:29<17:22,  1.60s/it]"
     ]
    },
    {
     "name": "stdout",
     "output_type": "stream",
     "text": [
      "Loss = 0.243847,Accuracy_value = 0.969946,Accuracy_instance = 0.000000\n",
      "Label_One_Predict_One = 0.445399,Predict_One_Label_One = 0.543725,Nombre_Predict_One = 28.350000,Nombre_One_Mean = 34.650000\n",
      "Label_Zero_Predict_Zero = 0.987543,Label_Zero_Predict_Zero = 0.981496,Nombre_Predict_Zero = 1087.650000,Nombre_Zero_Mean = 1081.350000\n",
      "Accuracy_fixe_mean = 0.988598,Accuracy_fixe_one = 0.634325,Accuracy_fixe_zero = 0.990852\n",
      "\n"
     ]
    },
    {
     "name": "stderr",
     "output_type": "stream",
     "text": [
      " 40%|███████████████████████████████▌                                               | 400/1000 [10:51<16:09,  1.62s/it]"
     ]
    },
    {
     "name": "stdout",
     "output_type": "stream",
     "text": [
      "Loss = 0.242950,Accuracy_value = 0.969014,Accuracy_instance = 0.000000\n",
      "Label_One_Predict_One = 0.431473,Predict_One_Label_One = 0.529483,Nombre_Predict_One = 28.450000,Nombre_One_Mean = 34.650000\n",
      "Label_Zero_Predict_Zero = 0.986930,Label_Zero_Predict_Zero = 0.981139,Nombre_Predict_Zero = 1087.550000,Nombre_Zero_Mean = 1081.350000\n",
      "Accuracy_fixe_mean = 0.988060,Accuracy_fixe_one = 0.524782,Accuracy_fixe_zero = 0.990783\n",
      "\n"
     ]
    },
    {
     "name": "stderr",
     "output_type": "stream",
     "text": [
      " 45%|███████████████████████████████████▌                                           | 450/1000 [12:12<14:44,  1.61s/it]"
     ]
    },
    {
     "name": "stdout",
     "output_type": "stream",
     "text": [
      "Loss = 0.293321,Accuracy_value = 0.968405,Accuracy_instance = 0.000000\n",
      "Label_One_Predict_One = 0.423065,Predict_One_Label_One = 0.511827,Nombre_Predict_One = 28.750000,Nombre_One_Mean = 34.650000\n",
      "Label_Zero_Predict_Zero = 0.986489,Label_Zero_Predict_Zero = 0.980950,Nombre_Predict_Zero = 1087.250000,Nombre_Zero_Mean = 1081.350000\n",
      "Accuracy_fixe_mean = 0.985573,Accuracy_fixe_one = 0.462799,Accuracy_fixe_zero = 0.988883\n",
      "\n"
     ]
    },
    {
     "name": "stderr",
     "output_type": "stream",
     "text": [
      " 50%|███████████████████████████████████████▌                                       | 500/1000 [13:33<13:26,  1.61s/it]"
     ]
    },
    {
     "name": "stdout",
     "output_type": "stream",
     "text": [
      "Loss = 0.345541,Accuracy_value = 0.967366,Accuracy_instance = 0.000000\n",
      "Label_One_Predict_One = 0.424900,Predict_One_Label_One = 0.498535,Nombre_Predict_One = 29.800000,Nombre_One_Mean = 34.650000\n",
      "Label_Zero_Predict_Zero = 0.985297,Label_Zero_Predict_Zero = 0.981035,Nombre_Predict_Zero = 1086.200000,Nombre_Zero_Mean = 1081.350000\n",
      "Accuracy_fixe_mean = 0.985170,Accuracy_fixe_one = 0.527605,Accuracy_fixe_zero = 0.989055\n",
      "\n"
     ]
    },
    {
     "name": "stderr",
     "output_type": "stream",
     "text": [
      " 55%|███████████████████████████████████████████▍                                   | 550/1000 [14:55<12:11,  1.63s/it]"
     ]
    },
    {
     "name": "stdout",
     "output_type": "stream",
     "text": [
      "Loss = 0.400157,Accuracy_value = 0.964355,Accuracy_instance = 0.000000\n",
      "Label_One_Predict_One = 0.423354,Predict_One_Label_One = 0.457371,Nombre_Predict_One = 32.950000,Nombre_One_Mean = 34.650000\n",
      "Label_Zero_Predict_Zero = 0.982201,Label_Zero_Predict_Zero = 0.980957,Nombre_Predict_Zero = 1083.050000,Nombre_Zero_Mean = 1081.350000\n",
      "Accuracy_fixe_mean = 0.982997,Accuracy_fixe_one = 0.476439,Accuracy_fixe_zero = 0.988155\n",
      "\n"
     ]
    },
    {
     "name": "stderr",
     "output_type": "stream",
     "text": [
      " 60%|███████████████████████████████████████████████▍                               | 600/1000 [16:17<10:43,  1.61s/it]"
     ]
    },
    {
     "name": "stdout",
     "output_type": "stream",
     "text": [
      "Loss = 0.403402,Accuracy_value = 0.966290,Accuracy_instance = 0.000000\n",
      "Label_One_Predict_One = 0.386466,Predict_One_Label_One = 0.472652,Nombre_Predict_One = 28.650000,Nombre_One_Mean = 34.650000\n",
      "Label_Zero_Predict_Zero = 0.985643,Label_Zero_Predict_Zero = 0.979643,Nombre_Predict_Zero = 1087.350000,Nombre_Zero_Mean = 1081.350000\n",
      "Accuracy_fixe_mean = 0.984162,Accuracy_fixe_one = 0.546317,Accuracy_fixe_zero = 0.987621\n",
      "\n"
     ]
    },
    {
     "name": "stderr",
     "output_type": "stream",
     "text": [
      " 65%|███████████████████████████████████████████████████▎                           | 650/1000 [17:38<09:27,  1.62s/it]"
     ]
    },
    {
     "name": "stdout",
     "output_type": "stream",
     "text": [
      "Loss = 0.434146,Accuracy_value = 0.965860,Accuracy_instance = 0.000000\n",
      "Label_One_Predict_One = 0.373765,Predict_One_Label_One = 0.474847,Nombre_Predict_One = 27.900000,Nombre_One_Mean = 34.650000\n",
      "Label_Zero_Predict_Zero = 0.985540,Label_Zero_Predict_Zero = 0.979289,Nombre_Predict_Zero = 1088.100000,Nombre_Zero_Mean = 1081.350000\n",
      "Accuracy_fixe_mean = 0.983692,Accuracy_fixe_one = 0.576369,Accuracy_fixe_zero = 0.987494\n",
      "\n"
     ]
    },
    {
     "name": "stderr",
     "output_type": "stream",
     "text": [
      " 70%|███████████████████████████████████████████████████████▎                       | 700/1000 [19:00<08:03,  1.61s/it]"
     ]
    },
    {
     "name": "stdout",
     "output_type": "stream",
     "text": [
      "Loss = 0.472776,Accuracy_value = 0.965789,Accuracy_instance = 0.000000\n",
      "Label_One_Predict_One = 0.379608,Predict_One_Label_One = 0.472510,Nombre_Predict_One = 28.350000,Nombre_One_Mean = 34.650000\n",
      "Label_Zero_Predict_Zero = 0.985242,Label_Zero_Predict_Zero = 0.979492,Nombre_Predict_Zero = 1087.650000,Nombre_Zero_Mean = 1081.350000\n",
      "Accuracy_fixe_mean = 0.982639,Accuracy_fixe_one = 0.587962,Accuracy_fixe_zero = 0.986823\n",
      "\n"
     ]
    },
    {
     "name": "stderr",
     "output_type": "stream",
     "text": [
      " 75%|███████████████████████████████████████████████████████████▎                   | 750/1000 [20:21<06:43,  1.61s/it]"
     ]
    },
    {
     "name": "stdout",
     "output_type": "stream",
     "text": [
      "Loss = 0.540805,Accuracy_value = 0.965806,Accuracy_instance = 0.000000\n",
      "Label_One_Predict_One = 0.388308,Predict_One_Label_One = 0.467688,Nombre_Predict_One = 29.250000,Nombre_One_Mean = 34.650000\n",
      "Label_Zero_Predict_Zero = 0.984972,Label_Zero_Predict_Zero = 0.979785,Nombre_Predict_Zero = 1086.750000,Nombre_Zero_Mean = 1081.350000\n",
      "Accuracy_fixe_mean = 0.982415,Accuracy_fixe_one = 0.516811,Accuracy_fixe_zero = 0.986717\n",
      "\n"
     ]
    },
    {
     "name": "stderr",
     "output_type": "stream",
     "text": [
      " 80%|███████████████████████████████████████████████████████████████▏               | 800/1000 [21:43<05:23,  1.62s/it]"
     ]
    },
    {
     "name": "stdout",
     "output_type": "stream",
     "text": [
      "Loss = 0.590880,Accuracy_value = 0.965269,Accuracy_instance = 0.000000\n",
      "Label_One_Predict_One = 0.381277,Predict_One_Label_One = 0.457966,Nombre_Predict_One = 29.250000,Nombre_One_Mean = 34.650000\n",
      "Label_Zero_Predict_Zero = 0.984655,Label_Zero_Predict_Zero = 0.979543,Nombre_Predict_Zero = 1086.750000,Nombre_Zero_Mean = 1081.350000\n",
      "Accuracy_fixe_mean = 0.982706,Accuracy_fixe_one = 0.541108,Accuracy_fixe_zero = 0.987343\n",
      "\n"
     ]
    },
    {
     "name": "stderr",
     "output_type": "stream",
     "text": [
      " 85%|███████████████████████████████████████████████████████████████████▏           | 850/1000 [23:04<04:01,  1.61s/it]"
     ]
    },
    {
     "name": "stdout",
     "output_type": "stream",
     "text": [
      "Loss = 0.683421,Accuracy_value = 0.963943,Accuracy_instance = 0.000000\n",
      "Label_One_Predict_One = 0.388345,Predict_One_Label_One = 0.437245,Nombre_Predict_One = 31.300000,Nombre_One_Mean = 34.650000\n",
      "Label_Zero_Predict_Zero = 0.983064,Label_Zero_Predict_Zero = 0.979728,Nombre_Predict_Zero = 1084.700000,Nombre_Zero_Mean = 1081.350000\n",
      "Accuracy_fixe_mean = 0.981138,Accuracy_fixe_one = 0.505432,Accuracy_fixe_zero = 0.987244\n",
      "\n"
     ]
    },
    {
     "name": "stderr",
     "output_type": "stream",
     "text": [
      " 90%|███████████████████████████████████████████████████████████████████████        | 900/1000 [24:25<02:41,  1.61s/it]"
     ]
    },
    {
     "name": "stdout",
     "output_type": "stream",
     "text": [
      "Loss = 0.752048,Accuracy_value = 0.964014,Accuracy_instance = 0.000000\n",
      "Label_One_Predict_One = 0.415668,Predict_One_Label_One = 0.440582,Nombre_Predict_One = 33.100000,Nombre_One_Mean = 34.650000\n",
      "Label_Zero_Predict_Zero = 0.982268,Label_Zero_Predict_Zero = 0.980568,Nombre_Predict_Zero = 1082.900000,Nombre_Zero_Mean = 1081.350000\n",
      "Accuracy_fixe_mean = 0.981653,Accuracy_fixe_one = 0.535696,Accuracy_fixe_zero = 0.987338\n",
      "\n"
     ]
    },
    {
     "name": "stderr",
     "output_type": "stream",
     "text": [
      " 95%|███████████████████████████████████████████████████████████████████████████    | 950/1000 [25:47<01:22,  1.65s/it]"
     ]
    },
    {
     "name": "stdout",
     "output_type": "stream",
     "text": [
      "Loss = 0.785658,Accuracy_value = 0.963889,Accuracy_instance = 0.000000\n",
      "Label_One_Predict_One = 0.408238,Predict_One_Label_One = 0.437898,Nombre_Predict_One = 32.700000,Nombre_One_Mean = 34.650000\n",
      "Label_Zero_Predict_Zero = 0.982397,Label_Zero_Predict_Zero = 0.980314,Nombre_Predict_Zero = 1083.300000,Nombre_Zero_Mean = 1081.350000\n",
      "Accuracy_fixe_mean = 0.981317,Accuracy_fixe_one = 0.494430,Accuracy_fixe_zero = 0.987293\n",
      "\n"
     ]
    },
    {
     "name": "stderr",
     "output_type": "stream",
     "text": [
      "100%|██████████████████████████████████████████████████████████████████████████████| 1000/1000 [27:08<00:00,  1.63s/it]\n",
      "  0%|                                                                                         | 0/1000 [00:00<?, ?it/s]"
     ]
    },
    {
     "name": "stdout",
     "output_type": "stream",
     "text": [
      "Loss = 0.810717,Accuracy_value = 0.962563,Accuracy_instance = 0.000000\n",
      "Label_One_Predict_One = 0.383005,Predict_One_Label_One = 0.403989,Nombre_Predict_One = 33.200000,Nombre_One_Mean = 34.800000\n",
      "Label_Zero_Predict_Zero = 0.981310,Label_Zero_Predict_Zero = 0.980038,Nombre_Predict_Zero = 1106.050000,Nombre_Zero_Mean = 1104.450000\n",
      "Accuracy_fixe_mean = 0.980287,Accuracy_fixe_one = 0.526294,Accuracy_fixe_zero = 0.986539\n",
      "\n",
      "Loss = 4.225788,Accuracy_value = 0.243047,Accuracy_instance = 0.000000\n",
      "Label_One_Predict_One = 0.425964,Predict_One_Label_One = 0.017887,Nombre_Predict_One = 844.050000,Nombre_One_Mean = 34.650000\n",
      "Label_Zero_Predict_Zero = 0.237345,Label_Zero_Predict_Zero = 0.924662,Nombre_Predict_Zero = 271.950000,Nombre_Zero_Mean = 1081.350000\n",
      "Accuracy_fixe_mean = 0.183065,Accuracy_fixe_one = 0.016696,Accuracy_fixe_zero = 0.891808\n",
      "\n"
     ]
    },
    {
     "name": "stderr",
     "output_type": "stream",
     "text": [
      "  5%|████                                                                            | 50/1000 [01:21<25:33,  1.61s/it]"
     ]
    },
    {
     "name": "stdout",
     "output_type": "stream",
     "text": [
      "Loss = 0.149511,Accuracy_value = 0.976398,Accuracy_instance = 0.000000\n",
      "Label_One_Predict_One = 0.403130,Predict_One_Label_One = 0.746805,Nombre_Predict_One = 18.800000,Nombre_One_Mean = 34.650000\n",
      "Label_Zero_Predict_Zero = 0.995386,Label_Zero_Predict_Zero = 0.980518,Nombre_Predict_Zero = 1097.200000,Nombre_Zero_Mean = 1081.350000\n",
      "Accuracy_fixe_mean = 0.993862,Accuracy_fixe_one = 0.000000,Accuracy_fixe_zero = 0.993862\n",
      "\n"
     ]
    },
    {
     "name": "stderr",
     "output_type": "stream",
     "text": [
      " 10%|███████▉                                                                       | 100/1000 [02:42<24:19,  1.62s/it]"
     ]
    },
    {
     "name": "stdout",
     "output_type": "stream",
     "text": [
      "Loss = 0.157897,Accuracy_value = 0.974839,Accuracy_instance = 0.000000\n",
      "Label_One_Predict_One = 0.482488,Predict_One_Label_One = 0.643289,Nombre_Predict_One = 26.000000,Nombre_One_Mean = 34.650000\n",
      "Label_Zero_Predict_Zero = 0.991161,Label_Zero_Predict_Zero = 0.982976,Nombre_Predict_Zero = 1090.000000,Nombre_Zero_Mean = 1081.350000\n",
      "Accuracy_fixe_mean = 0.994310,Accuracy_fixe_one = 0.000000,Accuracy_fixe_zero = 0.994421\n",
      "\n"
     ]
    },
    {
     "name": "stderr",
     "output_type": "stream",
     "text": [
      " 15%|███████████▊                                                                   | 150/1000 [04:03<22:47,  1.61s/it]"
     ]
    },
    {
     "name": "stdout",
     "output_type": "stream",
     "text": [
      "Loss = 0.162757,Accuracy_value = 0.974785,Accuracy_instance = 0.000000\n",
      "Label_One_Predict_One = 0.540121,Predict_One_Label_One = 0.623435,Nombre_Predict_One = 30.000000,Nombre_One_Mean = 34.650000\n",
      "Label_Zero_Predict_Zero = 0.989195,Label_Zero_Predict_Zero = 0.984802,Nombre_Predict_Zero = 1086.000000,Nombre_Zero_Mean = 1081.350000\n",
      "Accuracy_fixe_mean = 0.993302,Accuracy_fixe_one = 0.300000,Accuracy_fixe_zero = 0.993433\n",
      "\n"
     ]
    },
    {
     "name": "stderr",
     "output_type": "stream",
     "text": [
      " 20%|███████████████▊                                                               | 200/1000 [05:25<21:31,  1.61s/it]"
     ]
    },
    {
     "name": "stdout",
     "output_type": "stream",
     "text": [
      "Loss = 0.177240,Accuracy_value = 0.972545,Accuracy_instance = 0.000000\n",
      "Label_One_Predict_One = 0.449036,Predict_One_Label_One = 0.598257,Nombre_Predict_One = 26.000000,Nombre_One_Mean = 34.650000\n",
      "Label_Zero_Predict_Zero = 0.989954,Label_Zero_Predict_Zero = 0.981815,Nombre_Predict_Zero = 1090.000000,Nombre_Zero_Mean = 1081.350000\n",
      "Accuracy_fixe_mean = 0.992204,Accuracy_fixe_one = 0.400000,Accuracy_fixe_zero = 0.992954\n",
      "\n"
     ]
    },
    {
     "name": "stderr",
     "output_type": "stream",
     "text": [
      " 25%|███████████████████▊                                                           | 250/1000 [06:46<20:16,  1.62s/it]"
     ]
    },
    {
     "name": "stdout",
     "output_type": "stream",
     "text": [
      "Loss = 0.172284,Accuracy_value = 0.973584,Accuracy_instance = 0.000000\n",
      "Label_One_Predict_One = 0.475378,Predict_One_Label_One = 0.610528,Nombre_Predict_One = 26.800000,Nombre_One_Mean = 34.650000\n",
      "Label_Zero_Predict_Zero = 0.990103,Label_Zero_Predict_Zero = 0.982720,Nombre_Predict_Zero = 1089.200000,Nombre_Zero_Mean = 1081.350000\n",
      "Accuracy_fixe_mean = 0.992227,Accuracy_fixe_one = 0.408333,Accuracy_fixe_zero = 0.992910\n",
      "\n"
     ]
    },
    {
     "name": "stderr",
     "output_type": "stream",
     "text": [
      " 30%|███████████████████████▋                                                       | 300/1000 [08:09<18:47,  1.61s/it]"
     ]
    },
    {
     "name": "stdout",
     "output_type": "stream",
     "text": [
      "Loss = 0.198957,Accuracy_value = 0.971882,Accuracy_instance = 0.000000\n",
      "Label_One_Predict_One = 0.384641,Predict_One_Label_One = 0.588803,Nombre_Predict_One = 22.550000,Nombre_One_Mean = 34.650000\n",
      "Label_Zero_Predict_Zero = 0.991179,Label_Zero_Predict_Zero = 0.979988,Nombre_Predict_Zero = 1093.450000,Nombre_Zero_Mean = 1081.350000\n",
      "Accuracy_fixe_mean = 0.988956,Accuracy_fixe_one = 0.455952,Accuracy_fixe_zero = 0.990583\n",
      "\n"
     ]
    },
    {
     "name": "stderr",
     "output_type": "stream",
     "text": [
      " 35%|███████████████████████████▋                                                   | 350/1000 [09:30<17:28,  1.61s/it]"
     ]
    },
    {
     "name": "stdout",
     "output_type": "stream",
     "text": [
      "Loss = 0.233326,Accuracy_value = 0.969839,Accuracy_instance = 0.000000\n",
      "Label_One_Predict_One = 0.414288,Predict_One_Label_One = 0.545731,Nombre_Predict_One = 26.550000,Nombre_One_Mean = 34.650000\n",
      "Label_Zero_Predict_Zero = 0.988248,Label_Zero_Predict_Zero = 0.980711,Nombre_Predict_Zero = 1089.450000,Nombre_Zero_Mean = 1081.350000\n",
      "Accuracy_fixe_mean = 0.988351,Accuracy_fixe_one = 0.629425,Accuracy_fixe_zero = 0.990399\n",
      "\n"
     ]
    },
    {
     "name": "stderr",
     "output_type": "stream",
     "text": [
      " 40%|███████████████████████████████▌                                               | 400/1000 [10:52<16:06,  1.61s/it]"
     ]
    },
    {
     "name": "stdout",
     "output_type": "stream",
     "text": [
      "Loss = 0.268099,Accuracy_value = 0.971111,Accuracy_instance = 0.000000\n",
      "Label_One_Predict_One = 0.430215,Predict_One_Label_One = 0.566208,Nombre_Predict_One = 26.450000,Nombre_One_Mean = 34.650000\n",
      "Label_Zero_Predict_Zero = 0.989049,Label_Zero_Predict_Zero = 0.981236,Nombre_Predict_Zero = 1089.550000,Nombre_Zero_Mean = 1081.350000\n",
      "Accuracy_fixe_mean = 0.985932,Accuracy_fixe_one = 0.562936,Accuracy_fixe_zero = 0.989100\n",
      "\n"
     ]
    },
    {
     "name": "stderr",
     "output_type": "stream",
     "text": [
      " 45%|███████████████████████████████████▌                                           | 450/1000 [12:13<14:50,  1.62s/it]"
     ]
    },
    {
     "name": "stdout",
     "output_type": "stream",
     "text": [
      "Loss = 0.318800,Accuracy_value = 0.968692,Accuracy_instance = 0.000000\n",
      "Label_One_Predict_One = 0.431240,Predict_One_Label_One = 0.524473,Nombre_Predict_One = 28.850000,Nombre_One_Mean = 34.650000\n",
      "Label_Zero_Predict_Zero = 0.986276,Label_Zero_Predict_Zero = 0.981443,Nombre_Predict_Zero = 1087.150000,Nombre_Zero_Mean = 1081.350000\n",
      "Accuracy_fixe_mean = 0.984364,Accuracy_fixe_one = 0.612704,Accuracy_fixe_zero = 0.988215\n",
      "\n"
     ]
    },
    {
     "name": "stderr",
     "output_type": "stream",
     "text": [
      " 50%|███████████████████████████████████████▌                                       | 500/1000 [13:34<13:23,  1.61s/it]"
     ]
    },
    {
     "name": "stdout",
     "output_type": "stream",
     "text": [
      "Loss = 0.373073,Accuracy_value = 0.968011,Accuracy_instance = 0.000000\n",
      "Label_One_Predict_One = 0.446104,Predict_One_Label_One = 0.511865,Nombre_Predict_One = 30.650000,Nombre_One_Mean = 34.650000\n",
      "Label_Zero_Predict_Zero = 0.985299,Label_Zero_Predict_Zero = 0.981683,Nombre_Predict_Zero = 1085.350000,Nombre_Zero_Mean = 1081.350000\n",
      "Accuracy_fixe_mean = 0.984588,Accuracy_fixe_one = 0.562034,Accuracy_fixe_zero = 0.989809\n",
      "\n"
     ]
    },
    {
     "name": "stderr",
     "output_type": "stream",
     "text": [
      " 55%|███████████████████████████████████████████▍                                   | 550/1000 [14:56<12:04,  1.61s/it]"
     ]
    },
    {
     "name": "stdout",
     "output_type": "stream",
     "text": [
      "Loss = 0.405577,Accuracy_value = 0.968477,Accuracy_instance = 0.000000\n",
      "Label_One_Predict_One = 0.431844,Predict_One_Label_One = 0.516076,Nombre_Predict_One = 29.150000,Nombre_One_Mean = 34.650000\n",
      "Label_Zero_Predict_Zero = 0.986263,Label_Zero_Predict_Zero = 0.981232,Nombre_Predict_Zero = 1086.850000,Nombre_Zero_Mean = 1081.350000\n",
      "Accuracy_fixe_mean = 0.983580,Accuracy_fixe_one = 0.568818,Accuracy_fixe_zero = 0.988542\n",
      "\n"
     ]
    },
    {
     "name": "stderr",
     "output_type": "stream",
     "text": [
      " 60%|███████████████████████████████████████████████▍                               | 600/1000 [16:17<10:41,  1.60s/it]"
     ]
    },
    {
     "name": "stdout",
     "output_type": "stream",
     "text": [
      "Loss = 0.430605,Accuracy_value = 0.967867,Accuracy_instance = 0.000000\n",
      "Label_One_Predict_One = 0.423226,Predict_One_Label_One = 0.505076,Nombre_Predict_One = 29.300000,Nombre_One_Mean = 34.650000\n",
      "Label_Zero_Predict_Zero = 0.985913,Label_Zero_Predict_Zero = 0.980961,Nombre_Predict_Zero = 1086.700000,Nombre_Zero_Mean = 1081.350000\n",
      "Accuracy_fixe_mean = 0.983065,Accuracy_fixe_one = 0.573189,Accuracy_fixe_zero = 0.988311\n",
      "\n"
     ]
    },
    {
     "name": "stderr",
     "output_type": "stream",
     "text": [
      " 65%|███████████████████████████████████████████████████▎                           | 650/1000 [17:38<09:25,  1.62s/it]"
     ]
    },
    {
     "name": "stdout",
     "output_type": "stream",
     "text": [
      "Loss = 0.466310,Accuracy_value = 0.966631,Accuracy_instance = 0.000000\n",
      "Label_One_Predict_One = 0.402803,Predict_One_Label_One = 0.480633,Nombre_Predict_One = 29.100000,Nombre_One_Mean = 34.650000\n",
      "Label_Zero_Predict_Zero = 0.985355,Label_Zero_Predict_Zero = 0.980241,Nombre_Predict_Zero = 1086.900000,Nombre_Zero_Mean = 1081.350000\n",
      "Accuracy_fixe_mean = 0.981922,Accuracy_fixe_one = 0.570770,Accuracy_fixe_zero = 0.987263\n",
      "\n"
     ]
    },
    {
     "name": "stderr",
     "output_type": "stream",
     "text": [
      " 70%|███████████████████████████████████████████████████████▎                       | 700/1000 [18:59<08:04,  1.62s/it]"
     ]
    },
    {
     "name": "stdout",
     "output_type": "stream",
     "text": [
      "Loss = 0.529424,Accuracy_value = 0.966720,Accuracy_instance = 0.000000\n",
      "Label_One_Predict_One = 0.427430,Predict_One_Label_One = 0.483558,Nombre_Predict_One = 30.700000,Nombre_One_Mean = 34.650000\n",
      "Label_Zero_Predict_Zero = 0.984632,Label_Zero_Predict_Zero = 0.981019,Nombre_Predict_Zero = 1085.300000,Nombre_Zero_Mean = 1081.350000\n",
      "Accuracy_fixe_mean = 0.980421,Accuracy_fixe_one = 0.529918,Accuracy_fixe_zero = 0.986709\n",
      "\n"
     ]
    },
    {
     "name": "stderr",
     "output_type": "stream",
     "text": [
      " 75%|███████████████████████████████████████████████████████████▎                   | 750/1000 [20:20<06:43,  1.61s/it]"
     ]
    },
    {
     "name": "stdout",
     "output_type": "stream",
     "text": [
      "Loss = 0.604611,Accuracy_value = 0.966738,Accuracy_instance = 0.000000\n",
      "Label_One_Predict_One = 0.432049,Predict_One_Label_One = 0.478922,Nombre_Predict_One = 31.100000,Nombre_One_Mean = 34.650000\n",
      "Label_Zero_Predict_Zero = 0.984410,Label_Zero_Predict_Zero = 0.981260,Nombre_Predict_Zero = 1084.900000,Nombre_Zero_Mean = 1081.350000\n",
      "Accuracy_fixe_mean = 0.980600,Accuracy_fixe_one = 0.567590,Accuracy_fixe_zero = 0.987166\n",
      "\n"
     ]
    },
    {
     "name": "stderr",
     "output_type": "stream",
     "text": [
      " 80%|███████████████████████████████████████████████████████████████▏               | 800/1000 [21:42<05:44,  1.72s/it]"
     ]
    },
    {
     "name": "stdout",
     "output_type": "stream",
     "text": [
      "Loss = 0.609315,Accuracy_value = 0.964642,Accuracy_instance = 0.000000\n",
      "Label_One_Predict_One = 0.418940,Predict_One_Label_One = 0.446664,Nombre_Predict_One = 32.400000,Nombre_One_Mean = 34.650000\n",
      "Label_Zero_Predict_Zero = 0.982685,Label_Zero_Predict_Zero = 0.980789,Nombre_Predict_Zero = 1083.600000,Nombre_Zero_Mean = 1081.350000\n",
      "Accuracy_fixe_mean = 0.978786,Accuracy_fixe_one = 0.523451,Accuracy_fixe_zero = 0.986557\n",
      "\n"
     ]
    },
    {
     "name": "stderr",
     "output_type": "stream",
     "text": [
      " 85%|███████████████████████████████████████████████████████████████████▏           | 850/1000 [23:04<04:02,  1.61s/it]"
     ]
    },
    {
     "name": "stdout",
     "output_type": "stream",
     "text": [
      "Loss = 0.644031,Accuracy_value = 0.964803,Accuracy_instance = 0.000000\n",
      "Label_One_Predict_One = 0.419062,Predict_One_Label_One = 0.450955,Nombre_Predict_One = 32.250000,Nombre_One_Mean = 34.650000\n",
      "Label_Zero_Predict_Zero = 0.982834,Label_Zero_Predict_Zero = 0.980814,Nombre_Predict_Zero = 1083.750000,Nombre_Zero_Mean = 1081.350000\n",
      "Accuracy_fixe_mean = 0.979435,Accuracy_fixe_one = 0.565731,Accuracy_fixe_zero = 0.985774\n",
      "\n"
     ]
    },
    {
     "name": "stderr",
     "output_type": "stream",
     "text": [
      " 90%|███████████████████████████████████████████████████████████████████████        | 900/1000 [24:25<02:41,  1.62s/it]"
     ]
    },
    {
     "name": "stdout",
     "output_type": "stream",
     "text": [
      "Loss = 0.715194,Accuracy_value = 0.963244,Accuracy_instance = 0.000000\n",
      "Label_One_Predict_One = 0.435033,Predict_One_Label_One = 0.430528,Nombre_Predict_One = 35.050000,Nombre_One_Mean = 34.650000\n",
      "Label_Zero_Predict_Zero = 0.980665,Label_Zero_Predict_Zero = 0.981315,Nombre_Predict_Zero = 1080.950000,Nombre_Zero_Mean = 1081.350000\n",
      "Accuracy_fixe_mean = 0.978472,Accuracy_fixe_one = 0.535985,Accuracy_fixe_zero = 0.986696\n",
      "\n"
     ]
    },
    {
     "name": "stderr",
     "output_type": "stream",
     "text": [
      " 95%|███████████████████████████████████████████████████████████████████████████    | 950/1000 [25:46<01:20,  1.61s/it]"
     ]
    },
    {
     "name": "stdout",
     "output_type": "stream",
     "text": [
      "Loss = 0.749435,Accuracy_value = 0.962849,Accuracy_instance = 0.000000\n",
      "Label_One_Predict_One = 0.427806,Predict_One_Label_One = 0.423317,Nombre_Predict_One = 34.950000,Nombre_One_Mean = 34.650000\n",
      "Label_Zero_Predict_Zero = 0.980478,Label_Zero_Predict_Zero = 0.981097,Nombre_Predict_Zero = 1081.050000,Nombre_Zero_Mean = 1081.350000\n",
      "Accuracy_fixe_mean = 0.979480,Accuracy_fixe_one = 0.584449,Accuracy_fixe_zero = 0.986944\n",
      "\n"
     ]
    },
    {
     "name": "stderr",
     "output_type": "stream",
     "text": [
      "100%|██████████████████████████████████████████████████████████████████████████████| 1000/1000 [27:07<00:00,  1.63s/it]\n",
      "  0%|                                                                                         | 0/1000 [00:00<?, ?it/s]"
     ]
    },
    {
     "name": "stdout",
     "output_type": "stream",
     "text": [
      "Loss = 0.782493,Accuracy_value = 0.964391,Accuracy_instance = 0.000000\n",
      "Label_One_Predict_One = 0.399825,Predict_One_Label_One = 0.443824,Nombre_Predict_One = 32.150000,Nombre_One_Mean = 34.800000\n",
      "Label_Zero_Predict_Zero = 0.982637,Label_Zero_Predict_Zero = 0.980591,Nombre_Predict_Zero = 1107.100000,Nombre_Zero_Mean = 1104.450000\n",
      "Accuracy_fixe_mean = 0.978182,Accuracy_fixe_one = 0.526399,Accuracy_fixe_zero = 0.985571\n",
      "\n",
      "Loss = 4.004807,Accuracy_value = 0.061703,Accuracy_instance = 0.000000\n",
      "Label_One_Predict_One = 0.955600,Predict_One_Label_One = 0.031798,Nombre_Predict_One = 1079.950000,Nombre_One_Mean = 34.650000\n",
      "Label_Zero_Predict_Zero = 0.031961,Label_Zero_Predict_Zero = 0.957330,Nombre_Predict_Zero = 36.050000,Nombre_Zero_Mean = 1081.350000\n",
      "Accuracy_fixe_mean = 0.072805,Accuracy_fixe_one = 0.035574,Accuracy_fixe_zero = 0.958889\n",
      "\n"
     ]
    },
    {
     "name": "stderr",
     "output_type": "stream",
     "text": [
      "  5%|████                                                                            | 50/1000 [01:20<25:19,  1.60s/it]"
     ]
    },
    {
     "name": "stdout",
     "output_type": "stream",
     "text": [
      "Loss = 0.147949,Accuracy_value = 0.977061,Accuracy_instance = 0.000000\n",
      "Label_One_Predict_One = 0.443483,Predict_One_Label_One = 0.740757,Nombre_Predict_One = 20.950000,Nombre_One_Mean = 34.650000\n",
      "Label_Zero_Predict_Zero = 0.994758,Label_Zero_Predict_Zero = 0.981781,Nombre_Predict_Zero = 1095.050000,Nombre_Zero_Mean = 1081.350000\n",
      "Accuracy_fixe_mean = 0.994825,Accuracy_fixe_one = 0.000000,Accuracy_fixe_zero = 0.994825\n",
      "\n"
     ]
    },
    {
     "name": "stderr",
     "output_type": "stream",
     "text": [
      " 10%|███████▉                                                                       | 100/1000 [02:41<23:59,  1.60s/it]"
     ]
    },
    {
     "name": "stdout",
     "output_type": "stream",
     "text": [
      "Loss = 0.152682,Accuracy_value = 0.974982,Accuracy_instance = 0.000000\n",
      "Label_One_Predict_One = 0.458312,Predict_One_Label_One = 0.656015,Nombre_Predict_One = 24.150000,Nombre_One_Mean = 34.650000\n",
      "Label_Zero_Predict_Zero = 0.992011,Label_Zero_Predict_Zero = 0.982304,Nombre_Predict_Zero = 1091.850000,Nombre_Zero_Mean = 1081.350000\n",
      "Accuracy_fixe_mean = 0.993593,Accuracy_fixe_one = 0.050000,Accuracy_fixe_zero = 0.993593\n",
      "\n"
     ]
    },
    {
     "name": "stderr",
     "output_type": "stream",
     "text": [
      " 15%|███████████▊                                                                   | 150/1000 [04:02<22:46,  1.61s/it]"
     ]
    },
    {
     "name": "stdout",
     "output_type": "stream",
     "text": [
      "Loss = 0.161376,Accuracy_value = 0.974928,Accuracy_instance = 0.000000\n",
      "Label_One_Predict_One = 0.469750,Predict_One_Label_One = 0.661343,Nombre_Predict_One = 25.050000,Nombre_One_Mean = 34.650000\n",
      "Label_Zero_Predict_Zero = 0.991586,Label_Zero_Predict_Zero = 0.982655,Nombre_Predict_Zero = 1090.950000,Nombre_Zero_Mean = 1081.350000\n",
      "Accuracy_fixe_mean = 0.992921,Accuracy_fixe_one = 0.441667,Accuracy_fixe_zero = 0.993314\n",
      "\n"
     ]
    },
    {
     "name": "stderr",
     "output_type": "stream",
     "text": [
      " 20%|███████████████▊                                                               | 200/1000 [05:22<21:20,  1.60s/it]"
     ]
    },
    {
     "name": "stdout",
     "output_type": "stream",
     "text": [
      "Loss = 0.172263,Accuracy_value = 0.973853,Accuracy_instance = 0.000000\n",
      "Label_One_Predict_One = 0.478247,Predict_One_Label_One = 0.613486,Nombre_Predict_One = 26.950000,Nombre_One_Mean = 34.650000\n",
      "Label_Zero_Predict_Zero = 0.990219,Label_Zero_Predict_Zero = 0.982887,Nombre_Predict_Zero = 1089.050000,Nombre_Zero_Mean = 1081.350000\n",
      "Accuracy_fixe_mean = 0.991868,Accuracy_fixe_one = 0.580000,Accuracy_fixe_zero = 0.992345\n",
      "\n"
     ]
    },
    {
     "name": "stderr",
     "output_type": "stream",
     "text": [
      " 25%|███████████████████▊                                                           | 250/1000 [06:43<19:56,  1.59s/it]"
     ]
    },
    {
     "name": "stdout",
     "output_type": "stream",
     "text": [
      "Loss = 0.196944,Accuracy_value = 0.972276,Accuracy_instance = 0.000000\n",
      "Label_One_Predict_One = 0.369550,Predict_One_Label_One = 0.614211,Nombre_Predict_One = 20.800000,Nombre_One_Mean = 34.650000\n",
      "Label_Zero_Predict_Zero = 0.992365,Label_Zero_Predict_Zero = 0.979258,Nombre_Predict_Zero = 1095.200000,Nombre_Zero_Mean = 1081.350000\n",
      "Accuracy_fixe_mean = 0.990278,Accuracy_fixe_one = 0.596667,Accuracy_fixe_zero = 0.991040\n",
      "\n"
     ]
    },
    {
     "name": "stderr",
     "output_type": "stream",
     "text": [
      " 30%|███████████████████████▋                                                       | 300/1000 [08:04<18:41,  1.60s/it]"
     ]
    },
    {
     "name": "stdout",
     "output_type": "stream",
     "text": [
      "Loss = 0.224043,Accuracy_value = 0.971505,Accuracy_instance = 0.000000\n",
      "Label_One_Predict_One = 0.439358,Predict_One_Label_One = 0.570324,Nombre_Predict_One = 26.650000,Nombre_One_Mean = 34.650000\n",
      "Label_Zero_Predict_Zero = 0.989104,Label_Zero_Predict_Zero = 0.981584,Nombre_Predict_Zero = 1089.350000,Nombre_Zero_Mean = 1081.350000\n",
      "Accuracy_fixe_mean = 0.988710,Accuracy_fixe_one = 0.569167,Accuracy_fixe_zero = 0.990171\n",
      "\n"
     ]
    },
    {
     "name": "stderr",
     "output_type": "stream",
     "text": [
      " 35%|███████████████████████████▋                                                   | 350/1000 [09:25<17:26,  1.61s/it]"
     ]
    },
    {
     "name": "stdout",
     "output_type": "stream",
     "text": [
      "Loss = 0.252570,Accuracy_value = 0.970573,Accuracy_instance = 0.000000\n",
      "Label_One_Predict_One = 0.417836,Predict_One_Label_One = 0.551120,Nombre_Predict_One = 26.200000,Nombre_One_Mean = 34.650000\n",
      "Label_Zero_Predict_Zero = 0.988807,Label_Zero_Predict_Zero = 0.980928,Nombre_Predict_Zero = 1089.800000,Nombre_Zero_Mean = 1081.350000\n",
      "Accuracy_fixe_mean = 0.987321,Accuracy_fixe_one = 0.515556,Accuracy_fixe_zero = 0.989725\n",
      "\n"
     ]
    },
    {
     "name": "stderr",
     "output_type": "stream",
     "text": [
      " 40%|███████████████████████████████▌                                               | 400/1000 [10:46<16:19,  1.63s/it]"
     ]
    },
    {
     "name": "stdout",
     "output_type": "stream",
     "text": [
      "Loss = 0.262153,Accuracy_value = 0.969050,Accuracy_instance = 0.000000\n",
      "Label_One_Predict_One = 0.428009,Predict_One_Label_One = 0.523647,Nombre_Predict_One = 28.400000,Nombre_One_Mean = 34.650000\n",
      "Label_Zero_Predict_Zero = 0.986856,Label_Zero_Predict_Zero = 0.981246,Nombre_Predict_Zero = 1087.600000,Nombre_Zero_Mean = 1081.350000\n",
      "Accuracy_fixe_mean = 0.987612,Accuracy_fixe_one = 0.608155,Accuracy_fixe_zero = 0.990075\n",
      "\n"
     ]
    },
    {
     "name": "stderr",
     "output_type": "stream",
     "text": [
      " 45%|███████████████████████████████████▌                                           | 450/1000 [12:07<14:42,  1.61s/it]"
     ]
    },
    {
     "name": "stdout",
     "output_type": "stream",
     "text": [
      "Loss = 0.264490,Accuracy_value = 0.970520,Accuracy_instance = 0.000000\n",
      "Label_One_Predict_One = 0.398557,Predict_One_Label_One = 0.548898,Nombre_Predict_One = 24.800000,Nombre_One_Mean = 34.650000\n",
      "Label_Zero_Predict_Zero = 0.989492,Label_Zero_Predict_Zero = 0.980227,Nombre_Predict_Zero = 1091.200000,Nombre_Zero_Mean = 1081.350000\n",
      "Accuracy_fixe_mean = 0.987186,Accuracy_fixe_one = 0.445940,Accuracy_fixe_zero = 0.990320\n",
      "\n"
     ]
    },
    {
     "name": "stderr",
     "output_type": "stream",
     "text": [
      " 50%|███████████████████████████████████████▌                                       | 500/1000 [13:27<13:21,  1.60s/it]"
     ]
    },
    {
     "name": "stdout",
     "output_type": "stream",
     "text": [
      "Loss = 0.302168,Accuracy_value = 0.969785,Accuracy_instance = 0.000000\n",
      "Label_One_Predict_One = 0.408357,Predict_One_Label_One = 0.545914,Nombre_Predict_One = 26.200000,Nombre_One_Mean = 34.650000\n",
      "Label_Zero_Predict_Zero = 0.988491,Label_Zero_Predict_Zero = 0.980428,Nombre_Predict_Zero = 1089.800000,Nombre_Zero_Mean = 1081.350000\n",
      "Accuracy_fixe_mean = 0.985461,Accuracy_fixe_one = 0.549940,Accuracy_fixe_zero = 0.988972\n",
      "\n"
     ]
    },
    {
     "name": "stderr",
     "output_type": "stream",
     "text": [
      " 55%|███████████████████████████████████████████▍                                   | 550/1000 [14:48<12:02,  1.61s/it]"
     ]
    },
    {
     "name": "stdout",
     "output_type": "stream",
     "text": [
      "Loss = 0.346536,Accuracy_value = 0.969427,Accuracy_instance = 0.000000\n",
      "Label_One_Predict_One = 0.444830,Predict_One_Label_One = 0.536897,Nombre_Predict_One = 28.950000,Nombre_One_Mean = 34.650000\n",
      "Label_Zero_Predict_Zero = 0.986836,Label_Zero_Predict_Zero = 0.981641,Nombre_Predict_Zero = 1087.050000,Nombre_Zero_Mean = 1081.350000\n",
      "Accuracy_fixe_mean = 0.985081,Accuracy_fixe_one = 0.539050,Accuracy_fixe_zero = 0.988945\n",
      "\n"
     ]
    },
    {
     "name": "stderr",
     "output_type": "stream",
     "text": [
      " 60%|███████████████████████████████████████████████▍                               | 600/1000 [16:09<10:45,  1.61s/it]"
     ]
    },
    {
     "name": "stdout",
     "output_type": "stream",
     "text": [
      "Loss = 0.383074,Accuracy_value = 0.967384,Accuracy_instance = 0.000000\n",
      "Label_One_Predict_One = 0.430537,Predict_One_Label_One = 0.505762,Nombre_Predict_One = 30.050000,Nombre_One_Mean = 34.650000\n",
      "Label_Zero_Predict_Zero = 0.985146,Label_Zero_Predict_Zero = 0.981191,Nombre_Predict_Zero = 1085.950000,Nombre_Zero_Mean = 1081.350000\n",
      "Accuracy_fixe_mean = 0.983423,Accuracy_fixe_one = 0.553371,Accuracy_fixe_zero = 0.988678\n",
      "\n"
     ]
    },
    {
     "name": "stderr",
     "output_type": "stream",
     "text": [
      " 65%|███████████████████████████████████████████████████▎                           | 650/1000 [17:30<09:34,  1.64s/it]"
     ]
    },
    {
     "name": "stdout",
     "output_type": "stream",
     "text": [
      "Loss = 0.477142,Accuracy_value = 0.967563,Accuracy_instance = 0.000000\n",
      "Label_One_Predict_One = 0.434493,Predict_One_Label_One = 0.502050,Nombre_Predict_One = 30.150000,Nombre_One_Mean = 34.650000\n",
      "Label_Zero_Predict_Zero = 0.985315,Label_Zero_Predict_Zero = 0.981220,Nombre_Predict_Zero = 1085.850000,Nombre_Zero_Mean = 1081.350000\n",
      "Accuracy_fixe_mean = 0.982572,Accuracy_fixe_one = 0.553085,Accuracy_fixe_zero = 0.988236\n",
      "\n"
     ]
    },
    {
     "name": "stderr",
     "output_type": "stream",
     "text": [
      " 70%|███████████████████████████████████████████████████████▎                       | 700/1000 [18:51<08:00,  1.60s/it]"
     ]
    },
    {
     "name": "stdout",
     "output_type": "stream",
     "text": [
      "Loss = 0.522802,Accuracy_value = 0.967043,Accuracy_instance = 0.000000\n",
      "Label_One_Predict_One = 0.406926,Predict_One_Label_One = 0.492696,Nombre_Predict_One = 28.850000,Nombre_One_Mean = 34.650000\n",
      "Label_Zero_Predict_Zero = 0.985706,Label_Zero_Predict_Zero = 0.980323,Nombre_Predict_Zero = 1087.150000,Nombre_Zero_Mean = 1081.350000\n",
      "Accuracy_fixe_mean = 0.982124,Accuracy_fixe_one = 0.585984,Accuracy_fixe_zero = 0.987292\n",
      "\n"
     ]
    },
    {
     "name": "stderr",
     "output_type": "stream",
     "text": [
      " 75%|███████████████████████████████████████████████████████████▎                   | 750/1000 [20:12<06:46,  1.63s/it]"
     ]
    },
    {
     "name": "stdout",
     "output_type": "stream",
     "text": [
      "Loss = 0.587943,Accuracy_value = 0.965448,Accuracy_instance = 0.000000\n",
      "Label_One_Predict_One = 0.381158,Predict_One_Label_One = 0.464780,Nombre_Predict_One = 28.800000,Nombre_One_Mean = 34.650000\n",
      "Label_Zero_Predict_Zero = 0.984834,Label_Zero_Predict_Zero = 0.979540,Nombre_Predict_Zero = 1087.200000,Nombre_Zero_Mean = 1081.350000\n",
      "Accuracy_fixe_mean = 0.981407,Accuracy_fixe_one = 0.554652,Accuracy_fixe_zero = 0.986860\n",
      "\n"
     ]
    },
    {
     "name": "stderr",
     "output_type": "stream",
     "text": [
      " 80%|███████████████████████████████████████████████████████████████▏               | 800/1000 [21:33<05:21,  1.61s/it]"
     ]
    },
    {
     "name": "stdout",
     "output_type": "stream",
     "text": [
      "Loss = 0.623429,Accuracy_value = 0.965789,Accuracy_instance = 0.000000\n",
      "Label_One_Predict_One = 0.415511,Predict_One_Label_One = 0.470200,Nombre_Predict_One = 30.950000,Nombre_One_Mean = 34.650000\n",
      "Label_Zero_Predict_Zero = 0.984078,Label_Zero_Predict_Zero = 0.980612,Nombre_Predict_Zero = 1085.050000,Nombre_Zero_Mean = 1081.350000\n",
      "Accuracy_fixe_mean = 0.982079,Accuracy_fixe_one = 0.551911,Accuracy_fixe_zero = 0.987430\n",
      "\n"
     ]
    },
    {
     "name": "stderr",
     "output_type": "stream",
     "text": [
      " 85%|███████████████████████████████████████████████████████████████████▏           | 850/1000 [22:54<03:59,  1.60s/it]"
     ]
    },
    {
     "name": "stdout",
     "output_type": "stream",
     "text": [
      "Loss = 0.682861,Accuracy_value = 0.964713,Accuracy_instance = 0.000000\n",
      "Label_One_Predict_One = 0.408567,Predict_One_Label_One = 0.456063,Nombre_Predict_One = 31.650000,Nombre_One_Mean = 34.650000\n",
      "Label_Zero_Predict_Zero = 0.983150,Label_Zero_Predict_Zero = 0.980417,Nombre_Predict_Zero = 1084.350000,Nombre_Zero_Mean = 1081.350000\n",
      "Accuracy_fixe_mean = 0.981295,Accuracy_fixe_one = 0.553115,Accuracy_fixe_zero = 0.986910\n",
      "\n"
     ]
    },
    {
     "name": "stderr",
     "output_type": "stream",
     "text": [
      " 90%|███████████████████████████████████████████████████████████████████████        | 900/1000 [24:14<02:39,  1.60s/it]"
     ]
    },
    {
     "name": "stdout",
     "output_type": "stream",
     "text": [
      "Loss = 0.743088,Accuracy_value = 0.964462,Accuracy_instance = 0.000000\n",
      "Label_One_Predict_One = 0.425679,Predict_One_Label_One = 0.456121,Nombre_Predict_One = 33.100000,Nombre_One_Mean = 34.650000\n",
      "Label_Zero_Predict_Zero = 0.982373,Label_Zero_Predict_Zero = 0.980908,Nombre_Predict_Zero = 1082.900000,Nombre_Zero_Mean = 1081.350000\n",
      "Accuracy_fixe_mean = 0.981205,Accuracy_fixe_one = 0.564585,Accuracy_fixe_zero = 0.986773\n",
      "\n"
     ]
    },
    {
     "name": "stderr",
     "output_type": "stream",
     "text": [
      " 95%|███████████████████████████████████████████████████████████████████████████    | 950/1000 [25:36<01:21,  1.62s/it]"
     ]
    },
    {
     "name": "stdout",
     "output_type": "stream",
     "text": [
      "Loss = 0.780026,Accuracy_value = 0.964659,Accuracy_instance = 0.000000\n",
      "Label_One_Predict_One = 0.413915,Predict_One_Label_One = 0.452311,Nombre_Predict_One = 32.100000,Nombre_One_Mean = 34.650000\n",
      "Label_Zero_Predict_Zero = 0.983024,Label_Zero_Predict_Zero = 0.980487,Nombre_Predict_Zero = 1083.900000,Nombre_Zero_Mean = 1081.350000\n",
      "Accuracy_fixe_mean = 0.980152,Accuracy_fixe_one = 0.547539,Accuracy_fixe_zero = 0.986323\n",
      "\n"
     ]
    },
    {
     "name": "stderr",
     "output_type": "stream",
     "text": [
      "100%|██████████████████████████████████████████████████████████████████████████████| 1000/1000 [26:57<00:00,  1.62s/it]\n",
      "  0%|                                                                                         | 0/1000 [00:00<?, ?it/s]"
     ]
    },
    {
     "name": "stdout",
     "output_type": "stream",
     "text": [
      "Loss = 0.752434,Accuracy_value = 0.963477,Accuracy_instance = 0.000000\n",
      "Label_One_Predict_One = 0.375723,Predict_One_Label_One = 0.417497,Nombre_Predict_One = 31.800000,Nombre_One_Mean = 34.800000\n",
      "Label_Zero_Predict_Zero = 0.982441,Label_Zero_Predict_Zero = 0.979870,Nombre_Predict_Zero = 1107.450000,Nombre_Zero_Mean = 1104.450000\n",
      "Accuracy_fixe_mean = 0.980242,Accuracy_fixe_one = 0.529095,Accuracy_fixe_zero = 0.986348\n",
      "\n",
      "Loss = 3.281420,Accuracy_value = 0.345932,Accuracy_instance = 0.000000\n",
      "Label_One_Predict_One = 0.742591,Predict_One_Label_One = 0.035775,Nombre_Predict_One = 753.300000,Nombre_One_Mean = 34.650000\n",
      "Label_Zero_Predict_Zero = 0.333066,Label_Zero_Predict_Zero = 0.974907,Nombre_Predict_Zero = 362.700000,Nombre_Zero_Mean = 1081.350000\n",
      "Accuracy_fixe_mean = 0.301322,Accuracy_fixe_one = 0.038927,Accuracy_fixe_zero = 0.974433\n",
      "\n"
     ]
    },
    {
     "name": "stderr",
     "output_type": "stream",
     "text": [
      "  5%|████                                                                            | 50/1000 [01:20<25:18,  1.60s/it]"
     ]
    },
    {
     "name": "stdout",
     "output_type": "stream",
     "text": [
      "Loss = 0.148477,Accuracy_value = 0.976577,Accuracy_instance = 0.000000\n",
      "Label_One_Predict_One = 0.423431,Predict_One_Label_One = 0.735922,Nombre_Predict_One = 20.200000,Nombre_One_Mean = 34.650000\n",
      "Label_Zero_Predict_Zero = 0.994871,Label_Zero_Predict_Zero = 0.981194,Nombre_Predict_Zero = 1095.800000,Nombre_Zero_Mean = 1081.350000\n",
      "Accuracy_fixe_mean = 0.994534,Accuracy_fixe_one = 0.000000,Accuracy_fixe_zero = 0.994534\n",
      "\n"
     ]
    },
    {
     "name": "stderr",
     "output_type": "stream",
     "text": [
      " 10%|███████▉                                                                       | 100/1000 [02:41<24:07,  1.61s/it]"
     ]
    },
    {
     "name": "stdout",
     "output_type": "stream",
     "text": [
      "Loss = 0.151510,Accuracy_value = 0.975448,Accuracy_instance = 0.000000\n",
      "Label_One_Predict_One = 0.498746,Predict_One_Label_One = 0.656367,Nombre_Predict_One = 26.450000,Nombre_One_Mean = 34.650000\n",
      "Label_Zero_Predict_Zero = 0.991159,Label_Zero_Predict_Zero = 0.983584,Nombre_Predict_Zero = 1089.550000,Nombre_Zero_Mean = 1081.350000\n",
      "Accuracy_fixe_mean = 0.994400,Accuracy_fixe_one = 0.000000,Accuracy_fixe_zero = 0.994466\n",
      "\n"
     ]
    },
    {
     "name": "stderr",
     "output_type": "stream",
     "text": [
      " 15%|███████████▊                                                                   | 150/1000 [04:03<23:32,  1.66s/it]"
     ]
    },
    {
     "name": "stdout",
     "output_type": "stream",
     "text": [
      "Loss = 0.166162,Accuracy_value = 0.974391,Accuracy_instance = 0.000000\n",
      "Label_One_Predict_One = 0.411874,Predict_One_Label_One = 0.662831,Nombre_Predict_One = 21.700000,Nombre_One_Mean = 34.650000\n",
      "Label_Zero_Predict_Zero = 0.992978,Label_Zero_Predict_Zero = 0.980791,Nombre_Predict_Zero = 1094.300000,Nombre_Zero_Mean = 1081.350000\n",
      "Accuracy_fixe_mean = 0.992764,Accuracy_fixe_one = 0.333333,Accuracy_fixe_zero = 0.993004\n",
      "\n"
     ]
    },
    {
     "name": "stderr",
     "output_type": "stream",
     "text": [
      " 20%|███████████████▊                                                               | 200/1000 [05:23<21:27,  1.61s/it]"
     ]
    },
    {
     "name": "stdout",
     "output_type": "stream",
     "text": [
      "Loss = 0.180031,Accuracy_value = 0.973172,Accuracy_instance = 0.000000\n",
      "Label_One_Predict_One = 0.374223,Predict_One_Label_One = 0.647356,Nombre_Predict_One = 20.350000,Nombre_One_Mean = 34.650000\n",
      "Label_Zero_Predict_Zero = 0.992939,Label_Zero_Predict_Zero = 0.979605,Nombre_Predict_Zero = 1095.650000,Nombre_Zero_Mean = 1081.350000\n",
      "Accuracy_fixe_mean = 0.991398,Accuracy_fixe_one = 0.629167,Accuracy_fixe_zero = 0.992073\n",
      "\n"
     ]
    },
    {
     "name": "stderr",
     "output_type": "stream",
     "text": [
      " 25%|███████████████████▊                                                           | 250/1000 [06:45<20:00,  1.60s/it]"
     ]
    },
    {
     "name": "stdout",
     "output_type": "stream",
     "text": [
      "Loss = 0.203078,Accuracy_value = 0.972975,Accuracy_instance = 0.000000\n",
      "Label_One_Predict_One = 0.468779,Predict_One_Label_One = 0.599654,Nombre_Predict_One = 27.150000,Nombre_One_Mean = 34.650000\n",
      "Label_Zero_Predict_Zero = 0.989434,Label_Zero_Predict_Zero = 0.982742,Nombre_Predict_Zero = 1088.850000,Nombre_Zero_Mean = 1081.350000\n",
      "Accuracy_fixe_mean = 0.989807,Accuracy_fixe_one = 0.593274,Accuracy_fixe_zero = 0.991971\n",
      "\n"
     ]
    },
    {
     "name": "stderr",
     "output_type": "stream",
     "text": [
      " 30%|███████████████████████▋                                                       | 300/1000 [08:07<18:56,  1.62s/it]"
     ]
    },
    {
     "name": "stdout",
     "output_type": "stream",
     "text": [
      "Loss = 0.218250,Accuracy_value = 0.970878,Accuracy_instance = 0.000000\n",
      "Label_One_Predict_One = 0.416123,Predict_One_Label_One = 0.565875,Nombre_Predict_One = 25.550000,Nombre_One_Mean = 34.650000\n",
      "Label_Zero_Predict_Zero = 0.989210,Label_Zero_Predict_Zero = 0.980841,Nombre_Predict_Zero = 1090.450000,Nombre_Zero_Mean = 1081.350000\n",
      "Accuracy_fixe_mean = 0.989561,Accuracy_fixe_one = 0.625278,Accuracy_fixe_zero = 0.991349\n",
      "\n"
     ]
    },
    {
     "name": "stderr",
     "output_type": "stream",
     "text": [
      " 35%|███████████████████████████▋                                                   | 350/1000 [09:28<17:27,  1.61s/it]"
     ]
    },
    {
     "name": "stdout",
     "output_type": "stream",
     "text": [
      "Loss = 0.241745,Accuracy_value = 0.970394,Accuracy_instance = 0.000000\n",
      "Label_One_Predict_One = 0.473553,Predict_One_Label_One = 0.544655,Nombre_Predict_One = 30.000000,Nombre_One_Mean = 34.650000\n",
      "Label_Zero_Predict_Zero = 0.986838,Label_Zero_Predict_Zero = 0.982627,Nombre_Predict_Zero = 1086.000000,Nombre_Zero_Mean = 1081.350000\n",
      "Accuracy_fixe_mean = 0.987433,Accuracy_fixe_one = 0.558697,Accuracy_fixe_zero = 0.990751\n",
      "\n"
     ]
    },
    {
     "name": "stderr",
     "output_type": "stream",
     "text": [
      " 40%|███████████████████████████████▌                                               | 400/1000 [10:49<16:00,  1.60s/it]"
     ]
    },
    {
     "name": "stdout",
     "output_type": "stream",
     "text": [
      "Loss = 0.259561,Accuracy_value = 0.969570,Accuracy_instance = 0.000000\n",
      "Label_One_Predict_One = 0.428499,Predict_One_Label_One = 0.535631,Nombre_Predict_One = 27.700000,Nombre_One_Mean = 34.650000\n",
      "Label_Zero_Predict_Zero = 0.987561,Label_Zero_Predict_Zero = 0.981100,Nombre_Predict_Zero = 1088.300000,Nombre_Zero_Mean = 1081.350000\n",
      "Accuracy_fixe_mean = 0.986649,Accuracy_fixe_one = 0.605742,Accuracy_fixe_zero = 0.989563\n",
      "\n"
     ]
    },
    {
     "name": "stderr",
     "output_type": "stream",
     "text": [
      " 45%|███████████████████████████████████▌                                           | 450/1000 [12:10<14:37,  1.60s/it]"
     ]
    },
    {
     "name": "stdout",
     "output_type": "stream",
     "text": [
      "Loss = 0.293354,Accuracy_value = 0.969068,Accuracy_instance = 0.000000\n",
      "Label_One_Predict_One = 0.464080,Predict_One_Label_One = 0.519001,Nombre_Predict_One = 30.700000,Nombre_One_Mean = 34.650000\n",
      "Label_Zero_Predict_Zero = 0.985628,Label_Zero_Predict_Zero = 0.982440,Nombre_Predict_Zero = 1085.300000,Nombre_Zero_Mean = 1081.350000\n",
      "Accuracy_fixe_mean = 0.985484,Accuracy_fixe_one = 0.491107,Accuracy_fixe_zero = 0.990347\n",
      "\n"
     ]
    },
    {
     "name": "stderr",
     "output_type": "stream",
     "text": [
      " 50%|███████████████████████████████████████▌                                       | 500/1000 [13:31<13:26,  1.61s/it]"
     ]
    },
    {
     "name": "stdout",
     "output_type": "stream",
     "text": [
      "Loss = 0.349457,Accuracy_value = 0.968656,Accuracy_instance = 0.000000\n",
      "Label_One_Predict_One = 0.451457,Predict_One_Label_One = 0.508378,Nombre_Predict_One = 30.450000,Nombre_One_Mean = 34.650000\n",
      "Label_Zero_Predict_Zero = 0.985575,Label_Zero_Predict_Zero = 0.982085,Nombre_Predict_Zero = 1085.550000,Nombre_Zero_Mean = 1081.350000\n",
      "Accuracy_fixe_mean = 0.984207,Accuracy_fixe_one = 0.529657,Accuracy_fixe_zero = 0.989879\n",
      "\n"
     ]
    },
    {
     "name": "stderr",
     "output_type": "stream",
     "text": [
      " 55%|███████████████████████████████████████████▍                                   | 550/1000 [14:52<11:57,  1.59s/it]"
     ]
    },
    {
     "name": "stdout",
     "output_type": "stream",
     "text": [
      "Loss = 0.383112,Accuracy_value = 0.967814,Accuracy_instance = 0.000000\n",
      "Label_One_Predict_One = 0.420908,Predict_One_Label_One = 0.495945,Nombre_Predict_One = 29.300000,Nombre_One_Mean = 34.650000\n",
      "Label_Zero_Predict_Zero = 0.985744,Label_Zero_Predict_Zero = 0.981068,Nombre_Predict_Zero = 1086.700000,Nombre_Zero_Mean = 1081.350000\n",
      "Accuracy_fixe_mean = 0.983423,Accuracy_fixe_one = 0.538128,Accuracy_fixe_zero = 0.988296\n",
      "\n"
     ]
    },
    {
     "name": "stderr",
     "output_type": "stream",
     "text": [
      " 60%|███████████████████████████████████████████████▍                               | 600/1000 [16:13<10:43,  1.61s/it]"
     ]
    },
    {
     "name": "stdout",
     "output_type": "stream",
     "text": [
      "Loss = 0.418517,Accuracy_value = 0.967993,Accuracy_instance = 0.000000\n",
      "Label_One_Predict_One = 0.417843,Predict_One_Label_One = 0.497543,Nombre_Predict_One = 28.800000,Nombre_One_Mean = 34.650000\n",
      "Label_Zero_Predict_Zero = 0.986077,Label_Zero_Predict_Zero = 0.980932,Nombre_Predict_Zero = 1087.200000,Nombre_Zero_Mean = 1081.350000\n",
      "Accuracy_fixe_mean = 0.983781,Accuracy_fixe_one = 0.539028,Accuracy_fixe_zero = 0.988637\n",
      "\n"
     ]
    },
    {
     "name": "stderr",
     "output_type": "stream",
     "text": [
      " 65%|███████████████████████████████████████████████████▎                           | 650/1000 [17:40<09:50,  1.69s/it]"
     ]
    },
    {
     "name": "stdout",
     "output_type": "stream",
     "text": [
      "Loss = 0.474290,Accuracy_value = 0.967294,Accuracy_instance = 0.000000\n",
      "Label_One_Predict_One = 0.464115,Predict_One_Label_One = 0.498840,Nombre_Predict_One = 32.550000,Nombre_One_Mean = 34.650000\n",
      "Label_Zero_Predict_Zero = 0.983829,Label_Zero_Predict_Zero = 0.982375,Nombre_Predict_Zero = 1083.450000,Nombre_Zero_Mean = 1081.350000\n",
      "Accuracy_fixe_mean = 0.982661,Accuracy_fixe_one = 0.583377,Accuracy_fixe_zero = 0.987948\n",
      "\n"
     ]
    },
    {
     "name": "stderr",
     "output_type": "stream",
     "text": [
      " 70%|███████████████████████████████████████████████████████▎                       | 700/1000 [19:05<08:24,  1.68s/it]"
     ]
    },
    {
     "name": "stdout",
     "output_type": "stream",
     "text": [
      "Loss = 0.515554,Accuracy_value = 0.966308,Accuracy_instance = 0.000000\n",
      "Label_One_Predict_One = 0.438996,Predict_One_Label_One = 0.480489,Nombre_Predict_One = 31.700000,Nombre_One_Mean = 34.650000\n",
      "Label_Zero_Predict_Zero = 0.983753,Label_Zero_Predict_Zero = 0.981439,Nombre_Predict_Zero = 1084.300000,Nombre_Zero_Mean = 1081.350000\n",
      "Accuracy_fixe_mean = 0.981519,Accuracy_fixe_one = 0.576974,Accuracy_fixe_zero = 0.987926\n",
      "\n"
     ]
    },
    {
     "name": "stderr",
     "output_type": "stream",
     "text": [
      " 75%|███████████████████████████████████████████████████████████▎                   | 750/1000 [20:31<07:02,  1.69s/it]"
     ]
    },
    {
     "name": "stdout",
     "output_type": "stream",
     "text": [
      "Loss = 0.584716,Accuracy_value = 0.965950,Accuracy_instance = 0.000000\n",
      "Label_One_Predict_One = 0.462320,Predict_One_Label_One = 0.478154,Nombre_Predict_One = 33.750000,Nombre_One_Mean = 34.650000\n",
      "Label_Zero_Predict_Zero = 0.982548,Label_Zero_Predict_Zero = 0.982234,Nombre_Predict_Zero = 1082.250000,Nombre_Zero_Mean = 1081.350000\n",
      "Accuracy_fixe_mean = 0.979727,Accuracy_fixe_one = 0.572380,Accuracy_fixe_zero = 0.987306\n",
      "\n"
     ]
    },
    {
     "name": "stderr",
     "output_type": "stream",
     "text": [
      " 80%|███████████████████████████████████████████████████████████████▏               | 800/1000 [21:56<05:40,  1.70s/it]"
     ]
    },
    {
     "name": "stdout",
     "output_type": "stream",
     "text": [
      "Loss = 0.597219,Accuracy_value = 0.965663,Accuracy_instance = 0.000000\n",
      "Label_One_Predict_One = 0.442222,Predict_One_Label_One = 0.481120,Nombre_Predict_One = 32.450000,Nombre_One_Mean = 34.650000\n",
      "Label_Zero_Predict_Zero = 0.982914,Label_Zero_Predict_Zero = 0.981586,Nombre_Predict_Zero = 1083.550000,Nombre_Zero_Mean = 1081.350000\n",
      "Accuracy_fixe_mean = 0.979346,Accuracy_fixe_one = 0.599619,Accuracy_fixe_zero = 0.986399\n",
      "\n"
     ]
    },
    {
     "name": "stderr",
     "output_type": "stream",
     "text": [
      " 85%|███████████████████████████████████████████████████████████████████▏           | 850/1000 [23:22<04:14,  1.70s/it]"
     ]
    },
    {
     "name": "stdout",
     "output_type": "stream",
     "text": [
      "Loss = 0.624183,Accuracy_value = 0.963996,Accuracy_instance = 0.000000\n",
      "Label_One_Predict_One = 0.426375,Predict_One_Label_One = 0.449053,Nombre_Predict_One = 33.450000,Nombre_One_Mean = 34.650000\n",
      "Label_Zero_Predict_Zero = 0.981716,Label_Zero_Predict_Zero = 0.981062,Nombre_Predict_Zero = 1082.550000,Nombre_Zero_Mean = 1081.350000\n",
      "Accuracy_fixe_mean = 0.979391,Accuracy_fixe_one = 0.565727,Accuracy_fixe_zero = 0.986649\n",
      "\n"
     ]
    },
    {
     "name": "stderr",
     "output_type": "stream",
     "text": [
      " 90%|███████████████████████████████████████████████████████████████████████        | 900/1000 [24:47<02:48,  1.69s/it]"
     ]
    },
    {
     "name": "stdout",
     "output_type": "stream",
     "text": [
      "Loss = 0.642895,Accuracy_value = 0.964337,Accuracy_instance = 0.000000\n",
      "Label_One_Predict_One = 0.424986,Predict_One_Label_One = 0.455967,Nombre_Predict_One = 32.900000,Nombre_One_Mean = 34.650000\n",
      "Label_Zero_Predict_Zero = 0.982103,Label_Zero_Predict_Zero = 0.981031,Nombre_Predict_Zero = 1083.100000,Nombre_Zero_Mean = 1081.350000\n",
      "Accuracy_fixe_mean = 0.979303,Accuracy_fixe_one = 0.614816,Accuracy_fixe_zero = 0.986100\n",
      "\n"
     ]
    },
    {
     "name": "stderr",
     "output_type": "stream",
     "text": [
      " 95%|███████████████████████████████████████████████████████████████████████████    | 950/1000 [26:12<01:23,  1.67s/it]"
     ]
    },
    {
     "name": "stdout",
     "output_type": "stream",
     "text": [
      "Loss = 0.703388,Accuracy_value = 0.964050,Accuracy_instance = 0.000000\n",
      "Label_One_Predict_One = 0.423770,Predict_One_Label_One = 0.445117,Nombre_Predict_One = 33.500000,Nombre_One_Mean = 34.650000\n",
      "Label_Zero_Predict_Zero = 0.981739,Label_Zero_Predict_Zero = 0.981106,Nombre_Predict_Zero = 1082.500000,Nombre_Zero_Mean = 1081.350000\n",
      "Accuracy_fixe_mean = 0.979256,Accuracy_fixe_one = 0.585149,Accuracy_fixe_zero = 0.986303\n",
      "\n"
     ]
    },
    {
     "name": "stderr",
     "output_type": "stream",
     "text": [
      "100%|██████████████████████████████████████████████████████████████████████████████| 1000/1000 [27:38<00:00,  1.66s/it]\n",
      "  0%|                                                                                         | 0/1000 [00:00<?, ?it/s]"
     ]
    },
    {
     "name": "stdout",
     "output_type": "stream",
     "text": [
      "Loss = 0.640950,Accuracy_value = 0.964910,Accuracy_instance = 0.000000\n",
      "Label_One_Predict_One = 0.406457,Predict_One_Label_One = 0.444784,Nombre_Predict_One = 32.200000,Nombre_One_Mean = 34.800000\n",
      "Label_Zero_Predict_Zero = 0.982824,Label_Zero_Predict_Zero = 0.980946,Nombre_Predict_Zero = 1107.050000,Nombre_Zero_Mean = 1104.450000\n",
      "Accuracy_fixe_mean = 0.981967,Accuracy_fixe_one = 0.604285,Accuracy_fixe_zero = 0.987496\n",
      "\n",
      "Loss = 2.101884,Accuracy_value = 0.908136,Accuracy_instance = 0.000000\n",
      "Label_One_Predict_One = 0.252255,Predict_One_Label_One = 0.107162,Nombre_Predict_One = 84.250000,Nombre_One_Mean = 34.650000\n",
      "Label_Zero_Predict_Zero = 0.929984,Label_Zero_Predict_Zero = 0.973931,Nombre_Predict_Zero = 1031.750000,Nombre_Zero_Mean = 1081.350000\n",
      "Accuracy_fixe_mean = 0.930824,Accuracy_fixe_one = 0.124259,Accuracy_fixe_zero = 0.975662\n",
      "\n"
     ]
    },
    {
     "name": "stderr",
     "output_type": "stream",
     "text": [
      "  5%|████                                                                            | 50/1000 [01:26<26:51,  1.70s/it]"
     ]
    },
    {
     "name": "stdout",
     "output_type": "stream",
     "text": [
      "Loss = 0.148641,Accuracy_value = 0.976649,Accuracy_instance = 0.000000\n",
      "Label_One_Predict_One = 0.433520,Predict_One_Label_One = 0.729250,Nombre_Predict_One = 20.750000,Nombre_One_Mean = 34.650000\n",
      "Label_Zero_Predict_Zero = 0.994609,Label_Zero_Predict_Zero = 0.981508,Nombre_Predict_Zero = 1095.250000,Nombre_Zero_Mean = 1081.350000\n",
      "Accuracy_fixe_mean = 0.994086,Accuracy_fixe_one = 0.000000,Accuracy_fixe_zero = 0.994086\n",
      "\n"
     ]
    },
    {
     "name": "stderr",
     "output_type": "stream",
     "text": [
      " 10%|███████▉                                                                       | 100/1000 [02:51<25:25,  1.70s/it]"
     ]
    },
    {
     "name": "stdout",
     "output_type": "stream",
     "text": [
      "Loss = 0.152863,Accuracy_value = 0.975520,Accuracy_instance = 0.000000\n",
      "Label_One_Predict_One = 0.518842,Predict_One_Label_One = 0.648847,Nombre_Predict_One = 27.900000,Nombre_One_Mean = 34.650000\n",
      "Label_Zero_Predict_Zero = 0.990588,Label_Zero_Predict_Zero = 0.984211,Nombre_Predict_Zero = 1088.100000,Nombre_Zero_Mean = 1081.350000\n",
      "Accuracy_fixe_mean = 0.994512,Accuracy_fixe_one = 0.000000,Accuracy_fixe_zero = 0.994512\n",
      "\n"
     ]
    },
    {
     "name": "stderr",
     "output_type": "stream",
     "text": [
      " 15%|███████████▊                                                                   | 150/1000 [04:17<23:54,  1.69s/it]"
     ]
    },
    {
     "name": "stdout",
     "output_type": "stream",
     "text": [
      "Loss = 0.167431,Accuracy_value = 0.973996,Accuracy_instance = 0.000000\n",
      "Label_One_Predict_One = 0.475593,Predict_One_Label_One = 0.623990,Nombre_Predict_One = 26.550000,Nombre_One_Mean = 34.650000\n",
      "Label_Zero_Predict_Zero = 0.990401,Label_Zero_Predict_Zero = 0.982850,Nombre_Predict_Zero = 1089.450000,Nombre_Zero_Mean = 1081.350000\n",
      "Accuracy_fixe_mean = 0.991980,Accuracy_fixe_one = 0.150000,Accuracy_fixe_zero = 0.992111\n",
      "\n"
     ]
    },
    {
     "name": "stderr",
     "output_type": "stream",
     "text": [
      " 20%|███████████████▊                                                               | 200/1000 [05:42<22:37,  1.70s/it]"
     ]
    },
    {
     "name": "stdout",
     "output_type": "stream",
     "text": [
      "Loss = 0.175093,Accuracy_value = 0.973781,Accuracy_instance = 0.000000\n",
      "Label_One_Predict_One = 0.496254,Predict_One_Label_One = 0.612553,Nombre_Predict_One = 28.100000,Nombre_One_Mean = 34.650000\n",
      "Label_Zero_Predict_Zero = 0.989453,Label_Zero_Predict_Zero = 0.983537,Nombre_Predict_Zero = 1087.900000,Nombre_Zero_Mean = 1081.350000\n",
      "Accuracy_fixe_mean = 0.991465,Accuracy_fixe_one = 0.416667,Accuracy_fixe_zero = 0.992037\n",
      "\n"
     ]
    },
    {
     "name": "stderr",
     "output_type": "stream",
     "text": [
      " 25%|███████████████████▊                                                           | 250/1000 [07:08<21:17,  1.70s/it]"
     ]
    },
    {
     "name": "stdout",
     "output_type": "stream",
     "text": [
      "Loss = 0.204918,Accuracy_value = 0.972384,Accuracy_instance = 0.000000\n",
      "Label_One_Predict_One = 0.455819,Predict_One_Label_One = 0.586409,Nombre_Predict_One = 26.900000,Nombre_One_Mean = 34.650000\n",
      "Label_Zero_Predict_Zero = 0.989344,Label_Zero_Predict_Zero = 0.982238,Nombre_Predict_Zero = 1089.100000,Nombre_Zero_Mean = 1081.350000\n",
      "Accuracy_fixe_mean = 0.991107,Accuracy_fixe_one = 0.592500,Accuracy_fixe_zero = 0.991850\n",
      "\n"
     ]
    },
    {
     "name": "stderr",
     "output_type": "stream",
     "text": [
      " 30%|███████████████████████▋                                                       | 300/1000 [08:33<19:38,  1.68s/it]"
     ]
    },
    {
     "name": "stdout",
     "output_type": "stream",
     "text": [
      "Loss = 0.220650,Accuracy_value = 0.970538,Accuracy_instance = 0.000000\n",
      "Label_One_Predict_One = 0.449248,Predict_One_Label_One = 0.552325,Nombre_Predict_One = 28.300000,Nombre_One_Mean = 34.650000\n",
      "Label_Zero_Predict_Zero = 0.987767,Label_Zero_Predict_Zero = 0.981878,Nombre_Predict_Zero = 1087.700000,Nombre_Zero_Mean = 1081.350000\n",
      "Accuracy_fixe_mean = 0.989852,Accuracy_fixe_one = 0.535060,Accuracy_fixe_zero = 0.991303\n",
      "\n"
     ]
    },
    {
     "name": "stderr",
     "output_type": "stream",
     "text": [
      " 35%|███████████████████████████▋                                                   | 350/1000 [09:58<18:20,  1.69s/it]"
     ]
    },
    {
     "name": "stdout",
     "output_type": "stream",
     "text": [
      "Loss = 0.258059,Accuracy_value = 0.970699,Accuracy_instance = 0.000000\n",
      "Label_One_Predict_One = 0.463707,Predict_One_Label_One = 0.562181,Nombre_Predict_One = 28.850000,Nombre_One_Mean = 34.650000\n",
      "Label_Zero_Predict_Zero = 0.987445,Label_Zero_Predict_Zero = 0.982339,Nombre_Predict_Zero = 1087.150000,Nombre_Zero_Mean = 1081.350000\n",
      "Accuracy_fixe_mean = 0.988530,Accuracy_fixe_one = 0.485833,Accuracy_fixe_zero = 0.990742\n",
      "\n"
     ]
    },
    {
     "name": "stderr",
     "output_type": "stream",
     "text": [
      " 40%|███████████████████████████████▌                                               | 400/1000 [11:23<17:01,  1.70s/it]"
     ]
    },
    {
     "name": "stdout",
     "output_type": "stream",
     "text": [
      "Loss = 0.285015,Accuracy_value = 0.969194,Accuracy_instance = 0.000000\n",
      "Label_One_Predict_One = 0.439120,Predict_One_Label_One = 0.531210,Nombre_Predict_One = 29.100000,Nombre_One_Mean = 34.650000\n",
      "Label_Zero_Predict_Zero = 0.986712,Label_Zero_Predict_Zero = 0.981537,Nombre_Predict_Zero = 1086.900000,Nombre_Zero_Mean = 1081.350000\n",
      "Accuracy_fixe_mean = 0.988396,Accuracy_fixe_one = 0.503611,Accuracy_fixe_zero = 0.990847\n",
      "\n"
     ]
    },
    {
     "name": "stderr",
     "output_type": "stream",
     "text": [
      " 45%|███████████████████████████████████▌                                           | 450/1000 [12:47<14:49,  1.62s/it]"
     ]
    },
    {
     "name": "stdout",
     "output_type": "stream",
     "text": [
      "Loss = 0.325719,Accuracy_value = 0.969642,Accuracy_instance = 0.000000\n",
      "Label_One_Predict_One = 0.440994,Predict_One_Label_One = 0.539561,Nombre_Predict_One = 28.450000,Nombre_One_Mean = 34.650000\n",
      "Label_Zero_Predict_Zero = 0.987056,Label_Zero_Predict_Zero = 0.981644,Nombre_Predict_Zero = 1087.550000,Nombre_Zero_Mean = 1081.350000\n",
      "Accuracy_fixe_mean = 0.987657,Accuracy_fixe_one = 0.593750,Accuracy_fixe_zero = 0.989851\n",
      "\n"
     ]
    },
    {
     "name": "stderr",
     "output_type": "stream",
     "text": [
      " 50%|███████████████████████████████████████▌                                       | 500/1000 [14:08<13:26,  1.61s/it]"
     ]
    },
    {
     "name": "stdout",
     "output_type": "stream",
     "text": [
      "Loss = 0.388246,Accuracy_value = 0.965932,Accuracy_instance = 0.000000\n",
      "Label_One_Predict_One = 0.374461,Predict_One_Label_One = 0.472483,Nombre_Predict_One = 27.700000,Nombre_One_Mean = 34.650000\n",
      "Label_Zero_Predict_Zero = 0.985440,Label_Zero_Predict_Zero = 0.979452,Nombre_Predict_Zero = 1088.300000,Nombre_Zero_Mean = 1081.350000\n",
      "Accuracy_fixe_mean = 0.985887,Accuracy_fixe_one = 0.656007,Accuracy_fixe_zero = 0.988552\n",
      "\n"
     ]
    },
    {
     "name": "stderr",
     "output_type": "stream",
     "text": [
      " 55%|███████████████████████████████████████████▍                                   | 550/1000 [15:33<14:30,  1.93s/it]"
     ]
    },
    {
     "name": "stdout",
     "output_type": "stream",
     "text": [
      "Loss = 0.404456,Accuracy_value = 0.968190,Accuracy_instance = 0.000000\n",
      "Label_One_Predict_One = 0.446671,Predict_One_Label_One = 0.524141,Nombre_Predict_One = 30.050000,Nombre_One_Mean = 34.650000\n",
      "Label_Zero_Predict_Zero = 0.985379,Label_Zero_Predict_Zero = 0.981775,Nombre_Predict_Zero = 1085.950000,Nombre_Zero_Mean = 1081.350000\n",
      "Accuracy_fixe_mean = 0.985484,Accuracy_fixe_one = 0.556084,Accuracy_fixe_zero = 0.988768\n",
      "\n"
     ]
    },
    {
     "name": "stderr",
     "output_type": "stream",
     "text": [
      " 60%|███████████████████████████████████████████████▍                               | 600/1000 [16:55<10:43,  1.61s/it]"
     ]
    },
    {
     "name": "stdout",
     "output_type": "stream",
     "text": [
      "Loss = 0.469724,Accuracy_value = 0.965789,Accuracy_instance = 0.000000\n",
      "Label_One_Predict_One = 0.436662,Predict_One_Label_One = 0.484869,Nombre_Predict_One = 31.900000,Nombre_One_Mean = 34.650000\n",
      "Label_Zero_Predict_Zero = 0.983228,Label_Zero_Predict_Zero = 0.981403,Nombre_Predict_Zero = 1084.100000,Nombre_Zero_Mean = 1081.350000\n",
      "Accuracy_fixe_mean = 0.985148,Accuracy_fixe_one = 0.581997,Accuracy_fixe_zero = 0.989044\n",
      "\n"
     ]
    },
    {
     "name": "stderr",
     "output_type": "stream",
     "text": [
      " 65%|███████████████████████████████████████████████████▎                           | 650/1000 [18:16<09:21,  1.60s/it]"
     ]
    },
    {
     "name": "stdout",
     "output_type": "stream",
     "text": [
      "Loss = 0.502807,Accuracy_value = 0.965806,Accuracy_instance = 0.000000\n",
      "Label_One_Predict_One = 0.465051,Predict_One_Label_One = 0.481711,Nombre_Predict_One = 34.100000,Nombre_One_Mean = 34.650000\n",
      "Label_Zero_Predict_Zero = 0.982383,Label_Zero_Predict_Zero = 0.982245,Nombre_Predict_Zero = 1081.900000,Nombre_Zero_Mean = 1081.350000\n",
      "Accuracy_fixe_mean = 0.984140,Accuracy_fixe_one = 0.571909,Accuracy_fixe_zero = 0.988761\n",
      "\n"
     ]
    },
    {
     "name": "stderr",
     "output_type": "stream",
     "text": [
      " 70%|███████████████████████████████████████████████████████▎                       | 700/1000 [19:37<08:01,  1.61s/it]"
     ]
    },
    {
     "name": "stdout",
     "output_type": "stream",
     "text": [
      "Loss = 0.606616,Accuracy_value = 0.965251,Accuracy_instance = 0.000000\n",
      "Label_One_Predict_One = 0.452470,Predict_One_Label_One = 0.463933,Nombre_Predict_One = 34.200000,Nombre_One_Mean = 34.650000\n",
      "Label_Zero_Predict_Zero = 0.982169,Label_Zero_Predict_Zero = 0.981902,Nombre_Predict_Zero = 1081.800000,Nombre_Zero_Mean = 1081.350000\n",
      "Accuracy_fixe_mean = 0.984879,Accuracy_fixe_one = 0.532642,Accuracy_fixe_zero = 0.989287\n",
      "\n"
     ]
    },
    {
     "name": "stderr",
     "output_type": "stream",
     "text": [
      " 75%|███████████████████████████████████████████████████████████▎                   | 750/1000 [20:58<06:42,  1.61s/it]"
     ]
    },
    {
     "name": "stdout",
     "output_type": "stream",
     "text": [
      "Loss = 0.653980,Accuracy_value = 0.963996,Accuracy_instance = 0.000000\n",
      "Label_One_Predict_One = 0.446872,Predict_One_Label_One = 0.446881,Nombre_Predict_One = 34.950000,Nombre_One_Mean = 34.650000\n",
      "Label_Zero_Predict_Zero = 0.981033,Label_Zero_Predict_Zero = 0.981716,Nombre_Predict_Zero = 1081.050000,Nombre_Zero_Mean = 1081.350000\n",
      "Accuracy_fixe_mean = 0.983938,Accuracy_fixe_one = 0.544780,Accuracy_fixe_zero = 0.988802\n",
      "\n"
     ]
    },
    {
     "name": "stderr",
     "output_type": "stream",
     "text": [
      " 80%|███████████████████████████████████████████████████████████████▏               | 800/1000 [22:19<05:20,  1.60s/it]"
     ]
    },
    {
     "name": "stdout",
     "output_type": "stream",
     "text": [
      "Loss = 0.694061,Accuracy_value = 0.963871,Accuracy_instance = 0.000000\n",
      "Label_One_Predict_One = 0.419465,Predict_One_Label_One = 0.440006,Nombre_Predict_One = 33.400000,Nombre_One_Mean = 34.650000\n",
      "Label_Zero_Predict_Zero = 0.981816,Label_Zero_Predict_Zero = 0.980842,Nombre_Predict_Zero = 1082.600000,Nombre_Zero_Mean = 1081.350000\n",
      "Accuracy_fixe_mean = 0.984812,Accuracy_fixe_one = 0.574569,Accuracy_fixe_zero = 0.989149\n",
      "\n"
     ]
    },
    {
     "name": "stderr",
     "output_type": "stream",
     "text": [
      " 85%|███████████████████████████████████████████████████████████████████▏           | 850/1000 [23:40<04:01,  1.61s/it]"
     ]
    },
    {
     "name": "stdout",
     "output_type": "stream",
     "text": [
      "Loss = 0.714036,Accuracy_value = 0.963172,Accuracy_instance = 0.000000\n",
      "Label_One_Predict_One = 0.410892,Predict_One_Label_One = 0.429504,Nombre_Predict_One = 33.500000,Nombre_One_Mean = 34.650000\n",
      "Label_Zero_Predict_Zero = 0.981332,Label_Zero_Predict_Zero = 0.980596,Nombre_Predict_Zero = 1082.500000,Nombre_Zero_Mean = 1081.350000\n",
      "Accuracy_fixe_mean = 0.985059,Accuracy_fixe_one = 0.592440,Accuracy_fixe_zero = 0.989124\n",
      "\n"
     ]
    },
    {
     "name": "stderr",
     "output_type": "stream",
     "text": [
      " 90%|███████████████████████████████████████████████████████████████████████        | 900/1000 [25:01<02:40,  1.61s/it]"
     ]
    },
    {
     "name": "stdout",
     "output_type": "stream",
     "text": [
      "Loss = 0.786639,Accuracy_value = 0.961774,Accuracy_instance = 0.000000\n",
      "Label_One_Predict_One = 0.417668,Predict_One_Label_One = 0.418778,Nombre_Predict_One = 35.400000,Nombre_One_Mean = 34.650000\n",
      "Label_Zero_Predict_Zero = 0.979776,Label_Zero_Predict_Zero = 0.980673,Nombre_Predict_Zero = 1080.600000,Nombre_Zero_Mean = 1081.350000\n",
      "Accuracy_fixe_mean = 0.984344,Accuracy_fixe_one = 0.541526,Accuracy_fixe_zero = 0.989055\n",
      "\n"
     ]
    },
    {
     "name": "stderr",
     "output_type": "stream",
     "text": [
      " 95%|███████████████████████████████████████████████████████████████████████████    | 950/1000 [26:23<01:20,  1.61s/it]"
     ]
    },
    {
     "name": "stdout",
     "output_type": "stream",
     "text": [
      "Loss = 0.794452,Accuracy_value = 0.960090,Accuracy_instance = 0.000000\n",
      "Label_One_Predict_One = 0.419141,Predict_One_Label_One = 0.397455,Nombre_Predict_One = 37.550000,Nombre_One_Mean = 34.650000\n",
      "Label_Zero_Predict_Zero = 0.977965,Label_Zero_Predict_Zero = 0.980716,Nombre_Predict_Zero = 1078.450000,Nombre_Zero_Mean = 1081.350000\n",
      "Accuracy_fixe_mean = 0.984096,Accuracy_fixe_one = 0.581591,Accuracy_fixe_zero = 0.988779\n",
      "\n"
     ]
    },
    {
     "name": "stderr",
     "output_type": "stream",
     "text": [
      "100%|██████████████████████████████████████████████████████████████████████████████| 1000/1000 [27:44<00:00,  1.66s/it]\n"
     ]
    },
    {
     "name": "stdout",
     "output_type": "stream",
     "text": [
      "Loss = 0.819227,Accuracy_value = 0.963190,Accuracy_instance = 0.000000\n",
      "Label_One_Predict_One = 0.415004,Predict_One_Label_One = 0.418990,Nombre_Predict_One = 35.150000,Nombre_One_Mean = 34.800000\n",
      "Label_Zero_Predict_Zero = 0.980836,Label_Zero_Predict_Zero = 0.981129,Nombre_Predict_Zero = 1104.100000,Nombre_Zero_Mean = 1104.450000\n",
      "Accuracy_fixe_mean = 0.982056,Accuracy_fixe_one = 0.511530,Accuracy_fixe_zero = 0.987729\n",
      "\n"
     ]
    }
   ],
   "source": [
    "nb_mlp = 6\n",
    "proportion = 0.8\n",
    "feature_size = 24\n",
    "H = 50\n",
    "info_valide = []\n",
    "gamma = 0.5\n",
    "alpha = 0.25\n",
    "batch_size = 1\n",
    "EPOCHS = 1000\n",
    "learning_rate = 0.001\n",
    "\n",
    "C = 0.75\n",
    "lam = 0.5\n",
    "for C in [0.25,0.5,0.75]:\n",
    "    for lam in [0.25,0.5,0.75]:\n",
    "#     criterion = nn.BCELoss()\n",
    "        criterion = SelectiveLoss(C,lam)\n",
    "    #     criterion = FocalLoss(gamma=gamma,alpha = alpha)\n",
    "        if criterion.__str__()==\"BCELoss()\":\n",
    "            train_name = data_name+\"_BCE_\"+\\\n",
    "                nb_mlp.__str__()+\"MLP_\"+H.__str__()+\"TailleH_\"+batch_size.__str__()+\"batch_size_\"+\"layernorm+cat\"\n",
    "        elif criterion.__str__()==\"FocalLoss()\":\n",
    "            train_name = data_name+\"_FL_\"+gamma.__str__()+\"Gamma_\"+alpha.__str__()+\"Alpha_\"+\\\n",
    "                nb_mlp.__str__()+\"MLP_\"+H.__str__()+\"TailleH_\"+batch_size.__str__()+\"batch_size_\"+\"layernorm+cat\"\n",
    "        elif criterion.__str__()==\"SelectiveLoss()\":\n",
    "            train_name = data_name+\"_SL_\"+C.__str__()+\"C_\"+lam.__str__()+\"Lambda_\"+\\\n",
    "                nb_mlp.__str__()+\"MLP_2\"\n",
    "        writer = SummaryWriter('./logs/'+data_name+\"/\"+train_name+\"/\")\n",
    "\n",
    "        net = VariablePredictorDiving(feature_size,H,nb_mlp)\n",
    "        net.to(device)\n",
    "        optm = Adam(net.parameters(), lr = learning_rate)\n",
    "\n",
    "        scheduler = torch.optim.lr_scheduler.ExponentialLR(optm, gamma=1-10e-6)\n",
    "        train(net,criterion,optm,data_valide_gpu,proportion,writer,batch_size = batch_size,EPOCHS=EPOCHS,\n",
    "                  do_valide = True,do_log = True,with_diving=True)\n",
    "\n",
    "        model_path = \"model/\"+train_name\n",
    "        torch.save(net.state_dict(),model_path)\n",
    "        msg=valide(net,criterion,data_test_gpu,with_diving = True,proportion = proportion)\n",
    "        info_valide.append(msg[1:])\n",
    "        with open('./logs/'+data_name+\"/\"+train_name+\"/valide_log.txt\", \"w\") as txtfile:\n",
    "            print(\"{}\".format(msg), file=txtfile)"
   ]
  },
  {
   "cell_type": "markdown",
   "metadata": {},
   "source": [
    "## Test"
   ]
  },
  {
   "cell_type": "code",
   "execution_count": 17,
   "metadata": {},
   "outputs": [
    {
     "name": "stdout",
     "output_type": "stream",
     "text": [
      "tensor([1., 1., 1.,  ..., 1., 1., 1.], device='cuda:0',\n",
      "       grad_fn=<SqueezeBackward1>)\n",
      "tensor([1.0000, 1.0000, 1.0000, 1.0000, 1.0000, 1.0000, 1.0000, 1.0000, 1.0000,\n",
      "        1.0000, 1.0000, 1.0000, 1.0000, 1.0000, 1.0000, 1.0000, 1.0000, 1.0000,\n",
      "        1.0000, 1.0000, 1.0000, 1.0000, 1.0000, 1.0000, 1.0000, 1.0000, 1.0000,\n",
      "        1.0000, 1.0000, 1.0000, 1.0000, 1.0000, 1.0000, 1.0000, 1.0000, 1.0000,\n",
      "        1.0000, 1.0000, 1.0000, 1.0000, 1.0000, 1.0000, 1.0000, 1.0000, 1.0000,\n",
      "        1.0000, 1.0000, 1.0000, 1.0000, 1.0000, 1.0000, 1.0000, 1.0000, 1.0000,\n",
      "        1.0000, 1.0000, 1.0000, 1.0000, 1.0000, 1.0000, 1.0000, 1.0000, 1.0000,\n",
      "        1.0000, 1.0000, 1.0000, 1.0000, 1.0000, 1.0000, 1.0000, 1.0000, 1.0000,\n",
      "        1.0000, 1.0000, 1.0000, 1.0000, 1.0000, 1.0000, 1.0000, 1.0000, 1.0000,\n",
      "        1.0000, 1.0000, 1.0000, 1.0000, 1.0000, 1.0000, 1.0000, 1.0000, 1.0000,\n",
      "        1.0000, 1.0000, 1.0000, 1.0000, 1.0000, 1.0000, 1.0000, 1.0000, 1.0000,\n",
      "        1.0000, 1.0000, 1.0000, 1.0000, 1.0000, 1.0000, 1.0000, 1.0000, 1.0000,\n",
      "        1.0000, 1.0000, 1.0000, 1.0000, 1.0000, 1.0000, 1.0000, 1.0000, 1.0000,\n",
      "        1.0000, 1.0000, 1.0000, 1.0000, 1.0000, 1.0000, 1.0000, 1.0000, 1.0000,\n",
      "        1.0000, 1.0000, 1.0000, 1.0000, 1.0000, 1.0000, 1.0000, 1.0000, 1.0000,\n",
      "        1.0000, 1.0000, 1.0000, 1.0000, 1.0000, 1.0000, 1.0000, 1.0000, 1.0000,\n",
      "        1.0000, 1.0000, 1.0000, 1.0000, 1.0000, 1.0000, 1.0000, 1.0000, 1.0000,\n",
      "        1.0000, 1.0000, 1.0000, 1.0000, 1.0000, 1.0000, 1.0000, 1.0000, 1.0000,\n",
      "        1.0000, 1.0000, 1.0000, 1.0000, 1.0000, 1.0000, 1.0000, 1.0000, 1.0000,\n",
      "        1.0000, 1.0000, 1.0000, 1.0000, 1.0000, 1.0000, 1.0000, 1.0000, 1.0000,\n",
      "        1.0000, 1.0000, 1.0000, 1.0000, 1.0000, 1.0000, 1.0000, 1.0000, 1.0000,\n",
      "        1.0000, 1.0000, 1.0000, 1.0000, 1.0000, 1.0000, 1.0000, 1.0000, 1.0000,\n",
      "        1.0000, 1.0000, 1.0000, 1.0000, 1.0000, 1.0000, 1.0000, 1.0000, 1.0000,\n",
      "        1.0000, 1.0000, 1.0000, 1.0000, 1.0000, 1.0000, 1.0000, 1.0000, 1.0000,\n",
      "        1.0000, 1.0000, 1.0000, 1.0000, 1.0000, 1.0000, 1.0000, 1.0000, 1.0000,\n",
      "        1.0000, 1.0000, 1.0000, 1.0000, 1.0000, 1.0000, 1.0000, 1.0000, 1.0000,\n",
      "        1.0000, 1.0000, 1.0000, 1.0000, 1.0000, 1.0000, 1.0000, 1.0000, 1.0000,\n",
      "        1.0000, 1.0000, 1.0000, 1.0000, 1.0000, 1.0000, 1.0000, 1.0000, 1.0000,\n",
      "        1.0000, 1.0000, 1.0000, 1.0000, 1.0000, 1.0000, 1.0000, 1.0000, 1.0000,\n",
      "        1.0000, 1.0000, 1.0000, 1.0000, 1.0000, 1.0000, 1.0000, 1.0000, 1.0000,\n",
      "        1.0000, 1.0000, 1.0000, 1.0000, 1.0000, 1.0000, 1.0000, 1.0000, 1.0000,\n",
      "        1.0000, 1.0000, 1.0000, 1.0000, 1.0000, 1.0000, 1.0000, 1.0000, 1.0000,\n",
      "        1.0000, 1.0000, 1.0000, 1.0000, 1.0000, 1.0000, 1.0000, 1.0000, 1.0000,\n",
      "        1.0000, 1.0000, 1.0000, 1.0000, 1.0000, 1.0000, 1.0000, 1.0000, 1.0000,\n",
      "        1.0000, 1.0000, 1.0000, 1.0000, 1.0000, 1.0000, 1.0000, 1.0000, 1.0000,\n",
      "        1.0000, 1.0000, 1.0000, 1.0000, 1.0000, 1.0000, 1.0000, 1.0000, 1.0000,\n",
      "        1.0000, 1.0000, 1.0000, 1.0000, 1.0000, 1.0000, 1.0000, 1.0000, 1.0000,\n",
      "        1.0000, 1.0000, 1.0000, 1.0000, 1.0000, 1.0000, 1.0000, 1.0000, 1.0000,\n",
      "        1.0000, 1.0000, 1.0000, 1.0000, 1.0000, 1.0000, 1.0000, 1.0000, 1.0000,\n",
      "        1.0000, 1.0000, 1.0000, 1.0000, 1.0000, 1.0000, 1.0000, 1.0000, 1.0000,\n",
      "        1.0000, 1.0000, 1.0000, 1.0000, 1.0000, 1.0000, 1.0000, 1.0000, 1.0000,\n",
      "        1.0000, 1.0000, 1.0000, 1.0000, 1.0000, 1.0000, 1.0000, 1.0000, 1.0000,\n",
      "        1.0000, 1.0000, 1.0000, 1.0000, 1.0000, 1.0000, 1.0000, 1.0000, 1.0000,\n",
      "        1.0000, 1.0000, 1.0000, 1.0000, 1.0000, 1.0000, 1.0000, 1.0000, 1.0000,\n",
      "        1.0000, 1.0000, 1.0000, 1.0000, 1.0000, 1.0000, 1.0000, 1.0000, 1.0000,\n",
      "        1.0000, 1.0000, 1.0000, 1.0000, 1.0000, 1.0000, 1.0000, 1.0000, 1.0000,\n",
      "        1.0000, 1.0000, 1.0000, 1.0000, 1.0000, 1.0000, 1.0000, 1.0000, 1.0000,\n",
      "        1.0000, 1.0000, 1.0000, 1.0000, 1.0000, 1.0000, 1.0000, 1.0000, 1.0000,\n",
      "        1.0000, 1.0000, 1.0000, 1.0000, 1.0000, 1.0000, 1.0000, 1.0000, 1.0000,\n",
      "        1.0000, 1.0000, 1.0000, 1.0000, 1.0000, 1.0000, 1.0000, 1.0000, 1.0000,\n",
      "        1.0000, 1.0000, 1.0000, 1.0000, 1.0000, 1.0000, 1.0000, 1.0000, 1.0000,\n",
      "        1.0000, 1.0000, 1.0000, 1.0000, 1.0000, 1.0000, 1.0000, 1.0000, 1.0000,\n",
      "        1.0000, 1.0000, 1.0000, 1.0000, 1.0000, 1.0000, 1.0000, 1.0000, 1.0000,\n",
      "        1.0000, 1.0000, 1.0000, 1.0000, 1.0000, 1.0000, 1.0000, 1.0000, 1.0000,\n",
      "        1.0000, 1.0000, 1.0000, 1.0000, 1.0000, 1.0000, 1.0000, 1.0000, 1.0000,\n",
      "        1.0000, 1.0000, 1.0000, 1.0000, 1.0000, 1.0000, 1.0000, 1.0000, 1.0000,\n",
      "        1.0000, 1.0000, 1.0000, 1.0000, 1.0000, 1.0000, 1.0000, 1.0000, 1.0000,\n",
      "        1.0000, 1.0000, 1.0000, 1.0000, 1.0000, 1.0000, 1.0000, 1.0000, 1.0000,\n",
      "        1.0000, 1.0000, 1.0000, 1.0000, 1.0000, 1.0000, 1.0000, 1.0000, 1.0000,\n",
      "        1.0000, 1.0000, 1.0000, 1.0000, 1.0000, 1.0000, 1.0000, 1.0000, 1.0000,\n",
      "        1.0000, 1.0000, 1.0000, 1.0000, 1.0000, 1.0000, 1.0000, 1.0000, 1.0000,\n",
      "        1.0000, 1.0000, 1.0000, 1.0000, 1.0000, 1.0000, 1.0000, 1.0000, 1.0000,\n",
      "        1.0000, 1.0000, 1.0000, 1.0000, 1.0000, 1.0000, 1.0000, 1.0000, 1.0000,\n",
      "        1.0000, 1.0000, 1.0000, 1.0000, 1.0000, 1.0000, 1.0000, 1.0000, 1.0000,\n",
      "        1.0000, 1.0000, 1.0000, 1.0000, 1.0000, 1.0000, 1.0000, 1.0000, 1.0000,\n",
      "        1.0000, 1.0000, 1.0000, 1.0000, 1.0000, 1.0000, 1.0000, 1.0000, 1.0000,\n",
      "        1.0000, 1.0000, 1.0000, 1.0000, 1.0000, 1.0000, 1.0000, 1.0000, 1.0000,\n",
      "        1.0000, 1.0000, 1.0000, 1.0000, 1.0000, 1.0000, 1.0000, 1.0000, 1.0000,\n",
      "        1.0000, 1.0000, 1.0000, 1.0000, 1.0000, 1.0000, 1.0000, 1.0000, 1.0000,\n",
      "        1.0000, 1.0000, 1.0000, 1.0000, 1.0000, 1.0000, 1.0000, 1.0000, 1.0000,\n",
      "        1.0000, 1.0000, 1.0000, 1.0000, 1.0000, 1.0000, 1.0000, 1.0000, 1.0000,\n",
      "        1.0000, 1.0000, 1.0000, 1.0000, 1.0000, 1.0000, 1.0000, 1.0000, 1.0000,\n",
      "        1.0000, 1.0000, 1.0000, 1.0000, 1.0000, 1.0000, 1.0000, 1.0000, 1.0000,\n",
      "        1.0000, 1.0000, 1.0000, 1.0000, 1.0000, 1.0000, 1.0000, 1.0000, 1.0000,\n",
      "        1.0000, 1.0000, 1.0000, 1.0000, 1.0000, 1.0000, 1.0000, 1.0000, 1.0000,\n",
      "        1.0000, 1.0000, 1.0000, 1.0000, 1.0000, 1.0000, 1.0000, 1.0000, 1.0000,\n",
      "        1.0000, 1.0000, 1.0000, 1.0000, 1.0000, 1.0000, 1.0000, 1.0000, 1.0000,\n",
      "        1.0000, 1.0000, 1.0000, 1.0000, 1.0000, 1.0000, 1.0000, 1.0000, 1.0000,\n",
      "        1.0000, 1.0000, 1.0000, 1.0000, 1.0000, 1.0000, 1.0000, 1.0000, 1.0000,\n",
      "        1.0000, 1.0000, 1.0000, 1.0000, 1.0000, 1.0000, 1.0000, 1.0000, 1.0000,\n",
      "        1.0000, 1.0000, 1.0000, 1.0000, 1.0000, 1.0000, 1.0000, 1.0000, 1.0000,\n",
      "        1.0000, 1.0000, 1.0000, 1.0000, 1.0000, 1.0000, 1.0000, 1.0000, 1.0000,\n",
      "        1.0000, 1.0000, 1.0000, 1.0000, 1.0000, 1.0000, 1.0000, 1.0000, 1.0000,\n",
      "        1.0000, 1.0000, 1.0000, 1.0000, 1.0000, 1.0000, 1.0000, 1.0000, 1.0000,\n",
      "        1.0000, 1.0000, 1.0000, 1.0000, 1.0000, 1.0000, 1.0000, 1.0000, 1.0000,\n",
      "        1.0000, 1.0000, 1.0000, 1.0000, 1.0000, 1.0000, 1.0000, 1.0000, 1.0000,\n",
      "        1.0000, 1.0000, 1.0000, 1.0000, 1.0000, 1.0000, 1.0000, 1.0000, 1.0000,\n",
      "        1.0000, 1.0000, 1.0000, 1.0000, 1.0000, 1.0000, 1.0000, 1.0000, 1.0000,\n",
      "        1.0000, 1.0000, 1.0000, 1.0000, 1.0000, 1.0000, 1.0000, 1.0000, 1.0000,\n",
      "        1.0000, 1.0000, 1.0000, 1.0000, 1.0000, 1.0000, 1.0000, 1.0000, 1.0000,\n",
      "        1.0000, 1.0000, 1.0000, 1.0000, 1.0000, 1.0000, 1.0000, 1.0000, 1.0000,\n",
      "        1.0000, 1.0000, 1.0000, 1.0000, 1.0000, 1.0000, 1.0000, 1.0000, 1.0000,\n",
      "        1.0000, 1.0000, 1.0000, 1.0000, 1.0000, 1.0000, 1.0000, 1.0000, 1.0000,\n",
      "        1.0000, 1.0000, 1.0000, 1.0000, 1.0000, 1.0000, 1.0000, 1.0000, 1.0000,\n",
      "        1.0000, 1.0000, 1.0000, 1.0000, 1.0000, 1.0000, 1.0000, 1.0000, 1.0000,\n",
      "        1.0000, 1.0000, 1.0000, 1.0000, 1.0000, 1.0000, 1.0000, 1.0000, 1.0000,\n",
      "        1.0000, 1.0000, 1.0000, 1.0000, 1.0000, 1.0000, 1.0000, 1.0000, 1.0000,\n",
      "        1.0000, 1.0000, 1.0000, 1.0000, 1.0000, 1.0000, 1.0000, 1.0000, 1.0000,\n",
      "        1.0000, 1.0000, 1.0000, 1.0000, 1.0000, 1.0000, 1.0000, 1.0000, 1.0000,\n",
      "        1.0000, 1.0000, 1.0000, 1.0000, 1.0000, 1.0000, 1.0000, 1.0000, 1.0000,\n",
      "        1.0000, 1.0000, 1.0000, 1.0000, 1.0000, 1.0000, 1.0000, 1.0000, 1.0000,\n",
      "        1.0000, 1.0000, 1.0000, 1.0000, 1.0000, 1.0000, 1.0000, 1.0000, 1.0000,\n",
      "        1.0000, 1.0000, 1.0000, 1.0000, 1.0000, 1.0000, 1.0000, 1.0000, 1.0000,\n",
      "        1.0000, 1.0000, 1.0000], device='cuda:0', grad_fn=<SqueezeBackward1>)\n",
      "tensor([1., 1., 1.,  ..., 1., 1., 1.], device='cuda:0',\n",
      "       grad_fn=<SqueezeBackward1>)\n",
      "tensor([1., 1., 1.,  ..., 1., 1., 1.], device='cuda:0',\n",
      "       grad_fn=<SqueezeBackward1>)\n"
     ]
    },
    {
     "name": "stdout",
     "output_type": "stream",
     "text": [
      "tensor([1.0000, 1.0000, 1.0000, 1.0000, 1.0000, 1.0000, 1.0000, 1.0000, 1.0000,\n",
      "        1.0000, 1.0000, 1.0000, 1.0000, 1.0000, 1.0000, 1.0000, 1.0000, 1.0000,\n",
      "        1.0000, 1.0000, 1.0000, 1.0000, 1.0000, 1.0000, 1.0000, 1.0000, 1.0000,\n",
      "        1.0000, 1.0000, 1.0000, 1.0000, 1.0000, 1.0000, 1.0000, 1.0000, 1.0000,\n",
      "        1.0000, 1.0000, 1.0000, 1.0000, 1.0000, 1.0000, 1.0000, 1.0000, 1.0000,\n",
      "        1.0000, 1.0000, 1.0000, 1.0000, 1.0000, 1.0000, 1.0000, 1.0000, 1.0000,\n",
      "        1.0000, 1.0000, 1.0000, 1.0000, 1.0000, 1.0000, 1.0000, 1.0000, 1.0000,\n",
      "        1.0000, 1.0000, 1.0000, 1.0000, 1.0000, 1.0000, 1.0000, 1.0000, 1.0000,\n",
      "        1.0000, 1.0000, 1.0000, 1.0000, 1.0000, 1.0000, 1.0000, 1.0000, 1.0000,\n",
      "        1.0000, 1.0000, 1.0000, 1.0000, 1.0000, 1.0000, 1.0000, 1.0000, 1.0000,\n",
      "        1.0000, 1.0000, 1.0000, 1.0000, 1.0000, 1.0000, 1.0000, 1.0000, 1.0000,\n",
      "        1.0000, 1.0000, 1.0000, 1.0000, 1.0000, 1.0000, 1.0000, 1.0000, 1.0000,\n",
      "        1.0000, 1.0000, 1.0000, 1.0000, 1.0000, 1.0000, 1.0000, 1.0000, 1.0000,\n",
      "        1.0000, 1.0000, 1.0000, 1.0000, 1.0000, 1.0000, 1.0000, 1.0000, 1.0000,\n",
      "        1.0000, 1.0000, 1.0000, 1.0000, 1.0000, 1.0000, 1.0000, 1.0000, 1.0000,\n",
      "        1.0000, 1.0000, 1.0000, 1.0000, 1.0000, 1.0000, 1.0000, 1.0000, 1.0000,\n",
      "        1.0000, 1.0000, 1.0000, 1.0000, 1.0000, 1.0000, 1.0000, 1.0000, 1.0000,\n",
      "        1.0000, 1.0000, 1.0000, 1.0000, 1.0000, 1.0000, 1.0000, 1.0000, 1.0000,\n",
      "        1.0000, 1.0000, 1.0000, 1.0000, 1.0000, 1.0000, 1.0000, 1.0000, 1.0000,\n",
      "        1.0000, 1.0000, 1.0000, 1.0000, 1.0000, 1.0000, 1.0000, 1.0000, 1.0000,\n",
      "        1.0000, 1.0000, 1.0000, 1.0000, 1.0000, 1.0000, 1.0000, 1.0000, 1.0000,\n",
      "        1.0000, 1.0000, 1.0000, 1.0000, 1.0000, 1.0000, 1.0000, 1.0000, 1.0000,\n",
      "        1.0000, 1.0000, 1.0000, 1.0000, 1.0000, 1.0000, 1.0000, 1.0000, 1.0000,\n",
      "        1.0000, 1.0000, 1.0000, 1.0000, 1.0000, 1.0000, 1.0000, 1.0000, 1.0000,\n",
      "        1.0000, 1.0000, 1.0000, 1.0000, 1.0000, 1.0000, 1.0000, 1.0000, 1.0000,\n",
      "        1.0000, 1.0000, 1.0000, 1.0000, 1.0000, 1.0000, 1.0000, 1.0000, 1.0000,\n",
      "        1.0000, 1.0000, 1.0000, 1.0000, 1.0000, 1.0000, 1.0000, 1.0000, 1.0000,\n",
      "        1.0000, 1.0000, 1.0000, 1.0000, 1.0000, 1.0000, 1.0000, 1.0000, 1.0000,\n",
      "        1.0000, 1.0000, 1.0000, 1.0000, 1.0000, 1.0000, 1.0000, 1.0000, 1.0000,\n",
      "        1.0000, 1.0000, 1.0000, 1.0000, 1.0000, 1.0000, 1.0000, 1.0000, 1.0000,\n",
      "        1.0000, 1.0000, 1.0000, 1.0000, 1.0000, 1.0000, 1.0000, 1.0000, 1.0000,\n",
      "        1.0000, 1.0000, 1.0000, 1.0000, 1.0000, 1.0000, 1.0000, 1.0000, 1.0000,\n",
      "        1.0000, 1.0000, 1.0000, 1.0000, 1.0000, 1.0000, 1.0000, 1.0000, 1.0000,\n",
      "        1.0000, 1.0000, 1.0000, 1.0000, 1.0000, 1.0000, 1.0000, 1.0000, 1.0000,\n",
      "        1.0000, 1.0000, 1.0000, 1.0000, 1.0000, 1.0000, 1.0000, 1.0000, 1.0000,\n",
      "        1.0000, 1.0000, 1.0000, 1.0000, 1.0000, 1.0000, 1.0000, 1.0000, 1.0000,\n",
      "        1.0000, 1.0000, 1.0000, 1.0000, 1.0000, 1.0000, 1.0000, 1.0000, 1.0000,\n",
      "        1.0000, 1.0000, 1.0000, 1.0000, 1.0000, 1.0000, 1.0000, 1.0000, 1.0000,\n",
      "        1.0000, 1.0000, 1.0000, 1.0000, 1.0000, 1.0000, 1.0000, 1.0000, 1.0000,\n",
      "        1.0000, 1.0000, 1.0000, 1.0000, 1.0000, 1.0000, 1.0000, 1.0000, 1.0000,\n",
      "        1.0000, 1.0000, 1.0000, 1.0000, 1.0000, 1.0000, 1.0000, 1.0000, 1.0000,\n",
      "        1.0000, 1.0000, 1.0000, 1.0000, 1.0000, 1.0000, 1.0000, 1.0000, 1.0000,\n",
      "        1.0000, 1.0000, 1.0000, 1.0000, 1.0000, 1.0000, 1.0000, 1.0000, 1.0000,\n",
      "        1.0000, 1.0000, 1.0000, 1.0000, 1.0000, 1.0000, 1.0000, 1.0000, 1.0000,\n",
      "        1.0000, 1.0000, 1.0000, 1.0000, 1.0000, 1.0000, 1.0000, 1.0000, 1.0000,\n",
      "        1.0000, 1.0000, 1.0000, 1.0000, 1.0000, 1.0000, 1.0000, 1.0000, 1.0000,\n",
      "        1.0000, 1.0000, 1.0000, 1.0000, 1.0000, 1.0000, 1.0000, 1.0000, 1.0000,\n",
      "        1.0000, 1.0000, 1.0000, 1.0000, 1.0000, 1.0000, 1.0000, 1.0000, 1.0000,\n",
      "        1.0000, 1.0000, 1.0000, 1.0000, 1.0000, 1.0000, 1.0000, 1.0000, 1.0000,\n",
      "        1.0000, 1.0000, 1.0000, 1.0000, 1.0000, 1.0000, 1.0000, 1.0000, 1.0000,\n",
      "        1.0000, 1.0000, 1.0000, 1.0000, 1.0000, 1.0000, 1.0000, 1.0000, 1.0000,\n",
      "        1.0000, 1.0000, 1.0000, 1.0000, 1.0000, 1.0000, 1.0000, 1.0000, 1.0000,\n",
      "        1.0000, 1.0000, 1.0000, 1.0000, 1.0000, 1.0000, 1.0000, 1.0000, 1.0000,\n",
      "        1.0000, 1.0000, 1.0000, 1.0000, 1.0000, 1.0000, 1.0000, 1.0000, 1.0000,\n",
      "        1.0000, 1.0000, 1.0000, 1.0000, 1.0000, 1.0000, 1.0000, 1.0000, 1.0000,\n",
      "        1.0000, 1.0000, 1.0000, 1.0000, 1.0000, 1.0000, 1.0000, 1.0000, 1.0000,\n",
      "        1.0000, 1.0000, 1.0000, 1.0000, 1.0000, 1.0000, 1.0000, 1.0000, 1.0000,\n",
      "        1.0000, 1.0000, 1.0000, 1.0000, 1.0000, 1.0000, 1.0000, 1.0000, 1.0000,\n",
      "        1.0000, 1.0000, 1.0000, 1.0000, 1.0000, 1.0000, 1.0000, 1.0000, 1.0000,\n",
      "        1.0000, 1.0000, 1.0000, 1.0000, 1.0000, 1.0000, 1.0000, 1.0000, 1.0000,\n",
      "        1.0000, 1.0000, 1.0000, 1.0000, 1.0000, 1.0000, 1.0000, 1.0000, 1.0000,\n",
      "        1.0000, 1.0000, 1.0000, 1.0000, 1.0000, 1.0000, 1.0000, 1.0000, 1.0000,\n",
      "        1.0000, 1.0000, 1.0000, 1.0000, 1.0000, 1.0000, 1.0000, 1.0000, 1.0000,\n",
      "        1.0000, 1.0000, 1.0000, 1.0000, 1.0000, 1.0000, 1.0000, 1.0000, 1.0000,\n",
      "        1.0000, 1.0000, 1.0000, 1.0000, 1.0000, 1.0000, 1.0000, 1.0000, 1.0000,\n",
      "        1.0000, 1.0000, 1.0000, 1.0000, 1.0000, 1.0000, 1.0000, 1.0000, 1.0000,\n",
      "        1.0000, 1.0000, 1.0000, 1.0000, 1.0000, 1.0000, 1.0000, 1.0000, 1.0000,\n",
      "        1.0000, 1.0000, 1.0000, 1.0000, 1.0000, 1.0000, 1.0000, 1.0000, 1.0000,\n",
      "        1.0000, 1.0000, 1.0000, 1.0000, 1.0000, 1.0000, 1.0000, 1.0000, 1.0000,\n",
      "        1.0000, 1.0000, 1.0000, 1.0000, 1.0000, 1.0000, 1.0000, 1.0000, 1.0000,\n",
      "        1.0000, 1.0000, 1.0000, 1.0000, 1.0000, 1.0000, 1.0000, 1.0000, 1.0000,\n",
      "        1.0000, 1.0000, 1.0000, 1.0000, 1.0000, 1.0000, 1.0000, 1.0000, 1.0000,\n",
      "        1.0000, 1.0000, 1.0000, 1.0000, 1.0000, 1.0000, 1.0000, 1.0000, 1.0000,\n",
      "        1.0000, 1.0000, 1.0000, 1.0000, 1.0000, 1.0000, 1.0000, 1.0000, 1.0000,\n",
      "        1.0000, 1.0000, 1.0000, 1.0000, 1.0000, 1.0000, 1.0000, 1.0000, 1.0000,\n",
      "        1.0000, 1.0000, 1.0000, 1.0000, 1.0000, 1.0000, 1.0000, 1.0000, 1.0000,\n",
      "        1.0000, 1.0000, 1.0000, 1.0000, 1.0000, 1.0000, 1.0000, 1.0000, 1.0000,\n",
      "        1.0000, 1.0000, 1.0000, 1.0000, 1.0000, 1.0000, 1.0000, 1.0000, 1.0000,\n",
      "        1.0000, 1.0000, 1.0000, 1.0000, 1.0000, 1.0000, 1.0000, 1.0000, 1.0000,\n",
      "        1.0000, 1.0000, 1.0000, 1.0000, 1.0000, 1.0000, 1.0000, 1.0000, 1.0000,\n",
      "        1.0000, 1.0000, 1.0000, 1.0000, 1.0000, 1.0000, 1.0000, 1.0000, 1.0000,\n",
      "        1.0000, 1.0000, 1.0000, 1.0000, 1.0000, 1.0000, 1.0000, 1.0000, 1.0000,\n",
      "        1.0000, 1.0000, 1.0000, 1.0000, 1.0000, 1.0000, 1.0000, 1.0000, 1.0000,\n",
      "        1.0000, 1.0000, 1.0000, 1.0000, 1.0000, 1.0000, 1.0000, 1.0000, 1.0000,\n",
      "        1.0000, 1.0000, 1.0000, 1.0000, 1.0000, 1.0000, 1.0000, 1.0000, 1.0000,\n",
      "        1.0000, 1.0000, 1.0000, 1.0000, 1.0000, 1.0000, 1.0000, 1.0000, 1.0000,\n",
      "        1.0000, 1.0000, 1.0000, 1.0000, 1.0000, 1.0000, 1.0000, 1.0000, 1.0000,\n",
      "        1.0000, 1.0000, 1.0000, 1.0000, 1.0000, 1.0000, 1.0000, 1.0000, 1.0000,\n",
      "        1.0000, 1.0000, 1.0000, 1.0000, 1.0000, 1.0000, 1.0000, 1.0000, 1.0000,\n",
      "        1.0000, 1.0000, 1.0000, 1.0000, 1.0000, 1.0000, 1.0000, 1.0000, 1.0000,\n",
      "        1.0000, 1.0000, 1.0000, 1.0000, 1.0000, 1.0000, 1.0000, 1.0000, 1.0000,\n",
      "        1.0000, 1.0000, 1.0000, 1.0000, 1.0000, 1.0000, 1.0000, 1.0000, 1.0000,\n",
      "        1.0000, 1.0000, 1.0000, 1.0000, 1.0000, 1.0000, 1.0000, 1.0000, 1.0000,\n",
      "        1.0000, 1.0000, 1.0000, 1.0000, 1.0000, 1.0000, 1.0000, 1.0000, 1.0000,\n",
      "        1.0000, 1.0000, 1.0000, 1.0000, 1.0000, 1.0000, 1.0000, 1.0000, 1.0000,\n",
      "        1.0000, 1.0000, 1.0000, 1.0000, 1.0000, 1.0000, 1.0000, 1.0000, 1.0000,\n",
      "        1.0000, 1.0000, 1.0000, 1.0000, 1.0000, 1.0000, 1.0000, 1.0000, 1.0000,\n",
      "        1.0000, 1.0000, 1.0000, 1.0000, 1.0000, 1.0000, 1.0000, 1.0000, 1.0000,\n",
      "        1.0000, 1.0000, 1.0000, 1.0000, 1.0000, 1.0000, 1.0000, 1.0000, 1.0000,\n",
      "        1.0000, 1.0000, 1.0000, 1.0000, 1.0000, 1.0000, 1.0000, 1.0000, 1.0000,\n",
      "        1.0000, 1.0000, 1.0000, 1.0000, 1.0000, 1.0000, 1.0000, 1.0000, 1.0000,\n",
      "        1.0000, 1.0000, 1.0000, 1.0000, 1.0000, 1.0000, 1.0000, 1.0000, 1.0000,\n",
      "        1.0000, 1.0000, 1.0000, 1.0000, 1.0000, 1.0000, 1.0000, 1.0000, 1.0000,\n",
      "        1.0000, 1.0000, 1.0000], device='cuda:0', grad_fn=<SqueezeBackward1>)\n",
      "tensor([1., 1., 1.,  ..., 1., 1., 1.], device='cuda:0',\n",
      "       grad_fn=<SqueezeBackward1>)\n",
      "tensor([1., 1., 1.,  ..., 1., 1., 1.], device='cuda:0',\n",
      "       grad_fn=<SqueezeBackward1>)\n"
     ]
    },
    {
     "name": "stdout",
     "output_type": "stream",
     "text": [
      "tensor([1.0000, 1.0000, 1.0000, 1.0000, 1.0000, 1.0000, 1.0000, 1.0000, 1.0000,\n",
      "        1.0000, 1.0000, 1.0000, 1.0000, 1.0000, 1.0000, 1.0000, 1.0000, 1.0000,\n",
      "        1.0000, 1.0000, 1.0000, 1.0000, 1.0000, 1.0000, 1.0000, 1.0000, 1.0000,\n",
      "        1.0000, 1.0000, 1.0000, 1.0000, 1.0000, 1.0000, 1.0000, 1.0000, 1.0000,\n",
      "        1.0000, 1.0000, 1.0000, 1.0000, 1.0000, 1.0000, 1.0000, 1.0000, 1.0000,\n",
      "        1.0000, 1.0000, 1.0000, 1.0000, 1.0000, 1.0000, 1.0000, 1.0000, 1.0000,\n",
      "        1.0000, 1.0000, 1.0000, 1.0000, 1.0000, 1.0000, 1.0000, 1.0000, 1.0000,\n",
      "        1.0000, 1.0000, 1.0000, 1.0000, 1.0000, 1.0000, 1.0000, 1.0000, 1.0000,\n",
      "        1.0000, 1.0000, 1.0000, 1.0000, 1.0000, 1.0000, 1.0000, 1.0000, 1.0000,\n",
      "        1.0000, 1.0000, 1.0000, 1.0000, 1.0000, 1.0000, 1.0000, 1.0000, 1.0000,\n",
      "        1.0000, 1.0000, 1.0000, 1.0000, 1.0000, 1.0000, 1.0000, 1.0000, 1.0000,\n",
      "        1.0000, 1.0000, 1.0000, 1.0000, 1.0000, 1.0000, 1.0000, 1.0000, 1.0000,\n",
      "        1.0000, 1.0000, 1.0000, 1.0000, 1.0000, 1.0000, 1.0000, 1.0000, 1.0000,\n",
      "        1.0000, 1.0000, 1.0000, 1.0000, 1.0000, 1.0000, 1.0000, 1.0000, 1.0000,\n",
      "        1.0000, 1.0000, 1.0000, 1.0000, 1.0000, 1.0000, 1.0000, 1.0000, 1.0000,\n",
      "        1.0000, 1.0000, 1.0000, 1.0000, 1.0000, 1.0000, 1.0000, 1.0000, 1.0000,\n",
      "        1.0000, 1.0000, 1.0000, 1.0000, 1.0000, 1.0000, 1.0000, 1.0000, 1.0000,\n",
      "        1.0000, 1.0000, 1.0000, 1.0000, 1.0000, 1.0000, 1.0000, 1.0000, 1.0000,\n",
      "        1.0000, 1.0000, 1.0000, 1.0000, 1.0000, 1.0000, 1.0000, 1.0000, 1.0000,\n",
      "        1.0000, 1.0000, 1.0000, 1.0000, 1.0000, 1.0000, 1.0000, 1.0000, 1.0000,\n",
      "        1.0000, 1.0000, 1.0000, 1.0000, 1.0000, 1.0000, 1.0000, 1.0000, 1.0000,\n",
      "        1.0000, 1.0000, 1.0000, 1.0000, 1.0000, 1.0000, 1.0000, 1.0000, 1.0000,\n",
      "        1.0000, 1.0000, 1.0000, 1.0000, 1.0000, 1.0000, 1.0000, 1.0000, 1.0000,\n",
      "        1.0000, 1.0000, 1.0000, 1.0000, 1.0000, 1.0000, 1.0000, 1.0000, 1.0000,\n",
      "        1.0000, 1.0000, 1.0000, 1.0000, 1.0000, 1.0000, 1.0000, 1.0000, 1.0000,\n",
      "        1.0000, 1.0000, 1.0000, 1.0000, 1.0000, 1.0000, 1.0000, 1.0000, 1.0000,\n",
      "        1.0000, 1.0000, 1.0000, 1.0000, 1.0000, 1.0000, 1.0000, 1.0000, 1.0000,\n",
      "        1.0000, 1.0000, 1.0000, 1.0000, 1.0000, 1.0000, 1.0000, 1.0000, 1.0000,\n",
      "        1.0000, 1.0000, 1.0000, 1.0000, 1.0000, 1.0000, 1.0000, 1.0000, 1.0000,\n",
      "        1.0000, 1.0000, 1.0000, 1.0000, 1.0000, 1.0000, 1.0000, 1.0000, 1.0000,\n",
      "        1.0000, 1.0000, 1.0000, 1.0000, 1.0000, 1.0000, 1.0000, 1.0000, 1.0000,\n",
      "        1.0000, 1.0000, 1.0000, 1.0000, 1.0000, 1.0000, 1.0000, 1.0000, 1.0000,\n",
      "        1.0000, 1.0000, 1.0000, 1.0000, 1.0000, 1.0000, 1.0000, 1.0000, 1.0000,\n",
      "        1.0000, 1.0000, 1.0000, 1.0000, 1.0000, 1.0000, 1.0000, 1.0000, 1.0000,\n",
      "        1.0000, 1.0000, 1.0000, 1.0000, 1.0000, 1.0000, 1.0000, 1.0000, 1.0000,\n",
      "        1.0000, 1.0000, 1.0000, 1.0000, 1.0000, 1.0000, 1.0000, 1.0000, 1.0000,\n",
      "        1.0000, 1.0000, 1.0000, 1.0000, 1.0000, 1.0000, 1.0000, 1.0000, 1.0000,\n",
      "        1.0000, 1.0000, 1.0000, 1.0000, 1.0000, 1.0000, 1.0000, 1.0000, 1.0000,\n",
      "        1.0000, 1.0000, 1.0000, 1.0000, 1.0000, 1.0000, 1.0000, 1.0000, 1.0000,\n",
      "        1.0000, 1.0000, 1.0000, 1.0000, 1.0000, 1.0000, 1.0000, 1.0000, 1.0000,\n",
      "        1.0000, 1.0000, 1.0000, 1.0000, 1.0000, 1.0000, 1.0000, 1.0000, 1.0000,\n",
      "        1.0000, 1.0000, 1.0000, 1.0000, 1.0000, 1.0000, 1.0000, 1.0000, 1.0000,\n",
      "        1.0000, 1.0000, 1.0000, 1.0000, 1.0000, 1.0000, 1.0000, 1.0000, 1.0000,\n",
      "        1.0000, 1.0000, 1.0000, 1.0000, 1.0000, 1.0000, 1.0000, 1.0000, 1.0000,\n",
      "        1.0000, 1.0000, 1.0000, 1.0000, 1.0000, 1.0000, 1.0000, 1.0000, 1.0000,\n",
      "        1.0000, 1.0000, 1.0000, 1.0000, 1.0000, 1.0000, 1.0000, 1.0000, 1.0000,\n",
      "        1.0000, 1.0000, 1.0000, 1.0000, 1.0000, 1.0000, 1.0000, 1.0000, 1.0000,\n",
      "        1.0000, 1.0000, 1.0000, 1.0000, 1.0000, 1.0000, 1.0000, 1.0000, 1.0000,\n",
      "        1.0000, 1.0000, 1.0000, 1.0000, 1.0000, 1.0000, 1.0000, 1.0000, 1.0000,\n",
      "        1.0000, 1.0000, 1.0000, 1.0000, 1.0000, 1.0000, 1.0000, 1.0000, 1.0000,\n",
      "        1.0000, 1.0000, 1.0000, 1.0000, 1.0000, 1.0000, 1.0000, 1.0000, 1.0000,\n",
      "        1.0000, 1.0000, 1.0000, 1.0000, 1.0000, 1.0000, 1.0000, 1.0000, 1.0000,\n",
      "        1.0000, 1.0000, 1.0000, 1.0000, 1.0000, 1.0000, 1.0000, 1.0000, 1.0000,\n",
      "        1.0000, 1.0000, 1.0000, 1.0000, 1.0000, 1.0000, 1.0000, 1.0000, 1.0000,\n",
      "        1.0000, 1.0000, 1.0000, 1.0000, 1.0000, 1.0000, 1.0000, 1.0000, 1.0000,\n",
      "        1.0000, 1.0000, 1.0000, 1.0000, 1.0000, 1.0000, 1.0000, 1.0000, 1.0000,\n",
      "        1.0000, 1.0000, 1.0000, 1.0000, 1.0000, 1.0000, 1.0000, 1.0000, 1.0000,\n",
      "        1.0000, 1.0000, 1.0000, 1.0000, 1.0000, 1.0000, 1.0000, 1.0000, 1.0000,\n",
      "        1.0000, 1.0000, 1.0000, 1.0000, 1.0000, 1.0000, 1.0000, 1.0000, 1.0000,\n",
      "        1.0000, 1.0000, 1.0000, 1.0000, 1.0000, 1.0000, 1.0000, 1.0000, 1.0000,\n",
      "        1.0000, 1.0000, 1.0000, 1.0000, 1.0000, 1.0000, 1.0000, 1.0000, 1.0000,\n",
      "        1.0000, 1.0000, 1.0000, 1.0000, 1.0000, 1.0000, 1.0000, 1.0000, 1.0000,\n",
      "        1.0000, 1.0000, 1.0000, 1.0000, 1.0000, 1.0000, 1.0000, 1.0000, 1.0000,\n",
      "        1.0000, 1.0000, 1.0000, 1.0000, 1.0000, 1.0000, 1.0000, 1.0000, 1.0000,\n",
      "        1.0000, 1.0000, 1.0000, 1.0000, 1.0000, 1.0000, 1.0000, 1.0000, 1.0000,\n",
      "        1.0000, 1.0000, 1.0000, 1.0000, 1.0000, 1.0000, 1.0000, 1.0000, 1.0000,\n",
      "        1.0000, 1.0000, 1.0000, 1.0000, 1.0000, 1.0000, 1.0000, 1.0000, 1.0000,\n",
      "        1.0000, 1.0000, 1.0000, 1.0000, 1.0000, 1.0000, 1.0000, 1.0000, 1.0000,\n",
      "        1.0000, 1.0000, 1.0000, 1.0000, 1.0000, 1.0000, 1.0000, 1.0000, 1.0000,\n",
      "        1.0000, 1.0000, 1.0000, 1.0000, 1.0000, 1.0000, 1.0000, 1.0000, 1.0000,\n",
      "        1.0000, 1.0000, 1.0000, 1.0000, 1.0000, 1.0000, 1.0000, 1.0000, 1.0000,\n",
      "        1.0000, 1.0000, 1.0000, 1.0000, 1.0000, 1.0000, 1.0000, 1.0000, 1.0000,\n",
      "        1.0000, 1.0000, 1.0000, 1.0000, 1.0000, 1.0000, 1.0000, 1.0000, 1.0000,\n",
      "        1.0000, 1.0000, 1.0000, 1.0000, 1.0000, 1.0000, 1.0000, 1.0000, 1.0000,\n",
      "        1.0000, 1.0000, 1.0000, 1.0000, 1.0000, 1.0000, 1.0000, 1.0000, 1.0000,\n",
      "        1.0000, 1.0000, 1.0000, 1.0000, 1.0000, 1.0000, 1.0000, 1.0000, 1.0000,\n",
      "        1.0000, 1.0000, 1.0000, 1.0000, 1.0000, 1.0000, 1.0000, 1.0000, 1.0000,\n",
      "        1.0000, 1.0000, 1.0000, 1.0000, 1.0000, 1.0000, 1.0000, 1.0000, 1.0000,\n",
      "        1.0000, 1.0000, 1.0000, 1.0000, 1.0000, 1.0000, 1.0000, 1.0000, 1.0000,\n",
      "        1.0000, 1.0000, 1.0000, 1.0000, 1.0000, 1.0000, 1.0000, 1.0000, 1.0000,\n",
      "        1.0000, 1.0000, 1.0000, 1.0000, 1.0000, 1.0000, 1.0000, 1.0000, 1.0000,\n",
      "        1.0000, 1.0000, 1.0000, 1.0000, 1.0000, 1.0000, 1.0000, 1.0000, 1.0000,\n",
      "        1.0000, 1.0000, 1.0000, 1.0000, 1.0000, 1.0000, 1.0000, 1.0000, 1.0000,\n",
      "        1.0000, 1.0000, 1.0000, 1.0000, 1.0000, 1.0000, 1.0000, 1.0000, 1.0000,\n",
      "        1.0000, 1.0000, 1.0000, 1.0000, 1.0000, 1.0000, 1.0000, 1.0000, 1.0000,\n",
      "        1.0000, 1.0000, 1.0000, 1.0000, 1.0000, 1.0000, 1.0000, 1.0000, 1.0000,\n",
      "        1.0000, 1.0000, 1.0000, 1.0000, 1.0000, 1.0000, 1.0000, 1.0000, 1.0000,\n",
      "        1.0000, 1.0000, 1.0000, 1.0000, 1.0000, 1.0000, 1.0000, 1.0000, 1.0000,\n",
      "        1.0000, 1.0000, 1.0000, 1.0000, 1.0000, 1.0000, 1.0000, 1.0000, 1.0000,\n",
      "        1.0000, 1.0000, 1.0000, 1.0000, 1.0000, 1.0000, 1.0000, 1.0000, 1.0000,\n",
      "        1.0000, 1.0000, 1.0000, 1.0000, 1.0000, 1.0000, 1.0000, 1.0000, 1.0000,\n",
      "        1.0000, 1.0000, 1.0000, 1.0000, 1.0000, 1.0000, 1.0000, 1.0000, 1.0000,\n",
      "        1.0000, 1.0000, 1.0000, 1.0000, 1.0000, 1.0000, 1.0000, 1.0000, 1.0000,\n",
      "        1.0000, 1.0000, 1.0000, 1.0000, 1.0000, 1.0000, 1.0000, 1.0000, 1.0000,\n",
      "        1.0000, 1.0000, 1.0000, 1.0000, 1.0000, 1.0000, 1.0000, 1.0000, 1.0000,\n",
      "        1.0000, 1.0000, 1.0000, 1.0000, 1.0000, 1.0000, 1.0000, 1.0000, 1.0000,\n",
      "        1.0000, 1.0000, 1.0000, 1.0000, 1.0000, 1.0000, 1.0000, 1.0000, 1.0000,\n",
      "        1.0000, 1.0000, 1.0000, 1.0000, 1.0000, 1.0000, 1.0000, 1.0000, 1.0000,\n",
      "        1.0000, 1.0000, 1.0000, 1.0000, 1.0000, 1.0000, 1.0000, 1.0000, 1.0000,\n",
      "        1.0000, 1.0000, 1.0000, 1.0000, 1.0000, 1.0000, 1.0000, 1.0000, 1.0000,\n",
      "        1.0000, 1.0000, 1.0000, 1.0000, 1.0000, 1.0000, 1.0000, 1.0000, 1.0000,\n",
      "        1.0000, 1.0000, 1.0000, 1.0000, 1.0000, 1.0000, 1.0000, 1.0000, 1.0000,\n",
      "        1.0000, 1.0000, 1.0000, 1.0000, 1.0000, 1.0000, 1.0000, 1.0000, 1.0000,\n",
      "        1.0000, 1.0000, 1.0000], device='cuda:0', grad_fn=<SqueezeBackward1>)\n",
      "tensor([1., 1., 1.,  ..., 1., 1., 1.], device='cuda:0',\n",
      "       grad_fn=<SqueezeBackward1>)\n",
      "tensor([1., 1., 1.,  ..., 1., 1., 1.], device='cuda:0',\n",
      "       grad_fn=<SqueezeBackward1>)\n"
     ]
    },
    {
     "name": "stdout",
     "output_type": "stream",
     "text": [
      "tensor([1.0000, 1.0000, 1.0000, 1.0000, 1.0000, 1.0000, 1.0000, 1.0000, 1.0000,\n",
      "        1.0000, 1.0000, 1.0000, 1.0000, 1.0000, 1.0000, 1.0000, 1.0000, 1.0000,\n",
      "        1.0000, 1.0000, 1.0000, 1.0000, 1.0000, 1.0000, 1.0000, 1.0000, 1.0000,\n",
      "        1.0000, 1.0000, 1.0000, 1.0000, 1.0000, 1.0000, 1.0000, 1.0000, 1.0000,\n",
      "        1.0000, 1.0000, 1.0000, 1.0000, 1.0000, 1.0000, 1.0000, 1.0000, 1.0000,\n",
      "        1.0000, 1.0000, 1.0000, 1.0000, 1.0000, 1.0000, 1.0000, 1.0000, 1.0000,\n",
      "        1.0000, 1.0000, 1.0000, 1.0000, 1.0000, 1.0000, 1.0000, 1.0000, 1.0000,\n",
      "        1.0000, 1.0000, 1.0000, 1.0000, 1.0000, 1.0000, 1.0000, 1.0000, 1.0000,\n",
      "        1.0000, 1.0000, 1.0000, 1.0000, 1.0000, 1.0000, 1.0000, 1.0000, 1.0000,\n",
      "        1.0000, 1.0000, 1.0000, 1.0000, 1.0000, 1.0000, 1.0000, 1.0000, 1.0000,\n",
      "        1.0000, 1.0000, 1.0000, 1.0000, 1.0000, 1.0000, 1.0000, 1.0000, 1.0000,\n",
      "        1.0000, 1.0000, 1.0000, 1.0000, 1.0000, 1.0000, 1.0000, 1.0000, 1.0000,\n",
      "        1.0000, 1.0000, 1.0000, 1.0000, 1.0000, 1.0000, 1.0000, 1.0000, 1.0000,\n",
      "        1.0000, 1.0000, 1.0000, 1.0000, 1.0000, 1.0000, 1.0000, 1.0000, 1.0000,\n",
      "        1.0000, 1.0000, 1.0000, 1.0000, 1.0000, 1.0000, 1.0000, 1.0000, 1.0000,\n",
      "        1.0000, 1.0000, 1.0000, 1.0000, 1.0000, 1.0000, 1.0000, 1.0000, 1.0000,\n",
      "        1.0000, 1.0000, 1.0000, 1.0000, 1.0000, 1.0000, 1.0000, 1.0000, 1.0000,\n",
      "        1.0000, 1.0000, 1.0000, 1.0000, 1.0000, 1.0000, 1.0000, 1.0000, 1.0000,\n",
      "        1.0000, 1.0000, 1.0000, 1.0000, 1.0000, 1.0000, 1.0000, 1.0000, 1.0000,\n",
      "        1.0000, 1.0000, 1.0000, 1.0000, 1.0000, 1.0000, 1.0000, 1.0000, 1.0000,\n",
      "        1.0000, 1.0000, 1.0000, 1.0000, 1.0000, 1.0000, 1.0000, 1.0000, 1.0000,\n",
      "        1.0000, 1.0000, 1.0000, 1.0000, 1.0000, 1.0000, 1.0000, 1.0000, 1.0000,\n",
      "        1.0000, 1.0000, 1.0000, 1.0000, 1.0000, 1.0000, 1.0000, 1.0000, 1.0000,\n",
      "        1.0000, 1.0000, 1.0000, 1.0000, 1.0000, 1.0000, 1.0000, 1.0000, 1.0000,\n",
      "        1.0000, 1.0000, 1.0000, 1.0000, 1.0000, 1.0000, 1.0000, 1.0000, 1.0000,\n",
      "        1.0000, 1.0000, 1.0000, 1.0000, 1.0000, 1.0000, 1.0000, 1.0000, 1.0000,\n",
      "        1.0000, 1.0000, 1.0000, 1.0000, 1.0000, 1.0000, 1.0000, 1.0000, 1.0000,\n",
      "        1.0000, 1.0000, 1.0000, 1.0000, 1.0000, 1.0000, 1.0000, 1.0000, 1.0000,\n",
      "        1.0000, 1.0000, 1.0000, 1.0000, 1.0000, 1.0000, 1.0000, 1.0000, 1.0000,\n",
      "        1.0000, 1.0000, 1.0000, 1.0000, 1.0000, 1.0000, 1.0000, 1.0000, 1.0000,\n",
      "        1.0000, 1.0000, 1.0000, 1.0000, 1.0000, 1.0000, 1.0000, 1.0000, 1.0000,\n",
      "        1.0000, 1.0000, 1.0000, 1.0000, 1.0000, 1.0000, 1.0000, 1.0000, 1.0000,\n",
      "        1.0000, 1.0000, 1.0000, 1.0000, 1.0000, 1.0000, 1.0000, 1.0000, 1.0000,\n",
      "        1.0000, 1.0000, 1.0000, 1.0000, 1.0000, 1.0000, 1.0000, 1.0000, 1.0000,\n",
      "        1.0000, 1.0000, 1.0000, 1.0000, 1.0000, 1.0000, 1.0000, 1.0000, 1.0000,\n",
      "        1.0000, 1.0000, 1.0000, 1.0000, 1.0000, 1.0000, 1.0000, 1.0000, 1.0000,\n",
      "        1.0000, 1.0000, 1.0000, 1.0000, 1.0000, 1.0000, 1.0000, 1.0000, 1.0000,\n",
      "        1.0000, 1.0000, 1.0000, 1.0000, 1.0000, 1.0000, 1.0000, 1.0000, 1.0000,\n",
      "        1.0000, 1.0000, 1.0000, 1.0000, 1.0000, 1.0000, 1.0000, 1.0000, 1.0000,\n",
      "        1.0000, 1.0000, 1.0000, 1.0000, 1.0000, 1.0000, 1.0000, 1.0000, 1.0000,\n",
      "        1.0000, 1.0000, 1.0000, 1.0000, 1.0000, 1.0000, 1.0000, 1.0000, 1.0000,\n",
      "        1.0000, 1.0000, 1.0000, 1.0000, 1.0000, 1.0000, 1.0000, 1.0000, 1.0000,\n",
      "        1.0000, 1.0000, 1.0000, 1.0000, 1.0000, 1.0000, 1.0000, 1.0000, 1.0000,\n",
      "        1.0000, 1.0000, 1.0000, 1.0000, 1.0000, 1.0000, 1.0000, 1.0000, 1.0000,\n",
      "        1.0000, 1.0000, 1.0000, 1.0000, 1.0000, 1.0000, 1.0000, 1.0000, 1.0000,\n",
      "        1.0000, 1.0000, 1.0000, 1.0000, 1.0000, 1.0000, 1.0000, 1.0000, 1.0000,\n",
      "        1.0000, 1.0000, 1.0000, 1.0000, 1.0000, 1.0000, 1.0000, 1.0000, 1.0000,\n",
      "        1.0000, 1.0000, 1.0000, 1.0000, 1.0000, 1.0000, 1.0000, 1.0000, 1.0000,\n",
      "        1.0000, 1.0000, 1.0000, 1.0000, 1.0000, 1.0000, 1.0000, 1.0000, 1.0000,\n",
      "        1.0000, 1.0000, 1.0000, 1.0000, 1.0000, 1.0000, 1.0000, 1.0000, 1.0000,\n",
      "        1.0000, 1.0000, 1.0000, 1.0000, 1.0000, 1.0000, 1.0000, 1.0000, 1.0000,\n",
      "        1.0000, 1.0000, 1.0000, 1.0000, 1.0000, 1.0000, 1.0000, 1.0000, 1.0000,\n",
      "        1.0000, 1.0000, 1.0000, 1.0000, 1.0000, 1.0000, 1.0000, 1.0000, 1.0000,\n",
      "        1.0000, 1.0000, 1.0000, 1.0000, 1.0000, 1.0000, 1.0000, 1.0000, 1.0000,\n",
      "        1.0000, 1.0000, 1.0000, 1.0000, 1.0000, 1.0000, 1.0000, 1.0000, 1.0000,\n",
      "        1.0000, 1.0000, 1.0000, 1.0000, 1.0000, 1.0000, 1.0000, 1.0000, 1.0000,\n",
      "        1.0000, 1.0000, 1.0000, 1.0000, 1.0000, 1.0000, 1.0000, 1.0000, 1.0000,\n",
      "        1.0000, 1.0000, 1.0000, 1.0000, 1.0000, 1.0000, 1.0000, 1.0000, 1.0000,\n",
      "        1.0000, 1.0000, 1.0000, 1.0000, 1.0000, 1.0000, 1.0000, 1.0000, 1.0000,\n",
      "        1.0000, 1.0000, 1.0000, 1.0000, 1.0000, 1.0000, 1.0000, 1.0000, 1.0000,\n",
      "        1.0000, 1.0000, 1.0000, 1.0000, 1.0000, 1.0000, 1.0000, 1.0000, 1.0000,\n",
      "        1.0000, 1.0000, 1.0000, 1.0000, 1.0000, 1.0000, 1.0000, 1.0000, 1.0000,\n",
      "        1.0000, 1.0000, 1.0000, 1.0000, 1.0000, 1.0000, 1.0000, 1.0000, 1.0000,\n",
      "        1.0000, 1.0000, 1.0000, 1.0000, 1.0000, 1.0000, 1.0000, 1.0000, 1.0000,\n",
      "        1.0000, 1.0000, 1.0000, 1.0000, 1.0000, 1.0000, 1.0000, 1.0000, 1.0000,\n",
      "        1.0000, 1.0000, 1.0000, 1.0000, 1.0000, 1.0000, 1.0000, 1.0000, 1.0000,\n",
      "        1.0000, 1.0000, 1.0000, 1.0000, 1.0000, 1.0000, 1.0000, 1.0000, 1.0000,\n",
      "        1.0000, 1.0000, 1.0000, 1.0000, 1.0000, 1.0000, 1.0000, 1.0000, 1.0000,\n",
      "        1.0000, 1.0000, 1.0000, 1.0000, 1.0000, 1.0000, 1.0000, 1.0000, 1.0000,\n",
      "        1.0000, 1.0000, 1.0000, 1.0000, 1.0000, 1.0000, 1.0000, 1.0000, 1.0000,\n",
      "        1.0000, 1.0000, 1.0000, 1.0000, 1.0000, 1.0000, 1.0000, 1.0000, 1.0000,\n",
      "        1.0000, 1.0000, 1.0000, 1.0000, 1.0000, 1.0000, 1.0000, 1.0000, 1.0000,\n",
      "        1.0000, 1.0000, 1.0000, 1.0000, 1.0000, 1.0000, 1.0000, 1.0000, 1.0000,\n",
      "        1.0000, 1.0000, 1.0000, 1.0000, 1.0000, 1.0000, 1.0000, 1.0000, 1.0000,\n",
      "        1.0000, 1.0000, 1.0000, 1.0000, 1.0000, 1.0000, 1.0000, 1.0000, 1.0000,\n",
      "        1.0000, 1.0000, 1.0000, 1.0000, 1.0000, 1.0000, 1.0000, 1.0000, 1.0000,\n",
      "        1.0000, 1.0000, 1.0000, 1.0000, 1.0000, 1.0000, 1.0000, 1.0000, 1.0000,\n",
      "        1.0000, 1.0000, 1.0000, 1.0000, 1.0000, 1.0000, 1.0000, 1.0000, 1.0000,\n",
      "        1.0000, 1.0000, 1.0000, 1.0000, 1.0000, 1.0000, 1.0000, 1.0000, 1.0000,\n",
      "        1.0000, 1.0000, 1.0000, 1.0000, 1.0000, 1.0000, 1.0000, 1.0000, 1.0000,\n",
      "        1.0000, 1.0000, 1.0000, 1.0000, 1.0000, 1.0000, 1.0000, 1.0000, 1.0000,\n",
      "        1.0000, 1.0000, 1.0000, 1.0000, 1.0000, 1.0000, 1.0000, 1.0000, 1.0000,\n",
      "        1.0000, 1.0000, 1.0000, 1.0000, 1.0000, 1.0000, 1.0000, 1.0000, 1.0000,\n",
      "        1.0000, 1.0000, 1.0000, 1.0000, 1.0000, 1.0000, 1.0000, 1.0000, 1.0000,\n",
      "        1.0000, 1.0000, 1.0000, 1.0000, 1.0000, 1.0000, 1.0000, 1.0000, 1.0000,\n",
      "        1.0000, 1.0000, 1.0000, 1.0000, 1.0000, 1.0000, 1.0000, 1.0000, 1.0000,\n",
      "        1.0000, 1.0000, 1.0000, 1.0000, 1.0000, 1.0000, 1.0000, 1.0000, 1.0000,\n",
      "        1.0000, 1.0000, 1.0000, 1.0000, 1.0000, 1.0000, 1.0000, 1.0000, 1.0000,\n",
      "        1.0000, 1.0000, 1.0000, 1.0000, 1.0000, 1.0000, 1.0000, 1.0000, 1.0000,\n",
      "        1.0000, 1.0000, 1.0000, 1.0000, 1.0000, 1.0000, 1.0000, 1.0000, 1.0000,\n",
      "        1.0000, 1.0000, 1.0000, 1.0000, 1.0000, 1.0000, 1.0000, 1.0000, 1.0000,\n",
      "        1.0000, 1.0000, 1.0000, 1.0000, 1.0000, 1.0000, 1.0000, 1.0000, 1.0000,\n",
      "        1.0000, 1.0000, 1.0000, 1.0000, 1.0000, 1.0000, 1.0000, 1.0000, 1.0000,\n",
      "        1.0000, 1.0000, 1.0000, 1.0000, 1.0000, 1.0000, 1.0000, 1.0000, 1.0000,\n",
      "        1.0000, 1.0000, 1.0000, 1.0000, 1.0000, 1.0000, 1.0000, 1.0000, 1.0000,\n",
      "        1.0000, 1.0000, 1.0000, 1.0000, 1.0000, 1.0000, 1.0000, 1.0000, 1.0000,\n",
      "        1.0000, 1.0000, 1.0000, 1.0000, 1.0000, 1.0000, 1.0000, 1.0000, 1.0000,\n",
      "        1.0000, 1.0000, 1.0000, 1.0000, 1.0000, 1.0000, 1.0000, 1.0000, 1.0000,\n",
      "        1.0000, 1.0000, 1.0000, 1.0000, 1.0000, 1.0000, 1.0000, 1.0000, 1.0000,\n",
      "        1.0000, 1.0000, 1.0000, 1.0000, 1.0000, 1.0000, 1.0000, 1.0000, 1.0000,\n",
      "        1.0000, 1.0000, 1.0000, 1.0000, 1.0000, 1.0000, 1.0000, 1.0000, 1.0000,\n",
      "        1.0000, 1.0000, 1.0000, 1.0000, 1.0000, 1.0000, 1.0000, 1.0000, 1.0000,\n",
      "        1.0000, 1.0000, 1.0000, 1.0000, 1.0000, 1.0000, 1.0000, 1.0000, 1.0000,\n",
      "        1.0000, 1.0000, 1.0000], device='cuda:0', grad_fn=<SqueezeBackward1>)\n",
      "tensor([1., 1., 1.,  ..., 1., 1., 1.], device='cuda:0',\n",
      "       grad_fn=<SqueezeBackward1>)\n",
      "tensor([1.0000, 1.0000, 1.0000, 1.0000, 1.0000, 1.0000, 1.0000, 1.0000, 1.0000,\n",
      "        1.0000, 1.0000, 1.0000, 1.0000, 1.0000, 1.0000, 1.0000, 1.0000, 1.0000,\n",
      "        1.0000, 1.0000, 1.0000, 1.0000, 1.0000, 1.0000, 1.0000, 1.0000, 1.0000,\n",
      "        1.0000, 1.0000, 1.0000, 1.0000, 1.0000, 1.0000, 1.0000, 1.0000, 1.0000,\n",
      "        1.0000, 1.0000, 1.0000, 1.0000, 1.0000, 1.0000, 1.0000, 1.0000, 1.0000,\n",
      "        1.0000, 1.0000, 1.0000, 1.0000, 1.0000, 1.0000, 1.0000, 1.0000, 1.0000,\n",
      "        1.0000, 1.0000, 1.0000, 1.0000, 1.0000, 1.0000, 1.0000, 1.0000, 1.0000,\n",
      "        1.0000, 1.0000, 1.0000, 1.0000, 1.0000, 1.0000, 1.0000, 1.0000, 1.0000,\n",
      "        1.0000, 1.0000, 1.0000, 1.0000, 1.0000, 1.0000, 1.0000, 1.0000, 1.0000,\n",
      "        1.0000, 1.0000, 1.0000, 1.0000, 1.0000, 1.0000, 1.0000, 1.0000, 1.0000,\n",
      "        1.0000, 1.0000, 1.0000, 1.0000, 1.0000, 1.0000, 1.0000, 1.0000, 1.0000,\n",
      "        1.0000, 1.0000, 1.0000, 1.0000, 1.0000, 1.0000, 1.0000, 1.0000, 1.0000,\n",
      "        1.0000, 1.0000, 1.0000, 1.0000, 1.0000, 1.0000, 1.0000, 1.0000, 1.0000,\n",
      "        1.0000, 1.0000, 1.0000, 1.0000, 1.0000, 1.0000, 1.0000, 1.0000, 1.0000,\n",
      "        1.0000, 1.0000, 1.0000, 1.0000, 1.0000, 1.0000, 1.0000, 1.0000, 1.0000,\n",
      "        1.0000, 1.0000, 1.0000, 1.0000, 1.0000, 1.0000, 1.0000, 1.0000, 1.0000,\n",
      "        1.0000, 1.0000, 1.0000, 1.0000, 1.0000, 1.0000, 1.0000, 1.0000, 1.0000,\n",
      "        1.0000, 1.0000, 1.0000, 1.0000, 1.0000, 1.0000, 1.0000, 1.0000, 1.0000,\n",
      "        1.0000, 1.0000, 1.0000, 1.0000, 1.0000, 1.0000, 1.0000, 1.0000, 1.0000,\n",
      "        1.0000, 1.0000, 1.0000, 1.0000, 1.0000, 1.0000, 1.0000, 1.0000, 1.0000,\n",
      "        1.0000, 1.0000, 1.0000, 1.0000, 1.0000, 1.0000, 1.0000, 1.0000, 1.0000,\n",
      "        1.0000, 1.0000, 1.0000, 1.0000, 1.0000, 1.0000, 1.0000, 1.0000, 1.0000,\n",
      "        1.0000, 1.0000, 1.0000, 1.0000, 1.0000, 1.0000, 1.0000, 1.0000, 1.0000,\n",
      "        1.0000, 1.0000, 1.0000, 1.0000, 1.0000, 1.0000, 1.0000, 1.0000, 1.0000,\n",
      "        1.0000, 1.0000, 1.0000, 1.0000, 1.0000, 1.0000, 1.0000, 1.0000, 1.0000,\n",
      "        1.0000, 1.0000, 1.0000, 1.0000, 1.0000, 1.0000, 1.0000, 1.0000, 1.0000,\n",
      "        1.0000, 1.0000, 1.0000, 1.0000, 1.0000, 1.0000, 1.0000, 1.0000, 1.0000,\n",
      "        1.0000, 1.0000, 1.0000, 1.0000, 1.0000, 1.0000, 1.0000, 1.0000, 1.0000,\n",
      "        1.0000, 1.0000, 1.0000, 1.0000, 1.0000, 1.0000, 1.0000, 1.0000, 1.0000,\n",
      "        1.0000, 1.0000, 1.0000, 1.0000, 1.0000, 1.0000, 1.0000, 1.0000, 1.0000,\n",
      "        1.0000, 1.0000, 1.0000, 1.0000, 1.0000, 1.0000, 1.0000, 1.0000, 1.0000,\n",
      "        1.0000, 1.0000, 1.0000, 1.0000, 1.0000, 1.0000, 1.0000, 1.0000, 1.0000,\n",
      "        1.0000, 1.0000, 1.0000, 1.0000, 1.0000, 1.0000, 1.0000, 1.0000, 1.0000,\n",
      "        1.0000, 1.0000, 1.0000, 1.0000, 1.0000, 1.0000, 1.0000, 1.0000, 1.0000,\n",
      "        1.0000, 1.0000, 1.0000, 1.0000, 1.0000, 1.0000, 1.0000, 1.0000, 1.0000,\n",
      "        1.0000, 1.0000, 1.0000, 1.0000, 1.0000, 1.0000, 1.0000, 1.0000, 1.0000,\n",
      "        1.0000, 1.0000, 1.0000, 1.0000, 1.0000, 1.0000, 1.0000, 1.0000, 1.0000,\n",
      "        1.0000, 1.0000, 1.0000, 1.0000, 1.0000, 1.0000, 1.0000, 1.0000, 1.0000,\n",
      "        1.0000, 1.0000, 1.0000, 1.0000, 1.0000, 1.0000, 1.0000, 1.0000, 1.0000,\n",
      "        1.0000, 1.0000, 1.0000, 1.0000, 1.0000, 1.0000, 1.0000, 1.0000, 1.0000,\n",
      "        1.0000, 1.0000, 1.0000, 1.0000, 1.0000, 1.0000, 1.0000, 1.0000, 1.0000,\n",
      "        1.0000, 1.0000, 1.0000, 1.0000, 1.0000, 1.0000, 1.0000, 1.0000, 1.0000,\n",
      "        1.0000, 1.0000, 1.0000, 1.0000, 1.0000, 1.0000, 1.0000, 1.0000, 1.0000,\n",
      "        1.0000, 1.0000, 1.0000, 1.0000, 1.0000, 1.0000, 1.0000, 1.0000, 1.0000,\n",
      "        1.0000, 1.0000, 1.0000, 1.0000, 1.0000, 1.0000, 1.0000, 1.0000, 1.0000,\n",
      "        1.0000, 1.0000, 1.0000, 1.0000, 1.0000, 1.0000, 1.0000, 1.0000, 1.0000,\n",
      "        1.0000, 1.0000, 1.0000, 1.0000, 1.0000, 1.0000, 1.0000, 1.0000, 1.0000,\n",
      "        1.0000, 1.0000, 1.0000, 1.0000, 1.0000, 1.0000, 1.0000, 1.0000, 1.0000,\n",
      "        1.0000, 1.0000, 1.0000, 1.0000, 1.0000, 1.0000, 1.0000, 1.0000, 1.0000,\n",
      "        1.0000, 1.0000, 1.0000, 1.0000, 1.0000, 1.0000, 1.0000, 1.0000, 1.0000,\n",
      "        1.0000, 1.0000, 1.0000, 1.0000, 1.0000, 1.0000, 1.0000, 1.0000, 1.0000,\n",
      "        1.0000, 1.0000, 1.0000, 1.0000, 1.0000, 1.0000, 1.0000, 1.0000, 1.0000,\n",
      "        1.0000, 1.0000, 1.0000, 1.0000, 1.0000, 1.0000, 1.0000, 1.0000, 1.0000,\n",
      "        1.0000, 1.0000, 1.0000, 1.0000, 1.0000, 1.0000, 1.0000, 1.0000, 1.0000,\n",
      "        1.0000, 1.0000, 1.0000, 1.0000, 1.0000, 1.0000, 1.0000, 1.0000, 1.0000,\n",
      "        1.0000, 1.0000, 1.0000, 1.0000, 1.0000, 1.0000, 1.0000, 1.0000, 1.0000,\n",
      "        1.0000, 1.0000, 1.0000, 1.0000, 1.0000, 1.0000, 1.0000, 1.0000, 1.0000,\n",
      "        1.0000, 1.0000, 1.0000, 1.0000, 1.0000, 1.0000, 1.0000, 1.0000, 1.0000,\n",
      "        1.0000, 1.0000, 1.0000, 1.0000, 1.0000, 1.0000, 1.0000, 1.0000, 1.0000,\n",
      "        1.0000, 1.0000, 1.0000, 1.0000, 1.0000, 1.0000, 1.0000, 1.0000, 1.0000,\n",
      "        1.0000, 1.0000, 1.0000, 1.0000, 1.0000, 1.0000, 1.0000, 1.0000, 1.0000,\n",
      "        1.0000, 1.0000, 1.0000, 1.0000, 1.0000, 1.0000, 1.0000, 1.0000, 1.0000,\n",
      "        1.0000, 1.0000, 1.0000, 1.0000, 1.0000, 1.0000, 1.0000, 1.0000, 1.0000,\n",
      "        1.0000, 1.0000, 1.0000, 1.0000, 1.0000, 1.0000, 1.0000, 1.0000, 1.0000,\n",
      "        1.0000, 1.0000, 1.0000, 1.0000, 1.0000, 1.0000, 1.0000, 1.0000, 1.0000,\n",
      "        1.0000, 1.0000, 1.0000, 1.0000, 1.0000, 1.0000, 1.0000, 1.0000, 1.0000,\n",
      "        1.0000, 1.0000, 1.0000, 1.0000, 1.0000, 1.0000, 1.0000, 1.0000, 1.0000,\n",
      "        1.0000, 1.0000, 1.0000, 1.0000, 1.0000, 1.0000, 1.0000, 1.0000, 1.0000,\n",
      "        1.0000, 1.0000, 1.0000, 1.0000, 1.0000, 1.0000, 1.0000, 1.0000, 1.0000,\n",
      "        1.0000, 1.0000, 1.0000, 1.0000, 1.0000, 1.0000, 1.0000, 1.0000, 1.0000,\n",
      "        1.0000, 1.0000, 1.0000, 1.0000, 1.0000, 1.0000, 1.0000, 1.0000, 1.0000,\n",
      "        1.0000, 1.0000, 1.0000, 1.0000, 1.0000, 1.0000, 1.0000, 1.0000, 1.0000,\n",
      "        1.0000, 1.0000, 1.0000, 1.0000, 1.0000, 1.0000, 1.0000, 1.0000, 1.0000,\n",
      "        1.0000, 1.0000, 1.0000, 1.0000, 1.0000, 1.0000, 1.0000, 1.0000, 1.0000,\n",
      "        1.0000, 1.0000, 1.0000, 1.0000, 1.0000, 1.0000, 1.0000, 1.0000, 1.0000,\n",
      "        1.0000, 1.0000, 1.0000, 1.0000, 1.0000, 1.0000, 1.0000, 1.0000, 1.0000,\n",
      "        1.0000, 1.0000, 1.0000, 1.0000, 1.0000, 1.0000, 1.0000, 1.0000, 1.0000,\n",
      "        1.0000, 1.0000, 1.0000, 1.0000, 1.0000, 1.0000, 1.0000, 1.0000, 1.0000,\n",
      "        1.0000, 1.0000, 1.0000, 1.0000, 1.0000, 1.0000, 1.0000, 1.0000, 1.0000,\n",
      "        1.0000, 1.0000, 1.0000, 1.0000, 1.0000, 1.0000, 1.0000, 1.0000, 1.0000,\n",
      "        1.0000, 1.0000, 1.0000, 1.0000, 1.0000, 1.0000, 1.0000, 1.0000, 1.0000,\n",
      "        1.0000, 1.0000, 1.0000, 1.0000, 1.0000, 1.0000, 1.0000, 1.0000, 1.0000,\n",
      "        1.0000, 1.0000, 1.0000, 1.0000, 1.0000, 1.0000, 1.0000, 1.0000, 1.0000,\n",
      "        1.0000, 1.0000, 1.0000, 1.0000, 1.0000, 1.0000, 1.0000, 1.0000, 1.0000,\n",
      "        1.0000, 1.0000, 1.0000, 1.0000, 1.0000, 1.0000, 1.0000, 1.0000, 1.0000,\n",
      "        1.0000, 1.0000, 1.0000, 1.0000, 1.0000, 1.0000, 1.0000, 1.0000, 1.0000,\n",
      "        1.0000, 1.0000, 1.0000, 1.0000, 1.0000, 1.0000, 1.0000, 1.0000, 1.0000,\n",
      "        1.0000, 1.0000, 1.0000, 1.0000, 1.0000, 1.0000, 1.0000, 1.0000, 1.0000,\n",
      "        1.0000, 1.0000, 1.0000, 1.0000, 1.0000, 1.0000, 1.0000, 1.0000, 1.0000,\n",
      "        1.0000, 1.0000, 1.0000, 1.0000, 1.0000, 1.0000, 1.0000, 1.0000, 1.0000,\n",
      "        1.0000, 1.0000, 1.0000, 1.0000, 1.0000, 1.0000, 1.0000, 1.0000, 1.0000,\n",
      "        1.0000, 1.0000, 1.0000, 1.0000, 1.0000, 1.0000, 1.0000, 1.0000, 1.0000,\n",
      "        1.0000, 1.0000, 1.0000, 1.0000, 1.0000, 1.0000, 1.0000, 1.0000, 1.0000,\n",
      "        1.0000, 1.0000, 1.0000, 1.0000, 1.0000, 1.0000, 1.0000, 1.0000, 1.0000,\n",
      "        1.0000, 1.0000, 1.0000, 1.0000, 1.0000, 1.0000, 1.0000, 1.0000, 1.0000,\n",
      "        1.0000, 1.0000, 1.0000, 1.0000, 1.0000, 1.0000, 1.0000, 1.0000, 1.0000,\n",
      "        1.0000, 1.0000, 1.0000, 1.0000, 1.0000, 1.0000, 1.0000, 1.0000, 1.0000,\n",
      "        1.0000, 1.0000, 1.0000, 1.0000, 1.0000, 1.0000, 1.0000, 1.0000, 1.0000,\n",
      "        1.0000, 1.0000, 1.0000, 1.0000, 1.0000, 1.0000, 1.0000, 1.0000, 1.0000,\n",
      "        1.0000, 1.0000, 1.0000, 1.0000, 1.0000, 1.0000, 1.0000, 1.0000, 1.0000,\n",
      "        1.0000, 1.0000, 1.0000, 1.0000, 1.0000, 1.0000, 1.0000, 1.0000, 1.0000,\n",
      "        1.0000, 1.0000, 1.0000, 1.0000, 1.0000, 1.0000, 1.0000, 1.0000, 1.0000,\n",
      "        1.0000, 1.0000, 1.0000, 1.0000, 1.0000, 1.0000, 1.0000, 1.0000, 1.0000,\n",
      "        1.0000, 1.0000, 1.0000], device='cuda:0', grad_fn=<SqueezeBackward1>)\n"
     ]
    },
    {
     "name": "stdout",
     "output_type": "stream",
     "text": [
      "tensor([1.0000, 1.0000, 1.0000, 1.0000, 1.0000, 1.0000, 1.0000, 1.0000, 1.0000,\n",
      "        1.0000, 1.0000, 1.0000, 1.0000, 1.0000, 1.0000, 1.0000, 1.0000, 1.0000,\n",
      "        1.0000, 1.0000, 1.0000, 1.0000, 1.0000, 1.0000, 1.0000, 1.0000, 1.0000,\n",
      "        1.0000, 1.0000, 1.0000, 1.0000, 1.0000, 1.0000, 1.0000, 1.0000, 1.0000,\n",
      "        1.0000, 1.0000, 1.0000, 1.0000, 1.0000, 1.0000, 1.0000, 1.0000, 1.0000,\n",
      "        1.0000, 1.0000, 1.0000, 1.0000, 1.0000, 1.0000, 1.0000, 1.0000, 1.0000,\n",
      "        1.0000, 1.0000, 1.0000, 1.0000, 1.0000, 1.0000, 1.0000, 1.0000, 1.0000,\n",
      "        1.0000, 1.0000, 1.0000, 1.0000, 1.0000, 1.0000, 1.0000, 1.0000, 1.0000,\n",
      "        1.0000, 1.0000, 1.0000, 1.0000, 1.0000, 1.0000, 1.0000, 1.0000, 1.0000,\n",
      "        1.0000, 1.0000, 1.0000, 1.0000, 1.0000, 1.0000, 1.0000, 1.0000, 1.0000,\n",
      "        1.0000, 1.0000, 1.0000, 1.0000, 1.0000, 1.0000, 1.0000, 1.0000, 1.0000,\n",
      "        1.0000, 1.0000, 1.0000, 1.0000, 1.0000, 1.0000, 1.0000, 1.0000, 1.0000,\n",
      "        1.0000, 1.0000, 1.0000, 1.0000, 1.0000, 1.0000, 1.0000, 1.0000, 1.0000,\n",
      "        1.0000, 1.0000, 1.0000, 1.0000, 1.0000, 1.0000, 1.0000, 1.0000, 1.0000,\n",
      "        1.0000, 1.0000, 1.0000, 1.0000, 1.0000, 1.0000, 1.0000, 1.0000, 1.0000,\n",
      "        1.0000, 1.0000, 1.0000, 1.0000, 1.0000, 1.0000, 1.0000, 1.0000, 1.0000,\n",
      "        1.0000, 1.0000, 1.0000, 1.0000, 1.0000, 1.0000, 1.0000, 1.0000, 1.0000,\n",
      "        1.0000, 1.0000, 1.0000, 1.0000, 1.0000, 1.0000, 1.0000, 1.0000, 1.0000,\n",
      "        1.0000, 1.0000, 1.0000, 1.0000, 1.0000, 1.0000, 1.0000, 1.0000, 1.0000,\n",
      "        1.0000, 1.0000, 1.0000, 1.0000, 1.0000, 1.0000, 1.0000, 1.0000, 1.0000,\n",
      "        1.0000, 1.0000, 1.0000, 1.0000, 1.0000, 1.0000, 1.0000, 1.0000, 1.0000,\n",
      "        1.0000, 1.0000, 1.0000, 1.0000, 1.0000, 1.0000, 1.0000, 1.0000, 1.0000,\n",
      "        1.0000, 1.0000, 1.0000, 1.0000, 1.0000, 1.0000, 1.0000, 1.0000, 1.0000,\n",
      "        1.0000, 1.0000, 1.0000, 1.0000, 1.0000, 1.0000, 1.0000, 1.0000, 1.0000,\n",
      "        1.0000, 1.0000, 1.0000, 1.0000, 1.0000, 1.0000, 1.0000, 1.0000, 1.0000,\n",
      "        1.0000, 1.0000, 1.0000, 1.0000, 1.0000, 1.0000, 1.0000, 1.0000, 1.0000,\n",
      "        1.0000, 1.0000, 1.0000, 1.0000, 1.0000, 1.0000, 1.0000, 1.0000, 1.0000,\n",
      "        1.0000, 1.0000, 1.0000, 1.0000, 1.0000, 1.0000, 1.0000, 1.0000, 1.0000,\n",
      "        1.0000, 1.0000, 1.0000, 1.0000, 1.0000, 1.0000, 1.0000, 1.0000, 1.0000,\n",
      "        1.0000, 1.0000, 1.0000, 1.0000, 1.0000, 1.0000, 1.0000, 1.0000, 1.0000,\n",
      "        1.0000, 1.0000, 1.0000, 1.0000, 1.0000, 1.0000, 1.0000, 1.0000, 1.0000,\n",
      "        1.0000, 1.0000, 1.0000, 1.0000, 1.0000, 1.0000, 1.0000, 1.0000, 1.0000,\n",
      "        1.0000, 1.0000, 1.0000, 1.0000, 1.0000, 1.0000, 1.0000, 1.0000, 1.0000,\n",
      "        1.0000, 1.0000, 1.0000, 1.0000, 1.0000, 1.0000, 1.0000, 1.0000, 1.0000,\n",
      "        1.0000, 1.0000, 1.0000, 1.0000, 1.0000, 1.0000, 1.0000, 1.0000, 1.0000,\n",
      "        1.0000, 1.0000, 1.0000, 1.0000, 1.0000, 1.0000, 1.0000, 1.0000, 1.0000,\n",
      "        1.0000, 1.0000, 1.0000, 1.0000, 1.0000, 1.0000, 1.0000, 1.0000, 1.0000,\n",
      "        1.0000, 1.0000, 1.0000, 1.0000, 1.0000, 1.0000, 1.0000, 1.0000, 1.0000,\n",
      "        1.0000, 1.0000, 1.0000, 1.0000, 1.0000, 1.0000, 1.0000, 1.0000, 1.0000,\n",
      "        1.0000, 1.0000, 1.0000, 1.0000, 1.0000, 1.0000, 1.0000, 1.0000, 1.0000,\n",
      "        1.0000, 1.0000, 1.0000, 1.0000, 1.0000, 1.0000, 1.0000, 1.0000, 1.0000,\n",
      "        1.0000, 1.0000, 1.0000, 1.0000, 1.0000, 1.0000, 1.0000, 1.0000, 1.0000,\n",
      "        1.0000, 1.0000, 1.0000, 1.0000, 1.0000, 1.0000, 1.0000, 1.0000, 1.0000,\n",
      "        1.0000, 1.0000, 1.0000, 1.0000, 1.0000, 1.0000, 1.0000, 1.0000, 1.0000,\n",
      "        1.0000, 1.0000, 1.0000, 1.0000, 1.0000, 1.0000, 1.0000, 1.0000, 1.0000,\n",
      "        1.0000, 1.0000, 1.0000, 1.0000, 1.0000, 1.0000, 1.0000, 1.0000, 1.0000,\n",
      "        1.0000, 1.0000, 1.0000, 1.0000, 1.0000, 1.0000, 1.0000, 1.0000, 1.0000,\n",
      "        1.0000, 1.0000, 1.0000, 1.0000, 1.0000, 1.0000, 1.0000, 1.0000, 1.0000,\n",
      "        1.0000, 1.0000, 1.0000, 1.0000, 1.0000, 1.0000, 1.0000, 1.0000, 1.0000,\n",
      "        1.0000, 1.0000, 1.0000, 1.0000, 1.0000, 1.0000, 1.0000, 1.0000, 1.0000,\n",
      "        1.0000, 1.0000, 1.0000, 1.0000, 1.0000, 1.0000, 1.0000, 1.0000, 1.0000,\n",
      "        1.0000, 1.0000, 1.0000, 1.0000, 1.0000, 1.0000, 1.0000, 1.0000, 1.0000,\n",
      "        1.0000, 1.0000, 1.0000, 1.0000, 1.0000, 1.0000, 1.0000, 1.0000, 1.0000,\n",
      "        1.0000, 1.0000, 1.0000, 1.0000, 1.0000, 1.0000, 1.0000, 1.0000, 1.0000,\n",
      "        1.0000, 1.0000, 1.0000, 1.0000, 1.0000, 1.0000, 1.0000, 1.0000, 1.0000,\n",
      "        1.0000, 1.0000, 1.0000, 1.0000, 1.0000, 1.0000, 1.0000, 1.0000, 1.0000,\n",
      "        1.0000, 1.0000, 1.0000, 1.0000, 1.0000, 1.0000, 1.0000, 1.0000, 1.0000,\n",
      "        1.0000, 1.0000, 1.0000, 1.0000, 1.0000, 1.0000, 1.0000, 1.0000, 1.0000,\n",
      "        1.0000, 1.0000, 1.0000, 1.0000, 1.0000, 1.0000, 1.0000, 1.0000, 1.0000,\n",
      "        1.0000, 1.0000, 1.0000, 1.0000, 1.0000, 1.0000, 1.0000, 1.0000, 1.0000,\n",
      "        1.0000, 1.0000, 1.0000, 1.0000, 1.0000, 1.0000, 1.0000, 1.0000, 1.0000,\n",
      "        1.0000, 1.0000, 1.0000, 1.0000, 1.0000, 1.0000, 1.0000, 1.0000, 1.0000,\n",
      "        1.0000, 1.0000, 1.0000, 1.0000, 1.0000, 1.0000, 1.0000, 1.0000, 1.0000,\n",
      "        1.0000, 1.0000, 1.0000, 1.0000, 1.0000, 1.0000, 1.0000, 1.0000, 1.0000,\n",
      "        1.0000, 1.0000, 1.0000, 1.0000, 1.0000, 1.0000, 1.0000, 1.0000, 1.0000,\n",
      "        1.0000, 1.0000, 1.0000, 1.0000, 1.0000, 1.0000, 1.0000, 1.0000, 1.0000,\n",
      "        1.0000, 1.0000, 1.0000, 1.0000, 1.0000, 1.0000, 1.0000, 1.0000, 1.0000,\n",
      "        1.0000, 1.0000, 1.0000, 1.0000, 1.0000, 1.0000, 1.0000, 1.0000, 1.0000,\n",
      "        1.0000, 1.0000, 1.0000, 1.0000, 1.0000, 1.0000, 1.0000, 1.0000, 1.0000,\n",
      "        1.0000, 1.0000, 1.0000, 1.0000, 1.0000, 1.0000, 1.0000, 1.0000, 1.0000,\n",
      "        1.0000, 1.0000, 1.0000, 1.0000, 1.0000, 1.0000, 1.0000, 1.0000, 1.0000,\n",
      "        1.0000, 1.0000, 1.0000, 1.0000, 1.0000, 1.0000, 1.0000, 1.0000, 1.0000,\n",
      "        1.0000, 1.0000, 1.0000, 1.0000, 1.0000, 1.0000, 1.0000, 1.0000, 1.0000,\n",
      "        1.0000, 1.0000, 1.0000, 1.0000, 1.0000, 1.0000, 1.0000, 1.0000, 1.0000,\n",
      "        1.0000, 1.0000, 1.0000, 1.0000, 1.0000, 1.0000, 1.0000, 1.0000, 1.0000,\n",
      "        1.0000, 1.0000, 1.0000, 1.0000, 1.0000, 1.0000, 1.0000, 1.0000, 1.0000,\n",
      "        1.0000, 1.0000, 1.0000, 1.0000, 1.0000, 1.0000, 1.0000, 1.0000, 1.0000,\n",
      "        1.0000, 1.0000, 1.0000, 1.0000, 1.0000, 1.0000, 1.0000, 1.0000, 1.0000,\n",
      "        1.0000, 1.0000, 1.0000, 1.0000, 1.0000, 1.0000, 1.0000, 1.0000, 1.0000,\n",
      "        1.0000, 1.0000, 1.0000, 1.0000, 1.0000, 1.0000, 1.0000, 1.0000, 1.0000,\n",
      "        1.0000, 1.0000, 1.0000, 1.0000, 1.0000, 1.0000, 1.0000, 1.0000, 1.0000,\n",
      "        1.0000, 1.0000, 1.0000, 1.0000, 1.0000, 1.0000, 1.0000, 1.0000, 1.0000,\n",
      "        1.0000, 1.0000, 1.0000, 1.0000, 1.0000, 1.0000, 1.0000, 1.0000, 1.0000,\n",
      "        1.0000, 1.0000, 1.0000, 1.0000, 1.0000, 1.0000, 1.0000, 1.0000, 1.0000,\n",
      "        1.0000, 1.0000, 1.0000, 1.0000, 1.0000, 1.0000, 1.0000, 1.0000, 1.0000,\n",
      "        1.0000, 1.0000, 1.0000, 1.0000, 1.0000, 1.0000, 1.0000, 1.0000, 1.0000,\n",
      "        1.0000, 1.0000, 1.0000, 1.0000, 1.0000, 1.0000, 1.0000, 1.0000, 1.0000,\n",
      "        1.0000, 1.0000, 1.0000, 1.0000, 1.0000, 1.0000, 1.0000, 1.0000, 1.0000,\n",
      "        1.0000, 1.0000, 1.0000, 1.0000, 1.0000, 1.0000, 1.0000, 1.0000, 1.0000,\n",
      "        1.0000, 1.0000, 1.0000, 1.0000, 1.0000, 1.0000, 1.0000, 1.0000, 1.0000,\n",
      "        1.0000, 1.0000, 1.0000, 1.0000, 1.0000, 1.0000, 1.0000, 1.0000, 1.0000,\n",
      "        1.0000, 1.0000, 1.0000, 1.0000, 1.0000, 1.0000, 1.0000, 1.0000, 1.0000,\n",
      "        1.0000, 1.0000, 1.0000, 1.0000, 1.0000, 1.0000, 1.0000, 1.0000, 1.0000,\n",
      "        1.0000, 1.0000, 1.0000, 1.0000, 1.0000, 1.0000, 1.0000, 1.0000, 1.0000,\n",
      "        1.0000, 1.0000, 1.0000, 1.0000, 1.0000, 1.0000, 1.0000, 1.0000, 1.0000,\n",
      "        1.0000, 1.0000, 1.0000, 1.0000, 1.0000, 1.0000, 1.0000, 1.0000, 1.0000,\n",
      "        1.0000, 1.0000, 1.0000, 1.0000, 1.0000, 1.0000, 1.0000, 1.0000, 1.0000,\n",
      "        1.0000, 1.0000, 1.0000, 1.0000, 1.0000, 1.0000, 1.0000, 1.0000, 1.0000,\n",
      "        1.0000, 1.0000, 1.0000, 1.0000, 1.0000, 1.0000, 1.0000, 1.0000, 1.0000,\n",
      "        1.0000, 1.0000, 1.0000, 1.0000, 1.0000, 1.0000, 1.0000, 1.0000, 1.0000,\n",
      "        1.0000, 1.0000, 1.0000, 1.0000, 1.0000, 1.0000, 1.0000, 1.0000, 1.0000,\n",
      "        1.0000, 1.0000, 1.0000, 1.0000, 1.0000, 1.0000, 1.0000, 1.0000, 1.0000,\n",
      "        1.0000, 1.0000, 1.0000, 1.0000, 1.0000, 1.0000, 1.0000, 1.0000, 1.0000,\n",
      "        1.0000, 1.0000, 1.0000], device='cuda:0', grad_fn=<SqueezeBackward1>)\n",
      "tensor([1., 1., 1.,  ..., 1., 1., 1.], device='cuda:0',\n",
      "       grad_fn=<SqueezeBackward1>)\n",
      "tensor([1., 1., 1.,  ..., 1., 1., 1.], device='cuda:0',\n",
      "       grad_fn=<SqueezeBackward1>)\n",
      "tensor([1., 1., 1.,  ..., 1., 1., 1.], device='cuda:0',\n",
      "       grad_fn=<SqueezeBackward1>)\n"
     ]
    },
    {
     "name": "stdout",
     "output_type": "stream",
     "text": [
      "tensor([1., 1., 1.,  ..., 1., 1., 1.], device='cuda:0',\n",
      "       grad_fn=<SqueezeBackward1>)\n",
      "tensor([1., 1., 1.,  ..., 1., 1., 1.], device='cuda:0',\n",
      "       grad_fn=<SqueezeBackward1>)\n",
      "tensor([1.0000, 1.0000, 1.0000, 1.0000, 1.0000, 1.0000, 1.0000, 1.0000, 1.0000,\n",
      "        1.0000, 1.0000, 1.0000, 1.0000, 1.0000, 1.0000, 1.0000, 1.0000, 1.0000,\n",
      "        1.0000, 1.0000, 1.0000, 1.0000, 1.0000, 1.0000, 1.0000, 1.0000, 1.0000,\n",
      "        1.0000, 1.0000, 1.0000, 1.0000, 1.0000, 1.0000, 1.0000, 1.0000, 1.0000,\n",
      "        1.0000, 1.0000, 1.0000, 1.0000, 1.0000, 1.0000, 1.0000, 1.0000, 1.0000,\n",
      "        1.0000, 1.0000, 1.0000, 1.0000, 1.0000, 1.0000, 1.0000, 1.0000, 1.0000,\n",
      "        1.0000, 1.0000, 1.0000, 1.0000, 1.0000, 1.0000, 1.0000, 1.0000, 1.0000,\n",
      "        1.0000, 1.0000, 1.0000, 1.0000, 1.0000, 1.0000, 1.0000, 1.0000, 1.0000,\n",
      "        1.0000, 1.0000, 1.0000, 1.0000, 1.0000, 1.0000, 1.0000, 1.0000, 1.0000,\n",
      "        1.0000, 1.0000, 1.0000, 1.0000, 1.0000, 1.0000, 1.0000, 1.0000, 1.0000,\n",
      "        1.0000, 1.0000, 1.0000, 1.0000, 1.0000, 1.0000, 1.0000, 1.0000, 1.0000,\n",
      "        1.0000, 1.0000, 1.0000, 1.0000, 1.0000, 1.0000, 1.0000, 1.0000, 1.0000,\n",
      "        1.0000, 1.0000, 1.0000, 1.0000, 1.0000, 1.0000, 1.0000, 1.0000, 1.0000,\n",
      "        1.0000, 1.0000, 1.0000, 1.0000, 1.0000, 1.0000, 1.0000, 1.0000, 1.0000,\n",
      "        1.0000, 1.0000, 1.0000, 1.0000, 1.0000, 1.0000, 1.0000, 1.0000, 1.0000,\n",
      "        1.0000, 1.0000, 1.0000, 1.0000, 1.0000, 1.0000, 1.0000, 1.0000, 1.0000,\n",
      "        1.0000, 1.0000, 1.0000, 1.0000, 1.0000, 1.0000, 1.0000, 1.0000, 1.0000,\n",
      "        1.0000, 1.0000, 1.0000, 1.0000, 1.0000, 1.0000, 1.0000, 1.0000, 1.0000,\n",
      "        1.0000, 1.0000, 1.0000, 1.0000, 1.0000, 1.0000, 1.0000, 1.0000, 1.0000,\n",
      "        1.0000, 1.0000, 1.0000, 1.0000, 1.0000, 1.0000, 1.0000, 1.0000, 1.0000,\n",
      "        1.0000, 1.0000, 1.0000, 1.0000, 1.0000, 1.0000, 1.0000, 1.0000, 1.0000,\n",
      "        1.0000, 1.0000, 1.0000, 1.0000, 1.0000, 1.0000, 1.0000, 1.0000, 1.0000,\n",
      "        1.0000, 1.0000, 1.0000, 1.0000, 1.0000, 1.0000, 1.0000, 1.0000, 1.0000,\n",
      "        1.0000, 1.0000, 1.0000, 1.0000, 1.0000, 1.0000, 1.0000, 1.0000, 1.0000,\n",
      "        1.0000, 1.0000, 1.0000, 1.0000, 1.0000, 1.0000, 1.0000, 1.0000, 1.0000,\n",
      "        1.0000, 1.0000, 1.0000, 1.0000, 1.0000, 1.0000, 1.0000, 1.0000, 1.0000,\n",
      "        1.0000, 1.0000, 1.0000, 1.0000, 1.0000, 1.0000, 1.0000, 1.0000, 1.0000,\n",
      "        1.0000, 1.0000, 1.0000, 1.0000, 1.0000, 1.0000, 1.0000, 1.0000, 1.0000,\n",
      "        1.0000, 1.0000, 1.0000, 1.0000, 1.0000, 1.0000, 1.0000, 1.0000, 1.0000,\n",
      "        1.0000, 1.0000, 1.0000, 1.0000, 1.0000, 1.0000, 1.0000, 1.0000, 1.0000,\n",
      "        1.0000, 1.0000, 1.0000, 1.0000, 1.0000, 1.0000, 1.0000, 1.0000, 1.0000,\n",
      "        1.0000, 1.0000, 1.0000, 1.0000, 1.0000, 1.0000, 1.0000, 1.0000, 1.0000,\n",
      "        1.0000, 1.0000, 1.0000, 1.0000, 1.0000, 1.0000, 1.0000, 1.0000, 1.0000,\n",
      "        1.0000, 1.0000, 1.0000, 1.0000, 1.0000, 1.0000, 1.0000, 1.0000, 1.0000,\n",
      "        1.0000, 1.0000, 1.0000, 1.0000, 1.0000, 1.0000, 1.0000, 1.0000, 1.0000,\n",
      "        1.0000, 1.0000, 1.0000, 1.0000, 1.0000, 1.0000, 1.0000, 1.0000, 1.0000,\n",
      "        1.0000, 1.0000, 1.0000, 1.0000, 1.0000, 1.0000, 1.0000, 1.0000, 1.0000,\n",
      "        1.0000, 1.0000, 1.0000, 1.0000, 1.0000, 1.0000, 1.0000, 1.0000, 1.0000,\n",
      "        1.0000, 1.0000, 1.0000, 1.0000, 1.0000, 1.0000, 1.0000, 1.0000, 1.0000,\n",
      "        1.0000, 1.0000, 1.0000, 1.0000, 1.0000, 1.0000, 1.0000, 1.0000, 1.0000,\n",
      "        1.0000, 1.0000, 1.0000, 1.0000, 1.0000, 1.0000, 1.0000, 1.0000, 1.0000,\n",
      "        1.0000, 1.0000, 1.0000, 1.0000, 1.0000, 1.0000, 1.0000, 1.0000, 1.0000,\n",
      "        1.0000, 1.0000, 1.0000, 1.0000, 1.0000, 1.0000, 1.0000, 1.0000, 1.0000,\n",
      "        1.0000, 1.0000, 1.0000, 1.0000, 1.0000, 1.0000, 1.0000, 1.0000, 1.0000,\n",
      "        1.0000, 1.0000, 1.0000, 1.0000, 1.0000, 1.0000, 1.0000, 1.0000, 1.0000,\n",
      "        1.0000, 1.0000, 1.0000, 1.0000, 1.0000, 1.0000, 1.0000, 1.0000, 1.0000,\n",
      "        1.0000, 1.0000, 1.0000, 1.0000, 1.0000, 1.0000, 1.0000, 1.0000, 1.0000,\n",
      "        1.0000, 1.0000, 1.0000, 1.0000, 1.0000, 1.0000, 1.0000, 1.0000, 1.0000,\n",
      "        1.0000, 1.0000, 1.0000, 1.0000, 1.0000, 1.0000, 1.0000, 1.0000, 1.0000,\n",
      "        1.0000, 1.0000, 1.0000, 1.0000, 1.0000, 1.0000, 1.0000, 1.0000, 1.0000,\n",
      "        1.0000, 1.0000, 1.0000, 1.0000, 1.0000, 1.0000, 1.0000, 1.0000, 1.0000,\n",
      "        1.0000, 1.0000, 1.0000, 1.0000, 1.0000, 1.0000, 1.0000, 1.0000, 1.0000,\n",
      "        1.0000, 1.0000, 1.0000, 1.0000, 1.0000, 1.0000, 1.0000, 1.0000, 1.0000,\n",
      "        1.0000, 1.0000, 1.0000, 1.0000, 1.0000, 1.0000, 1.0000, 1.0000, 1.0000,\n",
      "        1.0000, 1.0000, 1.0000, 1.0000, 1.0000, 1.0000, 1.0000, 1.0000, 1.0000,\n",
      "        1.0000, 1.0000, 1.0000, 1.0000, 1.0000, 1.0000, 1.0000, 1.0000, 1.0000,\n",
      "        1.0000, 1.0000, 1.0000, 1.0000, 1.0000, 1.0000, 1.0000, 1.0000, 1.0000,\n",
      "        1.0000, 1.0000, 1.0000, 1.0000, 1.0000, 1.0000, 1.0000, 1.0000, 1.0000,\n",
      "        1.0000, 1.0000, 1.0000, 1.0000, 1.0000, 1.0000, 1.0000, 1.0000, 1.0000,\n",
      "        1.0000, 1.0000, 1.0000, 1.0000, 1.0000, 1.0000, 1.0000, 1.0000, 1.0000,\n",
      "        1.0000, 1.0000, 1.0000, 1.0000, 1.0000, 1.0000, 1.0000, 1.0000, 1.0000,\n",
      "        1.0000, 1.0000, 1.0000, 1.0000, 1.0000, 1.0000, 1.0000, 1.0000, 1.0000,\n",
      "        1.0000, 1.0000, 1.0000, 1.0000, 1.0000, 1.0000, 1.0000, 1.0000, 1.0000,\n",
      "        1.0000, 1.0000, 1.0000, 1.0000, 1.0000, 1.0000, 1.0000, 1.0000, 1.0000,\n",
      "        1.0000, 1.0000, 1.0000, 1.0000, 1.0000, 1.0000, 1.0000, 1.0000, 1.0000,\n",
      "        1.0000, 1.0000, 1.0000, 1.0000, 1.0000, 1.0000, 1.0000, 1.0000, 1.0000,\n",
      "        1.0000, 1.0000, 1.0000, 1.0000, 1.0000, 1.0000, 1.0000, 1.0000, 1.0000,\n",
      "        1.0000, 1.0000, 1.0000, 1.0000, 1.0000, 1.0000, 1.0000, 1.0000, 1.0000,\n",
      "        1.0000, 1.0000, 1.0000, 1.0000, 1.0000, 1.0000, 1.0000, 1.0000, 1.0000,\n",
      "        1.0000, 1.0000, 1.0000, 1.0000, 1.0000, 1.0000, 1.0000, 1.0000, 1.0000,\n",
      "        1.0000, 1.0000, 1.0000, 1.0000, 1.0000, 1.0000, 1.0000, 1.0000, 1.0000,\n",
      "        1.0000, 1.0000, 1.0000, 1.0000, 1.0000, 1.0000, 1.0000, 1.0000, 1.0000,\n",
      "        1.0000, 1.0000, 1.0000, 1.0000, 1.0000, 1.0000, 1.0000, 1.0000, 1.0000,\n",
      "        1.0000, 1.0000, 1.0000, 1.0000, 1.0000, 1.0000, 1.0000, 1.0000, 1.0000,\n",
      "        1.0000, 1.0000, 1.0000, 1.0000, 1.0000, 1.0000, 1.0000, 1.0000, 1.0000,\n",
      "        1.0000, 1.0000, 1.0000, 1.0000, 1.0000, 1.0000, 1.0000, 1.0000, 1.0000,\n",
      "        1.0000, 1.0000, 1.0000, 1.0000, 1.0000, 1.0000, 1.0000, 1.0000, 1.0000,\n",
      "        1.0000, 1.0000, 1.0000, 1.0000, 1.0000, 1.0000, 1.0000, 1.0000, 1.0000,\n",
      "        1.0000, 1.0000, 1.0000, 1.0000, 1.0000, 1.0000, 1.0000, 1.0000, 1.0000,\n",
      "        1.0000, 1.0000, 1.0000, 1.0000, 1.0000, 1.0000, 1.0000, 1.0000, 1.0000,\n",
      "        1.0000, 1.0000, 1.0000, 1.0000, 1.0000, 1.0000, 1.0000, 1.0000, 1.0000,\n",
      "        1.0000, 1.0000, 1.0000, 1.0000, 1.0000, 1.0000, 1.0000, 1.0000, 1.0000,\n",
      "        1.0000, 1.0000, 1.0000, 1.0000, 1.0000, 1.0000, 1.0000, 1.0000, 1.0000,\n",
      "        1.0000, 1.0000, 1.0000, 1.0000, 1.0000, 1.0000, 1.0000, 1.0000, 1.0000,\n",
      "        1.0000, 1.0000, 1.0000, 1.0000, 1.0000, 1.0000, 1.0000, 1.0000, 1.0000,\n",
      "        1.0000, 1.0000, 1.0000, 1.0000, 1.0000, 1.0000, 1.0000, 1.0000, 1.0000,\n",
      "        1.0000, 1.0000, 1.0000, 1.0000, 1.0000, 1.0000, 1.0000, 1.0000, 1.0000,\n",
      "        1.0000, 1.0000, 1.0000, 1.0000, 1.0000, 1.0000, 1.0000, 1.0000, 1.0000,\n",
      "        1.0000, 1.0000, 1.0000, 1.0000, 1.0000, 1.0000, 1.0000, 1.0000, 1.0000,\n",
      "        1.0000, 1.0000, 1.0000, 1.0000, 1.0000, 1.0000, 1.0000, 1.0000, 1.0000,\n",
      "        1.0000, 1.0000, 1.0000, 1.0000, 1.0000, 1.0000, 1.0000, 1.0000, 1.0000,\n",
      "        1.0000, 1.0000, 1.0000, 1.0000, 1.0000, 1.0000, 1.0000, 1.0000, 1.0000,\n",
      "        1.0000, 1.0000, 1.0000, 1.0000, 1.0000, 1.0000, 1.0000, 1.0000, 1.0000,\n",
      "        1.0000, 1.0000, 1.0000, 1.0000, 1.0000, 1.0000, 1.0000, 1.0000, 1.0000,\n",
      "        1.0000, 1.0000, 1.0000, 1.0000, 1.0000, 1.0000, 1.0000, 1.0000, 1.0000,\n",
      "        1.0000, 1.0000, 1.0000, 1.0000, 1.0000, 1.0000, 1.0000, 1.0000, 1.0000,\n",
      "        1.0000, 1.0000, 1.0000, 1.0000, 1.0000, 1.0000, 1.0000, 1.0000, 1.0000,\n",
      "        1.0000, 1.0000, 1.0000, 1.0000, 1.0000, 1.0000, 1.0000, 1.0000, 1.0000,\n",
      "        1.0000, 1.0000, 1.0000, 1.0000, 1.0000, 1.0000, 1.0000, 1.0000, 1.0000,\n",
      "        1.0000, 1.0000, 1.0000, 1.0000, 1.0000, 1.0000, 1.0000, 1.0000, 1.0000,\n",
      "        1.0000, 1.0000, 1.0000, 1.0000, 1.0000, 1.0000, 1.0000, 1.0000, 1.0000,\n",
      "        1.0000, 1.0000, 1.0000, 1.0000, 1.0000, 1.0000, 1.0000, 1.0000, 1.0000,\n",
      "        1.0000, 1.0000, 1.0000, 1.0000, 1.0000, 1.0000, 1.0000, 1.0000, 1.0000,\n",
      "        1.0000, 1.0000, 1.0000], device='cuda:0', grad_fn=<SqueezeBackward1>)\n"
     ]
    },
    {
     "name": "stdout",
     "output_type": "stream",
     "text": [
      "Loss = 0.121128,Accuracy_value = 0.989624,Accuracy_instance = 0.050000\n",
      "Label_One_Predict_One = 0.764141,Predict_One_Label_One = 0.836684,Nombre_Predict_One = 31.900000,Nombre_One_Mean = 35.100000\n",
      "Label_Zero_Predict_Zero = 0.996002,Label_Zero_Predict_Zero = 0.993348,Nombre_Predict_Zero = 1200.350000,Nombre_Zero_Mean = 1197.150000\n",
      "Accuracy_fixe_mean = 0.997513,Accuracy_fixe_one = 0.949699,Accuracy_fixe_zero = 0.998030\n",
      "\n"
     ]
    },
    {
     "data": {
      "text/plain": [
       "('Loss = 0.121128,Accuracy_value = 0.989624,Accuracy_instance = 0.050000\\nLabel_One_Predict_One = 0.764141,Predict_One_Label_One = 0.836684,Nombre_Predict_One = 31.900000,Nombre_One_Mean = 35.100000\\nLabel_Zero_Predict_Zero = 0.996002,Label_Zero_Predict_Zero = 0.993348,Nombre_Predict_Zero = 1200.350000,Nombre_Zero_Mean = 1197.150000\\nAccuracy_fixe_mean = 0.997513,Accuracy_fixe_one = 0.949699,Accuracy_fixe_zero = 0.998030\\n',\n",
       " 0.9896236559139787,\n",
       " 0.05,\n",
       " 0.9496994,\n",
       " 0.99802953,\n",
       " 0.83668363,\n",
       " 0.9933475)"
      ]
     },
     "execution_count": 17,
     "metadata": {},
     "output_type": "execute_result"
    }
   ],
   "source": [
    "train_name = \"CFL30_SL_0.75C_0.5Lambda_6MLP_50TailleH_1batch_size_layernorm+cat\"\n",
    "model_path = \"model/\"+train_name\n",
    "criterion = SelectiveLoss(C,lam)\n",
    "model = VariablePredictorDiving(24,50,6).to(device)\n",
    "model.load_state_dict(torch.load(model_path))\n",
    "valide(model,criterion,data_test_gpu,with_diving = True,proportion = 0.8)"
   ]
  },
  {
   "cell_type": "markdown",
   "metadata": {},
   "source": [
    "# Analyse\n"
   ]
  },
  {
   "cell_type": "code",
   "execution_count": 13,
   "metadata": {},
   "outputs": [],
   "source": [
    "def predict(model,data_validation):\n",
    "        predictions_values = []\n",
    "        is_predict_correct = []\n",
    "        data_size = len(data_validation)\n",
    "        y_hats = []\n",
    "        labels = []\n",
    "        for i in range(data_size):\n",
    "            if data_validation[0][0].device == \"cpu\":\n",
    "                inputs, label = torch.from_numpy(data_validation[i]['X']).float(),\\\n",
    "                                torch.from_numpy(data_validation[i]['Y']).type(torch.FloatTensor).float()\n",
    "                A = torch.from_numpy(data_validation[i]['A']).float()\n",
    "                inputs = inputs.to(device)\n",
    "                label = label.to(device)\n",
    "                A = A.to(device)\n",
    "            else:\n",
    "                inputs, label = data_validation[i][0],data_validation[i][1]\n",
    "                A =data_validation[i][2]\n",
    "                \n",
    "            predictions = model(inputs,A)[:len(label)].squeeze(dim=-1)\n",
    "            label = label.cpu()\n",
    "            predictions = predictions.cpu()\n",
    "            predictions_values.append(predictions)\n",
    "\n",
    "            aux= torch.Tensor([0.5])\n",
    "            y_hat = (predictions > aux).float() * 1\n",
    "            is_equal = torch.where(y_hat == label,1,0)\n",
    "            is_predict_correct.append(is_equal)\n",
    "            y_hats.append(y_hat)\n",
    "            labels.append(label)\n",
    "        return predictions_values,labels,y_hats,is_predict_correct\n",
    "\n",
    "def fixe_proportionally(predictions_values,labels,y_hat,is_predict_correct,proportion = 0.7): \n",
    "        hist_nb_one_fixe = []\n",
    "        hist_nb_zero_fixe = []\n",
    "        accuracy_fixe_one = []\n",
    "        accuracy_fixe_zero = []  \n",
    "        \n",
    "        data_size = len(predictions_values)\n",
    "        for i in range(data_size):\n",
    "            problem_size = len(y_hat[i])\n",
    "            nb_one_total = torch.sum(torch.where(labels[i] == 1,1,0))\n",
    "            nb_zero_total = (problem_size - nb_one_total)\n",
    "            aux= torch.Tensor([0.5])\n",
    "            predictions_norm =  np.abs(0.5 - predictions_values[i].detach().numpy())\n",
    "            thresholds = abs(np.sort(-predictions_norm))[int(proportion * problem_size)- 1]\n",
    "            nb_one_fixe = 0\n",
    "            nb_zero_fixe = 0\n",
    "            nb_correct_fixe_one = 0\n",
    "            nb_correct_fixe_zero = 0\n",
    "            nb_correct_fixe = 0\n",
    "            nb_fixe = 0 \n",
    "            for j,v in enumerate(is_predict_correct[i]):\n",
    "                if predictions_norm[j] >= thresholds:             \n",
    "                    if labels[i][j]:\n",
    "                        nb_correct_fixe_one += v\n",
    "                    else:\n",
    "                        nb_correct_fixe_zero += v\n",
    "                        \n",
    "                    if y_hat[i][j]:\n",
    "                        nb_one_fixe += 1\n",
    "                    else:\n",
    "                        nb_zero_fixe += 1\n",
    "            hist_nb_one_fixe.append(nb_one_fixe)\n",
    "            hist_nb_zero_fixe.append(nb_zero_fixe)\n",
    "            accuracy_fixe_one.append(nb_correct_fixe_one/nb_one_fixe if nb_one_fixe>0 else 0)\n",
    "            accuracy_fixe_zero.append(nb_correct_fixe_zero/nb_zero_fixe if nb_zero_fixe>0 else 0)\n",
    "        return np.mean(accuracy_fixe_one),np.mean(hist_nb_one_fixe),np.mean(accuracy_fixe_zero),np.mean(hist_nb_zero_fixe)\n",
    "    \n",
    "def fixe_one_epsilon(predictions_values,y_hats,labels,e = 0.01):\n",
    "    nbs_fixe = []\n",
    "    accs_fixe = []\n",
    "    props = []\n",
    "    data_size = len(data_validation)\n",
    "    thresholds = 1 - e\n",
    "    for i in range(data_size):\n",
    "        problem_size = len(labels[i])\n",
    "        nb_fixe = 0\n",
    "        nb_correct_fixe = 0\n",
    "        nb_one_total = torch.sum(torch.where(labels[i] == 1,1,0))\n",
    "        for j in range(problem_size):\n",
    "            if predictions[i][j] >= thresholds:  \n",
    "                nb_fixe += 1\n",
    "                if y_hats[i][j] and labels[i][j]:\n",
    "                    nb_correct_fixe += 1\n",
    "        nbs_fixe.append(nb_fixe)\n",
    "        accs_fixe.append(nb_correct_fixe/nb_fixe if nb_fixe > 0 else 0)        \n",
    "        props.append(nb_correct_fixe/nb_one_total)\n",
    "    return np.mean(accs_fixe),np.mean(nbs_fixe),np.mean(props)\n",
    "\n",
    "def get_cost_effective(data_instance):\n",
    "    features = data_instance[0]\n",
    "    labels = data_instance[1]\n",
    "    size = len(labels)\n",
    "    A=data_instance[2] \n",
    "    return [float(features[i][0]/sum(torch.where(A[i]==0,0,1))) for i in range(size)]\n",
    "\n",
    "\n",
    "\n",
    "    "
   ]
  },
  {
   "cell_type": "code",
   "execution_count": 218,
   "metadata": {},
   "outputs": [
    {
     "name": "stdout",
     "output_type": "stream",
     "text": [
      "Loss = 0.033526,Accuracy_value = 0.985000,Accuracy_instance = 0.000000\n",
      "Label_One_Predict_One = 0.800000,Predict_One_Label_One = 0.848485,Nombre_Predict_One = 33.000000,Nombre_One_Mean = 35.000000\n",
      "Label_Zero_Predict_Zero = 0.993464,Label_Zero_Predict_Zero = 0.990874,Nombre_Predict_Zero = 767.000000,Nombre_Zero_Mean = 765.000000\n",
      "Accuracy_fixe_mean = 0.985000,Accuracy_fixe_one = 0.848485,Accuracy_fixe_zero = 0.990874\n",
      "\n"
     ]
    }
   ],
   "source": [
    "_ = valide(net,criterion,[data_test_gpu[0]],proportion = 1)"
   ]
  },
  {
   "cell_type": "code",
   "execution_count": 15,
   "metadata": {},
   "outputs": [
    {
     "name": "stderr",
     "output_type": "stream",
     "text": [
      "100%|██████████████████████████████████████████████████████████████████████████████████| 45/45 [13:58<00:00, 18.63s/it]\n"
     ]
    }
   ],
   "source": [
    "prediction_mean = np.zeros((500))\n",
    "data_size = len(data_test_gpu)\n",
    "for i in tqdm(range(data_size)):\n",
    "    cost_effective = get_cost_effective(data_test_gpu[i])\n",
    "    aux_dict = {}\n",
    "    for j,v in enumerate(cost_effective):\n",
    "        aux_dict[j] = v\n",
    "    aux_dict = sorted(aux_dict.items(), key = lambda kv:(kv[1], kv[0]))\n",
    "    inputs, label = data_test_gpu[i][0],data_test_gpu[i][1]\n",
    "    A =data_test_gpu[i][2]\n",
    "\n",
    "    predictions = net(inputs,A)[:len(label)].squeeze(dim=-1)\n",
    "    label = label.cpu()\n",
    "    predictions = predictions.cpu()\n",
    "\n",
    "    cost_effective_reorder = []\n",
    "    predictions_reorder=[]\n",
    "    for idx in range(len(prediction_mean)):\n",
    "        prediction_mean[idx]+=float(predictions[aux_dict[idx][0]])\n"
   ]
  },
  {
   "cell_type": "code",
   "execution_count": 21,
   "metadata": {},
   "outputs": [],
   "source": [
    "A = A.cpu().numpy()"
   ]
  },
  {
   "cell_type": "code",
   "execution_count": 63,
   "metadata": {},
   "outputs": [
    {
     "name": "stdout",
     "output_type": "stream",
     "text": [
      "[[ 0.          0.          0.         ...  0.          0.\n",
      "   0.        ]\n",
      " [ 0.          0.          0.         ...  0.          0.\n",
      "  -0.04981355]\n",
      " [ 0.          0.          0.         ... -0.05234239  0.\n",
      "   0.        ]\n",
      " ...\n",
      " [ 0.          0.          0.         ...  0.          0.\n",
      "   0.        ]\n",
      " [ 0.          0.          0.         ...  0.          0.\n",
      "   0.        ]\n",
      " [ 0.          0.          0.         ...  0.          0.\n",
      "   0.        ]]\n"
     ]
    }
   ],
   "source": [
    "size = int(A.shape[0]/2)\n",
    "print(A[:size,size:])"
   ]
  },
  {
   "cell_type": "code",
   "execution_count": 164,
   "metadata": {},
   "outputs": [],
   "source": [
    "score = get_cost_effective(data_test_gpu[0])"
   ]
  },
  {
   "cell_type": "code",
   "execution_count": 16,
   "metadata": {},
   "outputs": [],
   "source": [
    "def heuristique(score,A):\n",
    "    size = len(score)\n",
    "    size_cons = A.shape[0] - size\n",
    "    A = A.cpu().numpy()[:size,size_cons:]\n",
    "    solution = np.zeros((size))\n",
    "    nb_cover_original = [len(np.where(A[i]==0)[0])for i in range(size)]\n",
    "    while len(A[0]) > 0:\n",
    "        nb_cover = [len(np.where(A[i]!=0)[0]) for i in range(size)]\n",
    "        i_max = 0\n",
    "        v_max = 0\n",
    "        for i,v in enumerate(score):\n",
    "            aux = v * nb_cover[i] / nb_cover_original[i]\n",
    "            if aux > v_max :\n",
    "                i_max = i\n",
    "                v_max = aux\n",
    "        solution[i_max] = 1\n",
    "        for i_cons in np.where(A[i_max]!=0)[0][::-1]:\n",
    "            A = np.delete(A, i_cons, axis=1)\n",
    "    return solution"
   ]
  },
  {
   "cell_type": "code",
   "execution_count": 14,
   "metadata": {},
   "outputs": [
    {
     "data": {
      "text/plain": [
       "<All keys matched successfully>"
      ]
     },
     "execution_count": 14,
     "metadata": {},
     "output_type": "execute_result"
    }
   ],
   "source": [
    "train_name = \"SC1000_BCE_3MLP_50TailleH_1batch_size_layernorm+cat\"\n",
    "model_path = \"model/\"+train_name\n",
    "criterion = nn.BCELoss()\n",
    "net = VariablePredictor(24,50,3).to(device)\n",
    "net.load_state_dict(torch.load(model_path))\n"
   ]
  },
  {
   "cell_type": "code",
   "execution_count": null,
   "metadata": {},
   "outputs": [],
   "source": [
    "valide(net,criterion,data_test_gpu,proportion = 0.8)"
   ]
  },
  {
   "cell_type": "code",
   "execution_count": 18,
   "metadata": {},
   "outputs": [
    {
     "name": "stderr",
     "output_type": "stream",
     "text": [
      "\r",
      "  0%|                                                                                           | 0/45 [00:00<?, ?it/s]"
     ]
    },
    {
     "name": "stdout",
     "output_type": "stream",
     "text": [
      "1000\n",
      "1000\n"
     ]
    },
    {
     "name": "stderr",
     "output_type": "stream",
     "text": [
      "\r",
      "  2%|█▊                                                                                 | 1/45 [00:03<02:55,  3.99s/it]"
     ]
    },
    {
     "name": "stdout",
     "output_type": "stream",
     "text": [
      "1000 1000\n",
      "1000 1000\n",
      "1000\n",
      "800\n"
     ]
    },
    {
     "name": "stderr",
     "output_type": "stream",
     "text": [
      "\r",
      "  4%|███▋                                                                               | 2/45 [00:08<03:15,  4.54s/it]"
     ]
    },
    {
     "name": "stdout",
     "output_type": "stream",
     "text": [
      "800 800\n",
      "800 800\n",
      "800\n",
      "1000\n"
     ]
    },
    {
     "name": "stderr",
     "output_type": "stream",
     "text": [
      "\r",
      "  7%|█████▌                                                                             | 3/45 [00:12<02:50,  4.05s/it]"
     ]
    },
    {
     "name": "stdout",
     "output_type": "stream",
     "text": [
      "1000 1000\n",
      "1000 1000\n",
      "1000\n",
      "500\n"
     ]
    },
    {
     "name": "stderr",
     "output_type": "stream",
     "text": [
      "\r",
      "  9%|███████▍                                                                           | 4/45 [00:14<02:15,  3.31s/it]"
     ]
    },
    {
     "name": "stdout",
     "output_type": "stream",
     "text": [
      "500 500\n",
      "500 500\n",
      "500\n",
      "1200\n"
     ]
    },
    {
     "name": "stderr",
     "output_type": "stream",
     "text": [
      "\r",
      " 11%|█████████▏                                                                         | 5/45 [00:48<09:38, 14.46s/it]"
     ]
    },
    {
     "name": "stdout",
     "output_type": "stream",
     "text": [
      "1200 1200\n",
      "1200 1200\n",
      "1200\n",
      "800\n"
     ]
    },
    {
     "name": "stderr",
     "output_type": "stream",
     "text": [
      "\r",
      " 13%|███████████                                                                        | 6/45 [00:53<07:08, 10.99s/it]"
     ]
    },
    {
     "name": "stdout",
     "output_type": "stream",
     "text": [
      "800 800\n",
      "800 800\n",
      "800\n",
      "1200\n"
     ]
    },
    {
     "name": "stderr",
     "output_type": "stream",
     "text": [
      "\r",
      " 16%|████████████▉                                                                      | 7/45 [01:25<11:29, 18.13s/it]"
     ]
    },
    {
     "name": "stdout",
     "output_type": "stream",
     "text": [
      "1200 1200\n",
      "1200 1200\n",
      "1200\n",
      "1000\n"
     ]
    },
    {
     "name": "stderr",
     "output_type": "stream",
     "text": [
      "\r",
      " 18%|██████████████▊                                                                    | 8/45 [01:28<08:11, 13.28s/it]"
     ]
    },
    {
     "name": "stdout",
     "output_type": "stream",
     "text": [
      "1000 1000\n",
      "1000 1000\n",
      "1000\n",
      "1000\n"
     ]
    },
    {
     "name": "stderr",
     "output_type": "stream",
     "text": [
      "\r",
      " 20%|████████████████▌                                                                  | 9/45 [01:31<05:58,  9.97s/it]"
     ]
    },
    {
     "name": "stdout",
     "output_type": "stream",
     "text": [
      "1000 1000\n",
      "1000 1000\n",
      "1000\n",
      "1000\n"
     ]
    },
    {
     "name": "stderr",
     "output_type": "stream",
     "text": [
      "\r",
      " 22%|██████████████████▏                                                               | 10/45 [01:35<04:41,  8.05s/it]"
     ]
    },
    {
     "name": "stdout",
     "output_type": "stream",
     "text": [
      "1000 1000\n",
      "1000 1000\n",
      "1000\n",
      "800\n"
     ]
    },
    {
     "name": "stderr",
     "output_type": "stream",
     "text": [
      "\r",
      " 24%|████████████████████                                                              | 11/45 [01:37<03:37,  6.39s/it]"
     ]
    },
    {
     "name": "stdout",
     "output_type": "stream",
     "text": [
      "800 800\n",
      "800 800\n",
      "800\n",
      "500\n"
     ]
    },
    {
     "name": "stderr",
     "output_type": "stream",
     "text": [
      "\r",
      " 27%|█████████████████████▊                                                            | 12/45 [01:39<02:40,  4.87s/it]"
     ]
    },
    {
     "name": "stdout",
     "output_type": "stream",
     "text": [
      "500 500\n",
      "500 500\n",
      "500\n",
      "1000\n"
     ]
    },
    {
     "name": "stderr",
     "output_type": "stream",
     "text": [
      "\r",
      " 29%|███████████████████████▋                                                          | 13/45 [01:42<02:17,  4.29s/it]"
     ]
    },
    {
     "name": "stdout",
     "output_type": "stream",
     "text": [
      "1000 1000\n",
      "1000 1000\n",
      "1000\n",
      "800\n"
     ]
    },
    {
     "name": "stderr",
     "output_type": "stream",
     "text": [
      "\r",
      " 31%|█████████████████████████▌                                                        | 14/45 [01:46<02:17,  4.42s/it]"
     ]
    },
    {
     "name": "stdout",
     "output_type": "stream",
     "text": [
      "800 800\n",
      "800 800\n",
      "800\n",
      "800\n"
     ]
    },
    {
     "name": "stderr",
     "output_type": "stream",
     "text": [
      "\r",
      " 33%|███████████████████████████▎                                                      | 15/45 [01:49<01:56,  3.88s/it]"
     ]
    },
    {
     "name": "stdout",
     "output_type": "stream",
     "text": [
      "800 800\n",
      "800 800\n",
      "800\n",
      "1000\n"
     ]
    },
    {
     "name": "stderr",
     "output_type": "stream",
     "text": [
      "\r",
      " 36%|█████████████████████████████▏                                                    | 16/45 [01:55<02:12,  4.56s/it]"
     ]
    },
    {
     "name": "stdout",
     "output_type": "stream",
     "text": [
      "1000 1000\n",
      "1000 1000\n",
      "1000\n",
      "1200\n"
     ]
    },
    {
     "name": "stderr",
     "output_type": "stream",
     "text": [
      "\r",
      " 38%|██████████████████████████████▉                                                   | 17/45 [02:32<06:42, 14.38s/it]"
     ]
    },
    {
     "name": "stdout",
     "output_type": "stream",
     "text": [
      "1200 1200\n",
      "1200 1200\n",
      "1200\n",
      "1200\n"
     ]
    },
    {
     "name": "stderr",
     "output_type": "stream",
     "text": [
      "\r",
      " 40%|████████████████████████████████▊                                                 | 18/45 [03:08<09:16, 20.62s/it]"
     ]
    },
    {
     "name": "stdout",
     "output_type": "stream",
     "text": [
      "1200 1200\n",
      "1200 1200\n",
      "1200\n",
      "800\n"
     ]
    },
    {
     "name": "stderr",
     "output_type": "stream",
     "text": [
      "\r",
      " 42%|██████████████████████████████████▌                                               | 19/45 [03:10<06:34, 15.18s/it]"
     ]
    },
    {
     "name": "stdout",
     "output_type": "stream",
     "text": [
      "800 800\n",
      "800 800\n",
      "800\n",
      "1000\n"
     ]
    },
    {
     "name": "stderr",
     "output_type": "stream",
     "text": [
      "\r",
      " 44%|████████████████████████████████████▍                                             | 20/45 [03:14<04:55, 11.80s/it]"
     ]
    },
    {
     "name": "stdout",
     "output_type": "stream",
     "text": [
      "1000 1000\n",
      "1000 1000\n",
      "1000\n",
      "1000\n"
     ]
    },
    {
     "name": "stderr",
     "output_type": "stream",
     "text": [
      "\r",
      " 47%|██████████████████████████████████████▎                                           | 21/45 [03:20<04:00, 10.00s/it]"
     ]
    },
    {
     "name": "stdout",
     "output_type": "stream",
     "text": [
      "1000 1000\n",
      "1000 1000\n",
      "1000\n",
      "500\n"
     ]
    },
    {
     "name": "stderr",
     "output_type": "stream",
     "text": [
      "\r",
      " 49%|████████████████████████████████████████                                          | 22/45 [03:21<02:52,  7.51s/it]"
     ]
    },
    {
     "name": "stdout",
     "output_type": "stream",
     "text": [
      "500 500\n",
      "500 500\n",
      "500\n",
      "800\n"
     ]
    },
    {
     "name": "stderr",
     "output_type": "stream",
     "text": [
      "\r",
      " 51%|█████████████████████████████████████████▉                                        | 23/45 [03:24<02:14,  6.10s/it]"
     ]
    },
    {
     "name": "stdout",
     "output_type": "stream",
     "text": [
      "800 800\n",
      "800 800\n",
      "800\n",
      "800\n"
     ]
    },
    {
     "name": "stderr",
     "output_type": "stream",
     "text": [
      "\r",
      " 53%|███████████████████████████████████████████▋                                      | 24/45 [03:27<01:46,  5.06s/it]"
     ]
    },
    {
     "name": "stdout",
     "output_type": "stream",
     "text": [
      "800 800\n",
      "800 800\n",
      "800\n",
      "1000\n"
     ]
    },
    {
     "name": "stderr",
     "output_type": "stream",
     "text": [
      "\r",
      " 56%|█████████████████████████████████████████████▌                                    | 25/45 [03:33<01:49,  5.46s/it]"
     ]
    },
    {
     "name": "stdout",
     "output_type": "stream",
     "text": [
      "1000 1000\n",
      "1000 1000\n",
      "1000\n",
      "1000\n"
     ]
    },
    {
     "name": "stderr",
     "output_type": "stream",
     "text": [
      "\r",
      " 58%|███████████████████████████████████████████████▍                                  | 26/45 [03:39<01:47,  5.67s/it]"
     ]
    },
    {
     "name": "stdout",
     "output_type": "stream",
     "text": [
      "1000 1000\n",
      "1000 1000\n",
      "1000\n",
      "1200\n"
     ]
    },
    {
     "name": "stderr",
     "output_type": "stream",
     "text": [
      "\r",
      " 60%|█████████████████████████████████████████████████▏                                | 27/45 [04:14<04:16, 14.23s/it]"
     ]
    },
    {
     "name": "stdout",
     "output_type": "stream",
     "text": [
      "1200 1200\n",
      "1200 1200\n",
      "1200\n",
      "1200\n"
     ]
    },
    {
     "name": "stderr",
     "output_type": "stream",
     "text": [
      "\r",
      " 62%|███████████████████████████████████████████████████                               | 28/45 [04:49<05:47, 20.45s/it]"
     ]
    },
    {
     "name": "stdout",
     "output_type": "stream",
     "text": [
      "1200 1200\n",
      "1200 1200\n",
      "1200\n",
      "1000\n"
     ]
    },
    {
     "name": "stderr",
     "output_type": "stream",
     "text": [
      "\r",
      " 64%|████████████████████████████████████████████████████▊                             | 29/45 [04:52<04:07, 15.47s/it]"
     ]
    },
    {
     "name": "stdout",
     "output_type": "stream",
     "text": [
      "1000 1000\n",
      "1000 1000\n",
      "1000\n",
      "500\n"
     ]
    },
    {
     "name": "stderr",
     "output_type": "stream",
     "text": [
      "\r",
      " 67%|██████████████████████████████████████████████████████▋                           | 30/45 [04:54<02:49, 11.30s/it]"
     ]
    },
    {
     "name": "stdout",
     "output_type": "stream",
     "text": [
      "500 500\n",
      "500 500\n",
      "500\n",
      "1000\n"
     ]
    },
    {
     "name": "stderr",
     "output_type": "stream",
     "text": [
      "\r",
      " 69%|████████████████████████████████████████████████████████▍                         | 31/45 [04:57<02:04,  8.87s/it]"
     ]
    },
    {
     "name": "stdout",
     "output_type": "stream",
     "text": [
      "1000 1000\n",
      "1000 1000\n",
      "1000\n",
      "500\n"
     ]
    },
    {
     "name": "stderr",
     "output_type": "stream",
     "text": [
      "\r",
      " 71%|██████████████████████████████████████████████████████████▎                       | 32/45 [04:59<01:26,  6.67s/it]"
     ]
    },
    {
     "name": "stdout",
     "output_type": "stream",
     "text": [
      "500 500\n",
      "500 500\n",
      "500\n",
      "1000\n"
     ]
    },
    {
     "name": "stderr",
     "output_type": "stream",
     "text": [
      "\r",
      " 73%|████████████████████████████████████████████████████████████▏                     | 33/45 [05:02<01:07,  5.61s/it]"
     ]
    },
    {
     "name": "stdout",
     "output_type": "stream",
     "text": [
      "1000 1000\n",
      "1000 1000\n",
      "1000\n",
      "1000\n"
     ]
    },
    {
     "name": "stderr",
     "output_type": "stream",
     "text": [
      "\r",
      " 76%|█████████████████████████████████████████████████████████████▉                    | 34/45 [05:06<00:56,  5.14s/it]"
     ]
    },
    {
     "name": "stdout",
     "output_type": "stream",
     "text": [
      "1000 1000\n",
      "1000 1000\n",
      "1000\n",
      "500\n"
     ]
    },
    {
     "name": "stderr",
     "output_type": "stream",
     "text": [
      "\r",
      " 78%|███████████████████████████████████████████████████████████████▊                  | 35/45 [05:07<00:40,  4.05s/it]"
     ]
    },
    {
     "name": "stdout",
     "output_type": "stream",
     "text": [
      "500 500\n",
      "500 500\n",
      "500\n",
      "500\n"
     ]
    },
    {
     "name": "stderr",
     "output_type": "stream",
     "text": [
      "\r",
      " 80%|█████████████████████████████████████████████████████████████████▌                | 36/45 [05:10<00:32,  3.61s/it]"
     ]
    },
    {
     "name": "stdout",
     "output_type": "stream",
     "text": [
      "500 500\n",
      "500 500\n",
      "500\n",
      "1200\n"
     ]
    },
    {
     "name": "stderr",
     "output_type": "stream",
     "text": [
      "\r",
      " 82%|███████████████████████████████████████████████████████████████████▍              | 37/45 [05:47<01:49, 13.67s/it]"
     ]
    },
    {
     "name": "stdout",
     "output_type": "stream",
     "text": [
      "1200 1200\n",
      "1200 1200\n",
      "1200\n",
      "1000\n"
     ]
    },
    {
     "name": "stderr",
     "output_type": "stream",
     "text": [
      "\r",
      " 84%|█████████████████████████████████████████████████████████████████████▏            | 38/45 [05:51<01:13, 10.56s/it]"
     ]
    },
    {
     "name": "stdout",
     "output_type": "stream",
     "text": [
      "1000 1000\n",
      "1000 1000\n",
      "1000\n",
      "1000\n"
     ]
    },
    {
     "name": "stderr",
     "output_type": "stream",
     "text": [
      "\r",
      " 87%|███████████████████████████████████████████████████████████████████████           | 39/45 [05:54<00:49,  8.30s/it]"
     ]
    },
    {
     "name": "stdout",
     "output_type": "stream",
     "text": [
      "1000 1000\n",
      "1000 1000\n",
      "1000\n",
      "800\n"
     ]
    },
    {
     "name": "stderr",
     "output_type": "stream",
     "text": [
      "\r",
      " 89%|████████████████████████████████████████████████████████████████████████▉         | 40/45 [05:56<00:33,  6.62s/it]"
     ]
    },
    {
     "name": "stdout",
     "output_type": "stream",
     "text": [
      "800 800\n",
      "800 800\n",
      "800\n",
      "800\n"
     ]
    },
    {
     "name": "stderr",
     "output_type": "stream",
     "text": [
      "\r",
      " 91%|██████████████████████████████████████████████████████████████████████████▋       | 41/45 [05:59<00:22,  5.55s/it]"
     ]
    },
    {
     "name": "stdout",
     "output_type": "stream",
     "text": [
      "800 800\n",
      "800 800\n",
      "800\n",
      "800\n"
     ]
    },
    {
     "name": "stderr",
     "output_type": "stream",
     "text": [
      "\r",
      " 93%|████████████████████████████████████████████████████████████████████████████▌     | 42/45 [06:03<00:15,  5.11s/it]"
     ]
    },
    {
     "name": "stdout",
     "output_type": "stream",
     "text": [
      "800 800\n",
      "800 800\n",
      "800\n",
      "500\n"
     ]
    },
    {
     "name": "stderr",
     "output_type": "stream",
     "text": [
      "\r",
      " 96%|██████████████████████████████████████████████████████████████████████████████▎   | 43/45 [06:06<00:08,  4.48s/it]"
     ]
    },
    {
     "name": "stdout",
     "output_type": "stream",
     "text": [
      "500 500\n",
      "500 500\n",
      "500\n",
      "1200\n"
     ]
    },
    {
     "name": "stderr",
     "output_type": "stream",
     "text": [
      "\r",
      " 98%|████████████████████████████████████████████████████████████████████████████████▏ | 44/45 [06:44<00:14, 14.35s/it]"
     ]
    },
    {
     "name": "stdout",
     "output_type": "stream",
     "text": [
      "1200 1200\n",
      "1200 1200\n",
      "1200\n",
      "500\n"
     ]
    },
    {
     "name": "stderr",
     "output_type": "stream",
     "text": [
      "100%|██████████████████████████████████████████████████████████████████████████████████| 45/45 [06:45<00:00,  9.01s/it]"
     ]
    },
    {
     "name": "stdout",
     "output_type": "stream",
     "text": [
      "500 500\n",
      "500 500\n"
     ]
    },
    {
     "name": "stderr",
     "output_type": "stream",
     "text": [
      "\n"
     ]
    }
   ],
   "source": [
    "data_size = len(data_test_gpu)\n",
    "# nb_corrects = [[],[],[]]\n",
    "nb_corrects = [[],[]]\n",
    "accs = [[],[],[]]\n",
    "for i in tqdm(range(data_size)):\n",
    "    predictions = net(data_test_gpu[i][0],data_test_gpu[i][2]).squeeze(dim=-1)[:len(data_test_gpu[i][1])]\n",
    "    aux= torch.Tensor([0.5]).to(device)\n",
    "    y_hat = (predictions > aux).float() * 1\n",
    "    res_gcn = y_hat.cpu().numpy()\n",
    "\n",
    "#     score = get_cost_effective(data_test_gpu[i])\n",
    "#     res_coute = heuristique(score,data_test_gpu[i][2])\n",
    "\n",
    "    res_prect = heuristique(predictions,data_test_gpu[i][2])\n",
    "\n",
    "    labels = data_test_gpu[i][1].cpu().numpy()\n",
    "    # print(np.where(res_coute==1),np.where(res_gcn==1),np.where(labels==1),np.where(res_prect==1))\n",
    "    for k,res in enumerate([res_gcn,res_prect]):##,res_coute]):\n",
    "        print(len(res_gcn),len(res_prect))#,len(res_coute))\n",
    "        nb_corret = 0\n",
    "        for j,v in enumerate(res):\n",
    "            nb_corret += int(v == labels[j] and v == 1)\n",
    "        nb_corrects[k].append(nb_corret)\n",
    "        accs[k].append(nb_corret/len(np.where(res==1)[0]))\n",
    "for i in accs:\n",
    "    print(np.mean(i))"
   ]
  },
  {
   "cell_type": "code",
   "execution_count": 19,
   "metadata": {},
   "outputs": [
    {
     "name": "stdout",
     "output_type": "stream",
     "text": [
      "0.9059759455721788\n",
      "0.6178941455705121\n",
      "nan\n"
     ]
    },
    {
     "name": "stderr",
     "output_type": "stream",
     "text": [
      "C:\\Users\\Leonaire\\anaconda3\\lib\\site-packages\\numpy\\core\\fromnumeric.py:3474: RuntimeWarning: Mean of empty slice.\n",
      "  return _methods._mean(a, axis=axis, dtype=dtype,\n",
      "C:\\Users\\Leonaire\\anaconda3\\lib\\site-packages\\numpy\\core\\_methods.py:189: RuntimeWarning: invalid value encountered in double_scalars\n",
      "  ret = ret.dtype.type(ret / rcount)\n"
     ]
    }
   ],
   "source": []
  },
  {
   "cell_type": "code",
   "execution_count": 22,
   "metadata": {},
   "outputs": [],
   "source": [
    "predictions = net(data_test_gpu[0][0],data_test_gpu[0][2]).squeeze(dim=-1)[:len(data_test_gpu[0][1])]\n",
    "aux= torch.Tensor([0.5]).to(device)\n",
    "y_hat = (predictions > aux).float() * 1\n",
    "solu0 = y_hat.cpu().numpy()\n",
    "A0 = data_test_gpu[0][2]"
   ]
  },
  {
   "cell_type": "code",
   "execution_count": 36,
   "metadata": {},
   "outputs": [],
   "source": [
    "def is_realisable(solu,A):\n",
    "    size_var = len(solu)\n",
    "    size_cons = A.shape[0] - size_var\n",
    "    A = A.cpu().numpy()[:size_var,size_cons:]\n",
    "#     print(solu,A)\n",
    "    for i,v in enumerate(solu):\n",
    "        if v:\n",
    "#             print(len(np.where(A[i]!=0)[0]))\n",
    "            for i_cons in np.where(A[i]!=0)[0][::-1]:\n",
    "                A = np.delete(A, i_cons, axis=1)\n",
    "    return A.shape[1]"
   ]
  },
  {
   "cell_type": "code",
   "execution_count": 37,
   "metadata": {},
   "outputs": [
    {
     "name": "stderr",
     "output_type": "stream",
     "text": [
      "100%|██████████████████████████████████████████████████████████████████████████████████| 45/45 [00:26<00:00,  1.69it/s]"
     ]
    },
    {
     "name": "stdout",
     "output_type": "stream",
     "text": [
      "[9, 24, 11, 9, 213, 20, 212, 14, 6, 18, 7, 6, 10, 26, 10, 22, 232, 227, 8, 22, 19, 10, 13, 10, 27, 26, 202, 207, 9, 9, 19, 7, 13, 23, 10, 14, 213, 10, 9, 13, 13, 19, 13, 213, 5]\n"
     ]
    },
    {
     "name": "stderr",
     "output_type": "stream",
     "text": [
      "\n"
     ]
    }
   ],
   "source": [
    "nb_cons_reste = []\n",
    "for i in tqdm(range(data_size)):\n",
    "    predictions = net(data_test_gpu[i][0],data_test_gpu[i][2]).squeeze(dim=-1)[:len(data_test_gpu[i][1])]\n",
    "    aux= torch.Tensor([0.5]).to(device)\n",
    "    y_hat = (predictions > aux).float() * 1\n",
    "    solu = y_hat.cpu().numpy()\n",
    "    A = data_test_gpu[i][2]\n",
    "    nb_cons_reste.append(is_realisable(solu,A))\n",
    "print(nb_cons_reste)"
   ]
  },
  {
   "cell_type": "code",
   "execution_count": 68,
   "metadata": {},
   "outputs": [
    {
     "name": "stdout",
     "output_type": "stream",
     "text": [
      "(array([0, 2, 3], dtype=int64),)\n"
     ]
    }
   ],
   "source": [
    "aux=np.array([[1,0,5,6],[0,1,8,4],[6,3,1,0],[7,3,0,1]])\n",
    "print(np.where(aux[0]!=0))"
   ]
  },
  {
   "cell_type": "code",
   "execution_count": 16,
   "metadata": {},
   "outputs": [
    {
     "data": {
      "image/png": "[encoded data removed]",
      "text/plain": [
       "<Figure size 432x288 with 1 Axes>"
      ]
     },
     "metadata": {
      "needs_background": "light"
     },
     "output_type": "display_data"
    }
   ],
   "source": [
    "prediction_means = prediction_mean/data_size\n",
    "fig, ax = plt.subplots()\n",
    "# acc_one,= ax.plot(range(len(cost_effective_reorder)),cost_effective_reorder, linewidth=2.0,label=r'')\n",
    "nb_one,= ax.plot(range(len(prediction_means)),prediction_means , linewidth=2.0)\n",
    "plt.title(\"Prediction-Cout_Moyen\")\n",
    "plt.xlabel('Ascending order of cost-effective')\n",
    "plt.ylabel('prediction_means')\n",
    "plt.savefig(\"image/Prediction_Cout_Moyen\")\n",
    "plt.grid()\n",
    "plt.show()"
   ]
  },
  {
   "cell_type": "code",
   "execution_count": 100,
   "metadata": {},
   "outputs": [],
   "source": [
    "# model_name = data_name+\"_MLP\"+nb_mlp.__str__()+\"Gamma0.5\"\n",
    "nb_mlp = 1\n",
    "# data_name = \"SC1000\"\n",
    "\n",
    "# model_name = data_name+\"_MLP\"+nb_mlp.__str__()\n",
    "# model_name = data_name+\"_MLP\"+nb_mlp.__str__()+\"Gamma0.5\"\n",
    "# model_name = \"CFL30_NoCov_OnlyOutLayer\"\n",
    "# model_name = \"CFL30_BCE_3MLP\"\n",
    "# model_name = \"SC1000_NoCov_OnlyOutLayer\"\n",
    "model_name = \"SC1000_FL_0.5Gamma_0.25Alpha_1MLP50TailleH\"\n",
    "\n",
    "\n",
    "model_path = \"model/\"+model_name\n",
    "\n",
    "model = VariablePredictor(24,50,nb_mlp).to(device)\n",
    "# model = VariablePredictor_OnlyOutLayer(24,24,nb_mlp).to(device)\n",
    "\n",
    "model.load_state_dict(torch.load(model_path))\n",
    "predictions,labels,y_hats,is_corrects = predict(model,data_test_gpu)\n",
    "# _=valide(model,criterion,data_test_gpu,proportion = 0.9)"
   ]
  },
  {
   "cell_type": "code",
   "execution_count": 139,
   "metadata": {},
   "outputs": [
    {
     "data": {
      "image/png": "[encoded data removed]",
      "text/plain": [
       "<Figure size 432x288 with 1 Axes>"
      ]
     },
     "metadata": {
      "needs_background": "light"
     },
     "output_type": "display_data"
    }
   ],
   "source": [
    "test_epsilon = []\n",
    "epsilons = [0.01 * i for i in range(0,30,1)]+[0.01 * i for i in range(30,51,10)]\n",
    "for e in epsilons:\n",
    "    test_epsilon.append([e]+list(fixe_one_epsilon(predictions,y_hats,labels,e)))\n",
    "header=[\"Epsilon\", \"Accuracy_fixe_one\", \"Number_fixe_one\",\"Correct_One/Total_One\"]\n",
    "# print(tabulate(test_epsilon, headers=header))\n",
    "\n",
    "with open(\"CSV/\"+model_name+\"_epsilon.csv\",\"w\") as csvfile: \n",
    "    writer = csv.writer(csvfile)\n",
    "    writer.writerow(header)\n",
    "    writer.writerows(test_epsilon)\n",
    "\n",
    "fig, ax = plt.subplots()\n",
    "values = np.array(test_epsilon).T\n",
    "acc_one,= ax.plot(values[0], values[1], linewidth=2.0,label=r'Acc_fixe_one')\n",
    "maxv = int(max(values[2]))\n",
    "nb_one,= ax.plot(values[0], values[2]/maxv, linewidth=2.0,label=r'Nb_fixe_one/'+maxv.__str__())\n",
    "plt.legend(handles=[acc_one,nb_one],loc=\"best\",)\n",
    "plt.title(model_name+\"_epsilon\")\n",
    "plt.savefig(\"image/\"+model_name+\"_epsilon.png\")\n",
    "plt.grid()\n",
    "plt.show()\n"
   ]
  },
  {
   "cell_type": "code",
   "execution_count": 140,
   "metadata": {},
   "outputs": [
    {
     "data": {
      "image/png": "[encoded data removed]",
      "text/plain": [
       "<Figure size 432x288 with 1 Axes>"
      ]
     },
     "metadata": {
      "needs_background": "light"
     },
     "output_type": "display_data"
    }
   ],
   "source": [
    "test_values = []\n",
    "proportions = [0.1 * i for i in range(1,8)]+[0.01 * i for i in range(80,101)]\n",
    "for p in proportions:\n",
    "    test_values.append([p]+list(fixe_proportionally(predictions,labels,y_hats,is_corrects,proportion = p)))\n",
    "header=[\"Proportion\", \"Accuracy_fixe_one\", \"Number_fixe_one\",\"Accuracy_fixe_zero\", \"Number_fixe_zero\"] \n",
    "# print(tabulate(test_values, headers=header))\n",
    "\n",
    "with open(\"CSV/\"+model_name+\"_proportion.csv\",\"w\") as csvfile: \n",
    "    writer = csv.writer(csvfile)\n",
    "    writer.writerow(header)\n",
    "    writer.writerows(test_values)\n",
    "\n",
    "fig, ax = plt.subplots()\n",
    "values = np.array(test_values).T\n",
    "acc_one,= ax.plot(values[0], values[1], linewidth=2.0,label=r'Acc_fixe_one')\n",
    "maxv = int(max(values[2]))\n",
    "nb_one,= ax.plot(values[0], values[2]/maxv, linewidth=2.0,label=r'Nb_fixe_one/'+maxv.__str__())\n",
    "plt.legend(handles=[acc_one,nb_one],loc=\"best\",)\n",
    "plt.title(model_name+\"_proportion\")\n",
    "plt.savefig(\"image/\"+model_name+\"_prop.png\")\n",
    "plt.grid()\n",
    "plt.show()"
   ]
  },
  {
   "cell_type": "code",
   "execution_count": null,
   "metadata": {},
   "outputs": [],
   "source": []
  }
 ],
 "metadata": {
  "kernelspec": {
   "display_name": "Python 3",
   "language": "python",
   "name": "python3"
  },
  "language_info": {
   "codemirror_mode": {
    "name": "ipython",
    "version": 3
   },
   "file_extension": ".py",
   "mimetype": "text/x-python",
   "name": "python",
   "nbconvert_exporter": "python",
   "pygments_lexer": "ipython3",
   "version": "3.8.5"
  }
 },
 "nbformat": 4,
 "nbformat_minor": 5
}
