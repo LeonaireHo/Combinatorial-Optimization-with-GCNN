{
 "cells": [
  {
   "cell_type": "code",
   "execution_count": 1,
   "metadata": {},
   "outputs": [],
   "source": [
    "import os\n",
    "import numpy as np\n",
    "from tqdm import tqdm\n",
    "import matplotlib.pyplot as plt\n",
    "\n",
    "import torch\n",
    "import torch.nn as nn\n",
    "import torch.nn.functional as F\n",
    "from torch.optim import Adam\n",
    "from torch.utils.data import DataLoader\n",
    "from torch.nn import init\n",
    "from tabulate import tabulate\n",
    "import csv\n",
    "from focal_Loss import *\n",
    "from utility import *\n",
    "from torch.utils.tensorboard import SummaryWriter  \n"
   ]
  },
  {
   "cell_type": "markdown",
   "metadata": {},
   "source": [
    "# Read dataset"
   ]
  },
  {
   "cell_type": "code",
   "execution_count": 2,
   "metadata": {},
   "outputs": [
    {
     "name": "stderr",
     "output_type": "stream",
     "text": [
      "100%|████████████████████████████████████████████████████████████████████████████████| 100/100 [00:07<00:00, 14.24it/s]\n"
     ]
    },
    {
     "name": "stdout",
     "output_type": "stream",
     "text": [
      "cuda\n"
     ]
    }
   ],
   "source": [
    "# data_name = \"SC1500\"\n",
    "data_name = \"CFL30\"\n",
    "\n",
    "data_path = \"DataSet\"+data_name+\"/\"\n",
    "split = [0.80,0.10,0.10]\n",
    "\n",
    "dataSet = load_data(data_path)\n",
    "\n",
    "data_train,data_validation,data_test = torch.utils.data.random_split(dataSet,[int(len(dataSet) * s) for s in split])\n",
    "# print(dataSet[0]['A'])\n",
    "# for l in dataSet[0]['A']:\n",
    "#     for i in l:\n",
    "#         print(int(i!=0),end = '\\t')\n",
    "#     print()\n",
    "\n",
    "# data_train_X,data_train_Y,data_validation_X,data_validation_Y,data_test_X,data_test_Y,A = load_data()\n",
    "# print(data_train_X.shape)\n",
    "# print(data_train_Y.shape)\n",
    "# print(A.shape)\n",
    "def setup_seed(seed):\n",
    "    torch.manual_seed(seed)\n",
    "    torch.cuda.manual_seed_all(seed)\n",
    "    np.random.seed(seed)\n",
    "    torch.backends.cudnn.deterministic = True\n",
    "\n",
    "device = torch.device(\"cuda\" if torch.cuda.is_available() else \"cpu\")\n",
    "os.environ[\"CUDA_VISIBLE_DEVICES\"] = \"0\"\n",
    "print(device)\n",
    "if device == torch.device(\"cuda\"):\n",
    "#     torch.cuda.empty_cache()\n",
    "    data_train_gpu = []\n",
    "    for i in range(len(data_train)):\n",
    "        inputs, labels = torch.from_numpy(data_train[i]['X']).float(),torch.from_numpy(data_train[i]['Y']).type(torch.FloatTensor).float()\n",
    "        A = torch.from_numpy(data_train[i]['A']).float()\n",
    "        inputs = inputs.to(device)\n",
    "        labels = labels.to(device)\n",
    "        A = A.to(device)\n",
    "        data_train_gpu.append([inputs,labels,A])\n",
    "    data_valide_gpu = []\n",
    "    for i in range(len(data_validation)):\n",
    "        inputs, labels = torch.from_numpy(data_validation[i]['X']).float(),torch.from_numpy(data_validation[i]['Y']).type(torch.FloatTensor).float()\n",
    "        A = torch.from_numpy(data_validation[i]['A']).float()\n",
    "        inputs = inputs.to(device)\n",
    "        labels = labels.to(device)\n",
    "        A = A.to(device)\n",
    "        data_valide_gpu.append([inputs,labels,A])\n",
    "        \n",
    "    data_test_gpu = []\n",
    "    for i in range(len(data_test)):\n",
    "        inputs, labels = torch.from_numpy(data_test[i]['X']).float(),torch.from_numpy(data_test[i]['Y']).type(torch.FloatTensor).float()\n",
    "        A = torch.from_numpy(data_test[i]['A']).float()\n",
    "        inputs = inputs.to(device)\n",
    "        labels = labels.to(device)\n",
    "        A = A.to(device)\n",
    "        data_test_gpu.append([inputs,labels,A])"
   ]
  },
  {
   "cell_type": "code",
   "execution_count": 11,
   "metadata": {},
   "outputs": [],
   "source": [
    "def valide(model,criterion,data_validation,with_diving = False,proportion = 0.7):\n",
    "        vloss = []\n",
    "        accuracy_value = []\n",
    "        accuracy_instance = []\n",
    "        \n",
    "        accuracy_one = []\n",
    "        accuracy_one_predict = []\n",
    "        nb_predict_one = []\n",
    "        nb_one = []\n",
    "        \n",
    "        accuracy_zero = []\n",
    "        accuracy_zero_predict = []\n",
    "        nb_zero = []\n",
    "        nb_predict_zero = []\n",
    "        \n",
    "        accuracy_fixe_one = []\n",
    "        accuracy_fixe_zero = []  \n",
    "        accuracy_fixe = []\n",
    "        \n",
    "        data_size = len(data_validation)\n",
    "        for i in range(data_size):\n",
    "            if device == torch.device(\"cuda\"):\n",
    "                inputs, labels = data_validation[i][0],data_validation[i][1]#torch.from_numpy(data_train[i]['X']).float(),torch.from_numpy(data_train[i]['Y']).type(torch.FloatTensor).float()\n",
    "                A =data_validation[i][2]# torch.from_numpy(data_train[i]['A']).float()\n",
    "            else:\n",
    "                inputs, labels =torch.from_numpy(data_train[i]['X']).float(),torch.from_numpy(data_train[i]['Y']).type(torch.FloatTensor).float()\n",
    "                A =torch.from_numpy(data_train[i]['A']).float()\n",
    "            \n",
    "            if with_diving:\n",
    "                x,y = model(inputs,A)\n",
    "                predictions = x[:len(labels)].squeeze(dim=-1)\n",
    "                pred_y = y[:len(labels)].squeeze(dim=-1)\n",
    "#                 print(pred_y)\n",
    "                loss =criterion([predictions,pred_y],labels)\n",
    "            else:\n",
    "                predictions = net(inputs,A)[:len(labels)].squeeze(dim=-1)\n",
    "                loss =criterion(predictions,labels)\n",
    "            \n",
    "            A = A.cpu()\n",
    "            labels = labels.cpu()\n",
    "\n",
    "            predictions = predictions.cpu()\n",
    "            nb_one_total = torch.sum(torch.where(labels == 1,1,0))\n",
    "            nb_zero_total = (len(labels) - nb_one_total)\n",
    "            aux= torch.Tensor([0.5])\n",
    "            y_hat = (predictions > aux).float() * 1\n",
    "            is_equal = torch.where(y_hat == labels,1,0)\n",
    "            vloss.append(loss.cpu().detach().numpy())\n",
    "            accuracy_value.append(is_equal.cpu().sum().detach().numpy()/\n",
    "                           len(labels))\n",
    "            accuracy_instance.append(int(accuracy_value[-1]==1))\n",
    "            #accuracy proportion\n",
    "            predictions_abs =  np.abs(0.5 - predictions.detach().numpy())\n",
    "            thresholds = abs(np.sort(-predictions_abs))[int(proportion * len(predictions.cpu().detach().numpy()))- 1]\n",
    "#             thresholds_low = np.sort(predictions_abs)[int(proportion_low * nb_zero_total]\n",
    "#             thresholds_up = abs(np.sort(-predictions_abs))[int(proportion_up * nb_one_total)]\n",
    "            \n",
    "            #accuracy for differents labels(0 or 1)\n",
    "            nb_one_fixe = 0\n",
    "            nb_zero_fixe = 0\n",
    "            nb_correct_one = 0\n",
    "            nb_correct_zero = 0\n",
    "            nb_correct_fixe_one = 0\n",
    "            nb_correct_fixe_zero = 0\n",
    "            nb_correct_fixe = 0\n",
    "            nb_fixe = 0 \n",
    "            for j,v in enumerate(is_equal):\n",
    "                if labels[j] == 1:\n",
    "                    nb_correct_one += v\n",
    "                else:\n",
    "                    nb_correct_zero += v\n",
    "\n",
    "                if predictions_abs[j] >= thresholds:             \n",
    "                    if labels[j]:\n",
    "                        nb_correct_fixe_one += v\n",
    "                    else:\n",
    "                        nb_correct_fixe_zero += v\n",
    "                        \n",
    "                    if y_hat[j]:\n",
    "                        nb_one_fixe += 1\n",
    "                    else:\n",
    "                        nb_zero_fixe += 1\n",
    "\n",
    "#                 if predictions_abs[j] <= thresholds_low:\n",
    "#                     if labels[j] == 0:\n",
    "#                         nb_correct_fixe_zero += v\n",
    "#                     nb_zero_to_fixe += 1\n",
    "#                 if predictions_abs[j] >= thresholds_up:\n",
    "#                     if labels[j] == 1:\n",
    "#                         nb_correct_fixe_one += v\n",
    "#                     nb_one_to_fixe += 1\n",
    "                    \n",
    "            nb_one_total = torch.sum(torch.where(labels == 1,1,0))\n",
    "            nb_one_predict = torch.sum(torch.where(y_hat == 1,1,0))\n",
    "            accuracy_one.append((nb_correct_one/nb_one_total))\n",
    "            accuracy_one_predict.append((nb_correct_one/nb_one_predict) if nb_one_predict > 0 else 0)\n",
    "            nb_predict_one.append(nb_one_predict)\n",
    "            nb_one.append(nb_one_total)\n",
    "            \n",
    "            nb_zero_predict = (len(labels) - nb_one_predict)\n",
    "            accuracy_zero.append((nb_correct_zero/nb_zero_total))\n",
    "            accuracy_zero_predict.append((nb_correct_zero/nb_zero_predict) if nb_zero_predict > 0 else 0)\n",
    "            nb_predict_zero.append(nb_zero_predict)\n",
    "            nb_zero.append(nb_zero_total)\n",
    "            \n",
    "#             print(inputs,A,nb_one_fixe,nb_zero_fixe)\n",
    "            accuracy_fixe.append((nb_correct_fixe_one+nb_correct_fixe_zero)/(nb_one_fixe+nb_zero_fixe)if (nb_one_fixe+nb_zero_fixe)>0 else 0)\n",
    "            accuracy_fixe_one.append(nb_correct_fixe_one/nb_one_fixe if nb_one_fixe>0 else 0)\n",
    "            accuracy_fixe_zero.append(nb_correct_fixe_zero/nb_zero_fixe if nb_zero_fixe>0 else 0)\n",
    "            \n",
    "        #     print(nb_correct_fixe.cpu(),nb_var_fixe)\n",
    "        #         print(labels,\"\\n\",predictions)\n",
    "        #         print(labels[0:10],y_hat[0:10])\n",
    "        msg = (\"Loss = %f,Accuracy_value = %f,Accuracy_instance = %f\\n\"\\\n",
    "              %(np.mean(vloss),np.mean(accuracy_value),np.sum(accuracy_instance)/len(accuracy_instance)))\n",
    "        msg +=(\"Label_One_Predict_One = %f,Predict_One_Label_One = %f,Nombre_Predict_One = %f,Nombre_One_Mean = %f\\n\"\\\n",
    "              %(np.mean(accuracy_one),np.mean(accuracy_one_predict),np.mean(nb_predict_one),np.mean(nb_one)))\n",
    "        msg +=(\"Label_Zero_Predict_Zero = %f,Label_Zero_Predict_Zero = %f,Nombre_Predict_Zero = %f,Nombre_Zero_Mean = %f\\n\"\\\n",
    "              %(np.mean(accuracy_zero),np.mean(accuracy_zero_predict),np.mean(nb_predict_zero),np.mean(nb_zero)))\n",
    "        msg +=(\"Accuracy_fixe_mean = %f,Accuracy_fixe_one = %f,Accuracy_fixe_zero = %f\\n\"\\\n",
    "              %(np.mean(accuracy_fixe),np.mean(accuracy_fixe_one),np.mean(accuracy_fixe_zero)))\n",
    "        print(msg)\n",
    "        return msg,np.mean(accuracy_value),np.sum(accuracy_instance)/len(accuracy_instance),np.mean(accuracy_fixe_one),np.mean(accuracy_fixe_zero),np.mean(accuracy_one_predict),np.mean(accuracy_zero_predict)"
   ]
  },
  {
   "cell_type": "markdown",
   "metadata": {},
   "source": [
    "# GCN"
   ]
  },
  {
   "cell_type": "code",
   "execution_count": 4,
   "metadata": {},
   "outputs": [],
   "source": [
    "class simpleMLP(nn.Module):\n",
    "    def __init__(self, input_size, out_size,activate = nn.ReLU()):\n",
    "        super(simpleMLP, self).__init__()\n",
    "        self.linear = nn.Linear(input_size, out_size)\n",
    "        self.activate = activate\n",
    "        \n",
    "    def forward(self, x):\n",
    "        x = self.linear(x)\n",
    "        x = self.activate(x)\n",
    "        return x\n",
    "    \n",
    "class GNN(nn.Module):\n",
    "    def __init__(self, input_size,hidden_size,nb_MLP,layerNorm = False):\n",
    "        super(GNN,self).__init__()\n",
    "        self.size_mlp = nb_MLP\n",
    "        self.mlp = nn.ModuleList(\n",
    "            [simpleMLP(input_size, hidden_size)]+[simpleMLP(hidden_size, hidden_size)]+[simpleMLP(hidden_size*2, hidden_size) for i in range(self.size_mlp - 2)]   \n",
    "        )\n",
    "        self.layerNorm = nn.ModuleList(\n",
    "            [nn.LayerNorm(hidden_size) for i in range(self.size_mlp)]\n",
    "        )\n",
    "    \n",
    "    def forward(self, x, A):\n",
    "        for i in range(self.size_mlp):\n",
    "            x = self.mlp[i](x)\n",
    "            y = A @ x\n",
    "            y = self.layerNorm[i](y)\n",
    "            if i != 0:\n",
    "                x = torch.cat([y,x],1)#sum plutot que con\n",
    "            else:\n",
    "                x = y\n",
    "        return x\n",
    "    \n",
    "class VariablePredictor(nn.Module):\n",
    "    def __init__(self, input_size,hidden_size,nb_MLP):\n",
    "        super(VariablePredictor,self).__init__()\n",
    "        self.GNN = GNN(input_size,hidden_size,nb_MLP)\n",
    "        self.outlayer_x = simpleMLP(hidden_size*2,1,nn.Sigmoid())    \n",
    "    \n",
    "    def forward(self,x,A):\n",
    "        x = self.GNN(x,A)\n",
    "        return self.outlayer(x)\n",
    "    \n",
    "class VariablePredictorDiving(nn.Module):\n",
    "    def __init__(self, input_size,hidden_size,nb_MLP):\n",
    "        super(VariablePredictorDiving,self).__init__()\n",
    "        self.GNN = GNN(input_size,hidden_size,nb_MLP)\n",
    "        self.outlayer_x = simpleMLP(hidden_size*2,1,nn.Sigmoid())    \n",
    "        self.outlayer_y = simpleMLP(hidden_size*2,1,nn.Sigmoid())    \n",
    "        \n",
    "    def forward(self,x,A):\n",
    "        x = self.GNN(x,A)\n",
    "        return self.outlayer_x(x),self.outlayer_y(x)\n",
    "     "
   ]
  },
  {
   "cell_type": "markdown",
   "metadata": {},
   "source": [
    "## Train\n"
   ]
  },
  {
   "cell_type": "code",
   "execution_count": 5,
   "metadata": {},
   "outputs": [],
   "source": [
    "def train(net,criterion,optm,data_valide,proportion,writer,\n",
    "              batch_size = 1,EPOCHS=500,do_valide = True,do_log = True,epochs_continue = 0,with_diving = False):\n",
    "    aux= torch.Tensor([0.5]).to(device)\n",
    "    for epoch in tqdm(range(epochs_continue,epochs_continue+EPOCHS)):\n",
    "        #validation\n",
    "        if do_valide and epoch % 50 == 0:\n",
    "            v = valide(net,criterion,data_valide,with_diving,proportion)\n",
    "            if do_log:\n",
    "                writer.add_scalar('Accuracy_fixe_one ', v[3], epoch)\n",
    "                writer.add_scalar('Accuracy_fixe_zero ', v[4], epoch)\n",
    "                writer.add_scalar('Accuracy_one ', v[5], epoch)\n",
    "                writer.add_scalar('Accuracy_zero ', v[6], epoch)\n",
    "        #train\n",
    "        data_size = len(data_train)\n",
    "        log = []\n",
    "        for i in range(data_size):\n",
    "            if device == torch.device(\"cuda\"):\n",
    "                train_inputs, train_labels = data_train_gpu[i][0],data_train_gpu[i][1]#torch.from_numpy(data_train[i]['X']).float(),torch.from_numpy(data_train[i]['Y']).type(torch.FloatTensor).float()\n",
    "                A =data_train_gpu[i][2]# torch.from_numpy(data_train[i]['A']).float()\n",
    "            else:\n",
    "                train_inputs, train_labels = torch.from_numpy(data_train[i]['X']).float(),torch.from_numpy(data_train[i]['Y']).type(torch.FloatTensor).float()\n",
    "                A = torch.from_numpy(data_train[i]['A']).float()    \n",
    "            \n",
    "            if with_diving:\n",
    "                x,y = net(train_inputs,A)\n",
    "                predictions = x[:len(train_labels)].squeeze(dim=-1)\n",
    "                pred_y = y[:len(train_labels)].squeeze(dim=-1)\n",
    "                loss =criterion([predictions,pred_y],train_labels)\n",
    "            else:\n",
    "                predictions = net(train_inputs,A)[:len(train_labels)].squeeze(dim=-1)\n",
    "                loss =criterion(predictions,train_labels)\n",
    "            \n",
    "            loss.backward()\n",
    "            if epoch % batch_size == 0:\n",
    "                optm.step()\n",
    "                optm.zero_grad()\n",
    "            if do_log:\n",
    "                writer.add_scalar('LearningRate',optm.param_groups[0]['lr'], epoch)\n",
    "            scheduler.step()\n",
    "            gradient_norm = 0\n",
    "            for p in net.parameters():\n",
    "                param_norm = p.grad.detach().data.norm(2)\n",
    "                gradient_norm += param_norm.item() ** 2\n",
    "            gradient_norm = gradient_norm ** 0.5\n",
    "            y_hat = (predictions > aux).float() * 1\n",
    "            is_equal = torch.where(y_hat == train_labels,1,0)\n",
    "            acc = is_equal.cpu().sum().detach().numpy()/len(train_labels)\n",
    "            log.append([loss.cpu().detach().numpy(),acc,gradient_norm])\n",
    "        \n",
    "        log = np.array(log).T\n",
    "        if do_log:\n",
    "            writer.add_scalar('Loss', np.mean(log[0]), epoch)\n",
    "            writer.add_scalar('Accuracy', np.mean(log[1]), epoch)\n",
    "            writer.add_scalar('Gradient_norm', np.mean(log[2]), epoch)\n"
   ]
  },
  {
   "cell_type": "code",
   "execution_count": 6,
   "metadata": {},
   "outputs": [],
   "source": [
    "import torch\n",
    "import torch.nn as nn\n",
    "import torch.nn.functional as F\n",
    "from torch.autograd import Variable\n",
    "class SelectiveLoss(nn.Module):  \n",
    "    def __init__(self, C=0.75,lam = 0.5):\n",
    "        super(SelectiveLoss, self).__init__() \n",
    "        self.C = C  \n",
    "        self.lam = lam\n",
    "            \n",
    "    def forward(self, predictions, labels):\n",
    "        pred_x,pred_y = predictions\n",
    "        bce = nn.BCELoss()\n",
    "        \n",
    "        frequency = self.lam * torch.square(self.C - torch.mean(pred_y))\n",
    "        loss = nn.BCELoss(weight=pred_y.detach(), reduction='sum')(pred_x, labels) / torch.sum(pred_y)  + frequency\n",
    "        return loss+bce(pred_x,labels)\n",
    "#         loss =  -torch.sum(torch.log(torch.where(labels > 0, torch.maximum(torch.minimum(pred_x,torch.tensor(1-10e-6)),torch.tensor(10e-6)), \\\n",
    "#                             torch.maximum(torch.minimum(1-pred_x,torch.tensor(1-10e-6)),torch.tensor(10e-6)))*pred_y))\\\n",
    "#                            /torch.sum(pred_y) + frequency"
   ]
  },
  {
   "cell_type": "code",
   "execution_count": null,
   "metadata": {},
   "outputs": [
    {
     "name": "stderr",
     "output_type": "stream",
     "text": [
      "\r",
      "  0%|                                                                                         | 0/1000 [00:00<?, ?it/s]"
     ]
    },
    {
     "name": "stdout",
     "output_type": "stream",
     "text": [
      "Loss = 1.270530,Accuracy_value = 0.893011,Accuracy_instance = 0.000000\n",
      "Label_One_Predict_One = 0.064538,Predict_One_Label_One = 0.028800,Nombre_Predict_One = 69.600000,Nombre_One_Mean = 34.300000\n",
      "Label_Zero_Predict_Zero = 0.924753,Label_Zero_Predict_Zero = 0.962703,Nombre_Predict_Zero = 860.400000,Nombre_Zero_Mean = 895.700000\n",
      "Accuracy_fixe_mean = 0.959005,Accuracy_fixe_one = 0.100000,Accuracy_fixe_zero = 0.959771\n",
      "\n"
     ]
    },
    {
     "name": "stderr",
     "output_type": "stream",
     "text": [
      "  5%|████                                                                            | 50/1000 [00:43<13:39,  1.16it/s]"
     ]
    },
    {
     "name": "stdout",
     "output_type": "stream",
     "text": [
      "Loss = 0.160584,Accuracy_value = 0.972688,Accuracy_instance = 0.000000\n",
      "Label_One_Predict_One = 0.557227,Predict_One_Label_One = 0.651180,Nombre_Predict_One = 29.300000,Nombre_One_Mean = 34.300000\n",
      "Label_Zero_Predict_Zero = 0.988611,Label_Zero_Predict_Zero = 0.983135,Nombre_Predict_Zero = 900.700000,Nombre_Zero_Mean = 895.700000\n",
      "Accuracy_fixe_mean = 0.993011,Accuracy_fixe_one = 0.000000,Accuracy_fixe_zero = 0.993011\n",
      "\n"
     ]
    },
    {
     "name": "stderr",
     "output_type": "stream",
     "text": [
      " 10%|███████▉                                                                       | 100/1000 [01:27<12:55,  1.16it/s]"
     ]
    },
    {
     "name": "stdout",
     "output_type": "stream",
     "text": [
      "Loss = 0.172812,Accuracy_value = 0.970860,Accuracy_instance = 0.000000\n",
      "Label_One_Predict_One = 0.458235,Predict_One_Label_One = 0.652939,Nombre_Predict_One = 24.200000,Nombre_One_Mean = 34.300000\n",
      "Label_Zero_Predict_Zero = 0.990508,Label_Zero_Predict_Zero = 0.979479,Nombre_Predict_Zero = 905.800000,Nombre_Zero_Mean = 895.700000\n",
      "Accuracy_fixe_mean = 0.991936,Accuracy_fixe_one = 0.000000,Accuracy_fixe_zero = 0.991936\n",
      "\n"
     ]
    },
    {
     "name": "stderr",
     "output_type": "stream",
     "text": [
      " 15%|███████████▊                                                                   | 150/1000 [02:11<13:30,  1.05it/s]"
     ]
    },
    {
     "name": "stdout",
     "output_type": "stream",
     "text": [
      "Loss = 0.174373,Accuracy_value = 0.971398,Accuracy_instance = 0.000000\n",
      "Label_One_Predict_One = 0.487395,Predict_One_Label_One = 0.645865,Nombre_Predict_One = 25.700000,Nombre_One_Mean = 34.300000\n",
      "Label_Zero_Predict_Zero = 0.989951,Label_Zero_Predict_Zero = 0.980552,Nombre_Predict_Zero = 904.300000,Nombre_Zero_Mean = 895.700000\n",
      "Accuracy_fixe_mean = 0.991264,Accuracy_fixe_one = 0.450000,Accuracy_fixe_zero = 0.991520\n",
      "\n"
     ]
    },
    {
     "name": "stderr",
     "output_type": "stream",
     "text": [
      " 20%|███████████████▊                                                               | 200/1000 [02:54<11:23,  1.17it/s]"
     ]
    },
    {
     "name": "stdout",
     "output_type": "stream",
     "text": [
      "Loss = 0.203638,Accuracy_value = 0.967957,Accuracy_instance = 0.000000\n",
      "Label_One_Predict_One = 0.403193,Predict_One_Label_One = 0.595838,Nombre_Predict_One = 23.100000,Nombre_One_Mean = 34.300000\n",
      "Label_Zero_Predict_Zero = 0.989616,Label_Zero_Predict_Zero = 0.977407,Nombre_Predict_Zero = 906.900000,Nombre_Zero_Mean = 895.700000\n",
      "Accuracy_fixe_mean = 0.989382,Accuracy_fixe_one = 0.066667,Accuracy_fixe_zero = 0.989643\n",
      "\n"
     ]
    },
    {
     "name": "stderr",
     "output_type": "stream",
     "text": [
      " 25%|███████████████████▊                                                           | 250/1000 [03:37<10:42,  1.17it/s]"
     ]
    },
    {
     "name": "stdout",
     "output_type": "stream",
     "text": [
      "Loss = 0.233405,Accuracy_value = 0.969247,Accuracy_instance = 0.000000\n",
      "Label_One_Predict_One = 0.487227,Predict_One_Label_One = 0.610620,Nombre_Predict_One = 27.700000,Nombre_One_Mean = 34.300000\n",
      "Label_Zero_Predict_Zero = 0.987718,Label_Zero_Predict_Zero = 0.980492,Nombre_Predict_Zero = 902.300000,Nombre_Zero_Mean = 895.700000\n",
      "Accuracy_fixe_mean = 0.988306,Accuracy_fixe_one = 0.616667,Accuracy_fixe_zero = 0.989209\n",
      "\n"
     ]
    },
    {
     "name": "stderr",
     "output_type": "stream",
     "text": [
      " 30%|███████████████████████▋                                                       | 300/1000 [04:21<10:08,  1.15it/s]"
     ]
    },
    {
     "name": "stdout",
     "output_type": "stream",
     "text": [
      "Loss = 0.280893,Accuracy_value = 0.967097,Accuracy_instance = 0.000000\n",
      "Label_One_Predict_One = 0.428908,Predict_One_Label_One = 0.577832,Nombre_Predict_One = 25.700000,Nombre_One_Mean = 34.300000\n",
      "Label_Zero_Predict_Zero = 0.987718,Label_Zero_Predict_Zero = 0.978331,Nombre_Predict_Zero = 904.300000,Nombre_Zero_Mean = 895.700000\n",
      "Accuracy_fixe_mean = 0.985753,Accuracy_fixe_one = 0.450714,Accuracy_fixe_zero = 0.988110\n",
      "\n"
     ]
    },
    {
     "name": "stderr",
     "output_type": "stream",
     "text": [
      " 35%|███████████████████████████▋                                                   | 350/1000 [05:05<09:20,  1.16it/s]"
     ]
    },
    {
     "name": "stdout",
     "output_type": "stream",
     "text": [
      "Loss = 0.334775,Accuracy_value = 0.966989,Accuracy_instance = 0.000000\n",
      "Label_One_Predict_One = 0.464538,Predict_One_Label_One = 0.562160,Nombre_Predict_One = 28.200000,Nombre_One_Mean = 34.300000\n",
      "Label_Zero_Predict_Zero = 0.986267,Label_Zero_Predict_Zero = 0.979619,Nombre_Predict_Zero = 901.800000,Nombre_Zero_Mean = 895.700000\n",
      "Accuracy_fixe_mean = 0.985349,Accuracy_fixe_one = 0.616190,Accuracy_fixe_zero = 0.987837\n",
      "\n"
     ]
    },
    {
     "name": "stderr",
     "output_type": "stream",
     "text": [
      " 40%|███████████████████████████████▌                                               | 400/1000 [05:48<08:38,  1.16it/s]"
     ]
    },
    {
     "name": "stdout",
     "output_type": "stream",
     "text": [
      "Loss = 0.361918,Accuracy_value = 0.963978,Accuracy_instance = 0.000000\n",
      "Label_One_Predict_One = 0.470252,Predict_One_Label_One = 0.523799,Nombre_Predict_One = 31.400000,Nombre_One_Mean = 34.300000\n",
      "Label_Zero_Predict_Zero = 0.982917,Label_Zero_Predict_Zero = 0.979751,Nombre_Predict_Zero = 898.600000,Nombre_Zero_Mean = 895.700000\n",
      "Accuracy_fixe_mean = 0.986290,Accuracy_fixe_one = 0.670000,Accuracy_fixe_zero = 0.988244\n",
      "\n"
     ]
    },
    {
     "name": "stderr",
     "output_type": "stream",
     "text": [
      " 45%|███████████████████████████████████▌                                           | 450/1000 [06:32<07:55,  1.16it/s]"
     ]
    },
    {
     "name": "stdout",
     "output_type": "stream",
     "text": [
      "Loss = 0.456796,Accuracy_value = 0.962796,Accuracy_instance = 0.000000\n",
      "Label_One_Predict_One = 0.470420,Predict_One_Label_One = 0.499369,Nombre_Predict_One = 32.500000,Nombre_One_Mean = 34.300000\n",
      "Label_Zero_Predict_Zero = 0.981688,Label_Zero_Predict_Zero = 0.979734,Nombre_Predict_Zero = 897.500000,Nombre_Zero_Mean = 895.700000\n",
      "Accuracy_fixe_mean = 0.983333,Accuracy_fixe_one = 0.583589,Accuracy_fixe_zero = 0.987769\n",
      "\n"
     ]
    },
    {
     "name": "stderr",
     "output_type": "stream",
     "text": [
      " 50%|███████████████████████████████████████▌                                       | 500/1000 [07:15<07:09,  1.16it/s]"
     ]
    },
    {
     "name": "stdout",
     "output_type": "stream",
     "text": [
      "Loss = 0.593973,Accuracy_value = 0.961505,Accuracy_instance = 0.000000\n",
      "Label_One_Predict_One = 0.429496,Predict_One_Label_One = 0.480168,Nombre_Predict_One = 30.900000,Nombre_One_Mean = 34.300000\n",
      "Label_Zero_Predict_Zero = 0.981912,Label_Zero_Predict_Zero = 0.978222,Nombre_Predict_Zero = 899.100000,Nombre_Zero_Mean = 895.700000\n",
      "Accuracy_fixe_mean = 0.984543,Accuracy_fixe_one = 0.574484,Accuracy_fixe_zero = 0.988465\n",
      "\n"
     ]
    },
    {
     "name": "stderr",
     "output_type": "stream",
     "text": [
      " 55%|███████████████████████████████████████████▍                                   | 550/1000 [07:58<06:24,  1.17it/s]"
     ]
    },
    {
     "name": "stdout",
     "output_type": "stream",
     "text": [
      "Loss = 0.681116,Accuracy_value = 0.961398,Accuracy_instance = 0.000000\n",
      "Label_One_Predict_One = 0.417563,Predict_One_Label_One = 0.479722,Nombre_Predict_One = 30.200000,Nombre_One_Mean = 34.300000\n",
      "Label_Zero_Predict_Zero = 0.982247,Label_Zero_Predict_Zero = 0.977795,Nombre_Predict_Zero = 899.800000,Nombre_Zero_Mean = 895.700000\n",
      "Accuracy_fixe_mean = 0.984140,Accuracy_fixe_one = 0.522500,Accuracy_fixe_zero = 0.987408\n",
      "\n"
     ]
    },
    {
     "name": "stderr",
     "output_type": "stream",
     "text": [
      " 60%|███████████████████████████████████████████████▍                               | 600/1000 [08:42<05:46,  1.15it/s]"
     ]
    },
    {
     "name": "stdout",
     "output_type": "stream",
     "text": [
      "Loss = 0.704616,Accuracy_value = 0.963763,Accuracy_instance = 0.000000\n",
      "Label_One_Predict_One = 0.432185,Predict_One_Label_One = 0.508832,Nombre_Predict_One = 29.000000,Nombre_One_Mean = 34.300000\n",
      "Label_Zero_Predict_Zero = 0.984146,Label_Zero_Predict_Zero = 0.978367,Nombre_Predict_Zero = 901.000000,Nombre_Zero_Mean = 895.700000\n",
      "Accuracy_fixe_mean = 0.985484,Accuracy_fixe_one = 0.592222,Accuracy_fixe_zero = 0.988493\n",
      "\n"
     ]
    },
    {
     "name": "stderr",
     "output_type": "stream",
     "text": [
      " 65%|███████████████████████████████████████████████████▎                           | 650/1000 [09:26<05:02,  1.16it/s]"
     ]
    },
    {
     "name": "stdout",
     "output_type": "stream",
     "text": [
      "Loss = 0.809149,Accuracy_value = 0.961720,Accuracy_instance = 0.000000\n",
      "Label_One_Predict_One = 0.431933,Predict_One_Label_One = 0.484391,Nombre_Predict_One = 30.900000,Nombre_One_Mean = 34.300000\n",
      "Label_Zero_Predict_Zero = 0.982024,Label_Zero_Predict_Zero = 0.978320,Nombre_Predict_Zero = 899.100000,Nombre_Zero_Mean = 895.700000\n",
      "Accuracy_fixe_mean = 0.984409,Accuracy_fixe_one = 0.569167,Accuracy_fixe_zero = 0.987540\n",
      "\n"
     ]
    },
    {
     "name": "stderr",
     "output_type": "stream",
     "text": [
      " 70%|███████████████████████████████████████████████████████▎                       | 700/1000 [10:09<04:18,  1.16it/s]"
     ]
    },
    {
     "name": "stdout",
     "output_type": "stream",
     "text": [
      "Loss = 0.829405,Accuracy_value = 0.961505,Accuracy_instance = 0.000000\n",
      "Label_One_Predict_One = 0.426639,Predict_One_Label_One = 0.478918,Nombre_Predict_One = 30.700000,Nombre_One_Mean = 34.300000\n",
      "Label_Zero_Predict_Zero = 0.982024,Label_Zero_Predict_Zero = 0.978101,Nombre_Predict_Zero = 899.300000,Nombre_Zero_Mean = 895.700000\n",
      "Accuracy_fixe_mean = 0.984677,Accuracy_fixe_one = 0.694603,Accuracy_fixe_zero = 0.987261\n",
      "\n"
     ]
    },
    {
     "name": "stderr",
     "output_type": "stream",
     "text": [
      " 75%|███████████████████████████████████████████████████████████▎                   | 750/1000 [10:53<03:34,  1.17it/s]"
     ]
    },
    {
     "name": "stdout",
     "output_type": "stream",
     "text": [
      "Loss = 0.956656,Accuracy_value = 0.960538,Accuracy_instance = 0.000000\n",
      "Label_One_Predict_One = 0.449496,Predict_One_Label_One = 0.466349,Nombre_Predict_One = 33.200000,Nombre_One_Mean = 34.300000\n",
      "Label_Zero_Predict_Zero = 0.980127,Label_Zero_Predict_Zero = 0.978930,Nombre_Predict_Zero = 896.800000,Nombre_Zero_Mean = 895.700000\n",
      "Accuracy_fixe_mean = 0.984949,Accuracy_fixe_one = 0.556190,Accuracy_fixe_zero = 0.988219\n",
      "\n"
     ]
    },
    {
     "name": "stderr",
     "output_type": "stream",
     "text": [
      " 80%|███████████████████████████████████████████████████████████████▏               | 800/1000 [11:36<02:52,  1.16it/s]"
     ]
    },
    {
     "name": "stdout",
     "output_type": "stream",
     "text": [
      "Loss = 0.974763,Accuracy_value = 0.964301,Accuracy_instance = 0.000000\n",
      "Label_One_Predict_One = 0.423361,Predict_One_Label_One = 0.516639,Nombre_Predict_One = 27.900000,Nombre_One_Mean = 34.300000\n",
      "Label_Zero_Predict_Zero = 0.985039,Label_Zero_Predict_Zero = 0.978065,Nombre_Predict_Zero = 902.100000,Nombre_Zero_Mean = 895.700000\n",
      "Accuracy_fixe_mean = 0.985215,Accuracy_fixe_one = 0.550747,Accuracy_fixe_zero = 0.988359\n",
      "\n"
     ]
    },
    {
     "name": "stderr",
     "output_type": "stream",
     "text": [
      " 85%|███████████████████████████████████████████████████████████████████▏           | 850/1000 [12:20<02:08,  1.17it/s]"
     ]
    },
    {
     "name": "stdout",
     "output_type": "stream",
     "text": [
      "Loss = 1.073768,Accuracy_value = 0.961290,Accuracy_instance = 0.000000\n",
      "Label_One_Predict_One = 0.446134,Predict_One_Label_One = 0.482930,Nombre_Predict_One = 32.300000,Nombre_One_Mean = 34.300000\n",
      "Label_Zero_Predict_Zero = 0.981020,Label_Zero_Predict_Zero = 0.978844,Nombre_Predict_Zero = 897.700000,Nombre_Zero_Mean = 895.700000\n",
      "Accuracy_fixe_mean = 0.984155,Accuracy_fixe_one = 0.604127,Accuracy_fixe_zero = 0.987804\n",
      "\n"
     ]
    },
    {
     "name": "stderr",
     "output_type": "stream",
     "text": [
      " 90%|███████████████████████████████████████████████████████████████████████        | 900/1000 [13:03<01:25,  1.17it/s]"
     ]
    },
    {
     "name": "stdout",
     "output_type": "stream",
     "text": [
      "Loss = 1.080284,Accuracy_value = 0.964086,Accuracy_instance = 0.000000\n",
      "Label_One_Predict_One = 0.466975,Predict_One_Label_One = 0.533684,Nombre_Predict_One = 31.100000,Nombre_One_Mean = 34.300000\n",
      "Label_Zero_Predict_Zero = 0.983141,Label_Zero_Predict_Zero = 0.979660,Nombre_Predict_Zero = 898.900000,Nombre_Zero_Mean = 895.700000\n",
      "Accuracy_fixe_mean = 0.984699,Accuracy_fixe_one = 0.621905,Accuracy_fixe_zero = 0.987823\n",
      "\n"
     ]
    },
    {
     "name": "stderr",
     "output_type": "stream",
     "text": [
      " 95%|███████████████████████████████████████████████████████████████████████████    | 950/1000 [13:46<00:42,  1.17it/s]"
     ]
    },
    {
     "name": "stdout",
     "output_type": "stream",
     "text": [
      "Loss = 1.166221,Accuracy_value = 0.964086,Accuracy_instance = 0.000000\n",
      "Label_One_Predict_One = 0.452101,Predict_One_Label_One = 0.524270,Nombre_Predict_One = 30.100000,Nombre_One_Mean = 34.300000\n",
      "Label_Zero_Predict_Zero = 0.983700,Label_Zero_Predict_Zero = 0.979118,Nombre_Predict_Zero = 899.900000,Nombre_Zero_Mean = 895.700000\n",
      "Accuracy_fixe_mean = 0.984247,Accuracy_fixe_one = 0.602460,Accuracy_fixe_zero = 0.987879\n",
      "\n"
     ]
    },
    {
     "name": "stderr",
     "output_type": "stream",
     "text": [
      "100%|██████████████████████████████████████████████████████████████████████████████| 1000/1000 [14:30<00:00,  1.15it/s]\n",
      "  0%|                                                                                         | 0/1000 [00:00<?, ?it/s]"
     ]
    },
    {
     "name": "stdout",
     "output_type": "stream",
     "text": [
      "Loss = 1.054602,Accuracy_value = 0.962688,Accuracy_instance = 0.000000\n",
      "Label_One_Predict_One = 0.417647,Predict_One_Label_One = 0.492821,Nombre_Predict_One = 29.100000,Nombre_One_Mean = 34.000000\n",
      "Label_Zero_Predict_Zero = 0.983370,Label_Zero_Predict_Zero = 0.978026,Nombre_Predict_Zero = 900.900000,Nombre_Zero_Mean = 896.000000\n",
      "Accuracy_fixe_mean = 0.985259,Accuracy_fixe_one = 0.572143,Accuracy_fixe_zero = 0.987993\n",
      "\n",
      "Loss = 1.568401,Accuracy_value = 0.124839,Accuracy_instance = 0.000000\n",
      "Label_One_Predict_One = 0.705798,Predict_One_Label_One = 0.029207,Nombre_Predict_One = 828.000000,Nombre_One_Mean = 34.300000\n",
      "Label_Zero_Predict_Zero = 0.102608,Label_Zero_Predict_Zero = 0.897592,Nombre_Predict_Zero = 102.000000,Nombre_Zero_Mean = 895.700000\n",
      "Accuracy_fixe_mean = 0.109005,Accuracy_fixe_one = 0.024649,Accuracy_fixe_zero = 0.877405\n",
      "\n"
     ]
    },
    {
     "name": "stderr",
     "output_type": "stream",
     "text": [
      "  5%|████                                                                            | 50/1000 [00:43<13:46,  1.15it/s]"
     ]
    },
    {
     "name": "stdout",
     "output_type": "stream",
     "text": [
      "Loss = 0.165033,Accuracy_value = 0.973118,Accuracy_instance = 0.000000\n",
      "Label_One_Predict_One = 0.563193,Predict_One_Label_One = 0.659200,Nombre_Predict_One = 29.300000,Nombre_One_Mean = 34.300000\n",
      "Label_Zero_Predict_Zero = 0.988835,Label_Zero_Predict_Zero = 0.983359,Nombre_Predict_Zero = 900.700000,Nombre_Zero_Mean = 895.700000\n",
      "Accuracy_fixe_mean = 0.993145,Accuracy_fixe_one = 0.000000,Accuracy_fixe_zero = 0.993145\n",
      "\n"
     ]
    },
    {
     "name": "stderr",
     "output_type": "stream",
     "text": [
      " 10%|███████▉                                                                       | 100/1000 [01:27<12:51,  1.17it/s]"
     ]
    },
    {
     "name": "stdout",
     "output_type": "stream",
     "text": [
      "Loss = 0.161193,Accuracy_value = 0.973548,Accuracy_instance = 0.000000\n",
      "Label_One_Predict_One = 0.513277,Predict_One_Label_One = 0.696142,Nombre_Predict_One = 25.500000,Nombre_One_Mean = 34.300000\n",
      "Label_Zero_Predict_Zero = 0.991178,Label_Zero_Predict_Zero = 0.981548,Nombre_Predict_Zero = 904.500000,Nombre_Zero_Mean = 895.700000\n",
      "Accuracy_fixe_mean = 0.992204,Accuracy_fixe_one = 0.000000,Accuracy_fixe_zero = 0.992204\n",
      "\n"
     ]
    },
    {
     "name": "stderr",
     "output_type": "stream",
     "text": [
      " 15%|███████████▊                                                                   | 150/1000 [02:10<12:20,  1.15it/s]"
     ]
    },
    {
     "name": "stdout",
     "output_type": "stream",
     "text": [
      "Loss = 0.186174,Accuracy_value = 0.971828,Accuracy_instance = 0.000000\n",
      "Label_One_Predict_One = 0.464118,Predict_One_Label_One = 0.669772,Nombre_Predict_One = 23.700000,Nombre_One_Mean = 34.300000\n",
      "Label_Zero_Predict_Zero = 0.991290,Label_Zero_Predict_Zero = 0.979721,Nombre_Predict_Zero = 906.300000,Nombre_Zero_Mean = 895.700000\n",
      "Accuracy_fixe_mean = 0.990995,Accuracy_fixe_one = 0.350000,Accuracy_fixe_zero = 0.991254\n",
      "\n"
     ]
    },
    {
     "name": "stderr",
     "output_type": "stream",
     "text": [
      " 20%|███████████████▊                                                               | 200/1000 [02:54<11:21,  1.17it/s]"
     ]
    },
    {
     "name": "stdout",
     "output_type": "stream",
     "text": [
      "Loss = 0.205055,Accuracy_value = 0.971075,Accuracy_instance = 0.000000\n",
      "Label_One_Predict_One = 0.478992,Predict_One_Label_One = 0.646148,Nombre_Predict_One = 25.400000,Nombre_One_Mean = 34.300000\n",
      "Label_Zero_Predict_Zero = 0.989951,Label_Zero_Predict_Zero = 0.980216,Nombre_Predict_Zero = 904.600000,Nombre_Zero_Mean = 895.700000\n",
      "Accuracy_fixe_mean = 0.989516,Accuracy_fixe_one = 0.553333,Accuracy_fixe_zero = 0.990556\n",
      "\n"
     ]
    },
    {
     "name": "stderr",
     "output_type": "stream",
     "text": [
      " 25%|███████████████████▊                                                           | 250/1000 [03:37<10:44,  1.16it/s]"
     ]
    },
    {
     "name": "stdout",
     "output_type": "stream",
     "text": [
      "Loss = 0.260541,Accuracy_value = 0.968280,Accuracy_instance = 0.000000\n",
      "Label_One_Predict_One = 0.440420,Predict_One_Label_One = 0.609190,Nombre_Predict_One = 25.400000,Nombre_One_Mean = 34.300000\n",
      "Label_Zero_Predict_Zero = 0.988499,Label_Zero_Predict_Zero = 0.978775,Nombre_Predict_Zero = 904.600000,Nombre_Zero_Mean = 895.700000\n",
      "Accuracy_fixe_mean = 0.986425,Accuracy_fixe_one = 0.598809,Accuracy_fixe_zero = 0.988910\n",
      "\n"
     ]
    },
    {
     "name": "stderr",
     "output_type": "stream",
     "text": [
      " 30%|███████████████████████▋                                                       | 300/1000 [04:21<10:05,  1.16it/s]"
     ]
    },
    {
     "name": "stdout",
     "output_type": "stream",
     "text": [
      "Loss = 0.329438,Accuracy_value = 0.965484,Accuracy_instance = 0.000000\n",
      "Label_One_Predict_One = 0.455378,Predict_One_Label_One = 0.547244,Nombre_Predict_One = 29.000000,Nombre_One_Mean = 34.300000\n",
      "Label_Zero_Predict_Zero = 0.985038,Label_Zero_Predict_Zero = 0.979249,Nombre_Predict_Zero = 901.000000,Nombre_Zero_Mean = 895.700000\n",
      "Accuracy_fixe_mean = 0.983065,Accuracy_fixe_one = 0.639260,Accuracy_fixe_zero = 0.987615\n",
      "\n"
     ]
    },
    {
     "name": "stderr",
     "output_type": "stream",
     "text": [
      " 35%|███████████████████████████▋                                                   | 350/1000 [05:05<09:25,  1.15it/s]"
     ]
    },
    {
     "name": "stdout",
     "output_type": "stream",
     "text": [
      "Loss = 0.400288,Accuracy_value = 0.960860,Accuracy_instance = 0.000000\n",
      "Label_One_Predict_One = 0.458487,Predict_One_Label_One = 0.478642,Nombre_Predict_One = 33.500000,Nombre_One_Mean = 34.300000\n",
      "Label_Zero_Predict_Zero = 0.980127,Label_Zero_Predict_Zero = 0.979279,Nombre_Predict_Zero = 896.500000,Nombre_Zero_Mean = 895.700000\n",
      "Accuracy_fixe_mean = 0.982527,Accuracy_fixe_one = 0.590358,Accuracy_fixe_zero = 0.988283\n",
      "\n"
     ]
    },
    {
     "name": "stderr",
     "output_type": "stream",
     "text": [
      " 40%|███████████████████████████████▌                                               | 400/1000 [05:48<08:27,  1.18it/s]"
     ]
    },
    {
     "name": "stdout",
     "output_type": "stream",
     "text": [
      "Loss = 0.426690,Accuracy_value = 0.966344,Accuracy_instance = 0.000000\n",
      "Label_One_Predict_One = 0.405798,Predict_One_Label_One = 0.569818,Nombre_Predict_One = 24.800000,Nombre_One_Mean = 34.300000\n",
      "Label_Zero_Predict_Zero = 0.987830,Label_Zero_Predict_Zero = 0.977480,Nombre_Predict_Zero = 905.200000,Nombre_Zero_Mean = 895.700000\n",
      "Accuracy_fixe_mean = 0.984140,Accuracy_fixe_one = 0.629351,Accuracy_fixe_zero = 0.987258\n",
      "\n"
     ]
    },
    {
     "name": "stderr",
     "output_type": "stream",
     "text": [
      " 45%|███████████████████████████████████▌                                           | 450/1000 [06:32<08:03,  1.14it/s]"
     ]
    },
    {
     "name": "stdout",
     "output_type": "stream",
     "text": [
      "Loss = 0.585733,Accuracy_value = 0.964086,Accuracy_instance = 0.000000\n",
      "Label_One_Predict_One = 0.391513,Predict_One_Label_One = 0.533584,Nombre_Predict_One = 25.900000,Nombre_One_Mean = 34.300000\n",
      "Label_Zero_Predict_Zero = 0.986043,Label_Zero_Predict_Zero = 0.976886,Nombre_Predict_Zero = 904.100000,Nombre_Zero_Mean = 895.700000\n",
      "Accuracy_fixe_mean = 0.982796,Accuracy_fixe_one = 0.650390,Accuracy_fixe_zero = 0.986415\n",
      "\n"
     ]
    },
    {
     "name": "stderr",
     "output_type": "stream",
     "text": [
      " 50%|███████████████████████████████████████▌                                       | 500/1000 [07:15<07:08,  1.17it/s]"
     ]
    },
    {
     "name": "stdout",
     "output_type": "stream",
     "text": [
      "Loss = 0.644391,Accuracy_value = 0.963548,Accuracy_instance = 0.000000\n",
      "Label_One_Predict_One = 0.412185,Predict_One_Label_One = 0.530454,Nombre_Predict_One = 27.800000,Nombre_One_Mean = 34.300000\n",
      "Label_Zero_Predict_Zero = 0.984704,Label_Zero_Predict_Zero = 0.977615,Nombre_Predict_Zero = 902.200000,Nombre_Zero_Mean = 895.700000\n",
      "Accuracy_fixe_mean = 0.982258,Accuracy_fixe_one = 0.556147,Accuracy_fixe_zero = 0.987213\n",
      "\n"
     ]
    },
    {
     "name": "stderr",
     "output_type": "stream",
     "text": [
      " 55%|███████████████████████████████████████████▍                                   | 550/1000 [07:59<06:31,  1.15it/s]"
     ]
    },
    {
     "name": "stdout",
     "output_type": "stream",
     "text": [
      "Loss = 0.730779,Accuracy_value = 0.960645,Accuracy_instance = 0.000000\n",
      "Label_One_Predict_One = 0.397059,Predict_One_Label_One = 0.466145,Nombre_Predict_One = 29.500000,Nombre_One_Mean = 34.300000\n",
      "Label_Zero_Predict_Zero = 0.982248,Label_Zero_Predict_Zero = 0.977017,Nombre_Predict_Zero = 900.500000,Nombre_Zero_Mean = 895.700000\n",
      "Accuracy_fixe_mean = 0.982661,Accuracy_fixe_one = 0.556667,Accuracy_fixe_zero = 0.986963\n",
      "\n"
     ]
    },
    {
     "name": "stderr",
     "output_type": "stream",
     "text": [
      " 60%|███████████████████████████████████████████████▍                               | 600/1000 [08:42<05:42,  1.17it/s]"
     ]
    },
    {
     "name": "stdout",
     "output_type": "stream",
     "text": [
      "Loss = 0.917592,Accuracy_value = 0.960645,Accuracy_instance = 0.000000\n",
      "Label_One_Predict_One = 0.417731,Predict_One_Label_One = 0.475154,Nombre_Predict_One = 30.900000,Nombre_One_Mean = 34.300000\n",
      "Label_Zero_Predict_Zero = 0.981466,Label_Zero_Predict_Zero = 0.977754,Nombre_Predict_Zero = 899.100000,Nombre_Zero_Mean = 895.700000\n",
      "Accuracy_fixe_mean = 0.981317,Accuracy_fixe_one = 0.536838,Accuracy_fixe_zero = 0.986405\n",
      "\n"
     ]
    },
    {
     "name": "stderr",
     "output_type": "stream",
     "text": [
      " 65%|███████████████████████████████████████████████████▎                           | 650/1000 [09:26<05:02,  1.16it/s]"
     ]
    },
    {
     "name": "stdout",
     "output_type": "stream",
     "text": [
      "Loss = 0.934052,Accuracy_value = 0.961828,Accuracy_instance = 0.000000\n",
      "Label_One_Predict_One = 0.452857,Predict_One_Label_One = 0.496601,Nombre_Predict_One = 32.200000,Nombre_One_Mean = 34.300000\n",
      "Label_Zero_Predict_Zero = 0.981355,Label_Zero_Predict_Zero = 0.979071,Nombre_Predict_Zero = 897.800000,Nombre_Zero_Mean = 895.700000\n",
      "Accuracy_fixe_mean = 0.982661,Accuracy_fixe_one = 0.576596,Accuracy_fixe_zero = 0.987351\n",
      "\n"
     ]
    },
    {
     "name": "stderr",
     "output_type": "stream",
     "text": [
      " 70%|███████████████████████████████████████████████████████▎                       | 700/1000 [10:10<04:23,  1.14it/s]"
     ]
    },
    {
     "name": "stdout",
     "output_type": "stream",
     "text": [
      "Loss = 0.981822,Accuracy_value = 0.962151,Accuracy_instance = 0.000000\n",
      "Label_One_Predict_One = 0.470252,Predict_One_Label_One = 0.498855,Nombre_Predict_One = 33.100000,Nombre_One_Mean = 34.300000\n",
      "Label_Zero_Predict_Zero = 0.981019,Label_Zero_Predict_Zero = 0.979707,Nombre_Predict_Zero = 896.900000,Nombre_Zero_Mean = 895.700000\n",
      "Accuracy_fixe_mean = 0.982258,Accuracy_fixe_one = 0.575971,Accuracy_fixe_zero = 0.987474\n",
      "\n"
     ]
    },
    {
     "name": "stderr",
     "output_type": "stream",
     "text": [
      " 75%|███████████████████████████████████████████████████████████▎                   | 750/1000 [10:53<03:32,  1.17it/s]"
     ]
    },
    {
     "name": "stdout",
     "output_type": "stream",
     "text": [
      "Loss = 0.911781,Accuracy_value = 0.961075,Accuracy_instance = 0.000000\n",
      "Label_One_Predict_One = 0.441008,Predict_One_Label_One = 0.474803,Nombre_Predict_One = 32.100000,Nombre_One_Mean = 34.300000\n",
      "Label_Zero_Predict_Zero = 0.981020,Label_Zero_Predict_Zero = 0.978625,Nombre_Predict_Zero = 897.900000,Nombre_Zero_Mean = 895.700000\n",
      "Accuracy_fixe_mean = 0.983335,Accuracy_fixe_one = 0.563571,Accuracy_fixe_zero = 0.987368\n",
      "\n"
     ]
    },
    {
     "name": "stderr",
     "output_type": "stream",
     "text": [
      " 80%|███████████████████████████████████████████████████████████████▏               | 800/1000 [11:37<02:53,  1.15it/s]"
     ]
    },
    {
     "name": "stdout",
     "output_type": "stream",
     "text": [
      "Loss = 1.061602,Accuracy_value = 0.963011,Accuracy_instance = 0.000000\n",
      "Label_One_Predict_One = 0.438235,Predict_One_Label_One = 0.509106,Nombre_Predict_One = 30.100000,Nombre_One_Mean = 34.300000\n",
      "Label_Zero_Predict_Zero = 0.983141,Label_Zero_Predict_Zero = 0.978557,Nombre_Predict_Zero = 899.900000,Nombre_Zero_Mean = 895.700000\n",
      "Accuracy_fixe_mean = 0.982936,Accuracy_fixe_one = 0.575613,Accuracy_fixe_zero = 0.987499\n",
      "\n"
     ]
    },
    {
     "name": "stderr",
     "output_type": "stream",
     "text": [
      " 85%|███████████████████████████████████████████████████████████████████▏           | 850/1000 [12:20<02:10,  1.15it/s]"
     ]
    },
    {
     "name": "stdout",
     "output_type": "stream",
     "text": [
      "Loss = 1.057061,Accuracy_value = 0.961505,Accuracy_instance = 0.000000\n",
      "Label_One_Predict_One = 0.443866,Predict_One_Label_One = 0.488554,Nombre_Predict_One = 31.900000,Nombre_One_Mean = 34.300000\n",
      "Label_Zero_Predict_Zero = 0.981355,Label_Zero_Predict_Zero = 0.978740,Nombre_Predict_Zero = 898.100000,Nombre_Zero_Mean = 895.700000\n",
      "Accuracy_fixe_mean = 0.982930,Accuracy_fixe_one = 0.492381,Accuracy_fixe_zero = 0.987905\n",
      "\n"
     ]
    },
    {
     "name": "stderr",
     "output_type": "stream",
     "text": [
      " 90%|███████████████████████████████████████████████████████████████████████        | 900/1000 [13:04<01:27,  1.14it/s]"
     ]
    },
    {
     "name": "stdout",
     "output_type": "stream",
     "text": [
      "Loss = 1.142183,Accuracy_value = 0.963871,Accuracy_instance = 0.000000\n",
      "Label_One_Predict_One = 0.414706,Predict_One_Label_One = 0.522433,Nombre_Predict_One = 27.700000,Nombre_One_Mean = 34.300000\n",
      "Label_Zero_Predict_Zero = 0.984926,Label_Zero_Predict_Zero = 0.977724,Nombre_Predict_Zero = 902.300000,Nombre_Zero_Mean = 895.700000\n",
      "Accuracy_fixe_mean = 0.984826,Accuracy_fixe_one = 0.566613,Accuracy_fixe_zero = 0.988878\n",
      "\n"
     ]
    },
    {
     "name": "stderr",
     "output_type": "stream",
     "text": [
      " 95%|███████████████████████████████████████████████████████████████████████████    | 950/1000 [13:47<00:42,  1.17it/s]"
     ]
    },
    {
     "name": "stdout",
     "output_type": "stream",
     "text": [
      "Loss = 0.998798,Accuracy_value = 0.963011,Accuracy_instance = 0.000000\n",
      "Label_One_Predict_One = 0.423361,Predict_One_Label_One = 0.511274,Nombre_Predict_One = 29.100000,Nombre_One_Mean = 34.300000\n",
      "Label_Zero_Predict_Zero = 0.983698,Label_Zero_Predict_Zero = 0.978017,Nombre_Predict_Zero = 900.900000,Nombre_Zero_Mean = 895.700000\n",
      "Accuracy_fixe_mean = 0.982663,Accuracy_fixe_one = 0.556515,Accuracy_fixe_zero = 0.986437\n",
      "\n"
     ]
    },
    {
     "name": "stderr",
     "output_type": "stream",
     "text": [
      "100%|██████████████████████████████████████████████████████████████████████████████| 1000/1000 [14:31<00:00,  1.15it/s]\n",
      "  0%|                                                                                         | 0/1000 [00:00<?, ?it/s]"
     ]
    },
    {
     "name": "stdout",
     "output_type": "stream",
     "text": [
      "Loss = 1.228986,Accuracy_value = 0.962151,Accuracy_instance = 0.000000\n",
      "Label_One_Predict_One = 0.417647,Predict_One_Label_One = 0.489361,Nombre_Predict_One = 29.600000,Nombre_One_Mean = 34.000000\n",
      "Label_Zero_Predict_Zero = 0.982813,Label_Zero_Predict_Zero = 0.978009,Nombre_Predict_Zero = 900.400000,Nombre_Zero_Mean = 896.000000\n",
      "Accuracy_fixe_mean = 0.983336,Accuracy_fixe_one = 0.531349,Accuracy_fixe_zero = 0.987526\n",
      "\n",
      "Loss = 1.002265,Accuracy_value = 0.934731,Accuracy_instance = 0.000000\n",
      "Label_One_Predict_One = 0.052353,Predict_One_Label_One = 0.060000,Nombre_Predict_One = 30.000000,Nombre_One_Mean = 34.300000\n",
      "Label_Zero_Predict_Zero = 0.968516,Label_Zero_Predict_Zero = 0.963889,Nombre_Predict_Zero = 900.000000,Nombre_Zero_Mean = 895.700000\n",
      "Accuracy_fixe_mean = 0.956989,Accuracy_fixe_one = 0.076111,Accuracy_fixe_zero = 0.963830\n",
      "\n"
     ]
    },
    {
     "name": "stderr",
     "output_type": "stream",
     "text": [
      "  5%|████                                                                            | 50/1000 [00:43<13:45,  1.15it/s]"
     ]
    },
    {
     "name": "stdout",
     "output_type": "stream",
     "text": [
      "Loss = 0.149121,Accuracy_value = 0.973011,Accuracy_instance = 0.000000\n",
      "Label_One_Predict_One = 0.510504,Predict_One_Label_One = 0.675008,Nombre_Predict_One = 25.800000,Nombre_One_Mean = 34.300000\n",
      "Label_Zero_Predict_Zero = 0.990732,Label_Zero_Predict_Zero = 0.981442,Nombre_Predict_Zero = 904.200000,Nombre_Zero_Mean = 895.700000\n",
      "Accuracy_fixe_mean = 0.993414,Accuracy_fixe_one = 0.000000,Accuracy_fixe_zero = 0.993414\n",
      "\n"
     ]
    },
    {
     "name": "stderr",
     "output_type": "stream",
     "text": [
      " 10%|███████▋                                                                        | 96/1000 [01:23<13:01,  1.16it/s]"
     ]
    }
   ],
   "source": [
    "nb_mlp = 6\n",
    "proportion = 0.8\n",
    "feature_size = 24\n",
    "H = 50\n",
    "info_valide = []\n",
    "gamma = 0.5\n",
    "alpha = 0.25\n",
    "batch_size = 1\n",
    "EPOCHS = 1000\n",
    "learning_rate = 0.001\n",
    "\n",
    "C = 0.75\n",
    "lam = 0.5\n",
    "for C in [0.5,0.75]:\n",
    "    for lam in [0.5,0.75]:\n",
    "#     criterion = nn.BCELoss()\n",
    "        criterion = SelectiveLoss(C,lam)\n",
    "    #     criterion = FocalLoss(gamma=gamma,alpha = alpha)\n",
    "        if criterion.__str__()==\"BCELoss()\":\n",
    "            train_name = data_name+\"_BCE_\"+\\\n",
    "                nb_mlp.__str__()+\"MLP_\"+H.__str__()+\"TailleH_\"+batch_size.__str__()+\"batch_size_\"+\"layernorm+cat\"\n",
    "        elif criterion.__str__()==\"FocalLoss()\":\n",
    "            train_name = data_name+\"_FL_\"+gamma.__str__()+\"Gamma_\"+alpha.__str__()+\"Alpha_\"+\\\n",
    "                nb_mlp.__str__()+\"MLP_\"+H.__str__()+\"TailleH_\"+batch_size.__str__()+\"batch_size_\"+\"layernorm+cat\"\n",
    "        elif criterion.__str__()==\"SelectiveLoss()\":\n",
    "            train_name = data_name+\"_SL_\"+C.__str__()+\"C_\"+lam.__str__()+\"Lambda_\"+\\\n",
    "                nb_mlp.__str__()+\"MLP_2\"\n",
    "        writer = SummaryWriter('./logs/'+data_name+\"/\"+train_name+\"/\")\n",
    "\n",
    "        net = VariablePredictorDiving(feature_size,H,nb_mlp)\n",
    "        net.to(device)\n",
    "        optm = Adam(net.parameters(), lr = learning_rate)\n",
    "\n",
    "        scheduler = torch.optim.lr_scheduler.ExponentialLR(optm, gamma=1-10e-6)\n",
    "        train(net,criterion,optm,data_valide_gpu,proportion,writer,batch_size = batch_size,EPOCHS=EPOCHS,\n",
    "                  do_valide = True,do_log = True,with_diving=True)\n",
    "\n",
    "        model_path = \"model/\"+train_name\n",
    "        torch.save(net.state_dict(),model_path)\n",
    "        msg=valide(net,criterion,data_test_gpu,with_diving = True,proportion = proportion)\n",
    "        info_valide.append(msg[1:])\n",
    "        with open('./logs/'+data_name+\"/\"+train_name+\"/valide_log.txt\", \"w\") as txtfile:\n",
    "            print(\"{}\".format(msg), file=txtfile)"
   ]
  },
  {
   "cell_type": "code",
   "execution_count": 10,
   "metadata": {},
   "outputs": [
    {
     "name": "stdout",
     "output_type": "stream",
     "text": [
      "tensor([8.4482e-01, 7.0993e-01, 4.5861e-01, 7.3144e-01, 9.1304e-01, 9.3933e-01,\n",
      "        9.3731e-01, 5.0099e-01, 6.7006e-01, 7.3515e-01, 8.7651e-01, 8.9266e-01,\n",
      "        8.2967e-01, 5.0032e-01, 8.4754e-01, 7.6282e-01, 4.2172e-01, 7.6467e-01,\n",
      "        5.6806e-01, 8.5224e-01, 6.9187e-01, 7.0456e-01, 7.5390e-01, 9.1449e-01,\n",
      "        6.6185e-01, 4.5202e-01, 8.2106e-01, 7.7814e-01, 8.9049e-01, 7.7285e-01,\n",
      "        7.1034e-01, 6.5150e-01, 6.5394e-01, 6.1719e-01, 9.8551e-01, 6.3281e-01,\n",
      "        4.8430e-01, 7.7013e-01, 6.4941e-01, 6.6755e-01, 1.3980e-02, 7.9107e-01,\n",
      "        5.1831e-01, 3.8291e-01, 6.5877e-01, 7.6392e-01, 7.8583e-01, 7.5604e-01,\n",
      "        7.1796e-01, 8.0867e-01, 5.1998e-01, 6.1760e-01, 7.6646e-01, 6.9464e-01,\n",
      "        5.2390e-01, 6.0149e-01, 7.0100e-01, 4.7394e-01, 9.3410e-02, 7.0056e-01,\n",
      "        6.5585e-01, 7.2066e-01, 9.0987e-01, 5.6609e-01, 6.2559e-01, 8.4878e-01,\n",
      "        9.4827e-01, 7.4763e-01, 7.5930e-01, 7.8882e-01, 8.0549e-01, 8.2390e-01,\n",
      "        6.7117e-01, 1.6658e-01, 6.9162e-01, 7.9774e-01, 8.6658e-01, 7.2356e-01,\n",
      "        5.3074e-01, 7.7312e-01, 5.3398e-01, 9.7431e-01, 1.4503e-01, 9.8650e-01,\n",
      "        9.6338e-01, 9.4402e-01, 8.4202e-01, 8.8692e-01, 9.5804e-01, 5.4545e-01,\n",
      "        7.1579e-01, 7.2161e-01, 3.0178e-01, 7.8725e-01, 6.5806e-01, 7.4206e-01,\n",
      "        7.9367e-01, 5.8419e-01, 6.6883e-01, 7.3691e-01, 7.5660e-01, 6.7802e-01,\n",
      "        7.0399e-01, 7.8379e-01, 7.4183e-01, 6.9709e-01, 7.3353e-01, 5.7435e-01,\n",
      "        7.0383e-01, 5.4513e-01, 7.2838e-01, 8.1514e-01, 5.0945e-01, 6.9560e-01,\n",
      "        8.1048e-01, 8.3510e-01, 7.7772e-01, 5.2529e-01, 7.9652e-01, 7.8748e-01,\n",
      "        7.0705e-01, 6.1164e-01, 9.1094e-01, 8.9234e-02, 7.0607e-01, 8.6121e-01,\n",
      "        7.1777e-01, 6.6501e-01, 9.3400e-01, 7.3684e-01, 8.5129e-01, 6.7257e-01,\n",
      "        7.3334e-01, 5.5643e-01, 5.6932e-01, 8.0138e-01, 9.2015e-01, 9.1597e-01,\n",
      "        6.8467e-01, 5.6196e-01, 6.2258e-01, 7.3256e-01, 6.9826e-01, 7.3980e-01,\n",
      "        8.2032e-01, 9.8503e-01, 4.2972e-01, 9.6766e-01, 7.5923e-01, 9.5551e-01,\n",
      "        6.9049e-01, 7.9270e-01, 9.7644e-01, 6.3484e-01, 6.8963e-01, 9.6172e-01,\n",
      "        8.2958e-01, 7.9856e-01, 8.7330e-01, 8.3050e-01, 9.9208e-01, 5.9894e-01,\n",
      "        7.9030e-01, 1.3457e-01, 6.8306e-01, 6.9324e-01, 7.2914e-01, 9.4707e-01,\n",
      "        7.3533e-01, 9.2637e-01, 6.9102e-01, 7.1252e-01, 7.6823e-01, 6.8953e-01,\n",
      "        9.0723e-01, 7.8926e-01, 7.9070e-01, 9.8158e-01, 7.7769e-01, 8.0955e-01,\n",
      "        8.2466e-01, 9.5971e-01, 9.4264e-01, 7.2090e-01, 8.6466e-01, 7.5574e-01,\n",
      "        6.3558e-01, 9.5438e-01, 8.9493e-01, 7.0675e-01, 3.8588e-01, 9.5763e-01,\n",
      "        7.8670e-01, 6.1957e-01, 6.5640e-01, 8.0181e-01, 9.9089e-01, 7.2382e-01,\n",
      "        7.6580e-01, 9.7505e-01, 7.5295e-01, 9.3107e-01, 2.8205e-02, 5.8563e-01,\n",
      "        6.5751e-01, 5.2793e-01, 8.8726e-01, 7.9728e-01, 7.6986e-01, 8.1092e-01,\n",
      "        8.4445e-01, 8.0796e-01, 5.0360e-01, 7.4200e-01, 9.6321e-01, 5.9051e-01,\n",
      "        8.4372e-01, 7.1216e-01, 7.0383e-01, 9.1550e-01, 6.7655e-01, 6.1027e-01,\n",
      "        5.9277e-01, 7.2142e-01, 7.4348e-01, 7.5006e-01, 8.7188e-01, 7.4935e-01,\n",
      "        6.9979e-01, 6.3671e-01, 5.9680e-01, 8.0316e-01, 7.3540e-01, 6.0745e-01,\n",
      "        6.6802e-01, 7.3953e-01, 4.8422e-01, 7.1420e-01, 6.9853e-01, 7.5812e-01,\n",
      "        7.2014e-01, 6.3146e-01, 7.9594e-01, 2.2711e-01, 7.7579e-01, 8.4969e-01,\n",
      "        7.2077e-01, 6.2320e-01, 5.8009e-01, 6.4102e-01, 7.1274e-01, 5.6504e-01,\n",
      "        9.7698e-01, 7.4838e-01, 7.5467e-01, 4.6681e-01, 7.3862e-01, 8.9093e-01,\n",
      "        6.1427e-01, 8.1591e-01, 7.8065e-01, 9.3387e-01, 9.7501e-01, 8.5559e-01,\n",
      "        7.5417e-01, 8.3124e-01, 8.5789e-01, 7.6013e-01, 7.9493e-01, 8.4289e-01,\n",
      "        1.6923e-01, 8.3344e-01, 2.2094e-01, 6.4919e-01, 8.7681e-01, 6.9702e-01,\n",
      "        7.1816e-01, 9.6968e-01, 7.5357e-01, 8.0588e-01, 7.2950e-01, 7.8664e-01,\n",
      "        9.4634e-01, 6.5515e-01, 8.5940e-01, 9.3522e-01, 8.5927e-01, 7.5744e-01,\n",
      "        9.7471e-01, 8.2055e-01, 6.9541e-01, 8.5005e-01, 8.5110e-01, 5.6099e-01,\n",
      "        9.6959e-01, 5.6861e-01, 9.7027e-01, 6.9540e-01, 7.5910e-01, 8.6232e-01,\n",
      "        6.4460e-01, 3.7433e-01, 9.8431e-01, 7.0942e-01, 8.8871e-01, 8.2638e-01,\n",
      "        8.5416e-01, 6.8686e-01, 8.9050e-01, 3.6709e-02, 8.9296e-01, 7.4361e-01,\n",
      "        9.2547e-01, 7.3639e-01, 6.9880e-01, 5.9999e-01, 6.3576e-01, 7.6272e-01,\n",
      "        8.8554e-01, 8.8518e-01, 5.4932e-01, 7.5520e-01, 2.8121e-01, 9.5378e-01,\n",
      "        6.1582e-01, 9.9279e-01, 9.4621e-01, 9.0873e-01, 8.1052e-01, 1.9197e-01,\n",
      "        8.3470e-01, 9.1689e-01, 6.0276e-01, 7.6673e-01, 7.6035e-01, 7.6347e-01,\n",
      "        5.5455e-01, 8.0701e-01, 7.3109e-01, 7.2010e-01, 7.4179e-01, 8.2493e-01,\n",
      "        7.5737e-01, 6.6985e-01, 8.1927e-01, 8.0120e-01, 7.1110e-01, 7.4301e-01,\n",
      "        8.2653e-01, 7.3357e-01, 8.4822e-01, 6.0562e-01, 8.7593e-01, 4.8221e-01,\n",
      "        7.3479e-01, 7.2769e-01, 6.8774e-01, 6.2451e-01, 8.3179e-01, 6.6580e-01,\n",
      "        9.9317e-01, 8.4644e-01, 9.2752e-01, 9.3474e-01, 9.2626e-01, 6.5987e-01,\n",
      "        9.5766e-01, 7.4060e-01, 8.3067e-01, 7.3229e-01, 7.4358e-01, 9.2784e-01,\n",
      "        7.8685e-01, 6.1529e-01, 6.3066e-01, 9.2630e-01, 9.1986e-01, 9.2632e-01,\n",
      "        9.9761e-01, 5.5742e-01, 8.1600e-01, 7.4415e-01, 8.7130e-01, 8.9654e-01,\n",
      "        7.2546e-01, 3.4634e-01, 7.1008e-01, 7.2627e-01, 8.9432e-01, 9.5232e-01,\n",
      "        6.2575e-01, 6.4254e-01, 6.9641e-01, 5.6517e-01, 6.8571e-01, 7.6827e-01,\n",
      "        7.4252e-01, 6.7315e-01, 7.7809e-01, 9.9566e-01, 8.1358e-01, 8.4332e-01,\n",
      "        7.7626e-01, 5.9146e-01, 7.7066e-01, 6.3607e-01, 1.4920e-01, 8.0256e-01,\n",
      "        5.0960e-01, 6.7614e-01, 7.1041e-01, 7.2219e-01, 6.8104e-01, 9.7012e-01,\n",
      "        7.9321e-01, 9.5545e-01, 8.5028e-01, 7.0258e-01, 6.7647e-01, 3.2600e-01,\n",
      "        7.2098e-01, 6.1290e-01, 9.8523e-01, 8.0342e-01, 8.3194e-01, 9.1692e-01,\n",
      "        9.3956e-01, 6.6028e-01, 6.6621e-01, 7.6766e-01, 9.8972e-01, 7.1573e-01,\n",
      "        8.1115e-01, 7.8334e-01, 7.5127e-01, 8.4202e-01, 6.7505e-01, 8.1491e-01,\n",
      "        5.8441e-01, 8.4602e-01, 7.7565e-01, 7.8627e-01, 6.8568e-01, 8.4217e-01,\n",
      "        9.8373e-01, 9.6576e-01, 9.8560e-01, 9.3045e-01, 7.8342e-01, 3.0721e-01,\n",
      "        7.1424e-01, 6.1549e-01, 9.7606e-01, 8.0103e-01, 7.4351e-01, 9.1695e-01,\n",
      "        9.5496e-01, 6.1883e-01, 7.4579e-01, 3.2357e-01, 9.5110e-01, 5.8305e-01,\n",
      "        7.8119e-01, 8.0680e-01, 8.1632e-01, 5.7301e-01, 7.5249e-01, 9.7090e-01,\n",
      "        6.9183e-01, 9.6321e-01, 5.7289e-03, 7.3181e-01, 8.1234e-01, 9.8327e-01,\n",
      "        9.9668e-01, 7.4667e-01, 9.2940e-01, 9.9594e-01, 9.7938e-01, 2.6461e-01,\n",
      "        7.1896e-01, 7.0385e-01, 7.7849e-01, 6.5640e-01, 7.9261e-01, 9.7232e-01,\n",
      "        8.3992e-01, 6.6336e-01, 6.5225e-01, 6.6658e-01, 9.5160e-01, 5.8411e-01,\n",
      "        8.1962e-01, 7.6720e-01, 6.6829e-01, 6.7497e-01, 7.7967e-01, 9.2953e-01,\n",
      "        5.1754e-01, 7.9383e-01, 6.3951e-01, 5.9047e-01, 6.9368e-01, 6.5061e-02,\n",
      "        9.7603e-01, 2.6533e-02, 7.2179e-01, 8.9184e-01, 9.7678e-01, 3.0070e-03,\n",
      "        6.6980e-01, 6.6982e-01, 8.2777e-01, 6.8561e-01, 9.8853e-01, 9.4470e-01,\n",
      "        6.9624e-01, 8.3033e-01, 7.6948e-01, 8.9526e-01, 8.4945e-01, 8.8401e-01,\n",
      "        9.7289e-01, 5.7300e-01, 7.8343e-01, 7.8036e-01, 8.5062e-01, 8.2514e-01,\n",
      "        7.3702e-01, 7.1519e-01, 6.2897e-01, 7.3684e-01, 8.7113e-01, 7.5496e-01,\n",
      "        4.9349e-01, 6.9147e-01, 8.1183e-01, 7.4571e-01, 7.7448e-01, 7.4775e-01,\n",
      "        8.1444e-01, 9.4176e-01, 1.8317e-01, 3.0528e-01, 8.4950e-01, 6.0325e-01,\n",
      "        7.4029e-01, 9.6044e-01, 6.2250e-02, 9.7443e-01, 7.9952e-01, 8.7477e-01,\n",
      "        8.9718e-01, 9.6569e-01, 9.3638e-01, 8.4960e-01, 9.7120e-01, 6.9661e-01,\n",
      "        7.8283e-01, 9.9441e-01, 8.3118e-01, 9.9251e-01, 8.0018e-01, 7.7761e-01,\n",
      "        9.6907e-01, 7.5269e-01, 5.0510e-03, 7.9202e-01, 6.8251e-01, 9.2937e-01,\n",
      "        7.3749e-01, 5.9094e-01, 8.4803e-01, 7.3449e-01, 8.2768e-01, 5.7307e-01,\n",
      "        5.9447e-03, 7.3000e-01, 6.7025e-01, 7.3780e-01, 7.7741e-01, 7.3981e-01,\n",
      "        7.9151e-01, 2.1384e-01, 7.6152e-01, 6.2802e-01, 7.8193e-01, 6.8496e-01,\n",
      "        6.6449e-01, 6.1150e-01, 7.3505e-01, 6.7161e-01, 5.8994e-01, 6.2379e-01,\n",
      "        7.2194e-01, 7.1981e-01, 8.0477e-01, 7.3294e-01, 7.8519e-01, 6.5625e-01,\n",
      "        7.4662e-01, 9.8009e-01, 2.9401e-01, 7.9520e-01, 9.0459e-01, 5.8770e-01,\n",
      "        8.8013e-01, 8.0795e-01, 6.3885e-01, 8.0570e-01, 7.4290e-01, 8.2868e-01,\n",
      "        7.4548e-01, 9.1416e-01, 8.8392e-01, 7.5502e-01, 8.7453e-01, 7.2970e-01,\n",
      "        8.8889e-01, 9.9415e-01, 6.5739e-01, 9.9255e-01, 8.1947e-01, 6.9910e-01,\n",
      "        7.7100e-01, 9.7400e-01, 4.7553e-01, 6.7105e-01, 6.8131e-01, 9.2842e-01,\n",
      "        9.3640e-01, 8.2521e-01, 9.3951e-01, 7.4242e-01, 9.2518e-01, 8.6131e-01,\n",
      "        8.4905e-01, 9.3670e-01, 8.7370e-01, 8.5922e-01, 8.2166e-01, 9.8727e-01,\n",
      "        9.5485e-01, 4.1144e-01, 8.1759e-01, 9.5286e-01, 9.9743e-01, 9.9172e-01,\n",
      "        8.8347e-01, 6.6499e-01, 8.4202e-01, 8.7702e-01, 8.6993e-01, 7.3191e-01,\n",
      "        7.3747e-01, 2.1141e-01, 9.4115e-01, 9.6743e-01, 7.3610e-01, 8.9509e-01,\n",
      "        6.6773e-01, 7.6668e-01, 9.6398e-01, 7.9525e-01, 8.2671e-01, 9.7280e-01,\n",
      "        7.4468e-01, 7.1115e-01, 6.3226e-01, 7.2021e-01, 8.6751e-01, 8.6335e-01,\n",
      "        8.3574e-01, 3.7871e-01, 5.7503e-01, 7.4415e-01, 8.7311e-01, 8.8182e-01,\n",
      "        8.4570e-01, 7.3890e-01, 5.7135e-01, 6.3357e-01, 8.0306e-01, 9.5786e-01,\n",
      "        7.4712e-01, 8.9449e-01, 9.5409e-01, 9.1464e-01, 7.2303e-01, 8.9237e-01,\n",
      "        7.2834e-01, 7.4871e-01, 9.6001e-01, 2.9080e-01, 5.5202e-01, 9.8744e-01,\n",
      "        7.0087e-01, 7.8991e-01, 7.6935e-01, 9.8039e-01, 8.5745e-01, 7.4056e-01,\n",
      "        6.6891e-01, 8.4261e-01, 7.8279e-01, 6.8487e-01, 7.2369e-01, 7.8722e-01,\n",
      "        7.6774e-01, 6.7297e-01, 3.8279e-01, 8.6752e-01, 6.6941e-01, 9.2562e-01,\n",
      "        9.2458e-01, 8.9120e-01, 9.2286e-01, 9.0571e-01, 7.8322e-01, 3.7051e-01,\n",
      "        9.6263e-01, 9.6796e-01, 9.7468e-01, 9.7034e-01, 6.8945e-01, 8.8404e-01,\n",
      "        7.4041e-01, 9.9010e-01, 9.7648e-01, 9.5419e-01, 9.7179e-01, 8.4308e-01,\n",
      "        8.4224e-01, 5.5021e-01, 8.6463e-01, 9.8534e-01, 9.6030e-01, 9.2985e-01,\n",
      "        9.8387e-01, 7.5721e-01, 8.2257e-01, 9.5870e-01, 9.2274e-01, 8.2849e-01,\n",
      "        7.6320e-01, 6.9839e-01, 7.8521e-01, 8.7525e-01, 9.5573e-01, 7.1760e-01,\n",
      "        9.1259e-01, 9.8061e-01, 4.1795e-01, 5.7416e-01, 9.7788e-01, 6.5857e-01,\n",
      "        7.1910e-01, 9.1260e-01, 8.4975e-01, 9.2221e-01, 6.6021e-01, 8.2486e-01,\n",
      "        8.0446e-01, 9.0610e-01, 1.3981e-03, 8.3363e-01, 9.6529e-01, 7.8847e-01,\n",
      "        9.0841e-01, 8.8926e-01, 9.7183e-01, 7.6048e-01, 9.0893e-01, 7.1602e-01,\n",
      "        7.5479e-01, 9.5902e-01, 7.5515e-01, 7.4358e-01, 9.8829e-01, 9.7905e-01,\n",
      "        8.0212e-01, 8.2907e-01, 6.5604e-01, 7.2523e-01, 8.0608e-01, 6.6236e-01,\n",
      "        7.1703e-01, 9.5093e-01, 6.5717e-01, 9.4811e-01, 7.2170e-01, 5.5847e-01,\n",
      "        7.1698e-01, 8.2102e-01, 7.0818e-01, 5.9826e-01, 8.3798e-01, 7.2824e-01,\n",
      "        8.6279e-01, 9.2786e-01, 8.2393e-01, 2.7496e-01, 6.3802e-01, 9.2304e-01,\n",
      "        7.1033e-01, 9.2806e-01, 6.2554e-01, 6.9630e-01, 6.8189e-01, 7.6828e-01,\n",
      "        5.1787e-01, 8.2682e-01, 5.5089e-01, 9.0989e-01, 5.0601e-01, 5.8623e-01,\n",
      "        2.6125e-01, 7.1428e-01, 8.1668e-01, 4.8228e-02, 7.1528e-01, 6.3278e-01,\n",
      "        8.1941e-01, 2.0158e-01, 7.0255e-01, 6.9307e-01, 7.4633e-01, 6.8319e-01,\n",
      "        7.2715e-01, 7.9067e-01, 7.0389e-01, 7.1549e-01, 3.9318e-01, 6.2399e-01,\n",
      "        8.2300e-01, 2.1365e-01, 7.4393e-01, 8.9961e-01, 7.9059e-01, 7.6265e-01,\n",
      "        9.4879e-01, 7.9154e-03, 8.2739e-01, 9.1063e-01, 7.9885e-01, 7.5257e-01,\n",
      "        7.0432e-01, 7.3735e-01, 9.5478e-01, 7.3107e-01, 7.0385e-01, 9.0580e-01,\n",
      "        8.5596e-01, 7.7369e-03, 6.9692e-01, 8.7869e-01, 7.2186e-01, 7.9546e-01,\n",
      "        7.4280e-01, 6.7406e-01, 6.7044e-01, 6.8599e-01, 6.4570e-01, 7.9123e-01,\n",
      "        8.0751e-01, 8.0485e-01, 6.7554e-01, 7.9418e-01, 7.9550e-01, 8.9770e-01,\n",
      "        7.4894e-01, 7.0889e-01, 8.0624e-01, 7.3152e-01, 8.9560e-01, 7.5499e-01,\n",
      "        7.3189e-01, 7.7506e-01, 7.7228e-01, 7.2314e-01, 5.9000e-01, 2.0580e-01,\n",
      "        8.6503e-01, 7.2316e-01, 6.4149e-01, 7.0091e-01, 7.8219e-01, 7.2219e-01,\n",
      "        8.4341e-01, 6.9238e-01, 6.8301e-01, 8.2458e-01, 6.9296e-01, 6.6162e-01,\n",
      "        7.3861e-01, 7.6404e-01, 5.7257e-01, 7.7211e-01, 5.8105e-01, 6.7676e-01,\n",
      "        7.1399e-01, 7.6696e-01, 6.0051e-01, 6.5179e-01, 3.4591e-04, 7.7410e-01,\n",
      "        9.2892e-01, 8.2066e-01, 5.9587e-01, 6.6636e-01, 6.8721e-01, 6.4047e-01,\n",
      "        7.2838e-01, 6.7079e-01, 7.5907e-01, 6.5197e-01, 8.4736e-01, 6.8786e-01,\n",
      "        8.1292e-01, 7.3291e-01, 6.7627e-01, 7.8496e-01, 1.0691e-02, 8.0062e-01,\n",
      "        7.8554e-01, 8.7696e-01, 7.7920e-01, 8.6712e-01, 6.7141e-01, 1.5381e-01],\n",
      "       device='cuda:0', grad_fn=<SqueezeBackward1>)\n",
      "tensor([8.3078e-01, 2.0938e-01, 9.1915e-01, 8.2225e-01, 5.1730e-01, 8.7581e-01,\n",
      "        8.2755e-01, 8.0525e-01, 9.6222e-01, 9.4936e-01, 6.6812e-01, 9.3942e-01,\n",
      "        8.0050e-01, 2.7990e-01, 8.1769e-01, 8.1199e-01, 9.8378e-01, 7.7197e-01,\n",
      "        2.4869e-01, 6.3473e-01, 8.8301e-01, 9.3627e-01, 7.7339e-01, 7.1504e-01,\n",
      "        9.1739e-01, 8.7389e-01, 8.5574e-01, 8.6887e-01, 8.6925e-01, 5.8097e-01,\n",
      "        6.7802e-01, 1.0210e-01, 8.5108e-01, 8.1553e-01, 8.1650e-01, 6.4678e-01,\n",
      "        7.6147e-01, 5.7098e-01, 5.8280e-01, 7.0656e-01, 6.3967e-01, 7.0730e-01,\n",
      "        7.8733e-01, 8.1544e-01, 8.0698e-01, 7.3530e-01, 7.5100e-01, 6.2567e-01,\n",
      "        7.5496e-01, 6.5049e-01, 6.6462e-01, 7.9245e-01, 5.9094e-01, 7.4832e-01,\n",
      "        5.6292e-01, 6.1908e-01, 7.3248e-01, 5.8343e-01, 7.9612e-01, 7.8623e-01,\n",
      "        9.7691e-01, 5.0043e-01, 9.4648e-01, 9.0697e-01, 9.6997e-01, 9.6048e-01,\n",
      "        8.9615e-01, 9.8716e-01, 6.9249e-01, 9.8815e-01, 9.2801e-01, 6.0755e-01,\n",
      "        9.9657e-01, 9.6134e-01, 9.2423e-01, 9.4793e-01, 5.2478e-01, 9.3696e-01,\n",
      "        9.9889e-01, 8.6696e-01, 8.0316e-01, 9.3385e-01, 5.6419e-01, 9.6758e-01,\n",
      "        6.9105e-01, 9.5785e-01, 8.8429e-01, 7.9918e-01, 8.4446e-01, 9.6746e-01,\n",
      "        7.5101e-01, 7.1426e-01, 9.2635e-01, 6.1401e-01, 9.5345e-01, 4.7250e-01,\n",
      "        9.4501e-01, 5.2256e-01, 8.9823e-01, 7.2197e-01, 5.9019e-01, 6.7440e-01,\n",
      "        9.5593e-01, 8.2859e-01, 6.6420e-01, 7.0962e-01, 8.6813e-01, 4.2497e-01,\n",
      "        1.1964e-01, 7.8255e-01, 5.8741e-01, 7.0117e-01, 6.4465e-01, 9.4891e-01,\n",
      "        6.7027e-01, 8.9389e-01, 6.7217e-01, 6.8488e-01, 8.4516e-01, 6.0544e-01,\n",
      "        9.9479e-01, 6.6495e-01, 6.6153e-01, 6.2476e-01, 7.6995e-01, 7.3757e-01,\n",
      "        7.0360e-01, 7.3995e-01, 6.4381e-01, 8.2245e-01, 8.4322e-01, 7.6742e-01,\n",
      "        7.4758e-01, 2.0531e-01, 6.5853e-01, 9.0735e-01, 7.1195e-01, 6.2168e-01,\n",
      "        9.9230e-01, 9.3592e-01, 8.1271e-01, 9.7271e-01, 6.7001e-01, 6.3965e-01,\n",
      "        5.0570e-01, 7.3103e-01, 7.1265e-01, 6.9552e-01, 8.5185e-01, 9.5025e-01,\n",
      "        6.7274e-01, 8.9510e-01, 9.7305e-01, 5.6213e-01, 6.1981e-01, 6.8283e-01,\n",
      "        9.2472e-01, 8.2462e-01, 7.3582e-01, 9.1782e-01, 5.6319e-01, 7.3590e-01,\n",
      "        1.6316e-01, 9.7734e-01, 9.4714e-01, 7.5591e-01, 7.6804e-01, 8.3293e-01,\n",
      "        7.4645e-01, 8.1209e-01, 7.1423e-01, 7.9089e-01, 6.9564e-01, 7.9498e-01,\n",
      "        7.2063e-01, 8.3824e-01, 8.3332e-01, 7.3847e-01, 7.8229e-01, 9.6596e-01,\n",
      "        5.7781e-01, 6.2796e-01, 6.6307e-01, 3.1577e-02, 7.5659e-01, 7.4991e-01,\n",
      "        8.7038e-01, 3.4531e-01, 7.5621e-01, 3.4042e-01, 7.4893e-01, 7.1527e-01,\n",
      "        9.0459e-01, 8.0880e-01, 5.5636e-01, 7.3742e-01, 6.9478e-01, 4.9533e-01,\n",
      "        7.5311e-01, 5.3391e-01, 8.7451e-01, 5.9976e-01, 6.8790e-01, 8.1225e-01,\n",
      "        5.8026e-01, 7.6207e-01, 7.4616e-01, 7.2809e-01, 7.0817e-01, 5.5200e-01,\n",
      "        9.8199e-01, 1.2704e-02, 9.8151e-01, 7.6861e-01, 6.6144e-01, 9.7187e-01,\n",
      "        8.9716e-01, 9.6412e-01, 7.4840e-01, 8.9560e-01, 9.2895e-01, 5.9974e-01,\n",
      "        9.6588e-01, 9.9305e-01, 8.3828e-01, 9.9227e-01, 6.2804e-01, 9.5418e-01,\n",
      "        9.2128e-01, 9.7221e-01, 4.8441e-01, 9.9607e-01, 7.6754e-01, 9.7259e-01,\n",
      "        5.5944e-01, 9.5391e-01, 9.6152e-01, 9.0160e-01, 8.8998e-01, 9.4280e-01,\n",
      "        9.2426e-01, 6.5607e-01, 8.2664e-01, 6.8026e-01, 5.7805e-01, 7.4709e-01,\n",
      "        6.6546e-01, 6.7456e-01, 7.2718e-01, 6.2443e-01, 7.7733e-01, 6.7213e-01,\n",
      "        6.9756e-01, 1.2955e-01, 6.7947e-01, 7.9160e-01, 6.4479e-02, 7.2968e-01,\n",
      "        9.5841e-01, 7.6546e-01, 6.4506e-01, 9.0532e-01, 5.4620e-01, 8.6454e-01,\n",
      "        8.6719e-01, 8.9564e-01, 7.5506e-01, 8.6916e-01, 4.5243e-01, 7.3689e-01,\n",
      "        9.9761e-01, 8.8482e-01, 6.5157e-01, 8.8033e-01, 7.9750e-01, 4.2471e-01,\n",
      "        7.4387e-01, 9.6907e-01, 7.5776e-01, 7.1488e-01, 7.8866e-01, 9.7755e-01,\n",
      "        6.8711e-01, 5.9872e-01, 5.6657e-01, 9.8960e-01, 9.2479e-01, 8.9275e-01,\n",
      "        9.0834e-01, 9.8456e-01, 8.7559e-01, 3.2051e-01, 8.7080e-01, 7.5318e-01,\n",
      "        7.6568e-01, 6.2397e-01, 8.4539e-01, 6.8783e-01, 9.6200e-01, 9.9185e-01,\n",
      "        9.7149e-01, 9.7239e-01, 9.9651e-01, 7.3192e-01, 4.2500e-01, 8.5941e-01,\n",
      "        9.3948e-01, 1.9244e-01, 9.7742e-01, 9.9564e-01, 9.2507e-01, 9.5353e-01,\n",
      "        9.5979e-01, 9.2289e-01, 9.3881e-01, 8.5793e-01, 9.8436e-01, 7.7491e-01,\n",
      "        5.6593e-01, 6.3688e-01, 9.4849e-01, 7.2123e-01, 9.7859e-01, 6.6631e-01,\n",
      "        8.0622e-01, 9.5272e-01, 8.6498e-01, 7.8754e-01, 9.9018e-01, 7.8437e-01,\n",
      "        5.1048e-01, 6.7533e-01, 7.4145e-01, 7.5653e-01, 7.8881e-01, 9.0117e-01,\n",
      "        8.2301e-01, 6.5111e-01, 7.7198e-01, 8.5576e-01, 7.5333e-01, 7.2765e-01,\n",
      "        7.3211e-01, 8.8790e-01, 7.3424e-01, 5.8249e-01, 9.4424e-01, 6.9091e-01,\n",
      "        3.3653e-01, 6.3167e-01, 9.5534e-01, 7.7445e-01, 9.1900e-01, 8.8232e-01,\n",
      "        5.4322e-01, 6.9026e-01, 7.1288e-01, 7.0475e-01, 6.7670e-01, 6.0406e-01,\n",
      "        8.5767e-01, 9.4225e-01, 8.3216e-01, 8.0763e-01, 9.3126e-01, 9.1750e-01,\n",
      "        7.9545e-01, 9.0379e-01, 9.6118e-01, 8.7621e-01, 3.3665e-02, 9.7750e-01,\n",
      "        8.1234e-01, 8.4524e-01, 3.7409e-01, 9.4748e-01, 9.9287e-01, 5.9576e-01,\n",
      "        3.9008e-01, 9.6886e-01, 9.3286e-01, 8.4722e-01, 9.6162e-01, 9.8772e-01,\n",
      "        8.3013e-01, 6.8374e-01, 6.7326e-01, 7.2694e-01, 7.1517e-01, 7.7820e-01,\n",
      "        9.8469e-01, 9.5413e-01, 6.1264e-01, 7.9974e-01, 9.5851e-01, 8.5204e-01,\n",
      "        5.3586e-01, 9.1905e-01, 9.1559e-01, 9.6330e-01, 7.3703e-01, 9.7984e-01,\n",
      "        4.6103e-01, 1.2350e-01, 6.6772e-01, 9.9231e-01, 9.5885e-01, 8.0294e-01,\n",
      "        9.9148e-01, 9.8838e-01, 9.2952e-01, 7.8914e-01, 9.2665e-01, 9.8084e-01,\n",
      "        9.6816e-01, 5.4339e-01, 7.6989e-01, 3.3116e-01, 9.8826e-01, 9.9386e-01,\n",
      "        8.9822e-01, 8.6900e-01, 7.0987e-01, 8.1356e-01, 8.3987e-01, 9.8306e-01,\n",
      "        7.1345e-01, 9.5212e-01, 6.5009e-01, 8.1444e-01, 5.9004e-01, 7.1800e-01,\n",
      "        5.2502e-01, 1.0029e-01, 7.1294e-01, 9.2329e-01, 3.3042e-02, 8.0912e-01,\n",
      "        9.0826e-01, 8.4698e-01, 6.9708e-01, 7.1947e-02, 7.1853e-01, 7.1020e-01,\n",
      "        7.0258e-01, 8.0992e-01, 8.2048e-01, 7.6567e-01, 9.5574e-01, 6.5953e-01,\n",
      "        8.3615e-01, 7.7470e-01, 8.4106e-03, 8.1335e-01, 7.8090e-01, 9.3453e-01,\n",
      "        7.0192e-01, 8.1669e-01, 7.7986e-01, 6.3427e-01, 6.3567e-01, 6.1183e-01,\n",
      "        6.6961e-01, 2.4024e-01, 7.2731e-01, 8.8419e-01, 7.1910e-01, 6.5214e-01,\n",
      "        9.8058e-01, 9.0962e-01, 7.9346e-01, 7.3981e-01, 7.8891e-01, 7.2431e-01,\n",
      "        7.3841e-01, 5.5756e-01, 5.7764e-01, 8.1598e-01, 9.4234e-01, 8.4320e-01,\n",
      "        9.2013e-01, 3.7260e-01, 7.4331e-01, 6.7097e-01, 4.6062e-01, 8.7019e-01,\n",
      "        7.9533e-01, 6.1202e-01, 7.8947e-01, 6.7377e-01, 6.5713e-01, 6.8565e-01,\n",
      "        7.8970e-01, 7.5518e-01, 9.1461e-01, 8.5780e-01, 6.1260e-01, 5.4087e-01,\n",
      "        7.3395e-01, 7.7065e-01, 7.9749e-01, 6.7059e-01, 7.3723e-01, 7.2307e-01,\n",
      "        6.3874e-01, 5.4183e-01, 1.2105e-02, 9.5553e-01, 8.6084e-01, 9.0993e-01,\n",
      "        8.3577e-01, 9.9371e-01, 9.0785e-01, 8.7223e-01, 3.6157e-01, 9.8079e-01,\n",
      "        7.4842e-01, 6.4525e-01, 9.7433e-01, 9.6098e-01, 8.5287e-01, 9.4136e-01,\n",
      "        2.2651e-03, 9.9279e-01, 9.2274e-01, 8.1413e-01, 9.2560e-01, 6.7213e-01,\n",
      "        6.2510e-01, 8.5638e-01, 9.5592e-01, 7.7142e-01, 9.3240e-01, 9.6563e-01,\n",
      "        9.4585e-01, 9.4412e-01, 9.4921e-01, 8.2047e-01, 7.5038e-01, 8.2771e-01,\n",
      "        7.3822e-01, 8.7641e-01, 4.7788e-01, 7.3624e-01, 7.2750e-01, 6.9379e-01,\n",
      "        7.0044e-01, 7.5824e-01, 6.6692e-01, 6.9092e-01, 7.0711e-01, 7.8367e-01,\n",
      "        5.7450e-01, 1.2371e-01, 6.8753e-01, 7.2566e-01, 6.2881e-01, 6.7392e-01,\n",
      "        6.9489e-01, 8.3020e-01, 8.1886e-01, 6.7167e-01, 6.5690e-01, 6.9125e-01,\n",
      "        6.3384e-01, 6.5799e-01, 9.7973e-01, 7.8758e-01, 8.1675e-01, 7.6066e-01,\n",
      "        6.8122e-01, 8.0178e-01, 7.1223e-01, 6.9811e-01, 6.2470e-01, 6.4098e-01,\n",
      "        6.8508e-01, 4.1459e-01, 6.1988e-01, 6.6294e-01, 7.4345e-01, 6.8666e-01,\n",
      "        6.6084e-01, 7.9755e-01, 6.4682e-01, 7.3209e-01, 8.4374e-01, 7.3579e-01,\n",
      "        6.0548e-01, 1.8664e-04, 5.4005e-01, 7.9591e-01, 6.0183e-01, 7.4685e-01,\n",
      "        5.9447e-01, 6.4501e-01, 6.7153e-01, 5.7265e-01, 7.1578e-01, 2.5626e-02,\n",
      "        9.6449e-01, 7.1909e-01, 8.0711e-01, 7.1389e-01, 9.7802e-01, 8.7340e-01,\n",
      "        7.0043e-01, 7.4273e-01, 9.0515e-01, 7.3922e-01, 7.2570e-01, 7.4876e-01,\n",
      "        8.2275e-01, 9.4559e-01, 6.6414e-01, 7.7237e-01, 7.5039e-01, 6.6875e-01,\n",
      "        4.6726e-01, 9.3557e-01, 7.9789e-01, 6.1722e-01, 7.4239e-01, 8.3394e-01,\n",
      "        7.0115e-01, 7.3479e-01, 6.0901e-01, 7.8628e-01, 6.0933e-01, 5.4043e-01,\n",
      "        9.1511e-01, 8.6398e-01, 5.8070e-01, 5.7485e-01, 2.6115e-01, 8.5919e-01,\n",
      "        8.2111e-01, 7.8755e-01, 7.0707e-01, 7.3308e-01, 8.2342e-01, 7.6887e-01,\n",
      "        8.2418e-01, 4.1525e-02, 6.1289e-01, 9.2167e-01, 8.3862e-01, 8.1741e-01,\n",
      "        8.6556e-01, 8.3183e-01, 3.2861e-02, 7.1181e-01, 8.4560e-01, 8.0854e-01,\n",
      "        8.0547e-01, 6.0606e-01, 7.5916e-01, 8.6586e-01, 6.7410e-01, 7.2004e-01,\n",
      "        6.7605e-01, 5.1063e-01, 7.5138e-01, 6.3641e-01, 6.8430e-01, 7.4799e-01,\n",
      "        7.9002e-01, 4.9985e-01, 6.5796e-01, 7.6715e-01, 6.6843e-01, 4.7566e-01,\n",
      "        8.4578e-01, 8.7478e-01, 7.8157e-01, 6.7635e-01, 6.6047e-01, 8.3034e-01,\n",
      "        7.2676e-01, 8.2263e-01, 7.4975e-01, 7.9892e-01, 6.8891e-01, 7.7572e-01,\n",
      "        6.8392e-01, 9.6962e-01, 7.3582e-01, 7.2570e-01, 8.1195e-01, 7.1523e-01,\n",
      "        8.7201e-01, 6.9734e-01, 6.4890e-01, 7.1465e-01, 8.2861e-01, 7.7451e-01,\n",
      "        6.7273e-01, 7.1046e-01, 1.7189e-01, 7.3220e-01, 8.5675e-01, 8.9592e-01,\n",
      "        5.2292e-01, 8.3725e-01, 8.1831e-01, 7.7345e-01, 6.7312e-01, 7.4478e-01,\n",
      "        3.4247e-01, 7.1058e-01, 7.4846e-01, 7.7458e-01, 7.6396e-01, 6.6282e-01,\n",
      "        3.6373e-01, 6.4251e-01, 6.8546e-01, 6.4441e-01, 7.5279e-01, 7.7882e-01,\n",
      "        7.4147e-01, 2.2235e-01, 5.9909e-01, 7.1126e-01, 8.5521e-01, 8.2957e-01,\n",
      "        7.2787e-01, 7.8797e-01, 7.5975e-01, 6.8751e-01, 8.5611e-01, 6.2236e-01,\n",
      "        8.8740e-01, 8.8788e-01, 7.7572e-01, 9.6704e-01, 6.6709e-01, 7.9408e-01,\n",
      "        5.9723e-03, 9.5053e-01, 6.9465e-01, 9.4119e-01, 5.9586e-01, 7.3357e-01,\n",
      "        6.9509e-01, 9.0282e-01, 8.0135e-01, 7.3470e-01, 9.9287e-01, 9.7213e-01,\n",
      "        8.8253e-01, 2.1099e-01, 8.5625e-01, 8.1068e-01, 6.0225e-01, 8.9298e-01,\n",
      "        7.1658e-01, 8.7380e-01, 6.7461e-01, 5.6751e-01, 9.8791e-01, 6.9585e-01,\n",
      "        9.6961e-01, 9.4282e-01, 2.3767e-01, 8.3395e-01, 7.2863e-01, 8.4719e-01,\n",
      "        9.4377e-01, 9.8408e-01, 5.9207e-01, 7.8580e-01, 2.9220e-01, 6.3956e-01,\n",
      "        8.0925e-01, 6.9985e-01, 8.1478e-01, 6.1992e-01, 9.3664e-01, 9.4037e-01,\n",
      "        7.7639e-01, 7.6206e-01, 8.7207e-01, 6.1066e-01, 9.8192e-01, 7.7144e-01,\n",
      "        8.7537e-01, 6.6793e-01, 8.7073e-01, 9.1985e-01, 6.9656e-01, 8.8431e-01,\n",
      "        9.8222e-01, 9.6576e-01, 7.5084e-01, 5.5716e-01, 7.5036e-01, 7.5759e-01,\n",
      "        4.6447e-01, 7.3647e-01, 9.6521e-01, 7.9617e-01, 8.4095e-01, 8.3631e-01,\n",
      "        6.5419e-01, 7.8199e-01, 6.5174e-01, 7.3416e-01, 7.3480e-01, 6.0230e-01,\n",
      "        5.3644e-01, 7.3284e-01, 9.9089e-01, 7.9158e-01, 9.9132e-01, 6.0925e-01,\n",
      "        9.9007e-01, 1.3356e-01, 7.7558e-01, 7.5566e-01, 7.1440e-01, 8.0152e-01,\n",
      "        9.6544e-01, 9.6659e-01, 8.8488e-01, 5.0321e-01, 7.5100e-01, 7.0573e-01,\n",
      "        7.6820e-01, 7.1829e-01, 7.5223e-01, 5.8520e-01, 4.8846e-01, 9.4161e-01,\n",
      "        6.5116e-01, 9.8024e-01, 7.5706e-01, 8.1344e-01, 8.9911e-01, 9.3791e-01,\n",
      "        6.0590e-01, 8.8573e-01, 8.1133e-01, 7.9920e-01, 7.1543e-01, 7.7007e-01,\n",
      "        9.4215e-01, 6.0193e-01, 8.7929e-01, 8.7504e-01, 5.9876e-01, 6.4079e-01,\n",
      "        9.1504e-01, 9.7128e-01, 8.4484e-01, 6.4376e-01, 5.2258e-02, 7.5801e-01,\n",
      "        3.7724e-01, 5.6842e-01, 6.0490e-01, 8.2957e-01, 7.3196e-01, 8.5565e-01,\n",
      "        7.3115e-01, 7.1114e-01, 4.7788e-01, 6.0920e-01, 7.3608e-01, 7.5019e-01,\n",
      "        5.8235e-01, 7.9483e-01, 8.7096e-01, 6.7531e-01, 9.9757e-01, 7.6333e-01,\n",
      "        9.7094e-01, 1.4462e-01, 9.6771e-01, 7.7101e-01, 7.9154e-01, 6.5293e-01,\n",
      "        9.5545e-01, 9.6166e-01, 8.4468e-01, 6.6606e-01, 8.6737e-01, 7.9944e-01,\n",
      "        1.8103e-01, 6.8174e-01, 8.7947e-01, 6.0248e-01, 7.2094e-01, 9.3170e-01,\n",
      "        7.1172e-01, 9.2977e-01, 6.3740e-01, 5.9932e-01, 9.4473e-01, 7.6883e-01,\n",
      "        6.2574e-01, 8.2033e-01, 6.0455e-01, 5.8375e-01, 8.4792e-01, 7.5393e-01,\n",
      "        7.1639e-01, 7.4482e-01, 7.7972e-01, 7.8101e-01, 6.7655e-01, 8.2572e-01,\n",
      "        7.6314e-01, 8.3271e-01, 7.5942e-01, 8.2768e-01, 7.3864e-01, 7.6434e-01,\n",
      "        2.9883e-01, 7.4445e-01, 7.4937e-01, 6.3537e-01, 6.4408e-01, 7.7661e-01,\n",
      "        7.8508e-01, 7.5349e-01, 7.6699e-01, 6.4172e-01, 6.9470e-01, 8.0999e-01],\n",
      "       device='cuda:0', grad_fn=<SqueezeBackward1>)\n"
     ]
    },
    {
     "name": "stdout",
     "output_type": "stream",
     "text": [
      "tensor([0.8222, 0.8661, 0.8843, 0.6234, 0.7691, 0.8396, 0.8599, 0.6071, 0.5295,\n",
      "        0.6109, 0.9042, 0.6358, 0.8465, 0.9461, 0.9183, 0.0946, 0.9209, 0.8797,\n",
      "        0.9381, 0.9553, 0.8015, 0.3719, 0.8441, 0.9092, 0.7438, 0.1673, 0.7324,\n",
      "        0.8805, 0.8301, 0.8158, 0.7039, 0.7687, 0.9281, 0.5703, 0.8330, 0.8603,\n",
      "        0.0617, 0.6613, 0.6523, 0.6623, 0.8001, 0.7239, 0.7440, 0.7320, 0.8378,\n",
      "        0.8584, 0.7997, 0.8573, 0.6872, 0.9165, 0.6538, 0.3602, 0.7632, 0.5807,\n",
      "        0.6445, 0.7190, 0.5778, 0.8672, 0.7534, 0.7806, 0.8748, 0.7079, 0.9025,\n",
      "        0.9401, 0.6727, 0.5856, 0.9853, 0.6154, 0.8946, 0.9388, 0.8243, 0.6889,\n",
      "        0.9810, 0.8696, 0.5739, 0.0697, 0.8977, 0.8652, 0.8072, 0.8408, 0.6999,\n",
      "        0.9890, 0.8236, 0.9007, 0.7048, 0.9882, 0.6774, 0.8232, 0.8649, 0.8245,\n",
      "        0.6373, 0.8635, 0.7442, 0.7541, 0.7170, 0.5928, 0.7597, 0.7552, 0.9762,\n",
      "        0.5660, 0.4846, 0.7276, 0.8477, 0.6692, 0.9937, 0.7276, 0.8698, 0.9953,\n",
      "        0.9675, 0.6306, 0.4419, 0.4990, 0.8623, 0.5557, 0.9385, 0.7949, 0.3291,\n",
      "        0.8052, 0.7826, 0.9917, 0.6545, 0.8271, 0.6924, 0.8508, 0.6474, 0.6743,\n",
      "        0.8036, 0.8099, 0.8626, 0.8638, 0.6990, 0.8959, 0.7666, 0.7161, 0.9185,\n",
      "        0.7530, 0.7679, 0.6524, 0.0010, 0.7149, 0.6536, 0.8859, 0.8133, 0.7175,\n",
      "        0.7260, 0.5650, 0.6059, 0.8190, 0.6404, 0.7003, 0.9989, 0.6106, 0.9492,\n",
      "        0.9722, 0.7632, 0.7967, 0.9815, 0.6128, 0.9301, 0.9650, 0.9564, 0.6355,\n",
      "        0.7663, 0.9420, 0.8125, 0.4452, 0.6754, 0.9139, 0.6812, 0.9825, 0.9205,\n",
      "        0.9552, 0.9598, 0.9812, 0.5430, 0.9655, 0.9845, 0.8202, 0.9617, 0.6348,\n",
      "        0.2789, 0.8712, 0.7844, 0.9881, 0.9956, 0.8407, 0.9694, 0.8658, 0.7953,\n",
      "        0.9577, 0.9015, 0.6546, 0.9378, 0.9478, 0.6827, 0.4434, 0.9562, 0.8943,\n",
      "        0.8061, 0.9917, 0.9939, 0.9982, 0.9289, 0.9502, 0.4332, 0.8816, 0.9988,\n",
      "        0.9935, 0.9346, 0.0292, 0.6808, 0.9170, 0.6777, 0.7870, 0.7103, 0.5961,\n",
      "        0.7969, 0.6258, 0.5384, 0.7807, 0.6134, 0.7887, 0.9178, 0.6708, 0.7584,\n",
      "        0.6960, 0.7737, 0.8137, 0.9351, 0.7988, 0.7631, 0.5176, 0.6074, 0.6421,\n",
      "        0.6554, 0.6715, 0.0286, 0.7375, 0.8617, 0.7289, 0.8368, 0.7358, 0.7710,\n",
      "        0.7623, 0.8145, 0.4825, 0.8247, 0.8382, 0.5753, 0.8029, 0.7845, 0.9638,\n",
      "        0.9908, 0.8529, 0.8606, 0.3118, 0.8086, 0.6144, 0.7280, 0.8067, 0.8642,\n",
      "        0.2950, 0.8092, 0.5677, 0.5885, 0.6024, 0.5115, 0.9492, 0.7668, 0.5170,\n",
      "        0.7404, 0.6873, 0.6169, 0.9312, 0.6371, 0.6536, 0.8066, 0.5761, 0.9878,\n",
      "        0.8750, 0.6452, 0.7483, 0.9366, 0.6371, 0.6082, 0.6365, 0.8054, 0.7270,\n",
      "        0.7331, 0.9447, 0.6687, 0.8494, 0.6671, 0.8630, 0.6922, 0.9553, 0.8569,\n",
      "        0.9866, 0.7569, 0.6267, 0.9557, 0.9593, 0.9149, 0.8190, 0.3537, 0.8543,\n",
      "        0.9549, 0.9599, 0.9374, 0.9891, 0.6218, 0.9351, 0.9954, 0.9959, 0.8805,\n",
      "        0.9674, 0.8246, 0.9654, 0.0603, 0.9872, 0.5108, 0.9538, 0.9938, 0.5518,\n",
      "        0.7424, 0.7775, 0.4615, 0.9441, 0.7888, 0.8948, 0.6295, 0.7633, 0.8395,\n",
      "        0.7287, 0.5778, 0.7038, 0.7819, 0.7782, 0.5861, 0.5577, 0.6653, 0.7320,\n",
      "        0.8506, 0.0027, 0.7482, 0.8499, 0.6859, 0.7837, 0.7453, 0.6983, 0.5839,\n",
      "        0.7492, 0.5054, 0.6642, 0.6512, 0.7958, 0.3370, 0.7022, 0.7485, 0.6813,\n",
      "        0.6654, 0.5390, 0.9008, 0.8718, 0.7838, 0.5815, 0.7632, 0.8984, 0.7304,\n",
      "        0.6485, 0.6707, 0.7962, 0.8457, 0.5766, 0.7851, 0.7590, 0.8286, 0.6789,\n",
      "        0.8857, 0.7597, 0.9780, 0.0872, 0.4569, 0.5847, 0.7805, 0.6719, 0.5646,\n",
      "        0.7690, 0.6559, 0.6269, 0.9292, 0.6362, 0.8916, 0.6072, 0.6615, 0.8694,\n",
      "        0.8990, 0.6720, 0.6786, 0.9756, 0.8090, 0.7292, 0.9398, 0.7995, 0.8530,\n",
      "        0.6457, 0.8138, 0.5071, 0.9590, 0.9368, 0.8117, 0.9668, 0.7204, 0.8193,\n",
      "        0.5261, 0.8991, 0.6768, 0.9775, 0.6687, 0.6266, 0.7283, 0.8847, 0.7848,\n",
      "        0.9840, 0.8231, 0.7396, 0.8479, 0.5811, 0.9453, 0.6389, 0.7732, 0.7381,\n",
      "        0.6770, 0.5885, 0.8567, 0.9451, 0.6306, 0.9004, 0.8012, 0.8016, 0.8088,\n",
      "        0.9426, 0.7700, 0.7552, 0.8273, 0.1535, 0.7476, 0.7741, 0.6306, 0.9445,\n",
      "        0.7977, 0.8823, 0.9357, 0.7921, 0.6446, 0.7643, 0.8313, 0.7873, 0.7729,\n",
      "        0.7565, 0.7769, 0.6368, 0.8883, 0.7979, 0.7239, 0.7595, 0.7399, 0.7880,\n",
      "        0.6670, 0.6420, 0.8414, 0.8152, 0.7714, 0.9249, 0.7460, 0.1354, 0.6025,\n",
      "        0.8164, 0.5682, 0.8167, 0.8086, 0.5086, 0.8628, 0.8502, 0.7877, 0.8150,\n",
      "        0.8475, 0.7800, 0.9142, 0.9958, 0.9494, 0.5560, 0.9216, 0.9776, 0.6875,\n",
      "        0.3791, 0.7595, 0.7547, 0.7763, 0.9929, 0.9868, 0.7239, 0.6455, 0.9861,\n",
      "        0.4719, 0.9708, 0.9152, 0.9540, 0.9154, 0.7925, 0.8415, 0.7708, 0.9933,\n",
      "        0.7027, 0.7679, 0.5929, 0.5122, 0.8922, 0.7306, 0.7796, 0.6446, 0.9685,\n",
      "        0.9363, 0.4866, 0.8257, 0.8736, 0.9231, 0.7132, 0.8028, 0.9185, 0.3715,\n",
      "        0.3145, 0.6855, 0.7671, 0.0177, 0.9402, 0.5116, 0.9200, 0.8948, 0.5767,\n",
      "        0.9931, 0.9037, 0.7368, 0.9752, 0.7956, 0.9393, 0.7545, 0.9114, 0.2464,\n",
      "        0.9048, 0.7499, 0.8057, 0.8006, 0.9188, 0.6755, 0.9963, 0.5574, 0.9927,\n",
      "        0.7918, 0.7747, 0.6135, 0.6615, 0.9609, 0.7564, 0.9550, 0.6745, 0.3978,\n",
      "        0.0082, 0.1569, 0.9972, 0.9633, 0.9945, 0.2476, 0.8946, 0.5800, 0.9260,\n",
      "        0.8534, 0.9780, 0.7549, 0.9867, 0.6055, 0.9333, 0.9694, 0.9772, 0.9929,\n",
      "        0.9418, 0.4930, 0.9450, 0.5648, 0.9017, 0.8699, 0.6690, 0.9844, 0.7903,\n",
      "        0.9084, 0.5684, 0.7539, 0.9495, 0.2774, 0.8104, 0.7306, 0.6787, 0.5261,\n",
      "        0.6269, 0.7647, 0.4536, 0.6678, 0.7171, 0.5507, 0.7161, 0.6924, 0.7709,\n",
      "        0.8034, 0.5569, 0.6555, 0.7849, 0.6852, 0.7257, 0.1693, 0.7161, 0.6316,\n",
      "        0.7436, 0.4864, 0.7014, 0.5486, 0.5417, 0.3669, 0.7029, 0.7710, 0.6465,\n",
      "        0.8500, 0.7617, 0.8230, 0.6438, 0.5598, 0.7062, 0.5893, 0.7116, 0.9866,\n",
      "        0.7152, 0.6986, 0.5534, 0.6597, 0.6835, 0.6363, 0.8703, 0.5785, 0.9677,\n",
      "        0.5857, 0.7208, 0.0141, 0.8983, 0.8875, 0.8448, 0.8855, 0.0381, 0.6321,\n",
      "        0.6189, 0.8775, 0.9485, 0.9721, 0.5968, 0.6854, 0.7219, 0.6521, 0.6956,\n",
      "        0.9705, 0.8273, 0.5655, 0.0337, 0.7198, 0.8458, 0.8985, 0.8314, 0.6135,\n",
      "        0.7618, 0.8072, 0.6946, 0.9506, 0.8293, 0.9280, 0.7837, 0.6843, 0.8584,\n",
      "        0.7329, 0.9825, 0.6805, 0.8861, 0.8715, 0.6461, 0.6527, 0.8686, 0.5660,\n",
      "        0.7762, 0.6986, 0.7452, 0.5865, 0.7476, 0.7299, 0.7837, 0.8325, 0.6744,\n",
      "        0.6180, 0.8894, 0.7036, 0.8277, 0.6201, 0.8339, 0.4770, 0.5667, 0.7113,\n",
      "        0.6613, 0.6737, 0.8018, 0.8176, 0.1967, 0.9954, 0.6093, 0.8726, 0.8480,\n",
      "        0.6434, 0.8984, 0.0370, 0.9519, 0.4666, 0.0078, 0.6816, 0.7791, 0.7768,\n",
      "        0.8995, 0.8020, 0.9019, 0.7389, 0.3844, 0.7243, 0.8880, 0.5354, 0.9389,\n",
      "        0.6666, 0.5875, 0.8723, 0.9459, 0.9225, 0.6349, 0.8654, 0.1022, 0.9477,\n",
      "        0.7352, 0.8551, 0.9419, 0.1466, 0.8716, 0.8016, 0.7111, 0.7749, 0.8230,\n",
      "        0.6505, 0.6655, 0.7105, 0.7369, 0.6269, 0.9878, 0.9294, 0.5181, 0.9067,\n",
      "        0.6789, 0.1278, 0.8031, 0.8760, 0.5904, 0.6202, 0.1830, 0.8537, 0.7805,\n",
      "        0.7600, 0.7936, 0.6860, 0.9530, 0.7888, 0.8458, 0.7598, 0.9861, 0.6384,\n",
      "        0.9860, 0.6382, 0.9102, 0.6605, 0.8050, 0.0319, 0.8609, 0.8658, 0.8490,\n",
      "        0.7439, 0.8850, 0.8511, 0.9933, 0.7084, 0.9712, 0.5807, 0.7542, 0.8553,\n",
      "        0.9496, 0.9448, 0.7542, 0.8067, 0.3357, 0.9040, 0.4534, 0.8977, 0.9150,\n",
      "        0.7282, 0.7006, 0.7382, 0.9120, 0.7082, 0.8591, 0.6636, 0.9456, 0.9946,\n",
      "        0.4732, 0.8854, 0.6467, 0.7512, 0.6995, 0.7426, 0.8788, 0.5356, 0.8122,\n",
      "        0.6086, 0.6433, 0.8311, 0.9375, 0.6780, 0.6046, 0.7057, 0.0564, 0.6768,\n",
      "        0.8521, 0.7527, 0.8990, 0.7473, 0.8491, 0.7587, 0.6144, 0.8034, 0.8210,\n",
      "        0.8275, 0.8763, 0.8034, 0.7422, 0.5767, 0.9203, 0.9109, 0.4628, 0.7302,\n",
      "        0.9211, 0.6191, 0.8017, 0.7036, 0.5968, 0.7426, 0.5218, 0.5424, 0.6136,\n",
      "        0.6665, 0.7953, 0.6912, 0.7339, 0.7851, 0.7114, 0.9018, 0.0089, 0.7353,\n",
      "        0.8266, 0.7259, 0.6031, 0.6726, 0.6131, 0.9929, 0.5944, 0.8788, 0.6302,\n",
      "        0.7715, 0.7436, 0.6861, 0.2289, 0.6591, 0.6490, 0.8384, 0.6774, 0.7649,\n",
      "        0.7848, 0.8020, 0.8444, 0.7426, 0.7043, 0.6148, 0.6975, 0.8448, 0.0013,\n",
      "        0.9774, 0.6111, 0.9495, 0.7617, 0.0047, 0.6083, 0.9146, 0.9023, 0.7376,\n",
      "        0.8132, 0.9696, 0.9532, 0.8677, 0.6797, 0.8547, 0.3943, 0.7515, 0.5511,\n",
      "        0.7644, 0.9658, 0.7405, 0.8198, 0.5960, 0.7504, 0.5531, 0.7936, 0.2532,\n",
      "        0.9826, 0.8364, 0.8241], device='cuda:0', grad_fn=<SqueezeBackward1>)\n",
      "tensor([0.6171, 0.7764, 0.7108, 0.8755, 0.8538, 0.8880, 0.8334, 0.7168, 0.8453,\n",
      "        0.6771, 0.5814, 0.9439, 0.8385, 0.6804, 0.9725, 0.9471, 0.7796, 0.9374,\n",
      "        0.6939, 0.4424, 0.7721, 0.8035, 0.6614, 0.7748, 0.7665, 0.8437, 0.6045,\n",
      "        0.5479, 0.8402, 0.8734, 0.9623, 0.9186, 0.6409, 0.8732, 0.7700, 0.8509,\n",
      "        0.8117, 0.6506, 0.8897, 0.5168, 0.9578, 0.4732, 0.5366, 0.9663, 0.9442,\n",
      "        0.6017, 0.7911, 0.9709, 0.5863, 0.6775, 0.7921, 0.7857, 0.8187, 0.6623,\n",
      "        0.9840, 0.6730, 0.6593, 0.8001, 0.6225, 0.6470, 0.9644, 0.7439, 0.6296,\n",
      "        0.9761, 0.6142, 0.8066, 0.6981, 0.9475, 0.7260, 0.9521, 0.1136, 0.9843,\n",
      "        0.7629, 0.3270, 0.8542, 0.6209, 0.6506, 0.6902, 0.5293, 0.9601, 0.6133,\n",
      "        0.9405, 0.6224, 0.8447, 0.5459, 0.9919, 0.7013, 0.9505, 0.9468, 0.3294,\n",
      "        0.8671, 0.9908, 0.5859, 0.9076, 0.7441, 0.7816, 0.8206, 0.6932, 0.9881,\n",
      "        0.9916, 0.9903, 0.7754, 0.6951, 0.9831, 0.9880, 0.7709, 0.8398, 0.8906,\n",
      "        0.8632, 0.8495, 0.6663, 0.6120, 0.9308, 0.6169, 0.6757, 0.8383, 0.7757,\n",
      "        0.7947, 0.8453, 0.6288, 0.9532, 0.9567, 0.8439, 0.9962, 0.5811, 0.9191,\n",
      "        0.9961, 0.7790, 0.7167, 0.7291, 0.9561, 0.9441, 0.9445, 0.8553, 0.9279,\n",
      "        0.9639, 0.8942, 0.9234, 0.0065, 0.9173, 0.7709, 0.7644, 0.3990, 0.7443,\n",
      "        0.8209, 0.6652, 0.7655, 0.6469, 0.7017, 0.5838, 0.9016, 0.7765, 0.9290,\n",
      "        0.9737, 0.9892, 0.5996, 0.9291, 0.9427, 0.5762, 0.9939, 0.5383, 0.7449,\n",
      "        0.8390, 0.4457, 0.7061, 0.8623, 0.8413, 0.7734, 0.9808, 0.9930, 0.9163,\n",
      "        0.9815, 0.9526, 0.9656, 0.9475, 0.9608, 0.9666, 0.7152, 0.8672, 0.9186,\n",
      "        0.9678, 0.7360, 0.6763, 0.6169, 0.7527, 0.6627, 0.4962, 0.9527, 0.7269,\n",
      "        0.9254, 0.9140, 0.9935, 0.7022, 0.5104, 0.6549, 0.7216, 0.6384, 0.6503,\n",
      "        0.7153, 0.9624, 0.0045, 0.9724, 0.9843, 0.8731, 0.6595, 0.9665, 0.9841,\n",
      "        0.9733, 0.9768, 0.7824, 0.6592, 0.6207, 0.7833, 0.6551, 0.6626, 0.6456,\n",
      "        0.8770, 0.9732, 0.6590, 0.6415, 0.8777, 0.6932, 0.8104, 0.4604, 0.6616,\n",
      "        0.9164, 0.7353, 0.7642, 0.6593, 0.8192, 0.7828, 0.6913, 0.6957, 0.6562,\n",
      "        0.7808, 0.7228, 0.8645, 0.5680, 0.7380, 0.7376, 0.7803, 0.6885, 0.7255,\n",
      "        0.7494, 0.8465, 0.5344, 0.0120, 0.7998, 0.7202, 0.8415, 0.4520, 0.9434,\n",
      "        0.6841, 0.7993, 0.6912, 0.7435, 0.8019, 0.6505, 0.3796, 0.6680, 0.0537,\n",
      "        0.7604, 0.8149, 0.5501, 0.7579, 0.7290, 0.5852, 0.7022, 0.6242, 0.5072,\n",
      "        0.5012, 0.8983, 0.4894, 0.9695, 0.6506, 0.6573, 0.9785, 0.8818, 0.3348,\n",
      "        0.7423, 0.8896, 0.9072, 0.9121, 0.8972, 0.7005, 0.8435, 0.7357, 0.9725,\n",
      "        0.8000, 0.7393, 0.7235, 0.9592, 0.1901, 0.8577, 0.9980, 0.9346, 0.5278,\n",
      "        0.8739, 0.6822, 0.7616, 0.7876, 0.7476, 0.7136, 0.7432, 0.7929, 0.7988,\n",
      "        0.8041, 0.9269, 0.6973, 0.9366, 0.9921, 0.7006, 0.7392, 0.2727, 0.5716,\n",
      "        0.7516, 0.5283, 0.7105, 0.5049, 0.9485, 0.8459, 0.8697, 0.7924, 0.7086,\n",
      "        0.7419, 0.7961, 0.6565, 0.9262, 0.9318, 0.6835, 0.8217, 0.9902, 0.8434,\n",
      "        0.9839, 0.5942, 0.9520, 0.9033, 0.6864, 0.6799, 0.7760, 0.7807, 0.8763,\n",
      "        0.8879, 0.9751, 0.8823, 0.8389, 0.8475, 0.9951, 0.9385, 0.0472, 0.6968,\n",
      "        0.7729, 0.4624, 0.7838, 0.8467, 0.6271, 0.7287, 0.8069, 0.5891, 0.5738,\n",
      "        0.9355, 0.9179, 0.7483, 0.8910, 0.8923, 0.7891, 0.8651, 0.7614, 0.9550,\n",
      "        0.0354, 0.8058, 0.7874, 0.8117, 0.9900, 0.9967, 0.6810, 0.6178, 0.9364,\n",
      "        0.6037, 0.8848, 0.7511, 0.1906, 0.9313, 0.7781, 0.9378, 0.8516, 0.8661,\n",
      "        0.7186, 0.9876, 0.5887, 0.9360, 0.9296, 0.9281, 0.8935, 0.9062, 0.2701,\n",
      "        0.8756, 0.8999, 0.9262, 0.9820, 0.9550, 0.6356, 0.7045, 0.9889, 0.7955,\n",
      "        0.6215, 0.6080, 0.9702, 0.6359, 0.9643, 0.8862, 0.5848, 0.7163, 0.6105,\n",
      "        0.9729, 0.6489, 0.6045, 0.8599, 0.9948, 0.8130, 0.7321, 0.8704, 0.7379,\n",
      "        0.9569, 0.6836, 0.6606, 0.9927, 0.4692, 0.7568, 0.7469, 0.9654, 0.8910,\n",
      "        0.9226, 0.8487, 0.7602, 0.8772, 0.6551, 0.9564, 0.6168, 0.5828, 0.4774,\n",
      "        0.8750, 0.1596, 0.7678, 0.9361, 0.7031, 0.7426, 0.7842, 0.6862, 0.7568,\n",
      "        0.7461, 0.9600, 0.8991, 0.9595, 0.5067, 0.7605, 0.9157, 0.9304, 0.5697,\n",
      "        0.7807, 0.9442, 0.8015, 0.9391, 0.9753, 0.9236, 0.8433, 0.9883, 0.9323,\n",
      "        0.9913, 0.9921, 0.4939, 0.8855, 0.6434, 0.9488, 0.9748, 0.9903, 0.7682,\n",
      "        0.9525, 0.6275, 0.7050, 0.7344, 0.6750, 0.6718, 0.6125, 0.7656, 0.6891,\n",
      "        0.7497, 0.8267, 0.4985, 0.1288, 0.8110, 0.5852, 0.5666, 0.7801, 0.4360,\n",
      "        0.6517, 0.6545, 0.6861, 0.7194, 0.7146, 0.5765, 0.7072, 0.8164, 0.6791,\n",
      "        0.6144, 0.8522, 0.6849, 0.6520, 0.6371, 0.6940, 0.8977, 0.5580, 0.9400,\n",
      "        0.6852, 0.7465, 0.6461, 0.6626, 0.9856, 0.7317, 0.8428, 0.9615, 0.7552,\n",
      "        0.7873, 0.2865, 0.7344, 0.5053, 0.6734, 0.9055, 0.5853, 0.8789, 0.8173,\n",
      "        0.6955, 0.9055, 0.7834, 0.6979, 0.0073, 0.6629, 0.9826, 0.7732, 0.6959,\n",
      "        0.5887, 0.7773, 0.7165, 0.7397, 0.7489, 0.6189, 0.8927, 0.7793, 0.6189,\n",
      "        0.6849, 0.9922, 0.7106, 0.7630, 0.8936, 0.8148, 0.7230, 0.7416, 0.8105,\n",
      "        0.6158, 0.7594, 0.5752, 0.5148, 0.8104, 0.5647, 0.8692, 0.8589, 0.6499,\n",
      "        0.5630, 0.7403, 0.5622, 0.7155, 0.1130, 0.1994, 0.4815, 0.7329, 0.6857,\n",
      "        0.5430, 0.7629, 0.7411, 0.5887, 0.7247, 0.9567, 0.7348, 0.6709, 0.5704,\n",
      "        0.7502, 0.3049, 0.6464, 0.7691, 0.1338, 0.8515, 0.7511, 0.7642, 0.5973,\n",
      "        0.7911, 0.9140, 0.7705, 0.9386, 0.6730, 0.9215, 0.8419, 0.9453, 0.7898,\n",
      "        0.7601, 0.5311, 0.8475, 0.9680, 0.6566, 0.9715, 0.7129, 0.6838, 0.7557,\n",
      "        0.7732, 0.9431, 0.9439, 0.9008, 0.7511, 0.9368, 0.9142, 0.8681, 0.7138,\n",
      "        0.7707, 0.7892, 0.8761, 0.9630, 0.6750, 0.7098, 0.7402, 0.8121, 0.7229,\n",
      "        0.9698, 0.7101, 0.6580, 0.6870, 0.7199, 0.5545, 0.6337, 0.9487, 0.6398,\n",
      "        0.9199, 0.8988, 0.6465, 0.6995, 0.7731, 0.6514, 0.7329, 0.6922, 0.7604,\n",
      "        0.4140, 0.6528, 0.5795, 0.7920, 0.6729, 0.6960, 0.6998, 0.7424, 0.7045,\n",
      "        0.9080, 0.8524, 0.6007, 0.7968, 0.7140, 0.5927, 0.7751, 0.7950, 0.7950,\n",
      "        0.7893, 0.0313, 0.7117, 0.8001, 0.9734, 0.6095, 0.7896, 0.6566, 0.7719,\n",
      "        0.8198, 0.6932, 0.7373, 0.9098, 0.9516, 0.8914, 0.8982, 0.8026, 0.9092,\n",
      "        0.7277, 0.7505, 0.9810, 0.9966, 0.8677, 0.6138, 0.9357, 0.8496, 0.8805,\n",
      "        0.7252, 0.7004, 0.6970, 0.8229, 0.5160, 0.8346, 0.8927, 0.6261, 0.6892,\n",
      "        0.7822, 0.9055, 0.7404, 0.5948, 0.0444, 0.7445, 0.9297, 0.7499, 0.7318,\n",
      "        0.2336, 0.6924, 0.6638, 0.6654, 0.7372, 0.6672, 0.8375, 0.7039, 0.8352,\n",
      "        0.8450, 0.8455, 0.4172, 0.8219, 0.4823, 0.6287, 0.8914, 0.9860, 0.6711,\n",
      "        0.6441, 0.9505, 0.7790, 0.6818, 0.2506, 0.0449, 0.7629, 0.6873, 0.7444,\n",
      "        0.6933, 0.6903, 0.6683, 0.7636, 0.9707, 0.7905, 0.6068, 0.7414, 0.1044,\n",
      "        0.9119, 0.8682, 0.6177, 0.6953, 0.6781, 0.6911, 0.8430, 0.8087, 0.6371,\n",
      "        0.6133, 0.7681, 0.6055, 0.6362, 0.9338, 0.9506, 0.8162, 0.7069, 0.7561,\n",
      "        0.6375, 0.7438, 0.6697, 0.6932, 0.7796, 0.8233, 0.8284, 0.7866, 0.6130,\n",
      "        0.6174, 0.9384, 0.7658, 0.9127, 0.8115, 0.8545, 0.7264, 0.7390, 0.6503,\n",
      "        0.8356, 0.8490, 0.7355, 0.8507, 0.7934, 0.7634, 0.9715, 0.9442, 0.8634,\n",
      "        0.8054, 0.8542, 0.6341, 0.5710, 0.7041, 0.7647, 0.7873, 0.9856, 0.8489,\n",
      "        0.8759, 0.7184, 0.9040, 0.4877, 0.7858, 0.7012, 0.9067, 0.7991, 0.8846,\n",
      "        0.7919, 0.7719, 0.7804, 0.6387, 0.7017, 0.7195, 0.6014, 0.7772, 0.5339,\n",
      "        0.9123, 0.9831, 0.8123, 0.7002, 0.7384, 0.6379, 0.6088, 0.5071, 0.6275,\n",
      "        0.4440, 0.7887, 0.6349, 0.6862, 0.9682, 0.5823, 0.5884, 0.7160, 0.7006,\n",
      "        0.9647, 0.8417, 0.5886, 0.8389, 0.7267, 0.7732, 0.1114, 0.6913, 0.8665,\n",
      "        0.9697, 0.6838, 0.8244, 0.7248, 0.9602, 0.7023, 0.8887, 0.9179, 0.8710,\n",
      "        0.7481, 0.6746, 0.9559, 0.8048, 0.7674, 0.5735, 0.7175, 0.0173, 0.6452,\n",
      "        0.6994, 0.5898, 0.7242, 0.6931, 0.6426, 0.6820, 0.9695, 0.9487, 0.5638,\n",
      "        0.9313, 0.7098, 0.8455, 0.7315, 0.7630, 0.6973, 0.9072, 0.6706, 0.6726,\n",
      "        0.9830, 0.8662, 0.7853, 0.9103, 0.8072, 0.8835, 0.9343, 0.8542, 0.7624,\n",
      "        0.7304, 0.6506, 0.8509, 0.8206, 0.7423, 0.4923, 0.5484, 0.7175, 0.6834,\n",
      "        0.9370, 0.9537, 0.0938, 0.6993, 0.6841, 0.9392, 0.9259, 0.8185, 0.7061,\n",
      "        0.8916, 0.9970, 0.0185, 0.9227, 0.9044, 0.9854, 0.7621, 0.5952, 0.9321,\n",
      "        0.8259, 0.9089, 0.7258, 0.4752, 0.6237, 0.7250, 0.9872, 0.5160, 0.7071,\n",
      "        0.5157, 0.7987, 0.8346], device='cuda:0', grad_fn=<SqueezeBackward1>)\n"
     ]
    },
    {
     "name": "stdout",
     "output_type": "stream",
     "text": [
      "tensor([0.5943, 0.8795, 0.6170, 0.7550, 0.9299, 0.7145, 0.4282, 0.9377, 0.9662,\n",
      "        0.7275, 0.8356, 0.8981, 0.6719, 0.7558, 0.7028, 0.7731, 0.7035, 0.9357,\n",
      "        0.7533, 0.8774, 0.8020, 0.8967, 0.8966, 0.6077, 0.8723, 0.8006, 0.4385,\n",
      "        0.8332, 0.7041, 0.7311, 0.6393, 0.6677, 0.7462, 0.8532, 0.6459, 0.6641,\n",
      "        0.8883, 0.6064, 0.6978, 0.0564, 0.7672, 0.9905, 0.7251, 0.4737, 0.8428,\n",
      "        0.6984, 0.7267, 0.8218, 0.7502, 0.9166, 0.8051, 0.6991, 0.7661, 0.8596,\n",
      "        0.7125, 0.8116, 0.1799, 0.8550, 0.8274, 0.7543, 0.7818, 0.6783, 0.4304,\n",
      "        0.9832, 0.8516, 0.7411, 0.9265, 0.8300, 0.8100, 0.0411, 0.9301, 0.7480,\n",
      "        0.9503, 0.6981, 0.9318, 0.9307, 0.7215, 0.8828, 0.9575, 0.9869, 0.8288,\n",
      "        0.3229, 0.5982, 0.9411, 0.6738, 0.9723, 0.7373, 0.7506, 0.9908, 0.7698,\n",
      "        0.9761, 0.7836, 0.8230, 0.7257, 0.7879, 0.9198, 0.8619, 0.8733, 0.9084,\n",
      "        0.6370, 0.6900, 0.9588, 0.6882, 0.7549, 0.7193, 0.5837, 0.7688, 0.8453,\n",
      "        0.5175, 0.6446, 0.9511, 0.8736, 0.7874, 0.3038, 0.2999, 0.9299, 0.9563,\n",
      "        0.9663, 0.7719, 0.7832, 0.8004, 0.5844, 0.8215, 0.9036, 0.7208, 0.8776,\n",
      "        0.8186, 0.8064, 0.7373, 0.7480, 0.5752, 0.6489, 0.7916, 0.7608, 0.5142,\n",
      "        0.6737, 0.7389, 0.6211, 0.6929, 0.8195, 0.7646, 0.8225, 0.3405, 0.8291,\n",
      "        0.8148, 0.7037, 0.6907, 0.4611, 0.6751, 0.7663, 0.7063, 0.6574, 0.6843,\n",
      "        0.7438, 0.7774, 0.8385, 0.7496, 0.5650, 0.6148, 0.7741, 0.7271, 0.6521,\n",
      "        0.8112, 0.6486, 0.7694, 0.7445, 0.8044, 0.8022, 0.7429, 0.7297, 0.7376,\n",
      "        0.8306, 0.7828, 0.7674, 0.8828, 0.5311, 0.7578, 0.6856, 0.6823, 0.7049,\n",
      "        0.9752, 0.9051, 0.7407, 0.7738, 0.6891, 0.8138, 0.9722, 0.7089, 0.9863,\n",
      "        0.4146, 0.7417, 0.9064, 0.7713, 0.8457, 0.9003, 0.2837, 0.9193, 0.7548,\n",
      "        0.8732, 0.6554, 0.9642, 0.8794, 0.7735, 0.3654, 0.9632, 0.9915, 0.9003,\n",
      "        0.9137, 0.7152, 0.9207, 0.6800, 0.5723, 0.6661, 0.8668, 0.8528, 0.7693,\n",
      "        0.8963, 0.7013, 0.8075, 0.9077, 0.7802, 0.8657, 0.8981, 0.7152, 0.8747,\n",
      "        0.7968, 0.7629, 0.7418, 0.7513, 0.7262, 0.7360, 0.6695, 0.8316, 0.9881,\n",
      "        0.7121, 0.8859, 0.7567, 0.8500, 0.8210, 0.7638, 0.9791, 0.9517, 0.7691,\n",
      "        0.6247, 0.9889, 0.9842, 0.1550, 0.9308, 0.7489, 0.9947, 0.8475, 0.8960,\n",
      "        0.8404, 0.4882, 0.6616, 0.1678, 0.9928, 0.9879, 0.7945, 0.9062, 0.5715,\n",
      "        0.8718, 0.9592, 0.9712, 0.9653, 0.6291, 0.8940, 0.9426, 0.7165, 0.9886,\n",
      "        0.8522, 0.8611, 0.4622, 0.6049, 0.6758, 0.6242, 0.9935, 0.8601, 0.8199,\n",
      "        0.8308, 0.6525, 0.0597, 0.7533, 0.7400, 0.8847, 0.7236, 0.6985, 0.6401,\n",
      "        0.1357, 0.7127, 0.8519, 0.5793, 0.5652, 0.9575, 0.7237, 0.8259, 0.3641,\n",
      "        0.7832, 0.7406, 0.7263, 0.7924, 0.9985, 0.7330, 0.7922, 0.9963, 0.7882,\n",
      "        0.5513, 0.9709, 0.7112, 0.9839, 0.9152, 0.9005, 0.9256, 0.6930, 0.7426,\n",
      "        0.9673, 0.9669, 0.9885, 0.9964, 0.9881, 0.8112, 0.9721, 0.7455, 0.9486,\n",
      "        0.9874, 0.6343, 0.9904, 0.9482, 0.7290, 0.9635, 0.0260, 0.8043, 0.7104,\n",
      "        0.7829, 0.7814, 0.0224, 0.9895, 0.8068, 0.6520, 0.8695, 0.8504, 0.7482,\n",
      "        0.8976, 0.9021, 0.8037, 0.7403, 0.5409, 0.8827, 0.8800, 0.7506, 0.7389,\n",
      "        0.7015, 0.8673, 0.8174, 0.7830, 0.8155, 0.3241, 0.7063, 0.7440, 0.7644,\n",
      "        0.8463, 0.9868, 0.7633, 0.7046, 0.7014, 0.9457, 0.9752, 0.7913, 0.9955,\n",
      "        0.7889, 0.7402, 0.9932, 0.8103, 0.7308, 0.9527, 0.7655, 0.9831, 0.9021,\n",
      "        0.8827, 0.6891, 0.9691, 0.8866, 0.9921, 0.3908, 0.8153, 0.9784, 0.9848,\n",
      "        0.9894, 0.8745, 0.9486, 0.7375, 0.6741, 0.7532, 0.7693, 0.7221, 0.7131,\n",
      "        0.7673, 0.8002, 0.0087, 0.7290, 0.8562, 0.8539, 0.7029, 0.8073, 0.5637,\n",
      "        0.6089, 0.7170, 0.6908, 0.4697, 0.7885, 0.8105, 0.4023, 0.6151, 0.7088,\n",
      "        0.7258, 0.6955, 0.8747, 0.8013, 0.6955, 0.6865, 0.9974, 0.9843, 0.7624,\n",
      "        0.6507, 0.8220, 0.8428, 0.1826, 0.9608, 0.7654, 0.9985, 0.9053, 0.9857,\n",
      "        0.7902, 0.8368, 0.6972, 0.9133, 0.8213, 0.9157, 0.6339, 0.9405, 0.5755,\n",
      "        0.9633, 0.7863, 0.9081, 0.9510, 0.7423, 0.9555, 0.8675, 0.8051, 0.8682,\n",
      "        0.7477, 0.6521, 0.7528, 0.6396, 0.8402, 0.7113, 0.9117, 0.6979, 0.5964,\n",
      "        0.7509, 0.7653, 0.5691, 0.9303, 0.8530, 0.6885, 0.7569, 0.6413, 0.8126,\n",
      "        0.8734, 0.9319, 0.8453, 0.7654, 0.5717, 0.9593, 0.5484, 0.7121, 0.7124,\n",
      "        0.7273, 0.5367, 0.6702, 0.7157, 0.8241, 0.7238, 0.0035, 0.0084, 0.8164,\n",
      "        0.9867, 0.7899, 0.7885, 0.9871, 0.0216, 0.8421, 0.9566, 0.6991, 0.7884,\n",
      "        0.6870, 0.6543, 0.7608, 0.6928, 0.8167, 0.7075, 0.8931, 0.7030, 0.7976,\n",
      "        0.8515, 0.9826, 0.7827, 0.6643, 0.8858, 0.7490, 0.6560, 0.5725, 0.8760,\n",
      "        0.9007, 0.7146, 0.7621, 0.8831, 0.0196, 0.7165, 0.8302, 0.8210, 0.7619,\n",
      "        0.8576, 0.9097, 0.9202, 0.9415, 0.5690, 0.7897, 0.9197, 0.9645, 0.7205,\n",
      "        0.8909, 0.5357, 0.9467, 0.8019, 0.8100, 0.7639, 0.7133, 0.8671, 0.6678,\n",
      "        0.8127, 0.6923, 0.7775, 0.6841, 0.7538, 0.7614, 0.7183, 0.7570, 0.7440,\n",
      "        0.7884, 0.7623, 0.8258, 0.6634, 0.7527, 0.5759, 0.7848, 0.8280, 0.7824,\n",
      "        0.6829, 0.8031, 0.7359, 0.6634, 0.5668, 0.8076, 0.6049, 0.7122, 0.7986,\n",
      "        0.8107, 0.6617, 0.8260, 0.7789, 0.6033, 0.7520, 0.7867, 0.7509, 0.5525,\n",
      "        0.8428, 0.8136, 0.7674, 0.4482, 0.7551, 0.6198, 0.7464, 0.5495, 0.0151,\n",
      "        0.7790, 0.7962, 0.8010, 0.7007, 0.6922, 0.6846, 0.8849, 0.7428, 0.8358,\n",
      "        0.7945, 0.5757, 0.7308, 0.7685, 0.8544, 0.7628, 0.9780, 0.7249, 0.6909,\n",
      "        0.6947, 0.8188, 0.8507, 0.8488, 0.7079, 0.8161, 0.7371, 0.7346, 0.7037,\n",
      "        0.6805, 0.8014, 0.7132, 0.8194, 0.7785, 0.8183, 0.7881, 0.7023, 0.9542,\n",
      "        0.1887, 0.8612, 0.1130, 0.9311, 0.7504, 0.8791, 0.7628, 0.8409, 0.8678,\n",
      "        0.9865, 0.6257, 0.7418, 0.6170, 0.7464, 0.8569, 0.2290, 0.8128, 0.7663,\n",
      "        0.2554, 0.7929, 0.7695, 0.8313, 0.8017, 0.7503, 0.8549, 0.7297, 0.8178,\n",
      "        0.2246, 0.7171, 0.7437, 0.7739, 0.6293, 0.9289, 0.8666, 0.6985, 0.5918,\n",
      "        0.6417, 0.7345, 0.5791, 0.9966, 0.9853, 0.7149, 0.6044, 0.7716, 0.9727,\n",
      "        0.9865, 0.7875, 0.7785, 0.4930, 0.8142, 0.7705, 0.6065, 0.8742, 0.9263,\n",
      "        0.8260, 0.9848, 0.9706, 0.7808, 0.7260, 0.8073, 0.9666, 0.8892, 0.7583,\n",
      "        0.8749, 0.8700, 0.9617, 0.9134, 0.6195, 0.9713, 0.8048, 0.7643, 0.5667,\n",
      "        0.7352, 0.5964, 0.6001, 0.7067, 0.7052, 0.6963, 0.7530, 0.7035, 0.8239,\n",
      "        0.9460, 0.8227, 0.7447, 0.0356, 0.6222, 0.9062, 0.7773, 0.8019, 0.7362,\n",
      "        0.7841, 0.4291, 0.0098, 0.7944, 0.6407, 0.8203, 0.5923, 0.6922, 0.6708,\n",
      "        0.7283, 0.6109, 0.8637, 0.9797, 0.7881, 0.8409, 0.9116, 0.7241, 0.7411,\n",
      "        0.9045, 0.9839, 0.7212, 0.9988, 0.6911, 0.8836, 0.8669, 0.6424, 0.8400,\n",
      "        0.9594, 0.9868, 0.9514, 0.4655, 0.8194, 0.9573, 0.8264, 0.9835, 0.4525,\n",
      "        0.7677, 0.9774, 0.7239, 0.6086, 0.9548, 0.7399, 0.8960, 0.7242, 0.5080,\n",
      "        0.6463, 0.5368, 0.8077, 0.9433, 0.8216, 0.6842, 0.6164, 0.7280, 0.9621,\n",
      "        0.7864, 0.5803, 0.5633, 0.0024, 0.6925, 0.0321, 0.7797, 0.9227, 0.9562,\n",
      "        0.6482, 0.9889, 0.4424, 0.6860, 0.9695, 0.8134, 0.7027, 0.6940, 0.8639,\n",
      "        0.8605, 0.8533, 0.6130, 0.0159, 0.7333, 0.7663, 0.6532, 0.9377, 0.5813,\n",
      "        0.7426, 0.0025, 0.7043, 0.8007, 0.7408, 0.9857, 0.8044, 0.8757, 0.6720,\n",
      "        0.8115, 0.0058, 0.9450, 0.7505, 0.7619, 0.5229, 0.6769, 0.7523, 0.8029,\n",
      "        0.7696, 0.8972, 0.8331, 0.7251, 0.8893, 0.3007, 0.7621, 0.6971, 0.6461,\n",
      "        0.6805, 0.7901, 0.8942, 0.6077, 0.6966, 0.7780, 0.6928, 0.7713, 0.9896,\n",
      "        0.6931, 0.6920, 0.7220, 0.9494, 0.8800, 0.8013, 0.8460, 0.8040, 0.8689,\n",
      "        0.8745, 0.7062, 0.7186, 0.7359, 0.6715, 0.5469, 0.6128, 0.8582, 0.7839,\n",
      "        0.7571, 0.5757, 0.7968, 0.7555, 0.7534, 0.8673, 0.8098, 0.7262, 0.8256,\n",
      "        0.7329, 0.5336, 0.7491, 0.8234, 0.8447, 0.5189, 0.5542, 0.5041, 0.7969,\n",
      "        0.6257, 0.7884, 0.6714, 0.7147, 0.7315, 0.8096, 0.7392, 0.6863, 0.8168,\n",
      "        0.9934, 0.7438, 0.0100, 0.9665, 0.6495, 0.8429, 0.9167, 0.9450, 0.6880,\n",
      "        0.8244, 0.8503, 0.6657, 0.7712, 0.6858, 0.6572, 0.9843, 0.9570, 0.7958,\n",
      "        0.7362, 0.7982, 0.9625, 0.7395, 0.9627, 0.6853, 0.8020, 0.9101, 0.8087,\n",
      "        0.8745, 0.9732, 0.8815, 0.7874, 0.9940, 0.9382, 0.7150, 0.9908, 0.7399,\n",
      "        0.9934, 0.9929, 0.8227, 0.9586, 0.7182, 0.7545, 0.9402, 0.9402, 0.6517,\n",
      "        0.9408, 0.9157, 0.6656, 0.0568, 0.8699, 0.9834, 0.8754, 0.7756, 0.9868,\n",
      "        0.9279, 0.6891, 0.9913], device='cuda:0', grad_fn=<SqueezeBackward1>)\n",
      "tensor([0.7521, 0.9104, 0.8901, 0.8548, 0.8128, 0.5530, 0.9860, 0.8454, 0.9423,\n",
      "        0.8189, 0.9057, 0.7839, 0.8900, 0.5011, 0.4311, 0.8067, 0.8600, 0.9389,\n",
      "        0.7797, 0.8743, 0.8138, 0.9446, 0.8884, 0.5856, 0.8489, 0.9032, 0.8514,\n",
      "        0.3034, 0.7582, 0.8258, 0.9701, 0.9504, 0.6773, 0.5374, 0.8702, 0.9164,\n",
      "        0.7308, 0.8346, 0.8851, 0.8680, 0.9893, 0.7330, 0.9234, 0.6627, 0.9356,\n",
      "        0.9604, 0.6204, 0.9057, 0.6648, 0.8686, 0.7759, 0.7224, 0.6765, 0.9082,\n",
      "        0.8001, 0.7442, 0.9449, 0.9720, 0.8214, 0.9138, 0.7527, 0.7245, 0.7928,\n",
      "        0.8079, 0.7871, 0.6976, 0.9668, 0.7852, 0.8727, 0.6180, 0.8569, 0.6643,\n",
      "        0.6595, 0.0337, 0.5564, 0.8798, 0.7812, 0.6595, 0.5725, 0.9841, 0.8137,\n",
      "        0.7547, 0.7927, 0.8453, 0.6825, 0.8246, 0.6776, 0.7108, 0.8416, 0.6880,\n",
      "        0.7684, 0.7622, 0.9131, 0.7808, 0.8494, 0.7459, 0.9786, 0.6327, 0.6137,\n",
      "        0.8696, 0.8690, 0.6379, 0.6932, 0.6433, 0.8445, 0.7849, 0.9652, 0.7954,\n",
      "        0.7354, 0.8677, 0.0430, 0.6735, 0.7871, 0.9651, 0.9461, 0.7965, 0.7583,\n",
      "        0.7537, 0.4449, 0.8025, 0.6867, 0.8265, 0.5978, 0.7902, 0.6759, 0.7686,\n",
      "        0.7605, 0.6578, 0.6682, 0.5922, 0.6756, 0.6904, 0.7821, 0.7623, 0.9655,\n",
      "        0.8750, 0.6749, 0.8543, 0.6329, 0.7977, 0.7458, 0.9164, 0.6017, 0.7887,\n",
      "        0.6238, 0.7356, 0.6723, 0.8164, 0.7494, 0.7964, 0.7550, 0.8265, 0.8147,\n",
      "        0.7501, 0.7206, 0.8247, 0.5176, 0.6756, 0.7017, 0.0406, 0.6513, 0.6327,\n",
      "        0.7417, 0.7247, 0.4683, 0.7960, 0.7595, 0.7326, 0.8002, 0.7639, 0.7618,\n",
      "        0.6673, 0.7611, 0.7908, 0.8035, 0.6308, 0.7288, 0.5940, 0.6726, 0.6053,\n",
      "        0.7197, 0.6720, 0.7407, 0.7572, 0.5441, 0.8223, 0.7004, 0.6607, 0.7926,\n",
      "        0.8194, 0.8425, 0.7557, 0.6050, 0.8096, 0.7720, 0.9589, 0.7006, 0.8093,\n",
      "        0.1879, 0.7001, 0.8560, 0.7925, 0.7868, 0.8076, 0.7578, 0.7480, 0.7935,\n",
      "        0.7376, 0.7558, 0.7477, 0.9182, 0.9267, 0.7936, 0.7143, 0.7628, 0.7869,\n",
      "        0.6883, 0.0490, 0.7149, 0.8208, 0.8010, 0.7132, 0.2177, 0.7379, 0.8898,\n",
      "        0.9846, 0.5718, 0.6950, 0.7276, 0.9000, 0.8399, 0.7451, 0.0136, 0.6885,\n",
      "        0.6066, 0.6540, 0.7324, 0.8082, 0.7349, 0.7248, 0.5610, 0.5121, 0.9947,\n",
      "        0.9372, 0.9920, 0.4449, 0.4936, 0.8134, 0.7256, 0.9608, 0.7013, 0.8404,\n",
      "        0.8167, 0.9882, 0.9931, 0.9827, 0.9783, 0.6033, 0.9615, 0.9859, 0.9436,\n",
      "        0.6205, 0.2449, 0.9468, 0.7923, 0.9256, 0.6620, 0.4544, 0.5765, 0.6224,\n",
      "        0.2820, 0.2149, 0.8250, 0.8893, 0.6418, 0.7607, 0.7930, 0.7634, 0.8411,\n",
      "        0.8896, 0.5503, 0.5827, 0.8186, 0.5022, 0.7949, 0.6348, 0.9595, 0.6892,\n",
      "        0.9492, 0.8623, 0.7089, 0.6621, 0.7927, 0.8827, 0.7329, 0.7539, 0.7912,\n",
      "        0.8112, 0.2954, 0.7386, 0.7467, 0.7324, 0.0791, 0.8798, 0.7188, 0.0141,\n",
      "        0.9161, 0.6624, 0.7098, 0.7142, 0.8033, 0.6936, 0.8004, 0.8317, 0.8501,\n",
      "        0.8558, 0.8521, 0.6924, 0.7815, 0.9670, 0.7448, 0.8000, 0.8083, 0.1948,\n",
      "        0.7507, 0.7427, 0.6669, 0.8064, 0.6026, 0.6473, 0.8338, 0.8849, 0.7416,\n",
      "        0.9875, 0.6284, 0.7658, 0.8371, 0.7764, 0.8480, 0.6285, 0.9801, 0.7637,\n",
      "        0.7356, 0.8169, 0.8932, 0.1200, 0.6714, 0.9209, 0.1607, 0.9505, 0.9379,\n",
      "        0.7395, 0.6836, 0.3315, 0.7027, 0.7563, 0.7966, 0.9123, 0.9812, 0.9876,\n",
      "        0.8547, 0.8374, 0.8292, 0.7285, 0.7962, 0.9218, 0.0083, 0.7202, 0.8321,\n",
      "        0.7139, 0.9982, 0.7367, 0.9456, 0.4164, 0.7280, 0.9952, 0.9348, 0.8606,\n",
      "        0.9107, 0.6735, 0.6479, 0.7382, 0.7646, 0.7245, 0.7278, 0.8512, 0.9896,\n",
      "        0.9410, 0.9788, 0.8749, 0.6986, 0.6970, 0.8618, 0.9591, 0.7749, 0.6842,\n",
      "        0.9820, 0.7637, 0.8071, 0.7861, 0.7821, 0.7676, 0.9582, 0.9905, 0.9934,\n",
      "        0.9172, 0.7796, 0.6855, 0.9136, 0.8461, 0.7332, 0.7079, 0.7061, 0.7240,\n",
      "        0.9601, 0.7647, 0.7164, 0.3884, 0.5964, 0.5913, 0.7382, 0.6832, 0.9925,\n",
      "        0.9739, 0.8481, 0.7952, 0.9600, 0.7001, 0.7028, 0.8462, 0.6820, 0.6305,\n",
      "        0.7237, 0.5348, 0.6691, 0.7246, 0.9563, 0.5560, 0.9604, 0.8901, 0.6036,\n",
      "        0.7158, 0.7137, 0.8862, 0.7481, 0.2417, 0.7790, 0.7581, 0.5416, 0.7810,\n",
      "        0.9446, 0.9688, 0.7084, 0.6644, 0.9438, 0.9617, 0.8141, 0.8858, 0.7147,\n",
      "        0.9679, 0.9273, 0.7583, 0.8197, 0.2549, 0.8384, 0.9949, 0.9657, 0.9488,\n",
      "        0.7674, 0.2863, 0.6823, 0.5139, 0.7419, 0.9674, 0.7460, 0.7066, 0.9534,\n",
      "        0.9794, 0.9040, 0.9442, 0.8340, 0.9098, 0.9869, 0.6615, 0.7942, 0.2095,\n",
      "        0.7403, 0.7440, 0.7182, 0.8216, 0.9803, 0.6767, 0.8845, 0.2782, 0.8306,\n",
      "        0.9553, 0.9635, 0.8976, 0.6867, 0.6320, 0.7658, 0.7523, 0.5507, 0.7724,\n",
      "        0.7226, 0.7139, 0.9616, 0.8793, 0.9615, 0.8355, 0.7155, 0.7513, 0.8337,\n",
      "        0.9642, 0.6788, 0.7050, 0.9515, 0.7715, 0.7983, 0.7217, 0.7105, 0.7908,\n",
      "        0.7433, 0.8222, 0.0338, 0.8265, 0.7863, 0.6168, 0.7343, 0.9371, 0.9842,\n",
      "        0.7511, 0.7730, 0.6337, 0.9692, 0.6473, 0.6870, 0.7123, 0.3243, 0.8231,\n",
      "        0.8028, 0.8066, 0.6005, 0.8489, 0.7781, 0.7972, 0.7102, 0.7217, 0.7166,\n",
      "        0.6245, 0.6268, 0.8095, 0.6754, 0.8386, 0.9214, 0.7286, 0.7114, 0.6451,\n",
      "        0.7214, 0.2030, 0.6163, 0.6267, 0.7087, 0.1382, 0.7371, 0.7213, 0.7091,\n",
      "        0.8557, 0.7745, 0.9822, 0.9693, 0.9047, 0.9855, 0.7546, 0.7610, 0.8849,\n",
      "        0.8877, 0.7958, 0.8737, 0.8614, 0.5097, 0.9031, 0.9115, 0.7283, 0.8232,\n",
      "        0.9537, 0.9069, 0.8058, 0.7458, 0.7719, 0.7726, 0.6427, 0.7661, 0.7979,\n",
      "        0.8477, 0.6159, 0.9981, 0.9501, 0.8928, 0.9840, 0.7570, 0.9907, 0.7221,\n",
      "        0.8946, 0.7203, 0.7660, 0.9372, 0.5036, 0.7836, 0.7261, 0.9842, 0.8564,\n",
      "        0.8518, 0.8881, 0.9893, 0.9782, 0.7834, 0.8593, 0.8443, 0.9417, 0.9665,\n",
      "        0.8444, 0.8396, 0.7811, 0.6282, 0.7268, 0.6601, 0.9749, 0.8213, 0.8337,\n",
      "        0.6350, 0.7619, 0.7125, 0.8269, 0.8884, 0.7534, 0.7006, 0.6587, 0.6822,\n",
      "        0.7189, 0.7263, 0.6391, 0.6008, 0.7856, 0.8945, 0.7247, 0.8472, 0.6952,\n",
      "        0.4729, 0.6048, 0.9450, 0.6888, 0.4452, 0.5430, 0.6781, 0.8102, 0.7288,\n",
      "        0.7280, 0.7259, 0.7423, 0.7502, 0.6032, 0.7438, 0.8976, 0.7541, 0.7999,\n",
      "        0.7598, 0.7264, 0.7835, 0.8157, 0.7719, 0.6369, 0.6945, 0.7992, 0.7082,\n",
      "        0.7199, 0.8464, 0.7187, 0.8083, 0.8601, 0.7775, 0.6195, 0.6990, 0.7338,\n",
      "        0.9684, 0.7044, 0.8320, 0.8055, 0.0299, 0.5841, 0.6707, 0.8623, 0.9224,\n",
      "        0.8354, 0.9653, 0.8726, 0.9470, 0.9854, 0.8497, 0.9096, 0.7080, 0.6285,\n",
      "        0.7589, 0.7784, 0.8754, 0.9406, 0.9634, 0.4755, 0.9392, 0.9782, 0.7977,\n",
      "        0.9279, 0.9937, 0.1083, 0.8407, 0.9829, 0.7104, 0.8237, 0.6642, 0.6768,\n",
      "        0.5608, 0.7130, 0.9815, 0.8153, 0.8202, 0.7758, 0.9972, 0.9851, 0.9779,\n",
      "        0.8408, 0.5869, 0.7118, 0.7728, 0.4775, 0.9359, 0.9241, 0.9462, 0.6145,\n",
      "        0.9767, 0.7112, 0.9789, 0.9695, 0.9554, 0.8750, 0.9663, 0.8449, 0.6349,\n",
      "        0.8152, 0.7379, 0.5732, 0.7227, 0.7568, 0.7335, 0.7900, 0.5462, 0.8366,\n",
      "        0.6559, 0.7410, 0.7626, 0.7995, 0.7640, 0.8395, 0.8507, 0.6768, 0.9641,\n",
      "        0.8747, 0.7628, 0.0440, 0.2492, 0.7089, 0.5135, 0.7044, 0.7471, 0.6683,\n",
      "        0.7833, 0.7200, 0.7832, 0.7961, 0.6965, 0.7325, 0.9719, 0.9434, 0.9458,\n",
      "        0.8020, 0.8343, 0.9711, 0.8332, 0.9117, 0.8199, 0.9951, 0.8044, 0.7837,\n",
      "        0.9131, 0.2474, 0.8010, 0.9701, 0.9204, 0.9137, 0.9295, 0.8172, 0.8148,\n",
      "        0.7918, 0.8008, 0.8295, 0.8224, 0.7464, 0.8559, 0.9980, 0.8658, 0.8859,\n",
      "        0.6966, 0.6850, 0.6951, 0.7044, 0.7232, 0.8439, 0.8205, 0.6468, 0.7208,\n",
      "        0.5928, 0.7086, 0.7508, 0.7541, 0.7969, 0.5975, 0.6957, 0.5990, 0.7588,\n",
      "        0.3248, 0.8190, 0.7881, 0.0062, 0.7798, 0.6930, 0.5209, 0.6990, 0.8742,\n",
      "        0.7382, 0.7947, 0.8650, 0.7844, 0.6668, 0.8123, 0.8035, 0.7050, 0.7431,\n",
      "        0.7751, 0.8208, 0.6256, 0.8184, 0.7085, 0.6686, 0.6850, 0.6342, 0.6097,\n",
      "        0.8830, 0.7816, 0.7623, 0.8580, 0.7338, 0.0175, 0.7187, 0.6514, 0.7384,\n",
      "        0.5040, 0.6549, 0.7528, 0.9423, 0.6444, 0.7906, 0.6969, 0.6547, 0.9473,\n",
      "        0.8269, 0.9746, 0.8747, 0.8947, 0.9108, 0.6194, 0.8697, 0.7444, 0.7302,\n",
      "        0.6434, 0.8104, 0.8767, 0.8231, 0.9877, 0.6899, 0.9376, 0.9817, 0.6951,\n",
      "        0.6187, 0.9794, 0.9418, 0.9534, 0.7286, 0.8114, 0.6374, 0.1527, 0.6536,\n",
      "        0.7055, 0.7012, 0.7554, 0.9938, 0.7191, 0.7236, 0.9721, 0.6559, 0.6333,\n",
      "        0.7590, 0.8108, 0.7359, 0.7927, 0.8375, 0.0858, 0.8428, 0.8026, 0.7198,\n",
      "        0.6060, 0.9403, 0.7739, 0.8491, 0.6997, 0.3513, 0.7580, 0.6224, 0.6620,\n",
      "        0.6112, 0.3134, 0.6618], device='cuda:0', grad_fn=<SqueezeBackward1>)\n"
     ]
    },
    {
     "name": "stdout",
     "output_type": "stream",
     "text": [
      "tensor([0.7835, 0.7694, 0.6752, 0.7916, 0.9391, 0.8493, 0.9355, 0.8375, 0.7020,\n",
      "        0.8039, 0.8234, 0.7294, 0.8990, 0.8150, 0.7787, 0.7379, 0.6939, 0.7884,\n",
      "        0.5822, 0.2811, 0.8777, 0.7395, 0.7603, 0.6848, 0.3622, 0.5850, 0.8054,\n",
      "        0.8505, 0.5253, 0.6632, 0.6712, 0.9948, 0.6548, 0.6611, 0.4042, 0.6825,\n",
      "        0.9657, 0.0111, 0.9484, 0.7243, 0.9689, 0.7897, 0.9508, 0.9368, 0.9041,\n",
      "        0.8300, 0.9753, 0.6957, 0.9901, 0.9285, 0.9780, 0.9850, 0.8988, 0.8231,\n",
      "        0.9610, 0.7584, 0.9521, 0.8956, 0.6249, 0.9865, 0.6763, 0.9902, 0.6812,\n",
      "        0.6010, 0.4834, 0.7295, 0.9195, 0.9166, 0.7480, 0.7658, 0.8535, 0.9460,\n",
      "        0.6984, 0.8023, 0.7646, 0.4597, 0.8587, 0.6971, 0.8335, 0.5049, 0.6752,\n",
      "        0.7303, 0.7633, 0.4877, 0.5665, 0.8017, 0.9887, 0.8655, 0.8787, 0.6242,\n",
      "        0.8235, 0.9839, 0.8965, 0.4336, 0.7083, 0.8354, 0.9362, 0.9324, 0.5418,\n",
      "        0.8378, 0.9650, 0.9609, 0.7390, 0.6219, 0.9791, 0.5526, 0.9642, 0.7562,\n",
      "        0.9278, 0.8470, 0.9802, 0.9096, 0.8099, 0.6555, 0.9667, 0.7652, 0.9949,\n",
      "        0.9819, 0.6906, 0.8285, 0.8502, 0.9964, 0.1086, 0.8519, 0.9484, 0.5620,\n",
      "        0.8930, 0.9857, 0.5899, 0.9905, 0.9469, 0.9739, 0.9191, 0.6478, 0.9848,\n",
      "        0.5776, 0.9455, 0.6474, 0.9868, 0.5554, 0.9703, 0.9353, 0.2887, 0.9538,\n",
      "        0.9775, 0.9257, 0.9922, 0.9318, 0.0982, 0.6658, 0.7193, 0.8514, 0.7227,\n",
      "        0.6711, 0.5742, 0.7168, 0.9818, 0.9478, 0.8496, 0.6083, 0.1342, 0.7672,\n",
      "        0.9462, 0.8712, 0.8306, 0.8637, 0.9638, 0.6419, 0.9779, 0.8757, 0.7397,\n",
      "        0.8123, 0.7350, 0.6931, 0.7481, 0.7511, 0.7670, 0.0356, 0.3094, 0.9543,\n",
      "        0.9005, 0.9810, 0.9092, 0.9001, 0.9627, 0.8664, 0.8726, 0.9692, 0.7936,\n",
      "        0.9900, 0.9482, 0.9333, 0.4962, 0.7949, 0.9799, 0.9716, 0.8250, 0.9410,\n",
      "        0.9064, 0.1742, 0.9048, 0.8490, 0.8370, 0.7071, 0.9342, 0.9700, 0.9772,\n",
      "        0.8669, 0.7987, 0.9392, 0.6310, 0.8911, 0.6790, 0.8067, 0.9599, 0.7911,\n",
      "        0.6708, 0.9363, 0.9529, 0.6442, 0.8660, 0.8170, 0.9832, 0.6702, 0.9788,\n",
      "        0.8003, 0.6869, 0.7909, 0.1853, 0.9091, 0.4293, 0.8236, 0.6186, 0.6446,\n",
      "        0.6673, 0.6756, 0.6192, 0.6826, 0.0313, 0.8943, 0.7640, 0.6763, 0.9583,\n",
      "        0.7183, 0.8940, 0.8867, 0.9531, 0.8381, 0.9960, 0.6944, 0.9944, 0.9511,\n",
      "        0.9194, 0.9964, 0.6268, 0.9743, 0.9117, 0.7830, 0.9752, 0.8677, 0.5549,\n",
      "        0.9896, 0.9092, 0.8663, 0.7195, 0.7332, 0.9101, 0.9638, 0.6564, 0.9419,\n",
      "        0.7764, 0.9992, 0.8398, 0.7441, 0.7695, 0.7473, 0.9969, 0.9213, 0.9092,\n",
      "        0.6619, 0.9969, 0.6110, 0.6295, 0.8840, 0.7555, 0.8839, 0.8535, 0.8500,\n",
      "        0.9264, 0.8669, 0.7668, 0.9013, 0.5967, 0.8339, 0.9171, 0.7466, 0.9466,\n",
      "        0.9024, 0.9201, 0.8939, 0.7223, 0.9979, 0.5966, 0.5500, 0.5907, 0.6616,\n",
      "        0.9326, 0.5165, 0.6738, 0.0037, 0.6799, 0.6942, 0.6673, 0.6989, 0.9695,\n",
      "        0.7246, 0.7226, 0.6638, 0.2521, 0.5714, 0.8717, 0.7466, 0.9194, 0.8006,\n",
      "        0.8896, 0.9710, 0.7194, 0.7115, 0.6818, 0.7028, 0.6716, 0.9071, 0.9305,\n",
      "        0.8233, 0.7791, 0.7320, 0.6494, 0.9394, 0.7801, 0.8368, 0.7482, 0.4417,\n",
      "        0.8430, 0.5279, 0.7790, 0.6292, 0.8344, 0.6659, 0.8339, 0.8273, 0.7386,\n",
      "        0.7664, 0.9163, 0.6751, 0.6634, 0.5698, 0.7751, 0.9337, 0.8093, 0.0667,\n",
      "        0.6539, 0.8961, 0.6893, 0.7881, 0.7997, 0.8206, 0.5896, 0.7159, 0.3719,\n",
      "        0.9384, 0.8907, 0.8698, 0.7217, 0.6859, 0.7933, 0.9067, 0.8458, 0.6679,\n",
      "        0.8445, 0.2503, 0.5033, 0.7838, 0.6841, 0.6772, 0.9164, 0.7407, 0.6942,\n",
      "        0.7548, 0.7474, 0.5784, 0.7107, 0.8897, 0.6271, 0.8558, 0.6313, 0.8889,\n",
      "        0.8432, 0.8790, 0.9243, 0.8547, 0.7824, 0.8033, 0.5059, 0.7933, 0.7439,\n",
      "        0.7185, 0.6368, 0.6989, 0.7922, 0.7298, 0.0012, 0.6845, 0.7175, 0.6736,\n",
      "        0.8714, 0.6484, 0.8994, 0.7809, 0.1509, 0.8146, 0.5910, 0.9376, 0.7604,\n",
      "        0.7718, 0.6055, 0.7269, 0.6209, 0.6405, 0.5677, 0.6818, 0.7216, 0.5643,\n",
      "        0.6010, 0.6110, 0.8893, 0.3349, 0.8030, 0.7222, 0.4260, 0.7874, 0.5214,\n",
      "        0.8438, 0.7338, 0.3739, 0.7587, 0.6920, 0.7392, 0.5479, 0.0025, 0.6803,\n",
      "        0.6427, 0.9196, 0.7939, 0.8180, 0.5655, 0.8218, 0.9370, 0.7879, 0.6993,\n",
      "        0.8192, 0.9280, 0.9388, 0.8756, 0.7057, 0.7060, 0.6608, 0.8833, 0.5548,\n",
      "        0.9924, 0.9195, 0.5266, 0.9810, 0.4278, 0.5869, 0.7892, 0.6473, 0.9596,\n",
      "        0.4230, 0.9194, 0.9180, 0.8121, 0.9198, 0.6783, 0.7969, 0.9265, 0.8276,\n",
      "        0.7638, 0.9259, 0.8324, 0.7552, 0.8019, 0.8775, 0.9924, 0.9298, 0.9918,\n",
      "        0.5849, 0.7639, 0.7487, 0.7927, 0.7273, 0.6718, 0.6832, 0.7569, 0.7346,\n",
      "        0.7643, 0.6126, 0.7489, 0.1989, 0.7631, 0.7958, 0.7110, 0.9909, 0.9304,\n",
      "        0.9934, 0.9901, 0.9612, 0.9044, 0.8863, 0.9095, 0.6654, 0.4994, 0.8762,\n",
      "        0.9569, 0.5753, 0.7446, 0.9329, 0.9756, 0.7847, 0.6152, 0.8049, 0.7902,\n",
      "        0.9410, 0.1528, 0.9057, 0.9472, 0.7885, 0.9861, 0.9431, 0.9408, 0.6326,\n",
      "        0.6860, 0.9959, 0.7451, 0.7387, 0.5960, 0.9271, 0.9876, 0.9663, 0.3851,\n",
      "        0.9812, 0.0031, 0.7001, 0.6027, 0.7907, 0.8983, 0.6815, 0.6880, 0.6938,\n",
      "        0.5649, 0.1561, 0.9938, 0.6563, 0.9716, 0.8989, 0.9186, 0.6675, 0.6894,\n",
      "        0.7843, 0.8954, 0.7227, 0.5815, 0.5845, 0.8306, 0.5159, 0.5995, 0.9334,\n",
      "        0.9161, 0.9762, 0.9791, 0.5671, 0.9818, 0.9132, 0.8993, 0.9640, 0.7931,\n",
      "        0.6484, 0.7823, 0.3115, 0.9908, 0.7082, 0.8302, 0.7369, 0.6261, 0.6383,\n",
      "        0.7696, 0.7713, 0.7460, 0.8536, 0.4431, 0.9314, 0.8600, 0.9591, 0.6533,\n",
      "        0.7141, 0.7173, 0.6668, 0.6107, 0.7644, 0.5615, 0.7415, 0.6774, 0.9229,\n",
      "        0.8294, 0.6960, 0.7036, 0.6726, 0.4834, 0.6703, 0.6164, 0.4141, 0.8263,\n",
      "        0.7688, 0.9431, 0.7174, 0.7984, 0.8213, 0.6645, 0.7570, 0.8287, 0.8239,\n",
      "        0.6714, 0.9876, 0.6997, 0.7440, 0.8092, 0.0758, 0.6697, 0.9912, 0.7241,\n",
      "        0.8852, 0.6319, 0.7359, 0.8992, 0.9087, 0.9299, 0.6278, 0.8596, 0.6726,\n",
      "        0.7449, 0.5461, 0.8522, 0.7182, 0.9941, 0.8254, 0.8732, 0.6411, 0.6907,\n",
      "        0.1224, 0.1618, 0.6057, 0.8578, 0.9897, 0.8429, 0.7766, 0.6475, 0.6230,\n",
      "        0.6169, 0.6570, 0.7441, 0.6580, 0.9123, 0.7200, 0.7047, 0.6087, 0.7379,\n",
      "        0.5780, 0.7681, 0.6745, 0.8508, 0.5348, 0.7319, 0.4291, 0.7402, 0.6096,\n",
      "        0.8374, 0.8388, 0.5964, 0.6883, 0.8926, 0.6353, 0.6987, 0.5449, 0.7305,\n",
      "        0.6415, 0.6258, 0.7887, 0.7866, 0.6385, 0.7756, 0.8158, 0.7620, 0.7837,\n",
      "        0.5603, 0.6365, 0.7298, 0.6233, 0.6383, 0.7159, 0.7179, 0.8715, 0.7576,\n",
      "        0.6070, 0.7418, 0.3927, 0.6957, 0.8038, 0.6873, 0.5843, 0.4232, 0.8439,\n",
      "        0.7238, 0.5276, 0.6661, 0.7603, 0.7167, 0.5414, 0.8588, 0.5481, 0.6162,\n",
      "        0.9131, 0.7041, 0.7912, 0.5846, 0.7223, 0.7968, 0.8003, 0.9085, 0.6648,\n",
      "        0.4199, 0.5670, 0.8030, 0.7408, 0.9249, 0.7438, 0.6755, 0.7098, 0.7562,\n",
      "        0.7383, 0.8464, 0.6154, 0.6965, 0.9016, 0.7147, 0.6353, 0.6387, 0.7246,\n",
      "        0.5746, 0.0578, 0.7514, 0.8456, 0.7240, 0.9256, 0.8730, 0.6964, 0.9127,\n",
      "        0.8043, 0.6766, 0.7727, 0.9099, 0.2312, 0.7897, 0.8386, 0.7647, 0.4908,\n",
      "        0.8915, 0.6219, 0.8377, 0.7553, 0.6653, 0.6514, 0.7655, 0.6026, 0.7286,\n",
      "        0.9908, 0.9818, 0.6913, 0.6770, 0.9245, 0.9209, 0.8138, 0.9196, 0.8723,\n",
      "        0.9621, 0.9562, 0.7021, 0.7986, 0.6232, 0.7396, 0.9884, 0.9941, 0.4632,\n",
      "        0.6336, 0.6560, 0.9760, 0.8151, 0.7742, 0.7632, 0.5468, 0.6611, 0.9653,\n",
      "        0.7021, 0.9568, 0.5924, 0.8024, 0.7686, 0.6572, 0.7624, 0.7659, 0.6471,\n",
      "        0.1353, 0.6862, 0.9142, 0.7033, 0.7886, 0.7758, 0.4814, 0.6958, 0.6838,\n",
      "        0.5138, 0.2406, 0.6476, 0.6424, 0.7962, 0.7146, 0.6950, 0.6470, 0.7423,\n",
      "        0.8142, 0.7046, 0.5475, 0.7288, 0.9693, 0.7201, 0.9297, 0.9886, 0.9227,\n",
      "        0.7717, 0.6521, 0.9871, 0.7232, 0.9935, 0.6673, 0.9773, 0.9368, 0.8362,\n",
      "        0.8530, 0.8702, 0.6020, 0.6856, 0.8375, 0.5731, 0.7210, 0.5531, 0.9604,\n",
      "        0.7603, 0.5936, 0.7203, 0.7431, 0.8610, 0.9669, 0.6593, 0.4379, 0.5788,\n",
      "        0.5645, 0.5461, 0.8280, 0.8183, 0.6451, 0.7804, 0.6642, 0.7010, 0.5483,\n",
      "        0.6310, 0.5521, 0.7018, 0.8152, 0.5234, 0.7219, 0.3589, 0.5329, 0.6848,\n",
      "        0.6924, 0.8835, 0.6437, 0.9237, 0.4543, 0.6431, 0.8374, 0.6693, 0.7434,\n",
      "        0.5280, 0.8602, 0.6367, 0.7210, 0.4293, 0.9730, 0.8843, 0.9461, 0.6707,\n",
      "        0.5586, 0.8386, 0.7642, 0.8373, 0.8589, 0.6061, 0.7827, 0.6881, 0.6897,\n",
      "        0.7317, 0.3645, 0.8761, 0.7418, 0.6835, 0.5080, 0.9051, 0.8150, 0.6102,\n",
      "        0.8888, 0.1419, 0.6764], device='cuda:0', grad_fn=<SqueezeBackward1>)\n",
      "tensor([2.7446e-01, 7.7148e-01, 7.0065e-01, 7.5045e-01, 6.3780e-01, 8.8949e-01,\n",
      "        9.5877e-01, 8.9004e-01, 9.3523e-01, 7.8910e-01, 8.7162e-01, 8.5213e-01,\n",
      "        9.4160e-01, 7.4207e-01, 9.8078e-01, 7.9874e-01, 6.7230e-01, 9.3886e-01,\n",
      "        9.0287e-01, 7.9492e-01, 6.1882e-01, 9.1569e-01, 8.2398e-01, 7.2254e-01,\n",
      "        8.7516e-01, 8.4641e-01, 9.1494e-01, 3.5806e-01, 7.3787e-01, 8.8412e-01,\n",
      "        8.7737e-01, 6.0745e-01, 8.0837e-01, 7.5999e-01, 5.9938e-01, 6.1124e-01,\n",
      "        7.3679e-01, 9.1249e-01, 7.3062e-01, 6.2247e-01, 8.9829e-01, 9.4240e-01,\n",
      "        7.9283e-01, 8.3451e-01, 4.8301e-01, 8.0439e-01, 8.0625e-01, 6.7445e-01,\n",
      "        7.6389e-01, 9.6070e-01, 6.0086e-01, 6.7161e-01, 8.4339e-01, 5.8423e-01,\n",
      "        8.5613e-01, 9.0510e-01, 5.7806e-01, 7.3017e-01, 7.3477e-01, 8.2806e-01,\n",
      "        8.7526e-01, 7.8267e-01, 9.7387e-01, 6.6160e-01, 6.8656e-01, 7.7157e-01,\n",
      "        7.1157e-01, 6.9101e-01, 6.6267e-01, 7.1313e-01, 2.7447e-02, 9.6479e-01,\n",
      "        7.4099e-01, 9.8546e-01, 8.2019e-01, 6.9158e-01, 9.7115e-01, 8.0279e-01,\n",
      "        3.1623e-01, 8.6866e-01, 7.8588e-01, 8.6259e-01, 8.1459e-01, 7.7361e-01,\n",
      "        6.9628e-01, 5.8206e-01, 9.6429e-01, 9.0398e-01, 9.8075e-01, 9.0285e-01,\n",
      "        8.7425e-01, 7.9210e-01, 6.8177e-01, 7.3699e-01, 9.0386e-01, 7.3863e-01,\n",
      "        8.0995e-01, 9.1328e-01, 8.9829e-01, 7.4304e-01, 8.2368e-01, 7.1978e-01,\n",
      "        5.6506e-01, 8.3532e-01, 7.4359e-01, 8.8748e-01, 8.8770e-01, 7.0689e-01,\n",
      "        8.4134e-01, 9.1545e-01, 1.2457e-01, 8.6197e-01, 6.2199e-01, 7.9502e-01,\n",
      "        6.8874e-01, 9.5378e-01, 7.9718e-01, 7.6602e-01, 8.1374e-01, 6.4668e-01,\n",
      "        9.9100e-01, 9.4710e-01, 6.2082e-01, 3.9249e-01, 6.0905e-01, 8.3206e-01,\n",
      "        1.3649e-02, 8.1678e-01, 8.9187e-01, 7.7282e-01, 8.1623e-01, 8.1736e-01,\n",
      "        1.3685e-01, 6.7308e-01, 8.7417e-01, 6.7272e-01, 5.8739e-01, 9.3765e-01,\n",
      "        9.8945e-01, 9.4395e-01, 5.0808e-01, 9.9116e-01, 6.1140e-01, 9.8590e-01,\n",
      "        7.6504e-01, 9.8863e-01, 9.9616e-01, 7.6357e-01, 9.8318e-01, 7.0515e-01,\n",
      "        5.0180e-01, 8.0313e-01, 7.5350e-01, 7.0638e-01, 7.9752e-01, 7.1181e-01,\n",
      "        7.6955e-01, 5.3253e-01, 7.6200e-01, 6.3239e-01, 6.6461e-01, 9.7437e-01,\n",
      "        7.1842e-01, 8.0969e-01, 4.0561e-01, 6.3675e-01, 9.8383e-01, 8.3321e-01,\n",
      "        7.5366e-01, 8.2994e-01, 5.4064e-01, 9.9263e-01, 7.8222e-01, 6.7949e-01,\n",
      "        7.5370e-01, 7.3445e-01, 9.7707e-01, 8.3272e-01, 8.8766e-01, 7.1216e-01,\n",
      "        8.7237e-01, 7.4336e-01, 9.9381e-01, 7.0060e-01, 9.9365e-01, 6.1677e-02,\n",
      "        7.5964e-01, 9.6688e-01, 6.9689e-01, 6.4638e-01, 7.4255e-01, 8.2830e-01,\n",
      "        6.9584e-01, 9.5057e-01, 9.0545e-01, 9.8621e-01, 9.7235e-01, 7.6741e-01,\n",
      "        8.2032e-01, 7.0584e-02, 7.7803e-01, 6.7900e-01, 9.9651e-01, 6.3860e-01,\n",
      "        7.8280e-01, 7.7446e-01, 5.8708e-01, 9.8626e-01, 6.9669e-01, 6.6604e-01,\n",
      "        8.1655e-01, 8.0884e-01, 9.4443e-01, 6.3191e-01, 8.1200e-01, 6.5918e-01,\n",
      "        7.0817e-01, 7.3679e-01, 4.1956e-01, 5.8144e-01, 6.2261e-01, 7.5272e-01,\n",
      "        5.4887e-01, 8.6843e-01, 7.8711e-01, 9.4216e-01, 9.8081e-01, 5.2582e-01,\n",
      "        7.5950e-01, 3.0543e-01, 8.1293e-01, 6.8399e-01, 9.3505e-01, 7.6982e-01,\n",
      "        5.7439e-01, 7.9180e-01, 8.3793e-01, 9.4787e-01, 8.4438e-01, 5.9448e-01,\n",
      "        7.7042e-01, 9.2068e-01, 9.1657e-01, 8.3366e-01, 7.7685e-01, 8.0385e-01,\n",
      "        6.9727e-01, 9.4850e-01, 7.7671e-01, 8.6111e-01, 7.8664e-01, 8.1270e-02,\n",
      "        6.8085e-01, 8.2842e-01, 4.7751e-01, 5.4168e-01, 7.5164e-01, 8.7304e-01,\n",
      "        8.7053e-01, 9.5828e-01, 7.3199e-01, 8.7658e-01, 6.4976e-01, 9.2630e-01,\n",
      "        8.9793e-01, 9.8202e-01, 9.9417e-01, 7.0360e-01, 8.6166e-01, 7.1946e-01,\n",
      "        7.9936e-01, 6.6441e-01, 6.7984e-01, 6.5439e-01, 7.1877e-02, 5.4141e-01,\n",
      "        8.8745e-01, 7.2837e-01, 8.4271e-01, 6.7437e-01, 6.0237e-01, 8.4274e-01,\n",
      "        7.6019e-01, 7.7327e-01, 9.2526e-01, 7.5779e-01, 8.1875e-01, 5.7678e-01,\n",
      "        9.0610e-01, 9.1631e-01, 4.0536e-01, 8.6468e-01, 7.2207e-01, 7.4754e-01,\n",
      "        8.1399e-01, 6.0383e-01, 5.6790e-01, 7.1415e-01, 7.1374e-01, 7.1998e-01,\n",
      "        9.9903e-01, 6.5107e-01, 9.5938e-01, 7.7132e-01, 1.4732e-02, 6.9967e-01,\n",
      "        8.8821e-01, 9.7774e-01, 7.5294e-01, 7.1330e-01, 7.9192e-01, 8.3717e-01,\n",
      "        7.4833e-01, 8.7107e-01, 9.9409e-01, 9.5769e-01, 9.6450e-01, 6.3478e-01,\n",
      "        9.9231e-01, 8.4004e-02, 9.8455e-01, 6.1696e-01, 9.5449e-01, 5.4725e-01,\n",
      "        7.4285e-01, 9.7693e-01, 6.9107e-01, 9.0267e-01, 7.6109e-01, 6.7543e-01,\n",
      "        8.5916e-01, 7.5018e-01, 5.6759e-01, 7.1999e-01, 8.9607e-01, 8.1560e-01,\n",
      "        6.6473e-01, 7.4908e-01, 2.0635e-02, 9.2947e-01, 7.8565e-01, 8.1025e-01,\n",
      "        7.7195e-01, 7.5178e-01, 8.6710e-01, 5.2029e-02, 6.9152e-01, 7.2602e-01,\n",
      "        6.3848e-01, 7.8221e-01, 7.7008e-01, 9.3114e-01, 7.1634e-01, 7.5210e-01,\n",
      "        8.4057e-01, 7.5438e-01, 6.9565e-01, 8.0819e-01, 7.5870e-01, 7.1983e-01,\n",
      "        7.9136e-01, 5.4697e-01, 9.0871e-01, 5.9330e-01, 4.4129e-01, 9.2531e-01,\n",
      "        8.1078e-01, 8.4438e-01, 4.3566e-01, 7.4946e-01, 7.7047e-01, 9.5432e-01,\n",
      "        7.4248e-01, 9.9398e-01, 8.8851e-01, 9.3053e-01, 9.2582e-01, 6.9627e-01,\n",
      "        8.0619e-01, 1.4425e-03, 8.2931e-01, 7.8097e-01, 9.9827e-01, 7.4173e-01,\n",
      "        3.3073e-01, 4.7988e-01, 6.8897e-01, 8.5545e-01, 8.8206e-01, 9.2353e-01,\n",
      "        9.7734e-01, 8.0229e-01, 7.3542e-01, 8.9574e-01, 7.9378e-01, 7.4887e-01,\n",
      "        7.4657e-01, 8.5712e-01, 8.9831e-01, 8.5828e-01, 6.1402e-01, 6.5574e-01,\n",
      "        6.1421e-01, 5.4371e-01, 9.0708e-01, 7.9869e-01, 8.6505e-01, 7.6795e-01,\n",
      "        9.2267e-01, 8.4832e-01, 2.5943e-01, 7.6599e-01, 7.8899e-01, 9.3821e-01,\n",
      "        6.6789e-01, 9.6153e-01, 7.7492e-01, 9.6764e-01, 8.5444e-01, 6.9730e-01,\n",
      "        4.9095e-01, 6.9821e-01, 7.5380e-01, 6.6540e-01, 7.8609e-01, 7.6110e-01,\n",
      "        7.5598e-01, 8.7502e-01, 6.6711e-01, 5.8157e-01, 8.5439e-01, 9.1055e-01,\n",
      "        7.1477e-01, 8.2726e-01, 5.7654e-01, 8.1471e-01, 9.5095e-01, 6.8308e-01,\n",
      "        6.9293e-01, 7.9975e-01, 7.3190e-01, 8.9524e-01, 9.8614e-01, 8.6403e-01,\n",
      "        7.7253e-01, 7.1239e-01, 8.4183e-01, 9.8689e-01, 8.0537e-01, 6.2155e-01,\n",
      "        9.6990e-01, 9.8392e-01, 6.7199e-01, 6.1523e-02, 7.0159e-01, 9.4745e-01,\n",
      "        8.1471e-01, 6.6169e-01, 8.9512e-01, 9.8191e-01, 9.7923e-01, 9.4219e-01,\n",
      "        6.9183e-01, 9.1230e-01, 7.6765e-01, 7.1891e-01, 7.4805e-01, 9.9162e-01,\n",
      "        9.9441e-01, 9.7372e-01, 8.7191e-01, 9.7607e-01, 9.9011e-01, 9.9509e-01,\n",
      "        9.0441e-01, 9.8767e-01, 9.8896e-01, 8.8694e-01, 9.8237e-01, 8.2210e-01,\n",
      "        8.5038e-01, 8.8232e-01, 7.4655e-01, 9.0856e-01, 7.5022e-01, 8.5482e-01,\n",
      "        7.8599e-01, 2.8878e-02, 9.7367e-01, 6.0216e-01, 7.7159e-01, 9.9384e-01,\n",
      "        7.6237e-01, 7.3847e-01, 5.4167e-01, 7.6567e-01, 6.3109e-01, 9.9052e-01,\n",
      "        9.6266e-01, 9.9194e-01, 7.2817e-01, 8.8385e-01, 7.9841e-01, 9.6208e-01,\n",
      "        8.5679e-01, 9.5221e-01, 9.1812e-01, 5.6202e-01, 9.5632e-01, 7.2707e-01,\n",
      "        6.4132e-01, 9.8491e-01, 3.1465e-02, 8.0772e-01, 5.9960e-01, 8.8980e-01,\n",
      "        7.5733e-01, 8.2322e-01, 7.2602e-01, 5.4314e-01, 9.3766e-01, 7.7778e-01,\n",
      "        8.0490e-01, 9.0216e-01, 6.8571e-01, 6.6927e-01, 9.8259e-01, 8.9287e-01,\n",
      "        8.3690e-01, 9.7517e-01, 9.9160e-01, 9.9505e-01, 9.8872e-01, 9.9520e-01,\n",
      "        7.9814e-01, 8.5924e-01, 9.7101e-01, 8.6248e-01, 9.5430e-01, 7.8642e-01,\n",
      "        9.0648e-01, 7.9675e-01, 8.6326e-01, 6.4380e-01, 9.5392e-01, 7.5229e-01,\n",
      "        8.7194e-01, 9.5457e-01, 7.4265e-01, 6.4313e-01, 7.2927e-01, 8.8228e-01,\n",
      "        6.3274e-01, 9.4024e-01, 8.7509e-01, 1.3549e-02, 9.9391e-01, 9.5676e-01,\n",
      "        9.8173e-01, 6.1292e-01, 4.5661e-01, 7.9582e-01, 8.0097e-01, 8.4480e-01,\n",
      "        8.4620e-01, 7.5289e-01, 8.0509e-01, 9.4506e-01, 8.1733e-01, 7.5798e-01,\n",
      "        8.0075e-01, 8.2485e-01, 6.8483e-01, 7.3408e-01, 6.8723e-01, 7.7631e-01,\n",
      "        1.2169e-01, 7.9839e-01, 8.8697e-01, 7.6570e-01, 7.3529e-01, 9.6781e-01,\n",
      "        7.6985e-01, 7.3920e-01, 5.8423e-01, 6.8536e-01, 7.2992e-01, 7.9857e-01,\n",
      "        9.7981e-01, 9.0861e-01, 5.4443e-01, 9.4515e-01, 6.2966e-01, 9.7587e-01,\n",
      "        7.3797e-01, 9.1704e-01, 9.3558e-01, 5.5840e-01, 9.9952e-01, 4.9182e-01,\n",
      "        9.4763e-01, 6.7924e-01, 8.4321e-01, 3.0350e-02, 9.5422e-01, 6.5764e-01,\n",
      "        9.3450e-01, 9.0045e-01, 9.3327e-01, 8.0691e-01, 6.2936e-01, 9.2070e-01,\n",
      "        8.2750e-01, 9.5422e-01, 9.7508e-01, 9.2059e-01, 9.4528e-01, 6.9023e-01,\n",
      "        9.6276e-01, 1.7914e-01, 8.0028e-01, 6.6696e-01, 9.9344e-01, 7.4232e-01,\n",
      "        8.0687e-01, 9.4073e-01, 6.5288e-01, 9.4069e-01, 7.9128e-01, 9.0230e-01,\n",
      "        9.5932e-01, 1.8547e-02, 7.6382e-01, 7.2887e-01, 9.0263e-01, 7.2200e-01,\n",
      "        9.5852e-01, 8.6249e-01, 7.8642e-01, 6.6929e-01, 5.6863e-01, 7.0010e-01,\n",
      "        6.6738e-01, 7.3403e-01, 9.9232e-01, 7.2019e-01, 9.7490e-01, 7.1248e-01,\n",
      "        9.8088e-01, 8.0072e-01, 2.3512e-01, 8.5202e-01, 6.7226e-01, 7.5027e-01,\n",
      "        6.9337e-01, 8.3425e-01, 7.7774e-01, 8.6000e-01, 8.3055e-01, 7.1337e-01,\n",
      "        7.9122e-01, 7.3235e-01, 4.0629e-02, 7.0088e-01, 6.4034e-01, 9.1599e-01,\n",
      "        6.3472e-01, 8.0565e-01, 8.2511e-01, 6.3376e-01, 8.0981e-01, 7.8558e-01,\n",
      "        7.7856e-01, 7.7429e-01, 7.3570e-01, 8.0559e-01, 8.0746e-01, 8.3160e-01,\n",
      "        8.9263e-01, 8.0376e-01, 7.1686e-01, 9.7865e-01, 8.9991e-01, 9.3558e-01,\n",
      "        8.5545e-01, 8.3186e-01, 8.6592e-01, 7.5179e-01, 7.7423e-01, 7.0698e-01,\n",
      "        7.4064e-01, 7.0100e-01, 9.3774e-01, 7.2186e-01, 9.8048e-01, 8.5234e-01,\n",
      "        7.2393e-01, 8.6236e-01, 8.4196e-01, 7.0836e-01, 9.5702e-01, 6.1813e-01,\n",
      "        6.5680e-01, 9.7967e-01, 9.6452e-01, 8.0267e-01, 9.8968e-01, 4.8531e-01,\n",
      "        7.5565e-01, 3.4774e-01, 5.3433e-01, 1.3760e-02, 2.2901e-02, 7.4612e-01,\n",
      "        6.3702e-01, 7.7850e-01, 6.3535e-01, 9.4604e-01, 5.8874e-01, 7.8983e-01,\n",
      "        6.3409e-01, 8.6075e-01, 7.3114e-01, 5.6057e-01, 7.7141e-01, 6.0556e-01,\n",
      "        4.9528e-01, 5.7832e-01, 6.3045e-01, 4.4296e-01, 7.5758e-01, 7.3941e-01,\n",
      "        7.2993e-01, 8.0502e-01, 7.6984e-01, 7.4328e-01, 8.9879e-01, 6.4762e-01,\n",
      "        6.7032e-01, 5.6138e-01, 8.6747e-01, 6.8479e-01, 7.9872e-01, 6.9314e-01,\n",
      "        7.2974e-01, 6.5318e-01, 8.4673e-01, 1.4844e-04, 5.7659e-02, 6.0999e-01,\n",
      "        8.7450e-01, 8.3985e-01, 7.1532e-01, 6.6324e-01, 5.8753e-01, 9.0671e-01,\n",
      "        6.7150e-01, 5.7710e-01, 7.8463e-01, 7.5556e-01, 7.2477e-01, 7.4076e-01,\n",
      "        6.9768e-01, 6.3014e-01, 7.8133e-01, 7.8834e-01, 7.2609e-01, 9.5636e-01,\n",
      "        7.2132e-01, 8.7678e-01, 7.0181e-01, 9.8154e-01, 6.7492e-01, 8.7825e-01,\n",
      "        7.1064e-01, 6.6495e-01, 9.8879e-01, 5.5354e-01, 8.4338e-01, 7.6375e-01,\n",
      "        6.5706e-01, 7.0275e-01, 7.8621e-03, 7.4699e-01, 7.7995e-01, 6.6340e-01,\n",
      "        6.6756e-01, 5.6525e-01, 7.2791e-01, 6.8561e-01, 7.7016e-01, 9.4260e-01,\n",
      "        7.9368e-01, 7.7174e-01, 7.5164e-01, 7.0438e-01, 7.0054e-01, 8.3738e-01,\n",
      "        5.3880e-01, 7.1135e-01, 9.1314e-01, 8.5804e-01, 8.3304e-01, 8.0048e-01,\n",
      "        8.1373e-01, 8.1031e-01, 9.1969e-01, 7.5563e-01, 7.3943e-01, 6.3680e-01,\n",
      "        3.3820e-01, 7.2276e-01, 8.5435e-01, 7.4255e-01, 8.1444e-01, 6.4912e-01,\n",
      "        6.7273e-01, 7.6625e-01, 6.7026e-01, 6.7986e-01, 6.1948e-01, 8.4628e-01,\n",
      "        6.4007e-01, 5.3506e-02, 6.7862e-01, 7.2924e-01, 7.8147e-01, 8.0738e-01,\n",
      "        6.9602e-01, 7.4789e-01, 6.1088e-01, 7.1501e-01, 8.4659e-01, 7.5362e-01,\n",
      "        9.7576e-01, 8.3740e-01, 6.5286e-01, 8.8401e-01, 7.6772e-01, 6.8913e-01,\n",
      "        8.4680e-01, 5.9307e-01, 9.0208e-01, 6.2741e-01, 9.8593e-01, 7.1507e-01,\n",
      "        8.4252e-01, 9.7069e-01, 7.9035e-01, 7.1790e-01, 6.3287e-01, 6.5887e-01,\n",
      "        6.9681e-01, 7.8843e-01, 9.4667e-01, 8.4587e-01, 9.0751e-01, 8.2859e-01,\n",
      "        7.1994e-01, 8.1589e-01, 1.1428e-01, 6.4134e-01, 7.4314e-01, 7.4835e-01,\n",
      "        6.5377e-01, 8.6066e-01, 3.8755e-02, 9.2823e-01, 6.5472e-01, 8.8844e-01,\n",
      "        8.2939e-01, 7.7192e-01, 7.0202e-01, 7.9709e-01, 4.0849e-01, 7.4445e-01,\n",
      "        7.1073e-01, 8.0968e-01, 5.4853e-01, 8.2457e-01, 7.6591e-01, 9.8802e-01,\n",
      "        6.1732e-01, 9.2000e-01, 5.9412e-01, 7.8578e-01, 8.2811e-01, 8.5421e-01,\n",
      "        6.9887e-01, 8.4237e-01, 7.8829e-01, 9.8702e-01, 7.8988e-01, 8.6788e-01,\n",
      "        7.7036e-01, 6.6415e-01, 8.8902e-01, 8.8766e-01, 7.8353e-01, 7.8899e-01,\n",
      "        7.1936e-01, 7.6084e-01, 8.6379e-01, 6.7040e-01, 9.0009e-01, 7.7066e-01,\n",
      "        7.4851e-01, 8.0142e-01, 5.8940e-01, 5.9897e-01, 6.2923e-01, 8.7761e-01,\n",
      "        6.3699e-01, 9.3729e-01, 4.9572e-01, 5.8983e-01, 8.7261e-01, 5.7476e-01,\n",
      "        6.9500e-01, 1.7518e-01, 8.2656e-01, 6.9041e-01, 9.6473e-01, 7.4413e-01,\n",
      "        7.5690e-01, 7.1175e-01, 7.1395e-01, 7.7138e-01, 7.1326e-01, 7.7608e-01],\n",
      "       device='cuda:0', grad_fn=<SqueezeBackward1>)\n"
     ]
    },
    {
     "name": "stdout",
     "output_type": "stream",
     "text": [
      "tensor([0.8344, 0.6644, 0.7161, 0.8873, 0.8173, 0.6150, 0.5298, 0.9010, 0.8391,\n",
      "        0.8547, 0.8280, 0.8676, 0.5221, 0.8724, 0.5483, 0.9820, 0.6276, 0.7247,\n",
      "        0.9008, 0.9391, 0.0552, 0.5990, 0.9946, 0.7481, 0.7433, 0.8123, 0.9465,\n",
      "        0.5084, 0.7186, 0.7147, 0.2327, 0.9765, 0.9513, 0.7373, 0.9335, 0.9877,\n",
      "        0.9922, 0.8945, 0.9763, 0.5674, 0.9775, 0.7218, 0.9504, 0.9761, 0.7588,\n",
      "        0.9488, 0.0620, 0.8901, 0.8199, 0.8118, 0.7529, 0.9635, 0.9792, 0.9867,\n",
      "        0.8983, 0.7749, 0.9850, 0.8617, 0.0919, 0.7155, 0.8867, 0.5532, 0.8223,\n",
      "        0.9973, 0.9983, 0.6707, 0.6245, 0.9888, 0.7418, 0.7832, 0.8807, 0.9823,\n",
      "        0.6451, 0.7593, 0.9202, 0.6650, 0.9653, 0.6398, 0.7984, 0.9973, 0.6836,\n",
      "        0.7043, 0.7414, 0.6156, 0.7546, 0.7506, 0.5815, 0.8521, 0.8784, 0.4778,\n",
      "        0.9322, 0.6052, 0.9200, 0.9508, 0.9647, 0.7001, 0.7109, 0.8462, 0.8662,\n",
      "        0.9840, 0.9588, 0.8121, 0.9592, 0.9598, 0.9863, 0.7908, 0.9295, 0.7415,\n",
      "        0.8172, 0.9070, 0.9355, 0.8053, 0.7398, 0.7788, 0.9763, 0.9693, 0.9915,\n",
      "        0.7805, 0.8150, 0.9752, 0.5309, 0.7547, 0.9568, 0.5842, 0.9585, 0.7857,\n",
      "        0.8627, 0.9491, 0.4057, 0.7060, 0.7618, 0.8015, 0.7308, 0.8997, 0.3890,\n",
      "        0.7337, 0.9145, 0.7552, 0.5930, 0.7390, 0.5808, 0.5493, 0.8331, 0.0671,\n",
      "        0.6803, 0.8528, 0.7305, 0.9110, 0.8266, 0.5973, 0.6505, 0.9319, 0.9646,\n",
      "        0.7118, 0.8766, 0.9697, 0.9084, 0.8327, 0.9788, 0.7008, 0.7693, 0.4998,\n",
      "        0.8933, 0.6327, 0.7913, 0.8877, 0.7156, 0.8172, 0.9784, 0.9205, 0.8160,\n",
      "        0.9564, 0.9616, 0.9574, 0.9171, 0.9384, 0.9091, 0.8260, 0.7217, 0.9132,\n",
      "        0.5757, 0.7012, 0.7058, 0.7821, 0.8885, 0.8085, 0.7267, 0.7567, 0.8036,\n",
      "        0.7936, 0.6752, 0.8159, 0.8088, 0.6229, 0.7893, 0.7188, 0.1889, 0.4294,\n",
      "        0.7652, 0.8119, 0.8429, 0.7181, 0.9745, 0.9291, 0.9354, 0.8495, 0.9154,\n",
      "        0.7963, 0.6909, 0.7818, 0.7905, 0.8048, 0.9262, 0.7057, 0.6298, 0.7187,\n",
      "        0.6713, 0.7253, 0.6772, 0.6286, 0.8037, 0.7766, 0.4548, 0.7291, 0.1744,\n",
      "        0.6925, 0.7097, 0.8597, 0.7076, 0.7944, 0.7174, 0.6609, 0.9492, 0.8218,\n",
      "        0.5938, 0.7416, 0.0948, 0.8157, 0.7341, 0.7037, 0.5428, 0.7897, 0.9302,\n",
      "        0.7408, 0.8602, 0.7892, 0.8138, 0.9680, 0.6504, 0.1748, 0.9074, 0.7156,\n",
      "        0.6949, 0.9568, 0.6998, 0.8405, 0.9564, 0.9813, 0.8184, 0.6592, 0.8019,\n",
      "        0.7855, 0.9684, 0.7992, 0.9465, 0.8136, 0.7666, 0.6256, 0.8822, 0.6655,\n",
      "        0.7825, 0.6836, 0.8340, 0.8736, 0.9479, 0.7291, 0.8872, 0.9028, 0.7539,\n",
      "        0.6035, 0.7068, 0.6466, 0.7285, 0.7085, 0.8029, 0.8496, 0.2992, 0.9221,\n",
      "        0.9761, 0.8209, 0.8711, 0.9704, 0.9872, 0.7709, 0.9767, 0.6068, 0.8120,\n",
      "        0.7079, 0.6847, 0.6257, 0.6762, 0.6594, 0.6644, 0.9117, 0.9949, 0.6018,\n",
      "        0.4765, 0.8646, 0.9933, 0.8433, 0.7466, 0.9902, 0.6746, 0.6203, 0.7439,\n",
      "        0.7805, 0.7277, 0.7526, 0.8154, 0.9983, 0.0215, 0.7589, 0.9915, 0.4531,\n",
      "        0.9659, 0.6300, 0.9533, 0.0195, 0.7781, 0.6721, 0.9084, 0.6013, 0.7624,\n",
      "        0.9724, 0.7695, 0.6632, 0.5930, 0.9934, 0.6278, 0.8434, 0.8853, 0.8817,\n",
      "        0.5020, 0.8171, 0.7893, 0.5944, 0.9743, 0.6663, 0.1307, 0.9693, 0.5579,\n",
      "        0.1168, 0.6439, 0.5204, 0.7279, 0.6988, 0.7010, 0.5093, 0.9015, 0.7286,\n",
      "        0.7213, 0.9958, 0.7806, 0.8318, 0.9891, 0.9088, 0.9405, 0.9830, 0.9145,\n",
      "        0.3924, 0.8016, 0.7889, 0.7034, 0.8115, 0.5333, 0.9953, 0.5938, 0.9358,\n",
      "        0.7336, 0.6258, 0.0409, 0.9813, 0.8564, 0.8709, 0.8248, 0.9854, 0.7816,\n",
      "        0.8997, 0.8311, 0.5248, 0.7866, 0.9609, 0.9025, 0.8109, 0.8774, 0.9796,\n",
      "        0.9144, 0.9368, 0.6125, 0.0361, 0.9739, 0.8104, 0.9334, 0.9289, 0.3984,\n",
      "        0.4285, 0.9800, 0.9332, 0.7148, 0.6416, 0.7835, 0.8172, 0.9931, 0.7758,\n",
      "        0.6648, 0.9912, 0.7814, 0.8407, 0.9652, 0.5276, 0.7094, 0.7036, 0.7894,\n",
      "        0.6185, 0.9526, 0.6943, 0.7766, 0.8565, 0.6557, 0.6289, 0.7549, 0.7706,\n",
      "        0.5657, 0.7342, 0.2720, 0.6002, 0.9011, 0.7461, 0.6926, 0.7199, 0.7303,\n",
      "        0.4672, 0.7939, 0.7146, 0.9590, 0.7768, 0.8795, 0.7266, 0.6706, 0.6967,\n",
      "        0.5029, 0.9729, 0.9918, 0.7203, 0.5240, 0.9866, 0.9029, 0.8859, 0.7452,\n",
      "        0.3147, 0.0331, 0.5603, 0.8955, 0.7138, 0.8047, 0.3437, 0.8355, 0.9646,\n",
      "        0.8589, 0.8911, 0.6753, 0.8294, 0.8172, 0.9341, 0.9312, 0.9141, 0.9796,\n",
      "        0.9773, 0.7700, 0.6387, 0.8364, 0.8386, 0.5789, 0.9396, 0.9812, 0.5552,\n",
      "        0.7554, 0.9918, 0.7477, 0.7720, 0.7020, 0.7617, 0.7664, 0.7091, 0.1468,\n",
      "        0.7861, 0.9302, 0.5724, 0.6965, 0.8297, 0.7046, 0.4232, 0.7801, 0.5681,\n",
      "        0.8470, 0.7809, 0.7908, 0.8181, 0.7235, 0.6327, 0.9050, 0.6807, 0.7486,\n",
      "        0.7682, 0.6462, 0.6316, 0.6126, 0.9126, 0.6637, 0.9709, 0.6934, 0.9628,\n",
      "        0.7033, 0.7967, 0.7622, 0.8170, 0.5654, 0.8037, 0.6673, 0.9583, 0.7195,\n",
      "        0.6843, 0.4832, 0.6994, 0.4914, 0.6340, 0.7690, 0.6590, 0.6367, 0.8157,\n",
      "        0.7477, 0.6987, 0.7370, 0.7449, 0.9787, 0.0231, 0.7569, 0.8128, 0.9510,\n",
      "        0.7970, 0.7228, 0.7769, 0.5178, 0.7602, 0.8486, 0.7765, 0.4846, 0.7687,\n",
      "        0.7163, 0.7110, 0.7228, 0.6978, 0.9519, 0.5623, 0.7936, 0.6556, 0.8816,\n",
      "        0.6424, 0.6666, 0.6925, 0.8599, 0.6609, 0.0078, 0.7033, 0.8797, 0.7278,\n",
      "        0.6983, 0.7565, 0.6209, 0.2525, 0.6760, 0.8096, 0.7194, 0.6366, 0.8143,\n",
      "        0.7793, 0.6961, 0.6582, 0.7850, 0.6715, 0.8339, 0.6622, 0.6566, 0.6615,\n",
      "        0.8116, 0.8060, 0.8199, 0.7522, 0.8917, 0.6798, 0.1592, 0.9738, 0.8604,\n",
      "        0.8155, 0.9787, 0.9971, 0.9261, 0.9787, 0.9711, 0.7760, 0.7441, 0.7443,\n",
      "        0.8851, 0.5383, 0.9561, 0.9466, 0.6243, 0.9816, 0.9827, 0.9596, 0.8579,\n",
      "        0.9918, 0.9234, 0.9367, 0.9805, 0.9710, 0.0088, 0.9726, 0.9358, 0.9335,\n",
      "        0.6366, 0.8146, 0.3765, 0.5196, 0.9484, 0.6025, 0.8923, 0.6112, 0.8267,\n",
      "        0.8969, 0.8708, 0.8143, 0.6883, 0.7393, 0.8024, 0.7439, 0.2286, 0.6860,\n",
      "        0.4680, 0.7162, 0.7222, 0.7409, 0.8388, 0.8750, 0.7091, 0.7060, 0.8527,\n",
      "        0.7506, 0.9070, 0.5467, 0.9375, 0.1124, 0.8696, 0.7448, 0.9694, 0.6265,\n",
      "        0.5987, 0.7486, 0.7401, 0.7448, 0.6398, 0.7355, 0.6255, 0.6511, 0.7277,\n",
      "        0.0954, 0.3636, 0.6134, 0.6437, 0.7110, 0.0211, 0.5147, 0.8014, 0.9046,\n",
      "        0.6847, 0.7101, 0.8724, 0.6486, 0.6452, 0.8669, 0.6079, 0.7282, 0.8460,\n",
      "        0.7043, 0.7646, 0.7329, 0.7119, 0.5614, 0.4904, 0.7047, 0.7442, 0.8245,\n",
      "        0.8432, 0.7616, 0.6032, 0.6160, 0.6005, 0.6974, 0.6891, 0.8233, 0.6286,\n",
      "        0.6215, 0.7151, 0.7000, 0.7192, 0.7629, 0.6126, 0.7897, 0.6131, 0.8005,\n",
      "        0.7830, 0.6545, 0.5983, 0.8114, 0.7625, 0.7996, 0.7093, 0.5020, 0.6865,\n",
      "        0.8184, 0.6464, 0.8182, 0.7717, 0.7345, 0.8477, 0.7304, 0.8286, 0.7642,\n",
      "        0.5438, 0.8989, 0.5538, 0.5911, 0.5971, 0.8247, 0.6922, 0.7757, 0.0808,\n",
      "        0.7250, 0.8015, 0.7044, 0.0669, 0.7500, 0.5594, 0.7756, 0.9982, 0.5838,\n",
      "        0.6063, 0.8599, 0.9423, 0.8121, 0.6599, 0.0060, 0.7724, 0.7432, 0.8502,\n",
      "        0.7143, 0.3452, 0.6128, 0.8629, 0.9205, 0.6812, 0.5716, 0.7269, 0.8612,\n",
      "        0.8997, 0.6926, 0.9221, 0.7072, 0.0044, 0.4341, 0.5662, 0.9870, 0.9804,\n",
      "        0.6953, 0.7490, 0.9378, 0.9552, 0.9356, 0.6195, 0.3908, 0.9628, 0.7858,\n",
      "        0.7155, 0.8046, 0.0245, 0.9659, 0.8279, 0.8941, 0.9455, 0.7321, 0.7479,\n",
      "        0.9950, 0.9765, 0.9338, 0.7881, 0.9008, 0.7237, 0.8486, 0.9157, 0.7545,\n",
      "        0.1148, 0.9833, 0.9588, 0.7231, 0.9935, 0.9683, 0.9894, 0.9430, 0.8251,\n",
      "        0.3885, 0.7701, 0.6842, 0.9175, 0.7901, 0.6691, 0.9612, 0.8502, 0.9753,\n",
      "        0.9238, 0.9315, 0.7286, 0.8952, 0.7681, 0.9927, 0.8133, 0.8323, 0.9659,\n",
      "        0.9050, 0.7440, 0.9624, 0.6872, 0.9762, 0.9467, 0.7668, 0.9680, 0.7186,\n",
      "        0.9332, 0.9177, 0.7127, 0.4726, 0.9718, 0.7305, 0.9665, 0.8376, 0.7138,\n",
      "        0.9752, 0.7424, 0.7617, 0.9596, 0.5742, 0.6630, 0.8541, 0.9929, 0.7347,\n",
      "        0.8001, 0.9491, 0.7148, 0.9726, 0.4891, 0.8054, 0.7239, 0.9141, 0.8767,\n",
      "        0.7811, 0.8648, 0.9497, 0.6040, 0.7345, 0.8034, 0.4899, 0.8019, 0.6855,\n",
      "        0.7328, 0.5948, 0.4691, 0.8084, 0.8254, 0.6633, 0.7205, 0.6252, 0.8131,\n",
      "        0.9118, 0.8038, 0.7392, 0.8522, 0.6390, 0.8359, 0.8956, 0.7931, 0.7128,\n",
      "        0.6823, 0.9375, 0.8953, 0.5162, 0.2138, 0.9105, 0.8218, 0.9510, 0.6999,\n",
      "        0.5031, 0.8428, 0.7919, 0.8157, 0.8527, 0.7617, 0.9526, 0.8356, 0.8770,\n",
      "        0.8105, 0.4704, 0.7035, 0.9044, 0.8865, 0.9137, 0.5735, 0.9062, 0.7615,\n",
      "        0.7062, 0.9158, 0.7741], device='cuda:0', grad_fn=<SqueezeBackward1>)\n",
      "tensor([4.7951e-01, 7.7389e-01, 8.4136e-01, 8.3817e-01, 5.5908e-01, 3.6189e-01,\n",
      "        7.9379e-01, 1.9712e-01, 8.6364e-01, 8.9973e-01, 9.8673e-01, 7.0095e-01,\n",
      "        8.8153e-01, 9.9419e-01, 8.6634e-01, 8.6381e-01, 3.1988e-01, 8.0775e-01,\n",
      "        6.2613e-01, 7.2493e-01, 7.1075e-01, 5.7502e-01, 8.0646e-01, 7.5904e-01,\n",
      "        7.8840e-01, 8.1111e-01, 7.6013e-01, 9.9074e-01, 7.4103e-01, 9.4238e-01,\n",
      "        9.1296e-01, 9.2949e-01, 8.1087e-01, 7.0150e-01, 9.1929e-01, 7.0629e-01,\n",
      "        8.6876e-01, 8.8757e-01, 9.9741e-01, 8.6135e-01, 7.0989e-01, 9.6406e-01,\n",
      "        8.2225e-01, 9.3422e-01, 7.4905e-01, 7.9366e-01, 8.2978e-01, 8.7683e-01,\n",
      "        8.7752e-01, 9.3928e-01, 8.4360e-01, 9.0812e-01, 9.6456e-01, 7.1258e-01,\n",
      "        9.7352e-01, 8.3432e-01, 9.8028e-01, 6.7994e-01, 5.7720e-01, 9.7448e-01,\n",
      "        9.6067e-01, 9.4990e-01, 7.3425e-01, 7.2176e-01, 9.3771e-01, 8.4003e-01,\n",
      "        8.0032e-01, 9.1310e-01, 9.9339e-01, 1.2553e-01, 8.2231e-01, 7.2519e-01,\n",
      "        9.9655e-01, 9.2475e-01, 4.5295e-01, 9.7876e-01, 7.4840e-01, 9.2241e-01,\n",
      "        9.7228e-01, 6.9790e-01, 9.9646e-01, 5.9637e-01, 7.3848e-01, 9.3235e-01,\n",
      "        9.1979e-01, 4.7855e-01, 8.3023e-01, 6.4367e-01, 6.3123e-01, 7.8421e-01,\n",
      "        4.5309e-01, 8.0171e-01, 9.2805e-01, 7.2531e-01, 7.7210e-01, 8.9121e-01,\n",
      "        6.9969e-01, 5.4045e-01, 7.2386e-01, 5.7778e-01, 6.1183e-01, 5.3587e-01,\n",
      "        9.7848e-01, 7.2298e-01, 5.3655e-01, 9.9542e-01, 9.4275e-01, 9.7788e-01,\n",
      "        5.9195e-01, 5.5083e-01, 7.3336e-01, 6.6267e-01, 8.0103e-01, 7.2271e-01,\n",
      "        6.7021e-01, 7.4598e-01, 6.9395e-01, 7.7916e-01, 8.5867e-01, 9.2872e-01,\n",
      "        2.9056e-01, 8.6424e-01, 6.4941e-01, 8.2251e-01, 8.3871e-01, 7.3074e-01,\n",
      "        7.7974e-01, 2.8403e-01, 6.7751e-01, 6.4915e-01, 7.3482e-01, 8.5689e-01,\n",
      "        9.8225e-01, 7.6418e-01, 8.1725e-01, 6.2842e-01, 9.6374e-01, 9.8684e-01,\n",
      "        9.0560e-01, 8.2930e-01, 1.1311e-01, 2.8108e-01, 7.3022e-01, 9.0967e-01,\n",
      "        7.6985e-01, 5.2766e-01, 9.9545e-01, 9.0209e-01, 8.3384e-01, 8.1479e-01,\n",
      "        1.7868e-01, 7.6942e-01, 6.1108e-02, 8.0136e-01, 7.8560e-01, 2.9625e-01,\n",
      "        6.9463e-01, 6.3840e-01, 7.5806e-01, 7.4210e-01, 9.0711e-01, 6.6061e-01,\n",
      "        7.8089e-01, 6.8597e-01, 7.3075e-01, 7.5426e-01, 9.3785e-01, 7.6113e-01,\n",
      "        7.8886e-01, 7.7739e-01, 8.8978e-01, 9.4640e-01, 5.7464e-01, 8.0107e-01,\n",
      "        7.7119e-01, 6.6511e-01, 8.9238e-01, 8.2648e-01, 8.2091e-01, 4.9250e-01,\n",
      "        6.8318e-01, 9.1921e-01, 7.7658e-01, 7.0850e-01, 8.0257e-01, 6.2901e-01,\n",
      "        8.1145e-01, 9.5225e-01, 7.1783e-01, 8.0114e-01, 7.5076e-01, 8.5730e-01,\n",
      "        8.2197e-01, 8.7666e-01, 7.5877e-01, 7.3878e-01, 4.9779e-01, 2.4684e-01,\n",
      "        7.6828e-01, 7.7941e-01, 8.1742e-01, 6.1318e-01, 9.4386e-01, 7.4026e-01,\n",
      "        9.8238e-01, 8.2455e-01, 9.6119e-01, 7.4482e-01, 7.6788e-01, 8.2301e-01,\n",
      "        7.0364e-01, 7.0858e-01, 7.3659e-01, 6.6337e-01, 8.0341e-01, 7.6323e-01,\n",
      "        8.3891e-01, 8.2212e-01, 7.4845e-01, 8.0734e-01, 8.7564e-01, 7.2280e-01,\n",
      "        7.4461e-01, 7.3572e-01, 7.3495e-01, 6.0878e-01, 6.0058e-01, 7.2491e-01,\n",
      "        7.9560e-01, 7.4398e-01, 6.6249e-01, 4.1801e-01, 8.1328e-01, 8.5182e-01,\n",
      "        7.9785e-01, 9.0717e-01, 7.8221e-01, 7.0839e-02, 8.9507e-01, 7.9314e-01,\n",
      "        8.1645e-01, 7.8062e-01, 7.6829e-01, 7.7669e-01, 7.4820e-01, 8.8189e-01,\n",
      "        7.2585e-01, 7.6394e-01, 9.1131e-01, 6.5133e-01, 8.5432e-01, 7.3860e-01,\n",
      "        7.2315e-01, 9.4730e-01, 8.6163e-01, 5.9007e-01, 7.2380e-01, 7.4623e-01,\n",
      "        7.8331e-01, 8.4514e-01, 9.1507e-01, 6.2690e-01, 9.0297e-01, 6.7705e-01,\n",
      "        8.8893e-01, 7.2186e-01, 7.0094e-01, 7.4400e-01, 7.5104e-01, 8.1123e-01,\n",
      "        9.6449e-01, 9.9095e-01, 9.9564e-01, 8.3287e-01, 9.3029e-01, 8.0745e-01,\n",
      "        8.9668e-01, 9.7998e-01, 9.3375e-01, 9.6260e-01, 1.4600e-01, 4.2332e-01,\n",
      "        9.3574e-01, 9.8659e-01, 9.3672e-01, 9.8462e-01, 6.7694e-02, 9.8402e-01,\n",
      "        9.4520e-01, 8.2683e-01, 9.6152e-01, 8.2037e-01, 9.4580e-01, 5.9365e-01,\n",
      "        9.4620e-01, 8.9120e-01, 7.0298e-01, 6.7219e-01, 7.5296e-01, 4.5409e-01,\n",
      "        9.0763e-01, 7.9829e-01, 9.9574e-01, 7.1946e-01, 9.6435e-01, 7.2967e-01,\n",
      "        9.5843e-01, 9.9065e-01, 9.8426e-01, 8.7297e-01, 5.3740e-01, 8.0979e-01,\n",
      "        4.0474e-02, 8.9985e-01, 9.2899e-01, 9.7298e-01, 1.9997e-01, 7.9191e-01,\n",
      "        8.4420e-01, 8.9305e-01, 9.4416e-01, 8.6722e-01, 9.8574e-01, 7.0289e-01,\n",
      "        9.7039e-01, 8.6743e-01, 9.0749e-01, 7.4920e-01, 8.0034e-01, 7.4065e-01,\n",
      "        1.6303e-01, 5.1017e-01, 8.8276e-01, 6.5781e-01, 9.1912e-01, 8.7209e-01,\n",
      "        8.4019e-01, 1.8351e-01, 9.1837e-01, 4.8856e-01, 6.2791e-01, 8.2822e-01,\n",
      "        8.7534e-01, 8.8792e-01, 7.6858e-01, 7.6997e-01, 8.9954e-01, 1.0138e-01,\n",
      "        7.1822e-01, 8.1092e-01, 7.4715e-01, 9.3673e-01, 7.7147e-01, 9.7109e-01,\n",
      "        7.8843e-01, 7.1071e-01, 6.9344e-01, 8.0792e-01, 8.3313e-01, 9.4396e-01,\n",
      "        9.8296e-01, 1.6113e-02, 9.3093e-01, 7.4756e-01, 9.8218e-01, 8.5597e-01,\n",
      "        4.6369e-01, 9.7093e-01, 5.1622e-01, 9.8759e-01, 9.8827e-01, 8.4249e-01,\n",
      "        9.9625e-01, 9.6172e-01, 9.5387e-01, 9.2670e-01, 6.7667e-01, 7.8832e-01,\n",
      "        9.3828e-01, 9.4207e-01, 9.3941e-01, 8.6008e-01, 9.5016e-01, 7.8969e-01,\n",
      "        9.4819e-01, 9.8660e-01, 9.8123e-01, 7.4014e-01, 7.6988e-01, 5.7193e-01,\n",
      "        9.8089e-01, 9.7900e-01, 9.9032e-01, 9.5090e-01, 9.7298e-01, 9.6981e-01,\n",
      "        9.9209e-01, 9.9379e-01, 9.4444e-01, 7.7574e-01, 8.0672e-01, 7.3745e-01,\n",
      "        9.9281e-01, 8.8285e-01, 9.0633e-01, 9.6530e-01, 4.4180e-01, 9.7486e-01,\n",
      "        9.9369e-01, 8.5512e-01, 9.7337e-01, 8.3958e-01, 9.6123e-01, 6.6133e-01,\n",
      "        9.8584e-01, 8.7367e-01, 8.0963e-01, 6.0078e-01, 5.2422e-01, 9.9063e-01,\n",
      "        6.9774e-01, 8.7838e-01, 8.3088e-01, 7.2404e-01, 8.1973e-01, 7.7738e-01,\n",
      "        7.7461e-01, 8.2372e-01, 6.2878e-01, 6.7887e-01, 9.0701e-01, 6.9485e-01,\n",
      "        7.1448e-01, 8.1429e-01, 4.2585e-01, 7.4901e-01, 7.8979e-01, 8.1510e-01,\n",
      "        7.4672e-01, 7.3042e-01, 8.1673e-01, 1.6171e-01, 8.6488e-01, 5.6858e-01,\n",
      "        7.1304e-01, 7.7829e-01, 7.3118e-01, 7.9075e-01, 6.3240e-01, 6.5582e-01,\n",
      "        7.3685e-01, 7.0902e-01, 8.2819e-01, 7.6197e-01, 7.2158e-01, 1.6287e-01,\n",
      "        7.4139e-01, 6.5928e-01, 7.1932e-01, 7.5392e-01, 7.8415e-01, 7.3589e-01,\n",
      "        1.8643e-02, 8.8337e-01, 8.1655e-01, 7.1510e-01, 7.8549e-01, 9.7070e-01,\n",
      "        8.5411e-01, 8.5722e-01, 6.8567e-01, 6.7010e-01, 8.4665e-01, 9.1419e-01,\n",
      "        8.4229e-01, 5.3671e-01, 9.2774e-01, 8.4009e-01, 4.6994e-01, 6.6964e-01,\n",
      "        7.2651e-01, 7.5185e-01, 6.7235e-01, 5.8831e-01, 7.9808e-01, 7.9734e-01,\n",
      "        8.1972e-01, 6.9571e-01, 7.7326e-01, 3.8661e-03, 8.7247e-01, 7.8631e-01,\n",
      "        7.1981e-01, 6.5465e-01, 5.5471e-01, 8.3288e-01, 7.2870e-01, 8.4629e-01,\n",
      "        7.5032e-01, 9.2442e-01, 7.5977e-01, 5.8769e-01, 7.8508e-01, 8.9051e-01,\n",
      "        8.6717e-01, 8.2194e-01, 7.2456e-01, 7.0912e-01, 7.9623e-01, 6.9539e-01,\n",
      "        3.2689e-01, 6.4223e-01, 8.6742e-01, 6.7119e-01, 8.1149e-01, 7.7519e-01,\n",
      "        9.9536e-01, 2.6200e-01, 5.3245e-01, 7.3585e-01, 7.8119e-01, 7.8151e-01,\n",
      "        9.8592e-01, 9.6140e-01, 4.2506e-01, 9.2227e-01, 7.4198e-01, 7.8589e-01,\n",
      "        6.6037e-01, 7.1624e-01, 6.9165e-01, 2.7477e-01, 7.7853e-01, 8.8412e-01,\n",
      "        6.5749e-01, 5.0532e-01, 7.5363e-01, 6.6466e-01, 5.1255e-03, 9.4982e-01,\n",
      "        1.2937e-03, 6.1879e-01, 6.5288e-01, 7.5268e-01, 7.0228e-01, 3.5657e-01,\n",
      "        7.6157e-01, 6.1135e-01, 9.7879e-01, 7.8397e-01, 6.5161e-01, 7.5477e-01,\n",
      "        8.3665e-01, 7.0450e-01, 8.5599e-01, 7.2887e-01, 8.2607e-01, 8.2491e-01,\n",
      "        8.1512e-01, 7.5856e-01, 9.1440e-01, 5.3596e-01, 9.6179e-01, 2.5535e-01,\n",
      "        7.7701e-01, 6.8395e-01, 8.0305e-01, 6.7180e-01, 6.8890e-01, 9.6393e-01,\n",
      "        4.0342e-01, 7.2182e-01, 9.3792e-01, 7.1671e-01, 8.4969e-01, 9.2514e-01,\n",
      "        8.2235e-01, 5.3876e-01, 7.5020e-01, 6.2435e-01, 6.9654e-01, 4.5766e-01,\n",
      "        8.0777e-01, 8.9277e-01, 6.0484e-01, 4.3362e-01, 8.6861e-01, 7.8982e-01,\n",
      "        7.3808e-01, 7.9463e-01, 7.0974e-01, 7.6305e-01, 6.0424e-01, 7.8883e-01,\n",
      "        7.7321e-01, 7.0873e-01, 6.2100e-01, 6.0573e-01, 7.7664e-01, 6.0370e-01,\n",
      "        8.9285e-01, 9.8463e-01, 8.1809e-01, 8.5006e-01, 7.5200e-01, 5.6928e-01,\n",
      "        7.6598e-01, 9.7236e-01, 9.6166e-01, 9.3738e-01, 8.2212e-01, 8.5753e-01,\n",
      "        8.3051e-01, 5.2757e-01, 8.9380e-01, 7.4414e-01, 6.2598e-01, 7.3703e-01,\n",
      "        9.7888e-01, 9.9185e-01, 9.6562e-01, 8.5994e-01, 9.6370e-01, 7.8536e-01,\n",
      "        7.6158e-01, 7.0448e-01, 9.5378e-01, 9.5271e-01, 8.1444e-01, 7.5527e-01,\n",
      "        6.3483e-01, 7.9441e-01, 6.8058e-01, 5.5339e-01, 6.4973e-01, 6.2918e-01,\n",
      "        7.9335e-01, 5.2715e-01, 6.6233e-01, 9.1333e-01, 7.4893e-01, 7.7964e-01,\n",
      "        8.3663e-01, 6.4668e-01, 6.1620e-01, 7.4322e-01, 8.5052e-01, 5.5174e-01,\n",
      "        8.8061e-01, 7.6221e-01, 7.5410e-01, 8.0159e-01, 9.8068e-01, 4.9584e-01,\n",
      "        7.6195e-01, 4.6388e-01, 6.3304e-01, 6.7513e-01, 8.3408e-01, 7.5455e-01,\n",
      "        7.9710e-01, 8.6919e-01, 6.7486e-01, 9.6023e-01, 7.6644e-01, 6.6352e-01,\n",
      "        6.4244e-01, 7.7846e-01, 9.2610e-01, 8.1987e-01, 8.0664e-01, 9.2834e-01,\n",
      "        6.8381e-01, 6.6228e-01, 9.4184e-01, 7.4163e-01, 7.3735e-01, 6.5306e-01,\n",
      "        8.6759e-01, 8.8987e-01, 8.9577e-01, 6.9732e-01, 7.6621e-01, 6.1501e-01,\n",
      "        9.3492e-01, 8.9939e-01, 7.7729e-01, 9.4509e-01, 8.1505e-01, 8.5115e-01,\n",
      "        3.7687e-01, 7.9258e-01, 7.6271e-01, 8.0600e-01, 7.0083e-01, 1.8467e-01,\n",
      "        6.4454e-01, 8.2432e-01, 8.1970e-01, 7.6598e-01, 7.4136e-01, 8.4532e-01,\n",
      "        8.5057e-01, 8.1346e-01, 5.7337e-01, 4.4402e-01, 7.8142e-01, 9.4566e-01,\n",
      "        7.0564e-01, 7.8393e-01, 7.5116e-01, 6.6326e-01, 5.8528e-01, 8.1963e-01,\n",
      "        6.9796e-01, 6.4585e-01, 7.4432e-01, 8.1024e-01, 8.4667e-01, 8.4301e-01,\n",
      "        8.8732e-01, 8.1174e-01, 7.1963e-01, 5.8711e-01, 7.2149e-01, 6.6477e-01,\n",
      "        6.6764e-01, 7.5464e-01, 6.9344e-01, 6.5499e-01, 7.1827e-01, 6.1445e-01,\n",
      "        8.0648e-01, 7.9218e-01, 5.7023e-01, 8.3983e-01, 7.5966e-01, 5.5873e-01,\n",
      "        7.3555e-01, 8.4856e-01, 8.3135e-02, 5.4224e-01, 8.5538e-01, 5.9349e-01,\n",
      "        7.5945e-01, 8.6583e-01, 6.5863e-01, 7.6372e-01, 5.3377e-01, 8.2919e-01,\n",
      "        8.1633e-01, 7.7623e-01, 8.2203e-01, 7.2601e-01, 8.1738e-01, 7.8443e-01,\n",
      "        8.6454e-01, 4.3263e-01, 6.5829e-01, 7.3707e-01, 8.4331e-01, 6.8104e-01,\n",
      "        9.2110e-01, 8.9933e-01, 7.8673e-01, 8.8804e-01, 7.5518e-01, 7.6299e-01,\n",
      "        6.8951e-01, 7.2237e-01, 8.1652e-01, 5.0546e-01, 6.7108e-01, 8.8764e-01,\n",
      "        7.3635e-01, 7.3805e-01, 7.1652e-01, 7.7053e-01, 8.4842e-01, 9.4212e-01,\n",
      "        8.1841e-01, 8.0417e-01, 7.0675e-01, 8.9167e-01, 8.9115e-01, 6.5852e-01,\n",
      "        7.8852e-01, 9.3900e-01, 8.1320e-01, 8.0705e-01, 7.4927e-01, 8.1749e-01,\n",
      "        6.8710e-01, 7.7188e-01, 7.4156e-01, 6.9854e-01, 7.1550e-01, 8.0894e-01,\n",
      "        9.0001e-01, 8.2087e-01, 7.5904e-01, 7.7047e-01, 8.9279e-01, 7.0602e-01,\n",
      "        7.9436e-01, 8.0358e-01, 8.0624e-01, 8.2763e-01, 8.1381e-01, 8.2959e-01,\n",
      "        3.5802e-01, 5.3157e-01, 8.0039e-01, 7.7380e-01, 7.7939e-01, 6.1262e-01,\n",
      "        8.3842e-01, 5.4206e-01, 8.0702e-01, 7.4465e-01, 7.4014e-01, 6.5087e-01,\n",
      "        5.7149e-01, 5.8843e-01, 6.8336e-01, 6.8580e-01, 8.2825e-01, 8.2891e-01,\n",
      "        7.9737e-01, 8.3624e-01, 6.8525e-01, 8.4328e-01, 7.8274e-01, 6.9163e-01,\n",
      "        4.8584e-01, 5.2253e-02, 8.6255e-01, 7.7057e-01, 6.2685e-01, 4.8885e-01,\n",
      "        1.5779e-01, 7.8035e-01, 7.1781e-01, 7.8815e-01, 5.8163e-01, 7.7727e-01,\n",
      "        6.4859e-01, 9.0765e-01, 8.9444e-01, 8.7743e-01, 7.5655e-01, 9.1789e-01,\n",
      "        7.6137e-01, 8.2589e-01, 7.6992e-01, 6.8366e-01, 8.7327e-01, 9.8061e-01,\n",
      "        7.7911e-01, 7.1051e-01, 7.6438e-01, 7.4761e-01, 7.8542e-01, 8.3287e-01,\n",
      "        6.9173e-01, 3.6623e-01, 7.8939e-01, 9.1423e-01, 7.7176e-01, 6.3738e-01,\n",
      "        7.7991e-01, 7.2080e-01, 7.0928e-01, 5.7115e-01, 7.7019e-01, 5.3063e-01,\n",
      "        6.6733e-01, 7.2380e-01, 9.8860e-01, 1.4709e-02, 5.0109e-01, 7.4154e-01,\n",
      "        4.0268e-04, 6.8122e-01, 6.2685e-01, 7.9597e-01, 8.8782e-01, 7.6299e-01,\n",
      "        8.9860e-01, 7.9209e-01, 7.7289e-01, 8.6217e-01, 6.3201e-01, 7.4539e-01,\n",
      "        7.3632e-01, 6.7021e-01, 9.6034e-01, 8.9577e-01, 8.0009e-01, 7.1500e-01,\n",
      "        5.5566e-02, 9.1972e-01, 8.0945e-01, 8.7608e-01, 8.0189e-01, 4.7296e-01,\n",
      "        2.3490e-01, 8.9436e-01, 8.0909e-01, 9.1981e-01, 8.5924e-01, 8.2563e-01,\n",
      "        7.1191e-01, 8.7434e-01, 5.0238e-01, 8.0711e-01, 8.6244e-01, 7.9326e-01,\n",
      "        9.0443e-01, 8.3546e-01, 6.8080e-01, 8.3956e-01, 7.5105e-01, 8.1592e-01,\n",
      "        7.7821e-01, 7.0141e-01, 8.7768e-01, 9.6229e-03, 6.6765e-01, 4.5486e-01],\n",
      "       device='cuda:0', grad_fn=<SqueezeBackward1>)\n",
      "Loss = 1.062557,Accuracy_value = 0.964731,Accuracy_instance = 0.000000\n",
      "Label_One_Predict_One = 0.435294,Predict_One_Label_One = 0.528221,Nombre_Predict_One = 28.400000,Nombre_One_Mean = 34.000000\n",
      "Label_Zero_Predict_Zero = 0.984821,Label_Zero_Predict_Zero = 0.978704,Nombre_Predict_Zero = 901.600000,Nombre_Zero_Mean = 896.000000\n",
      "Accuracy_fixe_mean = 0.986914,Accuracy_fixe_one = 0.658810,Accuracy_fixe_zero = 0.988958\n",
      "\n"
     ]
    },
    {
     "data": {
      "text/plain": [
       "('Loss = 1.062557,Accuracy_value = 0.964731,Accuracy_instance = 0.000000\\nLabel_One_Predict_One = 0.435294,Predict_One_Label_One = 0.528221,Nombre_Predict_One = 28.400000,Nombre_One_Mean = 34.000000\\nLabel_Zero_Predict_Zero = 0.984821,Label_Zero_Predict_Zero = 0.978704,Nombre_Predict_Zero = 901.600000,Nombre_Zero_Mean = 896.000000\\nAccuracy_fixe_mean = 0.986914,Accuracy_fixe_one = 0.658810,Accuracy_fixe_zero = 0.988958\\n',\n",
       " 0.9647311827956988,\n",
       " 0.0,\n",
       " 0.65880954,\n",
       " 0.9889577,\n",
       " 0.52822095,\n",
       " 0.978704)"
      ]
     },
     "execution_count": 10,
     "metadata": {},
     "output_type": "execute_result"
    }
   ],
   "source": [
    "valide(net,criterion,data_test_gpu,True,proportion)"
   ]
  },
  {
   "cell_type": "code",
   "execution_count": 13,
   "metadata": {},
   "outputs": [
    {
     "name": "stderr",
     "output_type": "stream",
     "text": [
      "\r",
      "  0%|                                                                                         | 0/1000 [00:00<?, ?it/s]"
     ]
    },
    {
     "name": "stdout",
     "output_type": "stream",
     "text": [
      "Loss = 4.466147,Accuracy_value = 0.203065,Accuracy_instance = 0.000000\n",
      "Label_One_Predict_One = 0.925455,Predict_One_Label_One = 0.036308,Nombre_Predict_One = 921.200000,Nombre_One_Mean = 34.650000\n",
      "Label_Zero_Predict_Zero = 0.179032,Label_Zero_Predict_Zero = 0.986052,Nombre_Predict_Zero = 194.800000,Nombre_Zero_Mean = 1081.350000\n",
      "Accuracy_fixe_mean = 0.051680,Accuracy_fixe_one = 0.029164,Accuracy_fixe_zero = 0.965887\n",
      "\n"
     ]
    },
    {
     "name": "stderr",
     "output_type": "stream",
     "text": [
      "  5%|████                                                                            | 50/1000 [01:24<26:17,  1.66s/it]"
     ]
    },
    {
     "name": "stdout",
     "output_type": "stream",
     "text": [
      "Loss = 0.149230,Accuracy_value = 0.976416,Accuracy_instance = 0.000000\n",
      "Label_One_Predict_One = 0.418854,Predict_One_Label_One = 0.739114,Nombre_Predict_One = 19.900000,Nombre_One_Mean = 34.650000\n",
      "Label_Zero_Predict_Zero = 0.994924,Label_Zero_Predict_Zero = 0.980975,Nombre_Predict_Zero = 1096.100000,Nombre_Zero_Mean = 1081.350000\n",
      "Accuracy_fixe_mean = 0.994265,Accuracy_fixe_one = 0.000000,Accuracy_fixe_zero = 0.994265\n",
      "\n"
     ]
    },
    {
     "name": "stderr",
     "output_type": "stream",
     "text": [
      " 10%|███████▉                                                                       | 100/1000 [02:48<24:42,  1.65s/it]"
     ]
    },
    {
     "name": "stdout",
     "output_type": "stream",
     "text": [
      "Loss = 0.151874,Accuracy_value = 0.975753,Accuracy_instance = 0.000000\n",
      "Label_One_Predict_One = 0.498543,Predict_One_Label_One = 0.662722,Nombre_Predict_One = 26.150000,Nombre_One_Mean = 34.650000\n",
      "Label_Zero_Predict_Zero = 0.991512,Label_Zero_Predict_Zero = 0.983556,Nombre_Predict_Zero = 1089.850000,Nombre_Zero_Mean = 1081.350000\n",
      "Accuracy_fixe_mean = 0.994019,Accuracy_fixe_one = 0.100000,Accuracy_fixe_zero = 0.994018\n",
      "\n"
     ]
    },
    {
     "name": "stderr",
     "output_type": "stream",
     "text": [
      " 15%|███████████▊                                                                   | 150/1000 [04:11<23:22,  1.65s/it]"
     ]
    },
    {
     "name": "stdout",
     "output_type": "stream",
     "text": [
      "Loss = 0.160801,Accuracy_value = 0.974928,Accuracy_instance = 0.000000\n",
      "Label_One_Predict_One = 0.499809,Predict_One_Label_One = 0.642973,Nombre_Predict_One = 27.050000,Nombre_One_Mean = 34.650000\n",
      "Label_Zero_Predict_Zero = 0.990659,Label_Zero_Predict_Zero = 0.983541,Nombre_Predict_Zero = 1088.950000,Nombre_Zero_Mean = 1081.350000\n",
      "Accuracy_fixe_mean = 0.994153,Accuracy_fixe_one = 0.150000,Accuracy_fixe_zero = 0.994352\n",
      "\n"
     ]
    },
    {
     "name": "stderr",
     "output_type": "stream",
     "text": [
      " 20%|███████████████▊                                                               | 200/1000 [05:34<21:57,  1.65s/it]"
     ]
    },
    {
     "name": "stdout",
     "output_type": "stream",
     "text": [
      "Loss = 0.178476,Accuracy_value = 0.972419,Accuracy_instance = 0.000000\n",
      "Label_One_Predict_One = 0.383765,Predict_One_Label_One = 0.618611,Nombre_Predict_One = 21.500000,Nombre_One_Mean = 34.650000\n",
      "Label_Zero_Predict_Zero = 0.992065,Label_Zero_Predict_Zero = 0.979687,Nombre_Predict_Zero = 1094.500000,Nombre_Zero_Mean = 1081.350000\n",
      "Accuracy_fixe_mean = 0.991107,Accuracy_fixe_one = 0.483333,Accuracy_fixe_zero = 0.991806\n",
      "\n"
     ]
    },
    {
     "name": "stderr",
     "output_type": "stream",
     "text": [
      " 25%|███████████████████▊                                                           | 250/1000 [06:58<20:40,  1.65s/it]"
     ]
    },
    {
     "name": "stdout",
     "output_type": "stream",
     "text": [
      "Loss = 0.198158,Accuracy_value = 0.971541,Accuracy_instance = 0.000000\n",
      "Label_One_Predict_One = 0.433193,Predict_One_Label_One = 0.578071,Nombre_Predict_One = 26.000000,Nombre_One_Mean = 34.650000\n",
      "Label_Zero_Predict_Zero = 0.989397,Label_Zero_Predict_Zero = 0.981332,Nombre_Predict_Zero = 1090.000000,Nombre_Zero_Mean = 1081.350000\n",
      "Accuracy_fixe_mean = 0.990502,Accuracy_fixe_one = 0.352083,Accuracy_fixe_zero = 0.991643\n",
      "\n"
     ]
    },
    {
     "name": "stderr",
     "output_type": "stream",
     "text": [
      " 30%|███████████████████████▋                                                       | 300/1000 [08:21<19:24,  1.66s/it]"
     ]
    },
    {
     "name": "stdout",
     "output_type": "stream",
     "text": [
      "Loss = 0.201210,Accuracy_value = 0.972706,Accuracy_instance = 0.000000\n",
      "Label_One_Predict_One = 0.492864,Predict_One_Label_One = 0.592406,Nombre_Predict_One = 29.050000,Nombre_One_Mean = 34.650000\n",
      "Label_Zero_Predict_Zero = 0.988547,Label_Zero_Predict_Zero = 0.983321,Nombre_Predict_Zero = 1086.950000,Nombre_Zero_Mean = 1081.350000\n",
      "Accuracy_fixe_mean = 0.991532,Accuracy_fixe_one = 0.477706,Accuracy_fixe_zero = 0.992740\n",
      "\n"
     ]
    },
    {
     "name": "stderr",
     "output_type": "stream",
     "text": [
      " 35%|███████████████████████████▋                                                   | 350/1000 [09:45<17:55,  1.66s/it]"
     ]
    },
    {
     "name": "stdout",
     "output_type": "stream",
     "text": [
      "Loss = 0.241723,Accuracy_value = 0.970502,Accuracy_instance = 0.000000\n",
      "Label_One_Predict_One = 0.498826,Predict_One_Label_One = 0.547248,Nombre_Predict_One = 31.650000,Nombre_One_Mean = 34.650000\n",
      "Label_Zero_Predict_Zero = 0.986040,Label_Zero_Predict_Zero = 0.983503,Nombre_Predict_Zero = 1084.350000,Nombre_Zero_Mean = 1081.350000\n",
      "Accuracy_fixe_mean = 0.988911,Accuracy_fixe_one = 0.628155,Accuracy_fixe_zero = 0.990739\n",
      "\n"
     ]
    },
    {
     "name": "stderr",
     "output_type": "stream",
     "text": [
      " 40%|███████████████████████████████▌                                               | 400/1000 [11:08<16:28,  1.65s/it]"
     ]
    },
    {
     "name": "stdout",
     "output_type": "stream",
     "text": [
      "Loss = 0.263676,Accuracy_value = 0.970789,Accuracy_instance = 0.000000\n",
      "Label_One_Predict_One = 0.464846,Predict_One_Label_One = 0.560687,Nombre_Predict_One = 28.900000,Nombre_One_Mean = 34.650000\n",
      "Label_Zero_Predict_Zero = 0.987597,Label_Zero_Predict_Zero = 0.982295,Nombre_Predict_Zero = 1087.100000,Nombre_Zero_Mean = 1081.350000\n",
      "Accuracy_fixe_mean = 0.988620,Accuracy_fixe_one = 0.538393,Accuracy_fixe_zero = 0.991004\n",
      "\n"
     ]
    },
    {
     "name": "stderr",
     "output_type": "stream",
     "text": [
      " 45%|███████████████████████████████████▌                                           | 450/1000 [12:32<15:07,  1.65s/it]"
     ]
    },
    {
     "name": "stdout",
     "output_type": "stream",
     "text": [
      "Loss = 0.301994,Accuracy_value = 0.968728,Accuracy_instance = 0.000000\n",
      "Label_One_Predict_One = 0.424412,Predict_One_Label_One = 0.524006,Nombre_Predict_One = 28.350000,Nombre_One_Mean = 34.650000\n",
      "Label_Zero_Predict_Zero = 0.986801,Label_Zero_Predict_Zero = 0.980977,Nombre_Predict_Zero = 1087.650000,Nombre_Zero_Mean = 1081.350000\n",
      "Accuracy_fixe_mean = 0.987366,Accuracy_fixe_one = 0.561328,Accuracy_fixe_zero = 0.990118\n",
      "\n"
     ]
    },
    {
     "name": "stderr",
     "output_type": "stream",
     "text": [
      " 50%|███████████████████████████████████████▌                                       | 500/1000 [13:55<13:46,  1.65s/it]"
     ]
    },
    {
     "name": "stdout",
     "output_type": "stream",
     "text": [
      "Loss = 0.357194,Accuracy_value = 0.969391,Accuracy_instance = 0.000000\n",
      "Label_One_Predict_One = 0.425759,Predict_One_Label_One = 0.540042,Nombre_Predict_One = 27.550000,Nombre_One_Mean = 34.650000\n",
      "Label_Zero_Predict_Zero = 0.987464,Label_Zero_Predict_Zero = 0.981006,Nombre_Predict_Zero = 1088.450000,Nombre_Zero_Mean = 1081.350000\n",
      "Accuracy_fixe_mean = 0.987007,Accuracy_fixe_one = 0.593344,Accuracy_fixe_zero = 0.989490\n",
      "\n"
     ]
    },
    {
     "name": "stderr",
     "output_type": "stream",
     "text": [
      " 55%|███████████████████████████████████████████▍                                   | 550/1000 [15:19<12:23,  1.65s/it]"
     ]
    },
    {
     "name": "stdout",
     "output_type": "stream",
     "text": [
      "Loss = 0.359321,Accuracy_value = 0.968656,Accuracy_instance = 0.000000\n",
      "Label_One_Predict_One = 0.414241,Predict_One_Label_One = 0.526046,Nombre_Predict_One = 27.600000,Nombre_One_Mean = 34.650000\n",
      "Label_Zero_Predict_Zero = 0.987076,Label_Zero_Predict_Zero = 0.980631,Nombre_Predict_Zero = 1088.400000,Nombre_Zero_Mean = 1081.350000\n",
      "Accuracy_fixe_mean = 0.986604,Accuracy_fixe_one = 0.553829,Accuracy_fixe_zero = 0.989554\n",
      "\n"
     ]
    },
    {
     "name": "stderr",
     "output_type": "stream",
     "text": [
      " 60%|███████████████████████████████████████████████▍                               | 600/1000 [16:42<10:59,  1.65s/it]"
     ]
    },
    {
     "name": "stdout",
     "output_type": "stream",
     "text": [
      "Loss = 0.434215,Accuracy_value = 0.967043,Accuracy_instance = 0.000000\n",
      "Label_One_Predict_One = 0.399655,Predict_One_Label_One = 0.491666,Nombre_Predict_One = 28.450000,Nombre_One_Mean = 34.650000\n",
      "Label_Zero_Predict_Zero = 0.985969,Label_Zero_Predict_Zero = 0.980071,Nombre_Predict_Zero = 1087.550000,Nombre_Zero_Mean = 1081.350000\n",
      "Accuracy_fixe_mean = 0.984117,Accuracy_fixe_one = 0.530052,Accuracy_fixe_zero = 0.988126\n",
      "\n"
     ]
    },
    {
     "name": "stderr",
     "output_type": "stream",
     "text": [
      " 65%|███████████████████████████████████████████████████▎                           | 650/1000 [18:06<09:38,  1.65s/it]"
     ]
    },
    {
     "name": "stdout",
     "output_type": "stream",
     "text": [
      "Loss = 0.451328,Accuracy_value = 0.966523,Accuracy_instance = 0.000000\n",
      "Label_One_Predict_One = 0.440378,Predict_One_Label_One = 0.489010,Nombre_Predict_One = 31.800000,Nombre_One_Mean = 34.650000\n",
      "Label_Zero_Predict_Zero = 0.984002,Label_Zero_Predict_Zero = 0.981430,Nombre_Predict_Zero = 1084.200000,Nombre_Zero_Mean = 1081.350000\n",
      "Accuracy_fixe_mean = 0.984386,Accuracy_fixe_one = 0.561764,Accuracy_fixe_zero = 0.988311\n",
      "\n"
     ]
    },
    {
     "name": "stderr",
     "output_type": "stream",
     "text": [
      " 70%|███████████████████████████████████████████████████████▎                       | 700/1000 [19:31<08:15,  1.65s/it]"
     ]
    },
    {
     "name": "stdout",
     "output_type": "stream",
     "text": [
      "Loss = 0.506855,Accuracy_value = 0.965305,Accuracy_instance = 0.000000\n",
      "Label_One_Predict_One = 0.392507,Predict_One_Label_One = 0.467565,Nombre_Predict_One = 29.800000,Nombre_One_Mean = 34.650000\n",
      "Label_Zero_Predict_Zero = 0.984392,Label_Zero_Predict_Zero = 0.979823,Nombre_Predict_Zero = 1086.200000,Nombre_Zero_Mean = 1081.350000\n",
      "Accuracy_fixe_mean = 0.983893,Accuracy_fixe_one = 0.524452,Accuracy_fixe_zero = 0.988069\n",
      "\n"
     ]
    },
    {
     "name": "stderr",
     "output_type": "stream",
     "text": [
      " 75%|███████████████████████████████████████████████████████████▎                   | 750/1000 [20:52<06:39,  1.60s/it]"
     ]
    },
    {
     "name": "stdout",
     "output_type": "stream",
     "text": [
      "Loss = 0.581109,Accuracy_value = 0.963513,Accuracy_instance = 0.000000\n",
      "Label_One_Predict_One = 0.422899,Predict_One_Label_One = 0.444447,Nombre_Predict_One = 33.700000,Nombre_One_Mean = 34.650000\n",
      "Label_Zero_Predict_Zero = 0.981478,Label_Zero_Predict_Zero = 0.980790,Nombre_Predict_Zero = 1082.300000,Nombre_Zero_Mean = 1081.350000\n",
      "Accuracy_fixe_mean = 0.982280,Accuracy_fixe_one = 0.504443,Accuracy_fixe_zero = 0.987788\n",
      "\n"
     ]
    },
    {
     "name": "stderr",
     "output_type": "stream",
     "text": [
      " 80%|███████████████████████████████████████████████████████████████▏               | 800/1000 [22:14<05:22,  1.61s/it]"
     ]
    },
    {
     "name": "stdout",
     "output_type": "stream",
     "text": [
      "Loss = 0.604073,Accuracy_value = 0.963799,Accuracy_instance = 0.000000\n",
      "Label_One_Predict_One = 0.442101,Predict_One_Label_One = 0.447790,Nombre_Predict_One = 35.050000,Nombre_One_Mean = 34.650000\n",
      "Label_Zero_Predict_Zero = 0.981020,Label_Zero_Predict_Zero = 0.981529,Nombre_Predict_Zero = 1080.950000,Nombre_Zero_Mean = 1081.350000\n",
      "Accuracy_fixe_mean = 0.983109,Accuracy_fixe_one = 0.506103,Accuracy_fixe_zero = 0.988225\n",
      "\n"
     ]
    },
    {
     "name": "stderr",
     "output_type": "stream",
     "text": [
      " 85%|███████████████████████████████████████████████████████████████████▏           | 850/1000 [23:35<04:00,  1.60s/it]"
     ]
    },
    {
     "name": "stdout",
     "output_type": "stream",
     "text": [
      "Loss = 0.669998,Accuracy_value = 0.963513,Accuracy_instance = 0.000000\n",
      "Label_One_Predict_One = 0.435973,Predict_One_Label_One = 0.448224,Nombre_Predict_One = 34.850000,Nombre_One_Mean = 34.650000\n",
      "Label_Zero_Predict_Zero = 0.981001,Label_Zero_Predict_Zero = 0.981257,Nombre_Predict_Zero = 1081.150000,Nombre_Zero_Mean = 1081.350000\n",
      "Accuracy_fixe_mean = 0.982639,Accuracy_fixe_one = 0.529669,Accuracy_fixe_zero = 0.988343\n",
      "\n"
     ]
    },
    {
     "name": "stderr",
     "output_type": "stream",
     "text": [
      " 90%|███████████████████████████████████████████████████████████████████████        | 900/1000 [24:55<02:39,  1.60s/it]"
     ]
    },
    {
     "name": "stdout",
     "output_type": "stream",
     "text": [
      "Loss = 0.695699,Accuracy_value = 0.963746,Accuracy_instance = 0.000000\n",
      "Label_One_Predict_One = 0.448880,Predict_One_Label_One = 0.445403,Nombre_Predict_One = 35.650000,Nombre_One_Mean = 34.650000\n",
      "Label_Zero_Predict_Zero = 0.980839,Label_Zero_Predict_Zero = 0.981656,Nombre_Predict_Zero = 1080.350000,Nombre_Zero_Mean = 1081.350000\n",
      "Accuracy_fixe_mean = 0.982348,Accuracy_fixe_one = 0.503130,Accuracy_fixe_zero = 0.987763\n",
      "\n"
     ]
    },
    {
     "name": "stderr",
     "output_type": "stream",
     "text": [
      " 95%|███████████████████████████████████████████████████████████████████████████    | 950/1000 [26:16<01:20,  1.61s/it]"
     ]
    },
    {
     "name": "stdout",
     "output_type": "stream",
     "text": [
      "Loss = 0.725682,Accuracy_value = 0.964552,Accuracy_instance = 0.000000\n",
      "Label_One_Predict_One = 0.450311,Predict_One_Label_One = 0.453945,Nombre_Predict_One = 34.800000,Nombre_One_Mean = 34.650000\n",
      "Label_Zero_Predict_Zero = 0.981615,Label_Zero_Predict_Zero = 0.981730,Nombre_Predict_Zero = 1081.200000,Nombre_Zero_Mean = 1081.350000\n",
      "Accuracy_fixe_mean = 0.982753,Accuracy_fixe_one = 0.466385,Accuracy_fixe_zero = 0.987732\n",
      "\n"
     ]
    },
    {
     "name": "stderr",
     "output_type": "stream",
     "text": [
      "100%|██████████████████████████████████████████████████████████████████████████████| 1000/1000 [27:37<00:00,  1.66s/it]\n",
      "  0%|                                                                                         | 0/1000 [00:00<?, ?it/s]"
     ]
    },
    {
     "name": "stdout",
     "output_type": "stream",
     "text": [
      "Loss = 0.742299,Accuracy_value = 0.961004,Accuracy_instance = 0.000000\n",
      "Label_One_Predict_One = 0.402855,Predict_One_Label_One = 0.392379,Nombre_Predict_One = 35.950000,Nombre_One_Mean = 34.800000\n",
      "Label_Zero_Predict_Zero = 0.979021,Label_Zero_Predict_Zero = 0.980634,Nombre_Predict_Zero = 1103.300000,Nombre_Zero_Mean = 1104.450000\n",
      "Accuracy_fixe_mean = 0.983782,Accuracy_fixe_one = 0.559972,Accuracy_fixe_zero = 0.988209\n",
      "\n",
      "Loss = 2.322634,Accuracy_value = 0.819283,Accuracy_instance = 0.000000\n",
      "Label_One_Predict_One = 0.080343,Predict_One_Label_One = 0.016468,Nombre_Predict_One = 169.900000,Nombre_One_Mean = 34.650000\n",
      "Label_Zero_Predict_Zero = 0.843862,Label_Zero_Predict_Zero = 0.964910,Nombre_Predict_Zero = 946.100000,Nombre_Zero_Mean = 1081.350000\n",
      "Accuracy_fixe_mean = 0.902778,Accuracy_fixe_one = 0.030038,Accuracy_fixe_zero = 0.964852\n",
      "\n"
     ]
    },
    {
     "name": "stderr",
     "output_type": "stream",
     "text": [
      "  5%|████                                                                            | 50/1000 [01:21<25:25,  1.61s/it]"
     ]
    },
    {
     "name": "stdout",
     "output_type": "stream",
     "text": [
      "Loss = 0.149137,Accuracy_value = 0.976272,Accuracy_instance = 0.000000\n",
      "Label_One_Predict_One = 0.408971,Predict_One_Label_One = 0.734622,Nombre_Predict_One = 19.450000,Nombre_One_Mean = 34.650000\n",
      "Label_Zero_Predict_Zero = 0.995055,Label_Zero_Predict_Zero = 0.980712,Nombre_Predict_Zero = 1096.550000,Nombre_Zero_Mean = 1081.350000\n",
      "Accuracy_fixe_mean = 0.994579,Accuracy_fixe_one = 0.000000,Accuracy_fixe_zero = 0.994579\n",
      "\n"
     ]
    },
    {
     "name": "stderr",
     "output_type": "stream",
     "text": [
      " 10%|███████▉                                                                       | 100/1000 [02:42<24:08,  1.61s/it]"
     ]
    },
    {
     "name": "stdout",
     "output_type": "stream",
     "text": [
      "Loss = 0.153238,Accuracy_value = 0.976075,Accuracy_instance = 0.000000\n",
      "Label_One_Predict_One = 0.500016,Predict_One_Label_One = 0.673554,Nombre_Predict_One = 25.900000,Nombre_One_Mean = 34.650000\n",
      "Label_Zero_Predict_Zero = 0.991771,Label_Zero_Predict_Zero = 0.983634,Nombre_Predict_Zero = 1090.100000,Nombre_Zero_Mean = 1081.350000\n",
      "Accuracy_fixe_mean = 0.993907,Accuracy_fixe_one = 0.100000,Accuracy_fixe_zero = 0.994084\n",
      "\n"
     ]
    },
    {
     "name": "stderr",
     "output_type": "stream",
     "text": [
      " 15%|███████████▊                                                                   | 150/1000 [04:03<22:46,  1.61s/it]"
     ]
    },
    {
     "name": "stdout",
     "output_type": "stream",
     "text": [
      "Loss = 0.158986,Accuracy_value = 0.975806,Accuracy_instance = 0.000000\n",
      "Label_One_Predict_One = 0.501732,Predict_One_Label_One = 0.656620,Nombre_Predict_One = 26.400000,Nombre_One_Mean = 34.650000\n",
      "Label_Zero_Predict_Zero = 0.991383,Label_Zero_Predict_Zero = 0.983737,Nombre_Predict_Zero = 1089.600000,Nombre_Zero_Mean = 1081.350000\n",
      "Accuracy_fixe_mean = 0.993347,Accuracy_fixe_one = 0.233333,Accuracy_fixe_zero = 0.993656\n",
      "\n"
     ]
    },
    {
     "name": "stderr",
     "output_type": "stream",
     "text": [
      " 20%|███████████████▊                                                               | 200/1000 [05:24<21:29,  1.61s/it]"
     ]
    },
    {
     "name": "stdout",
     "output_type": "stream",
     "text": [
      "Loss = 0.175653,Accuracy_value = 0.973333,Accuracy_instance = 0.000000\n",
      "Label_One_Predict_One = 0.517740,Predict_One_Label_One = 0.597638,Nombre_Predict_One = 30.200000,Nombre_One_Mean = 34.650000\n",
      "Label_Zero_Predict_Zero = 0.988289,Label_Zero_Predict_Zero = 0.984216,Nombre_Predict_Zero = 1085.800000,Nombre_Zero_Mean = 1081.350000\n",
      "Accuracy_fixe_mean = 0.992764,Accuracy_fixe_one = 0.580000,Accuracy_fixe_zero = 0.993552\n",
      "\n"
     ]
    },
    {
     "name": "stderr",
     "output_type": "stream",
     "text": [
      " 25%|███████████████████▊                                                           | 250/1000 [06:46<20:08,  1.61s/it]"
     ]
    },
    {
     "name": "stdout",
     "output_type": "stream",
     "text": [
      "Loss = 0.216536,Accuracy_value = 0.969928,Accuracy_instance = 0.000000\n",
      "Label_One_Predict_One = 0.487519,Predict_One_Label_One = 0.538620,Nombre_Predict_One = 31.550000,Nombre_One_Mean = 34.650000\n",
      "Label_Zero_Predict_Zero = 0.985724,Label_Zero_Predict_Zero = 0.983221,Nombre_Predict_Zero = 1084.450000,Nombre_Zero_Mean = 1081.350000\n",
      "Accuracy_fixe_mean = 0.989807,Accuracy_fixe_one = 0.479167,Accuracy_fixe_zero = 0.991257\n",
      "\n"
     ]
    },
    {
     "name": "stderr",
     "output_type": "stream",
     "text": [
      " 30%|███████████████████████▋                                                       | 300/1000 [08:07<18:41,  1.60s/it]"
     ]
    },
    {
     "name": "stdout",
     "output_type": "stream",
     "text": [
      "Loss = 0.223859,Accuracy_value = 0.971810,Accuracy_instance = 0.000000\n",
      "Label_One_Predict_One = 0.475142,Predict_One_Label_One = 0.581998,Nombre_Predict_One = 28.650000,Nombre_One_Mean = 34.650000\n",
      "Label_Zero_Predict_Zero = 0.988248,Label_Zero_Predict_Zero = 0.982697,Nombre_Predict_Zero = 1087.350000,Nombre_Zero_Mean = 1081.350000\n",
      "Accuracy_fixe_mean = 0.989538,Accuracy_fixe_one = 0.512063,Accuracy_fixe_zero = 0.991138\n",
      "\n"
     ]
    },
    {
     "name": "stderr",
     "output_type": "stream",
     "text": [
      " 35%|███████████████████████████▋                                                   | 350/1000 [09:28<17:29,  1.61s/it]"
     ]
    },
    {
     "name": "stdout",
     "output_type": "stream",
     "text": [
      "Loss = 0.268106,Accuracy_value = 0.970143,Accuracy_instance = 0.000000\n",
      "Label_One_Predict_One = 0.469386,Predict_One_Label_One = 0.543603,Nombre_Predict_One = 30.050000,Nombre_One_Mean = 34.650000\n",
      "Label_Zero_Predict_Zero = 0.986690,Label_Zero_Predict_Zero = 0.982510,Nombre_Predict_Zero = 1085.950000,Nombre_Zero_Mean = 1081.350000\n",
      "Accuracy_fixe_mean = 0.987657,Accuracy_fixe_one = 0.528869,Accuracy_fixe_zero = 0.990444\n",
      "\n"
     ]
    },
    {
     "name": "stderr",
     "output_type": "stream",
     "text": [
      " 40%|███████████████████████████████▌                                               | 400/1000 [10:50<16:12,  1.62s/it]"
     ]
    },
    {
     "name": "stdout",
     "output_type": "stream",
     "text": [
      "Loss = 0.297720,Accuracy_value = 0.968369,Accuracy_instance = 0.000000\n",
      "Label_One_Predict_One = 0.448270,Predict_One_Label_One = 0.517361,Nombre_Predict_One = 30.300000,Nombre_One_Mean = 34.650000\n",
      "Label_Zero_Predict_Zero = 0.985441,Label_Zero_Predict_Zero = 0.981905,Nombre_Predict_Zero = 1085.700000,Nombre_Zero_Mean = 1081.350000\n",
      "Accuracy_fixe_mean = 0.986828,Accuracy_fixe_one = 0.625139,Accuracy_fixe_zero = 0.989720\n",
      "\n"
     ]
    },
    {
     "name": "stderr",
     "output_type": "stream",
     "text": [
      " 45%|███████████████████████████████████▌                                           | 450/1000 [12:11<14:43,  1.61s/it]"
     ]
    },
    {
     "name": "stdout",
     "output_type": "stream",
     "text": [
      "Loss = 0.343434,Accuracy_value = 0.968495,Accuracy_instance = 0.000000\n",
      "Label_One_Predict_One = 0.442143,Predict_One_Label_One = 0.527513,Nombre_Predict_One = 29.700000,Nombre_One_Mean = 34.650000\n",
      "Label_Zero_Predict_Zero = 0.985849,Label_Zero_Predict_Zero = 0.981638,Nombre_Predict_Zero = 1086.300000,Nombre_Zero_Mean = 1081.350000\n",
      "Accuracy_fixe_mean = 0.986223,Accuracy_fixe_one = 0.585754,Accuracy_fixe_zero = 0.989227\n",
      "\n"
     ]
    },
    {
     "name": "stderr",
     "output_type": "stream",
     "text": [
      " 50%|███████████████████████████████████████▌                                       | 500/1000 [13:32<13:18,  1.60s/it]"
     ]
    },
    {
     "name": "stdout",
     "output_type": "stream",
     "text": [
      "Loss = 0.381851,Accuracy_value = 0.967294,Accuracy_instance = 0.000000\n",
      "Label_One_Predict_One = 0.484013,Predict_One_Label_One = 0.499819,Nombre_Predict_One = 33.900000,Nombre_One_Mean = 34.650000\n",
      "Label_Zero_Predict_Zero = 0.983180,Label_Zero_Predict_Zero = 0.982993,Nombre_Predict_Zero = 1082.100000,Nombre_Zero_Mean = 1081.350000\n",
      "Accuracy_fixe_mean = 0.985193,Accuracy_fixe_one = 0.541753,Accuracy_fixe_zero = 0.989290\n",
      "\n"
     ]
    },
    {
     "name": "stderr",
     "output_type": "stream",
     "text": [
      " 55%|███████████████████████████████████████████▍                                   | 550/1000 [14:53<12:03,  1.61s/it]"
     ]
    },
    {
     "name": "stdout",
     "output_type": "stream",
     "text": [
      "Loss = 0.422088,Accuracy_value = 0.967473,Accuracy_instance = 0.000000\n",
      "Label_One_Predict_One = 0.503046,Predict_One_Label_One = 0.499946,Nombre_Predict_One = 35.100000,Nombre_One_Mean = 34.650000\n",
      "Label_Zero_Predict_Zero = 0.982680,Label_Zero_Predict_Zero = 0.983663,Nombre_Predict_Zero = 1080.900000,Nombre_Zero_Mean = 1081.350000\n",
      "Accuracy_fixe_mean = 0.985148,Accuracy_fixe_one = 0.580733,Accuracy_fixe_zero = 0.989366\n",
      "\n"
     ]
    },
    {
     "name": "stderr",
     "output_type": "stream",
     "text": [
      " 60%|███████████████████████████████████████████████▍                               | 600/1000 [16:17<10:49,  1.62s/it]"
     ]
    },
    {
     "name": "stdout",
     "output_type": "stream",
     "text": [
      "Loss = 0.490778,Accuracy_value = 0.965573,Accuracy_instance = 0.000000\n",
      "Label_One_Predict_One = 0.484750,Predict_One_Label_One = 0.468653,Nombre_Predict_One = 36.000000,Nombre_One_Mean = 34.650000\n",
      "Label_Zero_Predict_Zero = 0.981217,Label_Zero_Predict_Zero = 0.983148,Nombre_Predict_Zero = 1080.000000,Nombre_Zero_Mean = 1081.350000\n",
      "Accuracy_fixe_mean = 0.984297,Accuracy_fixe_one = 0.586725,Accuracy_fixe_zero = 0.988556\n",
      "\n"
     ]
    },
    {
     "name": "stderr",
     "output_type": "stream",
     "text": [
      " 65%|███████████████████████████████████████████████████▎                           | 650/1000 [17:38<09:22,  1.61s/it]"
     ]
    },
    {
     "name": "stdout",
     "output_type": "stream",
     "text": [
      "Loss = 0.546768,Accuracy_value = 0.963746,Accuracy_instance = 0.000000\n",
      "Label_One_Predict_One = 0.495773,Predict_One_Label_One = 0.454229,Nombre_Predict_One = 38.250000,Nombre_One_Mean = 34.650000\n",
      "Label_Zero_Predict_Zero = 0.979095,Label_Zero_Predict_Zero = 0.983327,Nombre_Predict_Zero = 1077.750000,Nombre_Zero_Mean = 1081.350000\n",
      "Accuracy_fixe_mean = 0.984252,Accuracy_fixe_one = 0.511222,Accuracy_fixe_zero = 0.989543\n",
      "\n"
     ]
    },
    {
     "name": "stderr",
     "output_type": "stream",
     "text": [
      " 70%|███████████████████████████████████████████████████████▎                       | 700/1000 [18:59<08:02,  1.61s/it]"
     ]
    },
    {
     "name": "stdout",
     "output_type": "stream",
     "text": [
      "Loss = 0.576880,Accuracy_value = 0.965394,Accuracy_instance = 0.000000\n",
      "Label_One_Predict_One = 0.477717,Predict_One_Label_One = 0.473648,Nombre_Predict_One = 35.450000,Nombre_One_Mean = 34.650000\n",
      "Label_Zero_Predict_Zero = 0.981569,Label_Zero_Predict_Zero = 0.982611,Nombre_Predict_Zero = 1080.550000,Nombre_Zero_Mean = 1081.350000\n",
      "Accuracy_fixe_mean = 0.984633,Accuracy_fixe_one = 0.547485,Accuracy_fixe_zero = 0.989349\n",
      "\n"
     ]
    },
    {
     "name": "stderr",
     "output_type": "stream",
     "text": [
      " 75%|███████████████████████████████████████████████████████████▎                   | 750/1000 [20:21<06:42,  1.61s/it]"
     ]
    },
    {
     "name": "stdout",
     "output_type": "stream",
     "text": [
      "Loss = 0.607406,Accuracy_value = 0.964444,Accuracy_instance = 0.000000\n",
      "Label_One_Predict_One = 0.469346,Predict_One_Label_One = 0.462437,Nombre_Predict_One = 35.800000,Nombre_One_Mean = 34.650000\n",
      "Label_Zero_Predict_Zero = 0.980787,Label_Zero_Predict_Zero = 0.982399,Nombre_Predict_Zero = 1080.200000,Nombre_Zero_Mean = 1081.350000\n",
      "Accuracy_fixe_mean = 0.983871,Accuracy_fixe_one = 0.542602,Accuracy_fixe_zero = 0.989136\n",
      "\n"
     ]
    },
    {
     "name": "stderr",
     "output_type": "stream",
     "text": [
      " 80%|███████████████████████████████████████████████████████████████▏               | 800/1000 [21:42<05:22,  1.61s/it]"
     ]
    },
    {
     "name": "stdout",
     "output_type": "stream",
     "text": [
      "Loss = 0.684194,Accuracy_value = 0.962760,Accuracy_instance = 0.000000\n",
      "Label_One_Predict_One = 0.434543,Predict_One_Label_One = 0.436832,Nombre_Predict_One = 35.200000,Nombre_One_Mean = 34.650000\n",
      "Label_Zero_Predict_Zero = 0.980269,Label_Zero_Predict_Zero = 0.981182,Nombre_Predict_Zero = 1080.800000,Nombre_Zero_Mean = 1081.350000\n",
      "Accuracy_fixe_mean = 0.984185,Accuracy_fixe_one = 0.542870,Accuracy_fixe_zero = 0.989059\n",
      "\n"
     ]
    },
    {
     "name": "stderr",
     "output_type": "stream",
     "text": [
      " 85%|███████████████████████████████████████████████████████████████████▏           | 850/1000 [23:03<04:01,  1.61s/it]"
     ]
    },
    {
     "name": "stdout",
     "output_type": "stream",
     "text": [
      "Loss = 0.757916,Accuracy_value = 0.961720,Accuracy_instance = 0.000000\n",
      "Label_One_Predict_One = 0.423189,Predict_One_Label_One = 0.414488,Nombre_Predict_One = 35.850000,Nombre_One_Mean = 34.650000\n",
      "Label_Zero_Predict_Zero = 0.979535,Label_Zero_Predict_Zero = 0.980856,Nombre_Predict_Zero = 1080.150000,Nombre_Zero_Mean = 1081.350000\n",
      "Accuracy_fixe_mean = 0.983311,Accuracy_fixe_one = 0.525312,Accuracy_fixe_zero = 0.988379\n",
      "\n"
     ]
    },
    {
     "name": "stderr",
     "output_type": "stream",
     "text": [
      " 90%|███████████████████████████████████████████████████████████████████████        | 900/1000 [24:24<02:44,  1.65s/it]"
     ]
    },
    {
     "name": "stdout",
     "output_type": "stream",
     "text": [
      "Loss = 0.826424,Accuracy_value = 0.961864,Accuracy_instance = 0.000000\n",
      "Label_One_Predict_One = 0.416046,Predict_One_Label_One = 0.412856,Nombre_Predict_One = 35.300000,Nombre_One_Mean = 34.650000\n",
      "Label_Zero_Predict_Zero = 0.979869,Label_Zero_Predict_Zero = 0.980683,Nombre_Predict_Zero = 1080.700000,Nombre_Zero_Mean = 1081.350000\n",
      "Accuracy_fixe_mean = 0.984030,Accuracy_fixe_one = 0.525145,Accuracy_fixe_zero = 0.988756\n",
      "\n"
     ]
    },
    {
     "name": "stderr",
     "output_type": "stream",
     "text": [
      " 95%|███████████████████████████████████████████████████████████████████████████    | 950/1000 [25:46<01:22,  1.65s/it]"
     ]
    },
    {
     "name": "stdout",
     "output_type": "stream",
     "text": [
      "Loss = 0.864111,Accuracy_value = 0.963029,Accuracy_instance = 0.000000\n",
      "Label_One_Predict_One = 0.434916,Predict_One_Label_One = 0.428966,Nombre_Predict_One = 35.500000,Nombre_One_Mean = 34.650000\n",
      "Label_Zero_Predict_Zero = 0.980429,Label_Zero_Predict_Zero = 0.981335,Nombre_Predict_Zero = 1080.500000,Nombre_Zero_Mean = 1081.350000\n",
      "Accuracy_fixe_mean = 0.983966,Accuracy_fixe_one = 0.535936,Accuracy_fixe_zero = 0.988532\n",
      "\n"
     ]
    },
    {
     "name": "stderr",
     "output_type": "stream",
     "text": [
      "100%|██████████████████████████████████████████████████████████████████████████████| 1000/1000 [27:07<00:00,  1.63s/it]\n",
      "  0%|                                                                                         | 0/1000 [00:00<?, ?it/s]"
     ]
    },
    {
     "name": "stdout",
     "output_type": "stream",
     "text": [
      "Loss = 0.876856,Accuracy_value = 0.961595,Accuracy_instance = 0.000000\n",
      "Label_One_Predict_One = 0.430328,Predict_One_Label_One = 0.401372,Nombre_Predict_One = 37.450000,Nombre_One_Mean = 34.800000\n",
      "Label_Zero_Predict_Zero = 0.978636,Label_Zero_Predict_Zero = 0.981611,Nombre_Predict_Zero = 1101.800000,Nombre_Zero_Mean = 1104.450000\n",
      "Accuracy_fixe_mean = 0.983536,Accuracy_fixe_one = 0.532333,Accuracy_fixe_zero = 0.988092\n",
      "\n",
      "Loss = 2.552254,Accuracy_value = 0.845090,Accuracy_instance = 0.000000\n",
      "Label_One_Predict_One = 0.236200,Predict_One_Label_One = 0.054400,Nombre_Predict_One = 151.800000,Nombre_One_Mean = 34.650000\n",
      "Label_Zero_Predict_Zero = 0.865392,Label_Zero_Predict_Zero = 0.971336,Nombre_Predict_Zero = 964.200000,Nombre_Zero_Mean = 1081.350000\n",
      "Accuracy_fixe_mean = 0.876680,Accuracy_fixe_one = 0.042010,Accuracy_fixe_zero = 0.981320\n",
      "\n"
     ]
    },
    {
     "name": "stderr",
     "output_type": "stream",
     "text": [
      "  5%|████                                                                            | 50/1000 [01:20<25:22,  1.60s/it]"
     ]
    },
    {
     "name": "stdout",
     "output_type": "stream",
     "text": [
      "Loss = 0.149223,Accuracy_value = 0.976846,Accuracy_instance = 0.000000\n",
      "Label_One_Predict_One = 0.449365,Predict_One_Label_One = 0.723334,Nombre_Predict_One = 21.600000,Nombre_One_Mean = 34.650000\n",
      "Label_Zero_Predict_Zero = 0.994313,Label_Zero_Predict_Zero = 0.981987,Nombre_Predict_Zero = 1094.400000,Nombre_Zero_Mean = 1081.350000\n",
      "Accuracy_fixe_mean = 0.994086,Accuracy_fixe_one = 0.000000,Accuracy_fixe_zero = 0.994086\n",
      "\n"
     ]
    },
    {
     "name": "stderr",
     "output_type": "stream",
     "text": [
      " 10%|███████▉                                                                       | 100/1000 [02:41<24:00,  1.60s/it]"
     ]
    },
    {
     "name": "stdout",
     "output_type": "stream",
     "text": [
      "Loss = 0.154544,Accuracy_value = 0.974928,Accuracy_instance = 0.000000\n",
      "Label_One_Predict_One = 0.528646,Predict_One_Label_One = 0.629804,Nombre_Predict_One = 29.100000,Nombre_One_Mean = 34.650000\n",
      "Label_Zero_Predict_Zero = 0.989696,Label_Zero_Predict_Zero = 0.984469,Nombre_Predict_Zero = 1086.900000,Nombre_Zero_Mean = 1081.350000\n",
      "Accuracy_fixe_mean = 0.995161,Accuracy_fixe_one = 0.050000,Accuracy_fixe_zero = 0.995161\n",
      "\n"
     ]
    },
    {
     "name": "stderr",
     "output_type": "stream",
     "text": [
      " 15%|███████████▊                                                                   | 150/1000 [04:02<22:44,  1.60s/it]"
     ]
    },
    {
     "name": "stdout",
     "output_type": "stream",
     "text": [
      "Loss = 0.167118,Accuracy_value = 0.973710,Accuracy_instance = 0.000000\n",
      "Label_One_Predict_One = 0.520154,Predict_One_Label_One = 0.605991,Nombre_Predict_One = 29.900000,Nombre_One_Mean = 34.650000\n",
      "Label_Zero_Predict_Zero = 0.988659,Label_Zero_Predict_Zero = 0.984231,Nombre_Predict_Zero = 1086.100000,Nombre_Zero_Mean = 1081.350000\n",
      "Accuracy_fixe_mean = 0.992787,Accuracy_fixe_one = 0.350000,Accuracy_fixe_zero = 0.993161\n",
      "\n"
     ]
    },
    {
     "name": "stderr",
     "output_type": "stream",
     "text": [
      " 20%|███████████████▊                                                               | 200/1000 [05:23<21:22,  1.60s/it]"
     ]
    },
    {
     "name": "stdout",
     "output_type": "stream",
     "text": [
      "Loss = 0.180264,Accuracy_value = 0.972330,Accuracy_instance = 0.000000\n",
      "Label_One_Predict_One = 0.459045,Predict_One_Label_One = 0.597495,Nombre_Predict_One = 26.900000,Nombre_One_Mean = 34.650000\n",
      "Label_Zero_Predict_Zero = 0.989397,Label_Zero_Predict_Zero = 0.982126,Nombre_Predict_Zero = 1089.100000,Nombre_Zero_Mean = 1081.350000\n",
      "Accuracy_fixe_mean = 0.992070,Accuracy_fixe_one = 0.391667,Accuracy_fixe_zero = 0.992709\n",
      "\n"
     ]
    },
    {
     "name": "stderr",
     "output_type": "stream",
     "text": [
      " 25%|███████████████████▊                                                           | 250/1000 [06:43<19:54,  1.59s/it]"
     ]
    },
    {
     "name": "stdout",
     "output_type": "stream",
     "text": [
      "Loss = 0.194594,Accuracy_value = 0.971541,Accuracy_instance = 0.000000\n",
      "Label_One_Predict_One = 0.451242,Predict_One_Label_One = 0.575948,Nombre_Predict_One = 27.500000,Nombre_One_Mean = 34.650000\n",
      "Label_Zero_Predict_Zero = 0.988981,Label_Zero_Predict_Zero = 0.981746,Nombre_Predict_Zero = 1088.500000,Nombre_Zero_Mean = 1081.350000\n",
      "Accuracy_fixe_mean = 0.990659,Accuracy_fixe_one = 0.479167,Accuracy_fixe_zero = 0.991465\n",
      "\n"
     ]
    },
    {
     "name": "stderr",
     "output_type": "stream",
     "text": [
      " 30%|███████████████████████▋                                                       | 300/1000 [08:04<18:35,  1.59s/it]"
     ]
    },
    {
     "name": "stdout",
     "output_type": "stream",
     "text": [
      "Loss = 0.222276,Accuracy_value = 0.970430,Accuracy_instance = 0.000000\n",
      "Label_One_Predict_One = 0.446067,Predict_One_Label_One = 0.554108,Nombre_Predict_One = 28.150000,Nombre_One_Mean = 34.650000\n",
      "Label_Zero_Predict_Zero = 0.987785,Label_Zero_Predict_Zero = 0.981750,Nombre_Predict_Zero = 1087.850000,Nombre_Zero_Mean = 1081.350000\n",
      "Accuracy_fixe_mean = 0.988351,Accuracy_fixe_one = 0.453809,Accuracy_fixe_zero = 0.990282\n",
      "\n"
     ]
    },
    {
     "name": "stderr",
     "output_type": "stream",
     "text": [
      " 35%|███████████████████████████▋                                                   | 350/1000 [09:25<17:16,  1.59s/it]"
     ]
    },
    {
     "name": "stdout",
     "output_type": "stream",
     "text": [
      "Loss = 0.246311,Accuracy_value = 0.969516,Accuracy_instance = 0.000000\n",
      "Label_One_Predict_One = 0.424746,Predict_One_Label_One = 0.538037,Nombre_Predict_One = 27.700000,Nombre_One_Mean = 34.650000\n",
      "Label_Zero_Predict_Zero = 0.987488,Label_Zero_Predict_Zero = 0.981121,Nombre_Predict_Zero = 1088.300000,Nombre_Zero_Mean = 1081.350000\n",
      "Accuracy_fixe_mean = 0.987948,Accuracy_fixe_one = 0.472202,Accuracy_fixe_zero = 0.990333\n",
      "\n"
     ]
    },
    {
     "name": "stderr",
     "output_type": "stream",
     "text": [
      " 40%|███████████████████████████████▌                                               | 400/1000 [10:45<15:55,  1.59s/it]"
     ]
    },
    {
     "name": "stdout",
     "output_type": "stream",
     "text": [
      "Loss = 0.269832,Accuracy_value = 0.970520,Accuracy_instance = 0.000000\n",
      "Label_One_Predict_One = 0.433401,Predict_One_Label_One = 0.553925,Nombre_Predict_One = 27.350000,Nombre_One_Mean = 34.650000\n",
      "Label_Zero_Predict_Zero = 0.988271,Label_Zero_Predict_Zero = 0.981384,Nombre_Predict_Zero = 1088.650000,Nombre_Zero_Mean = 1081.350000\n",
      "Accuracy_fixe_mean = 0.987119,Accuracy_fixe_one = 0.550218,Accuracy_fixe_zero = 0.989984\n",
      "\n"
     ]
    },
    {
     "name": "stderr",
     "output_type": "stream",
     "text": [
      " 45%|███████████████████████████████████▌                                           | 450/1000 [12:06<14:36,  1.59s/it]"
     ]
    },
    {
     "name": "stdout",
     "output_type": "stream",
     "text": [
      "Loss = 0.314022,Accuracy_value = 0.970394,Accuracy_instance = 0.000000\n",
      "Label_One_Predict_One = 0.411839,Predict_One_Label_One = 0.557905,Nombre_Predict_One = 25.750000,Nombre_One_Mean = 34.650000\n",
      "Label_Zero_Predict_Zero = 0.988801,Label_Zero_Predict_Zero = 0.980743,Nombre_Predict_Zero = 1090.250000,Nombre_Zero_Mean = 1081.350000\n",
      "Accuracy_fixe_mean = 0.986537,Accuracy_fixe_one = 0.583346,Accuracy_fixe_zero = 0.989871\n",
      "\n"
     ]
    },
    {
     "name": "stderr",
     "output_type": "stream",
     "text": [
      " 50%|███████████████████████████████████████▌                                       | 500/1000 [13:27<13:26,  1.61s/it]"
     ]
    },
    {
     "name": "stdout",
     "output_type": "stream",
     "text": [
      "Loss = 0.351746,Accuracy_value = 0.967778,Accuracy_instance = 0.000000\n",
      "Label_One_Predict_One = 0.431555,Predict_One_Label_One = 0.509241,Nombre_Predict_One = 29.550000,Nombre_One_Mean = 34.650000\n",
      "Label_Zero_Predict_Zero = 0.985626,Label_Zero_Predict_Zero = 0.981132,Nombre_Predict_Zero = 1086.450000,Nombre_Zero_Mean = 1081.350000\n",
      "Accuracy_fixe_mean = 0.984812,Accuracy_fixe_one = 0.561841,Accuracy_fixe_zero = 0.989047\n",
      "\n"
     ]
    },
    {
     "name": "stderr",
     "output_type": "stream",
     "text": [
      " 55%|███████████████████████████████████████████▍                                   | 550/1000 [14:48<11:59,  1.60s/it]"
     ]
    },
    {
     "name": "stdout",
     "output_type": "stream",
     "text": [
      "Loss = 0.349868,Accuracy_value = 0.969140,Accuracy_instance = 0.000000\n",
      "Label_One_Predict_One = 0.464928,Predict_One_Label_One = 0.527007,Nombre_Predict_One = 30.600000,Nombre_One_Mean = 34.650000\n",
      "Label_Zero_Predict_Zero = 0.985871,Label_Zero_Predict_Zero = 0.982281,Nombre_Predict_Zero = 1085.400000,Nombre_Zero_Mean = 1081.350000\n",
      "Accuracy_fixe_mean = 0.985103,Accuracy_fixe_one = 0.522829,Accuracy_fixe_zero = 0.989370\n",
      "\n"
     ]
    },
    {
     "name": "stderr",
     "output_type": "stream",
     "text": [
      " 60%|███████████████████████████████████████████████▍                               | 600/1000 [16:09<10:40,  1.60s/it]"
     ]
    },
    {
     "name": "stdout",
     "output_type": "stream",
     "text": [
      "Loss = 0.397549,Accuracy_value = 0.967401,Accuracy_instance = 0.000000\n",
      "Label_One_Predict_One = 0.439360,Predict_One_Label_One = 0.491222,Nombre_Predict_One = 31.000000,Nombre_One_Mean = 34.650000\n",
      "Label_Zero_Predict_Zero = 0.984839,Label_Zero_Predict_Zero = 0.981516,Nombre_Predict_Zero = 1085.000000,Nombre_Zero_Mean = 1081.350000\n",
      "Accuracy_fixe_mean = 0.984610,Accuracy_fixe_one = 0.559487,Accuracy_fixe_zero = 0.988444\n",
      "\n"
     ]
    },
    {
     "name": "stderr",
     "output_type": "stream",
     "text": [
      " 65%|███████████████████████████████████████████████████▎                           | 650/1000 [17:29<09:20,  1.60s/it]"
     ]
    },
    {
     "name": "stdout",
     "output_type": "stream",
     "text": [
      "Loss = 0.487395,Accuracy_value = 0.967581,Accuracy_instance = 0.000000\n",
      "Label_One_Predict_One = 0.445198,Predict_One_Label_One = 0.491222,Nombre_Predict_One = 31.200000,Nombre_One_Mean = 34.650000\n",
      "Label_Zero_Predict_Zero = 0.984839,Label_Zero_Predict_Zero = 0.981702,Nombre_Predict_Zero = 1084.800000,Nombre_Zero_Mean = 1081.350000\n",
      "Accuracy_fixe_mean = 0.984095,Accuracy_fixe_one = 0.565106,Accuracy_fixe_zero = 0.988449\n",
      "\n"
     ]
    },
    {
     "name": "stderr",
     "output_type": "stream",
     "text": [
      " 70%|███████████████████████████████████████████████████████▎                       | 700/1000 [18:50<08:00,  1.60s/it]"
     ]
    },
    {
     "name": "stdout",
     "output_type": "stream",
     "text": [
      "Loss = 0.533711,Accuracy_value = 0.965125,Accuracy_instance = 0.000000\n",
      "Label_One_Predict_One = 0.433884,Predict_One_Label_One = 0.454900,Nombre_Predict_One = 32.750000,Nombre_One_Mean = 34.650000\n",
      "Label_Zero_Predict_Zero = 0.982624,Label_Zero_Predict_Zero = 0.981337,Nombre_Predict_Zero = 1083.250000,Nombre_Zero_Mean = 1081.350000\n",
      "Accuracy_fixe_mean = 0.983647,Accuracy_fixe_one = 0.538346,Accuracy_fixe_zero = 0.988841\n",
      "\n"
     ]
    },
    {
     "name": "stderr",
     "output_type": "stream",
     "text": [
      " 75%|███████████████████████████████████████████████████████████▎                   | 750/1000 [20:10<06:37,  1.59s/it]"
     ]
    },
    {
     "name": "stdout",
     "output_type": "stream",
     "text": [
      "Loss = 0.574500,Accuracy_value = 0.965233,Accuracy_instance = 0.000000\n",
      "Label_One_Predict_One = 0.422372,Predict_One_Label_One = 0.454572,Nombre_Predict_One = 32.050000,Nombre_One_Mean = 34.650000\n",
      "Label_Zero_Predict_Zero = 0.983073,Label_Zero_Predict_Zero = 0.981021,Nombre_Predict_Zero = 1083.950000,Nombre_Zero_Mean = 1081.350000\n",
      "Accuracy_fixe_mean = 0.983714,Accuracy_fixe_one = 0.527931,Accuracy_fixe_zero = 0.988401\n",
      "\n"
     ]
    },
    {
     "name": "stderr",
     "output_type": "stream",
     "text": [
      " 80%|███████████████████████████████████████████████████████████████▏               | 800/1000 [21:33<05:22,  1.61s/it]"
     ]
    },
    {
     "name": "stdout",
     "output_type": "stream",
     "text": [
      "Loss = 0.616111,Accuracy_value = 0.964050,Accuracy_instance = 0.000000\n",
      "Label_One_Predict_One = 0.403375,Predict_One_Label_One = 0.444703,Nombre_Predict_One = 31.950000,Nombre_One_Mean = 34.650000\n",
      "Label_Zero_Predict_Zero = 0.982555,Label_Zero_Predict_Zero = 0.980311,Nombre_Predict_Zero = 1084.050000,Nombre_Zero_Mean = 1081.350000\n",
      "Accuracy_fixe_mean = 0.983468,Accuracy_fixe_one = 0.551401,Accuracy_fixe_zero = 0.988335\n",
      "\n"
     ]
    },
    {
     "name": "stderr",
     "output_type": "stream",
     "text": [
      " 85%|███████████████████████████████████████████████████████████████████▏           | 850/1000 [22:53<03:59,  1.60s/it]"
     ]
    },
    {
     "name": "stdout",
     "output_type": "stream",
     "text": [
      "Loss = 0.700720,Accuracy_value = 0.963029,Accuracy_instance = 0.000000\n",
      "Label_One_Predict_One = 0.410726,Predict_One_Label_One = 0.422364,Nombre_Predict_One = 33.800000,Nombre_One_Mean = 34.650000\n",
      "Label_Zero_Predict_Zero = 0.981244,Label_Zero_Predict_Zero = 0.980555,Nombre_Predict_Zero = 1082.200000,Nombre_Zero_Mean = 1081.350000\n",
      "Accuracy_fixe_mean = 0.981542,Accuracy_fixe_one = 0.536596,Accuracy_fixe_zero = 0.987446\n",
      "\n"
     ]
    },
    {
     "name": "stderr",
     "output_type": "stream",
     "text": [
      " 90%|███████████████████████████████████████████████████████████████████████        | 900/1000 [24:14<02:40,  1.60s/it]"
     ]
    },
    {
     "name": "stdout",
     "output_type": "stream",
     "text": [
      "Loss = 0.725707,Accuracy_value = 0.963333,Accuracy_instance = 0.000000\n",
      "Label_One_Predict_One = 0.423471,Predict_One_Label_One = 0.427352,Nombre_Predict_One = 34.300000,Nombre_One_Mean = 34.650000\n",
      "Label_Zero_Predict_Zero = 0.981169,Label_Zero_Predict_Zero = 0.980926,Nombre_Predict_Zero = 1081.700000,Nombre_Zero_Mean = 1081.350000\n",
      "Accuracy_fixe_mean = 0.982706,Accuracy_fixe_one = 0.531928,Accuracy_fixe_zero = 0.988406\n",
      "\n"
     ]
    },
    {
     "name": "stderr",
     "output_type": "stream",
     "text": [
      " 95%|███████████████████████████████████████████████████████████████████████████    | 950/1000 [25:34<01:20,  1.61s/it]"
     ]
    },
    {
     "name": "stdout",
     "output_type": "stream",
     "text": [
      "Loss = 0.753138,Accuracy_value = 0.963978,Accuracy_instance = 0.000000\n",
      "Label_One_Predict_One = 0.419388,Predict_One_Label_One = 0.436028,Nombre_Predict_One = 33.650000,Nombre_One_Mean = 34.650000\n",
      "Label_Zero_Predict_Zero = 0.981918,Label_Zero_Predict_Zero = 0.980875,Nombre_Predict_Zero = 1082.350000,Nombre_Zero_Mean = 1081.350000\n",
      "Accuracy_fixe_mean = 0.982056,Accuracy_fixe_one = 0.524394,Accuracy_fixe_zero = 0.987642\n",
      "\n"
     ]
    },
    {
     "name": "stderr",
     "output_type": "stream",
     "text": [
      "100%|██████████████████████████████████████████████████████████████████████████████| 1000/1000 [26:55<00:00,  1.62s/it]\n",
      "  0%|                                                                                         | 0/1000 [00:00<?, ?it/s]"
     ]
    },
    {
     "name": "stdout",
     "output_type": "stream",
     "text": [
      "Loss = 0.808608,Accuracy_value = 0.962294,Accuracy_instance = 0.000000\n",
      "Label_One_Predict_One = 0.409520,Predict_One_Label_One = 0.401945,Nombre_Predict_One = 35.500000,Nombre_One_Mean = 34.800000\n",
      "Label_Zero_Predict_Zero = 0.979993,Label_Zero_Predict_Zero = 0.981027,Nombre_Predict_Zero = 1103.750000,Nombre_Zero_Mean = 1104.450000\n",
      "Accuracy_fixe_mean = 0.980758,Accuracy_fixe_one = 0.514148,Accuracy_fixe_zero = 0.987296\n",
      "\n",
      "Loss = 3.883289,Accuracy_value = 0.707957,Accuracy_instance = 0.000000\n",
      "Label_One_Predict_One = 0.793291,Predict_One_Label_One = 0.082919,Nombre_Predict_One = 338.400000,Nombre_One_Mean = 34.650000\n",
      "Label_Zero_Predict_Zero = 0.704659,Label_Zero_Predict_Zero = 0.990726,Nombre_Predict_Zero = 777.600000,Nombre_Zero_Mean = 1081.350000\n",
      "Accuracy_fixe_mean = 0.758849,Accuracy_fixe_one = 0.105108,Accuracy_fixe_zero = 0.992690\n",
      "\n"
     ]
    },
    {
     "name": "stderr",
     "output_type": "stream",
     "text": [
      "  5%|████                                                                            | 50/1000 [01:21<25:27,  1.61s/it]"
     ]
    },
    {
     "name": "stdout",
     "output_type": "stream",
     "text": [
      "Loss = 0.149462,Accuracy_value = 0.976487,Accuracy_instance = 0.000000\n",
      "Label_One_Predict_One = 0.424902,Predict_One_Label_One = 0.726587,Nombre_Predict_One = 20.400000,Nombre_One_Mean = 34.650000\n",
      "Label_Zero_Predict_Zero = 0.994722,Label_Zero_Predict_Zero = 0.981246,Nombre_Predict_Zero = 1095.600000,Nombre_Zero_Mean = 1081.350000\n",
      "Accuracy_fixe_mean = 0.994355,Accuracy_fixe_one = 0.000000,Accuracy_fixe_zero = 0.994355\n",
      "\n"
     ]
    },
    {
     "name": "stderr",
     "output_type": "stream",
     "text": [
      " 10%|███████▉                                                                       | 100/1000 [02:42<23:56,  1.60s/it]"
     ]
    },
    {
     "name": "stdout",
     "output_type": "stream",
     "text": [
      "Loss = 0.154505,Accuracy_value = 0.976093,Accuracy_instance = 0.000000\n",
      "Label_One_Predict_One = 0.488126,Predict_One_Label_One = 0.683610,Nombre_Predict_One = 25.050000,Nombre_One_Mean = 34.650000\n",
      "Label_Zero_Predict_Zero = 0.992292,Label_Zero_Predict_Zero = 0.983156,Nombre_Predict_Zero = 1090.950000,Nombre_Zero_Mean = 1081.350000\n",
      "Accuracy_fixe_mean = 0.994243,Accuracy_fixe_one = 0.000000,Accuracy_fixe_zero = 0.994243\n",
      "\n"
     ]
    },
    {
     "name": "stderr",
     "output_type": "stream",
     "text": [
      " 15%|███████████▊                                                                   | 150/1000 [04:02<22:36,  1.60s/it]"
     ]
    },
    {
     "name": "stdout",
     "output_type": "stream",
     "text": [
      "Loss = 0.163804,Accuracy_value = 0.975753,Accuracy_instance = 0.000000\n",
      "Label_One_Predict_One = 0.461613,Predict_One_Label_One = 0.683668,Nombre_Predict_One = 23.550000,Nombre_One_Mean = 34.650000\n",
      "Label_Zero_Predict_Zero = 0.992962,Label_Zero_Predict_Zero = 0.982180,Nombre_Predict_Zero = 1092.450000,Nombre_Zero_Mean = 1081.350000\n",
      "Accuracy_fixe_mean = 0.992652,Accuracy_fixe_one = 0.250000,Accuracy_fixe_zero = 0.992960\n",
      "\n"
     ]
    },
    {
     "name": "stderr",
     "output_type": "stream",
     "text": [
      " 20%|███████████████▊                                                               | 200/1000 [05:23<21:16,  1.60s/it]"
     ]
    },
    {
     "name": "stdout",
     "output_type": "stream",
     "text": [
      "Loss = 0.166718,Accuracy_value = 0.973996,Accuracy_instance = 0.000000\n",
      "Label_One_Predict_One = 0.470726,Predict_One_Label_One = 0.629070,Nombre_Predict_One = 26.050000,Nombre_One_Mean = 34.650000\n",
      "Label_Zero_Predict_Zero = 0.990716,Label_Zero_Predict_Zero = 0.982549,Nombre_Predict_Zero = 1089.950000,Nombre_Zero_Mean = 1081.350000\n",
      "Accuracy_fixe_mean = 0.993145,Accuracy_fixe_one = 0.413333,Accuracy_fixe_zero = 0.993451\n",
      "\n"
     ]
    },
    {
     "name": "stderr",
     "output_type": "stream",
     "text": [
      " 25%|███████████████████▊                                                           | 250/1000 [06:43<20:03,  1.61s/it]"
     ]
    },
    {
     "name": "stdout",
     "output_type": "stream",
     "text": [
      "Loss = 0.182783,Accuracy_value = 0.972348,Accuracy_instance = 0.000000\n",
      "Label_One_Predict_One = 0.392070,Predict_One_Label_One = 0.601624,Nombre_Predict_One = 22.450000,Nombre_One_Mean = 34.650000\n",
      "Label_Zero_Predict_Zero = 0.991398,Label_Zero_Predict_Zero = 0.980245,Nombre_Predict_Zero = 1093.550000,Nombre_Zero_Mean = 1081.350000\n",
      "Accuracy_fixe_mean = 0.991622,Accuracy_fixe_one = 0.527500,Accuracy_fixe_zero = 0.992079\n",
      "\n"
     ]
    },
    {
     "name": "stderr",
     "output_type": "stream",
     "text": [
      " 30%|███████████████████████▋                                                       | 300/1000 [08:04<18:37,  1.60s/it]"
     ]
    },
    {
     "name": "stdout",
     "output_type": "stream",
     "text": [
      "Loss = 0.203154,Accuracy_value = 0.972222,Accuracy_instance = 0.000000\n",
      "Label_One_Predict_One = 0.454594,Predict_One_Label_One = 0.596853,Nombre_Predict_One = 26.700000,Nombre_One_Mean = 34.650000\n",
      "Label_Zero_Predict_Zero = 0.989453,Label_Zero_Predict_Zero = 0.981965,Nombre_Predict_Zero = 1089.300000,Nombre_Zero_Mean = 1081.350000\n",
      "Accuracy_fixe_mean = 0.990368,Accuracy_fixe_one = 0.556667,Accuracy_fixe_zero = 0.991507\n",
      "\n"
     ]
    },
    {
     "name": "stderr",
     "output_type": "stream",
     "text": [
      " 35%|███████████████████████████▋                                                   | 350/1000 [09:24<17:19,  1.60s/it]"
     ]
    },
    {
     "name": "stdout",
     "output_type": "stream",
     "text": [
      "Loss = 0.224988,Accuracy_value = 0.971541,Accuracy_instance = 0.000000\n",
      "Label_One_Predict_One = 0.453583,Predict_One_Label_One = 0.571562,Nombre_Predict_One = 27.500000,Nombre_One_Mean = 34.650000\n",
      "Label_Zero_Predict_Zero = 0.988618,Label_Zero_Predict_Zero = 0.982077,Nombre_Predict_Zero = 1088.500000,Nombre_Zero_Mean = 1081.350000\n",
      "Accuracy_fixe_mean = 0.990547,Accuracy_fixe_one = 0.581667,Accuracy_fixe_zero = 0.991574\n",
      "\n"
     ]
    },
    {
     "name": "stderr",
     "output_type": "stream",
     "text": [
      " 40%|███████████████████████████████▌                                               | 400/1000 [10:45<16:02,  1.60s/it]"
     ]
    },
    {
     "name": "stdout",
     "output_type": "stream",
     "text": [
      "Loss = 0.249943,Accuracy_value = 0.970197,Accuracy_instance = 0.000000\n",
      "Label_One_Predict_One = 0.485023,Predict_One_Label_One = 0.538148,Nombre_Predict_One = 30.850000,Nombre_One_Mean = 34.650000\n",
      "Label_Zero_Predict_Zero = 0.986316,Label_Zero_Predict_Zero = 0.982931,Nombre_Predict_Zero = 1085.150000,Nombre_Zero_Mean = 1081.350000\n",
      "Accuracy_fixe_mean = 0.988911,Accuracy_fixe_one = 0.661548,Accuracy_fixe_zero = 0.989946\n",
      "\n"
     ]
    },
    {
     "name": "stderr",
     "output_type": "stream",
     "text": [
      " 45%|███████████████████████████████████▌                                           | 450/1000 [12:06<14:38,  1.60s/it]"
     ]
    },
    {
     "name": "stdout",
     "output_type": "stream",
     "text": [
      "Loss = 0.271778,Accuracy_value = 0.967867,Accuracy_instance = 0.000000\n",
      "Label_One_Predict_One = 0.467173,Predict_One_Label_One = 0.504883,Nombre_Predict_One = 32.350000,Nombre_One_Mean = 34.650000\n",
      "Label_Zero_Predict_Zero = 0.984620,Label_Zero_Predict_Zero = 0.982202,Nombre_Predict_Zero = 1083.650000,Nombre_Zero_Mean = 1081.350000\n",
      "Accuracy_fixe_mean = 0.989628,Accuracy_fixe_one = 0.588512,Accuracy_fixe_zero = 0.991179\n",
      "\n"
     ]
    },
    {
     "name": "stderr",
     "output_type": "stream",
     "text": [
      " 50%|███████████████████████████████████████▌                                       | 500/1000 [13:26<13:22,  1.60s/it]"
     ]
    },
    {
     "name": "stdout",
     "output_type": "stream",
     "text": [
      "Loss = 0.333002,Accuracy_value = 0.967294,Accuracy_instance = 0.000000\n",
      "Label_One_Predict_One = 0.453205,Predict_One_Label_One = 0.504672,Nombre_Predict_One = 31.550000,Nombre_One_Mean = 34.650000\n",
      "Label_Zero_Predict_Zero = 0.984384,Label_Zero_Predict_Zero = 0.981825,Nombre_Predict_Zero = 1084.450000,Nombre_Zero_Mean = 1081.350000\n",
      "Accuracy_fixe_mean = 0.987612,Accuracy_fixe_one = 0.576825,Accuracy_fixe_zero = 0.990172\n",
      "\n"
     ]
    },
    {
     "name": "stderr",
     "output_type": "stream",
     "text": [
      " 55%|███████████████████████████████████████████▍                                   | 550/1000 [14:48<12:03,  1.61s/it]"
     ]
    },
    {
     "name": "stdout",
     "output_type": "stream",
     "text": [
      "Loss = 0.392940,Accuracy_value = 0.966541,Accuracy_instance = 0.000000\n",
      "Label_One_Predict_One = 0.441849,Predict_One_Label_One = 0.495170,Nombre_Predict_One = 31.650000,Nombre_One_Mean = 34.650000\n",
      "Label_Zero_Predict_Zero = 0.983959,Label_Zero_Predict_Zero = 0.981478,Nombre_Predict_Zero = 1084.350000,Nombre_Zero_Mean = 1081.350000\n",
      "Accuracy_fixe_mean = 0.987500,Accuracy_fixe_one = 0.649821,Accuracy_fixe_zero = 0.989758\n",
      "\n"
     ]
    },
    {
     "name": "stderr",
     "output_type": "stream",
     "text": [
      " 60%|███████████████████████████████████████████████▍                               | 600/1000 [16:09<10:43,  1.61s/it]"
     ]
    },
    {
     "name": "stdout",
     "output_type": "stream",
     "text": [
      "Loss = 0.469367,Accuracy_value = 0.965125,Accuracy_instance = 0.000000\n",
      "Label_One_Predict_One = 0.447610,Predict_One_Label_One = 0.459774,Nombre_Predict_One = 33.700000,Nombre_One_Mean = 34.650000\n",
      "Label_Zero_Predict_Zero = 0.982293,Label_Zero_Predict_Zero = 0.981655,Nombre_Predict_Zero = 1082.300000,Nombre_Zero_Mean = 1081.350000\n",
      "Accuracy_fixe_mean = 0.985417,Accuracy_fixe_one = 0.564850,Accuracy_fixe_zero = 0.988949\n",
      "\n"
     ]
    },
    {
     "name": "stderr",
     "output_type": "stream",
     "text": [
      " 65%|███████████████████████████████████████████████████▎                           | 650/1000 [17:30<09:24,  1.61s/it]"
     ]
    },
    {
     "name": "stdout",
     "output_type": "stream",
     "text": [
      "Loss = 0.511952,Accuracy_value = 0.964032,Accuracy_instance = 0.000000\n",
      "Label_One_Predict_One = 0.413308,Predict_One_Label_One = 0.433821,Nombre_Predict_One = 32.800000,Nombre_One_Mean = 34.650000\n",
      "Label_Zero_Predict_Zero = 0.982187,Label_Zero_Predict_Zero = 0.980664,Nombre_Predict_Zero = 1083.200000,Nombre_Zero_Mean = 1081.350000\n",
      "Accuracy_fixe_mean = 0.985193,Accuracy_fixe_one = 0.553723,Accuracy_fixe_zero = 0.988332\n",
      "\n"
     ]
    },
    {
     "name": "stderr",
     "output_type": "stream",
     "text": [
      " 70%|███████████████████████████████████████████████████████▎                       | 700/1000 [18:51<08:01,  1.60s/it]"
     ]
    },
    {
     "name": "stdout",
     "output_type": "stream",
     "text": [
      "Loss = 0.579487,Accuracy_value = 0.962419,Accuracy_instance = 0.000000\n",
      "Label_One_Predict_One = 0.431769,Predict_One_Label_One = 0.418443,Nombre_Predict_One = 35.500000,Nombre_One_Mean = 34.650000\n",
      "Label_Zero_Predict_Zero = 0.979956,Label_Zero_Predict_Zero = 0.981159,Nombre_Predict_Zero = 1080.500000,Nombre_Zero_Mean = 1081.350000\n",
      "Accuracy_fixe_mean = 0.984117,Accuracy_fixe_one = 0.526777,Accuracy_fixe_zero = 0.988135\n",
      "\n"
     ]
    },
    {
     "name": "stderr",
     "output_type": "stream",
     "text": [
      " 75%|███████████████████████████████████████████████████████████▎                   | 750/1000 [20:12<06:39,  1.60s/it]"
     ]
    },
    {
     "name": "stdout",
     "output_type": "stream",
     "text": [
      "Loss = 0.611968,Accuracy_value = 0.963244,Accuracy_instance = 0.000000\n",
      "Label_One_Predict_One = 0.442918,Predict_One_Label_One = 0.433757,Nombre_Predict_One = 35.400000,Nombre_One_Mean = 34.650000\n",
      "Label_Zero_Predict_Zero = 0.980533,Label_Zero_Predict_Zero = 0.981433,Nombre_Predict_Zero = 1080.600000,Nombre_Zero_Mean = 1081.350000\n",
      "Accuracy_fixe_mean = 0.984409,Accuracy_fixe_one = 0.553405,Accuracy_fixe_zero = 0.988313\n",
      "\n"
     ]
    },
    {
     "name": "stderr",
     "output_type": "stream",
     "text": [
      " 80%|███████████████████████████████████████████████████████████████▏               | 800/1000 [21:33<05:18,  1.59s/it]"
     ]
    },
    {
     "name": "stdout",
     "output_type": "stream",
     "text": [
      "Loss = 0.650006,Accuracy_value = 0.964032,Accuracy_instance = 0.000000\n",
      "Label_One_Predict_One = 0.429888,Predict_One_Label_One = 0.439430,Nombre_Predict_One = 33.850000,Nombre_One_Mean = 34.650000\n",
      "Label_Zero_Predict_Zero = 0.981799,Label_Zero_Predict_Zero = 0.981028,Nombre_Predict_Zero = 1082.150000,Nombre_Zero_Mean = 1081.350000\n",
      "Accuracy_fixe_mean = 0.984969,Accuracy_fixe_one = 0.520994,Accuracy_fixe_zero = 0.988859\n",
      "\n"
     ]
    },
    {
     "name": "stderr",
     "output_type": "stream",
     "text": [
      " 85%|███████████████████████████████████████████████████████████████████▏           | 850/1000 [22:53<03:58,  1.59s/it]"
     ]
    },
    {
     "name": "stdout",
     "output_type": "stream",
     "text": [
      "Loss = 0.707965,Accuracy_value = 0.963333,Accuracy_instance = 0.000000\n",
      "Label_One_Predict_One = 0.434545,Predict_One_Label_One = 0.436775,Nombre_Predict_One = 34.700000,Nombre_One_Mean = 34.650000\n",
      "Label_Zero_Predict_Zero = 0.980846,Label_Zero_Predict_Zero = 0.981221,Nombre_Predict_Zero = 1081.300000,Nombre_Zero_Mean = 1081.350000\n",
      "Accuracy_fixe_mean = 0.984703,Accuracy_fixe_one = 0.561344,Accuracy_fixe_zero = 0.988779\n",
      "\n"
     ]
    },
    {
     "name": "stderr",
     "output_type": "stream",
     "text": [
      " 90%|███████████████████████████████████████████████████████████████████████        | 900/1000 [24:13<02:38,  1.59s/it]"
     ]
    },
    {
     "name": "stdout",
     "output_type": "stream",
     "text": [
      "Loss = 0.745464,Accuracy_value = 0.961989,Accuracy_instance = 0.000000\n",
      "Label_One_Predict_One = 0.433604,Predict_One_Label_One = 0.414897,Nombre_Predict_One = 36.400000,Nombre_One_Mean = 34.650000\n",
      "Label_Zero_Predict_Zero = 0.979407,Label_Zero_Predict_Zero = 0.981251,Nombre_Predict_Zero = 1079.600000,Nombre_Zero_Mean = 1081.350000\n",
      "Accuracy_fixe_mean = 0.984679,Accuracy_fixe_one = 0.582490,Accuracy_fixe_zero = 0.988996\n",
      "\n"
     ]
    },
    {
     "name": "stderr",
     "output_type": "stream",
     "text": [
      " 95%|███████████████████████████████████████████████████████████████████████████    | 950/1000 [25:34<01:19,  1.60s/it]"
     ]
    },
    {
     "name": "stdout",
     "output_type": "stream",
     "text": [
      "Loss = 0.753194,Accuracy_value = 0.960842,Accuracy_instance = 0.000000\n",
      "Label_One_Predict_One = 0.428824,Predict_One_Label_One = 0.400900,Nombre_Predict_One = 37.200000,Nombre_One_Mean = 34.650000\n",
      "Label_Zero_Predict_Zero = 0.978480,Label_Zero_Predict_Zero = 0.980980,Nombre_Predict_Zero = 1078.800000,Nombre_Zero_Mean = 1081.350000\n",
      "Accuracy_fixe_mean = 0.984432,Accuracy_fixe_one = 0.584186,Accuracy_fixe_zero = 0.988723\n",
      "\n"
     ]
    },
    {
     "name": "stderr",
     "output_type": "stream",
     "text": [
      "100%|██████████████████████████████████████████████████████████████████████████████| 1000/1000 [26:55<00:00,  1.62s/it]\n",
      "  0%|                                                                                         | 0/1000 [00:00<?, ?it/s]"
     ]
    },
    {
     "name": "stdout",
     "output_type": "stream",
     "text": [
      "Loss = 0.818137,Accuracy_value = 0.962581,Accuracy_instance = 0.000000\n",
      "Label_One_Predict_One = 0.434872,Predict_One_Label_One = 0.411231,Nombre_Predict_One = 37.000000,Nombre_One_Mean = 34.800000\n",
      "Label_Zero_Predict_Zero = 0.979553,Label_Zero_Predict_Zero = 0.981757,Nombre_Predict_Zero = 1102.250000,Nombre_Zero_Mean = 1104.450000\n",
      "Accuracy_fixe_mean = 0.984680,Accuracy_fixe_one = 0.555107,Accuracy_fixe_zero = 0.988776\n",
      "\n",
      "Loss = 4.755724,Accuracy_value = 0.131075,Accuracy_instance = 0.000000\n",
      "Label_One_Predict_One = 0.929585,Predict_One_Label_One = 0.033400,Nombre_Predict_One = 1000.400000,Nombre_One_Mean = 34.650000\n",
      "Label_Zero_Predict_Zero = 0.104486,Label_Zero_Predict_Zero = 0.978471,Nombre_Predict_Zero = 115.600000,Nombre_Zero_Mean = 1081.350000\n",
      "Accuracy_fixe_mean = 0.114091,Accuracy_fixe_one = 0.039347,Accuracy_fixe_zero = 0.976647\n",
      "\n"
     ]
    },
    {
     "name": "stderr",
     "output_type": "stream",
     "text": [
      "  5%|████                                                                            | 50/1000 [01:21<25:32,  1.61s/it]"
     ]
    },
    {
     "name": "stdout",
     "output_type": "stream",
     "text": [
      "Loss = 0.150446,Accuracy_value = 0.974588,Accuracy_instance = 0.000000\n",
      "Label_One_Predict_One = 0.343784,Predict_One_Label_One = 0.718431,Nombre_Predict_One = 16.700000,Nombre_One_Mean = 34.650000\n",
      "Label_Zero_Predict_Zero = 0.995518,Label_Zero_Predict_Zero = 0.978598,Nombre_Predict_Zero = 1099.300000,Nombre_Zero_Mean = 1081.350000\n",
      "Accuracy_fixe_mean = 0.994108,Accuracy_fixe_one = 0.000000,Accuracy_fixe_zero = 0.994108\n",
      "\n"
     ]
    },
    {
     "name": "stderr",
     "output_type": "stream",
     "text": [
      " 10%|███████▉                                                                       | 100/1000 [02:42<24:13,  1.62s/it]"
     ]
    },
    {
     "name": "stdout",
     "output_type": "stream",
     "text": [
      "Loss = 0.149978,Accuracy_value = 0.975358,Accuracy_instance = 0.000000\n",
      "Label_One_Predict_One = 0.509001,Predict_One_Label_One = 0.650253,Nombre_Predict_One = 27.450000,Nombre_One_Mean = 34.650000\n",
      "Label_Zero_Predict_Zero = 0.990680,Label_Zero_Predict_Zero = 0.983959,Nombre_Predict_Zero = 1088.550000,Nombre_Zero_Mean = 1081.350000\n",
      "Accuracy_fixe_mean = 0.994804,Accuracy_fixe_one = 0.000000,Accuracy_fixe_zero = 0.994804\n",
      "\n"
     ]
    },
    {
     "name": "stderr",
     "output_type": "stream",
     "text": [
      " 15%|███████████▊                                                                   | 150/1000 [04:04<23:04,  1.63s/it]"
     ]
    },
    {
     "name": "stdout",
     "output_type": "stream",
     "text": [
      "Loss = 0.165781,Accuracy_value = 0.975108,Accuracy_instance = 0.000000\n",
      "Label_One_Predict_One = 0.506713,Predict_One_Label_One = 0.646361,Nombre_Predict_One = 27.500000,Nombre_One_Mean = 34.650000\n",
      "Label_Zero_Predict_Zero = 0.990664,Label_Zero_Predict_Zero = 0.983724,Nombre_Predict_Zero = 1088.500000,Nombre_Zero_Mean = 1081.350000\n",
      "Accuracy_fixe_mean = 0.993324,Accuracy_fixe_one = 0.441667,Accuracy_fixe_zero = 0.993563\n",
      "\n"
     ]
    },
    {
     "name": "stderr",
     "output_type": "stream",
     "text": [
      " 20%|███████████████▊                                                               | 200/1000 [05:26<21:29,  1.61s/it]"
     ]
    },
    {
     "name": "stdout",
     "output_type": "stream",
     "text": [
      "Loss = 0.191439,Accuracy_value = 0.970520,Accuracy_instance = 0.000000\n",
      "Label_One_Predict_One = 0.376914,Predict_One_Label_One = 0.571037,Nombre_Predict_One = 23.100000,Nombre_One_Mean = 34.650000\n",
      "Label_Zero_Predict_Zero = 0.990172,Label_Zero_Predict_Zero = 0.979565,Nombre_Predict_Zero = 1092.900000,Nombre_Zero_Mean = 1081.350000\n",
      "Accuracy_fixe_mean = 0.991443,Accuracy_fixe_one = 0.431667,Accuracy_fixe_zero = 0.992165\n",
      "\n"
     ]
    },
    {
     "name": "stderr",
     "output_type": "stream",
     "text": [
      " 25%|███████████████████▊                                                           | 250/1000 [06:47<20:02,  1.60s/it]"
     ]
    },
    {
     "name": "stdout",
     "output_type": "stream",
     "text": [
      "Loss = 0.214238,Accuracy_value = 0.969588,Accuracy_instance = 0.000000\n",
      "Label_One_Predict_One = 0.414407,Predict_One_Label_One = 0.545904,Nombre_Predict_One = 26.550000,Nombre_One_Mean = 34.650000\n",
      "Label_Zero_Predict_Zero = 0.987982,Label_Zero_Predict_Zero = 0.980713,Nombre_Predict_Zero = 1089.450000,Nombre_Zero_Mean = 1081.350000\n",
      "Accuracy_fixe_mean = 0.990614,Accuracy_fixe_one = 0.601190,Accuracy_fixe_zero = 0.991994\n",
      "\n"
     ]
    },
    {
     "name": "stderr",
     "output_type": "stream",
     "text": [
      " 30%|███████████████████████▋                                                       | 300/1000 [08:08<18:45,  1.61s/it]"
     ]
    },
    {
     "name": "stdout",
     "output_type": "stream",
     "text": [
      "Loss = 0.235222,Accuracy_value = 0.969247,Accuracy_instance = 0.000000\n",
      "Label_One_Predict_One = 0.390682,Predict_One_Label_One = 0.525398,Nombre_Predict_One = 25.550000,Nombre_One_Mean = 34.650000\n",
      "Label_Zero_Predict_Zero = 0.988225,Label_Zero_Predict_Zero = 0.980156,Nombre_Predict_Zero = 1090.450000,Nombre_Zero_Mean = 1081.350000\n",
      "Accuracy_fixe_mean = 0.988150,Accuracy_fixe_one = 0.484821,Accuracy_fixe_zero = 0.990407\n",
      "\n"
     ]
    },
    {
     "name": "stderr",
     "output_type": "stream",
     "text": [
      " 35%|███████████████████████████▋                                                   | 350/1000 [09:29<17:22,  1.60s/it]"
     ]
    },
    {
     "name": "stdout",
     "output_type": "stream",
     "text": [
      "Loss = 0.243847,Accuracy_value = 0.969946,Accuracy_instance = 0.000000\n",
      "Label_One_Predict_One = 0.445399,Predict_One_Label_One = 0.543725,Nombre_Predict_One = 28.350000,Nombre_One_Mean = 34.650000\n",
      "Label_Zero_Predict_Zero = 0.987543,Label_Zero_Predict_Zero = 0.981496,Nombre_Predict_Zero = 1087.650000,Nombre_Zero_Mean = 1081.350000\n",
      "Accuracy_fixe_mean = 0.988598,Accuracy_fixe_one = 0.634325,Accuracy_fixe_zero = 0.990852\n",
      "\n"
     ]
    },
    {
     "name": "stderr",
     "output_type": "stream",
     "text": [
      " 40%|███████████████████████████████▌                                               | 400/1000 [10:51<16:09,  1.62s/it]"
     ]
    },
    {
     "name": "stdout",
     "output_type": "stream",
     "text": [
      "Loss = 0.242950,Accuracy_value = 0.969014,Accuracy_instance = 0.000000\n",
      "Label_One_Predict_One = 0.431473,Predict_One_Label_One = 0.529483,Nombre_Predict_One = 28.450000,Nombre_One_Mean = 34.650000\n",
      "Label_Zero_Predict_Zero = 0.986930,Label_Zero_Predict_Zero = 0.981139,Nombre_Predict_Zero = 1087.550000,Nombre_Zero_Mean = 1081.350000\n",
      "Accuracy_fixe_mean = 0.988060,Accuracy_fixe_one = 0.524782,Accuracy_fixe_zero = 0.990783\n",
      "\n"
     ]
    },
    {
     "name": "stderr",
     "output_type": "stream",
     "text": [
      " 45%|███████████████████████████████████▌                                           | 450/1000 [12:12<14:44,  1.61s/it]"
     ]
    },
    {
     "name": "stdout",
     "output_type": "stream",
     "text": [
      "Loss = 0.293321,Accuracy_value = 0.968405,Accuracy_instance = 0.000000\n",
      "Label_One_Predict_One = 0.423065,Predict_One_Label_One = 0.511827,Nombre_Predict_One = 28.750000,Nombre_One_Mean = 34.650000\n",
      "Label_Zero_Predict_Zero = 0.986489,Label_Zero_Predict_Zero = 0.980950,Nombre_Predict_Zero = 1087.250000,Nombre_Zero_Mean = 1081.350000\n",
      "Accuracy_fixe_mean = 0.985573,Accuracy_fixe_one = 0.462799,Accuracy_fixe_zero = 0.988883\n",
      "\n"
     ]
    },
    {
     "name": "stderr",
     "output_type": "stream",
     "text": [
      " 50%|███████████████████████████████████████▌                                       | 500/1000 [13:33<13:26,  1.61s/it]"
     ]
    },
    {
     "name": "stdout",
     "output_type": "stream",
     "text": [
      "Loss = 0.345541,Accuracy_value = 0.967366,Accuracy_instance = 0.000000\n",
      "Label_One_Predict_One = 0.424900,Predict_One_Label_One = 0.498535,Nombre_Predict_One = 29.800000,Nombre_One_Mean = 34.650000\n",
      "Label_Zero_Predict_Zero = 0.985297,Label_Zero_Predict_Zero = 0.981035,Nombre_Predict_Zero = 1086.200000,Nombre_Zero_Mean = 1081.350000\n",
      "Accuracy_fixe_mean = 0.985170,Accuracy_fixe_one = 0.527605,Accuracy_fixe_zero = 0.989055\n",
      "\n"
     ]
    },
    {
     "name": "stderr",
     "output_type": "stream",
     "text": [
      " 55%|███████████████████████████████████████████▍                                   | 550/1000 [14:55<12:11,  1.63s/it]"
     ]
    },
    {
     "name": "stdout",
     "output_type": "stream",
     "text": [
      "Loss = 0.400157,Accuracy_value = 0.964355,Accuracy_instance = 0.000000\n",
      "Label_One_Predict_One = 0.423354,Predict_One_Label_One = 0.457371,Nombre_Predict_One = 32.950000,Nombre_One_Mean = 34.650000\n",
      "Label_Zero_Predict_Zero = 0.982201,Label_Zero_Predict_Zero = 0.980957,Nombre_Predict_Zero = 1083.050000,Nombre_Zero_Mean = 1081.350000\n",
      "Accuracy_fixe_mean = 0.982997,Accuracy_fixe_one = 0.476439,Accuracy_fixe_zero = 0.988155\n",
      "\n"
     ]
    },
    {
     "name": "stderr",
     "output_type": "stream",
     "text": [
      " 60%|███████████████████████████████████████████████▍                               | 600/1000 [16:17<10:43,  1.61s/it]"
     ]
    },
    {
     "name": "stdout",
     "output_type": "stream",
     "text": [
      "Loss = 0.403402,Accuracy_value = 0.966290,Accuracy_instance = 0.000000\n",
      "Label_One_Predict_One = 0.386466,Predict_One_Label_One = 0.472652,Nombre_Predict_One = 28.650000,Nombre_One_Mean = 34.650000\n",
      "Label_Zero_Predict_Zero = 0.985643,Label_Zero_Predict_Zero = 0.979643,Nombre_Predict_Zero = 1087.350000,Nombre_Zero_Mean = 1081.350000\n",
      "Accuracy_fixe_mean = 0.984162,Accuracy_fixe_one = 0.546317,Accuracy_fixe_zero = 0.987621\n",
      "\n"
     ]
    },
    {
     "name": "stderr",
     "output_type": "stream",
     "text": [
      " 65%|███████████████████████████████████████████████████▎                           | 650/1000 [17:38<09:27,  1.62s/it]"
     ]
    },
    {
     "name": "stdout",
     "output_type": "stream",
     "text": [
      "Loss = 0.434146,Accuracy_value = 0.965860,Accuracy_instance = 0.000000\n",
      "Label_One_Predict_One = 0.373765,Predict_One_Label_One = 0.474847,Nombre_Predict_One = 27.900000,Nombre_One_Mean = 34.650000\n",
      "Label_Zero_Predict_Zero = 0.985540,Label_Zero_Predict_Zero = 0.979289,Nombre_Predict_Zero = 1088.100000,Nombre_Zero_Mean = 1081.350000\n",
      "Accuracy_fixe_mean = 0.983692,Accuracy_fixe_one = 0.576369,Accuracy_fixe_zero = 0.987494\n",
      "\n"
     ]
    },
    {
     "name": "stderr",
     "output_type": "stream",
     "text": [
      " 70%|███████████████████████████████████████████████████████▎                       | 700/1000 [19:00<08:03,  1.61s/it]"
     ]
    },
    {
     "name": "stdout",
     "output_type": "stream",
     "text": [
      "Loss = 0.472776,Accuracy_value = 0.965789,Accuracy_instance = 0.000000\n",
      "Label_One_Predict_One = 0.379608,Predict_One_Label_One = 0.472510,Nombre_Predict_One = 28.350000,Nombre_One_Mean = 34.650000\n",
      "Label_Zero_Predict_Zero = 0.985242,Label_Zero_Predict_Zero = 0.979492,Nombre_Predict_Zero = 1087.650000,Nombre_Zero_Mean = 1081.350000\n",
      "Accuracy_fixe_mean = 0.982639,Accuracy_fixe_one = 0.587962,Accuracy_fixe_zero = 0.986823\n",
      "\n"
     ]
    },
    {
     "name": "stderr",
     "output_type": "stream",
     "text": [
      " 75%|███████████████████████████████████████████████████████████▎                   | 750/1000 [20:21<06:43,  1.61s/it]"
     ]
    },
    {
     "name": "stdout",
     "output_type": "stream",
     "text": [
      "Loss = 0.540805,Accuracy_value = 0.965806,Accuracy_instance = 0.000000\n",
      "Label_One_Predict_One = 0.388308,Predict_One_Label_One = 0.467688,Nombre_Predict_One = 29.250000,Nombre_One_Mean = 34.650000\n",
      "Label_Zero_Predict_Zero = 0.984972,Label_Zero_Predict_Zero = 0.979785,Nombre_Predict_Zero = 1086.750000,Nombre_Zero_Mean = 1081.350000\n",
      "Accuracy_fixe_mean = 0.982415,Accuracy_fixe_one = 0.516811,Accuracy_fixe_zero = 0.986717\n",
      "\n"
     ]
    },
    {
     "name": "stderr",
     "output_type": "stream",
     "text": [
      " 80%|███████████████████████████████████████████████████████████████▏               | 800/1000 [21:43<05:23,  1.62s/it]"
     ]
    },
    {
     "name": "stdout",
     "output_type": "stream",
     "text": [
      "Loss = 0.590880,Accuracy_value = 0.965269,Accuracy_instance = 0.000000\n",
      "Label_One_Predict_One = 0.381277,Predict_One_Label_One = 0.457966,Nombre_Predict_One = 29.250000,Nombre_One_Mean = 34.650000\n",
      "Label_Zero_Predict_Zero = 0.984655,Label_Zero_Predict_Zero = 0.979543,Nombre_Predict_Zero = 1086.750000,Nombre_Zero_Mean = 1081.350000\n",
      "Accuracy_fixe_mean = 0.982706,Accuracy_fixe_one = 0.541108,Accuracy_fixe_zero = 0.987343\n",
      "\n"
     ]
    },
    {
     "name": "stderr",
     "output_type": "stream",
     "text": [
      " 85%|███████████████████████████████████████████████████████████████████▏           | 850/1000 [23:04<04:01,  1.61s/it]"
     ]
    },
    {
     "name": "stdout",
     "output_type": "stream",
     "text": [
      "Loss = 0.683421,Accuracy_value = 0.963943,Accuracy_instance = 0.000000\n",
      "Label_One_Predict_One = 0.388345,Predict_One_Label_One = 0.437245,Nombre_Predict_One = 31.300000,Nombre_One_Mean = 34.650000\n",
      "Label_Zero_Predict_Zero = 0.983064,Label_Zero_Predict_Zero = 0.979728,Nombre_Predict_Zero = 1084.700000,Nombre_Zero_Mean = 1081.350000\n",
      "Accuracy_fixe_mean = 0.981138,Accuracy_fixe_one = 0.505432,Accuracy_fixe_zero = 0.987244\n",
      "\n"
     ]
    },
    {
     "name": "stderr",
     "output_type": "stream",
     "text": [
      " 90%|███████████████████████████████████████████████████████████████████████        | 900/1000 [24:25<02:41,  1.61s/it]"
     ]
    },
    {
     "name": "stdout",
     "output_type": "stream",
     "text": [
      "Loss = 0.752048,Accuracy_value = 0.964014,Accuracy_instance = 0.000000\n",
      "Label_One_Predict_One = 0.415668,Predict_One_Label_One = 0.440582,Nombre_Predict_One = 33.100000,Nombre_One_Mean = 34.650000\n",
      "Label_Zero_Predict_Zero = 0.982268,Label_Zero_Predict_Zero = 0.980568,Nombre_Predict_Zero = 1082.900000,Nombre_Zero_Mean = 1081.350000\n",
      "Accuracy_fixe_mean = 0.981653,Accuracy_fixe_one = 0.535696,Accuracy_fixe_zero = 0.987338\n",
      "\n"
     ]
    },
    {
     "name": "stderr",
     "output_type": "stream",
     "text": [
      " 95%|███████████████████████████████████████████████████████████████████████████    | 950/1000 [25:47<01:22,  1.65s/it]"
     ]
    },
    {
     "name": "stdout",
     "output_type": "stream",
     "text": [
      "Loss = 0.785658,Accuracy_value = 0.963889,Accuracy_instance = 0.000000\n",
      "Label_One_Predict_One = 0.408238,Predict_One_Label_One = 0.437898,Nombre_Predict_One = 32.700000,Nombre_One_Mean = 34.650000\n",
      "Label_Zero_Predict_Zero = 0.982397,Label_Zero_Predict_Zero = 0.980314,Nombre_Predict_Zero = 1083.300000,Nombre_Zero_Mean = 1081.350000\n",
      "Accuracy_fixe_mean = 0.981317,Accuracy_fixe_one = 0.494430,Accuracy_fixe_zero = 0.987293\n",
      "\n"
     ]
    },
    {
     "name": "stderr",
     "output_type": "stream",
     "text": [
      "100%|██████████████████████████████████████████████████████████████████████████████| 1000/1000 [27:08<00:00,  1.63s/it]\n",
      "  0%|                                                                                         | 0/1000 [00:00<?, ?it/s]"
     ]
    },
    {
     "name": "stdout",
     "output_type": "stream",
     "text": [
      "Loss = 0.810717,Accuracy_value = 0.962563,Accuracy_instance = 0.000000\n",
      "Label_One_Predict_One = 0.383005,Predict_One_Label_One = 0.403989,Nombre_Predict_One = 33.200000,Nombre_One_Mean = 34.800000\n",
      "Label_Zero_Predict_Zero = 0.981310,Label_Zero_Predict_Zero = 0.980038,Nombre_Predict_Zero = 1106.050000,Nombre_Zero_Mean = 1104.450000\n",
      "Accuracy_fixe_mean = 0.980287,Accuracy_fixe_one = 0.526294,Accuracy_fixe_zero = 0.986539\n",
      "\n",
      "Loss = 4.225788,Accuracy_value = 0.243047,Accuracy_instance = 0.000000\n",
      "Label_One_Predict_One = 0.425964,Predict_One_Label_One = 0.017887,Nombre_Predict_One = 844.050000,Nombre_One_Mean = 34.650000\n",
      "Label_Zero_Predict_Zero = 0.237345,Label_Zero_Predict_Zero = 0.924662,Nombre_Predict_Zero = 271.950000,Nombre_Zero_Mean = 1081.350000\n",
      "Accuracy_fixe_mean = 0.183065,Accuracy_fixe_one = 0.016696,Accuracy_fixe_zero = 0.891808\n",
      "\n"
     ]
    },
    {
     "name": "stderr",
     "output_type": "stream",
     "text": [
      "  5%|████                                                                            | 50/1000 [01:21<25:33,  1.61s/it]"
     ]
    },
    {
     "name": "stdout",
     "output_type": "stream",
     "text": [
      "Loss = 0.149511,Accuracy_value = 0.976398,Accuracy_instance = 0.000000\n",
      "Label_One_Predict_One = 0.403130,Predict_One_Label_One = 0.746805,Nombre_Predict_One = 18.800000,Nombre_One_Mean = 34.650000\n",
      "Label_Zero_Predict_Zero = 0.995386,Label_Zero_Predict_Zero = 0.980518,Nombre_Predict_Zero = 1097.200000,Nombre_Zero_Mean = 1081.350000\n",
      "Accuracy_fixe_mean = 0.993862,Accuracy_fixe_one = 0.000000,Accuracy_fixe_zero = 0.993862\n",
      "\n"
     ]
    },
    {
     "name": "stderr",
     "output_type": "stream",
     "text": [
      " 10%|███████▉                                                                       | 100/1000 [02:42<24:19,  1.62s/it]"
     ]
    },
    {
     "name": "stdout",
     "output_type": "stream",
     "text": [
      "Loss = 0.157897,Accuracy_value = 0.974839,Accuracy_instance = 0.000000\n",
      "Label_One_Predict_One = 0.482488,Predict_One_Label_One = 0.643289,Nombre_Predict_One = 26.000000,Nombre_One_Mean = 34.650000\n",
      "Label_Zero_Predict_Zero = 0.991161,Label_Zero_Predict_Zero = 0.982976,Nombre_Predict_Zero = 1090.000000,Nombre_Zero_Mean = 1081.350000\n",
      "Accuracy_fixe_mean = 0.994310,Accuracy_fixe_one = 0.000000,Accuracy_fixe_zero = 0.994421\n",
      "\n"
     ]
    },
    {
     "name": "stderr",
     "output_type": "stream",
     "text": [
      " 15%|███████████▊                                                                   | 150/1000 [04:03<22:47,  1.61s/it]"
     ]
    },
    {
     "name": "stdout",
     "output_type": "stream",
     "text": [
      "Loss = 0.162757,Accuracy_value = 0.974785,Accuracy_instance = 0.000000\n",
      "Label_One_Predict_One = 0.540121,Predict_One_Label_One = 0.623435,Nombre_Predict_One = 30.000000,Nombre_One_Mean = 34.650000\n",
      "Label_Zero_Predict_Zero = 0.989195,Label_Zero_Predict_Zero = 0.984802,Nombre_Predict_Zero = 1086.000000,Nombre_Zero_Mean = 1081.350000\n",
      "Accuracy_fixe_mean = 0.993302,Accuracy_fixe_one = 0.300000,Accuracy_fixe_zero = 0.993433\n",
      "\n"
     ]
    },
    {
     "name": "stderr",
     "output_type": "stream",
     "text": [
      " 20%|███████████████▊                                                               | 200/1000 [05:25<21:31,  1.61s/it]"
     ]
    },
    {
     "name": "stdout",
     "output_type": "stream",
     "text": [
      "Loss = 0.177240,Accuracy_value = 0.972545,Accuracy_instance = 0.000000\n",
      "Label_One_Predict_One = 0.449036,Predict_One_Label_One = 0.598257,Nombre_Predict_One = 26.000000,Nombre_One_Mean = 34.650000\n",
      "Label_Zero_Predict_Zero = 0.989954,Label_Zero_Predict_Zero = 0.981815,Nombre_Predict_Zero = 1090.000000,Nombre_Zero_Mean = 1081.350000\n",
      "Accuracy_fixe_mean = 0.992204,Accuracy_fixe_one = 0.400000,Accuracy_fixe_zero = 0.992954\n",
      "\n"
     ]
    },
    {
     "name": "stderr",
     "output_type": "stream",
     "text": [
      " 25%|███████████████████▊                                                           | 250/1000 [06:46<20:16,  1.62s/it]"
     ]
    },
    {
     "name": "stdout",
     "output_type": "stream",
     "text": [
      "Loss = 0.172284,Accuracy_value = 0.973584,Accuracy_instance = 0.000000\n",
      "Label_One_Predict_One = 0.475378,Predict_One_Label_One = 0.610528,Nombre_Predict_One = 26.800000,Nombre_One_Mean = 34.650000\n",
      "Label_Zero_Predict_Zero = 0.990103,Label_Zero_Predict_Zero = 0.982720,Nombre_Predict_Zero = 1089.200000,Nombre_Zero_Mean = 1081.350000\n",
      "Accuracy_fixe_mean = 0.992227,Accuracy_fixe_one = 0.408333,Accuracy_fixe_zero = 0.992910\n",
      "\n"
     ]
    },
    {
     "name": "stderr",
     "output_type": "stream",
     "text": [
      " 30%|███████████████████████▋                                                       | 300/1000 [08:09<18:47,  1.61s/it]"
     ]
    },
    {
     "name": "stdout",
     "output_type": "stream",
     "text": [
      "Loss = 0.198957,Accuracy_value = 0.971882,Accuracy_instance = 0.000000\n",
      "Label_One_Predict_One = 0.384641,Predict_One_Label_One = 0.588803,Nombre_Predict_One = 22.550000,Nombre_One_Mean = 34.650000\n",
      "Label_Zero_Predict_Zero = 0.991179,Label_Zero_Predict_Zero = 0.979988,Nombre_Predict_Zero = 1093.450000,Nombre_Zero_Mean = 1081.350000\n",
      "Accuracy_fixe_mean = 0.988956,Accuracy_fixe_one = 0.455952,Accuracy_fixe_zero = 0.990583\n",
      "\n"
     ]
    },
    {
     "name": "stderr",
     "output_type": "stream",
     "text": [
      " 35%|███████████████████████████▋                                                   | 350/1000 [09:30<17:28,  1.61s/it]"
     ]
    },
    {
     "name": "stdout",
     "output_type": "stream",
     "text": [
      "Loss = 0.233326,Accuracy_value = 0.969839,Accuracy_instance = 0.000000\n",
      "Label_One_Predict_One = 0.414288,Predict_One_Label_One = 0.545731,Nombre_Predict_One = 26.550000,Nombre_One_Mean = 34.650000\n",
      "Label_Zero_Predict_Zero = 0.988248,Label_Zero_Predict_Zero = 0.980711,Nombre_Predict_Zero = 1089.450000,Nombre_Zero_Mean = 1081.350000\n",
      "Accuracy_fixe_mean = 0.988351,Accuracy_fixe_one = 0.629425,Accuracy_fixe_zero = 0.990399\n",
      "\n"
     ]
    },
    {
     "name": "stderr",
     "output_type": "stream",
     "text": [
      " 40%|███████████████████████████████▌                                               | 400/1000 [10:52<16:06,  1.61s/it]"
     ]
    },
    {
     "name": "stdout",
     "output_type": "stream",
     "text": [
      "Loss = 0.268099,Accuracy_value = 0.971111,Accuracy_instance = 0.000000\n",
      "Label_One_Predict_One = 0.430215,Predict_One_Label_One = 0.566208,Nombre_Predict_One = 26.450000,Nombre_One_Mean = 34.650000\n",
      "Label_Zero_Predict_Zero = 0.989049,Label_Zero_Predict_Zero = 0.981236,Nombre_Predict_Zero = 1089.550000,Nombre_Zero_Mean = 1081.350000\n",
      "Accuracy_fixe_mean = 0.985932,Accuracy_fixe_one = 0.562936,Accuracy_fixe_zero = 0.989100\n",
      "\n"
     ]
    },
    {
     "name": "stderr",
     "output_type": "stream",
     "text": [
      " 45%|███████████████████████████████████▌                                           | 450/1000 [12:13<14:50,  1.62s/it]"
     ]
    },
    {
     "name": "stdout",
     "output_type": "stream",
     "text": [
      "Loss = 0.318800,Accuracy_value = 0.968692,Accuracy_instance = 0.000000\n",
      "Label_One_Predict_One = 0.431240,Predict_One_Label_One = 0.524473,Nombre_Predict_One = 28.850000,Nombre_One_Mean = 34.650000\n",
      "Label_Zero_Predict_Zero = 0.986276,Label_Zero_Predict_Zero = 0.981443,Nombre_Predict_Zero = 1087.150000,Nombre_Zero_Mean = 1081.350000\n",
      "Accuracy_fixe_mean = 0.984364,Accuracy_fixe_one = 0.612704,Accuracy_fixe_zero = 0.988215\n",
      "\n"
     ]
    },
    {
     "name": "stderr",
     "output_type": "stream",
     "text": [
      " 50%|███████████████████████████████████████▌                                       | 500/1000 [13:34<13:23,  1.61s/it]"
     ]
    },
    {
     "name": "stdout",
     "output_type": "stream",
     "text": [
      "Loss = 0.373073,Accuracy_value = 0.968011,Accuracy_instance = 0.000000\n",
      "Label_One_Predict_One = 0.446104,Predict_One_Label_One = 0.511865,Nombre_Predict_One = 30.650000,Nombre_One_Mean = 34.650000\n",
      "Label_Zero_Predict_Zero = 0.985299,Label_Zero_Predict_Zero = 0.981683,Nombre_Predict_Zero = 1085.350000,Nombre_Zero_Mean = 1081.350000\n",
      "Accuracy_fixe_mean = 0.984588,Accuracy_fixe_one = 0.562034,Accuracy_fixe_zero = 0.989809\n",
      "\n"
     ]
    },
    {
     "name": "stderr",
     "output_type": "stream",
     "text": [
      " 55%|███████████████████████████████████████████▍                                   | 550/1000 [14:56<12:04,  1.61s/it]"
     ]
    },
    {
     "name": "stdout",
     "output_type": "stream",
     "text": [
      "Loss = 0.405577,Accuracy_value = 0.968477,Accuracy_instance = 0.000000\n",
      "Label_One_Predict_One = 0.431844,Predict_One_Label_One = 0.516076,Nombre_Predict_One = 29.150000,Nombre_One_Mean = 34.650000\n",
      "Label_Zero_Predict_Zero = 0.986263,Label_Zero_Predict_Zero = 0.981232,Nombre_Predict_Zero = 1086.850000,Nombre_Zero_Mean = 1081.350000\n",
      "Accuracy_fixe_mean = 0.983580,Accuracy_fixe_one = 0.568818,Accuracy_fixe_zero = 0.988542\n",
      "\n"
     ]
    },
    {
     "name": "stderr",
     "output_type": "stream",
     "text": [
      " 60%|███████████████████████████████████████████████▍                               | 600/1000 [16:17<10:41,  1.60s/it]"
     ]
    },
    {
     "name": "stdout",
     "output_type": "stream",
     "text": [
      "Loss = 0.430605,Accuracy_value = 0.967867,Accuracy_instance = 0.000000\n",
      "Label_One_Predict_One = 0.423226,Predict_One_Label_One = 0.505076,Nombre_Predict_One = 29.300000,Nombre_One_Mean = 34.650000\n",
      "Label_Zero_Predict_Zero = 0.985913,Label_Zero_Predict_Zero = 0.980961,Nombre_Predict_Zero = 1086.700000,Nombre_Zero_Mean = 1081.350000\n",
      "Accuracy_fixe_mean = 0.983065,Accuracy_fixe_one = 0.573189,Accuracy_fixe_zero = 0.988311\n",
      "\n"
     ]
    },
    {
     "name": "stderr",
     "output_type": "stream",
     "text": [
      " 65%|███████████████████████████████████████████████████▎                           | 650/1000 [17:38<09:25,  1.62s/it]"
     ]
    },
    {
     "name": "stdout",
     "output_type": "stream",
     "text": [
      "Loss = 0.466310,Accuracy_value = 0.966631,Accuracy_instance = 0.000000\n",
      "Label_One_Predict_One = 0.402803,Predict_One_Label_One = 0.480633,Nombre_Predict_One = 29.100000,Nombre_One_Mean = 34.650000\n",
      "Label_Zero_Predict_Zero = 0.985355,Label_Zero_Predict_Zero = 0.980241,Nombre_Predict_Zero = 1086.900000,Nombre_Zero_Mean = 1081.350000\n",
      "Accuracy_fixe_mean = 0.981922,Accuracy_fixe_one = 0.570770,Accuracy_fixe_zero = 0.987263\n",
      "\n"
     ]
    },
    {
     "name": "stderr",
     "output_type": "stream",
     "text": [
      " 70%|███████████████████████████████████████████████████████▎                       | 700/1000 [18:59<08:04,  1.62s/it]"
     ]
    },
    {
     "name": "stdout",
     "output_type": "stream",
     "text": [
      "Loss = 0.529424,Accuracy_value = 0.966720,Accuracy_instance = 0.000000\n",
      "Label_One_Predict_One = 0.427430,Predict_One_Label_One = 0.483558,Nombre_Predict_One = 30.700000,Nombre_One_Mean = 34.650000\n",
      "Label_Zero_Predict_Zero = 0.984632,Label_Zero_Predict_Zero = 0.981019,Nombre_Predict_Zero = 1085.300000,Nombre_Zero_Mean = 1081.350000\n",
      "Accuracy_fixe_mean = 0.980421,Accuracy_fixe_one = 0.529918,Accuracy_fixe_zero = 0.986709\n",
      "\n"
     ]
    },
    {
     "name": "stderr",
     "output_type": "stream",
     "text": [
      " 75%|███████████████████████████████████████████████████████████▎                   | 750/1000 [20:20<06:43,  1.61s/it]"
     ]
    },
    {
     "name": "stdout",
     "output_type": "stream",
     "text": [
      "Loss = 0.604611,Accuracy_value = 0.966738,Accuracy_instance = 0.000000\n",
      "Label_One_Predict_One = 0.432049,Predict_One_Label_One = 0.478922,Nombre_Predict_One = 31.100000,Nombre_One_Mean = 34.650000\n",
      "Label_Zero_Predict_Zero = 0.984410,Label_Zero_Predict_Zero = 0.981260,Nombre_Predict_Zero = 1084.900000,Nombre_Zero_Mean = 1081.350000\n",
      "Accuracy_fixe_mean = 0.980600,Accuracy_fixe_one = 0.567590,Accuracy_fixe_zero = 0.987166\n",
      "\n"
     ]
    },
    {
     "name": "stderr",
     "output_type": "stream",
     "text": [
      " 80%|███████████████████████████████████████████████████████████████▏               | 800/1000 [21:42<05:44,  1.72s/it]"
     ]
    },
    {
     "name": "stdout",
     "output_type": "stream",
     "text": [
      "Loss = 0.609315,Accuracy_value = 0.964642,Accuracy_instance = 0.000000\n",
      "Label_One_Predict_One = 0.418940,Predict_One_Label_One = 0.446664,Nombre_Predict_One = 32.400000,Nombre_One_Mean = 34.650000\n",
      "Label_Zero_Predict_Zero = 0.982685,Label_Zero_Predict_Zero = 0.980789,Nombre_Predict_Zero = 1083.600000,Nombre_Zero_Mean = 1081.350000\n",
      "Accuracy_fixe_mean = 0.978786,Accuracy_fixe_one = 0.523451,Accuracy_fixe_zero = 0.986557\n",
      "\n"
     ]
    },
    {
     "name": "stderr",
     "output_type": "stream",
     "text": [
      " 85%|███████████████████████████████████████████████████████████████████▏           | 850/1000 [23:04<04:02,  1.61s/it]"
     ]
    },
    {
     "name": "stdout",
     "output_type": "stream",
     "text": [
      "Loss = 0.644031,Accuracy_value = 0.964803,Accuracy_instance = 0.000000\n",
      "Label_One_Predict_One = 0.419062,Predict_One_Label_One = 0.450955,Nombre_Predict_One = 32.250000,Nombre_One_Mean = 34.650000\n",
      "Label_Zero_Predict_Zero = 0.982834,Label_Zero_Predict_Zero = 0.980814,Nombre_Predict_Zero = 1083.750000,Nombre_Zero_Mean = 1081.350000\n",
      "Accuracy_fixe_mean = 0.979435,Accuracy_fixe_one = 0.565731,Accuracy_fixe_zero = 0.985774\n",
      "\n"
     ]
    },
    {
     "name": "stderr",
     "output_type": "stream",
     "text": [
      " 90%|███████████████████████████████████████████████████████████████████████        | 900/1000 [24:25<02:41,  1.62s/it]"
     ]
    },
    {
     "name": "stdout",
     "output_type": "stream",
     "text": [
      "Loss = 0.715194,Accuracy_value = 0.963244,Accuracy_instance = 0.000000\n",
      "Label_One_Predict_One = 0.435033,Predict_One_Label_One = 0.430528,Nombre_Predict_One = 35.050000,Nombre_One_Mean = 34.650000\n",
      "Label_Zero_Predict_Zero = 0.980665,Label_Zero_Predict_Zero = 0.981315,Nombre_Predict_Zero = 1080.950000,Nombre_Zero_Mean = 1081.350000\n",
      "Accuracy_fixe_mean = 0.978472,Accuracy_fixe_one = 0.535985,Accuracy_fixe_zero = 0.986696\n",
      "\n"
     ]
    },
    {
     "name": "stderr",
     "output_type": "stream",
     "text": [
      " 95%|███████████████████████████████████████████████████████████████████████████    | 950/1000 [25:46<01:20,  1.61s/it]"
     ]
    },
    {
     "name": "stdout",
     "output_type": "stream",
     "text": [
      "Loss = 0.749435,Accuracy_value = 0.962849,Accuracy_instance = 0.000000\n",
      "Label_One_Predict_One = 0.427806,Predict_One_Label_One = 0.423317,Nombre_Predict_One = 34.950000,Nombre_One_Mean = 34.650000\n",
      "Label_Zero_Predict_Zero = 0.980478,Label_Zero_Predict_Zero = 0.981097,Nombre_Predict_Zero = 1081.050000,Nombre_Zero_Mean = 1081.350000\n",
      "Accuracy_fixe_mean = 0.979480,Accuracy_fixe_one = 0.584449,Accuracy_fixe_zero = 0.986944\n",
      "\n"
     ]
    },
    {
     "name": "stderr",
     "output_type": "stream",
     "text": [
      "100%|██████████████████████████████████████████████████████████████████████████████| 1000/1000 [27:07<00:00,  1.63s/it]\n",
      "  0%|                                                                                         | 0/1000 [00:00<?, ?it/s]"
     ]
    },
    {
     "name": "stdout",
     "output_type": "stream",
     "text": [
      "Loss = 0.782493,Accuracy_value = 0.964391,Accuracy_instance = 0.000000\n",
      "Label_One_Predict_One = 0.399825,Predict_One_Label_One = 0.443824,Nombre_Predict_One = 32.150000,Nombre_One_Mean = 34.800000\n",
      "Label_Zero_Predict_Zero = 0.982637,Label_Zero_Predict_Zero = 0.980591,Nombre_Predict_Zero = 1107.100000,Nombre_Zero_Mean = 1104.450000\n",
      "Accuracy_fixe_mean = 0.978182,Accuracy_fixe_one = 0.526399,Accuracy_fixe_zero = 0.985571\n",
      "\n",
      "Loss = 4.004807,Accuracy_value = 0.061703,Accuracy_instance = 0.000000\n",
      "Label_One_Predict_One = 0.955600,Predict_One_Label_One = 0.031798,Nombre_Predict_One = 1079.950000,Nombre_One_Mean = 34.650000\n",
      "Label_Zero_Predict_Zero = 0.031961,Label_Zero_Predict_Zero = 0.957330,Nombre_Predict_Zero = 36.050000,Nombre_Zero_Mean = 1081.350000\n",
      "Accuracy_fixe_mean = 0.072805,Accuracy_fixe_one = 0.035574,Accuracy_fixe_zero = 0.958889\n",
      "\n"
     ]
    },
    {
     "name": "stderr",
     "output_type": "stream",
     "text": [
      "  5%|████                                                                            | 50/1000 [01:20<25:19,  1.60s/it]"
     ]
    },
    {
     "name": "stdout",
     "output_type": "stream",
     "text": [
      "Loss = 0.147949,Accuracy_value = 0.977061,Accuracy_instance = 0.000000\n",
      "Label_One_Predict_One = 0.443483,Predict_One_Label_One = 0.740757,Nombre_Predict_One = 20.950000,Nombre_One_Mean = 34.650000\n",
      "Label_Zero_Predict_Zero = 0.994758,Label_Zero_Predict_Zero = 0.981781,Nombre_Predict_Zero = 1095.050000,Nombre_Zero_Mean = 1081.350000\n",
      "Accuracy_fixe_mean = 0.994825,Accuracy_fixe_one = 0.000000,Accuracy_fixe_zero = 0.994825\n",
      "\n"
     ]
    },
    {
     "name": "stderr",
     "output_type": "stream",
     "text": [
      " 10%|███████▉                                                                       | 100/1000 [02:41<23:59,  1.60s/it]"
     ]
    },
    {
     "name": "stdout",
     "output_type": "stream",
     "text": [
      "Loss = 0.152682,Accuracy_value = 0.974982,Accuracy_instance = 0.000000\n",
      "Label_One_Predict_One = 0.458312,Predict_One_Label_One = 0.656015,Nombre_Predict_One = 24.150000,Nombre_One_Mean = 34.650000\n",
      "Label_Zero_Predict_Zero = 0.992011,Label_Zero_Predict_Zero = 0.982304,Nombre_Predict_Zero = 1091.850000,Nombre_Zero_Mean = 1081.350000\n",
      "Accuracy_fixe_mean = 0.993593,Accuracy_fixe_one = 0.050000,Accuracy_fixe_zero = 0.993593\n",
      "\n"
     ]
    },
    {
     "name": "stderr",
     "output_type": "stream",
     "text": [
      " 15%|███████████▊                                                                   | 150/1000 [04:02<22:46,  1.61s/it]"
     ]
    },
    {
     "name": "stdout",
     "output_type": "stream",
     "text": [
      "Loss = 0.161376,Accuracy_value = 0.974928,Accuracy_instance = 0.000000\n",
      "Label_One_Predict_One = 0.469750,Predict_One_Label_One = 0.661343,Nombre_Predict_One = 25.050000,Nombre_One_Mean = 34.650000\n",
      "Label_Zero_Predict_Zero = 0.991586,Label_Zero_Predict_Zero = 0.982655,Nombre_Predict_Zero = 1090.950000,Nombre_Zero_Mean = 1081.350000\n",
      "Accuracy_fixe_mean = 0.992921,Accuracy_fixe_one = 0.441667,Accuracy_fixe_zero = 0.993314\n",
      "\n"
     ]
    },
    {
     "name": "stderr",
     "output_type": "stream",
     "text": [
      " 20%|███████████████▊                                                               | 200/1000 [05:22<21:20,  1.60s/it]"
     ]
    },
    {
     "name": "stdout",
     "output_type": "stream",
     "text": [
      "Loss = 0.172263,Accuracy_value = 0.973853,Accuracy_instance = 0.000000\n",
      "Label_One_Predict_One = 0.478247,Predict_One_Label_One = 0.613486,Nombre_Predict_One = 26.950000,Nombre_One_Mean = 34.650000\n",
      "Label_Zero_Predict_Zero = 0.990219,Label_Zero_Predict_Zero = 0.982887,Nombre_Predict_Zero = 1089.050000,Nombre_Zero_Mean = 1081.350000\n",
      "Accuracy_fixe_mean = 0.991868,Accuracy_fixe_one = 0.580000,Accuracy_fixe_zero = 0.992345\n",
      "\n"
     ]
    },
    {
     "name": "stderr",
     "output_type": "stream",
     "text": [
      " 25%|███████████████████▊                                                           | 250/1000 [06:43<19:56,  1.59s/it]"
     ]
    },
    {
     "name": "stdout",
     "output_type": "stream",
     "text": [
      "Loss = 0.196944,Accuracy_value = 0.972276,Accuracy_instance = 0.000000\n",
      "Label_One_Predict_One = 0.369550,Predict_One_Label_One = 0.614211,Nombre_Predict_One = 20.800000,Nombre_One_Mean = 34.650000\n",
      "Label_Zero_Predict_Zero = 0.992365,Label_Zero_Predict_Zero = 0.979258,Nombre_Predict_Zero = 1095.200000,Nombre_Zero_Mean = 1081.350000\n",
      "Accuracy_fixe_mean = 0.990278,Accuracy_fixe_one = 0.596667,Accuracy_fixe_zero = 0.991040\n",
      "\n"
     ]
    },
    {
     "name": "stderr",
     "output_type": "stream",
     "text": [
      " 30%|███████████████████████▋                                                       | 300/1000 [08:04<18:41,  1.60s/it]"
     ]
    },
    {
     "name": "stdout",
     "output_type": "stream",
     "text": [
      "Loss = 0.224043,Accuracy_value = 0.971505,Accuracy_instance = 0.000000\n",
      "Label_One_Predict_One = 0.439358,Predict_One_Label_One = 0.570324,Nombre_Predict_One = 26.650000,Nombre_One_Mean = 34.650000\n",
      "Label_Zero_Predict_Zero = 0.989104,Label_Zero_Predict_Zero = 0.981584,Nombre_Predict_Zero = 1089.350000,Nombre_Zero_Mean = 1081.350000\n",
      "Accuracy_fixe_mean = 0.988710,Accuracy_fixe_one = 0.569167,Accuracy_fixe_zero = 0.990171\n",
      "\n"
     ]
    },
    {
     "name": "stderr",
     "output_type": "stream",
     "text": [
      " 35%|███████████████████████████▋                                                   | 350/1000 [09:25<17:26,  1.61s/it]"
     ]
    },
    {
     "name": "stdout",
     "output_type": "stream",
     "text": [
      "Loss = 0.252570,Accuracy_value = 0.970573,Accuracy_instance = 0.000000\n",
      "Label_One_Predict_One = 0.417836,Predict_One_Label_One = 0.551120,Nombre_Predict_One = 26.200000,Nombre_One_Mean = 34.650000\n",
      "Label_Zero_Predict_Zero = 0.988807,Label_Zero_Predict_Zero = 0.980928,Nombre_Predict_Zero = 1089.800000,Nombre_Zero_Mean = 1081.350000\n",
      "Accuracy_fixe_mean = 0.987321,Accuracy_fixe_one = 0.515556,Accuracy_fixe_zero = 0.989725\n",
      "\n"
     ]
    },
    {
     "name": "stderr",
     "output_type": "stream",
     "text": [
      " 40%|███████████████████████████████▌                                               | 400/1000 [10:46<16:19,  1.63s/it]"
     ]
    },
    {
     "name": "stdout",
     "output_type": "stream",
     "text": [
      "Loss = 0.262153,Accuracy_value = 0.969050,Accuracy_instance = 0.000000\n",
      "Label_One_Predict_One = 0.428009,Predict_One_Label_One = 0.523647,Nombre_Predict_One = 28.400000,Nombre_One_Mean = 34.650000\n",
      "Label_Zero_Predict_Zero = 0.986856,Label_Zero_Predict_Zero = 0.981246,Nombre_Predict_Zero = 1087.600000,Nombre_Zero_Mean = 1081.350000\n",
      "Accuracy_fixe_mean = 0.987612,Accuracy_fixe_one = 0.608155,Accuracy_fixe_zero = 0.990075\n",
      "\n"
     ]
    },
    {
     "name": "stderr",
     "output_type": "stream",
     "text": [
      " 45%|███████████████████████████████████▌                                           | 450/1000 [12:07<14:42,  1.61s/it]"
     ]
    },
    {
     "name": "stdout",
     "output_type": "stream",
     "text": [
      "Loss = 0.264490,Accuracy_value = 0.970520,Accuracy_instance = 0.000000\n",
      "Label_One_Predict_One = 0.398557,Predict_One_Label_One = 0.548898,Nombre_Predict_One = 24.800000,Nombre_One_Mean = 34.650000\n",
      "Label_Zero_Predict_Zero = 0.989492,Label_Zero_Predict_Zero = 0.980227,Nombre_Predict_Zero = 1091.200000,Nombre_Zero_Mean = 1081.350000\n",
      "Accuracy_fixe_mean = 0.987186,Accuracy_fixe_one = 0.445940,Accuracy_fixe_zero = 0.990320\n",
      "\n"
     ]
    },
    {
     "name": "stderr",
     "output_type": "stream",
     "text": [
      " 50%|███████████████████████████████████████▌                                       | 500/1000 [13:27<13:21,  1.60s/it]"
     ]
    },
    {
     "name": "stdout",
     "output_type": "stream",
     "text": [
      "Loss = 0.302168,Accuracy_value = 0.969785,Accuracy_instance = 0.000000\n",
      "Label_One_Predict_One = 0.408357,Predict_One_Label_One = 0.545914,Nombre_Predict_One = 26.200000,Nombre_One_Mean = 34.650000\n",
      "Label_Zero_Predict_Zero = 0.988491,Label_Zero_Predict_Zero = 0.980428,Nombre_Predict_Zero = 1089.800000,Nombre_Zero_Mean = 1081.350000\n",
      "Accuracy_fixe_mean = 0.985461,Accuracy_fixe_one = 0.549940,Accuracy_fixe_zero = 0.988972\n",
      "\n"
     ]
    },
    {
     "name": "stderr",
     "output_type": "stream",
     "text": [
      " 55%|███████████████████████████████████████████▍                                   | 550/1000 [14:48<12:02,  1.61s/it]"
     ]
    },
    {
     "name": "stdout",
     "output_type": "stream",
     "text": [
      "Loss = 0.346536,Accuracy_value = 0.969427,Accuracy_instance = 0.000000\n",
      "Label_One_Predict_One = 0.444830,Predict_One_Label_One = 0.536897,Nombre_Predict_One = 28.950000,Nombre_One_Mean = 34.650000\n",
      "Label_Zero_Predict_Zero = 0.986836,Label_Zero_Predict_Zero = 0.981641,Nombre_Predict_Zero = 1087.050000,Nombre_Zero_Mean = 1081.350000\n",
      "Accuracy_fixe_mean = 0.985081,Accuracy_fixe_one = 0.539050,Accuracy_fixe_zero = 0.988945\n",
      "\n"
     ]
    },
    {
     "name": "stderr",
     "output_type": "stream",
     "text": [
      " 60%|███████████████████████████████████████████████▍                               | 600/1000 [16:09<10:45,  1.61s/it]"
     ]
    },
    {
     "name": "stdout",
     "output_type": "stream",
     "text": [
      "Loss = 0.383074,Accuracy_value = 0.967384,Accuracy_instance = 0.000000\n",
      "Label_One_Predict_One = 0.430537,Predict_One_Label_One = 0.505762,Nombre_Predict_One = 30.050000,Nombre_One_Mean = 34.650000\n",
      "Label_Zero_Predict_Zero = 0.985146,Label_Zero_Predict_Zero = 0.981191,Nombre_Predict_Zero = 1085.950000,Nombre_Zero_Mean = 1081.350000\n",
      "Accuracy_fixe_mean = 0.983423,Accuracy_fixe_one = 0.553371,Accuracy_fixe_zero = 0.988678\n",
      "\n"
     ]
    },
    {
     "name": "stderr",
     "output_type": "stream",
     "text": [
      " 65%|███████████████████████████████████████████████████▎                           | 650/1000 [17:30<09:34,  1.64s/it]"
     ]
    },
    {
     "name": "stdout",
     "output_type": "stream",
     "text": [
      "Loss = 0.477142,Accuracy_value = 0.967563,Accuracy_instance = 0.000000\n",
      "Label_One_Predict_One = 0.434493,Predict_One_Label_One = 0.502050,Nombre_Predict_One = 30.150000,Nombre_One_Mean = 34.650000\n",
      "Label_Zero_Predict_Zero = 0.985315,Label_Zero_Predict_Zero = 0.981220,Nombre_Predict_Zero = 1085.850000,Nombre_Zero_Mean = 1081.350000\n",
      "Accuracy_fixe_mean = 0.982572,Accuracy_fixe_one = 0.553085,Accuracy_fixe_zero = 0.988236\n",
      "\n"
     ]
    },
    {
     "name": "stderr",
     "output_type": "stream",
     "text": [
      " 70%|███████████████████████████████████████████████████████▎                       | 700/1000 [18:51<08:00,  1.60s/it]"
     ]
    },
    {
     "name": "stdout",
     "output_type": "stream",
     "text": [
      "Loss = 0.522802,Accuracy_value = 0.967043,Accuracy_instance = 0.000000\n",
      "Label_One_Predict_One = 0.406926,Predict_One_Label_One = 0.492696,Nombre_Predict_One = 28.850000,Nombre_One_Mean = 34.650000\n",
      "Label_Zero_Predict_Zero = 0.985706,Label_Zero_Predict_Zero = 0.980323,Nombre_Predict_Zero = 1087.150000,Nombre_Zero_Mean = 1081.350000\n",
      "Accuracy_fixe_mean = 0.982124,Accuracy_fixe_one = 0.585984,Accuracy_fixe_zero = 0.987292\n",
      "\n"
     ]
    },
    {
     "name": "stderr",
     "output_type": "stream",
     "text": [
      " 75%|███████████████████████████████████████████████████████████▎                   | 750/1000 [20:12<06:46,  1.63s/it]"
     ]
    },
    {
     "name": "stdout",
     "output_type": "stream",
     "text": [
      "Loss = 0.587943,Accuracy_value = 0.965448,Accuracy_instance = 0.000000\n",
      "Label_One_Predict_One = 0.381158,Predict_One_Label_One = 0.464780,Nombre_Predict_One = 28.800000,Nombre_One_Mean = 34.650000\n",
      "Label_Zero_Predict_Zero = 0.984834,Label_Zero_Predict_Zero = 0.979540,Nombre_Predict_Zero = 1087.200000,Nombre_Zero_Mean = 1081.350000\n",
      "Accuracy_fixe_mean = 0.981407,Accuracy_fixe_one = 0.554652,Accuracy_fixe_zero = 0.986860\n",
      "\n"
     ]
    },
    {
     "name": "stderr",
     "output_type": "stream",
     "text": [
      " 80%|███████████████████████████████████████████████████████████████▏               | 800/1000 [21:33<05:21,  1.61s/it]"
     ]
    },
    {
     "name": "stdout",
     "output_type": "stream",
     "text": [
      "Loss = 0.623429,Accuracy_value = 0.965789,Accuracy_instance = 0.000000\n",
      "Label_One_Predict_One = 0.415511,Predict_One_Label_One = 0.470200,Nombre_Predict_One = 30.950000,Nombre_One_Mean = 34.650000\n",
      "Label_Zero_Predict_Zero = 0.984078,Label_Zero_Predict_Zero = 0.980612,Nombre_Predict_Zero = 1085.050000,Nombre_Zero_Mean = 1081.350000\n",
      "Accuracy_fixe_mean = 0.982079,Accuracy_fixe_one = 0.551911,Accuracy_fixe_zero = 0.987430\n",
      "\n"
     ]
    },
    {
     "name": "stderr",
     "output_type": "stream",
     "text": [
      " 85%|███████████████████████████████████████████████████████████████████▏           | 850/1000 [22:54<03:59,  1.60s/it]"
     ]
    },
    {
     "name": "stdout",
     "output_type": "stream",
     "text": [
      "Loss = 0.682861,Accuracy_value = 0.964713,Accuracy_instance = 0.000000\n",
      "Label_One_Predict_One = 0.408567,Predict_One_Label_One = 0.456063,Nombre_Predict_One = 31.650000,Nombre_One_Mean = 34.650000\n",
      "Label_Zero_Predict_Zero = 0.983150,Label_Zero_Predict_Zero = 0.980417,Nombre_Predict_Zero = 1084.350000,Nombre_Zero_Mean = 1081.350000\n",
      "Accuracy_fixe_mean = 0.981295,Accuracy_fixe_one = 0.553115,Accuracy_fixe_zero = 0.986910\n",
      "\n"
     ]
    },
    {
     "name": "stderr",
     "output_type": "stream",
     "text": [
      " 90%|███████████████████████████████████████████████████████████████████████        | 900/1000 [24:14<02:39,  1.60s/it]"
     ]
    },
    {
     "name": "stdout",
     "output_type": "stream",
     "text": [
      "Loss = 0.743088,Accuracy_value = 0.964462,Accuracy_instance = 0.000000\n",
      "Label_One_Predict_One = 0.425679,Predict_One_Label_One = 0.456121,Nombre_Predict_One = 33.100000,Nombre_One_Mean = 34.650000\n",
      "Label_Zero_Predict_Zero = 0.982373,Label_Zero_Predict_Zero = 0.980908,Nombre_Predict_Zero = 1082.900000,Nombre_Zero_Mean = 1081.350000\n",
      "Accuracy_fixe_mean = 0.981205,Accuracy_fixe_one = 0.564585,Accuracy_fixe_zero = 0.986773\n",
      "\n"
     ]
    },
    {
     "name": "stderr",
     "output_type": "stream",
     "text": [
      " 95%|███████████████████████████████████████████████████████████████████████████    | 950/1000 [25:36<01:21,  1.62s/it]"
     ]
    },
    {
     "name": "stdout",
     "output_type": "stream",
     "text": [
      "Loss = 0.780026,Accuracy_value = 0.964659,Accuracy_instance = 0.000000\n",
      "Label_One_Predict_One = 0.413915,Predict_One_Label_One = 0.452311,Nombre_Predict_One = 32.100000,Nombre_One_Mean = 34.650000\n",
      "Label_Zero_Predict_Zero = 0.983024,Label_Zero_Predict_Zero = 0.980487,Nombre_Predict_Zero = 1083.900000,Nombre_Zero_Mean = 1081.350000\n",
      "Accuracy_fixe_mean = 0.980152,Accuracy_fixe_one = 0.547539,Accuracy_fixe_zero = 0.986323\n",
      "\n"
     ]
    },
    {
     "name": "stderr",
     "output_type": "stream",
     "text": [
      "100%|██████████████████████████████████████████████████████████████████████████████| 1000/1000 [26:57<00:00,  1.62s/it]\n",
      "  0%|                                                                                         | 0/1000 [00:00<?, ?it/s]"
     ]
    },
    {
     "name": "stdout",
     "output_type": "stream",
     "text": [
      "Loss = 0.752434,Accuracy_value = 0.963477,Accuracy_instance = 0.000000\n",
      "Label_One_Predict_One = 0.375723,Predict_One_Label_One = 0.417497,Nombre_Predict_One = 31.800000,Nombre_One_Mean = 34.800000\n",
      "Label_Zero_Predict_Zero = 0.982441,Label_Zero_Predict_Zero = 0.979870,Nombre_Predict_Zero = 1107.450000,Nombre_Zero_Mean = 1104.450000\n",
      "Accuracy_fixe_mean = 0.980242,Accuracy_fixe_one = 0.529095,Accuracy_fixe_zero = 0.986348\n",
      "\n",
      "Loss = 3.281420,Accuracy_value = 0.345932,Accuracy_instance = 0.000000\n",
      "Label_One_Predict_One = 0.742591,Predict_One_Label_One = 0.035775,Nombre_Predict_One = 753.300000,Nombre_One_Mean = 34.650000\n",
      "Label_Zero_Predict_Zero = 0.333066,Label_Zero_Predict_Zero = 0.974907,Nombre_Predict_Zero = 362.700000,Nombre_Zero_Mean = 1081.350000\n",
      "Accuracy_fixe_mean = 0.301322,Accuracy_fixe_one = 0.038927,Accuracy_fixe_zero = 0.974433\n",
      "\n"
     ]
    },
    {
     "name": "stderr",
     "output_type": "stream",
     "text": [
      "  5%|████                                                                            | 50/1000 [01:20<25:18,  1.60s/it]"
     ]
    },
    {
     "name": "stdout",
     "output_type": "stream",
     "text": [
      "Loss = 0.148477,Accuracy_value = 0.976577,Accuracy_instance = 0.000000\n",
      "Label_One_Predict_One = 0.423431,Predict_One_Label_One = 0.735922,Nombre_Predict_One = 20.200000,Nombre_One_Mean = 34.650000\n",
      "Label_Zero_Predict_Zero = 0.994871,Label_Zero_Predict_Zero = 0.981194,Nombre_Predict_Zero = 1095.800000,Nombre_Zero_Mean = 1081.350000\n",
      "Accuracy_fixe_mean = 0.994534,Accuracy_fixe_one = 0.000000,Accuracy_fixe_zero = 0.994534\n",
      "\n"
     ]
    },
    {
     "name": "stderr",
     "output_type": "stream",
     "text": [
      " 10%|███████▉                                                                       | 100/1000 [02:41<24:07,  1.61s/it]"
     ]
    },
    {
     "name": "stdout",
     "output_type": "stream",
     "text": [
      "Loss = 0.151510,Accuracy_value = 0.975448,Accuracy_instance = 0.000000\n",
      "Label_One_Predict_One = 0.498746,Predict_One_Label_One = 0.656367,Nombre_Predict_One = 26.450000,Nombre_One_Mean = 34.650000\n",
      "Label_Zero_Predict_Zero = 0.991159,Label_Zero_Predict_Zero = 0.983584,Nombre_Predict_Zero = 1089.550000,Nombre_Zero_Mean = 1081.350000\n",
      "Accuracy_fixe_mean = 0.994400,Accuracy_fixe_one = 0.000000,Accuracy_fixe_zero = 0.994466\n",
      "\n"
     ]
    },
    {
     "name": "stderr",
     "output_type": "stream",
     "text": [
      " 15%|███████████▊                                                                   | 150/1000 [04:03<23:32,  1.66s/it]"
     ]
    },
    {
     "name": "stdout",
     "output_type": "stream",
     "text": [
      "Loss = 0.166162,Accuracy_value = 0.974391,Accuracy_instance = 0.000000\n",
      "Label_One_Predict_One = 0.411874,Predict_One_Label_One = 0.662831,Nombre_Predict_One = 21.700000,Nombre_One_Mean = 34.650000\n",
      "Label_Zero_Predict_Zero = 0.992978,Label_Zero_Predict_Zero = 0.980791,Nombre_Predict_Zero = 1094.300000,Nombre_Zero_Mean = 1081.350000\n",
      "Accuracy_fixe_mean = 0.992764,Accuracy_fixe_one = 0.333333,Accuracy_fixe_zero = 0.993004\n",
      "\n"
     ]
    },
    {
     "name": "stderr",
     "output_type": "stream",
     "text": [
      " 20%|███████████████▊                                                               | 200/1000 [05:23<21:27,  1.61s/it]"
     ]
    },
    {
     "name": "stdout",
     "output_type": "stream",
     "text": [
      "Loss = 0.180031,Accuracy_value = 0.973172,Accuracy_instance = 0.000000\n",
      "Label_One_Predict_One = 0.374223,Predict_One_Label_One = 0.647356,Nombre_Predict_One = 20.350000,Nombre_One_Mean = 34.650000\n",
      "Label_Zero_Predict_Zero = 0.992939,Label_Zero_Predict_Zero = 0.979605,Nombre_Predict_Zero = 1095.650000,Nombre_Zero_Mean = 1081.350000\n",
      "Accuracy_fixe_mean = 0.991398,Accuracy_fixe_one = 0.629167,Accuracy_fixe_zero = 0.992073\n",
      "\n"
     ]
    },
    {
     "name": "stderr",
     "output_type": "stream",
     "text": [
      " 25%|███████████████████▊                                                           | 250/1000 [06:45<20:00,  1.60s/it]"
     ]
    },
    {
     "name": "stdout",
     "output_type": "stream",
     "text": [
      "Loss = 0.203078,Accuracy_value = 0.972975,Accuracy_instance = 0.000000\n",
      "Label_One_Predict_One = 0.468779,Predict_One_Label_One = 0.599654,Nombre_Predict_One = 27.150000,Nombre_One_Mean = 34.650000\n",
      "Label_Zero_Predict_Zero = 0.989434,Label_Zero_Predict_Zero = 0.982742,Nombre_Predict_Zero = 1088.850000,Nombre_Zero_Mean = 1081.350000\n",
      "Accuracy_fixe_mean = 0.989807,Accuracy_fixe_one = 0.593274,Accuracy_fixe_zero = 0.991971\n",
      "\n"
     ]
    },
    {
     "name": "stderr",
     "output_type": "stream",
     "text": [
      " 30%|███████████████████████▋                                                       | 300/1000 [08:07<18:56,  1.62s/it]"
     ]
    },
    {
     "name": "stdout",
     "output_type": "stream",
     "text": [
      "Loss = 0.218250,Accuracy_value = 0.970878,Accuracy_instance = 0.000000\n",
      "Label_One_Predict_One = 0.416123,Predict_One_Label_One = 0.565875,Nombre_Predict_One = 25.550000,Nombre_One_Mean = 34.650000\n",
      "Label_Zero_Predict_Zero = 0.989210,Label_Zero_Predict_Zero = 0.980841,Nombre_Predict_Zero = 1090.450000,Nombre_Zero_Mean = 1081.350000\n",
      "Accuracy_fixe_mean = 0.989561,Accuracy_fixe_one = 0.625278,Accuracy_fixe_zero = 0.991349\n",
      "\n"
     ]
    },
    {
     "name": "stderr",
     "output_type": "stream",
     "text": [
      " 35%|███████████████████████████▋                                                   | 350/1000 [09:28<17:27,  1.61s/it]"
     ]
    },
    {
     "name": "stdout",
     "output_type": "stream",
     "text": [
      "Loss = 0.241745,Accuracy_value = 0.970394,Accuracy_instance = 0.000000\n",
      "Label_One_Predict_One = 0.473553,Predict_One_Label_One = 0.544655,Nombre_Predict_One = 30.000000,Nombre_One_Mean = 34.650000\n",
      "Label_Zero_Predict_Zero = 0.986838,Label_Zero_Predict_Zero = 0.982627,Nombre_Predict_Zero = 1086.000000,Nombre_Zero_Mean = 1081.350000\n",
      "Accuracy_fixe_mean = 0.987433,Accuracy_fixe_one = 0.558697,Accuracy_fixe_zero = 0.990751\n",
      "\n"
     ]
    },
    {
     "name": "stderr",
     "output_type": "stream",
     "text": [
      " 40%|███████████████████████████████▌                                               | 400/1000 [10:49<16:00,  1.60s/it]"
     ]
    },
    {
     "name": "stdout",
     "output_type": "stream",
     "text": [
      "Loss = 0.259561,Accuracy_value = 0.969570,Accuracy_instance = 0.000000\n",
      "Label_One_Predict_One = 0.428499,Predict_One_Label_One = 0.535631,Nombre_Predict_One = 27.700000,Nombre_One_Mean = 34.650000\n",
      "Label_Zero_Predict_Zero = 0.987561,Label_Zero_Predict_Zero = 0.981100,Nombre_Predict_Zero = 1088.300000,Nombre_Zero_Mean = 1081.350000\n",
      "Accuracy_fixe_mean = 0.986649,Accuracy_fixe_one = 0.605742,Accuracy_fixe_zero = 0.989563\n",
      "\n"
     ]
    },
    {
     "name": "stderr",
     "output_type": "stream",
     "text": [
      " 45%|███████████████████████████████████▌                                           | 450/1000 [12:10<14:37,  1.60s/it]"
     ]
    },
    {
     "name": "stdout",
     "output_type": "stream",
     "text": [
      "Loss = 0.293354,Accuracy_value = 0.969068,Accuracy_instance = 0.000000\n",
      "Label_One_Predict_One = 0.464080,Predict_One_Label_One = 0.519001,Nombre_Predict_One = 30.700000,Nombre_One_Mean = 34.650000\n",
      "Label_Zero_Predict_Zero = 0.985628,Label_Zero_Predict_Zero = 0.982440,Nombre_Predict_Zero = 1085.300000,Nombre_Zero_Mean = 1081.350000\n",
      "Accuracy_fixe_mean = 0.985484,Accuracy_fixe_one = 0.491107,Accuracy_fixe_zero = 0.990347\n",
      "\n"
     ]
    },
    {
     "name": "stderr",
     "output_type": "stream",
     "text": [
      " 50%|███████████████████████████████████████▌                                       | 500/1000 [13:31<13:26,  1.61s/it]"
     ]
    },
    {
     "name": "stdout",
     "output_type": "stream",
     "text": [
      "Loss = 0.349457,Accuracy_value = 0.968656,Accuracy_instance = 0.000000\n",
      "Label_One_Predict_One = 0.451457,Predict_One_Label_One = 0.508378,Nombre_Predict_One = 30.450000,Nombre_One_Mean = 34.650000\n",
      "Label_Zero_Predict_Zero = 0.985575,Label_Zero_Predict_Zero = 0.982085,Nombre_Predict_Zero = 1085.550000,Nombre_Zero_Mean = 1081.350000\n",
      "Accuracy_fixe_mean = 0.984207,Accuracy_fixe_one = 0.529657,Accuracy_fixe_zero = 0.989879\n",
      "\n"
     ]
    },
    {
     "name": "stderr",
     "output_type": "stream",
     "text": [
      " 55%|███████████████████████████████████████████▍                                   | 550/1000 [14:52<11:57,  1.59s/it]"
     ]
    },
    {
     "name": "stdout",
     "output_type": "stream",
     "text": [
      "Loss = 0.383112,Accuracy_value = 0.967814,Accuracy_instance = 0.000000\n",
      "Label_One_Predict_One = 0.420908,Predict_One_Label_One = 0.495945,Nombre_Predict_One = 29.300000,Nombre_One_Mean = 34.650000\n",
      "Label_Zero_Predict_Zero = 0.985744,Label_Zero_Predict_Zero = 0.981068,Nombre_Predict_Zero = 1086.700000,Nombre_Zero_Mean = 1081.350000\n",
      "Accuracy_fixe_mean = 0.983423,Accuracy_fixe_one = 0.538128,Accuracy_fixe_zero = 0.988296\n",
      "\n"
     ]
    },
    {
     "name": "stderr",
     "output_type": "stream",
     "text": [
      " 60%|███████████████████████████████████████████████▍                               | 600/1000 [16:13<10:43,  1.61s/it]"
     ]
    },
    {
     "name": "stdout",
     "output_type": "stream",
     "text": [
      "Loss = 0.418517,Accuracy_value = 0.967993,Accuracy_instance = 0.000000\n",
      "Label_One_Predict_One = 0.417843,Predict_One_Label_One = 0.497543,Nombre_Predict_One = 28.800000,Nombre_One_Mean = 34.650000\n",
      "Label_Zero_Predict_Zero = 0.986077,Label_Zero_Predict_Zero = 0.980932,Nombre_Predict_Zero = 1087.200000,Nombre_Zero_Mean = 1081.350000\n",
      "Accuracy_fixe_mean = 0.983781,Accuracy_fixe_one = 0.539028,Accuracy_fixe_zero = 0.988637\n",
      "\n"
     ]
    },
    {
     "name": "stderr",
     "output_type": "stream",
     "text": [
      " 65%|███████████████████████████████████████████████████▎                           | 650/1000 [17:40<09:50,  1.69s/it]"
     ]
    },
    {
     "name": "stdout",
     "output_type": "stream",
     "text": [
      "Loss = 0.474290,Accuracy_value = 0.967294,Accuracy_instance = 0.000000\n",
      "Label_One_Predict_One = 0.464115,Predict_One_Label_One = 0.498840,Nombre_Predict_One = 32.550000,Nombre_One_Mean = 34.650000\n",
      "Label_Zero_Predict_Zero = 0.983829,Label_Zero_Predict_Zero = 0.982375,Nombre_Predict_Zero = 1083.450000,Nombre_Zero_Mean = 1081.350000\n",
      "Accuracy_fixe_mean = 0.982661,Accuracy_fixe_one = 0.583377,Accuracy_fixe_zero = 0.987948\n",
      "\n"
     ]
    },
    {
     "name": "stderr",
     "output_type": "stream",
     "text": [
      " 70%|███████████████████████████████████████████████████████▎                       | 700/1000 [19:05<08:24,  1.68s/it]"
     ]
    },
    {
     "name": "stdout",
     "output_type": "stream",
     "text": [
      "Loss = 0.515554,Accuracy_value = 0.966308,Accuracy_instance = 0.000000\n",
      "Label_One_Predict_One = 0.438996,Predict_One_Label_One = 0.480489,Nombre_Predict_One = 31.700000,Nombre_One_Mean = 34.650000\n",
      "Label_Zero_Predict_Zero = 0.983753,Label_Zero_Predict_Zero = 0.981439,Nombre_Predict_Zero = 1084.300000,Nombre_Zero_Mean = 1081.350000\n",
      "Accuracy_fixe_mean = 0.981519,Accuracy_fixe_one = 0.576974,Accuracy_fixe_zero = 0.987926\n",
      "\n"
     ]
    },
    {
     "name": "stderr",
     "output_type": "stream",
     "text": [
      " 75%|███████████████████████████████████████████████████████████▎                   | 750/1000 [20:31<07:02,  1.69s/it]"
     ]
    },
    {
     "name": "stdout",
     "output_type": "stream",
     "text": [
      "Loss = 0.584716,Accuracy_value = 0.965950,Accuracy_instance = 0.000000\n",
      "Label_One_Predict_One = 0.462320,Predict_One_Label_One = 0.478154,Nombre_Predict_One = 33.750000,Nombre_One_Mean = 34.650000\n",
      "Label_Zero_Predict_Zero = 0.982548,Label_Zero_Predict_Zero = 0.982234,Nombre_Predict_Zero = 1082.250000,Nombre_Zero_Mean = 1081.350000\n",
      "Accuracy_fixe_mean = 0.979727,Accuracy_fixe_one = 0.572380,Accuracy_fixe_zero = 0.987306\n",
      "\n"
     ]
    },
    {
     "name": "stderr",
     "output_type": "stream",
     "text": [
      " 80%|███████████████████████████████████████████████████████████████▏               | 800/1000 [21:56<05:40,  1.70s/it]"
     ]
    },
    {
     "name": "stdout",
     "output_type": "stream",
     "text": [
      "Loss = 0.597219,Accuracy_value = 0.965663,Accuracy_instance = 0.000000\n",
      "Label_One_Predict_One = 0.442222,Predict_One_Label_One = 0.481120,Nombre_Predict_One = 32.450000,Nombre_One_Mean = 34.650000\n",
      "Label_Zero_Predict_Zero = 0.982914,Label_Zero_Predict_Zero = 0.981586,Nombre_Predict_Zero = 1083.550000,Nombre_Zero_Mean = 1081.350000\n",
      "Accuracy_fixe_mean = 0.979346,Accuracy_fixe_one = 0.599619,Accuracy_fixe_zero = 0.986399\n",
      "\n"
     ]
    },
    {
     "name": "stderr",
     "output_type": "stream",
     "text": [
      " 85%|███████████████████████████████████████████████████████████████████▏           | 850/1000 [23:22<04:14,  1.70s/it]"
     ]
    },
    {
     "name": "stdout",
     "output_type": "stream",
     "text": [
      "Loss = 0.624183,Accuracy_value = 0.963996,Accuracy_instance = 0.000000\n",
      "Label_One_Predict_One = 0.426375,Predict_One_Label_One = 0.449053,Nombre_Predict_One = 33.450000,Nombre_One_Mean = 34.650000\n",
      "Label_Zero_Predict_Zero = 0.981716,Label_Zero_Predict_Zero = 0.981062,Nombre_Predict_Zero = 1082.550000,Nombre_Zero_Mean = 1081.350000\n",
      "Accuracy_fixe_mean = 0.979391,Accuracy_fixe_one = 0.565727,Accuracy_fixe_zero = 0.986649\n",
      "\n"
     ]
    },
    {
     "name": "stderr",
     "output_type": "stream",
     "text": [
      " 90%|███████████████████████████████████████████████████████████████████████        | 900/1000 [24:47<02:48,  1.69s/it]"
     ]
    },
    {
     "name": "stdout",
     "output_type": "stream",
     "text": [
      "Loss = 0.642895,Accuracy_value = 0.964337,Accuracy_instance = 0.000000\n",
      "Label_One_Predict_One = 0.424986,Predict_One_Label_One = 0.455967,Nombre_Predict_One = 32.900000,Nombre_One_Mean = 34.650000\n",
      "Label_Zero_Predict_Zero = 0.982103,Label_Zero_Predict_Zero = 0.981031,Nombre_Predict_Zero = 1083.100000,Nombre_Zero_Mean = 1081.350000\n",
      "Accuracy_fixe_mean = 0.979303,Accuracy_fixe_one = 0.614816,Accuracy_fixe_zero = 0.986100\n",
      "\n"
     ]
    },
    {
     "name": "stderr",
     "output_type": "stream",
     "text": [
      " 95%|███████████████████████████████████████████████████████████████████████████    | 950/1000 [26:12<01:23,  1.67s/it]"
     ]
    },
    {
     "name": "stdout",
     "output_type": "stream",
     "text": [
      "Loss = 0.703388,Accuracy_value = 0.964050,Accuracy_instance = 0.000000\n",
      "Label_One_Predict_One = 0.423770,Predict_One_Label_One = 0.445117,Nombre_Predict_One = 33.500000,Nombre_One_Mean = 34.650000\n",
      "Label_Zero_Predict_Zero = 0.981739,Label_Zero_Predict_Zero = 0.981106,Nombre_Predict_Zero = 1082.500000,Nombre_Zero_Mean = 1081.350000\n",
      "Accuracy_fixe_mean = 0.979256,Accuracy_fixe_one = 0.585149,Accuracy_fixe_zero = 0.986303\n",
      "\n"
     ]
    },
    {
     "name": "stderr",
     "output_type": "stream",
     "text": [
      "100%|██████████████████████████████████████████████████████████████████████████████| 1000/1000 [27:38<00:00,  1.66s/it]\n",
      "  0%|                                                                                         | 0/1000 [00:00<?, ?it/s]"
     ]
    },
    {
     "name": "stdout",
     "output_type": "stream",
     "text": [
      "Loss = 0.640950,Accuracy_value = 0.964910,Accuracy_instance = 0.000000\n",
      "Label_One_Predict_One = 0.406457,Predict_One_Label_One = 0.444784,Nombre_Predict_One = 32.200000,Nombre_One_Mean = 34.800000\n",
      "Label_Zero_Predict_Zero = 0.982824,Label_Zero_Predict_Zero = 0.980946,Nombre_Predict_Zero = 1107.050000,Nombre_Zero_Mean = 1104.450000\n",
      "Accuracy_fixe_mean = 0.981967,Accuracy_fixe_one = 0.604285,Accuracy_fixe_zero = 0.987496\n",
      "\n",
      "Loss = 2.101884,Accuracy_value = 0.908136,Accuracy_instance = 0.000000\n",
      "Label_One_Predict_One = 0.252255,Predict_One_Label_One = 0.107162,Nombre_Predict_One = 84.250000,Nombre_One_Mean = 34.650000\n",
      "Label_Zero_Predict_Zero = 0.929984,Label_Zero_Predict_Zero = 0.973931,Nombre_Predict_Zero = 1031.750000,Nombre_Zero_Mean = 1081.350000\n",
      "Accuracy_fixe_mean = 0.930824,Accuracy_fixe_one = 0.124259,Accuracy_fixe_zero = 0.975662\n",
      "\n"
     ]
    },
    {
     "name": "stderr",
     "output_type": "stream",
     "text": [
      "  5%|████                                                                            | 50/1000 [01:26<26:51,  1.70s/it]"
     ]
    },
    {
     "name": "stdout",
     "output_type": "stream",
     "text": [
      "Loss = 0.148641,Accuracy_value = 0.976649,Accuracy_instance = 0.000000\n",
      "Label_One_Predict_One = 0.433520,Predict_One_Label_One = 0.729250,Nombre_Predict_One = 20.750000,Nombre_One_Mean = 34.650000\n",
      "Label_Zero_Predict_Zero = 0.994609,Label_Zero_Predict_Zero = 0.981508,Nombre_Predict_Zero = 1095.250000,Nombre_Zero_Mean = 1081.350000\n",
      "Accuracy_fixe_mean = 0.994086,Accuracy_fixe_one = 0.000000,Accuracy_fixe_zero = 0.994086\n",
      "\n"
     ]
    },
    {
     "name": "stderr",
     "output_type": "stream",
     "text": [
      " 10%|███████▉                                                                       | 100/1000 [02:51<25:25,  1.70s/it]"
     ]
    },
    {
     "name": "stdout",
     "output_type": "stream",
     "text": [
      "Loss = 0.152863,Accuracy_value = 0.975520,Accuracy_instance = 0.000000\n",
      "Label_One_Predict_One = 0.518842,Predict_One_Label_One = 0.648847,Nombre_Predict_One = 27.900000,Nombre_One_Mean = 34.650000\n",
      "Label_Zero_Predict_Zero = 0.990588,Label_Zero_Predict_Zero = 0.984211,Nombre_Predict_Zero = 1088.100000,Nombre_Zero_Mean = 1081.350000\n",
      "Accuracy_fixe_mean = 0.994512,Accuracy_fixe_one = 0.000000,Accuracy_fixe_zero = 0.994512\n",
      "\n"
     ]
    },
    {
     "name": "stderr",
     "output_type": "stream",
     "text": [
      " 15%|███████████▊                                                                   | 150/1000 [04:17<23:54,  1.69s/it]"
     ]
    },
    {
     "name": "stdout",
     "output_type": "stream",
     "text": [
      "Loss = 0.167431,Accuracy_value = 0.973996,Accuracy_instance = 0.000000\n",
      "Label_One_Predict_One = 0.475593,Predict_One_Label_One = 0.623990,Nombre_Predict_One = 26.550000,Nombre_One_Mean = 34.650000\n",
      "Label_Zero_Predict_Zero = 0.990401,Label_Zero_Predict_Zero = 0.982850,Nombre_Predict_Zero = 1089.450000,Nombre_Zero_Mean = 1081.350000\n",
      "Accuracy_fixe_mean = 0.991980,Accuracy_fixe_one = 0.150000,Accuracy_fixe_zero = 0.992111\n",
      "\n"
     ]
    },
    {
     "name": "stderr",
     "output_type": "stream",
     "text": [
      " 20%|███████████████▊                                                               | 200/1000 [05:42<22:37,  1.70s/it]"
     ]
    },
    {
     "name": "stdout",
     "output_type": "stream",
     "text": [
      "Loss = 0.175093,Accuracy_value = 0.973781,Accuracy_instance = 0.000000\n",
      "Label_One_Predict_One = 0.496254,Predict_One_Label_One = 0.612553,Nombre_Predict_One = 28.100000,Nombre_One_Mean = 34.650000\n",
      "Label_Zero_Predict_Zero = 0.989453,Label_Zero_Predict_Zero = 0.983537,Nombre_Predict_Zero = 1087.900000,Nombre_Zero_Mean = 1081.350000\n",
      "Accuracy_fixe_mean = 0.991465,Accuracy_fixe_one = 0.416667,Accuracy_fixe_zero = 0.992037\n",
      "\n"
     ]
    },
    {
     "name": "stderr",
     "output_type": "stream",
     "text": [
      " 25%|███████████████████▊                                                           | 250/1000 [07:08<21:17,  1.70s/it]"
     ]
    },
    {
     "name": "stdout",
     "output_type": "stream",
     "text": [
      "Loss = 0.204918,Accuracy_value = 0.972384,Accuracy_instance = 0.000000\n",
      "Label_One_Predict_One = 0.455819,Predict_One_Label_One = 0.586409,Nombre_Predict_One = 26.900000,Nombre_One_Mean = 34.650000\n",
      "Label_Zero_Predict_Zero = 0.989344,Label_Zero_Predict_Zero = 0.982238,Nombre_Predict_Zero = 1089.100000,Nombre_Zero_Mean = 1081.350000\n",
      "Accuracy_fixe_mean = 0.991107,Accuracy_fixe_one = 0.592500,Accuracy_fixe_zero = 0.991850\n",
      "\n"
     ]
    },
    {
     "name": "stderr",
     "output_type": "stream",
     "text": [
      " 30%|███████████████████████▋                                                       | 300/1000 [08:33<19:38,  1.68s/it]"
     ]
    },
    {
     "name": "stdout",
     "output_type": "stream",
     "text": [
      "Loss = 0.220650,Accuracy_value = 0.970538,Accuracy_instance = 0.000000\n",
      "Label_One_Predict_One = 0.449248,Predict_One_Label_One = 0.552325,Nombre_Predict_One = 28.300000,Nombre_One_Mean = 34.650000\n",
      "Label_Zero_Predict_Zero = 0.987767,Label_Zero_Predict_Zero = 0.981878,Nombre_Predict_Zero = 1087.700000,Nombre_Zero_Mean = 1081.350000\n",
      "Accuracy_fixe_mean = 0.989852,Accuracy_fixe_one = 0.535060,Accuracy_fixe_zero = 0.991303\n",
      "\n"
     ]
    },
    {
     "name": "stderr",
     "output_type": "stream",
     "text": [
      " 35%|███████████████████████████▋                                                   | 350/1000 [09:58<18:20,  1.69s/it]"
     ]
    },
    {
     "name": "stdout",
     "output_type": "stream",
     "text": [
      "Loss = 0.258059,Accuracy_value = 0.970699,Accuracy_instance = 0.000000\n",
      "Label_One_Predict_One = 0.463707,Predict_One_Label_One = 0.562181,Nombre_Predict_One = 28.850000,Nombre_One_Mean = 34.650000\n",
      "Label_Zero_Predict_Zero = 0.987445,Label_Zero_Predict_Zero = 0.982339,Nombre_Predict_Zero = 1087.150000,Nombre_Zero_Mean = 1081.350000\n",
      "Accuracy_fixe_mean = 0.988530,Accuracy_fixe_one = 0.485833,Accuracy_fixe_zero = 0.990742\n",
      "\n"
     ]
    },
    {
     "name": "stderr",
     "output_type": "stream",
     "text": [
      " 40%|███████████████████████████████▌                                               | 400/1000 [11:23<17:01,  1.70s/it]"
     ]
    },
    {
     "name": "stdout",
     "output_type": "stream",
     "text": [
      "Loss = 0.285015,Accuracy_value = 0.969194,Accuracy_instance = 0.000000\n",
      "Label_One_Predict_One = 0.439120,Predict_One_Label_One = 0.531210,Nombre_Predict_One = 29.100000,Nombre_One_Mean = 34.650000\n",
      "Label_Zero_Predict_Zero = 0.986712,Label_Zero_Predict_Zero = 0.981537,Nombre_Predict_Zero = 1086.900000,Nombre_Zero_Mean = 1081.350000\n",
      "Accuracy_fixe_mean = 0.988396,Accuracy_fixe_one = 0.503611,Accuracy_fixe_zero = 0.990847\n",
      "\n"
     ]
    },
    {
     "name": "stderr",
     "output_type": "stream",
     "text": [
      " 45%|███████████████████████████████████▌                                           | 450/1000 [12:47<14:49,  1.62s/it]"
     ]
    },
    {
     "name": "stdout",
     "output_type": "stream",
     "text": [
      "Loss = 0.325719,Accuracy_value = 0.969642,Accuracy_instance = 0.000000\n",
      "Label_One_Predict_One = 0.440994,Predict_One_Label_One = 0.539561,Nombre_Predict_One = 28.450000,Nombre_One_Mean = 34.650000\n",
      "Label_Zero_Predict_Zero = 0.987056,Label_Zero_Predict_Zero = 0.981644,Nombre_Predict_Zero = 1087.550000,Nombre_Zero_Mean = 1081.350000\n",
      "Accuracy_fixe_mean = 0.987657,Accuracy_fixe_one = 0.593750,Accuracy_fixe_zero = 0.989851\n",
      "\n"
     ]
    },
    {
     "name": "stderr",
     "output_type": "stream",
     "text": [
      " 50%|███████████████████████████████████████▌                                       | 500/1000 [14:08<13:26,  1.61s/it]"
     ]
    },
    {
     "name": "stdout",
     "output_type": "stream",
     "text": [
      "Loss = 0.388246,Accuracy_value = 0.965932,Accuracy_instance = 0.000000\n",
      "Label_One_Predict_One = 0.374461,Predict_One_Label_One = 0.472483,Nombre_Predict_One = 27.700000,Nombre_One_Mean = 34.650000\n",
      "Label_Zero_Predict_Zero = 0.985440,Label_Zero_Predict_Zero = 0.979452,Nombre_Predict_Zero = 1088.300000,Nombre_Zero_Mean = 1081.350000\n",
      "Accuracy_fixe_mean = 0.985887,Accuracy_fixe_one = 0.656007,Accuracy_fixe_zero = 0.988552\n",
      "\n"
     ]
    },
    {
     "name": "stderr",
     "output_type": "stream",
     "text": [
      " 55%|███████████████████████████████████████████▍                                   | 550/1000 [15:33<14:30,  1.93s/it]"
     ]
    },
    {
     "name": "stdout",
     "output_type": "stream",
     "text": [
      "Loss = 0.404456,Accuracy_value = 0.968190,Accuracy_instance = 0.000000\n",
      "Label_One_Predict_One = 0.446671,Predict_One_Label_One = 0.524141,Nombre_Predict_One = 30.050000,Nombre_One_Mean = 34.650000\n",
      "Label_Zero_Predict_Zero = 0.985379,Label_Zero_Predict_Zero = 0.981775,Nombre_Predict_Zero = 1085.950000,Nombre_Zero_Mean = 1081.350000\n",
      "Accuracy_fixe_mean = 0.985484,Accuracy_fixe_one = 0.556084,Accuracy_fixe_zero = 0.988768\n",
      "\n"
     ]
    },
    {
     "name": "stderr",
     "output_type": "stream",
     "text": [
      " 60%|███████████████████████████████████████████████▍                               | 600/1000 [16:55<10:43,  1.61s/it]"
     ]
    },
    {
     "name": "stdout",
     "output_type": "stream",
     "text": [
      "Loss = 0.469724,Accuracy_value = 0.965789,Accuracy_instance = 0.000000\n",
      "Label_One_Predict_One = 0.436662,Predict_One_Label_One = 0.484869,Nombre_Predict_One = 31.900000,Nombre_One_Mean = 34.650000\n",
      "Label_Zero_Predict_Zero = 0.983228,Label_Zero_Predict_Zero = 0.981403,Nombre_Predict_Zero = 1084.100000,Nombre_Zero_Mean = 1081.350000\n",
      "Accuracy_fixe_mean = 0.985148,Accuracy_fixe_one = 0.581997,Accuracy_fixe_zero = 0.989044\n",
      "\n"
     ]
    },
    {
     "name": "stderr",
     "output_type": "stream",
     "text": [
      " 65%|███████████████████████████████████████████████████▎                           | 650/1000 [18:16<09:21,  1.60s/it]"
     ]
    },
    {
     "name": "stdout",
     "output_type": "stream",
     "text": [
      "Loss = 0.502807,Accuracy_value = 0.965806,Accuracy_instance = 0.000000\n",
      "Label_One_Predict_One = 0.465051,Predict_One_Label_One = 0.481711,Nombre_Predict_One = 34.100000,Nombre_One_Mean = 34.650000\n",
      "Label_Zero_Predict_Zero = 0.982383,Label_Zero_Predict_Zero = 0.982245,Nombre_Predict_Zero = 1081.900000,Nombre_Zero_Mean = 1081.350000\n",
      "Accuracy_fixe_mean = 0.984140,Accuracy_fixe_one = 0.571909,Accuracy_fixe_zero = 0.988761\n",
      "\n"
     ]
    },
    {
     "name": "stderr",
     "output_type": "stream",
     "text": [
      " 70%|███████████████████████████████████████████████████████▎                       | 700/1000 [19:37<08:01,  1.61s/it]"
     ]
    },
    {
     "name": "stdout",
     "output_type": "stream",
     "text": [
      "Loss = 0.606616,Accuracy_value = 0.965251,Accuracy_instance = 0.000000\n",
      "Label_One_Predict_One = 0.452470,Predict_One_Label_One = 0.463933,Nombre_Predict_One = 34.200000,Nombre_One_Mean = 34.650000\n",
      "Label_Zero_Predict_Zero = 0.982169,Label_Zero_Predict_Zero = 0.981902,Nombre_Predict_Zero = 1081.800000,Nombre_Zero_Mean = 1081.350000\n",
      "Accuracy_fixe_mean = 0.984879,Accuracy_fixe_one = 0.532642,Accuracy_fixe_zero = 0.989287\n",
      "\n"
     ]
    },
    {
     "name": "stderr",
     "output_type": "stream",
     "text": [
      " 75%|███████████████████████████████████████████████████████████▎                   | 750/1000 [20:58<06:42,  1.61s/it]"
     ]
    },
    {
     "name": "stdout",
     "output_type": "stream",
     "text": [
      "Loss = 0.653980,Accuracy_value = 0.963996,Accuracy_instance = 0.000000\n",
      "Label_One_Predict_One = 0.446872,Predict_One_Label_One = 0.446881,Nombre_Predict_One = 34.950000,Nombre_One_Mean = 34.650000\n",
      "Label_Zero_Predict_Zero = 0.981033,Label_Zero_Predict_Zero = 0.981716,Nombre_Predict_Zero = 1081.050000,Nombre_Zero_Mean = 1081.350000\n",
      "Accuracy_fixe_mean = 0.983938,Accuracy_fixe_one = 0.544780,Accuracy_fixe_zero = 0.988802\n",
      "\n"
     ]
    },
    {
     "name": "stderr",
     "output_type": "stream",
     "text": [
      " 80%|███████████████████████████████████████████████████████████████▏               | 800/1000 [22:19<05:20,  1.60s/it]"
     ]
    },
    {
     "name": "stdout",
     "output_type": "stream",
     "text": [
      "Loss = 0.694061,Accuracy_value = 0.963871,Accuracy_instance = 0.000000\n",
      "Label_One_Predict_One = 0.419465,Predict_One_Label_One = 0.440006,Nombre_Predict_One = 33.400000,Nombre_One_Mean = 34.650000\n",
      "Label_Zero_Predict_Zero = 0.981816,Label_Zero_Predict_Zero = 0.980842,Nombre_Predict_Zero = 1082.600000,Nombre_Zero_Mean = 1081.350000\n",
      "Accuracy_fixe_mean = 0.984812,Accuracy_fixe_one = 0.574569,Accuracy_fixe_zero = 0.989149\n",
      "\n"
     ]
    },
    {
     "name": "stderr",
     "output_type": "stream",
     "text": [
      " 85%|███████████████████████████████████████████████████████████████████▏           | 850/1000 [23:40<04:01,  1.61s/it]"
     ]
    },
    {
     "name": "stdout",
     "output_type": "stream",
     "text": [
      "Loss = 0.714036,Accuracy_value = 0.963172,Accuracy_instance = 0.000000\n",
      "Label_One_Predict_One = 0.410892,Predict_One_Label_One = 0.429504,Nombre_Predict_One = 33.500000,Nombre_One_Mean = 34.650000\n",
      "Label_Zero_Predict_Zero = 0.981332,Label_Zero_Predict_Zero = 0.980596,Nombre_Predict_Zero = 1082.500000,Nombre_Zero_Mean = 1081.350000\n",
      "Accuracy_fixe_mean = 0.985059,Accuracy_fixe_one = 0.592440,Accuracy_fixe_zero = 0.989124\n",
      "\n"
     ]
    },
    {
     "name": "stderr",
     "output_type": "stream",
     "text": [
      " 90%|███████████████████████████████████████████████████████████████████████        | 900/1000 [25:01<02:40,  1.61s/it]"
     ]
    },
    {
     "name": "stdout",
     "output_type": "stream",
     "text": [
      "Loss = 0.786639,Accuracy_value = 0.961774,Accuracy_instance = 0.000000\n",
      "Label_One_Predict_One = 0.417668,Predict_One_Label_One = 0.418778,Nombre_Predict_One = 35.400000,Nombre_One_Mean = 34.650000\n",
      "Label_Zero_Predict_Zero = 0.979776,Label_Zero_Predict_Zero = 0.980673,Nombre_Predict_Zero = 1080.600000,Nombre_Zero_Mean = 1081.350000\n",
      "Accuracy_fixe_mean = 0.984344,Accuracy_fixe_one = 0.541526,Accuracy_fixe_zero = 0.989055\n",
      "\n"
     ]
    },
    {
     "name": "stderr",
     "output_type": "stream",
     "text": [
      " 95%|███████████████████████████████████████████████████████████████████████████    | 950/1000 [26:23<01:20,  1.61s/it]"
     ]
    },
    {
     "name": "stdout",
     "output_type": "stream",
     "text": [
      "Loss = 0.794452,Accuracy_value = 0.960090,Accuracy_instance = 0.000000\n",
      "Label_One_Predict_One = 0.419141,Predict_One_Label_One = 0.397455,Nombre_Predict_One = 37.550000,Nombre_One_Mean = 34.650000\n",
      "Label_Zero_Predict_Zero = 0.977965,Label_Zero_Predict_Zero = 0.980716,Nombre_Predict_Zero = 1078.450000,Nombre_Zero_Mean = 1081.350000\n",
      "Accuracy_fixe_mean = 0.984096,Accuracy_fixe_one = 0.581591,Accuracy_fixe_zero = 0.988779\n",
      "\n"
     ]
    },
    {
     "name": "stderr",
     "output_type": "stream",
     "text": [
      "100%|██████████████████████████████████████████████████████████████████████████████| 1000/1000 [27:44<00:00,  1.66s/it]\n"
     ]
    },
    {
     "name": "stdout",
     "output_type": "stream",
     "text": [
      "Loss = 0.819227,Accuracy_value = 0.963190,Accuracy_instance = 0.000000\n",
      "Label_One_Predict_One = 0.415004,Predict_One_Label_One = 0.418990,Nombre_Predict_One = 35.150000,Nombre_One_Mean = 34.800000\n",
      "Label_Zero_Predict_Zero = 0.980836,Label_Zero_Predict_Zero = 0.981129,Nombre_Predict_Zero = 1104.100000,Nombre_Zero_Mean = 1104.450000\n",
      "Accuracy_fixe_mean = 0.982056,Accuracy_fixe_one = 0.511530,Accuracy_fixe_zero = 0.987729\n",
      "\n"
     ]
    }
   ],
   "source": [
    "nb_mlp = 6\n",
    "proportion = 0.8\n",
    "feature_size = 24\n",
    "H = 50\n",
    "info_valide = []\n",
    "gamma = 0.5\n",
    "alpha = 0.25\n",
    "batch_size = 1\n",
    "EPOCHS = 1000\n",
    "learning_rate = 0.001\n",
    "\n",
    "C = 0.75\n",
    "lam = 0.5\n",
    "for C in [0.25,0.5,0.75]:\n",
    "    for lam in [0.25,0.5,0.75]:\n",
    "#     criterion = nn.BCELoss()\n",
    "        criterion = SelectiveLoss(C,lam)\n",
    "    #     criterion = FocalLoss(gamma=gamma,alpha = alpha)\n",
    "        if criterion.__str__()==\"BCELoss()\":\n",
    "            train_name = data_name+\"_BCE_\"+\\\n",
    "                nb_mlp.__str__()+\"MLP_\"+H.__str__()+\"TailleH_\"+batch_size.__str__()+\"batch_size_\"+\"layernorm+cat\"\n",
    "        elif criterion.__str__()==\"FocalLoss()\":\n",
    "            train_name = data_name+\"_FL_\"+gamma.__str__()+\"Gamma_\"+alpha.__str__()+\"Alpha_\"+\\\n",
    "                nb_mlp.__str__()+\"MLP_\"+H.__str__()+\"TailleH_\"+batch_size.__str__()+\"batch_size_\"+\"layernorm+cat\"\n",
    "        elif criterion.__str__()==\"SelectiveLoss()\":\n",
    "            train_name = data_name+\"_SL_\"+C.__str__()+\"C_\"+lam.__str__()+\"Lambda_\"+\\\n",
    "                nb_mlp.__str__()+\"MLP_2\"\n",
    "        writer = SummaryWriter('./logs/'+data_name+\"/\"+train_name+\"/\")\n",
    "\n",
    "        net = VariablePredictorDiving(feature_size,H,nb_mlp)\n",
    "        net.to(device)\n",
    "        optm = Adam(net.parameters(), lr = learning_rate)\n",
    "\n",
    "        scheduler = torch.optim.lr_scheduler.ExponentialLR(optm, gamma=1-10e-6)\n",
    "        train(net,criterion,optm,data_valide_gpu,proportion,writer,batch_size = batch_size,EPOCHS=EPOCHS,\n",
    "                  do_valide = True,do_log = True,with_diving=True)\n",
    "\n",
    "        model_path = \"model/\"+train_name\n",
    "        torch.save(net.state_dict(),model_path)\n",
    "        msg=valide(net,criterion,data_test_gpu,with_diving = True,proportion = proportion)\n",
    "        info_valide.append(msg[1:])\n",
    "        with open('./logs/'+data_name+\"/\"+train_name+\"/valide_log.txt\", \"w\") as txtfile:\n",
    "            print(\"{}\".format(msg), file=txtfile)"
   ]
  },
  {
   "cell_type": "markdown",
   "metadata": {},
   "source": [
    "## Test"
   ]
  },
  {
   "cell_type": "code",
   "execution_count": 8,
   "metadata": {},
   "outputs": [
    {
     "name": "stdout",
     "output_type": "stream",
     "text": [
      "Loss = 0.706922,Accuracy_value = 0.980860,Accuracy_instance = 0.000000\n",
      "Label_One_Predict_One = 0.767647,Predict_One_Label_One = 0.742522,Nombre_Predict_One = 36.000000,Nombre_One_Mean = 34.000000\n",
      "Label_Zero_Predict_Zero = 0.988951,Label_Zero_Predict_Zero = 0.991153,Nombre_Predict_Zero = 894.000000,Nombre_Zero_Mean = 896.000000\n",
      "Accuracy_fixe_mean = 0.991936,Accuracy_fixe_one = 0.853492,Accuracy_fixe_zero = 0.994929\n",
      "\n"
     ]
    },
    {
     "data": {
      "text/plain": [
       "('Loss = 0.706922,Accuracy_value = 0.980860,Accuracy_instance = 0.000000\\nLabel_One_Predict_One = 0.767647,Predict_One_Label_One = 0.742522,Nombre_Predict_One = 36.000000,Nombre_One_Mean = 34.000000\\nLabel_Zero_Predict_Zero = 0.988951,Label_Zero_Predict_Zero = 0.991153,Nombre_Predict_Zero = 894.000000,Nombre_Zero_Mean = 896.000000\\nAccuracy_fixe_mean = 0.991936,Accuracy_fixe_one = 0.853492,Accuracy_fixe_zero = 0.994929\\n',\n",
       " 0.9808602150537634,\n",
       " 0.0,\n",
       " 0.8534921,\n",
       " 0.9949295,\n",
       " 0.74252194,\n",
       " 0.9911526)"
      ]
     },
     "execution_count": 8,
     "metadata": {},
     "output_type": "execute_result"
    }
   ],
   "source": [
    "train_name = \"CFL30_SL_0.75C_0.5Lambda_6MLP_50TailleH_1batch_size_layernorm+cat\"\n",
    "model_path = \"model/\"+train_name\n",
    "criterion = SelectiveLoss(C,lam)\n",
    "model = VariablePredictorDiving(24,50,6).to(device)\n",
    "model.load_state_dict(torch.load(model_path))\n",
    "valide(model,criterion,data_test_gpu,with_diving = True,proportion = 0.8)"
   ]
  },
  {
   "cell_type": "markdown",
   "metadata": {},
   "source": [
    "# Analyse\n"
   ]
  },
  {
   "cell_type": "code",
   "execution_count": 13,
   "metadata": {},
   "outputs": [],
   "source": [
    "def predict(model,data_validation):\n",
    "        predictions_values = []\n",
    "        is_predict_correct = []\n",
    "        data_size = len(data_validation)\n",
    "        y_hats = []\n",
    "        labels = []\n",
    "        for i in range(data_size):\n",
    "            if data_validation[0][0].device == \"cpu\":\n",
    "                inputs, label = torch.from_numpy(data_validation[i]['X']).float(),\\\n",
    "                                torch.from_numpy(data_validation[i]['Y']).type(torch.FloatTensor).float()\n",
    "                A = torch.from_numpy(data_validation[i]['A']).float()\n",
    "                inputs = inputs.to(device)\n",
    "                label = label.to(device)\n",
    "                A = A.to(device)\n",
    "            else:\n",
    "                inputs, label = data_validation[i][0],data_validation[i][1]\n",
    "                A =data_validation[i][2]\n",
    "                \n",
    "            predictions = model(inputs,A)[:len(label)].squeeze(dim=-1)\n",
    "            label = label.cpu()\n",
    "            predictions = predictions.cpu()\n",
    "            predictions_values.append(predictions)\n",
    "\n",
    "            aux= torch.Tensor([0.5])\n",
    "            y_hat = (predictions > aux).float() * 1\n",
    "            is_equal = torch.where(y_hat == label,1,0)\n",
    "            is_predict_correct.append(is_equal)\n",
    "            y_hats.append(y_hat)\n",
    "            labels.append(label)\n",
    "        return predictions_values,labels,y_hats,is_predict_correct\n",
    "\n",
    "def fixe_proportionally(predictions_values,labels,y_hat,is_predict_correct,proportion = 0.7): \n",
    "        hist_nb_one_fixe = []\n",
    "        hist_nb_zero_fixe = []\n",
    "        accuracy_fixe_one = []\n",
    "        accuracy_fixe_zero = []  \n",
    "        \n",
    "        data_size = len(predictions_values)\n",
    "        for i in range(data_size):\n",
    "            problem_size = len(y_hat[i])\n",
    "            nb_one_total = torch.sum(torch.where(labels[i] == 1,1,0))\n",
    "            nb_zero_total = (problem_size - nb_one_total)\n",
    "            aux= torch.Tensor([0.5])\n",
    "            predictions_norm =  np.abs(0.5 - predictions_values[i].detach().numpy())\n",
    "            thresholds = abs(np.sort(-predictions_norm))[int(proportion * problem_size)- 1]\n",
    "            nb_one_fixe = 0\n",
    "            nb_zero_fixe = 0\n",
    "            nb_correct_fixe_one = 0\n",
    "            nb_correct_fixe_zero = 0\n",
    "            nb_correct_fixe = 0\n",
    "            nb_fixe = 0 \n",
    "            for j,v in enumerate(is_predict_correct[i]):\n",
    "                if predictions_norm[j] >= thresholds:             \n",
    "                    if labels[i][j]:\n",
    "                        nb_correct_fixe_one += v\n",
    "                    else:\n",
    "                        nb_correct_fixe_zero += v\n",
    "                        \n",
    "                    if y_hat[i][j]:\n",
    "                        nb_one_fixe += 1\n",
    "                    else:\n",
    "                        nb_zero_fixe += 1\n",
    "            hist_nb_one_fixe.append(nb_one_fixe)\n",
    "            hist_nb_zero_fixe.append(nb_zero_fixe)\n",
    "            accuracy_fixe_one.append(nb_correct_fixe_one/nb_one_fixe if nb_one_fixe>0 else 0)\n",
    "            accuracy_fixe_zero.append(nb_correct_fixe_zero/nb_zero_fixe if nb_zero_fixe>0 else 0)\n",
    "        return np.mean(accuracy_fixe_one),np.mean(hist_nb_one_fixe),np.mean(accuracy_fixe_zero),np.mean(hist_nb_zero_fixe)\n",
    "    \n",
    "def fixe_one_epsilon(predictions_values,y_hats,labels,e = 0.01):\n",
    "    nbs_fixe = []\n",
    "    accs_fixe = []\n",
    "    props = []\n",
    "    data_size = len(data_validation)\n",
    "    thresholds = 1 - e\n",
    "    for i in range(data_size):\n",
    "        problem_size = len(labels[i])\n",
    "        nb_fixe = 0\n",
    "        nb_correct_fixe = 0\n",
    "        nb_one_total = torch.sum(torch.where(labels[i] == 1,1,0))\n",
    "        for j in range(problem_size):\n",
    "            if predictions[i][j] >= thresholds:  \n",
    "                nb_fixe += 1\n",
    "                if y_hats[i][j] and labels[i][j]:\n",
    "                    nb_correct_fixe += 1\n",
    "        nbs_fixe.append(nb_fixe)\n",
    "        accs_fixe.append(nb_correct_fixe/nb_fixe if nb_fixe > 0 else 0)        \n",
    "        props.append(nb_correct_fixe/nb_one_total)\n",
    "    return np.mean(accs_fixe),np.mean(nbs_fixe),np.mean(props)\n",
    "\n",
    "def get_cost_effective(data_instance):\n",
    "    features = data_instance[0]\n",
    "    labels = data_instance[1]\n",
    "    size = len(labels)\n",
    "    A=data_instance[2] \n",
    "    return [float(features[i][0]/sum(torch.where(A[i]==0,0,1))) for i in range(size)]\n",
    "\n",
    "\n",
    "\n",
    "    "
   ]
  },
  {
   "cell_type": "code",
   "execution_count": 218,
   "metadata": {},
   "outputs": [
    {
     "name": "stdout",
     "output_type": "stream",
     "text": [
      "Loss = 0.033526,Accuracy_value = 0.985000,Accuracy_instance = 0.000000\n",
      "Label_One_Predict_One = 0.800000,Predict_One_Label_One = 0.848485,Nombre_Predict_One = 33.000000,Nombre_One_Mean = 35.000000\n",
      "Label_Zero_Predict_Zero = 0.993464,Label_Zero_Predict_Zero = 0.990874,Nombre_Predict_Zero = 767.000000,Nombre_Zero_Mean = 765.000000\n",
      "Accuracy_fixe_mean = 0.985000,Accuracy_fixe_one = 0.848485,Accuracy_fixe_zero = 0.990874\n",
      "\n"
     ]
    }
   ],
   "source": [
    "_ = valide(net,criterion,[data_test_gpu[0]],proportion = 1)"
   ]
  },
  {
   "cell_type": "code",
   "execution_count": 15,
   "metadata": {},
   "outputs": [
    {
     "name": "stderr",
     "output_type": "stream",
     "text": [
      "100%|██████████████████████████████████████████████████████████████████████████████████| 45/45 [13:58<00:00, 18.63s/it]\n"
     ]
    }
   ],
   "source": [
    "prediction_mean = np.zeros((500))\n",
    "data_size = len(data_test_gpu)\n",
    "for i in tqdm(range(data_size)):\n",
    "    cost_effective = get_cost_effective(data_test_gpu[i])\n",
    "    aux_dict = {}\n",
    "    for j,v in enumerate(cost_effective):\n",
    "        aux_dict[j] = v\n",
    "    aux_dict = sorted(aux_dict.items(), key = lambda kv:(kv[1], kv[0]))\n",
    "    inputs, label = data_test_gpu[i][0],data_test_gpu[i][1]\n",
    "    A =data_test_gpu[i][2]\n",
    "\n",
    "    predictions = net(inputs,A)[:len(label)].squeeze(dim=-1)\n",
    "    label = label.cpu()\n",
    "    predictions = predictions.cpu()\n",
    "\n",
    "    cost_effective_reorder = []\n",
    "    predictions_reorder=[]\n",
    "    for idx in range(len(prediction_mean)):\n",
    "        prediction_mean[idx]+=float(predictions[aux_dict[idx][0]])\n"
   ]
  },
  {
   "cell_type": "code",
   "execution_count": 21,
   "metadata": {},
   "outputs": [],
   "source": [
    "A = A.cpu().numpy()"
   ]
  },
  {
   "cell_type": "code",
   "execution_count": 63,
   "metadata": {},
   "outputs": [
    {
     "name": "stdout",
     "output_type": "stream",
     "text": [
      "[[ 0.          0.          0.         ...  0.          0.\n",
      "   0.        ]\n",
      " [ 0.          0.          0.         ...  0.          0.\n",
      "  -0.04981355]\n",
      " [ 0.          0.          0.         ... -0.05234239  0.\n",
      "   0.        ]\n",
      " ...\n",
      " [ 0.          0.          0.         ...  0.          0.\n",
      "   0.        ]\n",
      " [ 0.          0.          0.         ...  0.          0.\n",
      "   0.        ]\n",
      " [ 0.          0.          0.         ...  0.          0.\n",
      "   0.        ]]\n"
     ]
    }
   ],
   "source": [
    "size = int(A.shape[0]/2)\n",
    "print(A[:size,size:])"
   ]
  },
  {
   "cell_type": "code",
   "execution_count": 164,
   "metadata": {},
   "outputs": [],
   "source": [
    "score = get_cost_effective(data_test_gpu[0])"
   ]
  },
  {
   "cell_type": "code",
   "execution_count": 16,
   "metadata": {},
   "outputs": [],
   "source": [
    "def heuristique(score,A):\n",
    "    size = len(score)\n",
    "    size_cons = A.shape[0] - size\n",
    "    A = A.cpu().numpy()[:size,size_cons:]\n",
    "    solution = np.zeros((size))\n",
    "    nb_cover_original = [len(np.where(A[i]==0)[0])for i in range(size)]\n",
    "    while len(A[0]) > 0:\n",
    "        nb_cover = [len(np.where(A[i]!=0)[0]) for i in range(size)]\n",
    "        i_max = 0\n",
    "        v_max = 0\n",
    "        for i,v in enumerate(score):\n",
    "            aux = v * nb_cover[i] / nb_cover_original[i]\n",
    "            if aux > v_max :\n",
    "                i_max = i\n",
    "                v_max = aux\n",
    "        solution[i_max] = 1\n",
    "        for i_cons in np.where(A[i_max]!=0)[0][::-1]:\n",
    "            A = np.delete(A, i_cons, axis=1)\n",
    "    return solution"
   ]
  },
  {
   "cell_type": "code",
   "execution_count": 14,
   "metadata": {},
   "outputs": [
    {
     "data": {
      "text/plain": [
       "<All keys matched successfully>"
      ]
     },
     "execution_count": 14,
     "metadata": {},
     "output_type": "execute_result"
    }
   ],
   "source": [
    "train_name = \"SC1000_BCE_3MLP_50TailleH_1batch_size_layernorm+cat\"\n",
    "model_path = \"model/\"+train_name\n",
    "criterion = nn.BCELoss()\n",
    "net = VariablePredictor(24,50,3).to(device)\n",
    "net.load_state_dict(torch.load(model_path))\n"
   ]
  },
  {
   "cell_type": "code",
   "execution_count": null,
   "metadata": {},
   "outputs": [],
   "source": [
    "valide(net,criterion,data_test_gpu,proportion = 0.8)"
   ]
  },
  {
   "cell_type": "code",
   "execution_count": 18,
   "metadata": {},
   "outputs": [
    {
     "name": "stderr",
     "output_type": "stream",
     "text": [
      "\r",
      "  0%|                                                                                           | 0/45 [00:00<?, ?it/s]"
     ]
    },
    {
     "name": "stdout",
     "output_type": "stream",
     "text": [
      "1000\n",
      "1000\n"
     ]
    },
    {
     "name": "stderr",
     "output_type": "stream",
     "text": [
      "\r",
      "  2%|█▊                                                                                 | 1/45 [00:03<02:55,  3.99s/it]"
     ]
    },
    {
     "name": "stdout",
     "output_type": "stream",
     "text": [
      "1000 1000\n",
      "1000 1000\n",
      "1000\n",
      "800\n"
     ]
    },
    {
     "name": "stderr",
     "output_type": "stream",
     "text": [
      "\r",
      "  4%|███▋                                                                               | 2/45 [00:08<03:15,  4.54s/it]"
     ]
    },
    {
     "name": "stdout",
     "output_type": "stream",
     "text": [
      "800 800\n",
      "800 800\n",
      "800\n",
      "1000\n"
     ]
    },
    {
     "name": "stderr",
     "output_type": "stream",
     "text": [
      "\r",
      "  7%|█████▌                                                                             | 3/45 [00:12<02:50,  4.05s/it]"
     ]
    },
    {
     "name": "stdout",
     "output_type": "stream",
     "text": [
      "1000 1000\n",
      "1000 1000\n",
      "1000\n",
      "500\n"
     ]
    },
    {
     "name": "stderr",
     "output_type": "stream",
     "text": [
      "\r",
      "  9%|███████▍                                                                           | 4/45 [00:14<02:15,  3.31s/it]"
     ]
    },
    {
     "name": "stdout",
     "output_type": "stream",
     "text": [
      "500 500\n",
      "500 500\n",
      "500\n",
      "1200\n"
     ]
    },
    {
     "name": "stderr",
     "output_type": "stream",
     "text": [
      "\r",
      " 11%|█████████▏                                                                         | 5/45 [00:48<09:38, 14.46s/it]"
     ]
    },
    {
     "name": "stdout",
     "output_type": "stream",
     "text": [
      "1200 1200\n",
      "1200 1200\n",
      "1200\n",
      "800\n"
     ]
    },
    {
     "name": "stderr",
     "output_type": "stream",
     "text": [
      "\r",
      " 13%|███████████                                                                        | 6/45 [00:53<07:08, 10.99s/it]"
     ]
    },
    {
     "name": "stdout",
     "output_type": "stream",
     "text": [
      "800 800\n",
      "800 800\n",
      "800\n",
      "1200\n"
     ]
    },
    {
     "name": "stderr",
     "output_type": "stream",
     "text": [
      "\r",
      " 16%|████████████▉                                                                      | 7/45 [01:25<11:29, 18.13s/it]"
     ]
    },
    {
     "name": "stdout",
     "output_type": "stream",
     "text": [
      "1200 1200\n",
      "1200 1200\n",
      "1200\n",
      "1000\n"
     ]
    },
    {
     "name": "stderr",
     "output_type": "stream",
     "text": [
      "\r",
      " 18%|██████████████▊                                                                    | 8/45 [01:28<08:11, 13.28s/it]"
     ]
    },
    {
     "name": "stdout",
     "output_type": "stream",
     "text": [
      "1000 1000\n",
      "1000 1000\n",
      "1000\n",
      "1000\n"
     ]
    },
    {
     "name": "stderr",
     "output_type": "stream",
     "text": [
      "\r",
      " 20%|████████████████▌                                                                  | 9/45 [01:31<05:58,  9.97s/it]"
     ]
    },
    {
     "name": "stdout",
     "output_type": "stream",
     "text": [
      "1000 1000\n",
      "1000 1000\n",
      "1000\n",
      "1000\n"
     ]
    },
    {
     "name": "stderr",
     "output_type": "stream",
     "text": [
      "\r",
      " 22%|██████████████████▏                                                               | 10/45 [01:35<04:41,  8.05s/it]"
     ]
    },
    {
     "name": "stdout",
     "output_type": "stream",
     "text": [
      "1000 1000\n",
      "1000 1000\n",
      "1000\n",
      "800\n"
     ]
    },
    {
     "name": "stderr",
     "output_type": "stream",
     "text": [
      "\r",
      " 24%|████████████████████                                                              | 11/45 [01:37<03:37,  6.39s/it]"
     ]
    },
    {
     "name": "stdout",
     "output_type": "stream",
     "text": [
      "800 800\n",
      "800 800\n",
      "800\n",
      "500\n"
     ]
    },
    {
     "name": "stderr",
     "output_type": "stream",
     "text": [
      "\r",
      " 27%|█████████████████████▊                                                            | 12/45 [01:39<02:40,  4.87s/it]"
     ]
    },
    {
     "name": "stdout",
     "output_type": "stream",
     "text": [
      "500 500\n",
      "500 500\n",
      "500\n",
      "1000\n"
     ]
    },
    {
     "name": "stderr",
     "output_type": "stream",
     "text": [
      "\r",
      " 29%|███████████████████████▋                                                          | 13/45 [01:42<02:17,  4.29s/it]"
     ]
    },
    {
     "name": "stdout",
     "output_type": "stream",
     "text": [
      "1000 1000\n",
      "1000 1000\n",
      "1000\n",
      "800\n"
     ]
    },
    {
     "name": "stderr",
     "output_type": "stream",
     "text": [
      "\r",
      " 31%|█████████████████████████▌                                                        | 14/45 [01:46<02:17,  4.42s/it]"
     ]
    },
    {
     "name": "stdout",
     "output_type": "stream",
     "text": [
      "800 800\n",
      "800 800\n",
      "800\n",
      "800\n"
     ]
    },
    {
     "name": "stderr",
     "output_type": "stream",
     "text": [
      "\r",
      " 33%|███████████████████████████▎                                                      | 15/45 [01:49<01:56,  3.88s/it]"
     ]
    },
    {
     "name": "stdout",
     "output_type": "stream",
     "text": [
      "800 800\n",
      "800 800\n",
      "800\n",
      "1000\n"
     ]
    },
    {
     "name": "stderr",
     "output_type": "stream",
     "text": [
      "\r",
      " 36%|█████████████████████████████▏                                                    | 16/45 [01:55<02:12,  4.56s/it]"
     ]
    },
    {
     "name": "stdout",
     "output_type": "stream",
     "text": [
      "1000 1000\n",
      "1000 1000\n",
      "1000\n",
      "1200\n"
     ]
    },
    {
     "name": "stderr",
     "output_type": "stream",
     "text": [
      "\r",
      " 38%|██████████████████████████████▉                                                   | 17/45 [02:32<06:42, 14.38s/it]"
     ]
    },
    {
     "name": "stdout",
     "output_type": "stream",
     "text": [
      "1200 1200\n",
      "1200 1200\n",
      "1200\n",
      "1200\n"
     ]
    },
    {
     "name": "stderr",
     "output_type": "stream",
     "text": [
      "\r",
      " 40%|████████████████████████████████▊                                                 | 18/45 [03:08<09:16, 20.62s/it]"
     ]
    },
    {
     "name": "stdout",
     "output_type": "stream",
     "text": [
      "1200 1200\n",
      "1200 1200\n",
      "1200\n",
      "800\n"
     ]
    },
    {
     "name": "stderr",
     "output_type": "stream",
     "text": [
      "\r",
      " 42%|██████████████████████████████████▌                                               | 19/45 [03:10<06:34, 15.18s/it]"
     ]
    },
    {
     "name": "stdout",
     "output_type": "stream",
     "text": [
      "800 800\n",
      "800 800\n",
      "800\n",
      "1000\n"
     ]
    },
    {
     "name": "stderr",
     "output_type": "stream",
     "text": [
      "\r",
      " 44%|████████████████████████████████████▍                                             | 20/45 [03:14<04:55, 11.80s/it]"
     ]
    },
    {
     "name": "stdout",
     "output_type": "stream",
     "text": [
      "1000 1000\n",
      "1000 1000\n",
      "1000\n",
      "1000\n"
     ]
    },
    {
     "name": "stderr",
     "output_type": "stream",
     "text": [
      "\r",
      " 47%|██████████████████████████████████████▎                                           | 21/45 [03:20<04:00, 10.00s/it]"
     ]
    },
    {
     "name": "stdout",
     "output_type": "stream",
     "text": [
      "1000 1000\n",
      "1000 1000\n",
      "1000\n",
      "500\n"
     ]
    },
    {
     "name": "stderr",
     "output_type": "stream",
     "text": [
      "\r",
      " 49%|████████████████████████████████████████                                          | 22/45 [03:21<02:52,  7.51s/it]"
     ]
    },
    {
     "name": "stdout",
     "output_type": "stream",
     "text": [
      "500 500\n",
      "500 500\n",
      "500\n",
      "800\n"
     ]
    },
    {
     "name": "stderr",
     "output_type": "stream",
     "text": [
      "\r",
      " 51%|█████████████████████████████████████████▉                                        | 23/45 [03:24<02:14,  6.10s/it]"
     ]
    },
    {
     "name": "stdout",
     "output_type": "stream",
     "text": [
      "800 800\n",
      "800 800\n",
      "800\n",
      "800\n"
     ]
    },
    {
     "name": "stderr",
     "output_type": "stream",
     "text": [
      "\r",
      " 53%|███████████████████████████████████████████▋                                      | 24/45 [03:27<01:46,  5.06s/it]"
     ]
    },
    {
     "name": "stdout",
     "output_type": "stream",
     "text": [
      "800 800\n",
      "800 800\n",
      "800\n",
      "1000\n"
     ]
    },
    {
     "name": "stderr",
     "output_type": "stream",
     "text": [
      "\r",
      " 56%|█████████████████████████████████████████████▌                                    | 25/45 [03:33<01:49,  5.46s/it]"
     ]
    },
    {
     "name": "stdout",
     "output_type": "stream",
     "text": [
      "1000 1000\n",
      "1000 1000\n",
      "1000\n",
      "1000\n"
     ]
    },
    {
     "name": "stderr",
     "output_type": "stream",
     "text": [
      "\r",
      " 58%|███████████████████████████████████████████████▍                                  | 26/45 [03:39<01:47,  5.67s/it]"
     ]
    },
    {
     "name": "stdout",
     "output_type": "stream",
     "text": [
      "1000 1000\n",
      "1000 1000\n",
      "1000\n",
      "1200\n"
     ]
    },
    {
     "name": "stderr",
     "output_type": "stream",
     "text": [
      "\r",
      " 60%|█████████████████████████████████████████████████▏                                | 27/45 [04:14<04:16, 14.23s/it]"
     ]
    },
    {
     "name": "stdout",
     "output_type": "stream",
     "text": [
      "1200 1200\n",
      "1200 1200\n",
      "1200\n",
      "1200\n"
     ]
    },
    {
     "name": "stderr",
     "output_type": "stream",
     "text": [
      "\r",
      " 62%|███████████████████████████████████████████████████                               | 28/45 [04:49<05:47, 20.45s/it]"
     ]
    },
    {
     "name": "stdout",
     "output_type": "stream",
     "text": [
      "1200 1200\n",
      "1200 1200\n",
      "1200\n",
      "1000\n"
     ]
    },
    {
     "name": "stderr",
     "output_type": "stream",
     "text": [
      "\r",
      " 64%|████████████████████████████████████████████████████▊                             | 29/45 [04:52<04:07, 15.47s/it]"
     ]
    },
    {
     "name": "stdout",
     "output_type": "stream",
     "text": [
      "1000 1000\n",
      "1000 1000\n",
      "1000\n",
      "500\n"
     ]
    },
    {
     "name": "stderr",
     "output_type": "stream",
     "text": [
      "\r",
      " 67%|██████████████████████████████████████████████████████▋                           | 30/45 [04:54<02:49, 11.30s/it]"
     ]
    },
    {
     "name": "stdout",
     "output_type": "stream",
     "text": [
      "500 500\n",
      "500 500\n",
      "500\n",
      "1000\n"
     ]
    },
    {
     "name": "stderr",
     "output_type": "stream",
     "text": [
      "\r",
      " 69%|████████████████████████████████████████████████████████▍                         | 31/45 [04:57<02:04,  8.87s/it]"
     ]
    },
    {
     "name": "stdout",
     "output_type": "stream",
     "text": [
      "1000 1000\n",
      "1000 1000\n",
      "1000\n",
      "500\n"
     ]
    },
    {
     "name": "stderr",
     "output_type": "stream",
     "text": [
      "\r",
      " 71%|██████████████████████████████████████████████████████████▎                       | 32/45 [04:59<01:26,  6.67s/it]"
     ]
    },
    {
     "name": "stdout",
     "output_type": "stream",
     "text": [
      "500 500\n",
      "500 500\n",
      "500\n",
      "1000\n"
     ]
    },
    {
     "name": "stderr",
     "output_type": "stream",
     "text": [
      "\r",
      " 73%|████████████████████████████████████████████████████████████▏                     | 33/45 [05:02<01:07,  5.61s/it]"
     ]
    },
    {
     "name": "stdout",
     "output_type": "stream",
     "text": [
      "1000 1000\n",
      "1000 1000\n",
      "1000\n",
      "1000\n"
     ]
    },
    {
     "name": "stderr",
     "output_type": "stream",
     "text": [
      "\r",
      " 76%|█████████████████████████████████████████████████████████████▉                    | 34/45 [05:06<00:56,  5.14s/it]"
     ]
    },
    {
     "name": "stdout",
     "output_type": "stream",
     "text": [
      "1000 1000\n",
      "1000 1000\n",
      "1000\n",
      "500\n"
     ]
    },
    {
     "name": "stderr",
     "output_type": "stream",
     "text": [
      "\r",
      " 78%|███████████████████████████████████████████████████████████████▊                  | 35/45 [05:07<00:40,  4.05s/it]"
     ]
    },
    {
     "name": "stdout",
     "output_type": "stream",
     "text": [
      "500 500\n",
      "500 500\n",
      "500\n",
      "500\n"
     ]
    },
    {
     "name": "stderr",
     "output_type": "stream",
     "text": [
      "\r",
      " 80%|█████████████████████████████████████████████████████████████████▌                | 36/45 [05:10<00:32,  3.61s/it]"
     ]
    },
    {
     "name": "stdout",
     "output_type": "stream",
     "text": [
      "500 500\n",
      "500 500\n",
      "500\n",
      "1200\n"
     ]
    },
    {
     "name": "stderr",
     "output_type": "stream",
     "text": [
      "\r",
      " 82%|███████████████████████████████████████████████████████████████████▍              | 37/45 [05:47<01:49, 13.67s/it]"
     ]
    },
    {
     "name": "stdout",
     "output_type": "stream",
     "text": [
      "1200 1200\n",
      "1200 1200\n",
      "1200\n",
      "1000\n"
     ]
    },
    {
     "name": "stderr",
     "output_type": "stream",
     "text": [
      "\r",
      " 84%|█████████████████████████████████████████████████████████████████████▏            | 38/45 [05:51<01:13, 10.56s/it]"
     ]
    },
    {
     "name": "stdout",
     "output_type": "stream",
     "text": [
      "1000 1000\n",
      "1000 1000\n",
      "1000\n",
      "1000\n"
     ]
    },
    {
     "name": "stderr",
     "output_type": "stream",
     "text": [
      "\r",
      " 87%|███████████████████████████████████████████████████████████████████████           | 39/45 [05:54<00:49,  8.30s/it]"
     ]
    },
    {
     "name": "stdout",
     "output_type": "stream",
     "text": [
      "1000 1000\n",
      "1000 1000\n",
      "1000\n",
      "800\n"
     ]
    },
    {
     "name": "stderr",
     "output_type": "stream",
     "text": [
      "\r",
      " 89%|████████████████████████████████████████████████████████████████████████▉         | 40/45 [05:56<00:33,  6.62s/it]"
     ]
    },
    {
     "name": "stdout",
     "output_type": "stream",
     "text": [
      "800 800\n",
      "800 800\n",
      "800\n",
      "800\n"
     ]
    },
    {
     "name": "stderr",
     "output_type": "stream",
     "text": [
      "\r",
      " 91%|██████████████████████████████████████████████████████████████████████████▋       | 41/45 [05:59<00:22,  5.55s/it]"
     ]
    },
    {
     "name": "stdout",
     "output_type": "stream",
     "text": [
      "800 800\n",
      "800 800\n",
      "800\n",
      "800\n"
     ]
    },
    {
     "name": "stderr",
     "output_type": "stream",
     "text": [
      "\r",
      " 93%|████████████████████████████████████████████████████████████████████████████▌     | 42/45 [06:03<00:15,  5.11s/it]"
     ]
    },
    {
     "name": "stdout",
     "output_type": "stream",
     "text": [
      "800 800\n",
      "800 800\n",
      "800\n",
      "500\n"
     ]
    },
    {
     "name": "stderr",
     "output_type": "stream",
     "text": [
      "\r",
      " 96%|██████████████████████████████████████████████████████████████████████████████▎   | 43/45 [06:06<00:08,  4.48s/it]"
     ]
    },
    {
     "name": "stdout",
     "output_type": "stream",
     "text": [
      "500 500\n",
      "500 500\n",
      "500\n",
      "1200\n"
     ]
    },
    {
     "name": "stderr",
     "output_type": "stream",
     "text": [
      "\r",
      " 98%|████████████████████████████████████████████████████████████████████████████████▏ | 44/45 [06:44<00:14, 14.35s/it]"
     ]
    },
    {
     "name": "stdout",
     "output_type": "stream",
     "text": [
      "1200 1200\n",
      "1200 1200\n",
      "1200\n",
      "500\n"
     ]
    },
    {
     "name": "stderr",
     "output_type": "stream",
     "text": [
      "100%|██████████████████████████████████████████████████████████████████████████████████| 45/45 [06:45<00:00,  9.01s/it]"
     ]
    },
    {
     "name": "stdout",
     "output_type": "stream",
     "text": [
      "500 500\n",
      "500 500\n"
     ]
    },
    {
     "name": "stderr",
     "output_type": "stream",
     "text": [
      "\n"
     ]
    }
   ],
   "source": [
    "data_size = len(data_test_gpu)\n",
    "# nb_corrects = [[],[],[]]\n",
    "nb_corrects = [[],[]]\n",
    "accs = [[],[],[]]\n",
    "for i in tqdm(range(data_size)):\n",
    "    predictions = net(data_test_gpu[i][0],data_test_gpu[i][2]).squeeze(dim=-1)[:len(data_test_gpu[i][1])]\n",
    "    aux= torch.Tensor([0.5]).to(device)\n",
    "    y_hat = (predictions > aux).float() * 1\n",
    "    res_gcn = y_hat.cpu().numpy()\n",
    "\n",
    "#     score = get_cost_effective(data_test_gpu[i])\n",
    "#     res_coute = heuristique(score,data_test_gpu[i][2])\n",
    "\n",
    "    res_prect = heuristique(predictions,data_test_gpu[i][2])\n",
    "\n",
    "    labels = data_test_gpu[i][1].cpu().numpy()\n",
    "    # print(np.where(res_coute==1),np.where(res_gcn==1),np.where(labels==1),np.where(res_prect==1))\n",
    "    for k,res in enumerate([res_gcn,res_prect]):##,res_coute]):\n",
    "        print(len(res_gcn),len(res_prect))#,len(res_coute))\n",
    "        nb_corret = 0\n",
    "        for j,v in enumerate(res):\n",
    "            nb_corret += int(v == labels[j] and v == 1)\n",
    "        nb_corrects[k].append(nb_corret)\n",
    "        accs[k].append(nb_corret/len(np.where(res==1)[0]))\n",
    "for i in accs:\n",
    "    print(np.mean(i))"
   ]
  },
  {
   "cell_type": "code",
   "execution_count": 19,
   "metadata": {},
   "outputs": [
    {
     "name": "stdout",
     "output_type": "stream",
     "text": [
      "0.9059759455721788\n",
      "0.6178941455705121\n",
      "nan\n"
     ]
    },
    {
     "name": "stderr",
     "output_type": "stream",
     "text": [
      "C:\\Users\\Leonaire\\anaconda3\\lib\\site-packages\\numpy\\core\\fromnumeric.py:3474: RuntimeWarning: Mean of empty slice.\n",
      "  return _methods._mean(a, axis=axis, dtype=dtype,\n",
      "C:\\Users\\Leonaire\\anaconda3\\lib\\site-packages\\numpy\\core\\_methods.py:189: RuntimeWarning: invalid value encountered in double_scalars\n",
      "  ret = ret.dtype.type(ret / rcount)\n"
     ]
    }
   ],
   "source": []
  },
  {
   "cell_type": "code",
   "execution_count": 22,
   "metadata": {},
   "outputs": [],
   "source": [
    "predictions = net(data_test_gpu[0][0],data_test_gpu[0][2]).squeeze(dim=-1)[:len(data_test_gpu[0][1])]\n",
    "aux= torch.Tensor([0.5]).to(device)\n",
    "y_hat = (predictions > aux).float() * 1\n",
    "solu0 = y_hat.cpu().numpy()\n",
    "A0 = data_test_gpu[0][2]"
   ]
  },
  {
   "cell_type": "code",
   "execution_count": 36,
   "metadata": {},
   "outputs": [],
   "source": [
    "def is_realisable(solu,A):\n",
    "    size_var = len(solu)\n",
    "    size_cons = A.shape[0] - size_var\n",
    "    A = A.cpu().numpy()[:size_var,size_cons:]\n",
    "#     print(solu,A)\n",
    "    for i,v in enumerate(solu):\n",
    "        if v:\n",
    "#             print(len(np.where(A[i]!=0)[0]))\n",
    "            for i_cons in np.where(A[i]!=0)[0][::-1]:\n",
    "                A = np.delete(A, i_cons, axis=1)\n",
    "    return A.shape[1]"
   ]
  },
  {
   "cell_type": "code",
   "execution_count": 37,
   "metadata": {},
   "outputs": [
    {
     "name": "stderr",
     "output_type": "stream",
     "text": [
      "100%|██████████████████████████████████████████████████████████████████████████████████| 45/45 [00:26<00:00,  1.69it/s]"
     ]
    },
    {
     "name": "stdout",
     "output_type": "stream",
     "text": [
      "[9, 24, 11, 9, 213, 20, 212, 14, 6, 18, 7, 6, 10, 26, 10, 22, 232, 227, 8, 22, 19, 10, 13, 10, 27, 26, 202, 207, 9, 9, 19, 7, 13, 23, 10, 14, 213, 10, 9, 13, 13, 19, 13, 213, 5]\n"
     ]
    },
    {
     "name": "stderr",
     "output_type": "stream",
     "text": [
      "\n"
     ]
    }
   ],
   "source": [
    "nb_cons_reste = []\n",
    "for i in tqdm(range(data_size)):\n",
    "    predictions = net(data_test_gpu[i][0],data_test_gpu[i][2]).squeeze(dim=-1)[:len(data_test_gpu[i][1])]\n",
    "    aux= torch.Tensor([0.5]).to(device)\n",
    "    y_hat = (predictions > aux).float() * 1\n",
    "    solu = y_hat.cpu().numpy()\n",
    "    A = data_test_gpu[i][2]\n",
    "    nb_cons_reste.append(is_realisable(solu,A))\n",
    "print(nb_cons_reste)"
   ]
  },
  {
   "cell_type": "code",
   "execution_count": 68,
   "metadata": {},
   "outputs": [
    {
     "name": "stdout",
     "output_type": "stream",
     "text": [
      "(array([0, 2, 3], dtype=int64),)\n"
     ]
    }
   ],
   "source": [
    "aux=np.array([[1,0,5,6],[0,1,8,4],[6,3,1,0],[7,3,0,1]])\n",
    "print(np.where(aux[0]!=0))"
   ]
  },
  {
   "cell_type": "code",
   "execution_count": 16,
   "metadata": {},
   "outputs": [
    {
     "data": {
      "image/png": "[encoded data removed]",
      "text/plain": [
       "<Figure size 432x288 with 1 Axes>"
      ]
     },
     "metadata": {
      "needs_background": "light"
     },
     "output_type": "display_data"
    }
   ],
   "source": [
    "prediction_means = prediction_mean/data_size\n",
    "fig, ax = plt.subplots()\n",
    "# acc_one,= ax.plot(range(len(cost_effective_reorder)),cost_effective_reorder, linewidth=2.0,label=r'')\n",
    "nb_one,= ax.plot(range(len(prediction_means)),prediction_means , linewidth=2.0)\n",
    "plt.title(\"Prediction-Cout_Moyen\")\n",
    "plt.xlabel('Ascending order of cost-effective')\n",
    "plt.ylabel('prediction_means')\n",
    "plt.savefig(\"image/Prediction_Cout_Moyen\")\n",
    "plt.grid()\n",
    "plt.show()"
   ]
  },
  {
   "cell_type": "code",
   "execution_count": 100,
   "metadata": {},
   "outputs": [],
   "source": [
    "# model_name = data_name+\"_MLP\"+nb_mlp.__str__()+\"Gamma0.5\"\n",
    "nb_mlp = 1\n",
    "# data_name = \"SC1000\"\n",
    "\n",
    "# model_name = data_name+\"_MLP\"+nb_mlp.__str__()\n",
    "# model_name = data_name+\"_MLP\"+nb_mlp.__str__()+\"Gamma0.5\"\n",
    "# model_name = \"CFL30_NoCov_OnlyOutLayer\"\n",
    "# model_name = \"CFL30_BCE_3MLP\"\n",
    "# model_name = \"SC1000_NoCov_OnlyOutLayer\"\n",
    "model_name = \"SC1000_FL_0.5Gamma_0.25Alpha_1MLP50TailleH\"\n",
    "\n",
    "\n",
    "model_path = \"model/\"+model_name\n",
    "\n",
    "model = VariablePredictor(24,50,nb_mlp).to(device)\n",
    "# model = VariablePredictor_OnlyOutLayer(24,24,nb_mlp).to(device)\n",
    "\n",
    "model.load_state_dict(torch.load(model_path))\n",
    "predictions,labels,y_hats,is_corrects = predict(model,data_test_gpu)\n",
    "# _=valide(model,criterion,data_test_gpu,proportion = 0.9)"
   ]
  },
  {
   "cell_type": "code",
   "execution_count": 139,
   "metadata": {},
   "outputs": [
    {
     "data": {
      "image/png": "[encoded data removed]",
      "text/plain": [
       "<Figure size 432x288 with 1 Axes>"
      ]
     },
     "metadata": {
      "needs_background": "light"
     },
     "output_type": "display_data"
    }
   ],
   "source": [
    "test_epsilon = []\n",
    "epsilons = [0.01 * i for i in range(0,30,1)]+[0.01 * i for i in range(30,51,10)]\n",
    "for e in epsilons:\n",
    "    test_epsilon.append([e]+list(fixe_one_epsilon(predictions,y_hats,labels,e)))\n",
    "header=[\"Epsilon\", \"Accuracy_fixe_one\", \"Number_fixe_one\",\"Correct_One/Total_One\"]\n",
    "# print(tabulate(test_epsilon, headers=header))\n",
    "\n",
    "with open(\"CSV/\"+model_name+\"_epsilon.csv\",\"w\") as csvfile: \n",
    "    writer = csv.writer(csvfile)\n",
    "    writer.writerow(header)\n",
    "    writer.writerows(test_epsilon)\n",
    "\n",
    "fig, ax = plt.subplots()\n",
    "values = np.array(test_epsilon).T\n",
    "acc_one,= ax.plot(values[0], values[1], linewidth=2.0,label=r'Acc_fixe_one')\n",
    "maxv = int(max(values[2]))\n",
    "nb_one,= ax.plot(values[0], values[2]/maxv, linewidth=2.0,label=r'Nb_fixe_one/'+maxv.__str__())\n",
    "plt.legend(handles=[acc_one,nb_one],loc=\"best\",)\n",
    "plt.title(model_name+\"_epsilon\")\n",
    "plt.savefig(\"image/\"+model_name+\"_epsilon.png\")\n",
    "plt.grid()\n",
    "plt.show()\n"
   ]
  },
  {
   "cell_type": "code",
   "execution_count": 140,
   "metadata": {},
   "outputs": [
    {
     "data": {
      "image/png": "[encoded data removed]",
      "text/plain": [
       "<Figure size 432x288 with 1 Axes>"
      ]
     },
     "metadata": {
      "needs_background": "light"
     },
     "output_type": "display_data"
    }
   ],
   "source": [
    "test_values = []\n",
    "proportions = [0.1 * i for i in range(1,8)]+[0.01 * i for i in range(80,101)]\n",
    "for p in proportions:\n",
    "    test_values.append([p]+list(fixe_proportionally(predictions,labels,y_hats,is_corrects,proportion = p)))\n",
    "header=[\"Proportion\", \"Accuracy_fixe_one\", \"Number_fixe_one\",\"Accuracy_fixe_zero\", \"Number_fixe_zero\"] \n",
    "# print(tabulate(test_values, headers=header))\n",
    "\n",
    "with open(\"CSV/\"+model_name+\"_proportion.csv\",\"w\") as csvfile: \n",
    "    writer = csv.writer(csvfile)\n",
    "    writer.writerow(header)\n",
    "    writer.writerows(test_values)\n",
    "\n",
    "fig, ax = plt.subplots()\n",
    "values = np.array(test_values).T\n",
    "acc_one,= ax.plot(values[0], values[1], linewidth=2.0,label=r'Acc_fixe_one')\n",
    "maxv = int(max(values[2]))\n",
    "nb_one,= ax.plot(values[0], values[2]/maxv, linewidth=2.0,label=r'Nb_fixe_one/'+maxv.__str__())\n",
    "plt.legend(handles=[acc_one,nb_one],loc=\"best\",)\n",
    "plt.title(model_name+\"_proportion\")\n",
    "plt.savefig(\"image/\"+model_name+\"_prop.png\")\n",
    "plt.grid()\n",
    "plt.show()"
   ]
  },
  {
   "cell_type": "code",
   "execution_count": null,
   "metadata": {},
   "outputs": [],
   "source": []
  }
 ],
 "metadata": {
  "kernelspec": {
   "display_name": "Python 3",
   "language": "python",
   "name": "python3"
  },
  "language_info": {
   "codemirror_mode": {
    "name": "ipython",
    "version": 3
   },
   "file_extension": ".py",
   "mimetype": "text/x-python",
   "name": "python",
   "nbconvert_exporter": "python",
   "pygments_lexer": "ipython3",
   "version": "3.8.5"
  }
 },
 "nbformat": 4,
 "nbformat_minor": 5
}
