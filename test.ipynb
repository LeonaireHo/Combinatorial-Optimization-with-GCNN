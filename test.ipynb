{
 "cells": [
  {
   "cell_type": "code",
   "execution_count": 1,
   "metadata": {},
   "outputs": [
    {
     "ename": "ModuleNotFoundError",
     "evalue": "No module named 'ecole'",
     "output_type": "error",
     "traceback": [
      "\u001b[1;31m---------------------------------------------------------------------------\u001b[0m",
      "\u001b[1;31mModuleNotFoundError\u001b[0m                       Traceback (most recent call last)",
      "Input \u001b[1;32mIn [1]\u001b[0m, in \u001b[0;36m<cell line: 1>\u001b[1;34m()\u001b[0m\n\u001b[1;32m----> 1\u001b[0m \u001b[38;5;28;01mimport\u001b[39;00m \u001b[38;5;21;01mecole\u001b[39;00m\n\u001b[0;32m      2\u001b[0m \u001b[38;5;28;01mimport\u001b[39;00m \u001b[38;5;21;01mshutil\u001b[39;00m\n\u001b[0;32m      3\u001b[0m \u001b[38;5;28;01mimport\u001b[39;00m \u001b[38;5;21;01mos\u001b[39;00m\n",
      "\u001b[1;31mModuleNotFoundError\u001b[0m: No module named 'ecole'"
     ]
    }
   ],
   "source": [
    "import ecole\n",
    "import shutil\n",
    "import os\n",
    "import sys\n",
    "import time\n",
    "import numpy as np\n",
    "from tqdm import trange\n",
    "import pyscipopt as pyscip\n",
    "import pickle as pkl\n",
    "\n",
    "from generate_data import *\n",
    "from dump_data import *\n",
    "\n",
    "class HiddenPrints:\n",
    "    def __enter__(self):\n",
    "        self._original_stdout = sys.stdout\n",
    "        sys.stdout = open(os.devnull, 'w')\n",
    "\n",
    "    def __exit__(self, exc_type, exc_val, exc_tb):\n",
    "        sys.stdout.close()\n",
    "        sys.stdout = self._original_stdout\n"
   ]
  },
  {
   "cell_type": "markdown",
   "metadata": {},
   "source": [
    "# Generate Problem and collect features"
   ]
  },
  {
   "cell_type": "code",
   "execution_count": null,
   "metadata": {},
   "outputs": [],
   "source": [
    "scip_parameters = {\"branching/scorefunc\": \"s\",\n",
    "                   \"separating/maxrounds\": 0,\n",
    "                   \"limits/time\": 360,\n",
    "                   \"conflict/enable\": False,\n",
    "                   \"presolving/maxrounds\": 0,\n",
    "                   \"presolving/maxrestarts\": 0,\n",
    "                   \"separating/maxroundsroot\" : 0,\n",
    "                   \"separating/maxcutsroot\": 0,\n",
    "                   \"separating/maxcuts\": 0,\n",
    "                   \"propagating/maxroundsroot\" : 0,\n",
    "                   \"lp/presolving\" : False,\n",
    "                  }\n",
    "generate_dataset(scip_parameters,path = \"DataSet/\",\\\n",
    "                 nb_cons = [100,200,300,400,500],nb_var = [1,1.5,2],density = [0.1,0.15,0.2])"
   ]
  },
  {
   "cell_type": "markdown",
   "metadata": {},
   "source": [
    "# Collect labels"
   ]
  },
  {
   "cell_type": "code",
   "execution_count": null,
   "metadata": {},
   "outputs": [],
   "source": [
    "\n",
    "for row in [100,200,300,400,500]:\n",
    "    for coef_col in [1,1.5,2]: \n",
    "        for d in [0.1,0.15,0.2]:\n",
    "            col = int(coef_col * row)\n",
    "            print(\"Solve with Row:%d,Col:%d,Density:%f\" % (row,col,d))\n",
    "            for n in trange(1,101):\n",
    "#                 #save label\n",
    "                with HiddenPrints():\n",
    "                    problme_name = \\\n",
    "                            \"set_cover_{\"+row.__str__()+\"*\"+col.__str__()+\"_\"+d.__str__()+\"_\"+n.__str__()+\"}\"\n",
    "#                     solver = gb.read(\"problem/\"+problme_name+\".lp\")\n",
    "#                     solver.optimize()\n",
    "#                     dumpSolution_Gurobi(\"DataSet/label/\"+problme_name+\"_label.json\",solver)\n",
    "                    solver = ecole.scip.Model.from_file(\"DataSet/\"+problme_name+\"/problem.lp\")\n",
    "                    aspyscip = solver.as_pyscipopt()\n",
    "                    aspyscip.setPresolve(pyscip.SCIP_PARAMSETTING.OFF)\n",
    "                    aspyscip.optimize()\n",
    "                    gapList.append(aspyscip.getGap())\n",
    "                    dumpSolution_Ecole(\"DataSet/\"+problme_name+\"/label.json\",aspyscip)\n",
    "                    \n",
    "gap = np.array(gapList)\n",
    "print(np.mean(gap))\n",
    "print(np.where(gap != 0))"
   ]
  },
  {
   "cell_type": "code",
   "execution_count": null,
   "metadata": {},
   "outputs": [],
   "source": [
    "import ast\n",
    "instance = ecole.scip.Model.from_file(\"DataSet/set_cover_{100*100_0.1_35}/problem.lp\")\n",
    "aspyscip = instance.as_pyscipopt()\n",
    "aspyscip.setPresolve(pyscip.SCIP_PARAMSETTING.OFF)\n",
    "aspyscip.optimize()\n",
    "bestsol = aspyscip.getBestSol()\n",
    "print(bestsol)\n",
    "solutionPool = []\n",
    "for sol in aspyscip.getSols():\n",
    "    solutionPool.append(np.array(list(ast.literal_eval(sol.__repr__()).values())).astype(int))\n",
    "solutions = {\n",
    "    \"Best_Solution\":bestsol.__str__(),\n",
    "    \"Solution_Pool\":aspyscip.getSols().__str__()\n",
    "}\n",
    "print(np.around(list(ast.literal_eval(aspyscip.getSols()[0].__repr__()).values()),0).astype(int).tolist())"
   ]
  },
  {
   "cell_type": "code",
   "execution_count": null,
   "metadata": {},
   "outputs": [],
   "source": [
    "#scip\n",
    "with HiddenPrints():\n",
    "    model_scip = pyscip.scip.Model()\n",
    "    model_scip.setPresolve(pyscip.SCIP_PARAMSETTING.OFF)\n",
    "    model_scip.readProblem(filename=\"debugFile/set_cover_test.lp\",extension = \"lp\")\n",
    "    # model_scip.readProblem(filename=\"debugFile/debug_diffc.lp\",extension = \"lp\")\n",
    "\n",
    "model_scip.optimize()\n",
    "# time.sleep(1)\n",
    "print(\"\\n\",model_scip.getBestSol())\n",
    "\n",
    "# print(\"Ecole*********************\")\n",
    "# # with HiddenPrints():\n",
    "# solver = ecole.scip.Model.from_file(\"debugFile/debug.lp\")\n",
    "# aspyscip = solver.as_pyscipopt()\n",
    "# aspyscip.setPresolve(pyscip.SCIP_PARAMSETTING.OFF)\n",
    "# aspyscip.optimize()\n",
    "# gap = aspyscip.getGap()\n",
    "# sol = aspyscip.getBestSol()\n",
    "# print(sol,gap)\n",
    "\n",
    "# #gurobi\n",
    "# print(\"Gurobi*********************\")\n",
    "# with HiddenPrints():\n",
    "#     model = gb.read(\"debugFile/debug.lp\")\n",
    "#     model.optimize()\n",
    "# for var in model.getVars():\n",
    "#     print(f\"{var.varName}: {round(var.X, 3)}\")\n",
    "\n"
   ]
  },
  {
   "cell_type": "code",
   "execution_count": null,
   "metadata": {},
   "outputs": [],
   "source": [
    "original_indice = obs.variable_features[:,-1]\n",
    "print(original_indice)"
   ]
  },
  {
   "cell_type": "code",
   "execution_count": null,
   "metadata": {},
   "outputs": [],
   "source": [
    "dumpEdgeFeatures(\"debugFile/test_EDGEFE.json\",obs.edge_features,original_indice)\n",
    "dumpRowFeatures(\"debugFile/test_ROWFE.json\",obs.row_features)\n",
    "dumpVariableFeatures(\"debugFile/test_VarFE.json\",obs.variable_features)"
   ]
  },
  {
   "cell_type": "code",
   "execution_count": null,
   "metadata": {},
   "outputs": [],
   "source": [
    "\n",
    "aspyscip = instance.as_pyscipopt()\n",
    "aspyscip.setPresolve(pyscip.SCIP_PARAMSETTING.OFF)\n",
    "aspyscip.optimize()\n",
    "dumpSolution_Ecole(\"debugFile/label.json\",aspyscip)"
   ]
  },
  {
   "cell_type": "code",
   "execution_count": null,
   "metadata": {},
   "outputs": [],
   "source": [
    "#bias\n",
    "print(obs.RowFeatures.value)\n",
    "print(action_set)"
   ]
  },
  {
   "cell_type": "code",
   "execution_count": null,
   "metadata": {},
   "outputs": [],
   "source": [
    "aspyscip = instance.as_pyscipopt()\n",
    "aspyscip.setPresolve(pyscip.SCIP_PARAMSETTING.OFF)\n",
    "aspyscip.optimize()\n",
    "gapList.append(aspyscip.getGap())\n",
    "dumpSolution_Ecole(\"debugFile/label_test.json\",aspyscip)"
   ]
  },
  {
   "cell_type": "code",
   "execution_count": null,
   "metadata": {},
   "outputs": [],
   "source": [
    "print(env.model)\n",
    "print(instance)\n",
    "aspyscip = env.model.as_pyscipopt()\n",
    "variable = aspyscip.getVars()\n",
    "for var in variable:\n",
    "    print(var.getObj() )"
   ]
  },
  {
   "cell_type": "code",
   "execution_count": null,
   "metadata": {},
   "outputs": [],
   "source": [
    "for row in [100,150,200]:\n",
    "    for coef_col in [1,1.5,2]: \n",
    "        for d in [0.1,0.15,0.2]:\n",
    "            col = int(coef_col * row)\n",
    "            print(\"Solve with Row:%d,Col:%d,Density:%f\" % (row,col,d))\n",
    "            for n in range(1,2):\n",
    "#                 #save label\n",
    "                problme_name = \\\n",
    "                        \"set_cover_{\"+row.__str__()+\"*\"+col.__str__()+\"_\"+d.__str__()+\"_\"+n.__str__()+\"}\"\n",
    "#                     solver = gb.read(\"problem/\"+problme_name+\".lp\")\n",
    "#                     solver.optimize()\n",
    "#                     dumpSolution_Gurobi(\"DataSet/label/\"+problme_name+\"_label.json\",solver)\n",
    "#                 solver = ecole.scip.Model.from_file(\"DataSet/problem/\"+problme_name+\".lp\")\n",
    "#                 aspyscip = solver.as_pyscipopt()\n",
    "#                 aspyscip.setPresolve(pyscip.SCIP_PARAMSETTING.OFF)\n",
    "#                 aspyscip.optimize()\n",
    "                model_scip = pyscip.scip.Model()\n",
    "                model_scip.setPresolve(pyscip.SCIP_PARAMSETTING.OFF)\n",
    "                model_scip.readProblem(filename=\"DataSet/problem/\"+problme_name+\".lp\")\n",
    "                model_scip.optimize()"
   ]
  },
  {
   "cell_type": "code",
   "execution_count": 18,
   "metadata": {},
   "outputs": [
    {
     "name": "stdout",
     "output_type": "stream",
     "text": [
      "[0, 0, 1, 1, 2, 2, 2, 2, 3, 3, 3, 3] [3, 3, 3, 3, 3, 3, 3, 2, 2, 2, 1, 0]\n"
     ]
    },
    {
     "data": {
      "text/plain": [
       "6"
      ]
     },
     "execution_count": 18,
     "metadata": {},
     "output_type": "execute_result"
    }
   ],
   "source": [
    "def trap(height):\n",
    "    l = len(height)-1\n",
    "    left_max,right = height[0],height[l]\n",
    "    left,right = 1,l-1 \n",
    "    res = 0\n",
    "    while left < right:\n",
    "        if height[left]>left_max:\n",
    "            left_max = height[left]\n",
    "        if height[left]<left_max:\n",
    "            \n",
    "    \n",
    "trap([0,1,0,2,1,0,1,3,2,1,2,1])"
   ]
  },
  {
   "cell_type": "code",
   "execution_count": 45,
   "metadata": {},
   "outputs": [
    {
     "ename": "KeyboardInterrupt",
     "evalue": "",
     "output_type": "error",
     "traceback": [
      "\u001b[1;31m---------------------------------------------------------------------------\u001b[0m",
      "\u001b[1;31mKeyboardInterrupt\u001b[0m                         Traceback (most recent call last)",
      "\u001b[1;32m<ipython-input-45-c800b084bd99>\u001b[0m in \u001b[0;36m<module>\u001b[1;34m\u001b[0m\n\u001b[0;32m     20\u001b[0m         \u001b[1;32mreturn\u001b[0m \u001b[0mup\u001b[0m\u001b[1;33m<=\u001b[0m\u001b[0mright\u001b[0m \u001b[1;32mand\u001b[0m \u001b[0mleft\u001b[0m\u001b[1;33m<=\u001b[0m\u001b[0mright\u001b[0m \u001b[1;32mand\u001b[0m \u001b[0mmatrix\u001b[0m\u001b[1;33m[\u001b[0m\u001b[0mup\u001b[0m\u001b[1;33m]\u001b[0m\u001b[1;33m[\u001b[0m\u001b[0mright\u001b[0m\u001b[1;33m]\u001b[0m\u001b[1;33m==\u001b[0m\u001b[0mtarget\u001b[0m\u001b[1;33m\u001b[0m\u001b[1;33m\u001b[0m\u001b[0m\n\u001b[0;32m     21\u001b[0m \u001b[0msolu\u001b[0m \u001b[1;33m=\u001b[0m \u001b[0mSolution\u001b[0m\u001b[1;33m(\u001b[0m\u001b[1;33m)\u001b[0m\u001b[1;33m\u001b[0m\u001b[1;33m\u001b[0m\u001b[0m\n\u001b[1;32m---> 22\u001b[1;33m \u001b[0msolu\u001b[0m\u001b[1;33m.\u001b[0m\u001b[0msearchMatrix\u001b[0m\u001b[1;33m(\u001b[0m\u001b[1;33m[\u001b[0m\u001b[1;33m[\u001b[0m\u001b[1;36m1\u001b[0m\u001b[1;33m,\u001b[0m\u001b[1;36m1\u001b[0m\u001b[1;33m]\u001b[0m\u001b[1;33m]\u001b[0m\u001b[1;33m,\u001b[0m\u001b[1;36m1\u001b[0m\u001b[1;33m)\u001b[0m\u001b[1;33m\u001b[0m\u001b[1;33m\u001b[0m\u001b[0m\n\u001b[0m",
      "\u001b[1;32m<ipython-input-45-c800b084bd99>\u001b[0m in \u001b[0;36msearchMatrix\u001b[1;34m(self, matrix, target)\u001b[0m\n\u001b[0;32m     14\u001b[0m                     \u001b[0mdown\u001b[0m\u001b[1;33m-=\u001b[0m\u001b[1;36m1\u001b[0m\u001b[1;33m\u001b[0m\u001b[1;33m\u001b[0m\u001b[0m\n\u001b[0;32m     15\u001b[0m             \u001b[1;32mif\u001b[0m \u001b[0mleft\u001b[0m\u001b[1;33m<\u001b[0m\u001b[0mright\u001b[0m\u001b[1;33m:\u001b[0m\u001b[1;33m\u001b[0m\u001b[1;33m\u001b[0m\u001b[0m\n\u001b[1;32m---> 16\u001b[1;33m                 \u001b[1;32mif\u001b[0m \u001b[0mmatrix\u001b[0m\u001b[1;33m[\u001b[0m\u001b[0mdown\u001b[0m\u001b[1;33m]\u001b[0m\u001b[1;33m[\u001b[0m\u001b[0mleft\u001b[0m\u001b[1;33m]\u001b[0m\u001b[1;33m<\u001b[0m\u001b[0mtarget\u001b[0m\u001b[1;33m:\u001b[0m\u001b[1;33m\u001b[0m\u001b[1;33m\u001b[0m\u001b[0m\n\u001b[0m\u001b[0;32m     17\u001b[0m                     \u001b[0mleft\u001b[0m\u001b[1;33m+=\u001b[0m\u001b[1;36m1\u001b[0m\u001b[1;33m\u001b[0m\u001b[1;33m\u001b[0m\u001b[0m\n\u001b[0;32m     18\u001b[0m                 \u001b[1;32mif\u001b[0m \u001b[0mmatrix\u001b[0m\u001b[1;33m[\u001b[0m\u001b[0mup\u001b[0m\u001b[1;33m]\u001b[0m\u001b[1;33m[\u001b[0m\u001b[0mright\u001b[0m\u001b[1;33m]\u001b[0m\u001b[1;33m>\u001b[0m\u001b[0mtarget\u001b[0m\u001b[1;33m:\u001b[0m\u001b[1;33m\u001b[0m\u001b[1;33m\u001b[0m\u001b[0m\n",
      "\u001b[1;31mKeyboardInterrupt\u001b[0m: "
     ]
    }
   ],
   "source": [
    "# Input: matrix = [[1,4,7,11,15],[2,5,8,12,19],[3,6,9,16,22],[10,13,14,17,24],[18,21,23,26,30]], target = 5\n",
    "# Output: true\n",
    "class Solution:\n",
    "    def searchMatrix(self, matrix, target):\n",
    "        up = 0\n",
    "        down = len(matrix)-1\n",
    "        left = 0\n",
    "        right = len(matrix[0])-1\n",
    "        while(up < down or left < right):\n",
    "            if up < down:\n",
    "                if matrix[up][right]<target:\n",
    "                    up+=1\n",
    "                if matrix[down][left]>target:\n",
    "                    down-=1\n",
    "            if left<right:\n",
    "                if matrix[down][left]<target:\n",
    "                    left+=1\n",
    "                if matrix[up][right]>target:\n",
    "                    right-=1\n",
    "        return up<=right and left<=right and matrix[up][right]==target\n",
    "solu = Solution()\n",
    "solu.searchMatrix([[1,1]],1)"
   ]
  },
  {
   "cell_type": "code",
   "execution_count": 44,
   "metadata": {},
   "outputs": [
    {
     "name": "stdout",
     "output_type": "stream",
     "text": [
      "[9] [9] [20, 15, 7] [15, 20, 7]\n",
      "[15] [15] [7] [7]\n"
     ]
    },
    {
     "data": {
      "text/plain": [
       "[3, 9, 20, 15, 7]"
      ]
     },
     "execution_count": 44,
     "metadata": {},
     "output_type": "execute_result"
    }
   ],
   "source": [
    "# Input: preorder = [3,9,20,15,7], inorder = [9,3,15,20,7]\n",
    "# Output: [3,9,20,null,null,15,7]\n",
    "# Definition for a binary tree node.\n",
    "# class TreeNode:\n",
    "#     def __init__(self, val=0, left=None, right=None):\n",
    "#         self.val = val\n",
    "#         self.left = left\n",
    "#         self.right = right\n",
    "class Solution:        \n",
    "    def buildTree(self, preorder, inorder):\n",
    "        if len(preorder)==0:\n",
    "            return [None]\n",
    "        if len(preorder)==1:\n",
    "            return preorder\n",
    "        if len(preorder)==2:\n",
    "            return preorder+[None]\n",
    "        racine = preorder[0]\n",
    "        indx = 0\n",
    "        for i,v in enumerate(inorder):\n",
    "            if v == racine:\n",
    "                indx = i\n",
    "                break\n",
    "        sous_inorder = inorder[:i]\n",
    "        print(preorder[1:len(sous_inorder)+1],sous_inorder,preorder[len(sous_inorder)+1:],inorder[len(sous_inorder)+1:])\n",
    "        return [preorder[0]]+self.buildTree(preorder[1:len(sous_inorder)+1],sous_inorder)+\\\n",
    "                self.buildTree(preorder[len(sous_inorder)+1:],inorder[len(sous_inorder)+1:]\n",
    "        )\n",
    "        \n",
    "        \n",
    "solu = Solution()   \n",
    "solu.buildTree([3,9,20,15,7],[9,3,15,20,7])"
   ]
  },
  {
   "cell_type": "code",
   "execution_count": null,
   "metadata": {},
   "outputs": [],
   "source": []
  }
 ],
 "metadata": {
  "kernelspec": {
   "display_name": "Python 3",
   "language": "python",
   "name": "python3"
  },
  "language_info": {
   "codemirror_mode": {
    "name": "ipython",
    "version": 3
   },
   "file_extension": ".py",
   "mimetype": "text/x-python",
   "name": "python",
   "nbconvert_exporter": "python",
   "pygments_lexer": "ipython3",
   "version": "3.8.5"
  }
 },
 "nbformat": 4,
 "nbformat_minor": 5
}
